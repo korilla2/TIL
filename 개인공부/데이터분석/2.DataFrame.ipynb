{
 "cells": [
  {
   "cell_type": "code",
   "execution_count": 3,
   "metadata": {},
   "outputs": [],
   "source": [
    "import pandas as pd\n",
    "import numpy as np"
   ]
  },
  {
   "cell_type": "code",
   "execution_count": 2,
   "metadata": {},
   "outputs": [
    {
     "data": {
      "text/html": [
       "<div>\n",
       "<style scoped>\n",
       "    .dataframe tbody tr th:only-of-type {\n",
       "        vertical-align: middle;\n",
       "    }\n",
       "\n",
       "    .dataframe tbody tr th {\n",
       "        vertical-align: top;\n",
       "    }\n",
       "\n",
       "    .dataframe thead th {\n",
       "        text-align: right;\n",
       "    }\n",
       "</style>\n",
       "<table border=\"1\" class=\"dataframe\">\n",
       "  <thead>\n",
       "    <tr style=\"text-align: right;\">\n",
       "      <th></th>\n",
       "      <th>A</th>\n",
       "      <th>B</th>\n",
       "      <th>D</th>\n",
       "      <th>C</th>\n",
       "    </tr>\n",
       "  </thead>\n",
       "  <tbody>\n",
       "    <tr>\n",
       "      <th>0</th>\n",
       "      <td>2</td>\n",
       "      <td>4</td>\n",
       "      <td>3.0</td>\n",
       "      <td>NaN</td>\n",
       "    </tr>\n",
       "    <tr>\n",
       "      <th>1</th>\n",
       "      <td>4</td>\n",
       "      <td>5</td>\n",
       "      <td>NaN</td>\n",
       "      <td>7.0</td>\n",
       "    </tr>\n",
       "  </tbody>\n",
       "</table>\n",
       "</div>"
      ],
      "text/plain": [
       "   A  B    D    C\n",
       "0  2  4  3.0  NaN\n",
       "1  4  5  NaN  7.0"
      ]
     },
     "execution_count": 2,
     "metadata": {},
     "output_type": "execute_result"
    }
   ],
   "source": [
    "pd.DataFrame([{'A':2, 'B':4, 'D':3}, {'A':4, 'B':5, 'C':7}])"
   ]
  },
  {
   "cell_type": "code",
   "execution_count": 4,
   "metadata": {},
   "outputs": [
    {
     "data": {
      "text/html": [
       "<div>\n",
       "<style scoped>\n",
       "    .dataframe tbody tr th:only-of-type {\n",
       "        vertical-align: middle;\n",
       "    }\n",
       "\n",
       "    .dataframe tbody tr th {\n",
       "        vertical-align: top;\n",
       "    }\n",
       "\n",
       "    .dataframe thead th {\n",
       "        text-align: right;\n",
       "    }\n",
       "</style>\n",
       "<table border=\"1\" class=\"dataframe\">\n",
       "  <thead>\n",
       "    <tr style=\"text-align: right;\">\n",
       "      <th></th>\n",
       "      <th>A</th>\n",
       "      <th>B</th>\n",
       "      <th>C</th>\n",
       "      <th>D</th>\n",
       "      <th>E</th>\n",
       "    </tr>\n",
       "  </thead>\n",
       "  <tbody>\n",
       "    <tr>\n",
       "      <th>1</th>\n",
       "      <td>0.194968</td>\n",
       "      <td>0.275871</td>\n",
       "      <td>0.921912</td>\n",
       "      <td>0.845467</td>\n",
       "      <td>0.956571</td>\n",
       "    </tr>\n",
       "    <tr>\n",
       "      <th>2</th>\n",
       "      <td>0.159629</td>\n",
       "      <td>0.263145</td>\n",
       "      <td>0.295891</td>\n",
       "      <td>0.219096</td>\n",
       "      <td>0.157035</td>\n",
       "    </tr>\n",
       "    <tr>\n",
       "      <th>3</th>\n",
       "      <td>0.391946</td>\n",
       "      <td>0.574886</td>\n",
       "      <td>0.394285</td>\n",
       "      <td>0.754035</td>\n",
       "      <td>0.374137</td>\n",
       "    </tr>\n",
       "    <tr>\n",
       "      <th>4</th>\n",
       "      <td>0.590148</td>\n",
       "      <td>0.298470</td>\n",
       "      <td>0.005946</td>\n",
       "      <td>0.776189</td>\n",
       "      <td>0.612477</td>\n",
       "    </tr>\n",
       "    <tr>\n",
       "      <th>5</th>\n",
       "      <td>0.768183</td>\n",
       "      <td>0.221384</td>\n",
       "      <td>0.030499</td>\n",
       "      <td>0.664092</td>\n",
       "      <td>0.413553</td>\n",
       "    </tr>\n",
       "  </tbody>\n",
       "</table>\n",
       "</div>"
      ],
      "text/plain": [
       "          A         B         C         D         E\n",
       "1  0.194968  0.275871  0.921912  0.845467  0.956571\n",
       "2  0.159629  0.263145  0.295891  0.219096  0.157035\n",
       "3  0.391946  0.574886  0.394285  0.754035  0.374137\n",
       "4  0.590148  0.298470  0.005946  0.776189  0.612477\n",
       "5  0.768183  0.221384  0.030499  0.664092  0.413553"
      ]
     },
     "execution_count": 4,
     "metadata": {},
     "output_type": "execute_result"
    }
   ],
   "source": [
    "pd.DataFrame(np.random.rand(5, 5),\n",
    "             columns =['A', 'B', 'C', 'D', 'E'],\n",
    "             index = [1, 2, 3, 4, 5])"
   ]
  },
  {
   "cell_type": "code",
   "execution_count": 7,
   "metadata": {},
   "outputs": [
    {
     "data": {
      "text/plain": [
       "서울특별시     9720846\n",
       "부산광역시     3404424\n",
       "인천광역시     2947217\n",
       "대전광역시     1471040\n",
       "광주광역시    14455048\n",
       "dtype: int64"
      ]
     },
     "execution_count": 7,
     "metadata": {},
     "output_type": "execute_result"
    }
   ],
   "source": [
    "pop_tuple = {'서울특별시': 9720846,\n",
    "             '부산광역시': 3404424,\n",
    "             '인천광역시': 2947217,\n",
    "             '대전광역시': 1471040,\n",
    "             '광주광역시': 14455048}\n",
    "\n",
    "population = pd.Series(pop_tuple)\n",
    "population\n"
   ]
  },
  {
   "cell_type": "code",
   "execution_count": 5,
   "metadata": {},
   "outputs": [
    {
     "data": {
      "text/plain": [
       "서울특별시    4732275\n",
       "부산광역시    1668618\n",
       "인천광역시    1476813\n",
       "대전광역시     734441\n",
       "광주광역시     720060\n",
       "dtype: int64"
      ]
     },
     "execution_count": 5,
     "metadata": {},
     "output_type": "execute_result"
    }
   ],
   "source": [
    "male_tuple = {'서울특별시': 4732275,\n",
    "             '부산광역시': 1668618,\n",
    "             '인천광역시': 1476813,\n",
    "             '대전광역시': 734441,\n",
    "             '광주광역시': 720060}\n",
    "\n",
    "male = pd.Series(male_tuple)\n",
    "male\n"
   ]
  },
  {
   "cell_type": "code",
   "execution_count": 6,
   "metadata": {},
   "outputs": [
    {
     "data": {
      "text/plain": [
       "서울특별시    4988571\n",
       "부산광역시    1735805\n",
       "인천광역시    1470404\n",
       "대전광역시    1229139\n",
       "광주광역시     734988\n",
       "dtype: int64"
      ]
     },
     "execution_count": 6,
     "metadata": {},
     "output_type": "execute_result"
    }
   ],
   "source": [
    "female_tuple = {'서울특별시': 4988571,\n",
    "              '부산광역시': 1735805,\n",
    "              '인천광역시': 1470404,\n",
    "              '대전광역시': 1229139,\n",
    "              '광주광역시': 734988}\n",
    "\n",
    "female = pd.Series(female_tuple)\n",
    "female\n"
   ]
  },
  {
   "cell_type": "code",
   "execution_count": 9,
   "metadata": {},
   "outputs": [
    {
     "data": {
      "text/html": [
       "<div>\n",
       "<style scoped>\n",
       "    .dataframe tbody tr th:only-of-type {\n",
       "        vertical-align: middle;\n",
       "    }\n",
       "\n",
       "    .dataframe tbody tr th {\n",
       "        vertical-align: top;\n",
       "    }\n",
       "\n",
       "    .dataframe thead th {\n",
       "        text-align: right;\n",
       "    }\n",
       "</style>\n",
       "<table border=\"1\" class=\"dataframe\">\n",
       "  <thead>\n",
       "    <tr style=\"text-align: right;\">\n",
       "      <th></th>\n",
       "      <th>인구수</th>\n",
       "      <th>남자인구수</th>\n",
       "      <th>여자인구수</th>\n",
       "    </tr>\n",
       "  </thead>\n",
       "  <tbody>\n",
       "    <tr>\n",
       "      <th>서울특별시</th>\n",
       "      <td>9720846</td>\n",
       "      <td>4732275</td>\n",
       "      <td>4988571</td>\n",
       "    </tr>\n",
       "    <tr>\n",
       "      <th>부산광역시</th>\n",
       "      <td>3404424</td>\n",
       "      <td>1668618</td>\n",
       "      <td>1735805</td>\n",
       "    </tr>\n",
       "    <tr>\n",
       "      <th>인천광역시</th>\n",
       "      <td>2947217</td>\n",
       "      <td>1476813</td>\n",
       "      <td>1470404</td>\n",
       "    </tr>\n",
       "    <tr>\n",
       "      <th>대전광역시</th>\n",
       "      <td>1471040</td>\n",
       "      <td>734441</td>\n",
       "      <td>1229139</td>\n",
       "    </tr>\n",
       "    <tr>\n",
       "      <th>광주광역시</th>\n",
       "      <td>14455048</td>\n",
       "      <td>720060</td>\n",
       "      <td>734988</td>\n",
       "    </tr>\n",
       "  </tbody>\n",
       "</table>\n",
       "</div>"
      ],
      "text/plain": [
       "            인구수    남자인구수    여자인구수\n",
       "서울특별시   9720846  4732275  4988571\n",
       "부산광역시   3404424  1668618  1735805\n",
       "인천광역시   2947217  1476813  1470404\n",
       "대전광역시   1471040   734441  1229139\n",
       "광주광역시  14455048   720060   734988"
      ]
     },
     "execution_count": 9,
     "metadata": {},
     "output_type": "execute_result"
    }
   ],
   "source": [
    "korea_df = pd.DataFrame({'인구수': population,\n",
    "                         '남자인구수': male,\n",
    "                         '여자인구수':female})\n",
    "korea_df"
   ]
  },
  {
   "cell_type": "code",
   "execution_count": 10,
   "metadata": {},
   "outputs": [
    {
     "data": {
      "text/plain": [
       "Index(['서울특별시', '부산광역시', '인천광역시', '대전광역시', '광주광역시'], dtype='object')"
      ]
     },
     "execution_count": 10,
     "metadata": {},
     "output_type": "execute_result"
    }
   ],
   "source": [
    "korea_df.index"
   ]
  },
  {
   "cell_type": "code",
   "execution_count": 11,
   "metadata": {},
   "outputs": [
    {
     "data": {
      "text/plain": [
       "Index(['인구수', '남자인구수', '여자인구수'], dtype='object')"
      ]
     },
     "execution_count": 11,
     "metadata": {},
     "output_type": "execute_result"
    }
   ],
   "source": [
    "korea_df.columns"
   ]
  },
  {
   "cell_type": "code",
   "execution_count": 12,
   "metadata": {},
   "outputs": [
    {
     "data": {
      "text/plain": [
       "서울특별시    4988571\n",
       "부산광역시    1735805\n",
       "인천광역시    1470404\n",
       "대전광역시    1229139\n",
       "광주광역시     734988\n",
       "Name: 여자인구수, dtype: int64"
      ]
     },
     "execution_count": 12,
     "metadata": {},
     "output_type": "execute_result"
    }
   ],
   "source": [
    "korea_df['여자인구수']"
   ]
  },
  {
   "cell_type": "code",
   "execution_count": 13,
   "metadata": {},
   "outputs": [
    {
     "data": {
      "text/html": [
       "<div>\n",
       "<style scoped>\n",
       "    .dataframe tbody tr th:only-of-type {\n",
       "        vertical-align: middle;\n",
       "    }\n",
       "\n",
       "    .dataframe tbody tr th {\n",
       "        vertical-align: top;\n",
       "    }\n",
       "\n",
       "    .dataframe thead th {\n",
       "        text-align: right;\n",
       "    }\n",
       "</style>\n",
       "<table border=\"1\" class=\"dataframe\">\n",
       "  <thead>\n",
       "    <tr style=\"text-align: right;\">\n",
       "      <th></th>\n",
       "      <th>인구수</th>\n",
       "      <th>남자인구수</th>\n",
       "      <th>여자인구수</th>\n",
       "    </tr>\n",
       "  </thead>\n",
       "  <tbody>\n",
       "    <tr>\n",
       "      <th>서울특별시</th>\n",
       "      <td>9720846</td>\n",
       "      <td>4732275</td>\n",
       "      <td>4988571</td>\n",
       "    </tr>\n",
       "    <tr>\n",
       "      <th>부산광역시</th>\n",
       "      <td>3404424</td>\n",
       "      <td>1668618</td>\n",
       "      <td>1735805</td>\n",
       "    </tr>\n",
       "    <tr>\n",
       "      <th>인천광역시</th>\n",
       "      <td>2947217</td>\n",
       "      <td>1476813</td>\n",
       "      <td>1470404</td>\n",
       "    </tr>\n",
       "  </tbody>\n",
       "</table>\n",
       "</div>"
      ],
      "text/plain": [
       "           인구수    남자인구수    여자인구수\n",
       "서울특별시  9720846  4732275  4988571\n",
       "부산광역시  3404424  1668618  1735805\n",
       "인천광역시  2947217  1476813  1470404"
      ]
     },
     "execution_count": 13,
     "metadata": {},
     "output_type": "execute_result"
    }
   ],
   "source": [
    "korea_df['서울특별시':'인천광역시']"
   ]
  },
  {
   "cell_type": "code",
   "execution_count": 14,
   "metadata": {},
   "outputs": [
    {
     "data": {
      "text/plain": [
       "Int64Index([2, 4, 6, 8, 10], dtype='int64')"
      ]
     },
     "execution_count": 14,
     "metadata": {},
     "output_type": "execute_result"
    }
   ],
   "source": [
    "idx = pd.Index([2, 4, 6, 8, 10])\n",
    "idx"
   ]
  },
  {
   "cell_type": "code",
   "execution_count": 15,
   "metadata": {},
   "outputs": [
    {
     "data": {
      "text/plain": [
       "4"
      ]
     },
     "execution_count": 15,
     "metadata": {},
     "output_type": "execute_result"
    }
   ],
   "source": [
    "idx[1]"
   ]
  },
  {
   "cell_type": "code",
   "execution_count": 16,
   "metadata": {},
   "outputs": [
    {
     "data": {
      "text/plain": [
       "Int64Index([4], dtype='int64')"
      ]
     },
     "execution_count": 16,
     "metadata": {},
     "output_type": "execute_result"
    }
   ],
   "source": [
    "idx[1:2:2]"
   ]
  },
  {
   "cell_type": "code",
   "execution_count": 17,
   "metadata": {},
   "outputs": [
    {
     "data": {
      "text/plain": [
       "Int64Index([10], dtype='int64')"
      ]
     },
     "execution_count": 17,
     "metadata": {},
     "output_type": "execute_result"
    }
   ],
   "source": [
    "idx[-1::]"
   ]
  },
  {
   "cell_type": "code",
   "execution_count": 18,
   "metadata": {},
   "outputs": [
    {
     "data": {
      "text/plain": [
       "Int64Index([2, 6, 10], dtype='int64')"
      ]
     },
     "execution_count": 18,
     "metadata": {},
     "output_type": "execute_result"
    }
   ],
   "source": [
    "idx[::2]"
   ]
  },
  {
   "cell_type": "code",
   "execution_count": 19,
   "metadata": {},
   "outputs": [
    {
     "name": "stdout",
     "output_type": "stream",
     "text": [
      "Int64Index([2, 4, 6, 8, 10], dtype='int64')\n",
      "5\n",
      "(5,)\n",
      "1\n",
      "int64\n"
     ]
    }
   ],
   "source": [
    "print(idx)\n",
    "print(idx.size)\n",
    "print(idx.shape)\n",
    "print(idx.ndim)\n",
    "print(idx.dtype)"
   ]
  },
  {
   "cell_type": "code",
   "execution_count": 20,
   "metadata": {},
   "outputs": [
    {
     "name": "stdout",
     "output_type": "stream",
     "text": [
      "Int64Index([1, 2, 4, 6, 8, 2, 4, 5, 6, 7], dtype='int64')\n"
     ]
    }
   ],
   "source": [
    "idx1 = pd.Index([1, 2, 4, 6, 8])\n",
    "idx2 = pd.Index([2, 4, 5, 6, 7])\n",
    "\n",
    "print(idx1.append(idx2))"
   ]
  },
  {
   "cell_type": "code",
   "execution_count": 32,
   "metadata": {},
   "outputs": [
    {
     "name": "stdout",
     "output_type": "stream",
     "text": [
      "Int64Index([1, 8], dtype='int64')\n",
      "Int64Index([-1, -2, -1, 0, 1], dtype='int64')\n",
      "Int64Index([2, 4, 6], dtype='int64')\n",
      "Int64Index([2, 4, 6], dtype='int64')\n",
      "Int64Index([1, 2, 4, 5, 6, 7, 8], dtype='int64')\n",
      "Int64Index([1, 2, 4, 5, 6, 7, 8], dtype='int64')\n",
      "Int64Index([2, 4, 6, 8], dtype='int64')\n",
      "Int64Index([2, 4, 6, 8], dtype='int64')\n",
      "Int64Index([1, 5, 7, 8], dtype='int64')\n"
     ]
    },
    {
     "name": "stderr",
     "output_type": "stream",
     "text": [
      "<ipython-input-32-1ec45eef442a>:4: FutureWarning: Index.__and__ operating as a set operation is deprecated, in the future this will be a logical operation matching Series.__and__.  Use index.intersection(other) instead\n",
      "  print(idx1 & idx2)\n",
      "<ipython-input-32-1ec45eef442a>:6: FutureWarning: Index.__or__ operating as a set operation is deprecated, in the future this will be a logical operation matching Series.__or__.  Use index.union(other) instead\n",
      "  print(idx1 | idx2)\n",
      "<ipython-input-32-1ec45eef442a>:9: FutureWarning: Index.__xor__ operating as a set operation is deprecated, in the future this will be a logical operation matching Series.__xor__.  Use index.symmetric_difference(other) instead\n",
      "  print(idx1 ^ idx2)\n"
     ]
    }
   ],
   "source": [
    "print(idx1.difference(idx2))\n",
    "print(idx1-idx2)\n",
    "print(idx1.intersection(idx2))\n",
    "print(idx1 & idx2)\n",
    "print(idx1.union(idx2))\n",
    "print(idx1 | idx2)\n",
    "print(idx1.delete(0))\n",
    "print(idx1.drop(1))\n",
    "print(idx1 ^ idx2)"
   ]
  },
  {
   "cell_type": "code",
   "execution_count": 34,
   "metadata": {},
   "outputs": [
    {
     "data": {
      "text/plain": [
       "a    0.00\n",
       "b    0.25\n",
       "c    0.50\n",
       "d    0.75\n",
       "e    1.00\n",
       "dtype: float64"
      ]
     },
     "execution_count": 34,
     "metadata": {},
     "output_type": "execute_result"
    }
   ],
   "source": [
    "s = pd.Series([0, 0.25, 0.5, 0.75, 1.0],\n",
    "              index = ['a', 'b', 'c', 'd', 'e'])\n",
    "s"
   ]
  },
  {
   "cell_type": "code",
   "execution_count": 35,
   "metadata": {},
   "outputs": [
    {
     "data": {
      "text/plain": [
       "0.25"
      ]
     },
     "execution_count": 35,
     "metadata": {},
     "output_type": "execute_result"
    }
   ],
   "source": [
    "s['b']"
   ]
  },
  {
   "cell_type": "code",
   "execution_count": 37,
   "metadata": {},
   "outputs": [
    {
     "data": {
      "text/plain": [
       "True"
      ]
     },
     "execution_count": 37,
     "metadata": {},
     "output_type": "execute_result"
    }
   ],
   "source": [
    "'b' in s"
   ]
  },
  {
   "cell_type": "code",
   "execution_count": 38,
   "metadata": {},
   "outputs": [
    {
     "data": {
      "text/plain": [
       "Index(['a', 'b', 'c', 'd', 'e'], dtype='object')"
      ]
     },
     "execution_count": 38,
     "metadata": {},
     "output_type": "execute_result"
    }
   ],
   "source": [
    "s.keys()"
   ]
  },
  {
   "cell_type": "code",
   "execution_count": 39,
   "metadata": {},
   "outputs": [
    {
     "data": {
      "text/plain": [
       "<zip at 0x27929f4b840>"
      ]
     },
     "execution_count": 39,
     "metadata": {},
     "output_type": "execute_result"
    }
   ],
   "source": [
    "s.items()"
   ]
  },
  {
   "cell_type": "code",
   "execution_count": 40,
   "metadata": {},
   "outputs": [
    {
     "data": {
      "text/plain": [
       "[('a', 0.0), ('b', 0.25), ('c', 0.5), ('d', 0.75), ('e', 1.0)]"
      ]
     },
     "execution_count": 40,
     "metadata": {},
     "output_type": "execute_result"
    }
   ],
   "source": [
    "list(s.items())"
   ]
  },
  {
   "cell_type": "code",
   "execution_count": 41,
   "metadata": {},
   "outputs": [
    {
     "data": {
      "text/plain": [
       "a    0.00\n",
       "b    0.25\n",
       "c    0.50\n",
       "d    0.75\n",
       "e    1.00\n",
       "f    1.25\n",
       "dtype: float64"
      ]
     },
     "execution_count": 41,
     "metadata": {},
     "output_type": "execute_result"
    }
   ],
   "source": [
    "s['f'] = 1.25\n",
    "s"
   ]
  },
  {
   "cell_type": "code",
   "execution_count": 42,
   "metadata": {},
   "outputs": [
    {
     "data": {
      "text/plain": [
       "a    0.00\n",
       "b    0.25\n",
       "c    0.50\n",
       "d    0.75\n",
       "dtype: float64"
      ]
     },
     "execution_count": 42,
     "metadata": {},
     "output_type": "execute_result"
    }
   ],
   "source": [
    "s['a':'d']"
   ]
  },
  {
   "cell_type": "code",
   "execution_count": 43,
   "metadata": {},
   "outputs": [
    {
     "data": {
      "text/plain": [
       "a    0.00\n",
       "b    0.25\n",
       "c    0.50\n",
       "d    0.75\n",
       "dtype: float64"
      ]
     },
     "execution_count": 43,
     "metadata": {},
     "output_type": "execute_result"
    }
   ],
   "source": [
    "s[0:4]"
   ]
  },
  {
   "cell_type": "code",
   "execution_count": 44,
   "metadata": {},
   "outputs": [
    {
     "data": {
      "text/plain": [
       "c    0.50\n",
       "d    0.75\n",
       "dtype: float64"
      ]
     },
     "execution_count": 44,
     "metadata": {},
     "output_type": "execute_result"
    }
   ],
   "source": [
    "s[(s>0.4)&(s<0.8)]"
   ]
  },
  {
   "cell_type": "code",
   "execution_count": 45,
   "metadata": {},
   "outputs": [
    {
     "data": {
      "text/plain": [
       "a    0.00\n",
       "b    0.25\n",
       "c    0.50\n",
       "dtype: float64"
      ]
     },
     "execution_count": 45,
     "metadata": {},
     "output_type": "execute_result"
    }
   ],
   "source": [
    "s[['a', 'b', 'c']]"
   ]
  },
  {
   "cell_type": "code",
   "execution_count": 47,
   "metadata": {},
   "outputs": [
    {
     "data": {
      "text/plain": [
       "1    a\n",
       "3    b\n",
       "5    c\n",
       "7    d\n",
       "9    e\n",
       "dtype: object"
      ]
     },
     "execution_count": 47,
     "metadata": {},
     "output_type": "execute_result"
    }
   ],
   "source": [
    "s = pd.Series(['a', 'b', 'c', 'd', 'e'],\n",
    "              index = [1, 3, 5, 7, 9])\n",
    "s"
   ]
  },
  {
   "cell_type": "code",
   "execution_count": 48,
   "metadata": {},
   "outputs": [
    {
     "data": {
      "text/plain": [
       "'a'"
      ]
     },
     "execution_count": 48,
     "metadata": {},
     "output_type": "execute_result"
    }
   ],
   "source": [
    "s[1]"
   ]
  },
  {
   "cell_type": "code",
   "execution_count": 49,
   "metadata": {},
   "outputs": [
    {
     "data": {
      "text/plain": [
       "5    c\n",
       "7    d\n",
       "dtype: object"
      ]
     },
     "execution_count": 49,
     "metadata": {},
     "output_type": "execute_result"
    }
   ],
   "source": [
    "s[2:4]"
   ]
  },
  {
   "cell_type": "code",
   "execution_count": 50,
   "metadata": {},
   "outputs": [
    {
     "data": {
      "text/plain": [
       "'b'"
      ]
     },
     "execution_count": 50,
     "metadata": {},
     "output_type": "execute_result"
    }
   ],
   "source": [
    "s.iloc[1]"
   ]
  },
  {
   "cell_type": "code",
   "execution_count": 51,
   "metadata": {},
   "outputs": [
    {
     "data": {
      "text/plain": [
       "5    c\n",
       "7    d\n",
       "dtype: object"
      ]
     },
     "execution_count": 51,
     "metadata": {},
     "output_type": "execute_result"
    }
   ],
   "source": [
    "s.iloc[2:4]"
   ]
  },
  {
   "cell_type": "code",
   "execution_count": 52,
   "metadata": {},
   "outputs": [
    {
     "data": {
      "text/plain": [
       "0    NaN\n",
       "1      a\n",
       "2    NaN\n",
       "3      b\n",
       "4    NaN\n",
       "5      c\n",
       "6    NaN\n",
       "7      d\n",
       "8    NaN\n",
       "9      e\n",
       "dtype: object"
      ]
     },
     "execution_count": 52,
     "metadata": {},
     "output_type": "execute_result"
    }
   ],
   "source": [
    "s.reindex(range(10))"
   ]
  },
  {
   "cell_type": "code",
   "execution_count": 53,
   "metadata": {},
   "outputs": [
    {
     "data": {
      "text/plain": [
       "0    a\n",
       "1    a\n",
       "2    b\n",
       "3    b\n",
       "4    c\n",
       "5    c\n",
       "6    d\n",
       "7    d\n",
       "8    e\n",
       "9    e\n",
       "dtype: object"
      ]
     },
     "execution_count": 53,
     "metadata": {},
     "output_type": "execute_result"
    }
   ],
   "source": [
    "s.reindex(range(10), method='bfill')"
   ]
  },
  {
   "cell_type": "code",
   "execution_count": 55,
   "metadata": {},
   "outputs": [
    {
     "data": {
      "text/html": [
       "<div>\n",
       "<style scoped>\n",
       "    .dataframe tbody tr th:only-of-type {\n",
       "        vertical-align: middle;\n",
       "    }\n",
       "\n",
       "    .dataframe tbody tr th {\n",
       "        vertical-align: top;\n",
       "    }\n",
       "\n",
       "    .dataframe thead th {\n",
       "        text-align: right;\n",
       "    }\n",
       "</style>\n",
       "<table border=\"1\" class=\"dataframe\">\n",
       "  <thead>\n",
       "    <tr style=\"text-align: right;\">\n",
       "      <th></th>\n",
       "      <th>인구수</th>\n",
       "      <th>남자인구수</th>\n",
       "      <th>여자인구수</th>\n",
       "    </tr>\n",
       "  </thead>\n",
       "  <tbody>\n",
       "    <tr>\n",
       "      <th>서울특별시</th>\n",
       "      <td>9720846</td>\n",
       "      <td>4732275</td>\n",
       "      <td>4988571</td>\n",
       "    </tr>\n",
       "    <tr>\n",
       "      <th>부산광역시</th>\n",
       "      <td>3404424</td>\n",
       "      <td>1668618</td>\n",
       "      <td>1735805</td>\n",
       "    </tr>\n",
       "    <tr>\n",
       "      <th>인천광역시</th>\n",
       "      <td>2947217</td>\n",
       "      <td>1476813</td>\n",
       "      <td>1470404</td>\n",
       "    </tr>\n",
       "    <tr>\n",
       "      <th>대전광역시</th>\n",
       "      <td>1471040</td>\n",
       "      <td>734441</td>\n",
       "      <td>1229139</td>\n",
       "    </tr>\n",
       "    <tr>\n",
       "      <th>광주광역시</th>\n",
       "      <td>14455048</td>\n",
       "      <td>720060</td>\n",
       "      <td>734988</td>\n",
       "    </tr>\n",
       "  </tbody>\n",
       "</table>\n",
       "</div>"
      ],
      "text/plain": [
       "            인구수    남자인구수    여자인구수\n",
       "서울특별시   9720846  4732275  4988571\n",
       "부산광역시   3404424  1668618  1735805\n",
       "인천광역시   2947217  1476813  1470404\n",
       "대전광역시   1471040   734441  1229139\n",
       "광주광역시  14455048   720060   734988"
      ]
     },
     "execution_count": 55,
     "metadata": {},
     "output_type": "execute_result"
    }
   ],
   "source": [
    "korea_df"
   ]
  },
  {
   "cell_type": "code",
   "execution_count": 56,
   "metadata": {},
   "outputs": [
    {
     "data": {
      "text/plain": [
       "서울특별시    4732275\n",
       "부산광역시    1668618\n",
       "인천광역시    1476813\n",
       "대전광역시     734441\n",
       "광주광역시     720060\n",
       "Name: 남자인구수, dtype: int64"
      ]
     },
     "execution_count": 56,
     "metadata": {},
     "output_type": "execute_result"
    }
   ],
   "source": [
    "korea_df['남자인구수']"
   ]
  },
  {
   "cell_type": "code",
   "execution_count": 57,
   "metadata": {},
   "outputs": [
    {
     "data": {
      "text/plain": [
       "서울특별시    4732275\n",
       "부산광역시    1668618\n",
       "인천광역시    1476813\n",
       "대전광역시     734441\n",
       "광주광역시     720060\n",
       "Name: 남자인구수, dtype: int64"
      ]
     },
     "execution_count": 57,
     "metadata": {},
     "output_type": "execute_result"
    }
   ],
   "source": [
    "korea_df.남자인구수"
   ]
  },
  {
   "cell_type": "code",
   "execution_count": 58,
   "metadata": {},
   "outputs": [
    {
     "data": {
      "text/plain": [
       "서울특별시    4988571\n",
       "부산광역시    1735805\n",
       "인천광역시    1470404\n",
       "대전광역시    1229139\n",
       "광주광역시     734988\n",
       "Name: 여자인구수, dtype: int64"
      ]
     },
     "execution_count": 58,
     "metadata": {},
     "output_type": "execute_result"
    }
   ],
   "source": [
    "korea_df.여자인구수"
   ]
  },
  {
   "cell_type": "code",
   "execution_count": 59,
   "metadata": {},
   "outputs": [],
   "source": [
    "korea_df['남여비율'] = (korea_df['남자인구수'] * 100 / korea_df['여자인구수'])"
   ]
  },
  {
   "cell_type": "code",
   "execution_count": 60,
   "metadata": {},
   "outputs": [
    {
     "data": {
      "text/html": [
       "<div>\n",
       "<style scoped>\n",
       "    .dataframe tbody tr th:only-of-type {\n",
       "        vertical-align: middle;\n",
       "    }\n",
       "\n",
       "    .dataframe tbody tr th {\n",
       "        vertical-align: top;\n",
       "    }\n",
       "\n",
       "    .dataframe thead th {\n",
       "        text-align: right;\n",
       "    }\n",
       "</style>\n",
       "<table border=\"1\" class=\"dataframe\">\n",
       "  <thead>\n",
       "    <tr style=\"text-align: right;\">\n",
       "      <th></th>\n",
       "      <th>인구수</th>\n",
       "      <th>남자인구수</th>\n",
       "      <th>여자인구수</th>\n",
       "      <th>남여비율</th>\n",
       "    </tr>\n",
       "  </thead>\n",
       "  <tbody>\n",
       "    <tr>\n",
       "      <th>서울특별시</th>\n",
       "      <td>9720846</td>\n",
       "      <td>4732275</td>\n",
       "      <td>4988571</td>\n",
       "      <td>94.862336</td>\n",
       "    </tr>\n",
       "    <tr>\n",
       "      <th>부산광역시</th>\n",
       "      <td>3404424</td>\n",
       "      <td>1668618</td>\n",
       "      <td>1735805</td>\n",
       "      <td>96.129346</td>\n",
       "    </tr>\n",
       "    <tr>\n",
       "      <th>인천광역시</th>\n",
       "      <td>2947217</td>\n",
       "      <td>1476813</td>\n",
       "      <td>1470404</td>\n",
       "      <td>100.435867</td>\n",
       "    </tr>\n",
       "    <tr>\n",
       "      <th>대전광역시</th>\n",
       "      <td>1471040</td>\n",
       "      <td>734441</td>\n",
       "      <td>1229139</td>\n",
       "      <td>59.752477</td>\n",
       "    </tr>\n",
       "    <tr>\n",
       "      <th>광주광역시</th>\n",
       "      <td>14455048</td>\n",
       "      <td>720060</td>\n",
       "      <td>734988</td>\n",
       "      <td>97.968946</td>\n",
       "    </tr>\n",
       "  </tbody>\n",
       "</table>\n",
       "</div>"
      ],
      "text/plain": [
       "            인구수    남자인구수    여자인구수        남여비율\n",
       "서울특별시   9720846  4732275  4988571   94.862336\n",
       "부산광역시   3404424  1668618  1735805   96.129346\n",
       "인천광역시   2947217  1476813  1470404  100.435867\n",
       "대전광역시   1471040   734441  1229139   59.752477\n",
       "광주광역시  14455048   720060   734988   97.968946"
      ]
     },
     "execution_count": 60,
     "metadata": {},
     "output_type": "execute_result"
    }
   ],
   "source": [
    "korea_df"
   ]
  },
  {
   "cell_type": "code",
   "execution_count": 61,
   "metadata": {},
   "outputs": [
    {
     "data": {
      "text/plain": [
       "array([[9.72084600e+06, 4.73227500e+06, 4.98857100e+06, 9.48623363e+01],\n",
       "       [3.40442400e+06, 1.66861800e+06, 1.73580500e+06, 9.61293463e+01],\n",
       "       [2.94721700e+06, 1.47681300e+06, 1.47040400e+06, 1.00435867e+02],\n",
       "       [1.47104000e+06, 7.34441000e+05, 1.22913900e+06, 5.97524771e+01],\n",
       "       [1.44550480e+07, 7.20060000e+05, 7.34988000e+05, 9.79689464e+01]])"
      ]
     },
     "execution_count": 61,
     "metadata": {},
     "output_type": "execute_result"
    }
   ],
   "source": [
    "korea_df.values"
   ]
  },
  {
   "cell_type": "code",
   "execution_count": 62,
   "metadata": {},
   "outputs": [
    {
     "data": {
      "text/html": [
       "<div>\n",
       "<style scoped>\n",
       "    .dataframe tbody tr th:only-of-type {\n",
       "        vertical-align: middle;\n",
       "    }\n",
       "\n",
       "    .dataframe tbody tr th {\n",
       "        vertical-align: top;\n",
       "    }\n",
       "\n",
       "    .dataframe thead th {\n",
       "        text-align: right;\n",
       "    }\n",
       "</style>\n",
       "<table border=\"1\" class=\"dataframe\">\n",
       "  <thead>\n",
       "    <tr style=\"text-align: right;\">\n",
       "      <th></th>\n",
       "      <th>서울특별시</th>\n",
       "      <th>부산광역시</th>\n",
       "      <th>인천광역시</th>\n",
       "      <th>대전광역시</th>\n",
       "      <th>광주광역시</th>\n",
       "    </tr>\n",
       "  </thead>\n",
       "  <tbody>\n",
       "    <tr>\n",
       "      <th>인구수</th>\n",
       "      <td>9.720846e+06</td>\n",
       "      <td>3.404424e+06</td>\n",
       "      <td>2.947217e+06</td>\n",
       "      <td>1.471040e+06</td>\n",
       "      <td>1.445505e+07</td>\n",
       "    </tr>\n",
       "    <tr>\n",
       "      <th>남자인구수</th>\n",
       "      <td>4.732275e+06</td>\n",
       "      <td>1.668618e+06</td>\n",
       "      <td>1.476813e+06</td>\n",
       "      <td>7.344410e+05</td>\n",
       "      <td>7.200600e+05</td>\n",
       "    </tr>\n",
       "    <tr>\n",
       "      <th>여자인구수</th>\n",
       "      <td>4.988571e+06</td>\n",
       "      <td>1.735805e+06</td>\n",
       "      <td>1.470404e+06</td>\n",
       "      <td>1.229139e+06</td>\n",
       "      <td>7.349880e+05</td>\n",
       "    </tr>\n",
       "    <tr>\n",
       "      <th>남여비율</th>\n",
       "      <td>9.486234e+01</td>\n",
       "      <td>9.612935e+01</td>\n",
       "      <td>1.004359e+02</td>\n",
       "      <td>5.975248e+01</td>\n",
       "      <td>9.796895e+01</td>\n",
       "    </tr>\n",
       "  </tbody>\n",
       "</table>\n",
       "</div>"
      ],
      "text/plain": [
       "              서울특별시         부산광역시         인천광역시         대전광역시         광주광역시\n",
       "인구수    9.720846e+06  3.404424e+06  2.947217e+06  1.471040e+06  1.445505e+07\n",
       "남자인구수  4.732275e+06  1.668618e+06  1.476813e+06  7.344410e+05  7.200600e+05\n",
       "여자인구수  4.988571e+06  1.735805e+06  1.470404e+06  1.229139e+06  7.349880e+05\n",
       "남여비율   9.486234e+01  9.612935e+01  1.004359e+02  5.975248e+01  9.796895e+01"
      ]
     },
     "execution_count": 62,
     "metadata": {},
     "output_type": "execute_result"
    }
   ],
   "source": [
    "korea_df.T"
   ]
  },
  {
   "cell_type": "code",
   "execution_count": 63,
   "metadata": {},
   "outputs": [
    {
     "data": {
      "text/plain": [
       "array([9.72084600e+06, 4.73227500e+06, 4.98857100e+06, 9.48623363e+01])"
      ]
     },
     "execution_count": 63,
     "metadata": {},
     "output_type": "execute_result"
    }
   ],
   "source": [
    "korea_df.values[0]"
   ]
  },
  {
   "cell_type": "code",
   "execution_count": 64,
   "metadata": {},
   "outputs": [
    {
     "data": {
      "text/plain": [
       "서울특별시     9720846\n",
       "부산광역시     3404424\n",
       "인천광역시     2947217\n",
       "대전광역시     1471040\n",
       "광주광역시    14455048\n",
       "Name: 인구수, dtype: int64"
      ]
     },
     "execution_count": 64,
     "metadata": {},
     "output_type": "execute_result"
    }
   ],
   "source": [
    "korea_df['인구수']"
   ]
  },
  {
   "cell_type": "code",
   "execution_count": 65,
   "metadata": {},
   "outputs": [
    {
     "data": {
      "text/html": [
       "<div>\n",
       "<style scoped>\n",
       "    .dataframe tbody tr th:only-of-type {\n",
       "        vertical-align: middle;\n",
       "    }\n",
       "\n",
       "    .dataframe tbody tr th {\n",
       "        vertical-align: top;\n",
       "    }\n",
       "\n",
       "    .dataframe thead th {\n",
       "        text-align: right;\n",
       "    }\n",
       "</style>\n",
       "<table border=\"1\" class=\"dataframe\">\n",
       "  <thead>\n",
       "    <tr style=\"text-align: right;\">\n",
       "      <th></th>\n",
       "      <th>인구수</th>\n",
       "      <th>남자인구수</th>\n",
       "    </tr>\n",
       "  </thead>\n",
       "  <tbody>\n",
       "    <tr>\n",
       "      <th>서울특별시</th>\n",
       "      <td>9720846</td>\n",
       "      <td>4732275</td>\n",
       "    </tr>\n",
       "    <tr>\n",
       "      <th>부산광역시</th>\n",
       "      <td>3404424</td>\n",
       "      <td>1668618</td>\n",
       "    </tr>\n",
       "    <tr>\n",
       "      <th>인천광역시</th>\n",
       "      <td>2947217</td>\n",
       "      <td>1476813</td>\n",
       "    </tr>\n",
       "  </tbody>\n",
       "</table>\n",
       "</div>"
      ],
      "text/plain": [
       "           인구수    남자인구수\n",
       "서울특별시  9720846  4732275\n",
       "부산광역시  3404424  1668618\n",
       "인천광역시  2947217  1476813"
      ]
     },
     "execution_count": 65,
     "metadata": {},
     "output_type": "execute_result"
    }
   ],
   "source": [
    "korea_df.loc[:'인천광역시', :'남자인구수']"
   ]
  },
  {
   "cell_type": "code",
   "execution_count": 66,
   "metadata": {},
   "outputs": [
    {
     "data": {
      "text/html": [
       "<div>\n",
       "<style scoped>\n",
       "    .dataframe tbody tr th:only-of-type {\n",
       "        vertical-align: middle;\n",
       "    }\n",
       "\n",
       "    .dataframe tbody tr th {\n",
       "        vertical-align: top;\n",
       "    }\n",
       "\n",
       "    .dataframe thead th {\n",
       "        text-align: right;\n",
       "    }\n",
       "</style>\n",
       "<table border=\"1\" class=\"dataframe\">\n",
       "  <thead>\n",
       "    <tr style=\"text-align: right;\">\n",
       "      <th></th>\n",
       "      <th>인구수</th>\n",
       "      <th>남자인구수</th>\n",
       "      <th>여자인구수</th>\n",
       "      <th>남여비율</th>\n",
       "    </tr>\n",
       "  </thead>\n",
       "  <tbody>\n",
       "    <tr>\n",
       "      <th>서울특별시</th>\n",
       "      <td>9720846</td>\n",
       "      <td>4732275</td>\n",
       "      <td>4988571</td>\n",
       "      <td>94.862336</td>\n",
       "    </tr>\n",
       "    <tr>\n",
       "      <th>부산광역시</th>\n",
       "      <td>3404424</td>\n",
       "      <td>1668618</td>\n",
       "      <td>1735805</td>\n",
       "      <td>96.129346</td>\n",
       "    </tr>\n",
       "    <tr>\n",
       "      <th>인천광역시</th>\n",
       "      <td>2947217</td>\n",
       "      <td>1476813</td>\n",
       "      <td>1470404</td>\n",
       "      <td>100.435867</td>\n",
       "    </tr>\n",
       "    <tr>\n",
       "      <th>대전광역시</th>\n",
       "      <td>1471040</td>\n",
       "      <td>734441</td>\n",
       "      <td>1229139</td>\n",
       "      <td>59.752477</td>\n",
       "    </tr>\n",
       "  </tbody>\n",
       "</table>\n",
       "</div>"
      ],
      "text/plain": [
       "           인구수    남자인구수    여자인구수        남여비율\n",
       "서울특별시  9720846  4732275  4988571   94.862336\n",
       "부산광역시  3404424  1668618  1735805   96.129346\n",
       "인천광역시  2947217  1476813  1470404  100.435867\n",
       "대전광역시  1471040   734441  1229139   59.752477"
      ]
     },
     "execution_count": 66,
     "metadata": {},
     "output_type": "execute_result"
    }
   ],
   "source": [
    "korea_df.loc[(korea_df['여자인구수']>1000000)]"
   ]
  },
  {
   "cell_type": "code",
   "execution_count": 67,
   "metadata": {},
   "outputs": [
    {
     "data": {
      "text/html": [
       "<div>\n",
       "<style scoped>\n",
       "    .dataframe tbody tr th:only-of-type {\n",
       "        vertical-align: middle;\n",
       "    }\n",
       "\n",
       "    .dataframe tbody tr th {\n",
       "        vertical-align: top;\n",
       "    }\n",
       "\n",
       "    .dataframe thead th {\n",
       "        text-align: right;\n",
       "    }\n",
       "</style>\n",
       "<table border=\"1\" class=\"dataframe\">\n",
       "  <thead>\n",
       "    <tr style=\"text-align: right;\">\n",
       "      <th></th>\n",
       "      <th>인구수</th>\n",
       "      <th>남자인구수</th>\n",
       "      <th>여자인구수</th>\n",
       "      <th>남여비율</th>\n",
       "    </tr>\n",
       "  </thead>\n",
       "  <tbody>\n",
       "    <tr>\n",
       "      <th>대전광역시</th>\n",
       "      <td>1471040</td>\n",
       "      <td>734441</td>\n",
       "      <td>1229139</td>\n",
       "      <td>59.752477</td>\n",
       "    </tr>\n",
       "  </tbody>\n",
       "</table>\n",
       "</div>"
      ],
      "text/plain": [
       "           인구수   남자인구수    여자인구수       남여비율\n",
       "대전광역시  1471040  734441  1229139  59.752477"
      ]
     },
     "execution_count": 67,
     "metadata": {},
     "output_type": "execute_result"
    }
   ],
   "source": [
    "korea_df.loc[(korea_df.인구수<2000000)]"
   ]
  },
  {
   "cell_type": "code",
   "execution_count": 68,
   "metadata": {},
   "outputs": [
    {
     "data": {
      "text/html": [
       "<div>\n",
       "<style scoped>\n",
       "    .dataframe tbody tr th:only-of-type {\n",
       "        vertical-align: middle;\n",
       "    }\n",
       "\n",
       "    .dataframe tbody tr th {\n",
       "        vertical-align: top;\n",
       "    }\n",
       "\n",
       "    .dataframe thead th {\n",
       "        text-align: right;\n",
       "    }\n",
       "</style>\n",
       "<table border=\"1\" class=\"dataframe\">\n",
       "  <thead>\n",
       "    <tr style=\"text-align: right;\">\n",
       "      <th></th>\n",
       "      <th>인구수</th>\n",
       "      <th>남자인구수</th>\n",
       "      <th>여자인구수</th>\n",
       "      <th>남여비율</th>\n",
       "    </tr>\n",
       "  </thead>\n",
       "  <tbody>\n",
       "    <tr>\n",
       "      <th>서울특별시</th>\n",
       "      <td>9720846</td>\n",
       "      <td>4732275</td>\n",
       "      <td>4988571</td>\n",
       "      <td>94.862336</td>\n",
       "    </tr>\n",
       "    <tr>\n",
       "      <th>부산광역시</th>\n",
       "      <td>3404424</td>\n",
       "      <td>1668618</td>\n",
       "      <td>1735805</td>\n",
       "      <td>96.129346</td>\n",
       "    </tr>\n",
       "    <tr>\n",
       "      <th>인천광역시</th>\n",
       "      <td>2947217</td>\n",
       "      <td>1476813</td>\n",
       "      <td>1470404</td>\n",
       "      <td>100.435867</td>\n",
       "    </tr>\n",
       "    <tr>\n",
       "      <th>광주광역시</th>\n",
       "      <td>14455048</td>\n",
       "      <td>720060</td>\n",
       "      <td>734988</td>\n",
       "      <td>97.968946</td>\n",
       "    </tr>\n",
       "  </tbody>\n",
       "</table>\n",
       "</div>"
      ],
      "text/plain": [
       "            인구수    남자인구수    여자인구수        남여비율\n",
       "서울특별시   9720846  4732275  4988571   94.862336\n",
       "부산광역시   3404424  1668618  1735805   96.129346\n",
       "인천광역시   2947217  1476813  1470404  100.435867\n",
       "광주광역시  14455048   720060   734988   97.968946"
      ]
     },
     "execution_count": 68,
     "metadata": {},
     "output_type": "execute_result"
    }
   ],
   "source": [
    "korea_df.loc[(korea_df.인구수>2500000)]"
   ]
  },
  {
   "cell_type": "code",
   "execution_count": 69,
   "metadata": {},
   "outputs": [
    {
     "data": {
      "text/html": [
       "<div>\n",
       "<style scoped>\n",
       "    .dataframe tbody tr th:only-of-type {\n",
       "        vertical-align: middle;\n",
       "    }\n",
       "\n",
       "    .dataframe tbody tr th {\n",
       "        vertical-align: top;\n",
       "    }\n",
       "\n",
       "    .dataframe thead th {\n",
       "        text-align: right;\n",
       "    }\n",
       "</style>\n",
       "<table border=\"1\" class=\"dataframe\">\n",
       "  <thead>\n",
       "    <tr style=\"text-align: right;\">\n",
       "      <th></th>\n",
       "      <th>인구수</th>\n",
       "      <th>남자인구수</th>\n",
       "      <th>여자인구수</th>\n",
       "      <th>남여비율</th>\n",
       "    </tr>\n",
       "  </thead>\n",
       "  <tbody>\n",
       "    <tr>\n",
       "      <th>인천광역시</th>\n",
       "      <td>2947217</td>\n",
       "      <td>1476813</td>\n",
       "      <td>1470404</td>\n",
       "      <td>100.435867</td>\n",
       "    </tr>\n",
       "  </tbody>\n",
       "</table>\n",
       "</div>"
      ],
      "text/plain": [
       "           인구수    남자인구수    여자인구수        남여비율\n",
       "인천광역시  2947217  1476813  1470404  100.435867"
      ]
     },
     "execution_count": 69,
     "metadata": {},
     "output_type": "execute_result"
    }
   ],
   "source": [
    "korea_df.loc[(korea_df.남여비율>100)]"
   ]
  },
  {
   "cell_type": "code",
   "execution_count": 71,
   "metadata": {},
   "outputs": [
    {
     "data": {
      "text/html": [
       "<div>\n",
       "<style scoped>\n",
       "    .dataframe tbody tr th:only-of-type {\n",
       "        vertical-align: middle;\n",
       "    }\n",
       "\n",
       "    .dataframe tbody tr th {\n",
       "        vertical-align: top;\n",
       "    }\n",
       "\n",
       "    .dataframe thead th {\n",
       "        text-align: right;\n",
       "    }\n",
       "</style>\n",
       "<table border=\"1\" class=\"dataframe\">\n",
       "  <thead>\n",
       "    <tr style=\"text-align: right;\">\n",
       "      <th></th>\n",
       "      <th>인구수</th>\n",
       "      <th>남자인구수</th>\n",
       "      <th>여자인구수</th>\n",
       "      <th>남여비율</th>\n",
       "    </tr>\n",
       "  </thead>\n",
       "  <tbody>\n",
       "    <tr>\n",
       "      <th>서울특별시</th>\n",
       "      <td>9720846</td>\n",
       "      <td>4732275</td>\n",
       "      <td>4988571</td>\n",
       "      <td>94.862336</td>\n",
       "    </tr>\n",
       "    <tr>\n",
       "      <th>부산광역시</th>\n",
       "      <td>3404424</td>\n",
       "      <td>1668618</td>\n",
       "      <td>1735805</td>\n",
       "      <td>96.129346</td>\n",
       "    </tr>\n",
       "    <tr>\n",
       "      <th>광주광역시</th>\n",
       "      <td>14455048</td>\n",
       "      <td>720060</td>\n",
       "      <td>734988</td>\n",
       "      <td>97.968946</td>\n",
       "    </tr>\n",
       "  </tbody>\n",
       "</table>\n",
       "</div>"
      ],
      "text/plain": [
       "            인구수    남자인구수    여자인구수       남여비율\n",
       "서울특별시   9720846  4732275  4988571  94.862336\n",
       "부산광역시   3404424  1668618  1735805  96.129346\n",
       "광주광역시  14455048   720060   734988  97.968946"
      ]
     },
     "execution_count": 71,
     "metadata": {},
     "output_type": "execute_result"
    }
   ],
   "source": [
    "korea_df.loc[(korea_df.인구수>2500000) & (korea_df.남여비율<100)]"
   ]
  },
  {
   "cell_type": "code",
   "execution_count": 72,
   "metadata": {},
   "outputs": [
    {
     "data": {
      "text/html": [
       "<div>\n",
       "<style scoped>\n",
       "    .dataframe tbody tr th:only-of-type {\n",
       "        vertical-align: middle;\n",
       "    }\n",
       "\n",
       "    .dataframe tbody tr th {\n",
       "        vertical-align: top;\n",
       "    }\n",
       "\n",
       "    .dataframe thead th {\n",
       "        text-align: right;\n",
       "    }\n",
       "</style>\n",
       "<table border=\"1\" class=\"dataframe\">\n",
       "  <thead>\n",
       "    <tr style=\"text-align: right;\">\n",
       "      <th></th>\n",
       "      <th>인구수</th>\n",
       "      <th>남자인구수</th>\n",
       "    </tr>\n",
       "  </thead>\n",
       "  <tbody>\n",
       "    <tr>\n",
       "      <th>서울특별시</th>\n",
       "      <td>9720846</td>\n",
       "      <td>4732275</td>\n",
       "    </tr>\n",
       "    <tr>\n",
       "      <th>부산광역시</th>\n",
       "      <td>3404424</td>\n",
       "      <td>1668618</td>\n",
       "    </tr>\n",
       "    <tr>\n",
       "      <th>인천광역시</th>\n",
       "      <td>2947217</td>\n",
       "      <td>1476813</td>\n",
       "    </tr>\n",
       "  </tbody>\n",
       "</table>\n",
       "</div>"
      ],
      "text/plain": [
       "           인구수    남자인구수\n",
       "서울특별시  9720846  4732275\n",
       "부산광역시  3404424  1668618\n",
       "인천광역시  2947217  1476813"
      ]
     },
     "execution_count": 72,
     "metadata": {},
     "output_type": "execute_result"
    }
   ],
   "source": [
    "korea_df.iloc[:3, :2]"
   ]
  },
  {
   "cell_type": "code",
   "execution_count": 74,
   "metadata": {},
   "outputs": [
    {
     "data": {
      "text/html": [
       "<div>\n",
       "<style scoped>\n",
       "    .dataframe tbody tr th:only-of-type {\n",
       "        vertical-align: middle;\n",
       "    }\n",
       "\n",
       "    .dataframe tbody tr th {\n",
       "        vertical-align: top;\n",
       "    }\n",
       "\n",
       "    .dataframe thead th {\n",
       "        text-align: right;\n",
       "    }\n",
       "</style>\n",
       "<table border=\"1\" class=\"dataframe\">\n",
       "  <thead>\n",
       "    <tr style=\"text-align: right;\">\n",
       "      <th></th>\n",
       "      <th>인구수</th>\n",
       "      <th>남자인구수</th>\n",
       "      <th>여자인구수</th>\n",
       "      <th>남여비율</th>\n",
       "    </tr>\n",
       "  </thead>\n",
       "  <tbody>\n",
       "    <tr>\n",
       "      <th>서울특별시</th>\n",
       "      <td>9720846</td>\n",
       "      <td>4732275</td>\n",
       "      <td>4988571</td>\n",
       "      <td>94.862336</td>\n",
       "    </tr>\n",
       "    <tr>\n",
       "      <th>부산광역시</th>\n",
       "      <td>3404424</td>\n",
       "      <td>1668618</td>\n",
       "      <td>1735805</td>\n",
       "      <td>96.129346</td>\n",
       "    </tr>\n",
       "    <tr>\n",
       "      <th>인천광역시</th>\n",
       "      <td>2947217</td>\n",
       "      <td>1476813</td>\n",
       "      <td>1470404</td>\n",
       "      <td>100.435867</td>\n",
       "    </tr>\n",
       "    <tr>\n",
       "      <th>대전광역시</th>\n",
       "      <td>1471040</td>\n",
       "      <td>734441</td>\n",
       "      <td>1229139</td>\n",
       "      <td>59.752477</td>\n",
       "    </tr>\n",
       "    <tr>\n",
       "      <th>광주광역시</th>\n",
       "      <td>14455048</td>\n",
       "      <td>720060</td>\n",
       "      <td>734988</td>\n",
       "      <td>97.968946</td>\n",
       "    </tr>\n",
       "  </tbody>\n",
       "</table>\n",
       "</div>"
      ],
      "text/plain": [
       "            인구수    남자인구수    여자인구수        남여비율\n",
       "서울특별시   9720846  4732275  4988571   94.862336\n",
       "부산광역시   3404424  1668618  1735805   96.129346\n",
       "인천광역시   2947217  1476813  1470404  100.435867\n",
       "대전광역시   1471040   734441  1229139   59.752477\n",
       "광주광역시  14455048   720060   734988   97.968946"
      ]
     },
     "execution_count": 74,
     "metadata": {},
     "output_type": "execute_result"
    }
   ],
   "source": [
    "korea_df"
   ]
  },
  {
   "cell_type": "code",
   "execution_count": 76,
   "metadata": {},
   "outputs": [
    {
     "data": {
      "text/plain": [
       "[('서울특별시', 2010),\n",
       " ('서울특별시', 2020),\n",
       " ('부산광역시', 2010),\n",
       " ('부산광역시', 2020),\n",
       " ('인천광역시', 2010),\n",
       " ('인천광역시', 2020),\n",
       " ('대전광역시', 2010),\n",
       " ('대전광역시', 2020),\n",
       " ('광주광역시', 2010),\n",
       " ('광주광역시', 2020)]"
      ]
     },
     "execution_count": 76,
     "metadata": {},
     "output_type": "execute_result"
    }
   ],
   "source": [
    "idx_tuple = [('서울특별시', 2010), ('서울특별시', 2020),\n",
    "             ('부산광역시', 2010), ('부산광역시', 2020),\n",
    "             ('인천광역시', 2010), ('인천광역시', 2020),\n",
    "             ('대전광역시', 2010), ('대전광역시', 2020),\n",
    "             ('광주광역시', 2010), ('광주광역시', 2020),\n",
    "             ]\n",
    "idx_tuple"
   ]
  },
  {
   "cell_type": "code",
   "execution_count": 78,
   "metadata": {},
   "outputs": [
    {
     "data": {
      "text/plain": [
       "(서울특별시, 2010)    10312545\n",
       "(서울특별시, 2020)     9720846\n",
       "(부산광역시, 2010)     3567910\n",
       "(부산광역시, 2020)     3404423\n",
       "(인천광역시, 2010)     2758296\n",
       "(인천광역시, 2020)     2947217\n",
       "(대전광역시, 2010)     2511676\n",
       "(대전광역시, 2020)     2427954\n",
       "(광주광역시, 2010)     1454636\n",
       "(광주광역시, 2020)     1455048\n",
       "dtype: int64"
      ]
     },
     "execution_count": 78,
     "metadata": {},
     "output_type": "execute_result"
    }
   ],
   "source": [
    "pop_tuples = [10312545, 9720846,\n",
    "              3567910, 3404423,\n",
    "              2758296, 2947217,\n",
    "              2511676, 2427954,\n",
    "              1454636, 1455048]\n",
    "population = pd.Series(pop_tuples, index=idx_tuple)\n",
    "population"
   ]
  },
  {
   "cell_type": "code",
   "execution_count": 79,
   "metadata": {},
   "outputs": [
    {
     "data": {
      "text/plain": [
       "MultiIndex([('서울특별시', 2010),\n",
       "            ('서울특별시', 2020),\n",
       "            ('부산광역시', 2010),\n",
       "            ('부산광역시', 2020),\n",
       "            ('인천광역시', 2010),\n",
       "            ('인천광역시', 2020),\n",
       "            ('대전광역시', 2010),\n",
       "            ('대전광역시', 2020),\n",
       "            ('광주광역시', 2010),\n",
       "            ('광주광역시', 2020)],\n",
       "           )"
      ]
     },
     "execution_count": 79,
     "metadata": {},
     "output_type": "execute_result"
    }
   ],
   "source": [
    "midx = pd.MultiIndex.from_tuples(idx_tuple)\n",
    "midx"
   ]
  },
  {
   "cell_type": "code",
   "execution_count": 80,
   "metadata": {},
   "outputs": [
    {
     "data": {
      "text/plain": [
       "서울특별시  2010    10312545\n",
       "       2020     9720846\n",
       "부산광역시  2010     3567910\n",
       "       2020     3404423\n",
       "인천광역시  2010     2758296\n",
       "       2020     2947217\n",
       "대전광역시  2010     2511676\n",
       "       2020     2427954\n",
       "광주광역시  2010     1454636\n",
       "       2020     1455048\n",
       "dtype: int64"
      ]
     },
     "execution_count": 80,
     "metadata": {},
     "output_type": "execute_result"
    }
   ],
   "source": [
    "population = population.reindex(midx)\n",
    "population"
   ]
  },
  {
   "cell_type": "code",
   "execution_count": 81,
   "metadata": {},
   "outputs": [
    {
     "data": {
      "text/plain": [
       "서울특별시    10312545\n",
       "부산광역시     3567910\n",
       "인천광역시     2758296\n",
       "대전광역시     2511676\n",
       "광주광역시     1454636\n",
       "dtype: int64"
      ]
     },
     "execution_count": 81,
     "metadata": {},
     "output_type": "execute_result"
    }
   ],
   "source": [
    "population[:, 2010]"
   ]
  },
  {
   "cell_type": "code",
   "execution_count": 82,
   "metadata": {},
   "outputs": [
    {
     "data": {
      "text/plain": [
       "2010    2511676\n",
       "2020    2427954\n",
       "dtype: int64"
      ]
     },
     "execution_count": 82,
     "metadata": {},
     "output_type": "execute_result"
    }
   ],
   "source": [
    "population['대전광역시', :]"
   ]
  },
  {
   "cell_type": "code",
   "execution_count": 83,
   "metadata": {},
   "outputs": [
    {
     "data": {
      "text/html": [
       "<div>\n",
       "<style scoped>\n",
       "    .dataframe tbody tr th:only-of-type {\n",
       "        vertical-align: middle;\n",
       "    }\n",
       "\n",
       "    .dataframe tbody tr th {\n",
       "        vertical-align: top;\n",
       "    }\n",
       "\n",
       "    .dataframe thead th {\n",
       "        text-align: right;\n",
       "    }\n",
       "</style>\n",
       "<table border=\"1\" class=\"dataframe\">\n",
       "  <thead>\n",
       "    <tr style=\"text-align: right;\">\n",
       "      <th></th>\n",
       "      <th>2010</th>\n",
       "      <th>2020</th>\n",
       "    </tr>\n",
       "  </thead>\n",
       "  <tbody>\n",
       "    <tr>\n",
       "      <th>광주광역시</th>\n",
       "      <td>1454636</td>\n",
       "      <td>1455048</td>\n",
       "    </tr>\n",
       "    <tr>\n",
       "      <th>대전광역시</th>\n",
       "      <td>2511676</td>\n",
       "      <td>2427954</td>\n",
       "    </tr>\n",
       "    <tr>\n",
       "      <th>부산광역시</th>\n",
       "      <td>3567910</td>\n",
       "      <td>3404423</td>\n",
       "    </tr>\n",
       "    <tr>\n",
       "      <th>서울특별시</th>\n",
       "      <td>10312545</td>\n",
       "      <td>9720846</td>\n",
       "    </tr>\n",
       "    <tr>\n",
       "      <th>인천광역시</th>\n",
       "      <td>2758296</td>\n",
       "      <td>2947217</td>\n",
       "    </tr>\n",
       "  </tbody>\n",
       "</table>\n",
       "</div>"
      ],
      "text/plain": [
       "           2010     2020\n",
       "광주광역시   1454636  1455048\n",
       "대전광역시   2511676  2427954\n",
       "부산광역시   3567910  3404423\n",
       "서울특별시  10312545  9720846\n",
       "인천광역시   2758296  2947217"
      ]
     },
     "execution_count": 83,
     "metadata": {},
     "output_type": "execute_result"
    }
   ],
   "source": [
    "korea_mdf = population.unstack()\n",
    "korea_mdf"
   ]
  },
  {
   "cell_type": "code",
   "execution_count": 84,
   "metadata": {},
   "outputs": [
    {
     "data": {
      "text/plain": [
       "광주광역시  2010     1454636\n",
       "       2020     1455048\n",
       "대전광역시  2010     2511676\n",
       "       2020     2427954\n",
       "부산광역시  2010     3567910\n",
       "       2020     3404423\n",
       "서울특별시  2010    10312545\n",
       "       2020     9720846\n",
       "인천광역시  2010     2758296\n",
       "       2020     2947217\n",
       "dtype: int64"
      ]
     },
     "execution_count": 84,
     "metadata": {},
     "output_type": "execute_result"
    }
   ],
   "source": [
    "korea_mdf.stack()"
   ]
  },
  {
   "cell_type": "code",
   "execution_count": 87,
   "metadata": {},
   "outputs": [
    {
     "data": {
      "text/plain": [
       "[5111259,\n",
       " 4732275,\n",
       " 1773170,\n",
       " 1668618,\n",
       " 1390356,\n",
       " 1476813,\n",
       " 1255245,\n",
       " 1198815,\n",
       " 721780,\n",
       " 720560]"
      ]
     },
     "execution_count": 87,
     "metadata": {},
     "output_type": "execute_result"
    }
   ],
   "source": [
    "male_tuple = [5111259, 4732275,\n",
    "              1773170, 1668618,\n",
    "              1390356, 1476813,\n",
    "              1255245, 1198815,\n",
    "              721780, 720560]\n",
    "male_tuple"
   ]
  },
  {
   "cell_type": "code",
   "execution_count": 88,
   "metadata": {},
   "outputs": [
    {
     "data": {
      "text/html": [
       "<div>\n",
       "<style scoped>\n",
       "    .dataframe tbody tr th:only-of-type {\n",
       "        vertical-align: middle;\n",
       "    }\n",
       "\n",
       "    .dataframe tbody tr th {\n",
       "        vertical-align: top;\n",
       "    }\n",
       "\n",
       "    .dataframe thead th {\n",
       "        text-align: right;\n",
       "    }\n",
       "</style>\n",
       "<table border=\"1\" class=\"dataframe\">\n",
       "  <thead>\n",
       "    <tr style=\"text-align: right;\">\n",
       "      <th></th>\n",
       "      <th></th>\n",
       "      <th>총인구수</th>\n",
       "      <th>남자인구수</th>\n",
       "    </tr>\n",
       "  </thead>\n",
       "  <tbody>\n",
       "    <tr>\n",
       "      <th rowspan=\"2\" valign=\"top\">서울특별시</th>\n",
       "      <th>2010</th>\n",
       "      <td>10312545</td>\n",
       "      <td>5111259</td>\n",
       "    </tr>\n",
       "    <tr>\n",
       "      <th>2020</th>\n",
       "      <td>9720846</td>\n",
       "      <td>4732275</td>\n",
       "    </tr>\n",
       "    <tr>\n",
       "      <th rowspan=\"2\" valign=\"top\">부산광역시</th>\n",
       "      <th>2010</th>\n",
       "      <td>3567910</td>\n",
       "      <td>1773170</td>\n",
       "    </tr>\n",
       "    <tr>\n",
       "      <th>2020</th>\n",
       "      <td>3404423</td>\n",
       "      <td>1668618</td>\n",
       "    </tr>\n",
       "    <tr>\n",
       "      <th rowspan=\"2\" valign=\"top\">인천광역시</th>\n",
       "      <th>2010</th>\n",
       "      <td>2758296</td>\n",
       "      <td>1390356</td>\n",
       "    </tr>\n",
       "    <tr>\n",
       "      <th>2020</th>\n",
       "      <td>2947217</td>\n",
       "      <td>1476813</td>\n",
       "    </tr>\n",
       "    <tr>\n",
       "      <th rowspan=\"2\" valign=\"top\">대전광역시</th>\n",
       "      <th>2010</th>\n",
       "      <td>2511676</td>\n",
       "      <td>1255245</td>\n",
       "    </tr>\n",
       "    <tr>\n",
       "      <th>2020</th>\n",
       "      <td>2427954</td>\n",
       "      <td>1198815</td>\n",
       "    </tr>\n",
       "    <tr>\n",
       "      <th rowspan=\"2\" valign=\"top\">광주광역시</th>\n",
       "      <th>2010</th>\n",
       "      <td>1454636</td>\n",
       "      <td>721780</td>\n",
       "    </tr>\n",
       "    <tr>\n",
       "      <th>2020</th>\n",
       "      <td>1455048</td>\n",
       "      <td>720560</td>\n",
       "    </tr>\n",
       "  </tbody>\n",
       "</table>\n",
       "</div>"
      ],
      "text/plain": [
       "                총인구수    남자인구수\n",
       "서울특별시 2010  10312545  5111259\n",
       "      2020   9720846  4732275\n",
       "부산광역시 2010   3567910  1773170\n",
       "      2020   3404423  1668618\n",
       "인천광역시 2010   2758296  1390356\n",
       "      2020   2947217  1476813\n",
       "대전광역시 2010   2511676  1255245\n",
       "      2020   2427954  1198815\n",
       "광주광역시 2010   1454636   721780\n",
       "      2020   1455048   720560"
      ]
     },
     "execution_count": 88,
     "metadata": {},
     "output_type": "execute_result"
    }
   ],
   "source": [
    "korea_mdf = pd.DataFrame({'총인구수':population,\n",
    "                          '남자인구수':male_tuple})\n",
    "korea_mdf"
   ]
  },
  {
   "cell_type": "code",
   "execution_count": 89,
   "metadata": {},
   "outputs": [
    {
     "data": {
      "text/plain": [
       "[5201286,\n",
       " 4988571,\n",
       " 1794740,\n",
       " 1735805,\n",
       " 1367940,\n",
       " 1470404,\n",
       " 1256431,\n",
       " 1229139,\n",
       " 732856,\n",
       " 734988]"
      ]
     },
     "execution_count": 89,
     "metadata": {},
     "output_type": "execute_result"
    }
   ],
   "source": [
    "female_tuple = [5201286, 4988571,\n",
    "                1794740, 1735805,\n",
    "                1367940, 1470404,\n",
    "                1256431, 1229139,\n",
    "                732856, 734988]\n",
    "female_tuple"
   ]
  },
  {
   "cell_type": "code",
   "execution_count": 90,
   "metadata": {},
   "outputs": [
    {
     "data": {
      "text/html": [
       "<div>\n",
       "<style scoped>\n",
       "    .dataframe tbody tr th:only-of-type {\n",
       "        vertical-align: middle;\n",
       "    }\n",
       "\n",
       "    .dataframe tbody tr th {\n",
       "        vertical-align: top;\n",
       "    }\n",
       "\n",
       "    .dataframe thead th {\n",
       "        text-align: right;\n",
       "    }\n",
       "</style>\n",
       "<table border=\"1\" class=\"dataframe\">\n",
       "  <thead>\n",
       "    <tr style=\"text-align: right;\">\n",
       "      <th></th>\n",
       "      <th></th>\n",
       "      <th>총인구수</th>\n",
       "      <th>남자인구수</th>\n",
       "      <th>여자인구수</th>\n",
       "    </tr>\n",
       "  </thead>\n",
       "  <tbody>\n",
       "    <tr>\n",
       "      <th rowspan=\"2\" valign=\"top\">서울특별시</th>\n",
       "      <th>2010</th>\n",
       "      <td>10312545</td>\n",
       "      <td>5111259</td>\n",
       "      <td>5201286</td>\n",
       "    </tr>\n",
       "    <tr>\n",
       "      <th>2020</th>\n",
       "      <td>9720846</td>\n",
       "      <td>4732275</td>\n",
       "      <td>4988571</td>\n",
       "    </tr>\n",
       "    <tr>\n",
       "      <th rowspan=\"2\" valign=\"top\">부산광역시</th>\n",
       "      <th>2010</th>\n",
       "      <td>3567910</td>\n",
       "      <td>1773170</td>\n",
       "      <td>1794740</td>\n",
       "    </tr>\n",
       "    <tr>\n",
       "      <th>2020</th>\n",
       "      <td>3404423</td>\n",
       "      <td>1668618</td>\n",
       "      <td>1735805</td>\n",
       "    </tr>\n",
       "    <tr>\n",
       "      <th rowspan=\"2\" valign=\"top\">인천광역시</th>\n",
       "      <th>2010</th>\n",
       "      <td>2758296</td>\n",
       "      <td>1390356</td>\n",
       "      <td>1367940</td>\n",
       "    </tr>\n",
       "    <tr>\n",
       "      <th>2020</th>\n",
       "      <td>2947217</td>\n",
       "      <td>1476813</td>\n",
       "      <td>1470404</td>\n",
       "    </tr>\n",
       "    <tr>\n",
       "      <th rowspan=\"2\" valign=\"top\">대전광역시</th>\n",
       "      <th>2010</th>\n",
       "      <td>2511676</td>\n",
       "      <td>1255245</td>\n",
       "      <td>1256431</td>\n",
       "    </tr>\n",
       "    <tr>\n",
       "      <th>2020</th>\n",
       "      <td>2427954</td>\n",
       "      <td>1198815</td>\n",
       "      <td>1229139</td>\n",
       "    </tr>\n",
       "    <tr>\n",
       "      <th rowspan=\"2\" valign=\"top\">광주광역시</th>\n",
       "      <th>2010</th>\n",
       "      <td>1454636</td>\n",
       "      <td>721780</td>\n",
       "      <td>732856</td>\n",
       "    </tr>\n",
       "    <tr>\n",
       "      <th>2020</th>\n",
       "      <td>1455048</td>\n",
       "      <td>720560</td>\n",
       "      <td>734988</td>\n",
       "    </tr>\n",
       "  </tbody>\n",
       "</table>\n",
       "</div>"
      ],
      "text/plain": [
       "                총인구수    남자인구수    여자인구수\n",
       "서울특별시 2010  10312545  5111259  5201286\n",
       "      2020   9720846  4732275  4988571\n",
       "부산광역시 2010   3567910  1773170  1794740\n",
       "      2020   3404423  1668618  1735805\n",
       "인천광역시 2010   2758296  1390356  1367940\n",
       "      2020   2947217  1476813  1470404\n",
       "대전광역시 2010   2511676  1255245  1256431\n",
       "      2020   2427954  1198815  1229139\n",
       "광주광역시 2010   1454636   721780   732856\n",
       "      2020   1455048   720560   734988"
      ]
     },
     "execution_count": 90,
     "metadata": {},
     "output_type": "execute_result"
    }
   ],
   "source": [
    "korea_mdf = pd.DataFrame({'총인구수': population,\n",
    "                          '남자인구수': male_tuple,\n",
    "                          '여자인구수':female_tuple})\n",
    "korea_mdf\n"
   ]
  },
  {
   "cell_type": "code",
   "execution_count": 92,
   "metadata": {},
   "outputs": [
    {
     "data": {
      "text/plain": [
       "서울특별시  2010     98.269140\n",
       "       2020     94.862336\n",
       "부산광역시  2010     98.798155\n",
       "       2020     96.129346\n",
       "인천광역시  2010    101.638668\n",
       "       2020    100.435867\n",
       "대전광역시  2010     99.905606\n",
       "       2020     97.532907\n",
       "광주광역시  2010     98.488653\n",
       "       2020     98.036975\n",
       "dtype: float64"
      ]
     },
     "execution_count": 92,
     "metadata": {},
     "output_type": "execute_result"
    }
   ],
   "source": [
    "ratio = korea_mdf['남자인구수'] * 100 / korea_mdf['여자인구수']\n",
    "ratio"
   ]
  },
  {
   "cell_type": "code",
   "execution_count": 93,
   "metadata": {},
   "outputs": [
    {
     "data": {
      "text/html": [
       "<div>\n",
       "<style scoped>\n",
       "    .dataframe tbody tr th:only-of-type {\n",
       "        vertical-align: middle;\n",
       "    }\n",
       "\n",
       "    .dataframe tbody tr th {\n",
       "        vertical-align: top;\n",
       "    }\n",
       "\n",
       "    .dataframe thead th {\n",
       "        text-align: right;\n",
       "    }\n",
       "</style>\n",
       "<table border=\"1\" class=\"dataframe\">\n",
       "  <thead>\n",
       "    <tr style=\"text-align: right;\">\n",
       "      <th></th>\n",
       "      <th>2010</th>\n",
       "      <th>2020</th>\n",
       "    </tr>\n",
       "  </thead>\n",
       "  <tbody>\n",
       "    <tr>\n",
       "      <th>광주광역시</th>\n",
       "      <td>98.488653</td>\n",
       "      <td>98.036975</td>\n",
       "    </tr>\n",
       "    <tr>\n",
       "      <th>대전광역시</th>\n",
       "      <td>99.905606</td>\n",
       "      <td>97.532907</td>\n",
       "    </tr>\n",
       "    <tr>\n",
       "      <th>부산광역시</th>\n",
       "      <td>98.798155</td>\n",
       "      <td>96.129346</td>\n",
       "    </tr>\n",
       "    <tr>\n",
       "      <th>서울특별시</th>\n",
       "      <td>98.269140</td>\n",
       "      <td>94.862336</td>\n",
       "    </tr>\n",
       "    <tr>\n",
       "      <th>인천광역시</th>\n",
       "      <td>101.638668</td>\n",
       "      <td>100.435867</td>\n",
       "    </tr>\n",
       "  </tbody>\n",
       "</table>\n",
       "</div>"
      ],
      "text/plain": [
       "             2010        2020\n",
       "광주광역시   98.488653   98.036975\n",
       "대전광역시   99.905606   97.532907\n",
       "부산광역시   98.798155   96.129346\n",
       "서울특별시   98.269140   94.862336\n",
       "인천광역시  101.638668  100.435867"
      ]
     },
     "execution_count": 93,
     "metadata": {},
     "output_type": "execute_result"
    }
   ],
   "source": [
    "ratio.unstack()"
   ]
  },
  {
   "cell_type": "code",
   "execution_count": 94,
   "metadata": {},
   "outputs": [
    {
     "data": {
      "text/html": [
       "<div>\n",
       "<style scoped>\n",
       "    .dataframe tbody tr th:only-of-type {\n",
       "        vertical-align: middle;\n",
       "    }\n",
       "\n",
       "    .dataframe tbody tr th {\n",
       "        vertical-align: top;\n",
       "    }\n",
       "\n",
       "    .dataframe thead th {\n",
       "        text-align: right;\n",
       "    }\n",
       "</style>\n",
       "<table border=\"1\" class=\"dataframe\">\n",
       "  <thead>\n",
       "    <tr style=\"text-align: right;\">\n",
       "      <th></th>\n",
       "      <th></th>\n",
       "      <th>총인구수</th>\n",
       "      <th>남자인구수</th>\n",
       "      <th>여자인구수</th>\n",
       "      <th>남여비율</th>\n",
       "    </tr>\n",
       "  </thead>\n",
       "  <tbody>\n",
       "    <tr>\n",
       "      <th rowspan=\"2\" valign=\"top\">서울특별시</th>\n",
       "      <th>2010</th>\n",
       "      <td>10312545</td>\n",
       "      <td>5111259</td>\n",
       "      <td>5201286</td>\n",
       "      <td>98.269140</td>\n",
       "    </tr>\n",
       "    <tr>\n",
       "      <th>2020</th>\n",
       "      <td>9720846</td>\n",
       "      <td>4732275</td>\n",
       "      <td>4988571</td>\n",
       "      <td>94.862336</td>\n",
       "    </tr>\n",
       "    <tr>\n",
       "      <th rowspan=\"2\" valign=\"top\">부산광역시</th>\n",
       "      <th>2010</th>\n",
       "      <td>3567910</td>\n",
       "      <td>1773170</td>\n",
       "      <td>1794740</td>\n",
       "      <td>98.798155</td>\n",
       "    </tr>\n",
       "    <tr>\n",
       "      <th>2020</th>\n",
       "      <td>3404423</td>\n",
       "      <td>1668618</td>\n",
       "      <td>1735805</td>\n",
       "      <td>96.129346</td>\n",
       "    </tr>\n",
       "    <tr>\n",
       "      <th rowspan=\"2\" valign=\"top\">인천광역시</th>\n",
       "      <th>2010</th>\n",
       "      <td>2758296</td>\n",
       "      <td>1390356</td>\n",
       "      <td>1367940</td>\n",
       "      <td>101.638668</td>\n",
       "    </tr>\n",
       "    <tr>\n",
       "      <th>2020</th>\n",
       "      <td>2947217</td>\n",
       "      <td>1476813</td>\n",
       "      <td>1470404</td>\n",
       "      <td>100.435867</td>\n",
       "    </tr>\n",
       "    <tr>\n",
       "      <th rowspan=\"2\" valign=\"top\">대전광역시</th>\n",
       "      <th>2010</th>\n",
       "      <td>2511676</td>\n",
       "      <td>1255245</td>\n",
       "      <td>1256431</td>\n",
       "      <td>99.905606</td>\n",
       "    </tr>\n",
       "    <tr>\n",
       "      <th>2020</th>\n",
       "      <td>2427954</td>\n",
       "      <td>1198815</td>\n",
       "      <td>1229139</td>\n",
       "      <td>97.532907</td>\n",
       "    </tr>\n",
       "    <tr>\n",
       "      <th rowspan=\"2\" valign=\"top\">광주광역시</th>\n",
       "      <th>2010</th>\n",
       "      <td>1454636</td>\n",
       "      <td>721780</td>\n",
       "      <td>732856</td>\n",
       "      <td>98.488653</td>\n",
       "    </tr>\n",
       "    <tr>\n",
       "      <th>2020</th>\n",
       "      <td>1455048</td>\n",
       "      <td>720560</td>\n",
       "      <td>734988</td>\n",
       "      <td>98.036975</td>\n",
       "    </tr>\n",
       "  </tbody>\n",
       "</table>\n",
       "</div>"
      ],
      "text/plain": [
       "                총인구수    남자인구수    여자인구수        남여비율\n",
       "서울특별시 2010  10312545  5111259  5201286   98.269140\n",
       "      2020   9720846  4732275  4988571   94.862336\n",
       "부산광역시 2010   3567910  1773170  1794740   98.798155\n",
       "      2020   3404423  1668618  1735805   96.129346\n",
       "인천광역시 2010   2758296  1390356  1367940  101.638668\n",
       "      2020   2947217  1476813  1470404  100.435867\n",
       "대전광역시 2010   2511676  1255245  1256431   99.905606\n",
       "      2020   2427954  1198815  1229139   97.532907\n",
       "광주광역시 2010   1454636   721780   732856   98.488653\n",
       "      2020   1455048   720560   734988   98.036975"
      ]
     },
     "execution_count": 94,
     "metadata": {},
     "output_type": "execute_result"
    }
   ],
   "source": [
    "korea_mdf = pd.DataFrame({'총인구수': population,\n",
    "                          '남자인구수': male_tuple,\n",
    "                          '여자인구수': female_tuple,\n",
    "                          '남여비율':ratio})\n",
    "korea_mdf\n"
   ]
  },
  {
   "cell_type": "code",
   "execution_count": 95,
   "metadata": {},
   "outputs": [
    {
     "data": {
      "text/html": [
       "<div>\n",
       "<style scoped>\n",
       "    .dataframe tbody tr th:only-of-type {\n",
       "        vertical-align: middle;\n",
       "    }\n",
       "\n",
       "    .dataframe tbody tr th {\n",
       "        vertical-align: top;\n",
       "    }\n",
       "\n",
       "    .dataframe thead th {\n",
       "        text-align: right;\n",
       "    }\n",
       "</style>\n",
       "<table border=\"1\" class=\"dataframe\">\n",
       "  <thead>\n",
       "    <tr style=\"text-align: right;\">\n",
       "      <th></th>\n",
       "      <th></th>\n",
       "      <th>c1</th>\n",
       "      <th>c2</th>\n",
       "      <th>c3</th>\n",
       "    </tr>\n",
       "  </thead>\n",
       "  <tbody>\n",
       "    <tr>\n",
       "      <th rowspan=\"2\" valign=\"top\">a</th>\n",
       "      <th>1</th>\n",
       "      <td>0.675910</td>\n",
       "      <td>0.781185</td>\n",
       "      <td>0.498196</td>\n",
       "    </tr>\n",
       "    <tr>\n",
       "      <th>2</th>\n",
       "      <td>0.697326</td>\n",
       "      <td>0.879335</td>\n",
       "      <td>0.947714</td>\n",
       "    </tr>\n",
       "    <tr>\n",
       "      <th rowspan=\"2\" valign=\"top\">b</th>\n",
       "      <th>1</th>\n",
       "      <td>0.762119</td>\n",
       "      <td>0.834410</td>\n",
       "      <td>0.606313</td>\n",
       "    </tr>\n",
       "    <tr>\n",
       "      <th>2</th>\n",
       "      <td>0.722053</td>\n",
       "      <td>0.816224</td>\n",
       "      <td>0.552991</td>\n",
       "    </tr>\n",
       "    <tr>\n",
       "      <th rowspan=\"2\" valign=\"top\">c</th>\n",
       "      <th>1</th>\n",
       "      <td>0.767109</td>\n",
       "      <td>0.844818</td>\n",
       "      <td>0.142232</td>\n",
       "    </tr>\n",
       "    <tr>\n",
       "      <th>2</th>\n",
       "      <td>0.562317</td>\n",
       "      <td>0.639250</td>\n",
       "      <td>0.956168</td>\n",
       "    </tr>\n",
       "  </tbody>\n",
       "</table>\n",
       "</div>"
      ],
      "text/plain": [
       "           c1        c2        c3\n",
       "a 1  0.675910  0.781185  0.498196\n",
       "  2  0.697326  0.879335  0.947714\n",
       "b 1  0.762119  0.834410  0.606313\n",
       "  2  0.722053  0.816224  0.552991\n",
       "c 1  0.767109  0.844818  0.142232\n",
       "  2  0.562317  0.639250  0.956168"
      ]
     },
     "execution_count": 95,
     "metadata": {},
     "output_type": "execute_result"
    }
   ],
   "source": [
    "df = pd.DataFrame(np.random.rand(6, 3),\n",
    "                  index = [['a', 'a', 'b', 'b', 'c', 'c'], [1, 2, 1, 2, 1, 2]],\n",
    "                  columns = ['c1', 'c2', 'c3'])\n",
    "df"
   ]
  },
  {
   "cell_type": "code",
   "execution_count": 96,
   "metadata": {},
   "outputs": [
    {
     "data": {
      "text/plain": [
       "MultiIndex([('a', 1),\n",
       "            ('a', 2),\n",
       "            ('b', 1),\n",
       "            ('b', 2),\n",
       "            ('c', 1),\n",
       "            ('c', 2)],\n",
       "           )"
      ]
     },
     "execution_count": 96,
     "metadata": {},
     "output_type": "execute_result"
    }
   ],
   "source": [
    "pd.MultiIndex.from_arrays([['a', 'a', 'b', 'b', 'c', 'c'], [1, 2, 1, 2, 1, 2]])\n"
   ]
  },
  {
   "cell_type": "code",
   "execution_count": 98,
   "metadata": {},
   "outputs": [
    {
     "data": {
      "text/plain": [
       "MultiIndex([('a', 1),\n",
       "            ('a', 2),\n",
       "            ('b', 1),\n",
       "            ('b', 2),\n",
       "            ('c', 1),\n",
       "            ('c', 2)],\n",
       "           )"
      ]
     },
     "execution_count": 98,
     "metadata": {},
     "output_type": "execute_result"
    }
   ],
   "source": [
    "pd.MultiIndex.from_tuples([('a', 1), ('a', 2), ('b', 1), ('b', 2), ('c', 1), ('c', 2)])"
   ]
  },
  {
   "cell_type": "code",
   "execution_count": 100,
   "metadata": {},
   "outputs": [
    {
     "data": {
      "text/plain": [
       "MultiIndex([('a', 1),\n",
       "            ('a', 2),\n",
       "            ('b', 1),\n",
       "            ('b', 2),\n",
       "            ('c', 1),\n",
       "            ('c', 2)],\n",
       "           )"
      ]
     },
     "execution_count": 100,
     "metadata": {},
     "output_type": "execute_result"
    }
   ],
   "source": [
    "pd.MultiIndex.from_product([['a', 'b', 'c'], [1, 2]])"
   ]
  },
  {
   "cell_type": "code",
   "execution_count": 102,
   "metadata": {},
   "outputs": [
    {
     "data": {
      "text/plain": [
       "MultiIndex([('a', 1),\n",
       "            ('a', 2),\n",
       "            ('b', 1),\n",
       "            ('b', 2),\n",
       "            ('c', 1),\n",
       "            ('c', 2)],\n",
       "           )"
      ]
     },
     "execution_count": 102,
     "metadata": {},
     "output_type": "execute_result"
    }
   ],
   "source": [
    "pd.MultiIndex(levels=[['a', 'b', 'c'], [1, 2]],\n",
    "              codes=[[0, 0, 1, 1, 2, 2], [0, 1, 0, 1, 0, 1]])"
   ]
  },
  {
   "cell_type": "code",
   "execution_count": 103,
   "metadata": {},
   "outputs": [
    {
     "data": {
      "text/plain": [
       "서울특별시  2010    10312545\n",
       "       2020     9720846\n",
       "부산광역시  2010     3567910\n",
       "       2020     3404423\n",
       "인천광역시  2010     2758296\n",
       "       2020     2947217\n",
       "대전광역시  2010     2511676\n",
       "       2020     2427954\n",
       "광주광역시  2010     1454636\n",
       "       2020     1455048\n",
       "dtype: int64"
      ]
     },
     "execution_count": 103,
     "metadata": {},
     "output_type": "execute_result"
    }
   ],
   "source": [
    "population"
   ]
  },
  {
   "cell_type": "code",
   "execution_count": 104,
   "metadata": {},
   "outputs": [
    {
     "data": {
      "text/plain": [
       "행정구역   연도  \n",
       "서울특별시  2010    10312545\n",
       "       2020     9720846\n",
       "부산광역시  2010     3567910\n",
       "       2020     3404423\n",
       "인천광역시  2010     2758296\n",
       "       2020     2947217\n",
       "대전광역시  2010     2511676\n",
       "       2020     2427954\n",
       "광주광역시  2010     1454636\n",
       "       2020     1455048\n",
       "dtype: int64"
      ]
     },
     "execution_count": 104,
     "metadata": {},
     "output_type": "execute_result"
    }
   ],
   "source": [
    "population.index.names = ['행정구역', '연도']\n",
    "population"
   ]
  },
  {
   "cell_type": "code",
   "execution_count": 105,
   "metadata": {},
   "outputs": [
    {
     "data": {
      "text/html": [
       "<div>\n",
       "<style scoped>\n",
       "    .dataframe tbody tr th:only-of-type {\n",
       "        vertical-align: middle;\n",
       "    }\n",
       "\n",
       "    .dataframe tbody tr th {\n",
       "        vertical-align: top;\n",
       "    }\n",
       "\n",
       "    .dataframe thead tr th {\n",
       "        text-align: left;\n",
       "    }\n",
       "\n",
       "    .dataframe thead tr:last-of-type th {\n",
       "        text-align: right;\n",
       "    }\n",
       "</style>\n",
       "<table border=\"1\" class=\"dataframe\">\n",
       "  <thead>\n",
       "    <tr>\n",
       "      <th></th>\n",
       "      <th>col_name1</th>\n",
       "      <th colspan=\"2\" halign=\"left\">c1</th>\n",
       "      <th colspan=\"2\" halign=\"left\">c2</th>\n",
       "      <th colspan=\"2\" halign=\"left\">c3</th>\n",
       "    </tr>\n",
       "    <tr>\n",
       "      <th></th>\n",
       "      <th>col_name2</th>\n",
       "      <th>1</th>\n",
       "      <th>2</th>\n",
       "      <th>1</th>\n",
       "      <th>2</th>\n",
       "      <th>1</th>\n",
       "      <th>2</th>\n",
       "    </tr>\n",
       "    <tr>\n",
       "      <th>name1</th>\n",
       "      <th>name2</th>\n",
       "      <th></th>\n",
       "      <th></th>\n",
       "      <th></th>\n",
       "      <th></th>\n",
       "      <th></th>\n",
       "      <th></th>\n",
       "    </tr>\n",
       "  </thead>\n",
       "  <tbody>\n",
       "    <tr>\n",
       "      <th rowspan=\"2\" valign=\"top\">a</th>\n",
       "      <th>1</th>\n",
       "      <td>-0.97</td>\n",
       "      <td>-1.53</td>\n",
       "      <td>-0.30</td>\n",
       "      <td>-0.50</td>\n",
       "      <td>2.37</td>\n",
       "      <td>-1.79</td>\n",
       "    </tr>\n",
       "    <tr>\n",
       "      <th>2</th>\n",
       "      <td>0.52</td>\n",
       "      <td>0.70</td>\n",
       "      <td>0.79</td>\n",
       "      <td>-0.85</td>\n",
       "      <td>2.16</td>\n",
       "      <td>0.21</td>\n",
       "    </tr>\n",
       "    <tr>\n",
       "      <th rowspan=\"2\" valign=\"top\">b</th>\n",
       "      <th>1</th>\n",
       "      <td>0.40</td>\n",
       "      <td>0.22</td>\n",
       "      <td>-0.14</td>\n",
       "      <td>0.26</td>\n",
       "      <td>-0.41</td>\n",
       "      <td>-1.03</td>\n",
       "    </tr>\n",
       "    <tr>\n",
       "      <th>2</th>\n",
       "      <td>-1.51</td>\n",
       "      <td>-1.41</td>\n",
       "      <td>-1.98</td>\n",
       "      <td>0.93</td>\n",
       "      <td>-1.51</td>\n",
       "      <td>-0.31</td>\n",
       "    </tr>\n",
       "    <tr>\n",
       "      <th rowspan=\"2\" valign=\"top\">c</th>\n",
       "      <th>1</th>\n",
       "      <td>0.09</td>\n",
       "      <td>0.14</td>\n",
       "      <td>-0.15</td>\n",
       "      <td>-0.03</td>\n",
       "      <td>-0.83</td>\n",
       "      <td>1.00</td>\n",
       "    </tr>\n",
       "    <tr>\n",
       "      <th>2</th>\n",
       "      <td>-1.51</td>\n",
       "      <td>0.95</td>\n",
       "      <td>0.26</td>\n",
       "      <td>0.83</td>\n",
       "      <td>-1.56</td>\n",
       "      <td>0.75</td>\n",
       "    </tr>\n",
       "  </tbody>\n",
       "</table>\n",
       "</div>"
      ],
      "text/plain": [
       "col_name1      c1          c2          c3      \n",
       "col_name2       1     2     1     2     1     2\n",
       "name1 name2                                    \n",
       "a     1     -0.97 -1.53 -0.30 -0.50  2.37 -1.79\n",
       "      2      0.52  0.70  0.79 -0.85  2.16  0.21\n",
       "b     1      0.40  0.22 -0.14  0.26 -0.41 -1.03\n",
       "      2     -1.51 -1.41 -1.98  0.93 -1.51 -0.31\n",
       "c     1      0.09  0.14 -0.15 -0.03 -0.83  1.00\n",
       "      2     -1.51  0.95  0.26  0.83 -1.56  0.75"
      ]
     },
     "execution_count": 105,
     "metadata": {},
     "output_type": "execute_result"
    }
   ],
   "source": [
    "idx = pd.MultiIndex.from_product([['a', 'b', 'c'], [1, 2]],\n",
    "                                 names=['name1', 'name2'])\n",
    "cols = pd.MultiIndex.from_product([['c1', 'c2', 'c3'], [1, 2]],\n",
    "                                  names=['col_name1', 'col_name2'])\n",
    "data = np.round(np.random.randn(6, 6), 2)\n",
    "mdf = pd.DataFrame(data, index = idx, columns=cols)\n",
    "mdf"
   ]
  },
  {
   "cell_type": "code",
   "execution_count": 106,
   "metadata": {},
   "outputs": [
    {
     "data": {
      "text/html": [
       "<div>\n",
       "<style scoped>\n",
       "    .dataframe tbody tr th:only-of-type {\n",
       "        vertical-align: middle;\n",
       "    }\n",
       "\n",
       "    .dataframe tbody tr th {\n",
       "        vertical-align: top;\n",
       "    }\n",
       "\n",
       "    .dataframe thead th {\n",
       "        text-align: right;\n",
       "    }\n",
       "</style>\n",
       "<table border=\"1\" class=\"dataframe\">\n",
       "  <thead>\n",
       "    <tr style=\"text-align: right;\">\n",
       "      <th></th>\n",
       "      <th>col_name2</th>\n",
       "      <th>1</th>\n",
       "      <th>2</th>\n",
       "    </tr>\n",
       "    <tr>\n",
       "      <th>name1</th>\n",
       "      <th>name2</th>\n",
       "      <th></th>\n",
       "      <th></th>\n",
       "    </tr>\n",
       "  </thead>\n",
       "  <tbody>\n",
       "    <tr>\n",
       "      <th rowspan=\"2\" valign=\"top\">a</th>\n",
       "      <th>1</th>\n",
       "      <td>-0.30</td>\n",
       "      <td>-0.50</td>\n",
       "    </tr>\n",
       "    <tr>\n",
       "      <th>2</th>\n",
       "      <td>0.79</td>\n",
       "      <td>-0.85</td>\n",
       "    </tr>\n",
       "    <tr>\n",
       "      <th rowspan=\"2\" valign=\"top\">b</th>\n",
       "      <th>1</th>\n",
       "      <td>-0.14</td>\n",
       "      <td>0.26</td>\n",
       "    </tr>\n",
       "    <tr>\n",
       "      <th>2</th>\n",
       "      <td>-1.98</td>\n",
       "      <td>0.93</td>\n",
       "    </tr>\n",
       "    <tr>\n",
       "      <th rowspan=\"2\" valign=\"top\">c</th>\n",
       "      <th>1</th>\n",
       "      <td>-0.15</td>\n",
       "      <td>-0.03</td>\n",
       "    </tr>\n",
       "    <tr>\n",
       "      <th>2</th>\n",
       "      <td>0.26</td>\n",
       "      <td>0.83</td>\n",
       "    </tr>\n",
       "  </tbody>\n",
       "</table>\n",
       "</div>"
      ],
      "text/plain": [
       "col_name2       1     2\n",
       "name1 name2            \n",
       "a     1     -0.30 -0.50\n",
       "      2      0.79 -0.85\n",
       "b     1     -0.14  0.26\n",
       "      2     -1.98  0.93\n",
       "c     1     -0.15 -0.03\n",
       "      2      0.26  0.83"
      ]
     },
     "execution_count": 106,
     "metadata": {},
     "output_type": "execute_result"
    }
   ],
   "source": [
    "mdf['c2']"
   ]
  },
  {
   "cell_type": "code",
   "execution_count": 107,
   "metadata": {},
   "outputs": [
    {
     "data": {
      "text/plain": [
       "행정구역   연도  \n",
       "서울특별시  2010    10312545\n",
       "       2020     9720846\n",
       "부산광역시  2010     3567910\n",
       "       2020     3404423\n",
       "인천광역시  2010     2758296\n",
       "       2020     2947217\n",
       "대전광역시  2010     2511676\n",
       "       2020     2427954\n",
       "광주광역시  2010     1454636\n",
       "       2020     1455048\n",
       "dtype: int64"
      ]
     },
     "execution_count": 107,
     "metadata": {},
     "output_type": "execute_result"
    }
   ],
   "source": [
    "population"
   ]
  },
  {
   "cell_type": "code",
   "execution_count": 108,
   "metadata": {},
   "outputs": [
    {
     "data": {
      "text/plain": [
       "2758296"
      ]
     },
     "execution_count": 108,
     "metadata": {},
     "output_type": "execute_result"
    }
   ],
   "source": [
    "population['인천광역시', 2010]"
   ]
  },
  {
   "cell_type": "code",
   "execution_count": 109,
   "metadata": {},
   "outputs": [
    {
     "data": {
      "text/plain": [
       "행정구역\n",
       "서울특별시    10312545\n",
       "부산광역시     3567910\n",
       "인천광역시     2758296\n",
       "대전광역시     2511676\n",
       "광주광역시     1454636\n",
       "dtype: int64"
      ]
     },
     "execution_count": 109,
     "metadata": {},
     "output_type": "execute_result"
    }
   ],
   "source": [
    "population[:, 2010]"
   ]
  },
  {
   "cell_type": "code",
   "execution_count": 110,
   "metadata": {},
   "outputs": [
    {
     "data": {
      "text/plain": [
       "행정구역   연도  \n",
       "서울특별시  2010    10312545\n",
       "       2020     9720846\n",
       "부산광역시  2010     3567910\n",
       "       2020     3404423\n",
       "dtype: int64"
      ]
     },
     "execution_count": 110,
     "metadata": {},
     "output_type": "execute_result"
    }
   ],
   "source": [
    "population[population>3000000]"
   ]
  },
  {
   "cell_type": "code",
   "execution_count": 112,
   "metadata": {},
   "outputs": [
    {
     "data": {
      "text/plain": [
       "행정구역   연도  \n",
       "광주광역시  2010    1454636\n",
       "       2020    1455048\n",
       "대전광역시  2010    2511676\n",
       "       2020    2427954\n",
       "dtype: int64"
      ]
     },
     "execution_count": 112,
     "metadata": {},
     "output_type": "execute_result"
    }
   ],
   "source": [
    "population[['광주광역시', '대전광역시']]"
   ]
  },
  {
   "cell_type": "code",
   "execution_count": 113,
   "metadata": {},
   "outputs": [
    {
     "data": {
      "text/html": [
       "<div>\n",
       "<style scoped>\n",
       "    .dataframe tbody tr th:only-of-type {\n",
       "        vertical-align: middle;\n",
       "    }\n",
       "\n",
       "    .dataframe tbody tr th {\n",
       "        vertical-align: top;\n",
       "    }\n",
       "\n",
       "    .dataframe thead tr th {\n",
       "        text-align: left;\n",
       "    }\n",
       "\n",
       "    .dataframe thead tr:last-of-type th {\n",
       "        text-align: right;\n",
       "    }\n",
       "</style>\n",
       "<table border=\"1\" class=\"dataframe\">\n",
       "  <thead>\n",
       "    <tr>\n",
       "      <th></th>\n",
       "      <th>col_name1</th>\n",
       "      <th colspan=\"2\" halign=\"left\">c1</th>\n",
       "      <th colspan=\"2\" halign=\"left\">c2</th>\n",
       "      <th colspan=\"2\" halign=\"left\">c3</th>\n",
       "    </tr>\n",
       "    <tr>\n",
       "      <th></th>\n",
       "      <th>col_name2</th>\n",
       "      <th>1</th>\n",
       "      <th>2</th>\n",
       "      <th>1</th>\n",
       "      <th>2</th>\n",
       "      <th>1</th>\n",
       "      <th>2</th>\n",
       "    </tr>\n",
       "    <tr>\n",
       "      <th>name1</th>\n",
       "      <th>name2</th>\n",
       "      <th></th>\n",
       "      <th></th>\n",
       "      <th></th>\n",
       "      <th></th>\n",
       "      <th></th>\n",
       "      <th></th>\n",
       "    </tr>\n",
       "  </thead>\n",
       "  <tbody>\n",
       "    <tr>\n",
       "      <th rowspan=\"2\" valign=\"top\">a</th>\n",
       "      <th>1</th>\n",
       "      <td>-0.97</td>\n",
       "      <td>-1.53</td>\n",
       "      <td>-0.30</td>\n",
       "      <td>-0.50</td>\n",
       "      <td>2.37</td>\n",
       "      <td>-1.79</td>\n",
       "    </tr>\n",
       "    <tr>\n",
       "      <th>2</th>\n",
       "      <td>0.52</td>\n",
       "      <td>0.70</td>\n",
       "      <td>0.79</td>\n",
       "      <td>-0.85</td>\n",
       "      <td>2.16</td>\n",
       "      <td>0.21</td>\n",
       "    </tr>\n",
       "    <tr>\n",
       "      <th rowspan=\"2\" valign=\"top\">b</th>\n",
       "      <th>1</th>\n",
       "      <td>0.40</td>\n",
       "      <td>0.22</td>\n",
       "      <td>-0.14</td>\n",
       "      <td>0.26</td>\n",
       "      <td>-0.41</td>\n",
       "      <td>-1.03</td>\n",
       "    </tr>\n",
       "    <tr>\n",
       "      <th>2</th>\n",
       "      <td>-1.51</td>\n",
       "      <td>-1.41</td>\n",
       "      <td>-1.98</td>\n",
       "      <td>0.93</td>\n",
       "      <td>-1.51</td>\n",
       "      <td>-0.31</td>\n",
       "    </tr>\n",
       "    <tr>\n",
       "      <th rowspan=\"2\" valign=\"top\">c</th>\n",
       "      <th>1</th>\n",
       "      <td>0.09</td>\n",
       "      <td>0.14</td>\n",
       "      <td>-0.15</td>\n",
       "      <td>-0.03</td>\n",
       "      <td>-0.83</td>\n",
       "      <td>1.00</td>\n",
       "    </tr>\n",
       "    <tr>\n",
       "      <th>2</th>\n",
       "      <td>-1.51</td>\n",
       "      <td>0.95</td>\n",
       "      <td>0.26</td>\n",
       "      <td>0.83</td>\n",
       "      <td>-1.56</td>\n",
       "      <td>0.75</td>\n",
       "    </tr>\n",
       "  </tbody>\n",
       "</table>\n",
       "</div>"
      ],
      "text/plain": [
       "col_name1      c1          c2          c3      \n",
       "col_name2       1     2     1     2     1     2\n",
       "name1 name2                                    \n",
       "a     1     -0.97 -1.53 -0.30 -0.50  2.37 -1.79\n",
       "      2      0.52  0.70  0.79 -0.85  2.16  0.21\n",
       "b     1      0.40  0.22 -0.14  0.26 -0.41 -1.03\n",
       "      2     -1.51 -1.41 -1.98  0.93 -1.51 -0.31\n",
       "c     1      0.09  0.14 -0.15 -0.03 -0.83  1.00\n",
       "      2     -1.51  0.95  0.26  0.83 -1.56  0.75"
      ]
     },
     "execution_count": 113,
     "metadata": {},
     "output_type": "execute_result"
    }
   ],
   "source": [
    "mdf"
   ]
  },
  {
   "cell_type": "code",
   "execution_count": 114,
   "metadata": {},
   "outputs": [
    {
     "data": {
      "text/plain": [
       "name1  name2\n",
       "a      1       -0.30\n",
       "       2        0.79\n",
       "b      1       -0.14\n",
       "       2       -1.98\n",
       "c      1       -0.15\n",
       "       2        0.26\n",
       "Name: (c2, 1), dtype: float64"
      ]
     },
     "execution_count": 114,
     "metadata": {},
     "output_type": "execute_result"
    }
   ],
   "source": [
    "mdf['c2', 1]"
   ]
  },
  {
   "cell_type": "code",
   "execution_count": 115,
   "metadata": {},
   "outputs": [
    {
     "data": {
      "text/html": [
       "<div>\n",
       "<style scoped>\n",
       "    .dataframe tbody tr th:only-of-type {\n",
       "        vertical-align: middle;\n",
       "    }\n",
       "\n",
       "    .dataframe tbody tr th {\n",
       "        vertical-align: top;\n",
       "    }\n",
       "\n",
       "    .dataframe thead tr th {\n",
       "        text-align: left;\n",
       "    }\n",
       "\n",
       "    .dataframe thead tr:last-of-type th {\n",
       "        text-align: right;\n",
       "    }\n",
       "</style>\n",
       "<table border=\"1\" class=\"dataframe\">\n",
       "  <thead>\n",
       "    <tr>\n",
       "      <th></th>\n",
       "      <th>col_name1</th>\n",
       "      <th colspan=\"2\" halign=\"left\">c1</th>\n",
       "      <th>c2</th>\n",
       "    </tr>\n",
       "    <tr>\n",
       "      <th></th>\n",
       "      <th>col_name2</th>\n",
       "      <th>1</th>\n",
       "      <th>2</th>\n",
       "      <th>1</th>\n",
       "    </tr>\n",
       "    <tr>\n",
       "      <th>name1</th>\n",
       "      <th>name2</th>\n",
       "      <th></th>\n",
       "      <th></th>\n",
       "      <th></th>\n",
       "    </tr>\n",
       "  </thead>\n",
       "  <tbody>\n",
       "    <tr>\n",
       "      <th rowspan=\"2\" valign=\"top\">a</th>\n",
       "      <th>1</th>\n",
       "      <td>-0.97</td>\n",
       "      <td>-1.53</td>\n",
       "      <td>-0.30</td>\n",
       "    </tr>\n",
       "    <tr>\n",
       "      <th>2</th>\n",
       "      <td>0.52</td>\n",
       "      <td>0.70</td>\n",
       "      <td>0.79</td>\n",
       "    </tr>\n",
       "    <tr>\n",
       "      <th>b</th>\n",
       "      <th>1</th>\n",
       "      <td>0.40</td>\n",
       "      <td>0.22</td>\n",
       "      <td>-0.14</td>\n",
       "    </tr>\n",
       "  </tbody>\n",
       "</table>\n",
       "</div>"
      ],
      "text/plain": [
       "col_name1      c1          c2\n",
       "col_name2       1     2     1\n",
       "name1 name2                  \n",
       "a     1     -0.97 -1.53 -0.30\n",
       "      2      0.52  0.70  0.79\n",
       "b     1      0.40  0.22 -0.14"
      ]
     },
     "execution_count": 115,
     "metadata": {},
     "output_type": "execute_result"
    }
   ],
   "source": [
    "mdf.iloc[:3, :3]"
   ]
  },
  {
   "cell_type": "code",
   "execution_count": 116,
   "metadata": {},
   "outputs": [
    {
     "data": {
      "text/plain": [
       "name1  name2\n",
       "a      1       -0.30\n",
       "       2        0.79\n",
       "b      1       -0.14\n",
       "       2       -1.98\n",
       "c      1       -0.15\n",
       "       2        0.26\n",
       "Name: (c2, 1), dtype: float64"
      ]
     },
     "execution_count": 116,
     "metadata": {},
     "output_type": "execute_result"
    }
   ],
   "source": [
    "mdf.loc[:, ('c2', 1)]"
   ]
  },
  {
   "cell_type": "code",
   "execution_count": 117,
   "metadata": {},
   "outputs": [
    {
     "data": {
      "text/html": [
       "<div>\n",
       "<style scoped>\n",
       "    .dataframe tbody tr th:only-of-type {\n",
       "        vertical-align: middle;\n",
       "    }\n",
       "\n",
       "    .dataframe tbody tr th {\n",
       "        vertical-align: top;\n",
       "    }\n",
       "\n",
       "    .dataframe thead tr th {\n",
       "        text-align: left;\n",
       "    }\n",
       "\n",
       "    .dataframe thead tr:last-of-type th {\n",
       "        text-align: right;\n",
       "    }\n",
       "</style>\n",
       "<table border=\"1\" class=\"dataframe\">\n",
       "  <thead>\n",
       "    <tr>\n",
       "      <th></th>\n",
       "      <th>col_name1</th>\n",
       "      <th>c1</th>\n",
       "      <th>c2</th>\n",
       "      <th>c3</th>\n",
       "    </tr>\n",
       "    <tr>\n",
       "      <th></th>\n",
       "      <th>col_name2</th>\n",
       "      <th>2</th>\n",
       "      <th>2</th>\n",
       "      <th>2</th>\n",
       "    </tr>\n",
       "    <tr>\n",
       "      <th>name1</th>\n",
       "      <th>name2</th>\n",
       "      <th></th>\n",
       "      <th></th>\n",
       "      <th></th>\n",
       "    </tr>\n",
       "  </thead>\n",
       "  <tbody>\n",
       "    <tr>\n",
       "      <th>a</th>\n",
       "      <th>2</th>\n",
       "      <td>0.70</td>\n",
       "      <td>-0.85</td>\n",
       "      <td>0.21</td>\n",
       "    </tr>\n",
       "    <tr>\n",
       "      <th>b</th>\n",
       "      <th>2</th>\n",
       "      <td>-1.41</td>\n",
       "      <td>0.93</td>\n",
       "      <td>-0.31</td>\n",
       "    </tr>\n",
       "    <tr>\n",
       "      <th>c</th>\n",
       "      <th>2</th>\n",
       "      <td>0.95</td>\n",
       "      <td>0.83</td>\n",
       "      <td>0.75</td>\n",
       "    </tr>\n",
       "  </tbody>\n",
       "</table>\n",
       "</div>"
      ],
      "text/plain": [
       "col_name1      c1    c2    c3\n",
       "col_name2       2     2     2\n",
       "name1 name2                  \n",
       "a     2      0.70 -0.85  0.21\n",
       "b     2     -1.41  0.93 -0.31\n",
       "c     2      0.95  0.83  0.75"
      ]
     },
     "execution_count": 117,
     "metadata": {},
     "output_type": "execute_result"
    }
   ],
   "source": [
    "idx_slice = pd.IndexSlice\n",
    "mdf.loc[idx_slice[:, 2], idx_slice[:, 2]]"
   ]
  },
  {
   "cell_type": "code",
   "execution_count": 118,
   "metadata": {},
   "outputs": [
    {
     "data": {
      "text/plain": [
       "MultiIndex([('a', 1),\n",
       "            ('a', 2),\n",
       "            ('b', 1),\n",
       "            ('b', 2),\n",
       "            ('c', 1),\n",
       "            ('c', 2)],\n",
       "           names=['name1', 'name2'])"
      ]
     },
     "execution_count": 118,
     "metadata": {},
     "output_type": "execute_result"
    }
   ],
   "source": [
    "idx"
   ]
  },
  {
   "cell_type": "code",
   "execution_count": 119,
   "metadata": {},
   "outputs": [
    {
     "data": {
      "text/html": [
       "<div>\n",
       "<style scoped>\n",
       "    .dataframe tbody tr th:only-of-type {\n",
       "        vertical-align: middle;\n",
       "    }\n",
       "\n",
       "    .dataframe tbody tr th {\n",
       "        vertical-align: top;\n",
       "    }\n",
       "\n",
       "    .dataframe thead th {\n",
       "        text-align: right;\n",
       "    }\n",
       "</style>\n",
       "<table border=\"1\" class=\"dataframe\">\n",
       "  <thead>\n",
       "    <tr style=\"text-align: right;\">\n",
       "      <th></th>\n",
       "      <th></th>\n",
       "      <th>총인구수</th>\n",
       "      <th>남자인구수</th>\n",
       "      <th>여자인구수</th>\n",
       "      <th>남여비율</th>\n",
       "    </tr>\n",
       "    <tr>\n",
       "      <th>행정구역</th>\n",
       "      <th>연도</th>\n",
       "      <th></th>\n",
       "      <th></th>\n",
       "      <th></th>\n",
       "      <th></th>\n",
       "    </tr>\n",
       "  </thead>\n",
       "  <tbody>\n",
       "    <tr>\n",
       "      <th rowspan=\"2\" valign=\"top\">서울특별시</th>\n",
       "      <th>2010</th>\n",
       "      <td>10312545</td>\n",
       "      <td>5111259</td>\n",
       "      <td>5201286</td>\n",
       "      <td>98.269140</td>\n",
       "    </tr>\n",
       "    <tr>\n",
       "      <th>2020</th>\n",
       "      <td>9720846</td>\n",
       "      <td>4732275</td>\n",
       "      <td>4988571</td>\n",
       "      <td>94.862336</td>\n",
       "    </tr>\n",
       "    <tr>\n",
       "      <th rowspan=\"2\" valign=\"top\">부산광역시</th>\n",
       "      <th>2010</th>\n",
       "      <td>3567910</td>\n",
       "      <td>1773170</td>\n",
       "      <td>1794740</td>\n",
       "      <td>98.798155</td>\n",
       "    </tr>\n",
       "    <tr>\n",
       "      <th>2020</th>\n",
       "      <td>3404423</td>\n",
       "      <td>1668618</td>\n",
       "      <td>1735805</td>\n",
       "      <td>96.129346</td>\n",
       "    </tr>\n",
       "    <tr>\n",
       "      <th rowspan=\"2\" valign=\"top\">인천광역시</th>\n",
       "      <th>2010</th>\n",
       "      <td>2758296</td>\n",
       "      <td>1390356</td>\n",
       "      <td>1367940</td>\n",
       "      <td>101.638668</td>\n",
       "    </tr>\n",
       "    <tr>\n",
       "      <th>2020</th>\n",
       "      <td>2947217</td>\n",
       "      <td>1476813</td>\n",
       "      <td>1470404</td>\n",
       "      <td>100.435867</td>\n",
       "    </tr>\n",
       "    <tr>\n",
       "      <th rowspan=\"2\" valign=\"top\">대전광역시</th>\n",
       "      <th>2010</th>\n",
       "      <td>2511676</td>\n",
       "      <td>1255245</td>\n",
       "      <td>1256431</td>\n",
       "      <td>99.905606</td>\n",
       "    </tr>\n",
       "    <tr>\n",
       "      <th>2020</th>\n",
       "      <td>2427954</td>\n",
       "      <td>1198815</td>\n",
       "      <td>1229139</td>\n",
       "      <td>97.532907</td>\n",
       "    </tr>\n",
       "    <tr>\n",
       "      <th rowspan=\"2\" valign=\"top\">광주광역시</th>\n",
       "      <th>2010</th>\n",
       "      <td>1454636</td>\n",
       "      <td>721780</td>\n",
       "      <td>732856</td>\n",
       "      <td>98.488653</td>\n",
       "    </tr>\n",
       "    <tr>\n",
       "      <th>2020</th>\n",
       "      <td>1455048</td>\n",
       "      <td>720560</td>\n",
       "      <td>734988</td>\n",
       "      <td>98.036975</td>\n",
       "    </tr>\n",
       "  </tbody>\n",
       "</table>\n",
       "</div>"
      ],
      "text/plain": [
       "                총인구수    남자인구수    여자인구수        남여비율\n",
       "행정구역  연도                                          \n",
       "서울특별시 2010  10312545  5111259  5201286   98.269140\n",
       "      2020   9720846  4732275  4988571   94.862336\n",
       "부산광역시 2010   3567910  1773170  1794740   98.798155\n",
       "      2020   3404423  1668618  1735805   96.129346\n",
       "인천광역시 2010   2758296  1390356  1367940  101.638668\n",
       "      2020   2947217  1476813  1470404  100.435867\n",
       "대전광역시 2010   2511676  1255245  1256431   99.905606\n",
       "      2020   2427954  1198815  1229139   97.532907\n",
       "광주광역시 2010   1454636   721780   732856   98.488653\n",
       "      2020   1455048   720560   734988   98.036975"
      ]
     },
     "execution_count": 119,
     "metadata": {},
     "output_type": "execute_result"
    }
   ],
   "source": [
    "korea_mdf"
   ]
  },
  {
   "cell_type": "code",
   "execution_count": 121,
   "metadata": {},
   "outputs": [
    {
     "data": {
      "text/html": [
       "<div>\n",
       "<style scoped>\n",
       "    .dataframe tbody tr th:only-of-type {\n",
       "        vertical-align: middle;\n",
       "    }\n",
       "\n",
       "    .dataframe tbody tr th {\n",
       "        vertical-align: top;\n",
       "    }\n",
       "\n",
       "    .dataframe thead th {\n",
       "        text-align: right;\n",
       "    }\n",
       "</style>\n",
       "<table border=\"1\" class=\"dataframe\">\n",
       "  <thead>\n",
       "    <tr style=\"text-align: right;\">\n",
       "      <th></th>\n",
       "      <th></th>\n",
       "      <th>총인구수</th>\n",
       "      <th>남자인구수</th>\n",
       "      <th>여자인구수</th>\n",
       "      <th>남여비율</th>\n",
       "    </tr>\n",
       "    <tr>\n",
       "      <th>행정구역</th>\n",
       "      <th>연도</th>\n",
       "      <th></th>\n",
       "      <th></th>\n",
       "      <th></th>\n",
       "      <th></th>\n",
       "    </tr>\n",
       "  </thead>\n",
       "  <tbody>\n",
       "    <tr>\n",
       "      <th rowspan=\"2\" valign=\"top\">광주광역시</th>\n",
       "      <th>2010</th>\n",
       "      <td>1454636</td>\n",
       "      <td>721780</td>\n",
       "      <td>732856</td>\n",
       "      <td>98.488653</td>\n",
       "    </tr>\n",
       "    <tr>\n",
       "      <th>2020</th>\n",
       "      <td>1455048</td>\n",
       "      <td>720560</td>\n",
       "      <td>734988</td>\n",
       "      <td>98.036975</td>\n",
       "    </tr>\n",
       "    <tr>\n",
       "      <th rowspan=\"2\" valign=\"top\">대전광역시</th>\n",
       "      <th>2010</th>\n",
       "      <td>2511676</td>\n",
       "      <td>1255245</td>\n",
       "      <td>1256431</td>\n",
       "      <td>99.905606</td>\n",
       "    </tr>\n",
       "    <tr>\n",
       "      <th>2020</th>\n",
       "      <td>2427954</td>\n",
       "      <td>1198815</td>\n",
       "      <td>1229139</td>\n",
       "      <td>97.532907</td>\n",
       "    </tr>\n",
       "    <tr>\n",
       "      <th rowspan=\"2\" valign=\"top\">부산광역시</th>\n",
       "      <th>2010</th>\n",
       "      <td>3567910</td>\n",
       "      <td>1773170</td>\n",
       "      <td>1794740</td>\n",
       "      <td>98.798155</td>\n",
       "    </tr>\n",
       "    <tr>\n",
       "      <th>2020</th>\n",
       "      <td>3404423</td>\n",
       "      <td>1668618</td>\n",
       "      <td>1735805</td>\n",
       "      <td>96.129346</td>\n",
       "    </tr>\n",
       "    <tr>\n",
       "      <th rowspan=\"2\" valign=\"top\">서울특별시</th>\n",
       "      <th>2010</th>\n",
       "      <td>10312545</td>\n",
       "      <td>5111259</td>\n",
       "      <td>5201286</td>\n",
       "      <td>98.269140</td>\n",
       "    </tr>\n",
       "    <tr>\n",
       "      <th>2020</th>\n",
       "      <td>9720846</td>\n",
       "      <td>4732275</td>\n",
       "      <td>4988571</td>\n",
       "      <td>94.862336</td>\n",
       "    </tr>\n",
       "    <tr>\n",
       "      <th rowspan=\"2\" valign=\"top\">인천광역시</th>\n",
       "      <th>2010</th>\n",
       "      <td>2758296</td>\n",
       "      <td>1390356</td>\n",
       "      <td>1367940</td>\n",
       "      <td>101.638668</td>\n",
       "    </tr>\n",
       "    <tr>\n",
       "      <th>2020</th>\n",
       "      <td>2947217</td>\n",
       "      <td>1476813</td>\n",
       "      <td>1470404</td>\n",
       "      <td>100.435867</td>\n",
       "    </tr>\n",
       "  </tbody>\n",
       "</table>\n",
       "</div>"
      ],
      "text/plain": [
       "                총인구수    남자인구수    여자인구수        남여비율\n",
       "행정구역  연도                                          \n",
       "광주광역시 2010   1454636   721780   732856   98.488653\n",
       "      2020   1455048   720560   734988   98.036975\n",
       "대전광역시 2010   2511676  1255245  1256431   99.905606\n",
       "      2020   2427954  1198815  1229139   97.532907\n",
       "부산광역시 2010   3567910  1773170  1794740   98.798155\n",
       "      2020   3404423  1668618  1735805   96.129346\n",
       "서울특별시 2010  10312545  5111259  5201286   98.269140\n",
       "      2020   9720846  4732275  4988571   94.862336\n",
       "인천광역시 2010   2758296  1390356  1367940  101.638668\n",
       "      2020   2947217  1476813  1470404  100.435867"
      ]
     },
     "execution_count": 121,
     "metadata": {},
     "output_type": "execute_result"
    }
   ],
   "source": [
    "# korea_mdf['서울특별시':'인천광역시']\n",
    "korea_mdf = korea_mdf.sort_index()\n",
    "korea_mdf"
   ]
  },
  {
   "cell_type": "code",
   "execution_count": 122,
   "metadata": {},
   "outputs": [
    {
     "data": {
      "text/html": [
       "<div>\n",
       "<style scoped>\n",
       "    .dataframe tbody tr th:only-of-type {\n",
       "        vertical-align: middle;\n",
       "    }\n",
       "\n",
       "    .dataframe tbody tr th {\n",
       "        vertical-align: top;\n",
       "    }\n",
       "\n",
       "    .dataframe thead th {\n",
       "        text-align: right;\n",
       "    }\n",
       "</style>\n",
       "<table border=\"1\" class=\"dataframe\">\n",
       "  <thead>\n",
       "    <tr style=\"text-align: right;\">\n",
       "      <th></th>\n",
       "      <th></th>\n",
       "      <th>총인구수</th>\n",
       "      <th>남자인구수</th>\n",
       "      <th>여자인구수</th>\n",
       "      <th>남여비율</th>\n",
       "    </tr>\n",
       "    <tr>\n",
       "      <th>행정구역</th>\n",
       "      <th>연도</th>\n",
       "      <th></th>\n",
       "      <th></th>\n",
       "      <th></th>\n",
       "      <th></th>\n",
       "    </tr>\n",
       "  </thead>\n",
       "  <tbody>\n",
       "    <tr>\n",
       "      <th rowspan=\"2\" valign=\"top\">서울특별시</th>\n",
       "      <th>2010</th>\n",
       "      <td>10312545</td>\n",
       "      <td>5111259</td>\n",
       "      <td>5201286</td>\n",
       "      <td>98.269140</td>\n",
       "    </tr>\n",
       "    <tr>\n",
       "      <th>2020</th>\n",
       "      <td>9720846</td>\n",
       "      <td>4732275</td>\n",
       "      <td>4988571</td>\n",
       "      <td>94.862336</td>\n",
       "    </tr>\n",
       "    <tr>\n",
       "      <th rowspan=\"2\" valign=\"top\">인천광역시</th>\n",
       "      <th>2010</th>\n",
       "      <td>2758296</td>\n",
       "      <td>1390356</td>\n",
       "      <td>1367940</td>\n",
       "      <td>101.638668</td>\n",
       "    </tr>\n",
       "    <tr>\n",
       "      <th>2020</th>\n",
       "      <td>2947217</td>\n",
       "      <td>1476813</td>\n",
       "      <td>1470404</td>\n",
       "      <td>100.435867</td>\n",
       "    </tr>\n",
       "  </tbody>\n",
       "</table>\n",
       "</div>"
      ],
      "text/plain": [
       "                총인구수    남자인구수    여자인구수        남여비율\n",
       "행정구역  연도                                          \n",
       "서울특별시 2010  10312545  5111259  5201286   98.269140\n",
       "      2020   9720846  4732275  4988571   94.862336\n",
       "인천광역시 2010   2758296  1390356  1367940  101.638668\n",
       "      2020   2947217  1476813  1470404  100.435867"
      ]
     },
     "execution_count": 122,
     "metadata": {},
     "output_type": "execute_result"
    }
   ],
   "source": [
    "korea_mdf['서울특별시':'인천광역시']"
   ]
  },
  {
   "cell_type": "code",
   "execution_count": 123,
   "metadata": {},
   "outputs": [
    {
     "data": {
      "text/html": [
       "<div>\n",
       "<style scoped>\n",
       "    .dataframe tbody tr th:only-of-type {\n",
       "        vertical-align: middle;\n",
       "    }\n",
       "\n",
       "    .dataframe tbody tr th {\n",
       "        vertical-align: top;\n",
       "    }\n",
       "\n",
       "    .dataframe thead tr th {\n",
       "        text-align: left;\n",
       "    }\n",
       "\n",
       "    .dataframe thead tr:last-of-type th {\n",
       "        text-align: right;\n",
       "    }\n",
       "</style>\n",
       "<table border=\"1\" class=\"dataframe\">\n",
       "  <thead>\n",
       "    <tr>\n",
       "      <th></th>\n",
       "      <th colspan=\"5\" halign=\"left\">총인구수</th>\n",
       "      <th colspan=\"5\" halign=\"left\">남자인구수</th>\n",
       "      <th colspan=\"5\" halign=\"left\">여자인구수</th>\n",
       "      <th colspan=\"5\" halign=\"left\">남여비율</th>\n",
       "    </tr>\n",
       "    <tr>\n",
       "      <th>행정구역</th>\n",
       "      <th>광주광역시</th>\n",
       "      <th>대전광역시</th>\n",
       "      <th>부산광역시</th>\n",
       "      <th>서울특별시</th>\n",
       "      <th>인천광역시</th>\n",
       "      <th>광주광역시</th>\n",
       "      <th>대전광역시</th>\n",
       "      <th>부산광역시</th>\n",
       "      <th>서울특별시</th>\n",
       "      <th>인천광역시</th>\n",
       "      <th>광주광역시</th>\n",
       "      <th>대전광역시</th>\n",
       "      <th>부산광역시</th>\n",
       "      <th>서울특별시</th>\n",
       "      <th>인천광역시</th>\n",
       "      <th>광주광역시</th>\n",
       "      <th>대전광역시</th>\n",
       "      <th>부산광역시</th>\n",
       "      <th>서울특별시</th>\n",
       "      <th>인천광역시</th>\n",
       "    </tr>\n",
       "    <tr>\n",
       "      <th>연도</th>\n",
       "      <th></th>\n",
       "      <th></th>\n",
       "      <th></th>\n",
       "      <th></th>\n",
       "      <th></th>\n",
       "      <th></th>\n",
       "      <th></th>\n",
       "      <th></th>\n",
       "      <th></th>\n",
       "      <th></th>\n",
       "      <th></th>\n",
       "      <th></th>\n",
       "      <th></th>\n",
       "      <th></th>\n",
       "      <th></th>\n",
       "      <th></th>\n",
       "      <th></th>\n",
       "      <th></th>\n",
       "      <th></th>\n",
       "      <th></th>\n",
       "    </tr>\n",
       "  </thead>\n",
       "  <tbody>\n",
       "    <tr>\n",
       "      <th>2010</th>\n",
       "      <td>1454636</td>\n",
       "      <td>2511676</td>\n",
       "      <td>3567910</td>\n",
       "      <td>10312545</td>\n",
       "      <td>2758296</td>\n",
       "      <td>721780</td>\n",
       "      <td>1255245</td>\n",
       "      <td>1773170</td>\n",
       "      <td>5111259</td>\n",
       "      <td>1390356</td>\n",
       "      <td>732856</td>\n",
       "      <td>1256431</td>\n",
       "      <td>1794740</td>\n",
       "      <td>5201286</td>\n",
       "      <td>1367940</td>\n",
       "      <td>98.488653</td>\n",
       "      <td>99.905606</td>\n",
       "      <td>98.798155</td>\n",
       "      <td>98.269140</td>\n",
       "      <td>101.638668</td>\n",
       "    </tr>\n",
       "    <tr>\n",
       "      <th>2020</th>\n",
       "      <td>1455048</td>\n",
       "      <td>2427954</td>\n",
       "      <td>3404423</td>\n",
       "      <td>9720846</td>\n",
       "      <td>2947217</td>\n",
       "      <td>720560</td>\n",
       "      <td>1198815</td>\n",
       "      <td>1668618</td>\n",
       "      <td>4732275</td>\n",
       "      <td>1476813</td>\n",
       "      <td>734988</td>\n",
       "      <td>1229139</td>\n",
       "      <td>1735805</td>\n",
       "      <td>4988571</td>\n",
       "      <td>1470404</td>\n",
       "      <td>98.036975</td>\n",
       "      <td>97.532907</td>\n",
       "      <td>96.129346</td>\n",
       "      <td>94.862336</td>\n",
       "      <td>100.435867</td>\n",
       "    </tr>\n",
       "  </tbody>\n",
       "</table>\n",
       "</div>"
      ],
      "text/plain": [
       "         총인구수                                        남자인구수                    \\\n",
       "행정구역    광주광역시    대전광역시    부산광역시     서울특별시    인천광역시   광주광역시    대전광역시    부산광역시   \n",
       "연도                                                                             \n",
       "2010  1454636  2511676  3567910  10312545  2758296  721780  1255245  1773170   \n",
       "2020  1455048  2427954  3404423   9720846  2947217  720560  1198815  1668618   \n",
       "\n",
       "                         여자인구수                                           남여비율  \\\n",
       "행정구역    서울특별시    인천광역시   광주광역시    대전광역시    부산광역시    서울특별시    인천광역시      광주광역시   \n",
       "연도                                                                              \n",
       "2010  5111259  1390356  732856  1256431  1794740  5201286  1367940  98.488653   \n",
       "2020  4732275  1476813  734988  1229139  1735805  4988571  1470404  98.036975   \n",
       "\n",
       "                                                   \n",
       "행정구역      대전광역시      부산광역시      서울특별시       인천광역시  \n",
       "연도                                                 \n",
       "2010  99.905606  98.798155  98.269140  101.638668  \n",
       "2020  97.532907  96.129346  94.862336  100.435867  "
      ]
     },
     "execution_count": 123,
     "metadata": {},
     "output_type": "execute_result"
    }
   ],
   "source": [
    "korea_mdf.unstack(level=0)"
   ]
  },
  {
   "cell_type": "code",
   "execution_count": 124,
   "metadata": {},
   "outputs": [
    {
     "data": {
      "text/html": [
       "<div>\n",
       "<style scoped>\n",
       "    .dataframe tbody tr th:only-of-type {\n",
       "        vertical-align: middle;\n",
       "    }\n",
       "\n",
       "    .dataframe tbody tr th {\n",
       "        vertical-align: top;\n",
       "    }\n",
       "\n",
       "    .dataframe thead tr th {\n",
       "        text-align: left;\n",
       "    }\n",
       "\n",
       "    .dataframe thead tr:last-of-type th {\n",
       "        text-align: right;\n",
       "    }\n",
       "</style>\n",
       "<table border=\"1\" class=\"dataframe\">\n",
       "  <thead>\n",
       "    <tr>\n",
       "      <th></th>\n",
       "      <th colspan=\"2\" halign=\"left\">총인구수</th>\n",
       "      <th colspan=\"2\" halign=\"left\">남자인구수</th>\n",
       "      <th colspan=\"2\" halign=\"left\">여자인구수</th>\n",
       "      <th colspan=\"2\" halign=\"left\">남여비율</th>\n",
       "    </tr>\n",
       "    <tr>\n",
       "      <th>연도</th>\n",
       "      <th>2010</th>\n",
       "      <th>2020</th>\n",
       "      <th>2010</th>\n",
       "      <th>2020</th>\n",
       "      <th>2010</th>\n",
       "      <th>2020</th>\n",
       "      <th>2010</th>\n",
       "      <th>2020</th>\n",
       "    </tr>\n",
       "    <tr>\n",
       "      <th>행정구역</th>\n",
       "      <th></th>\n",
       "      <th></th>\n",
       "      <th></th>\n",
       "      <th></th>\n",
       "      <th></th>\n",
       "      <th></th>\n",
       "      <th></th>\n",
       "      <th></th>\n",
       "    </tr>\n",
       "  </thead>\n",
       "  <tbody>\n",
       "    <tr>\n",
       "      <th>광주광역시</th>\n",
       "      <td>1454636</td>\n",
       "      <td>1455048</td>\n",
       "      <td>721780</td>\n",
       "      <td>720560</td>\n",
       "      <td>732856</td>\n",
       "      <td>734988</td>\n",
       "      <td>98.488653</td>\n",
       "      <td>98.036975</td>\n",
       "    </tr>\n",
       "    <tr>\n",
       "      <th>대전광역시</th>\n",
       "      <td>2511676</td>\n",
       "      <td>2427954</td>\n",
       "      <td>1255245</td>\n",
       "      <td>1198815</td>\n",
       "      <td>1256431</td>\n",
       "      <td>1229139</td>\n",
       "      <td>99.905606</td>\n",
       "      <td>97.532907</td>\n",
       "    </tr>\n",
       "    <tr>\n",
       "      <th>부산광역시</th>\n",
       "      <td>3567910</td>\n",
       "      <td>3404423</td>\n",
       "      <td>1773170</td>\n",
       "      <td>1668618</td>\n",
       "      <td>1794740</td>\n",
       "      <td>1735805</td>\n",
       "      <td>98.798155</td>\n",
       "      <td>96.129346</td>\n",
       "    </tr>\n",
       "    <tr>\n",
       "      <th>서울특별시</th>\n",
       "      <td>10312545</td>\n",
       "      <td>9720846</td>\n",
       "      <td>5111259</td>\n",
       "      <td>4732275</td>\n",
       "      <td>5201286</td>\n",
       "      <td>4988571</td>\n",
       "      <td>98.269140</td>\n",
       "      <td>94.862336</td>\n",
       "    </tr>\n",
       "    <tr>\n",
       "      <th>인천광역시</th>\n",
       "      <td>2758296</td>\n",
       "      <td>2947217</td>\n",
       "      <td>1390356</td>\n",
       "      <td>1476813</td>\n",
       "      <td>1367940</td>\n",
       "      <td>1470404</td>\n",
       "      <td>101.638668</td>\n",
       "      <td>100.435867</td>\n",
       "    </tr>\n",
       "  </tbody>\n",
       "</table>\n",
       "</div>"
      ],
      "text/plain": [
       "           총인구수             남자인구수             여자인구수                 남여비율  \\\n",
       "연도         2010     2020     2010     2020     2010     2020        2010   \n",
       "행정구역                                                                       \n",
       "광주광역시   1454636  1455048   721780   720560   732856   734988   98.488653   \n",
       "대전광역시   2511676  2427954  1255245  1198815  1256431  1229139   99.905606   \n",
       "부산광역시   3567910  3404423  1773170  1668618  1794740  1735805   98.798155   \n",
       "서울특별시  10312545  9720846  5111259  4732275  5201286  4988571   98.269140   \n",
       "인천광역시   2758296  2947217  1390356  1476813  1367940  1470404  101.638668   \n",
       "\n",
       "                   \n",
       "연도           2020  \n",
       "행정구역               \n",
       "광주광역시   98.036975  \n",
       "대전광역시   97.532907  \n",
       "부산광역시   96.129346  \n",
       "서울특별시   94.862336  \n",
       "인천광역시  100.435867  "
      ]
     },
     "execution_count": 124,
     "metadata": {},
     "output_type": "execute_result"
    }
   ],
   "source": [
    "korea_mdf.unstack(level=1)"
   ]
  },
  {
   "cell_type": "code",
   "execution_count": 125,
   "metadata": {},
   "outputs": [
    {
     "data": {
      "text/plain": [
       "행정구역   연도         \n",
       "광주광역시  2010  총인구수     1.454636e+06\n",
       "             남자인구수    7.217800e+05\n",
       "             여자인구수    7.328560e+05\n",
       "             남여비율     9.848865e+01\n",
       "       2020  총인구수     1.455048e+06\n",
       "             남자인구수    7.205600e+05\n",
       "             여자인구수    7.349880e+05\n",
       "             남여비율     9.803697e+01\n",
       "대전광역시  2010  총인구수     2.511676e+06\n",
       "             남자인구수    1.255245e+06\n",
       "             여자인구수    1.256431e+06\n",
       "             남여비율     9.990561e+01\n",
       "       2020  총인구수     2.427954e+06\n",
       "             남자인구수    1.198815e+06\n",
       "             여자인구수    1.229139e+06\n",
       "             남여비율     9.753291e+01\n",
       "부산광역시  2010  총인구수     3.567910e+06\n",
       "             남자인구수    1.773170e+06\n",
       "             여자인구수    1.794740e+06\n",
       "             남여비율     9.879815e+01\n",
       "       2020  총인구수     3.404423e+06\n",
       "             남자인구수    1.668618e+06\n",
       "             여자인구수    1.735805e+06\n",
       "             남여비율     9.612935e+01\n",
       "서울특별시  2010  총인구수     1.031254e+07\n",
       "             남자인구수    5.111259e+06\n",
       "             여자인구수    5.201286e+06\n",
       "             남여비율     9.826914e+01\n",
       "       2020  총인구수     9.720846e+06\n",
       "             남자인구수    4.732275e+06\n",
       "             여자인구수    4.988571e+06\n",
       "             남여비율     9.486234e+01\n",
       "인천광역시  2010  총인구수     2.758296e+06\n",
       "             남자인구수    1.390356e+06\n",
       "             여자인구수    1.367940e+06\n",
       "             남여비율     1.016387e+02\n",
       "       2020  총인구수     2.947217e+06\n",
       "             남자인구수    1.476813e+06\n",
       "             여자인구수    1.470404e+06\n",
       "             남여비율     1.004359e+02\n",
       "dtype: float64"
      ]
     },
     "execution_count": 125,
     "metadata": {},
     "output_type": "execute_result"
    }
   ],
   "source": [
    "korea_mdf.stack()"
   ]
  },
  {
   "cell_type": "code",
   "execution_count": 126,
   "metadata": {},
   "outputs": [
    {
     "data": {
      "text/html": [
       "<div>\n",
       "<style scoped>\n",
       "    .dataframe tbody tr th:only-of-type {\n",
       "        vertical-align: middle;\n",
       "    }\n",
       "\n",
       "    .dataframe tbody tr th {\n",
       "        vertical-align: top;\n",
       "    }\n",
       "\n",
       "    .dataframe thead th {\n",
       "        text-align: right;\n",
       "    }\n",
       "</style>\n",
       "<table border=\"1\" class=\"dataframe\">\n",
       "  <thead>\n",
       "    <tr style=\"text-align: right;\">\n",
       "      <th></th>\n",
       "      <th></th>\n",
       "      <th>총인구수</th>\n",
       "      <th>남자인구수</th>\n",
       "      <th>여자인구수</th>\n",
       "      <th>남여비율</th>\n",
       "    </tr>\n",
       "    <tr>\n",
       "      <th>행정구역</th>\n",
       "      <th>연도</th>\n",
       "      <th></th>\n",
       "      <th></th>\n",
       "      <th></th>\n",
       "      <th></th>\n",
       "    </tr>\n",
       "  </thead>\n",
       "  <tbody>\n",
       "    <tr>\n",
       "      <th rowspan=\"2\" valign=\"top\">광주광역시</th>\n",
       "      <th>2010</th>\n",
       "      <td>1454636</td>\n",
       "      <td>721780</td>\n",
       "      <td>732856</td>\n",
       "      <td>98.488653</td>\n",
       "    </tr>\n",
       "    <tr>\n",
       "      <th>2020</th>\n",
       "      <td>1455048</td>\n",
       "      <td>720560</td>\n",
       "      <td>734988</td>\n",
       "      <td>98.036975</td>\n",
       "    </tr>\n",
       "    <tr>\n",
       "      <th rowspan=\"2\" valign=\"top\">대전광역시</th>\n",
       "      <th>2010</th>\n",
       "      <td>2511676</td>\n",
       "      <td>1255245</td>\n",
       "      <td>1256431</td>\n",
       "      <td>99.905606</td>\n",
       "    </tr>\n",
       "    <tr>\n",
       "      <th>2020</th>\n",
       "      <td>2427954</td>\n",
       "      <td>1198815</td>\n",
       "      <td>1229139</td>\n",
       "      <td>97.532907</td>\n",
       "    </tr>\n",
       "    <tr>\n",
       "      <th rowspan=\"2\" valign=\"top\">부산광역시</th>\n",
       "      <th>2010</th>\n",
       "      <td>3567910</td>\n",
       "      <td>1773170</td>\n",
       "      <td>1794740</td>\n",
       "      <td>98.798155</td>\n",
       "    </tr>\n",
       "    <tr>\n",
       "      <th>2020</th>\n",
       "      <td>3404423</td>\n",
       "      <td>1668618</td>\n",
       "      <td>1735805</td>\n",
       "      <td>96.129346</td>\n",
       "    </tr>\n",
       "    <tr>\n",
       "      <th rowspan=\"2\" valign=\"top\">서울특별시</th>\n",
       "      <th>2010</th>\n",
       "      <td>10312545</td>\n",
       "      <td>5111259</td>\n",
       "      <td>5201286</td>\n",
       "      <td>98.269140</td>\n",
       "    </tr>\n",
       "    <tr>\n",
       "      <th>2020</th>\n",
       "      <td>9720846</td>\n",
       "      <td>4732275</td>\n",
       "      <td>4988571</td>\n",
       "      <td>94.862336</td>\n",
       "    </tr>\n",
       "    <tr>\n",
       "      <th rowspan=\"2\" valign=\"top\">인천광역시</th>\n",
       "      <th>2010</th>\n",
       "      <td>2758296</td>\n",
       "      <td>1390356</td>\n",
       "      <td>1367940</td>\n",
       "      <td>101.638668</td>\n",
       "    </tr>\n",
       "    <tr>\n",
       "      <th>2020</th>\n",
       "      <td>2947217</td>\n",
       "      <td>1476813</td>\n",
       "      <td>1470404</td>\n",
       "      <td>100.435867</td>\n",
       "    </tr>\n",
       "  </tbody>\n",
       "</table>\n",
       "</div>"
      ],
      "text/plain": [
       "                총인구수    남자인구수    여자인구수        남여비율\n",
       "행정구역  연도                                          \n",
       "광주광역시 2010   1454636   721780   732856   98.488653\n",
       "      2020   1455048   720560   734988   98.036975\n",
       "대전광역시 2010   2511676  1255245  1256431   99.905606\n",
       "      2020   2427954  1198815  1229139   97.532907\n",
       "부산광역시 2010   3567910  1773170  1794740   98.798155\n",
       "      2020   3404423  1668618  1735805   96.129346\n",
       "서울특별시 2010  10312545  5111259  5201286   98.269140\n",
       "      2020   9720846  4732275  4988571   94.862336\n",
       "인천광역시 2010   2758296  1390356  1367940  101.638668\n",
       "      2020   2947217  1476813  1470404  100.435867"
      ]
     },
     "execution_count": 126,
     "metadata": {},
     "output_type": "execute_result"
    }
   ],
   "source": [
    "korea_mdf"
   ]
  },
  {
   "cell_type": "code",
   "execution_count": 127,
   "metadata": {},
   "outputs": [
    {
     "data": {
      "text/html": [
       "<div>\n",
       "<style scoped>\n",
       "    .dataframe tbody tr th:only-of-type {\n",
       "        vertical-align: middle;\n",
       "    }\n",
       "\n",
       "    .dataframe tbody tr th {\n",
       "        vertical-align: top;\n",
       "    }\n",
       "\n",
       "    .dataframe thead th {\n",
       "        text-align: right;\n",
       "    }\n",
       "</style>\n",
       "<table border=\"1\" class=\"dataframe\">\n",
       "  <thead>\n",
       "    <tr style=\"text-align: right;\">\n",
       "      <th></th>\n",
       "      <th>행정구역</th>\n",
       "      <th>총인구수</th>\n",
       "      <th>남자인구수</th>\n",
       "      <th>여자인구수</th>\n",
       "      <th>남여비율</th>\n",
       "    </tr>\n",
       "    <tr>\n",
       "      <th>연도</th>\n",
       "      <th></th>\n",
       "      <th></th>\n",
       "      <th></th>\n",
       "      <th></th>\n",
       "      <th></th>\n",
       "    </tr>\n",
       "  </thead>\n",
       "  <tbody>\n",
       "    <tr>\n",
       "      <th>2010</th>\n",
       "      <td>광주광역시</td>\n",
       "      <td>1454636</td>\n",
       "      <td>721780</td>\n",
       "      <td>732856</td>\n",
       "      <td>98.488653</td>\n",
       "    </tr>\n",
       "    <tr>\n",
       "      <th>2020</th>\n",
       "      <td>광주광역시</td>\n",
       "      <td>1455048</td>\n",
       "      <td>720560</td>\n",
       "      <td>734988</td>\n",
       "      <td>98.036975</td>\n",
       "    </tr>\n",
       "    <tr>\n",
       "      <th>2010</th>\n",
       "      <td>대전광역시</td>\n",
       "      <td>2511676</td>\n",
       "      <td>1255245</td>\n",
       "      <td>1256431</td>\n",
       "      <td>99.905606</td>\n",
       "    </tr>\n",
       "    <tr>\n",
       "      <th>2020</th>\n",
       "      <td>대전광역시</td>\n",
       "      <td>2427954</td>\n",
       "      <td>1198815</td>\n",
       "      <td>1229139</td>\n",
       "      <td>97.532907</td>\n",
       "    </tr>\n",
       "    <tr>\n",
       "      <th>2010</th>\n",
       "      <td>부산광역시</td>\n",
       "      <td>3567910</td>\n",
       "      <td>1773170</td>\n",
       "      <td>1794740</td>\n",
       "      <td>98.798155</td>\n",
       "    </tr>\n",
       "    <tr>\n",
       "      <th>2020</th>\n",
       "      <td>부산광역시</td>\n",
       "      <td>3404423</td>\n",
       "      <td>1668618</td>\n",
       "      <td>1735805</td>\n",
       "      <td>96.129346</td>\n",
       "    </tr>\n",
       "    <tr>\n",
       "      <th>2010</th>\n",
       "      <td>서울특별시</td>\n",
       "      <td>10312545</td>\n",
       "      <td>5111259</td>\n",
       "      <td>5201286</td>\n",
       "      <td>98.269140</td>\n",
       "    </tr>\n",
       "    <tr>\n",
       "      <th>2020</th>\n",
       "      <td>서울특별시</td>\n",
       "      <td>9720846</td>\n",
       "      <td>4732275</td>\n",
       "      <td>4988571</td>\n",
       "      <td>94.862336</td>\n",
       "    </tr>\n",
       "    <tr>\n",
       "      <th>2010</th>\n",
       "      <td>인천광역시</td>\n",
       "      <td>2758296</td>\n",
       "      <td>1390356</td>\n",
       "      <td>1367940</td>\n",
       "      <td>101.638668</td>\n",
       "    </tr>\n",
       "    <tr>\n",
       "      <th>2020</th>\n",
       "      <td>인천광역시</td>\n",
       "      <td>2947217</td>\n",
       "      <td>1476813</td>\n",
       "      <td>1470404</td>\n",
       "      <td>100.435867</td>\n",
       "    </tr>\n",
       "  </tbody>\n",
       "</table>\n",
       "</div>"
      ],
      "text/plain": [
       "       행정구역      총인구수    남자인구수    여자인구수        남여비율\n",
       "연도                                                 \n",
       "2010  광주광역시   1454636   721780   732856   98.488653\n",
       "2020  광주광역시   1455048   720560   734988   98.036975\n",
       "2010  대전광역시   2511676  1255245  1256431   99.905606\n",
       "2020  대전광역시   2427954  1198815  1229139   97.532907\n",
       "2010  부산광역시   3567910  1773170  1794740   98.798155\n",
       "2020  부산광역시   3404423  1668618  1735805   96.129346\n",
       "2010  서울특별시  10312545  5111259  5201286   98.269140\n",
       "2020  서울특별시   9720846  4732275  4988571   94.862336\n",
       "2010  인천광역시   2758296  1390356  1367940  101.638668\n",
       "2020  인천광역시   2947217  1476813  1470404  100.435867"
      ]
     },
     "execution_count": 127,
     "metadata": {},
     "output_type": "execute_result"
    }
   ],
   "source": [
    "idx_flat = korea_mdf.reset_index(level=0)\n",
    "idx_flat"
   ]
  },
  {
   "cell_type": "code",
   "execution_count": 128,
   "metadata": {},
   "outputs": [
    {
     "data": {
      "text/html": [
       "<div>\n",
       "<style scoped>\n",
       "    .dataframe tbody tr th:only-of-type {\n",
       "        vertical-align: middle;\n",
       "    }\n",
       "\n",
       "    .dataframe tbody tr th {\n",
       "        vertical-align: top;\n",
       "    }\n",
       "\n",
       "    .dataframe thead th {\n",
       "        text-align: right;\n",
       "    }\n",
       "</style>\n",
       "<table border=\"1\" class=\"dataframe\">\n",
       "  <thead>\n",
       "    <tr style=\"text-align: right;\">\n",
       "      <th></th>\n",
       "      <th>행정구역</th>\n",
       "      <th>연도</th>\n",
       "      <th>총인구수</th>\n",
       "      <th>남자인구수</th>\n",
       "      <th>여자인구수</th>\n",
       "      <th>남여비율</th>\n",
       "    </tr>\n",
       "  </thead>\n",
       "  <tbody>\n",
       "    <tr>\n",
       "      <th>0</th>\n",
       "      <td>광주광역시</td>\n",
       "      <td>2010</td>\n",
       "      <td>1454636</td>\n",
       "      <td>721780</td>\n",
       "      <td>732856</td>\n",
       "      <td>98.488653</td>\n",
       "    </tr>\n",
       "    <tr>\n",
       "      <th>1</th>\n",
       "      <td>광주광역시</td>\n",
       "      <td>2020</td>\n",
       "      <td>1455048</td>\n",
       "      <td>720560</td>\n",
       "      <td>734988</td>\n",
       "      <td>98.036975</td>\n",
       "    </tr>\n",
       "    <tr>\n",
       "      <th>2</th>\n",
       "      <td>대전광역시</td>\n",
       "      <td>2010</td>\n",
       "      <td>2511676</td>\n",
       "      <td>1255245</td>\n",
       "      <td>1256431</td>\n",
       "      <td>99.905606</td>\n",
       "    </tr>\n",
       "    <tr>\n",
       "      <th>3</th>\n",
       "      <td>대전광역시</td>\n",
       "      <td>2020</td>\n",
       "      <td>2427954</td>\n",
       "      <td>1198815</td>\n",
       "      <td>1229139</td>\n",
       "      <td>97.532907</td>\n",
       "    </tr>\n",
       "    <tr>\n",
       "      <th>4</th>\n",
       "      <td>부산광역시</td>\n",
       "      <td>2010</td>\n",
       "      <td>3567910</td>\n",
       "      <td>1773170</td>\n",
       "      <td>1794740</td>\n",
       "      <td>98.798155</td>\n",
       "    </tr>\n",
       "    <tr>\n",
       "      <th>5</th>\n",
       "      <td>부산광역시</td>\n",
       "      <td>2020</td>\n",
       "      <td>3404423</td>\n",
       "      <td>1668618</td>\n",
       "      <td>1735805</td>\n",
       "      <td>96.129346</td>\n",
       "    </tr>\n",
       "    <tr>\n",
       "      <th>6</th>\n",
       "      <td>서울특별시</td>\n",
       "      <td>2010</td>\n",
       "      <td>10312545</td>\n",
       "      <td>5111259</td>\n",
       "      <td>5201286</td>\n",
       "      <td>98.269140</td>\n",
       "    </tr>\n",
       "    <tr>\n",
       "      <th>7</th>\n",
       "      <td>서울특별시</td>\n",
       "      <td>2020</td>\n",
       "      <td>9720846</td>\n",
       "      <td>4732275</td>\n",
       "      <td>4988571</td>\n",
       "      <td>94.862336</td>\n",
       "    </tr>\n",
       "    <tr>\n",
       "      <th>8</th>\n",
       "      <td>인천광역시</td>\n",
       "      <td>2010</td>\n",
       "      <td>2758296</td>\n",
       "      <td>1390356</td>\n",
       "      <td>1367940</td>\n",
       "      <td>101.638668</td>\n",
       "    </tr>\n",
       "    <tr>\n",
       "      <th>9</th>\n",
       "      <td>인천광역시</td>\n",
       "      <td>2020</td>\n",
       "      <td>2947217</td>\n",
       "      <td>1476813</td>\n",
       "      <td>1470404</td>\n",
       "      <td>100.435867</td>\n",
       "    </tr>\n",
       "  </tbody>\n",
       "</table>\n",
       "</div>"
      ],
      "text/plain": [
       "    행정구역    연도      총인구수    남자인구수    여자인구수        남여비율\n",
       "0  광주광역시  2010   1454636   721780   732856   98.488653\n",
       "1  광주광역시  2020   1455048   720560   734988   98.036975\n",
       "2  대전광역시  2010   2511676  1255245  1256431   99.905606\n",
       "3  대전광역시  2020   2427954  1198815  1229139   97.532907\n",
       "4  부산광역시  2010   3567910  1773170  1794740   98.798155\n",
       "5  부산광역시  2020   3404423  1668618  1735805   96.129346\n",
       "6  서울특별시  2010  10312545  5111259  5201286   98.269140\n",
       "7  서울특별시  2020   9720846  4732275  4988571   94.862336\n",
       "8  인천광역시  2010   2758296  1390356  1367940  101.638668\n",
       "9  인천광역시  2020   2947217  1476813  1470404  100.435867"
      ]
     },
     "execution_count": 128,
     "metadata": {},
     "output_type": "execute_result"
    }
   ],
   "source": [
    "idx_flat = korea_mdf.reset_index(level=(0, 1))\n",
    "idx_flat"
   ]
  },
  {
   "cell_type": "code",
   "execution_count": 129,
   "metadata": {},
   "outputs": [
    {
     "data": {
      "text/html": [
       "<div>\n",
       "<style scoped>\n",
       "    .dataframe tbody tr th:only-of-type {\n",
       "        vertical-align: middle;\n",
       "    }\n",
       "\n",
       "    .dataframe tbody tr th {\n",
       "        vertical-align: top;\n",
       "    }\n",
       "\n",
       "    .dataframe thead th {\n",
       "        text-align: right;\n",
       "    }\n",
       "</style>\n",
       "<table border=\"1\" class=\"dataframe\">\n",
       "  <thead>\n",
       "    <tr style=\"text-align: right;\">\n",
       "      <th></th>\n",
       "      <th></th>\n",
       "      <th>총인구수</th>\n",
       "      <th>남자인구수</th>\n",
       "      <th>여자인구수</th>\n",
       "      <th>남여비율</th>\n",
       "    </tr>\n",
       "    <tr>\n",
       "      <th>행정구역</th>\n",
       "      <th>연도</th>\n",
       "      <th></th>\n",
       "      <th></th>\n",
       "      <th></th>\n",
       "      <th></th>\n",
       "    </tr>\n",
       "  </thead>\n",
       "  <tbody>\n",
       "    <tr>\n",
       "      <th rowspan=\"2\" valign=\"top\">광주광역시</th>\n",
       "      <th>2010</th>\n",
       "      <td>1454636</td>\n",
       "      <td>721780</td>\n",
       "      <td>732856</td>\n",
       "      <td>98.488653</td>\n",
       "    </tr>\n",
       "    <tr>\n",
       "      <th>2020</th>\n",
       "      <td>1455048</td>\n",
       "      <td>720560</td>\n",
       "      <td>734988</td>\n",
       "      <td>98.036975</td>\n",
       "    </tr>\n",
       "    <tr>\n",
       "      <th rowspan=\"2\" valign=\"top\">대전광역시</th>\n",
       "      <th>2010</th>\n",
       "      <td>2511676</td>\n",
       "      <td>1255245</td>\n",
       "      <td>1256431</td>\n",
       "      <td>99.905606</td>\n",
       "    </tr>\n",
       "    <tr>\n",
       "      <th>2020</th>\n",
       "      <td>2427954</td>\n",
       "      <td>1198815</td>\n",
       "      <td>1229139</td>\n",
       "      <td>97.532907</td>\n",
       "    </tr>\n",
       "    <tr>\n",
       "      <th rowspan=\"2\" valign=\"top\">부산광역시</th>\n",
       "      <th>2010</th>\n",
       "      <td>3567910</td>\n",
       "      <td>1773170</td>\n",
       "      <td>1794740</td>\n",
       "      <td>98.798155</td>\n",
       "    </tr>\n",
       "    <tr>\n",
       "      <th>2020</th>\n",
       "      <td>3404423</td>\n",
       "      <td>1668618</td>\n",
       "      <td>1735805</td>\n",
       "      <td>96.129346</td>\n",
       "    </tr>\n",
       "    <tr>\n",
       "      <th rowspan=\"2\" valign=\"top\">서울특별시</th>\n",
       "      <th>2010</th>\n",
       "      <td>10312545</td>\n",
       "      <td>5111259</td>\n",
       "      <td>5201286</td>\n",
       "      <td>98.269140</td>\n",
       "    </tr>\n",
       "    <tr>\n",
       "      <th>2020</th>\n",
       "      <td>9720846</td>\n",
       "      <td>4732275</td>\n",
       "      <td>4988571</td>\n",
       "      <td>94.862336</td>\n",
       "    </tr>\n",
       "    <tr>\n",
       "      <th rowspan=\"2\" valign=\"top\">인천광역시</th>\n",
       "      <th>2010</th>\n",
       "      <td>2758296</td>\n",
       "      <td>1390356</td>\n",
       "      <td>1367940</td>\n",
       "      <td>101.638668</td>\n",
       "    </tr>\n",
       "    <tr>\n",
       "      <th>2020</th>\n",
       "      <td>2947217</td>\n",
       "      <td>1476813</td>\n",
       "      <td>1470404</td>\n",
       "      <td>100.435867</td>\n",
       "    </tr>\n",
       "  </tbody>\n",
       "</table>\n",
       "</div>"
      ],
      "text/plain": [
       "                총인구수    남자인구수    여자인구수        남여비율\n",
       "행정구역  연도                                          \n",
       "광주광역시 2010   1454636   721780   732856   98.488653\n",
       "      2020   1455048   720560   734988   98.036975\n",
       "대전광역시 2010   2511676  1255245  1256431   99.905606\n",
       "      2020   2427954  1198815  1229139   97.532907\n",
       "부산광역시 2010   3567910  1773170  1794740   98.798155\n",
       "      2020   3404423  1668618  1735805   96.129346\n",
       "서울특별시 2010  10312545  5111259  5201286   98.269140\n",
       "      2020   9720846  4732275  4988571   94.862336\n",
       "인천광역시 2010   2758296  1390356  1367940  101.638668\n",
       "      2020   2947217  1476813  1470404  100.435867"
      ]
     },
     "execution_count": 129,
     "metadata": {},
     "output_type": "execute_result"
    }
   ],
   "source": [
    "idx_flat.set_index(['행정구역', '연도'])"
   ]
  },
  {
   "cell_type": "code",
   "execution_count": 131,
   "metadata": {},
   "outputs": [
    {
     "data": {
      "text/plain": [
       "0    7\n",
       "1    6\n",
       "2    3\n",
       "3    8\n",
       "4    7\n",
       "dtype: int32"
      ]
     },
     "execution_count": 131,
     "metadata": {},
     "output_type": "execute_result"
    }
   ],
   "source": [
    "s = pd.Series(np.random.randint(0, 10, 5))\n",
    "s"
   ]
  },
  {
   "cell_type": "code",
   "execution_count": 133,
   "metadata": {},
   "outputs": [
    {
     "data": {
      "text/html": [
       "<div>\n",
       "<style scoped>\n",
       "    .dataframe tbody tr th:only-of-type {\n",
       "        vertical-align: middle;\n",
       "    }\n",
       "\n",
       "    .dataframe tbody tr th {\n",
       "        vertical-align: top;\n",
       "    }\n",
       "\n",
       "    .dataframe thead th {\n",
       "        text-align: right;\n",
       "    }\n",
       "</style>\n",
       "<table border=\"1\" class=\"dataframe\">\n",
       "  <thead>\n",
       "    <tr style=\"text-align: right;\">\n",
       "      <th></th>\n",
       "      <th>a</th>\n",
       "      <th>b</th>\n",
       "      <th>c</th>\n",
       "    </tr>\n",
       "  </thead>\n",
       "  <tbody>\n",
       "    <tr>\n",
       "      <th>0</th>\n",
       "      <td>9</td>\n",
       "      <td>3</td>\n",
       "      <td>5</td>\n",
       "    </tr>\n",
       "    <tr>\n",
       "      <th>1</th>\n",
       "      <td>4</td>\n",
       "      <td>4</td>\n",
       "      <td>4</td>\n",
       "    </tr>\n",
       "    <tr>\n",
       "      <th>2</th>\n",
       "      <td>8</td>\n",
       "      <td>6</td>\n",
       "      <td>6</td>\n",
       "    </tr>\n",
       "  </tbody>\n",
       "</table>\n",
       "</div>"
      ],
      "text/plain": [
       "   a  b  c\n",
       "0  9  3  5\n",
       "1  4  4  4\n",
       "2  8  6  6"
      ]
     },
     "execution_count": 133,
     "metadata": {},
     "output_type": "execute_result"
    }
   ],
   "source": [
    "df = pd.DataFrame(np.random.randint(0, 10, (3, 3)),\n",
    "                  columns = (\"a\", 'b', 'c'))\n",
    "df"
   ]
  },
  {
   "cell_type": "code",
   "execution_count": 134,
   "metadata": {},
   "outputs": [
    {
     "data": {
      "text/plain": [
       "0    1096.633158\n",
       "1     403.428793\n",
       "2      20.085537\n",
       "3    2980.957987\n",
       "4    1096.633158\n",
       "dtype: float64"
      ]
     },
     "execution_count": 134,
     "metadata": {},
     "output_type": "execute_result"
    }
   ],
   "source": [
    "np.exp(s)"
   ]
  },
  {
   "cell_type": "code",
   "execution_count": 135,
   "metadata": {},
   "outputs": [
    {
     "data": {
      "text/html": [
       "<div>\n",
       "<style scoped>\n",
       "    .dataframe tbody tr th:only-of-type {\n",
       "        vertical-align: middle;\n",
       "    }\n",
       "\n",
       "    .dataframe tbody tr th {\n",
       "        vertical-align: top;\n",
       "    }\n",
       "\n",
       "    .dataframe thead th {\n",
       "        text-align: right;\n",
       "    }\n",
       "</style>\n",
       "<table border=\"1\" class=\"dataframe\">\n",
       "  <thead>\n",
       "    <tr style=\"text-align: right;\">\n",
       "      <th></th>\n",
       "      <th>a</th>\n",
       "      <th>b</th>\n",
       "      <th>c</th>\n",
       "    </tr>\n",
       "  </thead>\n",
       "  <tbody>\n",
       "    <tr>\n",
       "      <th>0</th>\n",
       "      <td>0.707107</td>\n",
       "      <td>-7.071068e-01</td>\n",
       "      <td>-7.071068e-01</td>\n",
       "    </tr>\n",
       "    <tr>\n",
       "      <th>1</th>\n",
       "      <td>-1.000000</td>\n",
       "      <td>-1.000000e+00</td>\n",
       "      <td>-1.000000e+00</td>\n",
       "    </tr>\n",
       "    <tr>\n",
       "      <th>2</th>\n",
       "      <td>1.000000</td>\n",
       "      <td>-1.836970e-16</td>\n",
       "      <td>-1.836970e-16</td>\n",
       "    </tr>\n",
       "  </tbody>\n",
       "</table>\n",
       "</div>"
      ],
      "text/plain": [
       "          a             b             c\n",
       "0  0.707107 -7.071068e-01 -7.071068e-01\n",
       "1 -1.000000 -1.000000e+00 -1.000000e+00\n",
       "2  1.000000 -1.836970e-16 -1.836970e-16"
      ]
     },
     "execution_count": 135,
     "metadata": {},
     "output_type": "execute_result"
    }
   ],
   "source": [
    "np.cos(df * np.pi / 4)"
   ]
  },
  {
   "cell_type": "code",
   "execution_count": 137,
   "metadata": {},
   "outputs": [
    {
     "data": {
      "text/plain": [
       "0     NaN\n",
       "1     5.0\n",
       "2     9.0\n",
       "3    13.0\n",
       "4    17.0\n",
       "5     NaN\n",
       "dtype: float64"
      ]
     },
     "execution_count": 137,
     "metadata": {},
     "output_type": "execute_result"
    }
   ],
   "source": [
    "s1 = pd.Series([1, 3, 5, 7, 9], index=[0, 1, 2, 3, 4])\n",
    "s2 = pd.Series([2, 4, 6, 8, 10], index=[1, 2, 3, 4, 5])\n",
    "s1 + s2"
   ]
  },
  {
   "cell_type": "code",
   "execution_count": 139,
   "metadata": {},
   "outputs": [
    {
     "data": {
      "text/plain": [
       "0     1.0\n",
       "1     5.0\n",
       "2     9.0\n",
       "3    13.0\n",
       "4    17.0\n",
       "5    10.0\n",
       "dtype: float64"
      ]
     },
     "execution_count": 139,
     "metadata": {},
     "output_type": "execute_result"
    }
   ],
   "source": [
    "s1.add(s2, fill_value=0)"
   ]
  },
  {
   "cell_type": "code",
   "execution_count": 140,
   "metadata": {},
   "outputs": [
    {
     "data": {
      "text/html": [
       "<div>\n",
       "<style scoped>\n",
       "    .dataframe tbody tr th:only-of-type {\n",
       "        vertical-align: middle;\n",
       "    }\n",
       "\n",
       "    .dataframe tbody tr th {\n",
       "        vertical-align: top;\n",
       "    }\n",
       "\n",
       "    .dataframe thead th {\n",
       "        text-align: right;\n",
       "    }\n",
       "</style>\n",
       "<table border=\"1\" class=\"dataframe\">\n",
       "  <thead>\n",
       "    <tr style=\"text-align: right;\">\n",
       "      <th></th>\n",
       "      <th>A</th>\n",
       "      <th>C</th>\n",
       "      <th>D</th>\n",
       "    </tr>\n",
       "  </thead>\n",
       "  <tbody>\n",
       "    <tr>\n",
       "      <th>0</th>\n",
       "      <td>4</td>\n",
       "      <td>1</td>\n",
       "      <td>14</td>\n",
       "    </tr>\n",
       "    <tr>\n",
       "      <th>1</th>\n",
       "      <td>1</td>\n",
       "      <td>12</td>\n",
       "      <td>0</td>\n",
       "    </tr>\n",
       "    <tr>\n",
       "      <th>2</th>\n",
       "      <td>9</td>\n",
       "      <td>13</td>\n",
       "      <td>13</td>\n",
       "    </tr>\n",
       "  </tbody>\n",
       "</table>\n",
       "</div>"
      ],
      "text/plain": [
       "   A   C   D\n",
       "0  4   1  14\n",
       "1  1  12   0\n",
       "2  9  13  13"
      ]
     },
     "execution_count": 140,
     "metadata": {},
     "output_type": "execute_result"
    }
   ],
   "source": [
    "df1 = pd.DataFrame(np.random.randint(0, 20, (3, 3)),\n",
    "                   columns = list('ACD'))\n",
    "df1"
   ]
  },
  {
   "cell_type": "code",
   "execution_count": 141,
   "metadata": {},
   "outputs": [
    {
     "data": {
      "text/html": [
       "<div>\n",
       "<style scoped>\n",
       "    .dataframe tbody tr th:only-of-type {\n",
       "        vertical-align: middle;\n",
       "    }\n",
       "\n",
       "    .dataframe tbody tr th {\n",
       "        vertical-align: top;\n",
       "    }\n",
       "\n",
       "    .dataframe thead th {\n",
       "        text-align: right;\n",
       "    }\n",
       "</style>\n",
       "<table border=\"1\" class=\"dataframe\">\n",
       "  <thead>\n",
       "    <tr style=\"text-align: right;\">\n",
       "      <th></th>\n",
       "      <th>B</th>\n",
       "      <th>A</th>\n",
       "      <th>E</th>\n",
       "      <th>C</th>\n",
       "      <th>D</th>\n",
       "    </tr>\n",
       "  </thead>\n",
       "  <tbody>\n",
       "    <tr>\n",
       "      <th>0</th>\n",
       "      <td>6</td>\n",
       "      <td>13</td>\n",
       "      <td>13</td>\n",
       "      <td>3</td>\n",
       "      <td>2</td>\n",
       "    </tr>\n",
       "    <tr>\n",
       "      <th>1</th>\n",
       "      <td>10</td>\n",
       "      <td>19</td>\n",
       "      <td>15</td>\n",
       "      <td>3</td>\n",
       "      <td>15</td>\n",
       "    </tr>\n",
       "    <tr>\n",
       "      <th>2</th>\n",
       "      <td>3</td>\n",
       "      <td>9</td>\n",
       "      <td>9</td>\n",
       "      <td>9</td>\n",
       "      <td>8</td>\n",
       "    </tr>\n",
       "    <tr>\n",
       "      <th>3</th>\n",
       "      <td>11</td>\n",
       "      <td>7</td>\n",
       "      <td>7</td>\n",
       "      <td>19</td>\n",
       "      <td>6</td>\n",
       "    </tr>\n",
       "    <tr>\n",
       "      <th>4</th>\n",
       "      <td>19</td>\n",
       "      <td>1</td>\n",
       "      <td>19</td>\n",
       "      <td>5</td>\n",
       "      <td>7</td>\n",
       "    </tr>\n",
       "  </tbody>\n",
       "</table>\n",
       "</div>"
      ],
      "text/plain": [
       "    B   A   E   C   D\n",
       "0   6  13  13   3   2\n",
       "1  10  19  15   3  15\n",
       "2   3   9   9   9   8\n",
       "3  11   7   7  19   6\n",
       "4  19   1  19   5   7"
      ]
     },
     "execution_count": 141,
     "metadata": {},
     "output_type": "execute_result"
    }
   ],
   "source": [
    "df2 = pd.DataFrame(np.random.randint(0, 20, (5, 5)),\n",
    "                   columns=list('BAECD'))\n",
    "df2\n"
   ]
  },
  {
   "cell_type": "code",
   "execution_count": 142,
   "metadata": {},
   "outputs": [
    {
     "data": {
      "text/html": [
       "<div>\n",
       "<style scoped>\n",
       "    .dataframe tbody tr th:only-of-type {\n",
       "        vertical-align: middle;\n",
       "    }\n",
       "\n",
       "    .dataframe tbody tr th {\n",
       "        vertical-align: top;\n",
       "    }\n",
       "\n",
       "    .dataframe thead th {\n",
       "        text-align: right;\n",
       "    }\n",
       "</style>\n",
       "<table border=\"1\" class=\"dataframe\">\n",
       "  <thead>\n",
       "    <tr style=\"text-align: right;\">\n",
       "      <th></th>\n",
       "      <th>A</th>\n",
       "      <th>B</th>\n",
       "      <th>C</th>\n",
       "      <th>D</th>\n",
       "      <th>E</th>\n",
       "    </tr>\n",
       "  </thead>\n",
       "  <tbody>\n",
       "    <tr>\n",
       "      <th>0</th>\n",
       "      <td>17.0</td>\n",
       "      <td>NaN</td>\n",
       "      <td>4.0</td>\n",
       "      <td>16.0</td>\n",
       "      <td>NaN</td>\n",
       "    </tr>\n",
       "    <tr>\n",
       "      <th>1</th>\n",
       "      <td>20.0</td>\n",
       "      <td>NaN</td>\n",
       "      <td>15.0</td>\n",
       "      <td>15.0</td>\n",
       "      <td>NaN</td>\n",
       "    </tr>\n",
       "    <tr>\n",
       "      <th>2</th>\n",
       "      <td>18.0</td>\n",
       "      <td>NaN</td>\n",
       "      <td>22.0</td>\n",
       "      <td>21.0</td>\n",
       "      <td>NaN</td>\n",
       "    </tr>\n",
       "    <tr>\n",
       "      <th>3</th>\n",
       "      <td>NaN</td>\n",
       "      <td>NaN</td>\n",
       "      <td>NaN</td>\n",
       "      <td>NaN</td>\n",
       "      <td>NaN</td>\n",
       "    </tr>\n",
       "    <tr>\n",
       "      <th>4</th>\n",
       "      <td>NaN</td>\n",
       "      <td>NaN</td>\n",
       "      <td>NaN</td>\n",
       "      <td>NaN</td>\n",
       "      <td>NaN</td>\n",
       "    </tr>\n",
       "  </tbody>\n",
       "</table>\n",
       "</div>"
      ],
      "text/plain": [
       "      A   B     C     D   E\n",
       "0  17.0 NaN   4.0  16.0 NaN\n",
       "1  20.0 NaN  15.0  15.0 NaN\n",
       "2  18.0 NaN  22.0  21.0 NaN\n",
       "3   NaN NaN   NaN   NaN NaN\n",
       "4   NaN NaN   NaN   NaN NaN"
      ]
     },
     "execution_count": 142,
     "metadata": {},
     "output_type": "execute_result"
    }
   ],
   "source": [
    "df1 + df2"
   ]
  },
  {
   "cell_type": "code",
   "execution_count": 146,
   "metadata": {},
   "outputs": [
    {
     "data": {
      "text/plain": [
       "0  A     4\n",
       "   C     1\n",
       "   D    14\n",
       "1  A     1\n",
       "   C    12\n",
       "   D     0\n",
       "2  A     9\n",
       "   C    13\n",
       "   D    13\n",
       "dtype: int32"
      ]
     },
     "execution_count": 146,
     "metadata": {},
     "output_type": "execute_result"
    }
   ],
   "source": [
    "df1.stack()"
   ]
  },
  {
   "cell_type": "code",
   "execution_count": 147,
   "metadata": {},
   "outputs": [
    {
     "data": {
      "text/plain": [
       "A    14\n",
       "C    26\n",
       "D    27\n",
       "dtype: int64"
      ]
     },
     "execution_count": 147,
     "metadata": {},
     "output_type": "execute_result"
    }
   ],
   "source": [
    "df1.sum()"
   ]
  },
  {
   "cell_type": "code",
   "execution_count": 145,
   "metadata": {},
   "outputs": [
    {
     "data": {
      "text/plain": [
       "7.444444444444445"
      ]
     },
     "execution_count": 145,
     "metadata": {},
     "output_type": "execute_result"
    }
   ],
   "source": [
    "df1.stack().mean()"
   ]
  },
  {
   "cell_type": "code",
   "execution_count": 143,
   "metadata": {},
   "outputs": [
    {
     "data": {
      "text/html": [
       "<div>\n",
       "<style scoped>\n",
       "    .dataframe tbody tr th:only-of-type {\n",
       "        vertical-align: middle;\n",
       "    }\n",
       "\n",
       "    .dataframe tbody tr th {\n",
       "        vertical-align: top;\n",
       "    }\n",
       "\n",
       "    .dataframe thead th {\n",
       "        text-align: right;\n",
       "    }\n",
       "</style>\n",
       "<table border=\"1\" class=\"dataframe\">\n",
       "  <thead>\n",
       "    <tr style=\"text-align: right;\">\n",
       "      <th></th>\n",
       "      <th>A</th>\n",
       "      <th>B</th>\n",
       "      <th>C</th>\n",
       "      <th>D</th>\n",
       "      <th>E</th>\n",
       "    </tr>\n",
       "  </thead>\n",
       "  <tbody>\n",
       "    <tr>\n",
       "      <th>0</th>\n",
       "      <td>17.000000</td>\n",
       "      <td>13.444444</td>\n",
       "      <td>4.000000</td>\n",
       "      <td>16.000000</td>\n",
       "      <td>20.444444</td>\n",
       "    </tr>\n",
       "    <tr>\n",
       "      <th>1</th>\n",
       "      <td>20.000000</td>\n",
       "      <td>17.444444</td>\n",
       "      <td>15.000000</td>\n",
       "      <td>15.000000</td>\n",
       "      <td>22.444444</td>\n",
       "    </tr>\n",
       "    <tr>\n",
       "      <th>2</th>\n",
       "      <td>18.000000</td>\n",
       "      <td>10.444444</td>\n",
       "      <td>22.000000</td>\n",
       "      <td>21.000000</td>\n",
       "      <td>16.444444</td>\n",
       "    </tr>\n",
       "    <tr>\n",
       "      <th>3</th>\n",
       "      <td>14.444444</td>\n",
       "      <td>18.444444</td>\n",
       "      <td>26.444444</td>\n",
       "      <td>13.444444</td>\n",
       "      <td>14.444444</td>\n",
       "    </tr>\n",
       "    <tr>\n",
       "      <th>4</th>\n",
       "      <td>8.444444</td>\n",
       "      <td>26.444444</td>\n",
       "      <td>12.444444</td>\n",
       "      <td>14.444444</td>\n",
       "      <td>26.444444</td>\n",
       "    </tr>\n",
       "  </tbody>\n",
       "</table>\n",
       "</div>"
      ],
      "text/plain": [
       "           A          B          C          D          E\n",
       "0  17.000000  13.444444   4.000000  16.000000  20.444444\n",
       "1  20.000000  17.444444  15.000000  15.000000  22.444444\n",
       "2  18.000000  10.444444  22.000000  21.000000  16.444444\n",
       "3  14.444444  18.444444  26.444444  13.444444  14.444444\n",
       "4   8.444444  26.444444  12.444444  14.444444  26.444444"
      ]
     },
     "execution_count": 143,
     "metadata": {},
     "output_type": "execute_result"
    }
   ],
   "source": [
    "fvalue = df1.stack().mean()\n",
    "df1.add(df2, fill_value=fvalue)"
   ]
  },
  {
   "cell_type": "code",
   "execution_count": 148,
   "metadata": {},
   "outputs": [
    {
     "data": {
      "text/plain": [
       "array([[5, 2, 1],\n",
       "       [4, 6, 9],\n",
       "       [1, 3, 8]])"
      ]
     },
     "execution_count": 148,
     "metadata": {},
     "output_type": "execute_result"
    }
   ],
   "source": [
    "a = np.random.randint(1, 10, size=(3, 3))\n",
    "a"
   ]
  },
  {
   "cell_type": "code",
   "execution_count": 150,
   "metadata": {},
   "outputs": [
    {
     "name": "stdout",
     "output_type": "stream",
     "text": [
      "[[5 2 1]\n",
      " [4 6 9]\n",
      " [1 3 8]]\n",
      "[5 2 1]\n",
      "[[10  4  2]\n",
      " [ 9  8 10]\n",
      " [ 6  5  9]]\n"
     ]
    }
   ],
   "source": [
    "print(a)\n",
    "print(a[0])\n",
    "k = a + a[0]\n",
    "print(k)"
   ]
  },
  {
   "cell_type": "code",
   "execution_count": 151,
   "metadata": {},
   "outputs": [
    {
     "data": {
      "text/html": [
       "<div>\n",
       "<style scoped>\n",
       "    .dataframe tbody tr th:only-of-type {\n",
       "        vertical-align: middle;\n",
       "    }\n",
       "\n",
       "    .dataframe tbody tr th {\n",
       "        vertical-align: top;\n",
       "    }\n",
       "\n",
       "    .dataframe thead th {\n",
       "        text-align: right;\n",
       "    }\n",
       "</style>\n",
       "<table border=\"1\" class=\"dataframe\">\n",
       "  <thead>\n",
       "    <tr style=\"text-align: right;\">\n",
       "      <th></th>\n",
       "      <th>A</th>\n",
       "      <th>B</th>\n",
       "      <th>C</th>\n",
       "    </tr>\n",
       "  </thead>\n",
       "  <tbody>\n",
       "    <tr>\n",
       "      <th>0</th>\n",
       "      <td>5</td>\n",
       "      <td>2</td>\n",
       "      <td>1</td>\n",
       "    </tr>\n",
       "    <tr>\n",
       "      <th>1</th>\n",
       "      <td>4</td>\n",
       "      <td>6</td>\n",
       "      <td>9</td>\n",
       "    </tr>\n",
       "    <tr>\n",
       "      <th>2</th>\n",
       "      <td>1</td>\n",
       "      <td>3</td>\n",
       "      <td>8</td>\n",
       "    </tr>\n",
       "  </tbody>\n",
       "</table>\n",
       "</div>"
      ],
      "text/plain": [
       "   A  B  C\n",
       "0  5  2  1\n",
       "1  4  6  9\n",
       "2  1  3  8"
      ]
     },
     "execution_count": 151,
     "metadata": {},
     "output_type": "execute_result"
    }
   ],
   "source": [
    "df = pd.DataFrame(a, columns=list('ABC'))\n",
    "df"
   ]
  },
  {
   "cell_type": "code",
   "execution_count": 152,
   "metadata": {},
   "outputs": [
    {
     "data": {
      "text/html": [
       "<div>\n",
       "<style scoped>\n",
       "    .dataframe tbody tr th:only-of-type {\n",
       "        vertical-align: middle;\n",
       "    }\n",
       "\n",
       "    .dataframe tbody tr th {\n",
       "        vertical-align: top;\n",
       "    }\n",
       "\n",
       "    .dataframe thead th {\n",
       "        text-align: right;\n",
       "    }\n",
       "</style>\n",
       "<table border=\"1\" class=\"dataframe\">\n",
       "  <thead>\n",
       "    <tr style=\"text-align: right;\">\n",
       "      <th></th>\n",
       "      <th>A</th>\n",
       "      <th>B</th>\n",
       "      <th>C</th>\n",
       "    </tr>\n",
       "  </thead>\n",
       "  <tbody>\n",
       "    <tr>\n",
       "      <th>0</th>\n",
       "      <td>10</td>\n",
       "      <td>4</td>\n",
       "      <td>2</td>\n",
       "    </tr>\n",
       "    <tr>\n",
       "      <th>1</th>\n",
       "      <td>9</td>\n",
       "      <td>8</td>\n",
       "      <td>10</td>\n",
       "    </tr>\n",
       "    <tr>\n",
       "      <th>2</th>\n",
       "      <td>6</td>\n",
       "      <td>5</td>\n",
       "      <td>9</td>\n",
       "    </tr>\n",
       "  </tbody>\n",
       "</table>\n",
       "</div>"
      ],
      "text/plain": [
       "    A  B   C\n",
       "0  10  4   2\n",
       "1   9  8  10\n",
       "2   6  5   9"
      ]
     },
     "execution_count": 152,
     "metadata": {},
     "output_type": "execute_result"
    }
   ],
   "source": [
    "df + df.iloc[0]"
   ]
  },
  {
   "cell_type": "code",
   "execution_count": 153,
   "metadata": {},
   "outputs": [
    {
     "data": {
      "text/html": [
       "<div>\n",
       "<style scoped>\n",
       "    .dataframe tbody tr th:only-of-type {\n",
       "        vertical-align: middle;\n",
       "    }\n",
       "\n",
       "    .dataframe tbody tr th {\n",
       "        vertical-align: top;\n",
       "    }\n",
       "\n",
       "    .dataframe thead th {\n",
       "        text-align: right;\n",
       "    }\n",
       "</style>\n",
       "<table border=\"1\" class=\"dataframe\">\n",
       "  <thead>\n",
       "    <tr style=\"text-align: right;\">\n",
       "      <th></th>\n",
       "      <th>A</th>\n",
       "      <th>B</th>\n",
       "      <th>C</th>\n",
       "    </tr>\n",
       "  </thead>\n",
       "  <tbody>\n",
       "    <tr>\n",
       "      <th>0</th>\n",
       "      <td>10</td>\n",
       "      <td>4</td>\n",
       "      <td>2</td>\n",
       "    </tr>\n",
       "    <tr>\n",
       "      <th>1</th>\n",
       "      <td>9</td>\n",
       "      <td>8</td>\n",
       "      <td>10</td>\n",
       "    </tr>\n",
       "    <tr>\n",
       "      <th>2</th>\n",
       "      <td>6</td>\n",
       "      <td>5</td>\n",
       "      <td>9</td>\n",
       "    </tr>\n",
       "  </tbody>\n",
       "</table>\n",
       "</div>"
      ],
      "text/plain": [
       "    A  B   C\n",
       "0  10  4   2\n",
       "1   9  8  10\n",
       "2   6  5   9"
      ]
     },
     "execution_count": 153,
     "metadata": {},
     "output_type": "execute_result"
    }
   ],
   "source": [
    "df.add(df.iloc[0])"
   ]
  },
  {
   "cell_type": "code",
   "execution_count": 154,
   "metadata": {},
   "outputs": [
    {
     "data": {
      "text/plain": [
       "array([[5, 2, 1],\n",
       "       [4, 6, 9],\n",
       "       [1, 3, 8]])"
      ]
     },
     "execution_count": 154,
     "metadata": {},
     "output_type": "execute_result"
    }
   ],
   "source": [
    "a"
   ]
  },
  {
   "cell_type": "code",
   "execution_count": 155,
   "metadata": {},
   "outputs": [
    {
     "data": {
      "text/plain": [
       "array([[ 0,  0,  0],\n",
       "       [-1,  4,  8],\n",
       "       [-4,  1,  7]])"
      ]
     },
     "execution_count": 155,
     "metadata": {},
     "output_type": "execute_result"
    }
   ],
   "source": [
    "a - a[0]"
   ]
  },
  {
   "cell_type": "code",
   "execution_count": 156,
   "metadata": {},
   "outputs": [
    {
     "data": {
      "text/html": [
       "<div>\n",
       "<style scoped>\n",
       "    .dataframe tbody tr th:only-of-type {\n",
       "        vertical-align: middle;\n",
       "    }\n",
       "\n",
       "    .dataframe tbody tr th {\n",
       "        vertical-align: top;\n",
       "    }\n",
       "\n",
       "    .dataframe thead th {\n",
       "        text-align: right;\n",
       "    }\n",
       "</style>\n",
       "<table border=\"1\" class=\"dataframe\">\n",
       "  <thead>\n",
       "    <tr style=\"text-align: right;\">\n",
       "      <th></th>\n",
       "      <th>A</th>\n",
       "      <th>B</th>\n",
       "      <th>C</th>\n",
       "    </tr>\n",
       "  </thead>\n",
       "  <tbody>\n",
       "    <tr>\n",
       "      <th>0</th>\n",
       "      <td>0</td>\n",
       "      <td>0</td>\n",
       "      <td>0</td>\n",
       "    </tr>\n",
       "    <tr>\n",
       "      <th>1</th>\n",
       "      <td>-1</td>\n",
       "      <td>4</td>\n",
       "      <td>8</td>\n",
       "    </tr>\n",
       "    <tr>\n",
       "      <th>2</th>\n",
       "      <td>-4</td>\n",
       "      <td>1</td>\n",
       "      <td>7</td>\n",
       "    </tr>\n",
       "  </tbody>\n",
       "</table>\n",
       "</div>"
      ],
      "text/plain": [
       "   A  B  C\n",
       "0  0  0  0\n",
       "1 -1  4  8\n",
       "2 -4  1  7"
      ]
     },
     "execution_count": 156,
     "metadata": {},
     "output_type": "execute_result"
    }
   ],
   "source": [
    "df - df.iloc[0]"
   ]
  },
  {
   "cell_type": "code",
   "execution_count": 157,
   "metadata": {},
   "outputs": [
    {
     "data": {
      "text/html": [
       "<div>\n",
       "<style scoped>\n",
       "    .dataframe tbody tr th:only-of-type {\n",
       "        vertical-align: middle;\n",
       "    }\n",
       "\n",
       "    .dataframe tbody tr th {\n",
       "        vertical-align: top;\n",
       "    }\n",
       "\n",
       "    .dataframe thead th {\n",
       "        text-align: right;\n",
       "    }\n",
       "</style>\n",
       "<table border=\"1\" class=\"dataframe\">\n",
       "  <thead>\n",
       "    <tr style=\"text-align: right;\">\n",
       "      <th></th>\n",
       "      <th>A</th>\n",
       "      <th>B</th>\n",
       "      <th>C</th>\n",
       "    </tr>\n",
       "  </thead>\n",
       "  <tbody>\n",
       "    <tr>\n",
       "      <th>0</th>\n",
       "      <td>0</td>\n",
       "      <td>0</td>\n",
       "      <td>0</td>\n",
       "    </tr>\n",
       "    <tr>\n",
       "      <th>1</th>\n",
       "      <td>-1</td>\n",
       "      <td>4</td>\n",
       "      <td>8</td>\n",
       "    </tr>\n",
       "    <tr>\n",
       "      <th>2</th>\n",
       "      <td>-4</td>\n",
       "      <td>1</td>\n",
       "      <td>7</td>\n",
       "    </tr>\n",
       "  </tbody>\n",
       "</table>\n",
       "</div>"
      ],
      "text/plain": [
       "   A  B  C\n",
       "0  0  0  0\n",
       "1 -1  4  8\n",
       "2 -4  1  7"
      ]
     },
     "execution_count": 157,
     "metadata": {},
     "output_type": "execute_result"
    }
   ],
   "source": [
    "df.sub(df.iloc[0])"
   ]
  },
  {
   "cell_type": "code",
   "execution_count": 160,
   "metadata": {},
   "outputs": [
    {
     "data": {
      "text/html": [
       "<div>\n",
       "<style scoped>\n",
       "    .dataframe tbody tr th:only-of-type {\n",
       "        vertical-align: middle;\n",
       "    }\n",
       "\n",
       "    .dataframe tbody tr th {\n",
       "        vertical-align: top;\n",
       "    }\n",
       "\n",
       "    .dataframe thead th {\n",
       "        text-align: right;\n",
       "    }\n",
       "</style>\n",
       "<table border=\"1\" class=\"dataframe\">\n",
       "  <thead>\n",
       "    <tr style=\"text-align: right;\">\n",
       "      <th></th>\n",
       "      <th>A</th>\n",
       "      <th>B</th>\n",
       "      <th>C</th>\n",
       "    </tr>\n",
       "  </thead>\n",
       "  <tbody>\n",
       "    <tr>\n",
       "      <th>0</th>\n",
       "      <td>3</td>\n",
       "      <td>0</td>\n",
       "      <td>-1</td>\n",
       "    </tr>\n",
       "    <tr>\n",
       "      <th>1</th>\n",
       "      <td>-2</td>\n",
       "      <td>0</td>\n",
       "      <td>3</td>\n",
       "    </tr>\n",
       "    <tr>\n",
       "      <th>2</th>\n",
       "      <td>-2</td>\n",
       "      <td>0</td>\n",
       "      <td>5</td>\n",
       "    </tr>\n",
       "  </tbody>\n",
       "</table>\n",
       "</div>"
      ],
      "text/plain": [
       "   A  B  C\n",
       "0  3  0 -1\n",
       "1 -2  0  3\n",
       "2 -2  0  5"
      ]
     },
     "execution_count": 160,
     "metadata": {},
     "output_type": "execute_result"
    }
   ],
   "source": [
    "df.subtract(df['B'], axis=0)"
   ]
  },
  {
   "cell_type": "code",
   "execution_count": 161,
   "metadata": {},
   "outputs": [
    {
     "data": {
      "text/html": [
       "<div>\n",
       "<style scoped>\n",
       "    .dataframe tbody tr th:only-of-type {\n",
       "        vertical-align: middle;\n",
       "    }\n",
       "\n",
       "    .dataframe tbody tr th {\n",
       "        vertical-align: top;\n",
       "    }\n",
       "\n",
       "    .dataframe thead th {\n",
       "        text-align: right;\n",
       "    }\n",
       "</style>\n",
       "<table border=\"1\" class=\"dataframe\">\n",
       "  <thead>\n",
       "    <tr style=\"text-align: right;\">\n",
       "      <th></th>\n",
       "      <th>A</th>\n",
       "      <th>B</th>\n",
       "      <th>C</th>\n",
       "    </tr>\n",
       "  </thead>\n",
       "  <tbody>\n",
       "    <tr>\n",
       "      <th>0</th>\n",
       "      <td>5</td>\n",
       "      <td>2</td>\n",
       "      <td>1</td>\n",
       "    </tr>\n",
       "    <tr>\n",
       "      <th>1</th>\n",
       "      <td>4</td>\n",
       "      <td>6</td>\n",
       "      <td>9</td>\n",
       "    </tr>\n",
       "    <tr>\n",
       "      <th>2</th>\n",
       "      <td>1</td>\n",
       "      <td>3</td>\n",
       "      <td>8</td>\n",
       "    </tr>\n",
       "  </tbody>\n",
       "</table>\n",
       "</div>"
      ],
      "text/plain": [
       "   A  B  C\n",
       "0  5  2  1\n",
       "1  4  6  9\n",
       "2  1  3  8"
      ]
     },
     "execution_count": 161,
     "metadata": {},
     "output_type": "execute_result"
    }
   ],
   "source": [
    "df"
   ]
  },
  {
   "cell_type": "code",
   "execution_count": 162,
   "metadata": {},
   "outputs": [
    {
     "data": {
      "text/plain": [
       "array([[5, 2, 1],\n",
       "       [4, 6, 9],\n",
       "       [1, 3, 8]])"
      ]
     },
     "execution_count": 162,
     "metadata": {},
     "output_type": "execute_result"
    }
   ],
   "source": [
    "a"
   ]
  },
  {
   "cell_type": "code",
   "execution_count": 163,
   "metadata": {},
   "outputs": [
    {
     "data": {
      "text/html": [
       "<div>\n",
       "<style scoped>\n",
       "    .dataframe tbody tr th:only-of-type {\n",
       "        vertical-align: middle;\n",
       "    }\n",
       "\n",
       "    .dataframe tbody tr th {\n",
       "        vertical-align: top;\n",
       "    }\n",
       "\n",
       "    .dataframe thead th {\n",
       "        text-align: right;\n",
       "    }\n",
       "</style>\n",
       "<table border=\"1\" class=\"dataframe\">\n",
       "  <thead>\n",
       "    <tr style=\"text-align: right;\">\n",
       "      <th></th>\n",
       "      <th>A</th>\n",
       "      <th>B</th>\n",
       "      <th>C</th>\n",
       "    </tr>\n",
       "  </thead>\n",
       "  <tbody>\n",
       "    <tr>\n",
       "      <th>0</th>\n",
       "      <td>5</td>\n",
       "      <td>2</td>\n",
       "      <td>1</td>\n",
       "    </tr>\n",
       "    <tr>\n",
       "      <th>1</th>\n",
       "      <td>4</td>\n",
       "      <td>6</td>\n",
       "      <td>9</td>\n",
       "    </tr>\n",
       "    <tr>\n",
       "      <th>2</th>\n",
       "      <td>1</td>\n",
       "      <td>3</td>\n",
       "      <td>8</td>\n",
       "    </tr>\n",
       "  </tbody>\n",
       "</table>\n",
       "</div>"
      ],
      "text/plain": [
       "   A  B  C\n",
       "0  5  2  1\n",
       "1  4  6  9\n",
       "2  1  3  8"
      ]
     },
     "execution_count": 163,
     "metadata": {},
     "output_type": "execute_result"
    }
   ],
   "source": [
    "df"
   ]
  },
  {
   "cell_type": "code",
   "execution_count": 164,
   "metadata": {},
   "outputs": [
    {
     "data": {
      "text/plain": [
       "array([[25,  4,  1],\n",
       "       [20, 12,  9],\n",
       "       [ 5,  6,  8]])"
      ]
     },
     "execution_count": 164,
     "metadata": {},
     "output_type": "execute_result"
    }
   ],
   "source": [
    "a * a[0]"
   ]
  },
  {
   "cell_type": "code",
   "execution_count": 165,
   "metadata": {},
   "outputs": [
    {
     "data": {
      "text/html": [
       "<div>\n",
       "<style scoped>\n",
       "    .dataframe tbody tr th:only-of-type {\n",
       "        vertical-align: middle;\n",
       "    }\n",
       "\n",
       "    .dataframe tbody tr th {\n",
       "        vertical-align: top;\n",
       "    }\n",
       "\n",
       "    .dataframe thead th {\n",
       "        text-align: right;\n",
       "    }\n",
       "</style>\n",
       "<table border=\"1\" class=\"dataframe\">\n",
       "  <thead>\n",
       "    <tr style=\"text-align: right;\">\n",
       "      <th></th>\n",
       "      <th>A</th>\n",
       "      <th>B</th>\n",
       "      <th>C</th>\n",
       "    </tr>\n",
       "  </thead>\n",
       "  <tbody>\n",
       "    <tr>\n",
       "      <th>0</th>\n",
       "      <td>20</td>\n",
       "      <td>12</td>\n",
       "      <td>9</td>\n",
       "    </tr>\n",
       "    <tr>\n",
       "      <th>1</th>\n",
       "      <td>16</td>\n",
       "      <td>36</td>\n",
       "      <td>81</td>\n",
       "    </tr>\n",
       "    <tr>\n",
       "      <th>2</th>\n",
       "      <td>4</td>\n",
       "      <td>18</td>\n",
       "      <td>72</td>\n",
       "    </tr>\n",
       "  </tbody>\n",
       "</table>\n",
       "</div>"
      ],
      "text/plain": [
       "    A   B   C\n",
       "0  20  12   9\n",
       "1  16  36  81\n",
       "2   4  18  72"
      ]
     },
     "execution_count": 165,
     "metadata": {},
     "output_type": "execute_result"
    }
   ],
   "source": [
    "df * df.iloc[1]"
   ]
  },
  {
   "cell_type": "code",
   "execution_count": 166,
   "metadata": {},
   "outputs": [
    {
     "data": {
      "text/plain": [
       "array([[20, 12,  9],\n",
       "       [16, 36, 81],\n",
       "       [ 4, 18, 72]])"
      ]
     },
     "execution_count": 166,
     "metadata": {},
     "output_type": "execute_result"
    }
   ],
   "source": [
    "a * a[1]"
   ]
  },
  {
   "cell_type": "code",
   "execution_count": 167,
   "metadata": {},
   "outputs": [
    {
     "data": {
      "text/html": [
       "<div>\n",
       "<style scoped>\n",
       "    .dataframe tbody tr th:only-of-type {\n",
       "        vertical-align: middle;\n",
       "    }\n",
       "\n",
       "    .dataframe tbody tr th {\n",
       "        vertical-align: top;\n",
       "    }\n",
       "\n",
       "    .dataframe thead th {\n",
       "        text-align: right;\n",
       "    }\n",
       "</style>\n",
       "<table border=\"1\" class=\"dataframe\">\n",
       "  <thead>\n",
       "    <tr style=\"text-align: right;\">\n",
       "      <th></th>\n",
       "      <th>A</th>\n",
       "      <th>B</th>\n",
       "      <th>C</th>\n",
       "    </tr>\n",
       "  </thead>\n",
       "  <tbody>\n",
       "    <tr>\n",
       "      <th>0</th>\n",
       "      <td>20</td>\n",
       "      <td>12</td>\n",
       "      <td>9</td>\n",
       "    </tr>\n",
       "    <tr>\n",
       "      <th>1</th>\n",
       "      <td>16</td>\n",
       "      <td>36</td>\n",
       "      <td>81</td>\n",
       "    </tr>\n",
       "    <tr>\n",
       "      <th>2</th>\n",
       "      <td>4</td>\n",
       "      <td>18</td>\n",
       "      <td>72</td>\n",
       "    </tr>\n",
       "  </tbody>\n",
       "</table>\n",
       "</div>"
      ],
      "text/plain": [
       "    A   B   C\n",
       "0  20  12   9\n",
       "1  16  36  81\n",
       "2   4  18  72"
      ]
     },
     "execution_count": 167,
     "metadata": {},
     "output_type": "execute_result"
    }
   ],
   "source": [
    "df.mul(df.iloc[1])"
   ]
  },
  {
   "cell_type": "code",
   "execution_count": 169,
   "metadata": {},
   "outputs": [
    {
     "data": {
      "text/html": [
       "<div>\n",
       "<style scoped>\n",
       "    .dataframe tbody tr th:only-of-type {\n",
       "        vertical-align: middle;\n",
       "    }\n",
       "\n",
       "    .dataframe tbody tr th {\n",
       "        vertical-align: top;\n",
       "    }\n",
       "\n",
       "    .dataframe thead th {\n",
       "        text-align: right;\n",
       "    }\n",
       "</style>\n",
       "<table border=\"1\" class=\"dataframe\">\n",
       "  <thead>\n",
       "    <tr style=\"text-align: right;\">\n",
       "      <th></th>\n",
       "      <th>A</th>\n",
       "      <th>B</th>\n",
       "      <th>C</th>\n",
       "    </tr>\n",
       "  </thead>\n",
       "  <tbody>\n",
       "    <tr>\n",
       "      <th>0</th>\n",
       "      <td>5</td>\n",
       "      <td>6</td>\n",
       "      <td>8</td>\n",
       "    </tr>\n",
       "    <tr>\n",
       "      <th>1</th>\n",
       "      <td>4</td>\n",
       "      <td>18</td>\n",
       "      <td>72</td>\n",
       "    </tr>\n",
       "    <tr>\n",
       "      <th>2</th>\n",
       "      <td>1</td>\n",
       "      <td>9</td>\n",
       "      <td>64</td>\n",
       "    </tr>\n",
       "  </tbody>\n",
       "</table>\n",
       "</div>"
      ],
      "text/plain": [
       "   A   B   C\n",
       "0  5   6   8\n",
       "1  4  18  72\n",
       "2  1   9  64"
      ]
     },
     "execution_count": 169,
     "metadata": {},
     "output_type": "execute_result"
    }
   ],
   "source": [
    "df.multiply(df.iloc[2])"
   ]
  },
  {
   "cell_type": "code",
   "execution_count": 170,
   "metadata": {},
   "outputs": [
    {
     "data": {
      "text/html": [
       "<div>\n",
       "<style scoped>\n",
       "    .dataframe tbody tr th:only-of-type {\n",
       "        vertical-align: middle;\n",
       "    }\n",
       "\n",
       "    .dataframe tbody tr th {\n",
       "        vertical-align: top;\n",
       "    }\n",
       "\n",
       "    .dataframe thead th {\n",
       "        text-align: right;\n",
       "    }\n",
       "</style>\n",
       "<table border=\"1\" class=\"dataframe\">\n",
       "  <thead>\n",
       "    <tr style=\"text-align: right;\">\n",
       "      <th></th>\n",
       "      <th>A</th>\n",
       "      <th>B</th>\n",
       "      <th>C</th>\n",
       "    </tr>\n",
       "  </thead>\n",
       "  <tbody>\n",
       "    <tr>\n",
       "      <th>0</th>\n",
       "      <td>5</td>\n",
       "      <td>2</td>\n",
       "      <td>1</td>\n",
       "    </tr>\n",
       "    <tr>\n",
       "      <th>1</th>\n",
       "      <td>4</td>\n",
       "      <td>6</td>\n",
       "      <td>9</td>\n",
       "    </tr>\n",
       "    <tr>\n",
       "      <th>2</th>\n",
       "      <td>1</td>\n",
       "      <td>3</td>\n",
       "      <td>8</td>\n",
       "    </tr>\n",
       "  </tbody>\n",
       "</table>\n",
       "</div>"
      ],
      "text/plain": [
       "   A  B  C\n",
       "0  5  2  1\n",
       "1  4  6  9\n",
       "2  1  3  8"
      ]
     },
     "execution_count": 170,
     "metadata": {},
     "output_type": "execute_result"
    }
   ],
   "source": [
    "df"
   ]
  },
  {
   "cell_type": "code",
   "execution_count": 171,
   "metadata": {},
   "outputs": [
    {
     "data": {
      "text/plain": [
       "array([[5, 2, 1],\n",
       "       [4, 6, 9],\n",
       "       [1, 3, 8]])"
      ]
     },
     "execution_count": 171,
     "metadata": {},
     "output_type": "execute_result"
    }
   ],
   "source": [
    "a"
   ]
  },
  {
   "cell_type": "code",
   "execution_count": 172,
   "metadata": {},
   "outputs": [
    {
     "data": {
      "text/plain": [
       "array([[1. , 1. , 1. ],\n",
       "       [0.8, 3. , 9. ],\n",
       "       [0.2, 1.5, 8. ]])"
      ]
     },
     "execution_count": 172,
     "metadata": {},
     "output_type": "execute_result"
    }
   ],
   "source": [
    "a / a[0]"
   ]
  },
  {
   "cell_type": "code",
   "execution_count": 173,
   "metadata": {},
   "outputs": [
    {
     "data": {
      "text/html": [
       "<div>\n",
       "<style scoped>\n",
       "    .dataframe tbody tr th:only-of-type {\n",
       "        vertical-align: middle;\n",
       "    }\n",
       "\n",
       "    .dataframe tbody tr th {\n",
       "        vertical-align: top;\n",
       "    }\n",
       "\n",
       "    .dataframe thead th {\n",
       "        text-align: right;\n",
       "    }\n",
       "</style>\n",
       "<table border=\"1\" class=\"dataframe\">\n",
       "  <thead>\n",
       "    <tr style=\"text-align: right;\">\n",
       "      <th></th>\n",
       "      <th>A</th>\n",
       "      <th>B</th>\n",
       "      <th>C</th>\n",
       "    </tr>\n",
       "  </thead>\n",
       "  <tbody>\n",
       "    <tr>\n",
       "      <th>0</th>\n",
       "      <td>5</td>\n",
       "      <td>2</td>\n",
       "      <td>1</td>\n",
       "    </tr>\n",
       "    <tr>\n",
       "      <th>1</th>\n",
       "      <td>4</td>\n",
       "      <td>6</td>\n",
       "      <td>9</td>\n",
       "    </tr>\n",
       "    <tr>\n",
       "      <th>2</th>\n",
       "      <td>1</td>\n",
       "      <td>3</td>\n",
       "      <td>8</td>\n",
       "    </tr>\n",
       "  </tbody>\n",
       "</table>\n",
       "</div>"
      ],
      "text/plain": [
       "   A  B  C\n",
       "0  5  2  1\n",
       "1  4  6  9\n",
       "2  1  3  8"
      ]
     },
     "execution_count": 173,
     "metadata": {},
     "output_type": "execute_result"
    }
   ],
   "source": [
    "df"
   ]
  },
  {
   "cell_type": "code",
   "execution_count": 174,
   "metadata": {},
   "outputs": [
    {
     "data": {
      "text/html": [
       "<div>\n",
       "<style scoped>\n",
       "    .dataframe tbody tr th:only-of-type {\n",
       "        vertical-align: middle;\n",
       "    }\n",
       "\n",
       "    .dataframe tbody tr th {\n",
       "        vertical-align: top;\n",
       "    }\n",
       "\n",
       "    .dataframe thead th {\n",
       "        text-align: right;\n",
       "    }\n",
       "</style>\n",
       "<table border=\"1\" class=\"dataframe\">\n",
       "  <thead>\n",
       "    <tr style=\"text-align: right;\">\n",
       "      <th></th>\n",
       "      <th>A</th>\n",
       "      <th>B</th>\n",
       "      <th>C</th>\n",
       "    </tr>\n",
       "  </thead>\n",
       "  <tbody>\n",
       "    <tr>\n",
       "      <th>0</th>\n",
       "      <td>1.0</td>\n",
       "      <td>1.0</td>\n",
       "      <td>1.0</td>\n",
       "    </tr>\n",
       "    <tr>\n",
       "      <th>1</th>\n",
       "      <td>0.8</td>\n",
       "      <td>3.0</td>\n",
       "      <td>9.0</td>\n",
       "    </tr>\n",
       "    <tr>\n",
       "      <th>2</th>\n",
       "      <td>0.2</td>\n",
       "      <td>1.5</td>\n",
       "      <td>8.0</td>\n",
       "    </tr>\n",
       "  </tbody>\n",
       "</table>\n",
       "</div>"
      ],
      "text/plain": [
       "     A    B    C\n",
       "0  1.0  1.0  1.0\n",
       "1  0.8  3.0  9.0\n",
       "2  0.2  1.5  8.0"
      ]
     },
     "execution_count": 174,
     "metadata": {},
     "output_type": "execute_result"
    }
   ],
   "source": [
    "df / df.iloc[0]"
   ]
  },
  {
   "cell_type": "code",
   "execution_count": 175,
   "metadata": {},
   "outputs": [
    {
     "data": {
      "text/html": [
       "<div>\n",
       "<style scoped>\n",
       "    .dataframe tbody tr th:only-of-type {\n",
       "        vertical-align: middle;\n",
       "    }\n",
       "\n",
       "    .dataframe tbody tr th {\n",
       "        vertical-align: top;\n",
       "    }\n",
       "\n",
       "    .dataframe thead th {\n",
       "        text-align: right;\n",
       "    }\n",
       "</style>\n",
       "<table border=\"1\" class=\"dataframe\">\n",
       "  <thead>\n",
       "    <tr style=\"text-align: right;\">\n",
       "      <th></th>\n",
       "      <th>A</th>\n",
       "      <th>B</th>\n",
       "      <th>C</th>\n",
       "    </tr>\n",
       "  </thead>\n",
       "  <tbody>\n",
       "    <tr>\n",
       "      <th>0</th>\n",
       "      <td>1.0</td>\n",
       "      <td>1.0</td>\n",
       "      <td>1.0</td>\n",
       "    </tr>\n",
       "    <tr>\n",
       "      <th>1</th>\n",
       "      <td>0.8</td>\n",
       "      <td>3.0</td>\n",
       "      <td>9.0</td>\n",
       "    </tr>\n",
       "    <tr>\n",
       "      <th>2</th>\n",
       "      <td>0.2</td>\n",
       "      <td>1.5</td>\n",
       "      <td>8.0</td>\n",
       "    </tr>\n",
       "  </tbody>\n",
       "</table>\n",
       "</div>"
      ],
      "text/plain": [
       "     A    B    C\n",
       "0  1.0  1.0  1.0\n",
       "1  0.8  3.0  9.0\n",
       "2  0.2  1.5  8.0"
      ]
     },
     "execution_count": 175,
     "metadata": {},
     "output_type": "execute_result"
    }
   ],
   "source": [
    "df.truediv(df.iloc[0])"
   ]
  },
  {
   "cell_type": "code",
   "execution_count": 176,
   "metadata": {},
   "outputs": [
    {
     "data": {
      "text/html": [
       "<div>\n",
       "<style scoped>\n",
       "    .dataframe tbody tr th:only-of-type {\n",
       "        vertical-align: middle;\n",
       "    }\n",
       "\n",
       "    .dataframe tbody tr th {\n",
       "        vertical-align: top;\n",
       "    }\n",
       "\n",
       "    .dataframe thead th {\n",
       "        text-align: right;\n",
       "    }\n",
       "</style>\n",
       "<table border=\"1\" class=\"dataframe\">\n",
       "  <thead>\n",
       "    <tr style=\"text-align: right;\">\n",
       "      <th></th>\n",
       "      <th>A</th>\n",
       "      <th>B</th>\n",
       "      <th>C</th>\n",
       "    </tr>\n",
       "  </thead>\n",
       "  <tbody>\n",
       "    <tr>\n",
       "      <th>0</th>\n",
       "      <td>1.0</td>\n",
       "      <td>1.0</td>\n",
       "      <td>1.0</td>\n",
       "    </tr>\n",
       "    <tr>\n",
       "      <th>1</th>\n",
       "      <td>0.8</td>\n",
       "      <td>3.0</td>\n",
       "      <td>9.0</td>\n",
       "    </tr>\n",
       "    <tr>\n",
       "      <th>2</th>\n",
       "      <td>0.2</td>\n",
       "      <td>1.5</td>\n",
       "      <td>8.0</td>\n",
       "    </tr>\n",
       "  </tbody>\n",
       "</table>\n",
       "</div>"
      ],
      "text/plain": [
       "     A    B    C\n",
       "0  1.0  1.0  1.0\n",
       "1  0.8  3.0  9.0\n",
       "2  0.2  1.5  8.0"
      ]
     },
     "execution_count": 176,
     "metadata": {},
     "output_type": "execute_result"
    }
   ],
   "source": [
    "df.div(df.iloc[0])"
   ]
  },
  {
   "cell_type": "code",
   "execution_count": 177,
   "metadata": {},
   "outputs": [
    {
     "data": {
      "text/html": [
       "<div>\n",
       "<style scoped>\n",
       "    .dataframe tbody tr th:only-of-type {\n",
       "        vertical-align: middle;\n",
       "    }\n",
       "\n",
       "    .dataframe tbody tr th {\n",
       "        vertical-align: top;\n",
       "    }\n",
       "\n",
       "    .dataframe thead th {\n",
       "        text-align: right;\n",
       "    }\n",
       "</style>\n",
       "<table border=\"1\" class=\"dataframe\">\n",
       "  <thead>\n",
       "    <tr style=\"text-align: right;\">\n",
       "      <th></th>\n",
       "      <th>A</th>\n",
       "      <th>B</th>\n",
       "      <th>C</th>\n",
       "    </tr>\n",
       "  </thead>\n",
       "  <tbody>\n",
       "    <tr>\n",
       "      <th>0</th>\n",
       "      <td>1.0</td>\n",
       "      <td>1.0</td>\n",
       "      <td>1.0</td>\n",
       "    </tr>\n",
       "    <tr>\n",
       "      <th>1</th>\n",
       "      <td>0.8</td>\n",
       "      <td>3.0</td>\n",
       "      <td>9.0</td>\n",
       "    </tr>\n",
       "    <tr>\n",
       "      <th>2</th>\n",
       "      <td>0.2</td>\n",
       "      <td>1.5</td>\n",
       "      <td>8.0</td>\n",
       "    </tr>\n",
       "  </tbody>\n",
       "</table>\n",
       "</div>"
      ],
      "text/plain": [
       "     A    B    C\n",
       "0  1.0  1.0  1.0\n",
       "1  0.8  3.0  9.0\n",
       "2  0.2  1.5  8.0"
      ]
     },
     "execution_count": 177,
     "metadata": {},
     "output_type": "execute_result"
    }
   ],
   "source": [
    "df.divide(df.iloc[0])"
   ]
  },
  {
   "cell_type": "code",
   "execution_count": 178,
   "metadata": {},
   "outputs": [
    {
     "data": {
      "text/plain": [
       "array([[1, 1, 1],\n",
       "       [0, 3, 9],\n",
       "       [0, 1, 8]], dtype=int32)"
      ]
     },
     "execution_count": 178,
     "metadata": {},
     "output_type": "execute_result"
    }
   ],
   "source": [
    "a // a[0]"
   ]
  },
  {
   "cell_type": "code",
   "execution_count": 179,
   "metadata": {},
   "outputs": [
    {
     "data": {
      "text/html": [
       "<div>\n",
       "<style scoped>\n",
       "    .dataframe tbody tr th:only-of-type {\n",
       "        vertical-align: middle;\n",
       "    }\n",
       "\n",
       "    .dataframe tbody tr th {\n",
       "        vertical-align: top;\n",
       "    }\n",
       "\n",
       "    .dataframe thead th {\n",
       "        text-align: right;\n",
       "    }\n",
       "</style>\n",
       "<table border=\"1\" class=\"dataframe\">\n",
       "  <thead>\n",
       "    <tr style=\"text-align: right;\">\n",
       "      <th></th>\n",
       "      <th>A</th>\n",
       "      <th>B</th>\n",
       "      <th>C</th>\n",
       "    </tr>\n",
       "  </thead>\n",
       "  <tbody>\n",
       "    <tr>\n",
       "      <th>0</th>\n",
       "      <td>1</td>\n",
       "      <td>1</td>\n",
       "      <td>1</td>\n",
       "    </tr>\n",
       "    <tr>\n",
       "      <th>1</th>\n",
       "      <td>0</td>\n",
       "      <td>3</td>\n",
       "      <td>9</td>\n",
       "    </tr>\n",
       "    <tr>\n",
       "      <th>2</th>\n",
       "      <td>0</td>\n",
       "      <td>1</td>\n",
       "      <td>8</td>\n",
       "    </tr>\n",
       "  </tbody>\n",
       "</table>\n",
       "</div>"
      ],
      "text/plain": [
       "   A  B  C\n",
       "0  1  1  1\n",
       "1  0  3  9\n",
       "2  0  1  8"
      ]
     },
     "execution_count": 179,
     "metadata": {},
     "output_type": "execute_result"
    }
   ],
   "source": [
    "df.floordiv(df.iloc[0])"
   ]
  },
  {
   "cell_type": "code",
   "execution_count": 180,
   "metadata": {},
   "outputs": [
    {
     "data": {
      "text/plain": [
       "array([[5, 2, 1],\n",
       "       [4, 6, 9],\n",
       "       [1, 3, 8]])"
      ]
     },
     "execution_count": 180,
     "metadata": {},
     "output_type": "execute_result"
    }
   ],
   "source": [
    "a"
   ]
  },
  {
   "cell_type": "code",
   "execution_count": 181,
   "metadata": {},
   "outputs": [
    {
     "data": {
      "text/plain": [
       "array([[0, 0, 0],\n",
       "       [4, 0, 0],\n",
       "       [1, 1, 0]], dtype=int32)"
      ]
     },
     "execution_count": 181,
     "metadata": {},
     "output_type": "execute_result"
    }
   ],
   "source": [
    "a % a[0]"
   ]
  },
  {
   "cell_type": "code",
   "execution_count": 182,
   "metadata": {},
   "outputs": [
    {
     "data": {
      "text/html": [
       "<div>\n",
       "<style scoped>\n",
       "    .dataframe tbody tr th:only-of-type {\n",
       "        vertical-align: middle;\n",
       "    }\n",
       "\n",
       "    .dataframe tbody tr th {\n",
       "        vertical-align: top;\n",
       "    }\n",
       "\n",
       "    .dataframe thead th {\n",
       "        text-align: right;\n",
       "    }\n",
       "</style>\n",
       "<table border=\"1\" class=\"dataframe\">\n",
       "  <thead>\n",
       "    <tr style=\"text-align: right;\">\n",
       "      <th></th>\n",
       "      <th>A</th>\n",
       "      <th>B</th>\n",
       "      <th>C</th>\n",
       "    </tr>\n",
       "  </thead>\n",
       "  <tbody>\n",
       "    <tr>\n",
       "      <th>0</th>\n",
       "      <td>5</td>\n",
       "      <td>2</td>\n",
       "      <td>1</td>\n",
       "    </tr>\n",
       "    <tr>\n",
       "      <th>1</th>\n",
       "      <td>4</td>\n",
       "      <td>6</td>\n",
       "      <td>9</td>\n",
       "    </tr>\n",
       "    <tr>\n",
       "      <th>2</th>\n",
       "      <td>1</td>\n",
       "      <td>3</td>\n",
       "      <td>8</td>\n",
       "    </tr>\n",
       "  </tbody>\n",
       "</table>\n",
       "</div>"
      ],
      "text/plain": [
       "   A  B  C\n",
       "0  5  2  1\n",
       "1  4  6  9\n",
       "2  1  3  8"
      ]
     },
     "execution_count": 182,
     "metadata": {},
     "output_type": "execute_result"
    }
   ],
   "source": [
    "df"
   ]
  },
  {
   "cell_type": "code",
   "execution_count": 183,
   "metadata": {},
   "outputs": [
    {
     "data": {
      "text/html": [
       "<div>\n",
       "<style scoped>\n",
       "    .dataframe tbody tr th:only-of-type {\n",
       "        vertical-align: middle;\n",
       "    }\n",
       "\n",
       "    .dataframe tbody tr th {\n",
       "        vertical-align: top;\n",
       "    }\n",
       "\n",
       "    .dataframe thead th {\n",
       "        text-align: right;\n",
       "    }\n",
       "</style>\n",
       "<table border=\"1\" class=\"dataframe\">\n",
       "  <thead>\n",
       "    <tr style=\"text-align: right;\">\n",
       "      <th></th>\n",
       "      <th>A</th>\n",
       "      <th>B</th>\n",
       "      <th>C</th>\n",
       "    </tr>\n",
       "  </thead>\n",
       "  <tbody>\n",
       "    <tr>\n",
       "      <th>0</th>\n",
       "      <td>0</td>\n",
       "      <td>0</td>\n",
       "      <td>0</td>\n",
       "    </tr>\n",
       "    <tr>\n",
       "      <th>1</th>\n",
       "      <td>4</td>\n",
       "      <td>0</td>\n",
       "      <td>0</td>\n",
       "    </tr>\n",
       "    <tr>\n",
       "      <th>2</th>\n",
       "      <td>1</td>\n",
       "      <td>1</td>\n",
       "      <td>0</td>\n",
       "    </tr>\n",
       "  </tbody>\n",
       "</table>\n",
       "</div>"
      ],
      "text/plain": [
       "   A  B  C\n",
       "0  0  0  0\n",
       "1  4  0  0\n",
       "2  1  1  0"
      ]
     },
     "execution_count": 183,
     "metadata": {},
     "output_type": "execute_result"
    }
   ],
   "source": [
    "df % df.iloc[0]"
   ]
  },
  {
   "cell_type": "code",
   "execution_count": 184,
   "metadata": {},
   "outputs": [
    {
     "data": {
      "text/html": [
       "<div>\n",
       "<style scoped>\n",
       "    .dataframe tbody tr th:only-of-type {\n",
       "        vertical-align: middle;\n",
       "    }\n",
       "\n",
       "    .dataframe tbody tr th {\n",
       "        vertical-align: top;\n",
       "    }\n",
       "\n",
       "    .dataframe thead th {\n",
       "        text-align: right;\n",
       "    }\n",
       "</style>\n",
       "<table border=\"1\" class=\"dataframe\">\n",
       "  <thead>\n",
       "    <tr style=\"text-align: right;\">\n",
       "      <th></th>\n",
       "      <th>A</th>\n",
       "      <th>B</th>\n",
       "      <th>C</th>\n",
       "    </tr>\n",
       "  </thead>\n",
       "  <tbody>\n",
       "    <tr>\n",
       "      <th>0</th>\n",
       "      <td>0</td>\n",
       "      <td>0</td>\n",
       "      <td>0</td>\n",
       "    </tr>\n",
       "    <tr>\n",
       "      <th>1</th>\n",
       "      <td>4</td>\n",
       "      <td>0</td>\n",
       "      <td>0</td>\n",
       "    </tr>\n",
       "    <tr>\n",
       "      <th>2</th>\n",
       "      <td>1</td>\n",
       "      <td>1</td>\n",
       "      <td>0</td>\n",
       "    </tr>\n",
       "  </tbody>\n",
       "</table>\n",
       "</div>"
      ],
      "text/plain": [
       "   A  B  C\n",
       "0  0  0  0\n",
       "1  4  0  0\n",
       "2  1  1  0"
      ]
     },
     "execution_count": 184,
     "metadata": {},
     "output_type": "execute_result"
    }
   ],
   "source": [
    "df.mod(df.iloc[0])"
   ]
  },
  {
   "cell_type": "code",
   "execution_count": 185,
   "metadata": {},
   "outputs": [
    {
     "data": {
      "text/html": [
       "<div>\n",
       "<style scoped>\n",
       "    .dataframe tbody tr th:only-of-type {\n",
       "        vertical-align: middle;\n",
       "    }\n",
       "\n",
       "    .dataframe tbody tr th {\n",
       "        vertical-align: top;\n",
       "    }\n",
       "\n",
       "    .dataframe thead th {\n",
       "        text-align: right;\n",
       "    }\n",
       "</style>\n",
       "<table border=\"1\" class=\"dataframe\">\n",
       "  <thead>\n",
       "    <tr style=\"text-align: right;\">\n",
       "      <th></th>\n",
       "      <th>A</th>\n",
       "      <th>B</th>\n",
       "      <th>C</th>\n",
       "    </tr>\n",
       "  </thead>\n",
       "  <tbody>\n",
       "    <tr>\n",
       "      <th>0</th>\n",
       "      <td>3125</td>\n",
       "      <td>4</td>\n",
       "      <td>1</td>\n",
       "    </tr>\n",
       "    <tr>\n",
       "      <th>1</th>\n",
       "      <td>1024</td>\n",
       "      <td>36</td>\n",
       "      <td>9</td>\n",
       "    </tr>\n",
       "    <tr>\n",
       "      <th>2</th>\n",
       "      <td>1</td>\n",
       "      <td>9</td>\n",
       "      <td>8</td>\n",
       "    </tr>\n",
       "  </tbody>\n",
       "</table>\n",
       "</div>"
      ],
      "text/plain": [
       "      A   B  C\n",
       "0  3125   4  1\n",
       "1  1024  36  9\n",
       "2     1   9  8"
      ]
     },
     "execution_count": 185,
     "metadata": {},
     "output_type": "execute_result"
    }
   ],
   "source": [
    "df.pow(df.iloc[0])"
   ]
  },
  {
   "cell_type": "code",
   "execution_count": 186,
   "metadata": {},
   "outputs": [
    {
     "data": {
      "text/plain": [
       "3125"
      ]
     },
     "execution_count": 186,
     "metadata": {},
     "output_type": "execute_result"
    }
   ],
   "source": [
    "pow(5, 5)"
   ]
  },
  {
   "cell_type": "code",
   "execution_count": 187,
   "metadata": {},
   "outputs": [
    {
     "data": {
      "text/plain": [
       "A    5\n",
       "C    1\n",
       "Name: 0, dtype: int32"
      ]
     },
     "execution_count": 187,
     "metadata": {},
     "output_type": "execute_result"
    }
   ],
   "source": [
    "row = df.iloc[0, ::2]\n",
    "row"
   ]
  },
  {
   "cell_type": "code",
   "execution_count": 189,
   "metadata": {},
   "outputs": [
    {
     "data": {
      "text/html": [
       "<div>\n",
       "<style scoped>\n",
       "    .dataframe tbody tr th:only-of-type {\n",
       "        vertical-align: middle;\n",
       "    }\n",
       "\n",
       "    .dataframe tbody tr th {\n",
       "        vertical-align: top;\n",
       "    }\n",
       "\n",
       "    .dataframe thead th {\n",
       "        text-align: right;\n",
       "    }\n",
       "</style>\n",
       "<table border=\"1\" class=\"dataframe\">\n",
       "  <thead>\n",
       "    <tr style=\"text-align: right;\">\n",
       "      <th></th>\n",
       "      <th>A</th>\n",
       "      <th>B</th>\n",
       "      <th>C</th>\n",
       "    </tr>\n",
       "  </thead>\n",
       "  <tbody>\n",
       "    <tr>\n",
       "      <th>0</th>\n",
       "      <td>5</td>\n",
       "      <td>2</td>\n",
       "      <td>1</td>\n",
       "    </tr>\n",
       "    <tr>\n",
       "      <th>1</th>\n",
       "      <td>4</td>\n",
       "      <td>6</td>\n",
       "      <td>9</td>\n",
       "    </tr>\n",
       "    <tr>\n",
       "      <th>2</th>\n",
       "      <td>1</td>\n",
       "      <td>3</td>\n",
       "      <td>8</td>\n",
       "    </tr>\n",
       "  </tbody>\n",
       "</table>\n",
       "</div>"
      ],
      "text/plain": [
       "   A  B  C\n",
       "0  5  2  1\n",
       "1  4  6  9\n",
       "2  1  3  8"
      ]
     },
     "execution_count": 189,
     "metadata": {},
     "output_type": "execute_result"
    }
   ],
   "source": [
    "df"
   ]
  },
  {
   "cell_type": "code",
   "execution_count": 188,
   "metadata": {},
   "outputs": [
    {
     "data": {
      "text/html": [
       "<div>\n",
       "<style scoped>\n",
       "    .dataframe tbody tr th:only-of-type {\n",
       "        vertical-align: middle;\n",
       "    }\n",
       "\n",
       "    .dataframe tbody tr th {\n",
       "        vertical-align: top;\n",
       "    }\n",
       "\n",
       "    .dataframe thead th {\n",
       "        text-align: right;\n",
       "    }\n",
       "</style>\n",
       "<table border=\"1\" class=\"dataframe\">\n",
       "  <thead>\n",
       "    <tr style=\"text-align: right;\">\n",
       "      <th></th>\n",
       "      <th>A</th>\n",
       "      <th>B</th>\n",
       "      <th>C</th>\n",
       "    </tr>\n",
       "  </thead>\n",
       "  <tbody>\n",
       "    <tr>\n",
       "      <th>0</th>\n",
       "      <td>0.0</td>\n",
       "      <td>NaN</td>\n",
       "      <td>0.0</td>\n",
       "    </tr>\n",
       "    <tr>\n",
       "      <th>1</th>\n",
       "      <td>-1.0</td>\n",
       "      <td>NaN</td>\n",
       "      <td>8.0</td>\n",
       "    </tr>\n",
       "    <tr>\n",
       "      <th>2</th>\n",
       "      <td>-4.0</td>\n",
       "      <td>NaN</td>\n",
       "      <td>7.0</td>\n",
       "    </tr>\n",
       "  </tbody>\n",
       "</table>\n",
       "</div>"
      ],
      "text/plain": [
       "     A   B    C\n",
       "0  0.0 NaN  0.0\n",
       "1 -1.0 NaN  8.0\n",
       "2 -4.0 NaN  7.0"
      ]
     },
     "execution_count": 188,
     "metadata": {},
     "output_type": "execute_result"
    }
   ],
   "source": [
    "df - row"
   ]
  },
  {
   "cell_type": "code",
   "execution_count": 190,
   "metadata": {},
   "outputs": [
    {
     "data": {
      "text/plain": [
       "A    0\n",
       "D    1\n",
       "B    2\n",
       "C    3\n",
       "E    4\n",
       "dtype: int64"
      ]
     },
     "execution_count": 190,
     "metadata": {},
     "output_type": "execute_result"
    }
   ],
   "source": [
    "s = pd.Series(range(5), index=['A', 'D', 'B', 'C', 'E'])\n",
    "s"
   ]
  },
  {
   "cell_type": "code",
   "execution_count": 191,
   "metadata": {},
   "outputs": [
    {
     "data": {
      "text/plain": [
       "A    0\n",
       "B    2\n",
       "C    3\n",
       "D    1\n",
       "E    4\n",
       "dtype: int64"
      ]
     },
     "execution_count": 191,
     "metadata": {},
     "output_type": "execute_result"
    }
   ],
   "source": [
    "s.sort_index()"
   ]
  },
  {
   "cell_type": "code",
   "execution_count": 192,
   "metadata": {},
   "outputs": [
    {
     "data": {
      "text/plain": [
       "A    0\n",
       "D    1\n",
       "B    2\n",
       "C    3\n",
       "E    4\n",
       "dtype: int64"
      ]
     },
     "execution_count": 192,
     "metadata": {},
     "output_type": "execute_result"
    }
   ],
   "source": [
    "s"
   ]
  },
  {
   "cell_type": "code",
   "execution_count": 193,
   "metadata": {},
   "outputs": [
    {
     "data": {
      "text/plain": [
       "A    0\n",
       "D    1\n",
       "B    2\n",
       "C    3\n",
       "E    4\n",
       "dtype: int64"
      ]
     },
     "execution_count": 193,
     "metadata": {},
     "output_type": "execute_result"
    }
   ],
   "source": [
    "s.sort_values()"
   ]
  },
  {
   "cell_type": "code",
   "execution_count": 194,
   "metadata": {},
   "outputs": [
    {
     "data": {
      "text/html": [
       "<div>\n",
       "<style scoped>\n",
       "    .dataframe tbody tr th:only-of-type {\n",
       "        vertical-align: middle;\n",
       "    }\n",
       "\n",
       "    .dataframe tbody tr th {\n",
       "        vertical-align: top;\n",
       "    }\n",
       "\n",
       "    .dataframe thead th {\n",
       "        text-align: right;\n",
       "    }\n",
       "</style>\n",
       "<table border=\"1\" class=\"dataframe\">\n",
       "  <thead>\n",
       "    <tr style=\"text-align: right;\">\n",
       "      <th></th>\n",
       "      <th>B</th>\n",
       "      <th>D</th>\n",
       "      <th>A</th>\n",
       "      <th>C</th>\n",
       "    </tr>\n",
       "  </thead>\n",
       "  <tbody>\n",
       "    <tr>\n",
       "      <th>2</th>\n",
       "      <td>5</td>\n",
       "      <td>1</td>\n",
       "      <td>3</td>\n",
       "      <td>0</td>\n",
       "    </tr>\n",
       "    <tr>\n",
       "      <th>4</th>\n",
       "      <td>7</td>\n",
       "      <td>8</td>\n",
       "      <td>4</td>\n",
       "      <td>6</td>\n",
       "    </tr>\n",
       "    <tr>\n",
       "      <th>1</th>\n",
       "      <td>4</td>\n",
       "      <td>6</td>\n",
       "      <td>9</td>\n",
       "      <td>6</td>\n",
       "    </tr>\n",
       "    <tr>\n",
       "      <th>3</th>\n",
       "      <td>0</td>\n",
       "      <td>6</td>\n",
       "      <td>1</td>\n",
       "      <td>7</td>\n",
       "    </tr>\n",
       "  </tbody>\n",
       "</table>\n",
       "</div>"
      ],
      "text/plain": [
       "   B  D  A  C\n",
       "2  5  1  3  0\n",
       "4  7  8  4  6\n",
       "1  4  6  9  6\n",
       "3  0  6  1  7"
      ]
     },
     "execution_count": 194,
     "metadata": {},
     "output_type": "execute_result"
    }
   ],
   "source": [
    "df = pd.DataFrame(np.random.randint(0, 10, (4, 4)),\n",
    "                  index=[2, 4, 1, 3],\n",
    "                  columns=list('BDAC'))\n",
    "df"
   ]
  },
  {
   "cell_type": "code",
   "execution_count": 195,
   "metadata": {},
   "outputs": [
    {
     "data": {
      "text/html": [
       "<div>\n",
       "<style scoped>\n",
       "    .dataframe tbody tr th:only-of-type {\n",
       "        vertical-align: middle;\n",
       "    }\n",
       "\n",
       "    .dataframe tbody tr th {\n",
       "        vertical-align: top;\n",
       "    }\n",
       "\n",
       "    .dataframe thead th {\n",
       "        text-align: right;\n",
       "    }\n",
       "</style>\n",
       "<table border=\"1\" class=\"dataframe\">\n",
       "  <thead>\n",
       "    <tr style=\"text-align: right;\">\n",
       "      <th></th>\n",
       "      <th>B</th>\n",
       "      <th>D</th>\n",
       "      <th>A</th>\n",
       "      <th>C</th>\n",
       "    </tr>\n",
       "  </thead>\n",
       "  <tbody>\n",
       "    <tr>\n",
       "      <th>1</th>\n",
       "      <td>4</td>\n",
       "      <td>6</td>\n",
       "      <td>9</td>\n",
       "      <td>6</td>\n",
       "    </tr>\n",
       "    <tr>\n",
       "      <th>2</th>\n",
       "      <td>5</td>\n",
       "      <td>1</td>\n",
       "      <td>3</td>\n",
       "      <td>0</td>\n",
       "    </tr>\n",
       "    <tr>\n",
       "      <th>3</th>\n",
       "      <td>0</td>\n",
       "      <td>6</td>\n",
       "      <td>1</td>\n",
       "      <td>7</td>\n",
       "    </tr>\n",
       "    <tr>\n",
       "      <th>4</th>\n",
       "      <td>7</td>\n",
       "      <td>8</td>\n",
       "      <td>4</td>\n",
       "      <td>6</td>\n",
       "    </tr>\n",
       "  </tbody>\n",
       "</table>\n",
       "</div>"
      ],
      "text/plain": [
       "   B  D  A  C\n",
       "1  4  6  9  6\n",
       "2  5  1  3  0\n",
       "3  0  6  1  7\n",
       "4  7  8  4  6"
      ]
     },
     "execution_count": 195,
     "metadata": {},
     "output_type": "execute_result"
    }
   ],
   "source": [
    "df.sort_index()"
   ]
  },
  {
   "cell_type": "code",
   "execution_count": 196,
   "metadata": {},
   "outputs": [
    {
     "data": {
      "text/html": [
       "<div>\n",
       "<style scoped>\n",
       "    .dataframe tbody tr th:only-of-type {\n",
       "        vertical-align: middle;\n",
       "    }\n",
       "\n",
       "    .dataframe tbody tr th {\n",
       "        vertical-align: top;\n",
       "    }\n",
       "\n",
       "    .dataframe thead th {\n",
       "        text-align: right;\n",
       "    }\n",
       "</style>\n",
       "<table border=\"1\" class=\"dataframe\">\n",
       "  <thead>\n",
       "    <tr style=\"text-align: right;\">\n",
       "      <th></th>\n",
       "      <th>B</th>\n",
       "      <th>D</th>\n",
       "      <th>A</th>\n",
       "      <th>C</th>\n",
       "    </tr>\n",
       "  </thead>\n",
       "  <tbody>\n",
       "    <tr>\n",
       "      <th>3</th>\n",
       "      <td>0</td>\n",
       "      <td>6</td>\n",
       "      <td>1</td>\n",
       "      <td>7</td>\n",
       "    </tr>\n",
       "    <tr>\n",
       "      <th>2</th>\n",
       "      <td>5</td>\n",
       "      <td>1</td>\n",
       "      <td>3</td>\n",
       "      <td>0</td>\n",
       "    </tr>\n",
       "    <tr>\n",
       "      <th>4</th>\n",
       "      <td>7</td>\n",
       "      <td>8</td>\n",
       "      <td>4</td>\n",
       "      <td>6</td>\n",
       "    </tr>\n",
       "    <tr>\n",
       "      <th>1</th>\n",
       "      <td>4</td>\n",
       "      <td>6</td>\n",
       "      <td>9</td>\n",
       "      <td>6</td>\n",
       "    </tr>\n",
       "  </tbody>\n",
       "</table>\n",
       "</div>"
      ],
      "text/plain": [
       "   B  D  A  C\n",
       "3  0  6  1  7\n",
       "2  5  1  3  0\n",
       "4  7  8  4  6\n",
       "1  4  6  9  6"
      ]
     },
     "execution_count": 196,
     "metadata": {},
     "output_type": "execute_result"
    }
   ],
   "source": [
    "df.sort_values(by='A')"
   ]
  },
  {
   "cell_type": "code",
   "execution_count": 197,
   "metadata": {},
   "outputs": [
    {
     "data": {
      "text/html": [
       "<div>\n",
       "<style scoped>\n",
       "    .dataframe tbody tr th:only-of-type {\n",
       "        vertical-align: middle;\n",
       "    }\n",
       "\n",
       "    .dataframe tbody tr th {\n",
       "        vertical-align: top;\n",
       "    }\n",
       "\n",
       "    .dataframe thead th {\n",
       "        text-align: right;\n",
       "    }\n",
       "</style>\n",
       "<table border=\"1\" class=\"dataframe\">\n",
       "  <thead>\n",
       "    <tr style=\"text-align: right;\">\n",
       "      <th></th>\n",
       "      <th>B</th>\n",
       "      <th>D</th>\n",
       "      <th>A</th>\n",
       "      <th>C</th>\n",
       "    </tr>\n",
       "  </thead>\n",
       "  <tbody>\n",
       "    <tr>\n",
       "      <th>3</th>\n",
       "      <td>0</td>\n",
       "      <td>6</td>\n",
       "      <td>1</td>\n",
       "      <td>7</td>\n",
       "    </tr>\n",
       "    <tr>\n",
       "      <th>2</th>\n",
       "      <td>5</td>\n",
       "      <td>1</td>\n",
       "      <td>3</td>\n",
       "      <td>0</td>\n",
       "    </tr>\n",
       "    <tr>\n",
       "      <th>4</th>\n",
       "      <td>7</td>\n",
       "      <td>8</td>\n",
       "      <td>4</td>\n",
       "      <td>6</td>\n",
       "    </tr>\n",
       "    <tr>\n",
       "      <th>1</th>\n",
       "      <td>4</td>\n",
       "      <td>6</td>\n",
       "      <td>9</td>\n",
       "      <td>6</td>\n",
       "    </tr>\n",
       "  </tbody>\n",
       "</table>\n",
       "</div>"
      ],
      "text/plain": [
       "   B  D  A  C\n",
       "3  0  6  1  7\n",
       "2  5  1  3  0\n",
       "4  7  8  4  6\n",
       "1  4  6  9  6"
      ]
     },
     "execution_count": 197,
     "metadata": {},
     "output_type": "execute_result"
    }
   ],
   "source": [
    "df.sort_values(by=['A', 'C'])"
   ]
  },
  {
   "cell_type": "code",
   "execution_count": 198,
   "metadata": {},
   "outputs": [
    {
     "data": {
      "text/html": [
       "<div>\n",
       "<style scoped>\n",
       "    .dataframe tbody tr th:only-of-type {\n",
       "        vertical-align: middle;\n",
       "    }\n",
       "\n",
       "    .dataframe tbody tr th {\n",
       "        vertical-align: top;\n",
       "    }\n",
       "\n",
       "    .dataframe thead th {\n",
       "        text-align: right;\n",
       "    }\n",
       "</style>\n",
       "<table border=\"1\" class=\"dataframe\">\n",
       "  <thead>\n",
       "    <tr style=\"text-align: right;\">\n",
       "      <th></th>\n",
       "      <th>B</th>\n",
       "      <th>D</th>\n",
       "      <th>A</th>\n",
       "      <th>C</th>\n",
       "    </tr>\n",
       "  </thead>\n",
       "  <tbody>\n",
       "    <tr>\n",
       "      <th>1</th>\n",
       "      <td>4</td>\n",
       "      <td>6</td>\n",
       "      <td>9</td>\n",
       "      <td>6</td>\n",
       "    </tr>\n",
       "    <tr>\n",
       "      <th>2</th>\n",
       "      <td>5</td>\n",
       "      <td>1</td>\n",
       "      <td>3</td>\n",
       "      <td>0</td>\n",
       "    </tr>\n",
       "    <tr>\n",
       "      <th>3</th>\n",
       "      <td>0</td>\n",
       "      <td>6</td>\n",
       "      <td>1</td>\n",
       "      <td>7</td>\n",
       "    </tr>\n",
       "    <tr>\n",
       "      <th>4</th>\n",
       "      <td>7</td>\n",
       "      <td>8</td>\n",
       "      <td>4</td>\n",
       "      <td>6</td>\n",
       "    </tr>\n",
       "  </tbody>\n",
       "</table>\n",
       "</div>"
      ],
      "text/plain": [
       "   B  D  A  C\n",
       "1  4  6  9  6\n",
       "2  5  1  3  0\n",
       "3  0  6  1  7\n",
       "4  7  8  4  6"
      ]
     },
     "execution_count": 198,
     "metadata": {},
     "output_type": "execute_result"
    }
   ],
   "source": [
    "df.sort_index()"
   ]
  },
  {
   "cell_type": "code",
   "execution_count": 199,
   "metadata": {},
   "outputs": [
    {
     "data": {
      "text/html": [
       "<div>\n",
       "<style scoped>\n",
       "    .dataframe tbody tr th:only-of-type {\n",
       "        vertical-align: middle;\n",
       "    }\n",
       "\n",
       "    .dataframe tbody tr th {\n",
       "        vertical-align: top;\n",
       "    }\n",
       "\n",
       "    .dataframe thead th {\n",
       "        text-align: right;\n",
       "    }\n",
       "</style>\n",
       "<table border=\"1\" class=\"dataframe\">\n",
       "  <thead>\n",
       "    <tr style=\"text-align: right;\">\n",
       "      <th></th>\n",
       "      <th>A</th>\n",
       "      <th>B</th>\n",
       "      <th>C</th>\n",
       "      <th>D</th>\n",
       "    </tr>\n",
       "  </thead>\n",
       "  <tbody>\n",
       "    <tr>\n",
       "      <th>2</th>\n",
       "      <td>3</td>\n",
       "      <td>5</td>\n",
       "      <td>0</td>\n",
       "      <td>1</td>\n",
       "    </tr>\n",
       "    <tr>\n",
       "      <th>4</th>\n",
       "      <td>4</td>\n",
       "      <td>7</td>\n",
       "      <td>6</td>\n",
       "      <td>8</td>\n",
       "    </tr>\n",
       "    <tr>\n",
       "      <th>1</th>\n",
       "      <td>9</td>\n",
       "      <td>4</td>\n",
       "      <td>6</td>\n",
       "      <td>6</td>\n",
       "    </tr>\n",
       "    <tr>\n",
       "      <th>3</th>\n",
       "      <td>1</td>\n",
       "      <td>0</td>\n",
       "      <td>7</td>\n",
       "      <td>6</td>\n",
       "    </tr>\n",
       "  </tbody>\n",
       "</table>\n",
       "</div>"
      ],
      "text/plain": [
       "   A  B  C  D\n",
       "2  3  5  0  1\n",
       "4  4  7  6  8\n",
       "1  9  4  6  6\n",
       "3  1  0  7  6"
      ]
     },
     "execution_count": 199,
     "metadata": {},
     "output_type": "execute_result"
    }
   ],
   "source": [
    "df.sort_index(axis=1)"
   ]
  },
  {
   "cell_type": "code",
   "execution_count": 200,
   "metadata": {},
   "outputs": [
    {
     "data": {
      "text/plain": [
       "0   -2\n",
       "1    4\n",
       "2    7\n",
       "3    3\n",
       "4    0\n",
       "5    7\n",
       "6    5\n",
       "7   -4\n",
       "8    2\n",
       "9    6\n",
       "dtype: int64"
      ]
     },
     "execution_count": 200,
     "metadata": {},
     "output_type": "execute_result"
    }
   ],
   "source": [
    "s = pd.Series([-2, 4, 7, 3, 0, 7, 5, -4, 2, 6])\n",
    "s"
   ]
  },
  {
   "cell_type": "code",
   "execution_count": 201,
   "metadata": {},
   "outputs": [
    {
     "data": {
      "text/plain": [
       "0    2.0\n",
       "1    6.0\n",
       "2    9.5\n",
       "3    5.0\n",
       "4    3.0\n",
       "5    9.5\n",
       "6    7.0\n",
       "7    1.0\n",
       "8    4.0\n",
       "9    8.0\n",
       "dtype: float64"
      ]
     },
     "execution_count": 201,
     "metadata": {},
     "output_type": "execute_result"
    }
   ],
   "source": [
    "s.rank()"
   ]
  },
  {
   "cell_type": "code",
   "execution_count": 202,
   "metadata": {},
   "outputs": [
    {
     "data": {
      "text/plain": [
       "0     2.0\n",
       "1     6.0\n",
       "2     9.0\n",
       "3     5.0\n",
       "4     3.0\n",
       "5    10.0\n",
       "6     7.0\n",
       "7     1.0\n",
       "8     4.0\n",
       "9     8.0\n",
       "dtype: float64"
      ]
     },
     "execution_count": 202,
     "metadata": {},
     "output_type": "execute_result"
    }
   ],
   "source": [
    "s.rank(method='first')"
   ]
  },
  {
   "cell_type": "code",
   "execution_count": 204,
   "metadata": {},
   "outputs": [
    {
     "data": {
      "text/plain": [
       "0     2.0\n",
       "1     6.0\n",
       "2    10.0\n",
       "3     5.0\n",
       "4     3.0\n",
       "5    10.0\n",
       "6     7.0\n",
       "7     1.0\n",
       "8     4.0\n",
       "9     8.0\n",
       "dtype: float64"
      ]
     },
     "execution_count": 204,
     "metadata": {},
     "output_type": "execute_result"
    }
   ],
   "source": [
    "s.rank(method='max')"
   ]
  },
  {
   "cell_type": "code",
   "execution_count": null,
   "metadata": {},
   "outputs": [],
   "source": []
  }
 ],
 "metadata": {
  "interpreter": {
   "hash": "646a77bc03f63a31e854881db733c8b8ef41ed62361b97bc930f4a5d5cb3c195"
  },
  "kernelspec": {
   "display_name": "Python 3.9.4 64-bit",
   "language": "python",
   "name": "python3"
  },
  "language_info": {
   "codemirror_mode": {
    "name": "ipython",
    "version": 3
   },
   "file_extension": ".py",
   "mimetype": "text/x-python",
   "name": "python",
   "nbconvert_exporter": "python",
   "pygments_lexer": "ipython3",
   "version": "3.9.4"
  },
  "orig_nbformat": 4
 },
 "nbformat": 4,
 "nbformat_minor": 2
}
