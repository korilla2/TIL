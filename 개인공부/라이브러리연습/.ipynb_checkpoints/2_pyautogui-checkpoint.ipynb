{
 "cells": [
  {
   "cell_type": "code",
   "execution_count": 1,
   "id": "f9bc8b4f",
   "metadata": {},
   "outputs": [],
   "source": [
    "import pyautogui as pag"
   ]
  },
  {
   "cell_type": "code",
   "execution_count": 2,
   "id": "5dd12255",
   "metadata": {},
   "outputs": [
    {
     "data": {
      "text/plain": [
       "Point(x=288, y=394)"
      ]
     },
     "execution_count": 2,
     "metadata": {},
     "output_type": "execute_result"
    }
   ],
   "source": [
    "pos = pag.position()\n",
    "pos"
   ]
  },
  {
   "cell_type": "code",
   "execution_count": 3,
   "id": "a5cf060f",
   "metadata": {},
   "outputs": [
    {
     "data": {
      "text/plain": [
       "Size(width=1920, height=1080)"
      ]
     },
     "execution_count": 3,
     "metadata": {},
     "output_type": "execute_result"
    }
   ],
   "source": [
    "pag.size()"
   ]
  },
  {
   "cell_type": "code",
   "execution_count": 4,
   "id": "997fd5a4",
   "metadata": {},
   "outputs": [],
   "source": [
    "pag.move(200, 50)"
   ]
  },
  {
   "cell_type": "code",
   "execution_count": 5,
   "id": "55a047a7",
   "metadata": {},
   "outputs": [],
   "source": [
    "pag.move(300, 100, duration=5)"
   ]
  },
  {
   "cell_type": "code",
   "execution_count": 6,
   "id": "000d31cc",
   "metadata": {},
   "outputs": [],
   "source": [
    "pag.click()"
   ]
  },
  {
   "cell_type": "code",
   "execution_count": 7,
   "id": "547aabbf",
   "metadata": {},
   "outputs": [],
   "source": [
    "pag.click(button='right')"
   ]
  },
  {
   "cell_type": "code",
   "execution_count": 13,
   "id": "42122d00",
   "metadata": {},
   "outputs": [],
   "source": [
    "pag.write('I like python', interval=0.5)"
   ]
  },
  {
   "cell_type": "code",
   "execution_count": 17,
   "id": "898fe23c",
   "metadata": {},
   "outputs": [],
   "source": [
    "pag.write('print(\"hello, python\")', interval=0.2)\n",
    "pag.hotkey('shift', 'enter')"
   ]
  },
  {
   "cell_type": "code",
   "execution_count": 18,
   "id": "c207c338",
   "metadata": {},
   "outputs": [
    {
     "name": "stdout",
     "output_type": "stream",
     "text": [
      "hello, python\n"
     ]
    }
   ],
   "source": [
    "print(\"hello, python\")"
   ]
  },
  {
   "cell_type": "code",
   "execution_count": 19,
   "id": "5a7607d3",
   "metadata": {},
   "outputs": [],
   "source": [
    "pag.moveTo(200, 150, duration=1)"
   ]
  },
  {
   "cell_type": "code",
   "execution_count": 21,
   "id": "d211e343",
   "metadata": {},
   "outputs": [],
   "source": [
    "pag.moveTo(200, 150, duration=1)\n",
    "pag.click(button='left')\n",
    "pag.write('hello world', interval=0.2)\n",
    "pag.press('enter')"
   ]
  },
  {
   "cell_type": "code",
   "execution_count": 22,
   "id": "4f7c1a57",
   "metadata": {},
   "outputs": [],
   "source": [
    "message = [\n",
    "    'I',\n",
    "    'Like',\n",
    "    'python!!',\n",
    "    'happy programming'\n",
    "]\n",
    "pag.moveTo(200, 100, duration=1)\n",
    "pag.click()\n",
    "pag.press('enter')\n",
    "for m in message:\n",
    "    pag.write(m, interval=0.1)\n",
    "    pag.press('enter')"
   ]
  }
 ],
 "metadata": {
  "kernelspec": {
   "display_name": "Python 3 (ipykernel)",
   "language": "python",
   "name": "python3"
  },
  "language_info": {
   "codemirror_mode": {
    "name": "ipython",
    "version": 3
   },
   "file_extension": ".py",
   "mimetype": "text/x-python",
   "name": "python",
   "nbconvert_exporter": "python",
   "pygments_lexer": "ipython3",
   "version": "3.9.4"
  }
 },
 "nbformat": 4,
 "nbformat_minor": 5
}
