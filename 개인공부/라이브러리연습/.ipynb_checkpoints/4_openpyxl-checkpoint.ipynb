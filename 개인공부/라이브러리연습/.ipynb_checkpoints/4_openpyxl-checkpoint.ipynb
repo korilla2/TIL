{
 "cells": [
  {
   "cell_type": "code",
   "execution_count": 1,
   "id": "0cd1acbb",
   "metadata": {},
   "outputs": [],
   "source": [
    "import openpyxl"
   ]
  },
  {
   "cell_type": "code",
   "execution_count": 2,
   "id": "8b9eba82",
   "metadata": {},
   "outputs": [],
   "source": [
    "wb = openpyxl.Workbook()"
   ]
  },
  {
   "cell_type": "code",
   "execution_count": 3,
   "id": "caf89917",
   "metadata": {},
   "outputs": [
    {
     "data": {
      "text/plain": [
       "<Worksheet \"Sheet\">"
      ]
     },
     "execution_count": 3,
     "metadata": {},
     "output_type": "execute_result"
    }
   ],
   "source": [
    "wb.active"
   ]
  },
  {
   "cell_type": "code",
   "execution_count": 4,
   "id": "28b43246",
   "metadata": {},
   "outputs": [],
   "source": [
    "worksheet1 = wb.active"
   ]
  },
  {
   "cell_type": "code",
   "execution_count": 6,
   "id": "259e80e5",
   "metadata": {},
   "outputs": [],
   "source": [
    "worksheet2 = wb.create_sheet('NewSheet')"
   ]
  },
  {
   "cell_type": "code",
   "execution_count": 7,
   "id": "ee01f9b3",
   "metadata": {},
   "outputs": [
    {
     "data": {
      "text/plain": [
       "[<Worksheet \"Sheet\">, <Worksheet \"NewSheet\">]"
      ]
     },
     "execution_count": 7,
     "metadata": {},
     "output_type": "execute_result"
    }
   ],
   "source": [
    "wb.worksheets"
   ]
  },
  {
   "cell_type": "code",
   "execution_count": 8,
   "id": "a647bd12",
   "metadata": {},
   "outputs": [],
   "source": [
    "wb.save('test.xlsx')"
   ]
  },
  {
   "cell_type": "code",
   "execution_count": 9,
   "id": "2c0fd34f",
   "metadata": {},
   "outputs": [],
   "source": [
    "worksheet1['A1'] = 'Python'"
   ]
  },
  {
   "cell_type": "code",
   "execution_count": 10,
   "id": "b2c7a0e8",
   "metadata": {},
   "outputs": [],
   "source": [
    "worksheet2.sheet_properties.tabColor = '00FFFF'"
   ]
  },
  {
   "cell_type": "code",
   "execution_count": 11,
   "id": "fc4b1df6",
   "metadata": {},
   "outputs": [],
   "source": [
    "worksheet2.cell(1, 1).value = 100"
   ]
  },
  {
   "cell_type": "code",
   "execution_count": 12,
   "id": "608aa1fe",
   "metadata": {},
   "outputs": [],
   "source": [
    "worksheet2.cell(row=1, column=2).value = 200"
   ]
  },
  {
   "cell_type": "code",
   "execution_count": 13,
   "id": "48c0b307",
   "metadata": {},
   "outputs": [],
   "source": [
    "blue_font = openpyxl.styles.Font(color='0000FF')\n",
    "worksheet2.cell(1, 1).font = blue_font"
   ]
  },
  {
   "cell_type": "code",
   "execution_count": 14,
   "id": "b6e64c3d",
   "metadata": {},
   "outputs": [],
   "source": [
    "blue_fill = openpyxl.styles.PatternFill(fgColor='0000FF', fill_type='solid')\n",
    "worksheet2.cell(1,2).fill = blue_fill"
   ]
  },
  {
   "cell_type": "code",
   "execution_count": 15,
   "id": "54953704",
   "metadata": {},
   "outputs": [],
   "source": [
    "wb.save('test.xlsx')"
   ]
  },
  {
   "cell_type": "code",
   "execution_count": 16,
   "id": "71f24219",
   "metadata": {},
   "outputs": [],
   "source": [
    "wb2 = openpyxl.Workbook()"
   ]
  },
  {
   "cell_type": "code",
   "execution_count": 17,
   "id": "caad18c8",
   "metadata": {},
   "outputs": [],
   "source": [
    "ws = wb2.active"
   ]
  },
  {
   "cell_type": "code",
   "execution_count": 18,
   "id": "956f7fb4",
   "metadata": {},
   "outputs": [],
   "source": [
    "ws['A1'] = 'Num1'\n",
    "ws['A2'] = 'Num2'\n",
    "ws['A3'] = 'Num3'\n",
    "ws['A4'] = 'SUM'"
   ]
  },
  {
   "cell_type": "code",
   "execution_count": 19,
   "id": "9efc94d8",
   "metadata": {},
   "outputs": [],
   "source": [
    "ws['B1'] = 10\n",
    "ws['B2'] = 20\n",
    "ws['B3'] = 30\n",
    "ws['B4'] = '=SUM(B1:B3)'"
   ]
  },
  {
   "cell_type": "code",
   "execution_count": 20,
   "id": "313e754b",
   "metadata": {},
   "outputs": [],
   "source": [
    "wb2.save('test2.xlsx')"
   ]
  },
  {
   "cell_type": "code",
   "execution_count": 22,
   "id": "b31bab81",
   "metadata": {},
   "outputs": [],
   "source": [
    "file_pre = 'test'\n",
    "file_suf = '.xlsx'\n",
    "file_names = [file_pre + str(i) + file_suf for i in range(3, 6)]"
   ]
  },
  {
   "cell_type": "code",
   "execution_count": 23,
   "id": "75a2652c",
   "metadata": {},
   "outputs": [
    {
     "data": {
      "text/plain": [
       "['test3.xlsx', 'test4.xlsx', 'test5.xlsx']"
      ]
     },
     "execution_count": 23,
     "metadata": {},
     "output_type": "execute_result"
    }
   ],
   "source": [
    "file_names"
   ]
  },
  {
   "cell_type": "code",
   "execution_count": 24,
   "id": "972e4ad1",
   "metadata": {},
   "outputs": [],
   "source": [
    "data = 3.14"
   ]
  },
  {
   "cell_type": "code",
   "execution_count": 26,
   "id": "86708082",
   "metadata": {},
   "outputs": [],
   "source": [
    "for f in file_names:\n",
    "    wb = openpyxl.Workbook()\n",
    "    ws = wb.active\n",
    "    ws['A1'] = data\n",
    "    wb.save(f)"
   ]
  }
 ],
 "metadata": {
  "kernelspec": {
   "display_name": "Python 3 (ipykernel)",
   "language": "python",
   "name": "python3"
  },
  "language_info": {
   "codemirror_mode": {
    "name": "ipython",
    "version": 3
   },
   "file_extension": ".py",
   "mimetype": "text/x-python",
   "name": "python",
   "nbconvert_exporter": "python",
   "pygments_lexer": "ipython3",
   "version": "3.9.4"
  }
 },
 "nbformat": 4,
 "nbformat_minor": 5
}
