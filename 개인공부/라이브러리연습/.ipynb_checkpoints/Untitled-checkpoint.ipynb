{
 "cells": [
  {
   "cell_type": "code",
   "execution_count": 2,
   "id": "cc0a4015",
   "metadata": {},
   "outputs": [],
   "source": [
    "import pptx"
   ]
  },
  {
   "cell_type": "code",
   "execution_count": 3,
   "id": "dd704d0b",
   "metadata": {},
   "outputs": [],
   "source": [
    "prst = pptx.Presentation()"
   ]
  },
  {
   "cell_type": "code",
   "execution_count": 4,
   "id": "c549cab6",
   "metadata": {},
   "outputs": [],
   "source": [
    "title_slide_layout = prst.slide_layouts[0]"
   ]
  },
  {
   "cell_type": "code",
   "execution_count": 5,
   "id": "659448ee",
   "metadata": {},
   "outputs": [],
   "source": [
    "slide = prst.slides.add_slide(title_slide_layout)"
   ]
  },
  {
   "cell_type": "code",
   "execution_count": 6,
   "id": "572333b3",
   "metadata": {},
   "outputs": [
    {
     "data": {
      "text/plain": [
       "2"
      ]
     },
     "execution_count": 6,
     "metadata": {},
     "output_type": "execute_result"
    }
   ],
   "source": [
    "len(slide.placeholders)"
   ]
  },
  {
   "cell_type": "code",
   "execution_count": 7,
   "id": "bb3c1ffc",
   "metadata": {},
   "outputs": [
    {
     "data": {
      "text/plain": [
       "''"
      ]
     },
     "execution_count": 7,
     "metadata": {},
     "output_type": "execute_result"
    }
   ],
   "source": [
    "slide.shapes.title.text"
   ]
  },
  {
   "cell_type": "code",
   "execution_count": 8,
   "id": "406b6e86",
   "metadata": {},
   "outputs": [],
   "source": [
    "slide.shapes.title.text = 'Phthon is Fun!'"
   ]
  },
  {
   "cell_type": "code",
   "execution_count": 9,
   "id": "1161440a",
   "metadata": {},
   "outputs": [],
   "source": [
    "slide.placeholders[1].text = 'Slide python-pptx'"
   ]
  },
  {
   "cell_type": "code",
   "execution_count": 10,
   "id": "a03daf47",
   "metadata": {},
   "outputs": [
    {
     "data": {
      "text/plain": [
       "'Phthon is Fun!'"
      ]
     },
     "execution_count": 10,
     "metadata": {},
     "output_type": "execute_result"
    }
   ],
   "source": [
    "slide.placeholders[0].text"
   ]
  },
  {
   "cell_type": "code",
   "execution_count": 11,
   "id": "76381a0b",
   "metadata": {},
   "outputs": [
    {
     "data": {
      "text/plain": [
       "'Slide python-pptx'"
      ]
     },
     "execution_count": 11,
     "metadata": {},
     "output_type": "execute_result"
    }
   ],
   "source": [
    "slide.placeholders[1].text"
   ]
  },
  {
   "cell_type": "code",
   "execution_count": 12,
   "id": "4d07c020",
   "metadata": {},
   "outputs": [],
   "source": [
    "prst.save('text.pptx')"
   ]
  },
  {
   "cell_type": "code",
   "execution_count": 13,
   "id": "30d5ac8b",
   "metadata": {},
   "outputs": [
    {
     "data": {
      "text/plain": [
       "11"
      ]
     },
     "execution_count": 13,
     "metadata": {},
     "output_type": "execute_result"
    }
   ],
   "source": [
    "len(prst.slide_layouts)"
   ]
  },
  {
   "cell_type": "code",
   "execution_count": 14,
   "id": "674e4b9b",
   "metadata": {},
   "outputs": [],
   "source": [
    "prst = pptx.Presentation()"
   ]
  },
  {
   "cell_type": "code",
   "execution_count": 15,
   "id": "3630378b",
   "metadata": {},
   "outputs": [],
   "source": [
    "title_slide_layout = prst.slide_layouts[0]\n",
    "slide = prst.slides.add_slide(title_slide_layout)\n",
    "title = slide.placeholders[0]\n",
    "subtitle = slide.placeholders[1]\n",
    "title.text = 'python'\n",
    "subtitle.text = 'all or nothing'"
   ]
  },
  {
   "cell_type": "code",
   "execution_count": 20,
   "id": "0f15abac",
   "metadata": {},
   "outputs": [],
   "source": [
    "blank_slide_layout = prst.slide_layouts[6]"
   ]
  },
  {
   "cell_type": "code",
   "execution_count": 21,
   "id": "8202d4ca",
   "metadata": {},
   "outputs": [],
   "source": [
    "left = pptx.util.Inches(2)"
   ]
  },
  {
   "cell_type": "code",
   "execution_count": 22,
   "id": "50c98562",
   "metadata": {},
   "outputs": [],
   "source": [
    "top = pptx.util.Inches(3)\n",
    "width = pptx.util.Inches(6)\n",
    "height = pptx.util.Inches(1.5)"
   ]
  },
  {
   "cell_type": "code",
   "execution_count": 23,
   "id": "66b33782",
   "metadata": {},
   "outputs": [],
   "source": [
    "label_slide = prst.slides.add_slide(blank_slide_layout)"
   ]
  },
  {
   "cell_type": "code",
   "execution_count": 24,
   "id": "7e929428",
   "metadata": {},
   "outputs": [],
   "source": [
    "tbox = label_slide.shapes.add_textbox(left, top, width, height)"
   ]
  },
  {
   "cell_type": "code",
   "execution_count": 25,
   "id": "9dec2215",
   "metadata": {},
   "outputs": [],
   "source": [
    "tbox.line.color.rgb = pptx.dml.color.RGBColor(1, 1, 1)"
   ]
  },
  {
   "cell_type": "code",
   "execution_count": 26,
   "id": "ee5ef3c5",
   "metadata": {},
   "outputs": [],
   "source": [
    "p = tbox.text_frame.add_paragraph()"
   ]
  },
  {
   "cell_type": "code",
   "execution_count": 27,
   "id": "972c1631",
   "metadata": {},
   "outputs": [],
   "source": [
    "p.text = 'Python'\n",
    "p.font.size = pptx.util.Pt(40)\n",
    "p.font.color.rgb = pptx.dml.color.RGBColor(0,0,255)"
   ]
  },
  {
   "cell_type": "code",
   "execution_count": 28,
   "id": "8926c90c",
   "metadata": {},
   "outputs": [],
   "source": [
    "tbox.alignment = pptx.enum.text.PP_ALIGN.CENTER\n",
    "p.alignment = pptx.enum.text.PP_ALIGN.CENTER"
   ]
  },
  {
   "cell_type": "code",
   "execution_count": 29,
   "id": "88c1437e",
   "metadata": {},
   "outputs": [],
   "source": [
    "prst.save('text.pptx')"
   ]
  }
 ],
 "metadata": {
  "kernelspec": {
   "display_name": "Python 3 (ipykernel)",
   "language": "python",
   "name": "python3"
  },
  "language_info": {
   "codemirror_mode": {
    "name": "ipython",
    "version": 3
   },
   "file_extension": ".py",
   "mimetype": "text/x-python",
   "name": "python",
   "nbconvert_exporter": "python",
   "pygments_lexer": "ipython3",
   "version": "3.9.4"
  }
 },
 "nbformat": 4,
 "nbformat_minor": 5
}
