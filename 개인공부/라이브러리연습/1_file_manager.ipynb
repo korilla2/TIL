{
 "cells": [
  {
   "cell_type": "code",
   "execution_count": 1,
   "id": "3669b440",
   "metadata": {},
   "outputs": [],
   "source": [
    "import os\n",
    "import glob\n",
    "import shutil"
   ]
  },
  {
   "cell_type": "code",
   "execution_count": 2,
   "id": "1073dea6",
   "metadata": {},
   "outputs": [
    {
     "data": {
      "text/plain": [
       "'C:\\\\Users\\\\BAUM\\\\Desktop\\\\multicampus\\\\TIL\\\\개인공부\\\\라이브러리연습'"
      ]
     },
     "execution_count": 2,
     "metadata": {},
     "output_type": "execute_result"
    }
   ],
   "source": [
    "os.getcwd()"
   ]
  },
  {
   "cell_type": "code",
   "execution_count": 3,
   "id": "b5e43130",
   "metadata": {},
   "outputs": [],
   "source": [
    "os.mkdir('test')"
   ]
  },
  {
   "cell_type": "code",
   "execution_count": 4,
   "id": "65761dcb",
   "metadata": {},
   "outputs": [
    {
     "data": {
      "text/plain": [
       "['.ipynb_checkpoints', '1_file_manager.ipynb', 'test']"
      ]
     },
     "execution_count": 4,
     "metadata": {},
     "output_type": "execute_result"
    }
   ],
   "source": [
    "os.listdir()"
   ]
  },
  {
   "cell_type": "code",
   "execution_count": 5,
   "id": "1c1dfc98",
   "metadata": {},
   "outputs": [],
   "source": [
    "os.rmdir('test')"
   ]
  },
  {
   "cell_type": "code",
   "execution_count": 6,
   "id": "f02765ed",
   "metadata": {},
   "outputs": [
    {
     "data": {
      "text/plain": [
       "['.ipynb_checkpoints', '1_file_manager.ipynb']"
      ]
     },
     "execution_count": 6,
     "metadata": {},
     "output_type": "execute_result"
    }
   ],
   "source": [
    "os.listdir()"
   ]
  },
  {
   "cell_type": "code",
   "execution_count": 7,
   "id": "a7d7c44f",
   "metadata": {},
   "outputs": [],
   "source": [
    "years = ['2018', '2019', '2020']\n",
    "for year in years:\n",
    "    os.mkdir(year)"
   ]
  },
  {
   "cell_type": "code",
   "execution_count": 8,
   "id": "ed29159a",
   "metadata": {},
   "outputs": [
    {
     "data": {
      "text/plain": [
       "['.ipynb_checkpoints', '1_file_manager.ipynb', '2018', '2019', '2020']"
      ]
     },
     "execution_count": 8,
     "metadata": {},
     "output_type": "execute_result"
    }
   ],
   "source": [
    "os.listdir()"
   ]
  },
  {
   "cell_type": "code",
   "execution_count": 9,
   "id": "f220b0a4",
   "metadata": {},
   "outputs": [],
   "source": [
    "months = [str(mo) for mo in range(1, 13)]"
   ]
  },
  {
   "cell_type": "code",
   "execution_count": 10,
   "id": "3ded4eb9",
   "metadata": {},
   "outputs": [
    {
     "data": {
      "text/plain": [
       "['1', '2', '3', '4', '5', '6', '7', '8', '9', '10', '11', '12']"
      ]
     },
     "execution_count": 10,
     "metadata": {},
     "output_type": "execute_result"
    }
   ],
   "source": [
    "months"
   ]
  },
  {
   "cell_type": "code",
   "execution_count": 11,
   "id": "38fa273d",
   "metadata": {},
   "outputs": [],
   "source": [
    "for year in years:\n",
    "    for mo in months:\n",
    "        fname = 'file_' +year+'_'+mo+'.txt'\n",
    "        f = open(fname, 'w')\n",
    "        f.close()"
   ]
  },
  {
   "cell_type": "code",
   "execution_count": 12,
   "id": "6d6611ca",
   "metadata": {},
   "outputs": [
    {
     "data": {
      "text/plain": [
       "['.ipynb_checkpoints',\n",
       " '1_file_manager.ipynb',\n",
       " '2018',\n",
       " '2019',\n",
       " '2020',\n",
       " 'file_2018_1.txt',\n",
       " 'file_2018_10.txt',\n",
       " 'file_2018_11.txt',\n",
       " 'file_2018_12.txt',\n",
       " 'file_2018_2.txt',\n",
       " 'file_2018_3.txt',\n",
       " 'file_2018_4.txt',\n",
       " 'file_2018_5.txt',\n",
       " 'file_2018_6.txt',\n",
       " 'file_2018_7.txt',\n",
       " 'file_2018_8.txt',\n",
       " 'file_2018_9.txt',\n",
       " 'file_2019_1.txt',\n",
       " 'file_2019_10.txt',\n",
       " 'file_2019_11.txt',\n",
       " 'file_2019_12.txt',\n",
       " 'file_2019_2.txt',\n",
       " 'file_2019_3.txt',\n",
       " 'file_2019_4.txt',\n",
       " 'file_2019_5.txt',\n",
       " 'file_2019_6.txt',\n",
       " 'file_2019_7.txt',\n",
       " 'file_2019_8.txt',\n",
       " 'file_2019_9.txt',\n",
       " 'file_2020_1.txt',\n",
       " 'file_2020_10.txt',\n",
       " 'file_2020_11.txt',\n",
       " 'file_2020_12.txt',\n",
       " 'file_2020_2.txt',\n",
       " 'file_2020_3.txt',\n",
       " 'file_2020_4.txt',\n",
       " 'file_2020_5.txt',\n",
       " 'file_2020_6.txt',\n",
       " 'file_2020_7.txt',\n",
       " 'file_2020_8.txt',\n",
       " 'file_2020_9.txt']"
      ]
     },
     "execution_count": 12,
     "metadata": {},
     "output_type": "execute_result"
    }
   ],
   "source": [
    "os.listdir()"
   ]
  },
  {
   "cell_type": "code",
   "execution_count": 13,
   "id": "f206f078",
   "metadata": {},
   "outputs": [],
   "source": [
    "contents = os.listdir()"
   ]
  },
  {
   "cell_type": "code",
   "execution_count": 14,
   "id": "b6fdef9b",
   "metadata": {},
   "outputs": [],
   "source": [
    "file_list = glob.glob('file*txt')"
   ]
  },
  {
   "cell_type": "code",
   "execution_count": 15,
   "id": "e315c219",
   "metadata": {},
   "outputs": [
    {
     "data": {
      "text/plain": [
       "['file_2018_1.txt',\n",
       " 'file_2018_10.txt',\n",
       " 'file_2018_11.txt',\n",
       " 'file_2018_12.txt',\n",
       " 'file_2018_2.txt',\n",
       " 'file_2018_3.txt',\n",
       " 'file_2018_4.txt',\n",
       " 'file_2018_5.txt',\n",
       " 'file_2018_6.txt',\n",
       " 'file_2018_7.txt',\n",
       " 'file_2018_8.txt',\n",
       " 'file_2018_9.txt',\n",
       " 'file_2019_1.txt',\n",
       " 'file_2019_10.txt',\n",
       " 'file_2019_11.txt',\n",
       " 'file_2019_12.txt',\n",
       " 'file_2019_2.txt',\n",
       " 'file_2019_3.txt',\n",
       " 'file_2019_4.txt',\n",
       " 'file_2019_5.txt',\n",
       " 'file_2019_6.txt',\n",
       " 'file_2019_7.txt',\n",
       " 'file_2019_8.txt',\n",
       " 'file_2019_9.txt',\n",
       " 'file_2020_1.txt',\n",
       " 'file_2020_10.txt',\n",
       " 'file_2020_11.txt',\n",
       " 'file_2020_12.txt',\n",
       " 'file_2020_2.txt',\n",
       " 'file_2020_3.txt',\n",
       " 'file_2020_4.txt',\n",
       " 'file_2020_5.txt',\n",
       " 'file_2020_6.txt',\n",
       " 'file_2020_7.txt',\n",
       " 'file_2020_8.txt',\n",
       " 'file_2020_9.txt']"
      ]
     },
     "execution_count": 15,
     "metadata": {},
     "output_type": "execute_result"
    }
   ],
   "source": [
    "file_list"
   ]
  },
  {
   "cell_type": "code",
   "execution_count": 24,
   "id": "b298582c",
   "metadata": {},
   "outputs": [],
   "source": [
    "for file in file_list:\n",
    "    if '2018' in file:\n",
    "        shutil.move(file, './2018/'+file)\n",
    "    if '2019' in file:\n",
    "        shutil.move(file, './2019/'+file)\n",
    "    if '2020' in file:\n",
    "        shutil.move(file, './2020/'+file)"
   ]
  },
  {
   "cell_type": "code",
   "execution_count": 26,
   "id": "f4d90e01",
   "metadata": {},
   "outputs": [
    {
     "data": {
      "text/plain": [
       "['.ipynb_checkpoints', '1_file_manager.ipynb', '2018', '2019', '2020']"
      ]
     },
     "execution_count": 26,
     "metadata": {},
     "output_type": "execute_result"
    }
   ],
   "source": [
    "os.listdir()"
   ]
  }
 ],
 "metadata": {
  "kernelspec": {
   "display_name": "Python 3 (ipykernel)",
   "language": "python",
   "name": "python3"
  },
  "language_info": {
   "codemirror_mode": {
    "name": "ipython",
    "version": 3
   },
   "file_extension": ".py",
   "mimetype": "text/x-python",
   "name": "python",
   "nbconvert_exporter": "python",
   "pygments_lexer": "ipython3",
   "version": "3.9.4"
  }
 },
 "nbformat": 4,
 "nbformat_minor": 5
}
