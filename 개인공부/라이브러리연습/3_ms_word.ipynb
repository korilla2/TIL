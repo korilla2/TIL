{
 "cells": [
  {
   "cell_type": "code",
   "execution_count": 1,
   "id": "19f0317b",
   "metadata": {},
   "outputs": [],
   "source": [
    "import docx"
   ]
  },
  {
   "cell_type": "code",
   "execution_count": 2,
   "id": "fdab86a6",
   "metadata": {},
   "outputs": [],
   "source": [
    "doc = docx.Document()"
   ]
  },
  {
   "cell_type": "code",
   "execution_count": 10,
   "id": "3960174b",
   "metadata": {},
   "outputs": [],
   "source": [
    "hading = doc.add_heading('python123')\n"
   ]
  },
  {
   "cell_type": "code",
   "execution_count": 11,
   "id": "c81caaaa",
   "metadata": {},
   "outputs": [
    {
     "data": {
      "text/plain": [
       "<docx.text.paragraph.Paragraph at 0x29c97509fa0>"
      ]
     },
     "execution_count": 11,
     "metadata": {},
     "output_type": "execute_result"
    }
   ],
   "source": [
    "doc.add_paragraph('hello python\\n')"
   ]
  },
  {
   "cell_type": "code",
   "execution_count": 12,
   "id": "23c467c0",
   "metadata": {},
   "outputs": [],
   "source": [
    "table = doc.add_table(rows=3, cols=4)\n",
    "table.style = 'Table Grid'"
   ]
  },
  {
   "cell_type": "code",
   "execution_count": 13,
   "id": "21f465ed",
   "metadata": {},
   "outputs": [],
   "source": [
    "table.cell(0,0).text = \"model\"\n",
    "table.cell(0,1).text = \"name\"\n",
    "table.cell(0,2).text = \"price\"\n",
    "table.cell(0,3).text = \"quantity\""
   ]
  },
  {
   "cell_type": "code",
   "execution_count": 14,
   "id": "3ad2a795",
   "metadata": {},
   "outputs": [
    {
     "data": {
      "text/plain": [
       "<docx.text.paragraph.Paragraph at 0x29c975a6a30>"
      ]
     },
     "execution_count": 14,
     "metadata": {},
     "output_type": "execute_result"
    }
   ],
   "source": [
    "doc.add_paragraph('\\n')"
   ]
  },
  {
   "cell_type": "code",
   "execution_count": 15,
   "id": "8b3a1b5c",
   "metadata": {},
   "outputs": [],
   "source": [
    "from docx.shared import Inches\n",
    "img=doc.add_picture('1.png', width = Inches(5.0))"
   ]
  },
  {
   "cell_type": "code",
   "execution_count": 16,
   "id": "9ffb75a9",
   "metadata": {},
   "outputs": [],
   "source": [
    "doc.save('test2.docx')"
   ]
  },
  {
   "cell_type": "code",
   "execution_count": null,
   "id": "e7c7eee4",
   "metadata": {},
   "outputs": [],
   "source": []
  }
 ],
 "metadata": {
  "kernelspec": {
   "display_name": "Python 3 (ipykernel)",
   "language": "python",
   "name": "python3"
  },
  "language_info": {
   "codemirror_mode": {
    "name": "ipython",
    "version": 3
   },
   "file_extension": ".py",
   "mimetype": "text/x-python",
   "name": "python",
   "nbconvert_exporter": "python",
   "pygments_lexer": "ipython3",
   "version": "3.9.4"
  }
 },
 "nbformat": 4,
 "nbformat_minor": 5
}
