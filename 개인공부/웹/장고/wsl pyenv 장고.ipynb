{
 "cells": [
  {
   "cell_type": "markdown",
   "metadata": {},
   "source": [
    "1. 검색창에 windows 기능 검색 => windsows 기능 켜기 끄기 선택 =>  Linux용 Windows 하위 시스템  항목 체크 재부팅\n",
    "2. 검색창에 store 입력 후 Microsoft Store 클릭 => ubuntu 검색 후 ubuntu 20.04 lts 설치\n",
    "3. 검색창에 ubuntu 검색 => 클릭하면 실행가능  => 편의를 위해 작업표시줄에 고정\n",
    "4. 리눅스 환경 구성 완료 ~!  윈도우에서도 우분투를 편하게 사용할 수 있습니다\n",
    "5. 실행한뒤 유저네임, 비밀번호 설정\n",
    "6. 업데이트 및 필요 패키지 설치\n",
    "\n",
    "6 - 1 :     sudo apt-get update\n",
    "\n",
    "6 - 2 :   sudo apt-get install -y make build-essential \\\n",
    " libssl-dev zlib1g-dev libbz2-dev libreadline-dev libsqlite3-dev \\\n",
    " wget curl llvm libncurses5-dev libncursesw5-dev \\\n",
    " xz-utils tk-dev git python-pip\n",
    "\n",
    "6 - 1 명령어 한 번 실행\n",
    "6 - 2 명령어 4줄 통째로 한번에 실행\n"
   ]
  },
  {
   "cell_type": "markdown",
   "metadata": {},
   "source": [
    " ## 명령어 뒤에 {} 보일 시 {}는 제외하고 타이핑\n",
    "1. 리눅스 접속\n",
    "2. 폴더 생성 mkdir {폴더이름}  ## 폴더 만들기\n",
    "3. cd {폴더이름]  ## 폴더로 들어가기\n",
    "4. code . ##  해당 폴더에 vscode 설치 및 실행\n",
    "5. vscode 및 리눅스 재실행\n",
    "---------------- 본문 ------------------------------------\n",
    "6. curl https://pyenv.run | bash ##  pyenv 설치\n",
    "7.  \n",
    "export PYENV_ROOT=\"$HOME/.pyenv\"\n",
    "export PATH=\"$PYENV_ROOT/bin:$PATH\"\n",
    "eval \"$(pyenv init --path)\"\n",
    "eval \"$(pyenv virtualenv-init -)\"\n",
    "\n",
    "8. cd ~  홈 디렉토리로 이동 후 code .   ##vscode 실행\n",
    "9. bashrc 파일 클릭 후  맨 아래에  7번 코드 4줄을 붙여넣은 뒤 저장\n",
    "10. vscode 및 리눅스 재실행\n",
    "\n",
    "11. pyenv --version  ## 버전확인 잘 나오면 설치 성공"
   ]
  },
  {
   "cell_type": "markdown",
   "metadata": {},
   "source": [
    "1. pyenv install --list ## 설치 가능한 파이썬 버전 확인\n",
    "2. 파이썬 3.10 버전 대는 아직 불안정 ## 밑에서는 예시로 파이썬 버전을 설치\n",
    "3. pyenv install 3.7.7\n",
    "4. pyenv install 3.9.4\n",
    "5. pyenv versions ## 설치한 파이썬 확인 가능\n",
    "6. pyenv virturalenv {파이썬 버전} {가상 환경 이름}\n",
    "6 - 1 예시 : pyenv virtualenv 3.7.7 pythonenv\n",
    "6- 2 삭제 : pyenv uninstall {가상환경이름}\n",
    "7. pyenv global 3.9.4 ## 글로벌로 설정\n",
    "8. 원하는 폴더 생성 또는 해당 폴더로 이동 ## 이 폴더에 가상환경 구축\n",
    "9. pyenv local {가상환경이름}\n",
    "10. pip install django==2.2\n",
    "11. django-admin --version ## 장고 버전(2.2)가 나와야 정상\n",
    "--------------------------장고 실행 테스트 ----------------------------------\n",
    "12. django-admin startproject {프로젝트 이름}\n",
    "13. 프로젝트 이름으로 이동해서 ls ## manage.py 파일이 보일 것임\n",
    "14. python manage.py runserver 실행\n",
    "15. 웹 브라우저를 열고 주소창에 127.0.0.1:8000 이라고 친 뒤 실행\n",
    "16. 로켓모양 나오면 장고 실행까지 완료 ~!"
   ]
  }
 ],
 "metadata": {
  "interpreter": {
   "hash": "646a77bc03f63a31e854881db733c8b8ef41ed62361b97bc930f4a5d5cb3c195"
  },
  "kernelspec": {
   "display_name": "Python 3.9.4 64-bit",
   "language": "python",
   "name": "python3"
  },
  "language_info": {
   "codemirror_mode": {
    "name": "ipython",
    "version": 3
   },
   "file_extension": ".py",
   "mimetype": "text/x-python",
   "name": "python",
   "nbconvert_exporter": "python",
   "pygments_lexer": "ipython3",
   "version": "3.9.4"
  },
  "orig_nbformat": 4
 },
 "nbformat": 4,
 "nbformat_minor": 2
}
