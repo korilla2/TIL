{
 "cells": [
  {
   "cell_type": "code",
   "execution_count": 4,
   "id": "09f99053",
   "metadata": {},
   "outputs": [
    {
     "name": "stdout",
     "output_type": "stream",
     "text": [
      "Package                      Version\n",
      "---------------------------- -------------------\n",
      "absl-py                      1.0.0\n",
      "argon2-cffi                  21.3.0\n",
      "argon2-cffi-bindings         21.2.0\n",
      "asttokens                    2.0.5\n",
      "astunparse                   1.6.3\n",
      "attrs                        21.4.0\n",
      "autopep8                     1.6.0\n",
      "backcall                     0.2.0\n",
      "black                        21.12b0\n",
      "bleach                       4.1.0\n",
      "Brotli                       1.0.9\n",
      "cachetools                   5.0.0\n",
      "certifi                      2021.10.8\n",
      "cffi                         1.15.0\n",
      "charset-normalizer           2.0.10\n",
      "click                        8.0.3\n",
      "colorama                     0.4.4\n",
      "cycler                       0.11.0\n",
      "Cython                       0.29.23\n",
      "dash                         2.0.0\n",
      "dash-core-components         2.0.0\n",
      "dash-html-components         2.0.0\n",
      "dash-table                   5.0.0\n",
      "debugpy                      1.5.1\n",
      "decorator                    5.1.1\n",
      "defusedxml                   0.7.1\n",
      "entrypoints                  0.3\n",
      "et-xmlfile                   1.1.0\n",
      "executing                    0.8.2\n",
      "Flask                        2.0.2\n",
      "Flask-Compress               1.10.1\n",
      "flatbuffers                  2.0\n",
      "fonttools                    4.29.0\n",
      "gast                         0.5.3\n",
      "gensim                       4.1.2\n",
      "google-auth                  2.6.0\n",
      "google-auth-oauthlib         0.4.6\n",
      "google-pasta                 0.2.0\n",
      "grpcio                       1.43.0\n",
      "h5py                         3.6.0\n",
      "idna                         3.3\n",
      "importlib-metadata           4.10.1\n",
      "ipykernel                    6.7.0\n",
      "ipython                      8.0.1\n",
      "ipython-genutils             0.2.0\n",
      "ipywidgets                   7.6.5\n",
      "itsdangerous                 2.0.1\n",
      "jedi                         0.18.1\n",
      "Jinja2                       3.0.3\n",
      "joblib                       1.1.0\n",
      "jsonschema                   4.4.0\n",
      "jupyter                      1.0.0\n",
      "jupyter-client               7.1.2\n",
      "jupyter-console              6.4.0\n",
      "jupyter-core                 4.9.1\n",
      "jupyterlab-pygments          0.1.2\n",
      "jupyterlab-widgets           1.0.2\n",
      "keras                        2.8.0\n",
      "Keras-Preprocessing          1.1.2\n",
      "kiwisolver                   1.3.2\n",
      "libclang                     13.0.0\n",
      "Markdown                     3.3.6\n",
      "MarkupSafe                   2.0.1\n",
      "matplotlib                   3.5.1\n",
      "matplotlib-inline            0.1.3\n",
      "mistune                      0.8.4\n",
      "mypy-extensions              0.4.3\n",
      "nbclient                     0.5.10\n",
      "nbconvert                    6.4.0\n",
      "nbformat                     5.1.3\n",
      "nest-asyncio                 1.5.4\n",
      "notebook                     6.4.7\n",
      "numpy                        1.22.1\n",
      "oauthlib                     3.2.0\n",
      "opencv-python                4.5.5.62\n",
      "openpyxl                     3.0.9\n",
      "opt-einsum                   3.3.0\n",
      "packaging                    21.3\n",
      "pandas                       1.4.0\n",
      "pandocfilters                1.5.0\n",
      "parso                        0.8.3\n",
      "pathspec                     0.9.0\n",
      "pickleshare                  0.7.5\n",
      "Pillow                       9.0.0\n",
      "pip                          22.0.3\n",
      "platformdirs                 2.4.1\n",
      "plotly                       5.5.0\n",
      "prometheus-client            0.12.0\n",
      "prompt-toolkit               3.0.24\n",
      "protobuf                     3.19.4\n",
      "pure-eval                    0.2.2\n",
      "pyasn1                       0.4.8\n",
      "pyasn1-modules               0.2.8\n",
      "pycodestyle                  2.8.0\n",
      "pycparser                    2.21\n",
      "Pygments                     2.11.2\n",
      "pyparsing                    3.0.7\n",
      "pyrsistent                   0.18.1\n",
      "python-dateutil              2.8.2\n",
      "pytz                         2021.3\n",
      "pywin32                      303\n",
      "pywinpty                     1.1.6\n",
      "pyzmq                        22.3.0\n",
      "qtconsole                    5.2.2\n",
      "QtPy                         2.0.1\n",
      "requests                     2.27.1\n",
      "requests-oauthlib            1.3.1\n",
      "rsa                          4.8\n",
      "scikit-learn                 1.0.2\n",
      "scipy                        1.7.3\n",
      "seaborn                      0.11.2\n",
      "Send2Trash                   1.8.0\n",
      "setuptools                   60.5.0\n",
      "six                          1.16.0\n",
      "sklearn                      0.0\n",
      "smart-open                   5.2.1\n",
      "stack-data                   0.1.4\n",
      "tenacity                     8.0.1\n",
      "tensorboard                  2.8.0\n",
      "tensorboard-data-server      0.6.1\n",
      "tensorboard-plugin-wit       1.8.1\n",
      "tensorflow                   2.8.0\n",
      "tensorflow-io-gcs-filesystem 0.24.0\n",
      "termcolor                    1.1.0\n",
      "terminado                    0.12.1\n",
      "testpath                     0.5.0\n",
      "tf-estimator-nightly         2.8.0.dev2021122109\n",
      "threadpoolctl                3.0.0\n",
      "toml                         0.10.2\n",
      "tomli                        1.2.3\n",
      "tornado                      6.1\n",
      "traitlets                    5.1.1\n",
      "typing_extensions            4.0.1\n",
      "urllib3                      1.26.8\n",
      "vboxapi                      1.0\n",
      "wcwidth                      0.2.5\n",
      "webencodings                 0.5.1\n",
      "Werkzeug                     2.0.2\n",
      "wheel                        0.36.2\n",
      "widgetsnbextension           3.5.2\n",
      "wrapt                        1.13.3\n",
      "zipp                         3.7.0\n",
      "Note: you may need to restart the kernel to use updated packages.\n"
     ]
    }
   ],
   "source": [
    "pip list"
   ]
  },
  {
   "cell_type": "code",
   "execution_count": 5,
   "id": "f074d951",
   "metadata": {},
   "outputs": [
    {
     "name": "stdout",
     "output_type": "stream",
     "text": [
      "Collecting nltk\n",
      "  Downloading nltk-3.6.7-py3-none-any.whl (1.5 MB)\n",
      "     ---------------------------------------- 1.5/1.5 MB 15.8 MB/s eta 0:00:00\n",
      "Requirement already satisfied: joblib in c:\\users\\baum\\appdata\\roaming\\python\\python39\\site-packages (from nltk) (1.1.0)\n",
      "Requirement already satisfied: click in c:\\users\\baum\\appdata\\local\\programs\\python\\python39\\lib\\site-packages (from nltk) (8.0.3)\n",
      "Collecting tqdm\n",
      "  Using cached tqdm-4.62.3-py2.py3-none-any.whl (76 kB)\n",
      "Collecting regex>=2021.8.3\n",
      "  Downloading regex-2022.1.18-cp39-cp39-win_amd64.whl (273 kB)\n",
      "     ------------------------------------- 273.2/273.2 KB 16.4 MB/s eta 0:00:00\n",
      "Requirement already satisfied: colorama in c:\\users\\baum\\appdata\\local\\programs\\python\\python39\\lib\\site-packages (from click->nltk) (0.4.4)\n",
      "Installing collected packages: regex, tqdm, nltk\n",
      "Successfully installed nltk-3.6.7 regex-2022.1.18 tqdm-4.62.3\n",
      "Note: you may need to restart the kernel to use updated packages.\n"
     ]
    }
   ],
   "source": [
    "pip install nltk"
   ]
  },
  {
   "cell_type": "code",
   "execution_count": 6,
   "id": "416f44f8",
   "metadata": {},
   "outputs": [],
   "source": [
    "import nltk"
   ]
  },
  {
   "cell_type": "code",
   "execution_count": 7,
   "id": "2dbe4e22",
   "metadata": {},
   "outputs": [
    {
     "data": {
      "text/plain": [
       "'3.6.7'"
      ]
     },
     "execution_count": 7,
     "metadata": {},
     "output_type": "execute_result"
    }
   ],
   "source": [
    "nltk.__version__"
   ]
  },
  {
   "cell_type": "code",
   "execution_count": 8,
   "id": "c00be183",
   "metadata": {},
   "outputs": [
    {
     "name": "stdout",
     "output_type": "stream",
     "text": [
      "showing info https://raw.githubusercontent.com/nltk/nltk_data/gh-pages/index.xml\n"
     ]
    },
    {
     "data": {
      "text/plain": [
       "True"
      ]
     },
     "execution_count": 8,
     "metadata": {},
     "output_type": "execute_result"
    }
   ],
   "source": [
    "nltk.download()"
   ]
  },
  {
   "cell_type": "code",
   "execution_count": 9,
   "id": "23c286a0",
   "metadata": {},
   "outputs": [
    {
     "name": "stdout",
     "output_type": "stream",
     "text": [
      "showing info https://raw.githubusercontent.com/nltk/nltk_data/gh-pages/index.xml\n"
     ]
    },
    {
     "data": {
      "text/plain": [
       "True"
      ]
     },
     "execution_count": 9,
     "metadata": {},
     "output_type": "execute_result"
    }
   ],
   "source": [
    "nltk.download()"
   ]
  },
  {
   "cell_type": "code",
   "execution_count": 10,
   "id": "dc2631ad",
   "metadata": {},
   "outputs": [
    {
     "name": "stdout",
     "output_type": "stream",
     "text": [
      "Collecting konlpy\n",
      "  Downloading konlpy-0.6.0-py2.py3-none-any.whl (19.4 MB)\n",
      "     --------------------------------------- 19.4/19.4 MB 40.9 MB/s eta 0:00:00\n",
      "Collecting JPype1>=0.7.0\n",
      "  Downloading JPype1-1.3.0-cp39-cp39-win_amd64.whl (362 kB)\n",
      "     ------------------------------------- 362.6/362.6 KB 23.5 MB/s eta 0:00:00\n",
      "Requirement already satisfied: numpy>=1.6 in c:\\users\\baum\\appdata\\local\\programs\\python\\python39\\lib\\site-packages (from konlpy) (1.22.1)\n",
      "Collecting lxml>=4.1.0\n",
      "  Using cached lxml-4.7.1-cp39-cp39-win_amd64.whl (3.7 MB)\n",
      "Installing collected packages: JPype1, lxml, konlpy\n",
      "Successfully installed JPype1-1.3.0 konlpy-0.6.0 lxml-4.7.1\n",
      "Note: you may need to restart the kernel to use updated packages.\n"
     ]
    }
   ],
   "source": [
    "pip install konlpy"
   ]
  },
  {
   "cell_type": "code",
   "execution_count": 11,
   "id": "ddef913a",
   "metadata": {},
   "outputs": [
    {
     "name": "stdout",
     "output_type": "stream",
     "text": [
      "Package                      Version\n",
      "---------------------------- -------------------\n",
      "absl-py                      1.0.0\n",
      "argon2-cffi                  21.3.0\n",
      "argon2-cffi-bindings         21.2.0\n",
      "asttokens                    2.0.5\n",
      "astunparse                   1.6.3\n",
      "attrs                        21.4.0\n",
      "autopep8                     1.6.0\n",
      "backcall                     0.2.0\n",
      "black                        21.12b0\n",
      "bleach                       4.1.0\n",
      "Brotli                       1.0.9\n",
      "cachetools                   5.0.0\n",
      "certifi                      2021.10.8\n",
      "cffi                         1.15.0\n",
      "charset-normalizer           2.0.10\n",
      "click                        8.0.3\n",
      "colorama                     0.4.4\n",
      "cycler                       0.11.0\n",
      "Cython                       0.29.23\n",
      "dash                         2.0.0\n",
      "dash-core-components         2.0.0\n",
      "dash-html-components         2.0.0\n",
      "dash-table                   5.0.0\n",
      "debugpy                      1.5.1\n",
      "decorator                    5.1.1\n",
      "defusedxml                   0.7.1\n",
      "entrypoints                  0.3\n",
      "et-xmlfile                   1.1.0\n",
      "executing                    0.8.2\n",
      "Flask                        2.0.2\n",
      "Flask-Compress               1.10.1\n",
      "flatbuffers                  2.0\n",
      "fonttools                    4.29.0\n",
      "gast                         0.5.3\n",
      "gensim                       4.1.2\n",
      "google-auth                  2.6.0\n",
      "google-auth-oauthlib         0.4.6\n",
      "google-pasta                 0.2.0\n",
      "grpcio                       1.43.0\n",
      "h5py                         3.6.0\n",
      "idna                         3.3\n",
      "importlib-metadata           4.10.1\n",
      "ipykernel                    6.7.0\n",
      "ipython                      8.0.1\n",
      "ipython-genutils             0.2.0\n",
      "ipywidgets                   7.6.5\n",
      "itsdangerous                 2.0.1\n",
      "jedi                         0.18.1\n",
      "Jinja2                       3.0.3\n",
      "joblib                       1.1.0\n",
      "JPype1                       1.3.0\n",
      "jsonschema                   4.4.0\n",
      "jupyter                      1.0.0\n",
      "jupyter-client               7.1.2\n",
      "jupyter-console              6.4.0\n",
      "jupyter-core                 4.9.1\n",
      "jupyterlab-pygments          0.1.2\n",
      "jupyterlab-widgets           1.0.2\n",
      "keras                        2.8.0\n",
      "Keras-Preprocessing          1.1.2\n",
      "kiwisolver                   1.3.2\n",
      "konlpy                       0.6.0\n",
      "libclang                     13.0.0\n",
      "lxml                         4.7.1\n",
      "Markdown                     3.3.6\n",
      "MarkupSafe                   2.0.1\n",
      "matplotlib                   3.5.1\n",
      "matplotlib-inline            0.1.3\n",
      "mistune                      0.8.4\n",
      "mypy-extensions              0.4.3\n",
      "nbclient                     0.5.10\n",
      "nbconvert                    6.4.0\n",
      "nbformat                     5.1.3\n",
      "nest-asyncio                 1.5.4\n",
      "nltk                         3.6.7\n",
      "notebook                     6.4.7\n",
      "numpy                        1.22.1\n",
      "oauthlib                     3.2.0\n",
      "opencv-python                4.5.5.62\n",
      "openpyxl                     3.0.9\n",
      "opt-einsum                   3.3.0\n",
      "packaging                    21.3\n",
      "pandas                       1.4.0\n",
      "pandocfilters                1.5.0\n",
      "parso                        0.8.3\n",
      "pathspec                     0.9.0\n",
      "pickleshare                  0.7.5\n",
      "Pillow                       9.0.0\n",
      "pip                          22.0.3\n",
      "platformdirs                 2.4.1\n",
      "plotly                       5.5.0\n",
      "prometheus-client            0.12.0\n",
      "prompt-toolkit               3.0.24\n",
      "protobuf                     3.19.4\n",
      "pure-eval                    0.2.2\n",
      "pyasn1                       0.4.8\n",
      "pyasn1-modules               0.2.8\n",
      "pycodestyle                  2.8.0\n",
      "pycparser                    2.21\n",
      "Pygments                     2.11.2\n",
      "pyparsing                    3.0.7\n",
      "pyrsistent                   0.18.1\n",
      "python-dateutil              2.8.2\n",
      "pytz                         2021.3\n",
      "pywin32                      303\n",
      "pywinpty                     1.1.6\n",
      "pyzmq                        22.3.0\n",
      "qtconsole                    5.2.2\n",
      "QtPy                         2.0.1\n",
      "regex                        2022.1.18\n",
      "requests                     2.27.1\n",
      "requests-oauthlib            1.3.1\n",
      "rsa                          4.8\n",
      "scikit-learn                 1.0.2\n",
      "scipy                        1.7.3\n",
      "seaborn                      0.11.2\n",
      "Send2Trash                   1.8.0\n",
      "setuptools                   60.5.0\n",
      "six                          1.16.0\n",
      "sklearn                      0.0\n",
      "smart-open                   5.2.1\n",
      "stack-data                   0.1.4\n",
      "tenacity                     8.0.1\n",
      "tensorboard                  2.8.0\n",
      "tensorboard-data-server      0.6.1\n",
      "tensorboard-plugin-wit       1.8.1\n",
      "tensorflow                   2.8.0\n",
      "tensorflow-io-gcs-filesystem 0.24.0\n",
      "termcolor                    1.1.0\n",
      "terminado                    0.12.1\n",
      "testpath                     0.5.0\n",
      "tf-estimator-nightly         2.8.0.dev2021122109\n",
      "threadpoolctl                3.0.0\n",
      "toml                         0.10.2\n",
      "tomli                        1.2.3\n",
      "tornado                      6.1\n",
      "tqdm                         4.62.3\n",
      "traitlets                    5.1.1\n",
      "typing_extensions            4.0.1\n",
      "urllib3                      1.26.8\n",
      "vboxapi                      1.0\n",
      "wcwidth                      0.2.5\n",
      "webencodings                 0.5.1\n",
      "Werkzeug                     2.0.2\n",
      "wheel                        0.36.2\n",
      "widgetsnbextension           3.5.2\n",
      "wrapt                        1.13.3\n",
      "zipp                         3.7.0\n",
      "Note: you may need to restart the kernel to use updated packages.\n"
     ]
    }
   ],
   "source": [
    "pip list"
   ]
  },
  {
   "cell_type": "code",
   "execution_count": 12,
   "id": "c10e2102",
   "metadata": {},
   "outputs": [],
   "source": [
    "import konlpy"
   ]
  },
  {
   "cell_type": "code",
   "execution_count": 13,
   "id": "359ffd86",
   "metadata": {},
   "outputs": [
    {
     "data": {
      "text/plain": [
       "'0.6.0'"
      ]
     },
     "execution_count": 13,
     "metadata": {},
     "output_type": "execute_result"
    }
   ],
   "source": [
    "konlpy.__version__"
   ]
  },
  {
   "cell_type": "code",
   "execution_count": 3,
   "id": "0579d0ab",
   "metadata": {},
   "outputs": [
    {
     "name": "stdout",
     "output_type": "stream",
     "text": [
      "Requirement already satisfied: pandas-profiling in c:\\users\\baum\\appdata\\local\\programs\\python\\python39\\lib\\site-packages (3.1.0)\n",
      "Requirement already satisfied: markupsafe~=2.0.1 in c:\\users\\baum\\appdata\\local\\programs\\python\\python39\\lib\\site-packages (from pandas-profiling) (2.0.1)\n",
      "Requirement already satisfied: PyYAML>=5.0.0 in c:\\users\\baum\\appdata\\local\\programs\\python\\python39\\lib\\site-packages (from pandas-profiling) (6.0)\n",
      "Requirement already satisfied: seaborn>=0.10.1 in c:\\users\\baum\\appdata\\local\\programs\\python\\python39\\lib\\site-packages (from pandas-profiling) (0.11.2)\n",
      "Requirement already satisfied: requests>=2.24.0 in c:\\users\\baum\\appdata\\roaming\\python\\python39\\site-packages (from pandas-profiling) (2.27.1)\n",
      "Requirement already satisfied: visions[type_image_path]==0.7.4 in c:\\users\\baum\\appdata\\local\\programs\\python\\python39\\lib\\site-packages (from pandas-profiling) (0.7.4)\n",
      "Requirement already satisfied: scipy>=1.4.1 in c:\\users\\baum\\appdata\\local\\programs\\python\\python39\\lib\\site-packages (from pandas-profiling) (1.7.3)\n",
      "Requirement already satisfied: numpy>=1.16.0 in c:\\users\\baum\\appdata\\local\\programs\\python\\python39\\lib\\site-packages (from pandas-profiling) (1.22.1)\n",
      "Requirement already satisfied: phik>=0.11.1 in c:\\users\\baum\\appdata\\local\\programs\\python\\python39\\lib\\site-packages (from pandas-profiling) (0.12.0)\n",
      "Requirement already satisfied: tangled-up-in-unicode==0.1.0 in c:\\users\\baum\\appdata\\local\\programs\\python\\python39\\lib\\site-packages (from pandas-profiling) (0.1.0)\n",
      "Requirement already satisfied: matplotlib>=3.2.0 in c:\\users\\baum\\appdata\\local\\programs\\python\\python39\\lib\\site-packages (from pandas-profiling) (3.5.1)\n",
      "Requirement already satisfied: joblib~=1.0.1 in c:\\users\\baum\\appdata\\local\\programs\\python\\python39\\lib\\site-packages (from pandas-profiling) (1.0.1)\n",
      "Requirement already satisfied: pandas!=1.0.0,!=1.0.1,!=1.0.2,!=1.1.0,>=0.25.3 in c:\\users\\baum\\appdata\\local\\programs\\python\\python39\\lib\\site-packages (from pandas-profiling) (1.4.0)\n",
      "Requirement already satisfied: missingno>=0.4.2 in c:\\users\\baum\\appdata\\local\\programs\\python\\python39\\lib\\site-packages (from pandas-profiling) (0.5.0)\n",
      "Requirement already satisfied: tqdm>=4.48.2 in c:\\users\\baum\\appdata\\local\\programs\\python\\python39\\lib\\site-packages (from pandas-profiling) (4.62.3)\n",
      "Requirement already satisfied: htmlmin>=0.1.12 in c:\\users\\baum\\appdata\\local\\programs\\python\\python39\\lib\\site-packages (from pandas-profiling) (0.1.12)\n",
      "Requirement already satisfied: pydantic>=1.8.1 in c:\\users\\baum\\appdata\\local\\programs\\python\\python39\\lib\\site-packages (from pandas-profiling) (1.9.0)\n",
      "Requirement already satisfied: multimethod>=1.4 in c:\\users\\baum\\appdata\\local\\programs\\python\\python39\\lib\\site-packages (from pandas-profiling) (1.7)\n",
      "Requirement already satisfied: jinja2>=2.11.1 in c:\\users\\baum\\appdata\\local\\programs\\python\\python39\\lib\\site-packages (from pandas-profiling) (3.0.3)\n",
      "Requirement already satisfied: attrs>=19.3.0 in c:\\users\\baum\\appdata\\local\\programs\\python\\python39\\lib\\site-packages (from visions[type_image_path]==0.7.4->pandas-profiling) (21.4.0)\n",
      "Requirement already satisfied: networkx>=2.4 in c:\\users\\baum\\appdata\\local\\programs\\python\\python39\\lib\\site-packages (from visions[type_image_path]==0.7.4->pandas-profiling) (2.6.3)\n",
      "Requirement already satisfied: Pillow in c:\\users\\baum\\appdata\\local\\programs\\python\\python39\\lib\\site-packages (from visions[type_image_path]==0.7.4->pandas-profiling) (9.0.0)\n",
      "Requirement already satisfied: imagehash in c:\\users\\baum\\appdata\\local\\programs\\python\\python39\\lib\\site-packages (from visions[type_image_path]==0.7.4->pandas-profiling) (4.2.1)\n",
      "Requirement already satisfied: python-dateutil>=2.7 in c:\\users\\baum\\appdata\\local\\programs\\python\\python39\\lib\\site-packages (from matplotlib>=3.2.0->pandas-profiling) (2.8.2)\n",
      "Requirement already satisfied: fonttools>=4.22.0 in c:\\users\\baum\\appdata\\local\\programs\\python\\python39\\lib\\site-packages (from matplotlib>=3.2.0->pandas-profiling) (4.29.0)\n",
      "Requirement already satisfied: cycler>=0.10 in c:\\users\\baum\\appdata\\local\\programs\\python\\python39\\lib\\site-packages (from matplotlib>=3.2.0->pandas-profiling) (0.11.0)\n",
      "Requirement already satisfied: kiwisolver>=1.0.1 in c:\\users\\baum\\appdata\\local\\programs\\python\\python39\\lib\\site-packages (from matplotlib>=3.2.0->pandas-profiling) (1.3.2)Note: you may need to restart the kernel to use updated packages.\n",
      "Requirement already satisfied: packaging>=20.0 in c:\\users\\baum\\appdata\\local\\programs\\python\\python39\\lib\\site-packages (from matplotlib>=3.2.0->pandas-profiling) (21.3)\n",
      "\n",
      "Requirement already satisfied: pyparsing>=2.2.1 in c:\\users\\baum\\appdata\\local\\programs\\python\\python39\\lib\\site-packages (from matplotlib>=3.2.0->pandas-profiling) (3.0.7)\n",
      "Requirement already satisfied: pytz>=2020.1 in c:\\users\\baum\\appdata\\local\\programs\\python\\python39\\lib\\site-packages (from pandas!=1.0.0,!=1.0.1,!=1.0.2,!=1.1.0,>=0.25.3->pandas-profiling) (2021.3)\n",
      "Requirement already satisfied: typing-extensions>=3.7.4.3 in c:\\users\\baum\\appdata\\local\\programs\\python\\python39\\lib\\site-packages (from pydantic>=1.8.1->pandas-profiling) (4.0.1)\n",
      "Requirement already satisfied: certifi>=2017.4.17 in c:\\users\\baum\\appdata\\roaming\\python\\python39\\site-packages (from requests>=2.24.0->pandas-profiling) (2021.10.8)\n",
      "Requirement already satisfied: urllib3<1.27,>=1.21.1 in c:\\users\\baum\\appdata\\roaming\\python\\python39\\site-packages (from requests>=2.24.0->pandas-profiling) (1.26.8)\n",
      "Requirement already satisfied: idna<4,>=2.5 in c:\\users\\baum\\appdata\\roaming\\python\\python39\\site-packages (from requests>=2.24.0->pandas-profiling) (3.3)\n",
      "Requirement already satisfied: charset-normalizer~=2.0.0 in c:\\users\\baum\\appdata\\roaming\\python\\python39\\site-packages (from requests>=2.24.0->pandas-profiling) (2.0.10)\n",
      "Requirement already satisfied: colorama in c:\\users\\baum\\appdata\\local\\programs\\python\\python39\\lib\\site-packages (from tqdm>=4.48.2->pandas-profiling) (0.4.4)\n",
      "Requirement already satisfied: six>=1.5 in c:\\users\\baum\\appdata\\local\\programs\\python\\python39\\lib\\site-packages (from python-dateutil>=2.7->matplotlib>=3.2.0->pandas-profiling) (1.16.0)\n",
      "Requirement already satisfied: PyWavelets in c:\\users\\baum\\appdata\\local\\programs\\python\\python39\\lib\\site-packages (from imagehash->visions[type_image_path]==0.7.4->pandas-profiling) (1.2.0)\n"
     ]
    }
   ],
   "source": [
    "pip install -U pandas-profiling"
   ]
  },
  {
   "cell_type": "code",
   "execution_count": 2,
   "id": "71afeb20",
   "metadata": {},
   "outputs": [
    {
     "name": "stdout",
     "output_type": "stream",
     "text": [
      "Requirement already satisfied: pandas-profiling in c:\\users\\baum\\appdata\\local\\programs\\python\\python39\\lib\\site-packages (3.1.0)\n",
      "Requirement already satisfied: multimethod>=1.4 in c:\\users\\baum\\appdata\\local\\programs\\python\\python39\\lib\\site-packages (from pandas-profiling) (1.7)\n",
      "Requirement already satisfied: tangled-up-in-unicode==0.1.0 in c:\\users\\baum\\appdata\\local\\programs\\python\\python39\\lib\\site-packages (from pandas-profiling) (0.1.0)\n",
      "Requirement already satisfied: phik>=0.11.1 in c:\\users\\baum\\appdata\\local\\programs\\python\\python39\\lib\\site-packages (from pandas-profiling) (0.12.0)\n",
      "Requirement already satisfied: joblib~=1.0.1 in c:\\users\\baum\\appdata\\local\\programs\\python\\python39\\lib\\site-packages (from pandas-profiling) (1.0.1)\n",
      "Requirement already satisfied: scipy>=1.4.1 in c:\\users\\baum\\appdata\\local\\programs\\python\\python39\\lib\\site-packages (from pandas-profiling) (1.7.3)\n",
      "Requirement already satisfied: htmlmin>=0.1.12 in c:\\users\\baum\\appdata\\local\\programs\\python\\python39\\lib\\site-packages (from pandas-profiling) (0.1.12)\n",
      "Requirement already satisfied: missingno>=0.4.2 in c:\\users\\baum\\appdata\\local\\programs\\python\\python39\\lib\\site-packages (from pandas-profiling) (0.5.0)\n",
      "Requirement already satisfied: requests>=2.24.0 in c:\\users\\baum\\appdata\\roaming\\python\\python39\\site-packages (from pandas-profiling) (2.27.1)\n",
      "Requirement already satisfied: markupsafe~=2.0.1 in c:\\users\\baum\\appdata\\local\\programs\\python\\python39\\lib\\site-packages (from pandas-profiling) (2.0.1)\n",
      "Requirement already satisfied: seaborn>=0.10.1 in c:\\users\\baum\\appdata\\local\\programs\\python\\python39\\lib\\site-packages (from pandas-profiling) (0.11.2)\n",
      "Requirement already satisfied: tqdm>=4.48.2 in c:\\users\\baum\\appdata\\local\\programs\\python\\python39\\lib\\site-packages (from pandas-profiling) (4.62.3)\n",
      "Requirement already satisfied: pydantic>=1.8.1 in c:\\users\\baum\\appdata\\local\\programs\\python\\python39\\lib\\site-packages (from pandas-profiling) (1.9.0)\n",
      "Requirement already satisfied: PyYAML>=5.0.0 in c:\\users\\baum\\appdata\\local\\programs\\python\\python39\\lib\\site-packages (from pandas-profiling) (6.0)\n",
      "Note: you may need to restart the kernel to use updated packages.\n",
      "Requirement already satisfied: numpy>=1.16.0 in c:\\users\\baum\\appdata\\local\\programs\\python\\python39\\lib\\site-packages (from pandas-profiling) (1.22.1)\n",
      "Requirement already satisfied: visions[type_image_path]==0.7.4 in c:\\users\\baum\\appdata\\local\\programs\\python\\python39\\lib\\site-packages (from pandas-profiling) (0.7.4)\n",
      "Requirement already satisfied: pandas!=1.0.0,!=1.0.1,!=1.0.2,!=1.1.0,>=0.25.3 in c:\\users\\baum\\appdata\\local\\programs\\python\\python39\\lib\\site-packages (from pandas-profiling) (1.4.0)\n",
      "Requirement already satisfied: jinja2>=2.11.1 in c:\\users\\baum\\appdata\\local\\programs\\python\\python39\\lib\\site-packages (from pandas-profiling) (3.0.3)\n",
      "Requirement already satisfied: matplotlib>=3.2.0 in c:\\users\\baum\\appdata\\local\\programs\\python\\python39\\lib\\site-packages (from pandas-profiling) (3.5.1)\n",
      "Requirement already satisfied: attrs>=19.3.0 in c:\\users\\baum\\appdata\\local\\programs\\python\\python39\\lib\\site-packages (from visions[type_image_path]==0.7.4->pandas-profiling) (21.4.0)\n",
      "Requirement already satisfied: networkx>=2.4 in c:\\users\\baum\\appdata\\local\\programs\\python\\python39\\lib\\site-packages (from visions[type_image_path]==0.7.4->pandas-profiling) (2.6.3)\n",
      "Requirement already satisfied: Pillow in c:\\users\\baum\\appdata\\local\\programs\\python\\python39\\lib\\site-packages (from visions[type_image_path]==0.7.4->pandas-profiling) (9.0.0)\n",
      "Requirement already satisfied: imagehash in c:\\users\\baum\\appdata\\local\\programs\\python\\python39\\lib\\site-packages (from visions[type_image_path]==0.7.4->pandas-profiling) (4.2.1)\n",
      "Requirement already satisfied: pyparsing>=2.2.1 in c:\\users\\baum\\appdata\\local\\programs\\python\\python39\\lib\\site-packages (from matplotlib>=3.2.0->pandas-profiling) (3.0.7)\n",
      "Requirement already satisfied: packaging>=20.0 in c:\\users\\baum\\appdata\\local\\programs\\python\\python39\\lib\\site-packages (from matplotlib>=3.2.0->pandas-profiling) (21.3)\n",
      "Requirement already satisfied: fonttools>=4.22.0 in c:\\users\\baum\\appdata\\local\\programs\\python\\python39\\lib\\site-packages (from matplotlib>=3.2.0->pandas-profiling) (4.29.0)\n",
      "Requirement already satisfied: cycler>=0.10 in c:\\users\\baum\\appdata\\local\\programs\\python\\python39\\lib\\site-packages (from matplotlib>=3.2.0->pandas-profiling) (0.11.0)\n",
      "Requirement already satisfied: kiwisolver>=1.0.1 in c:\\users\\baum\\appdata\\local\\programs\\python\\python39\\lib\\site-packages (from matplotlib>=3.2.0->pandas-profiling) (1.3.2)\n",
      "Requirement already satisfied: python-dateutil>=2.7 in c:\\users\\baum\\appdata\\local\\programs\\python\\python39\\lib\\site-packages (from matplotlib>=3.2.0->pandas-profiling) (2.8.2)\n",
      "Requirement already satisfied: pytz>=2020.1 in c:\\users\\baum\\appdata\\local\\programs\\python\\python39\\lib\\site-packages (from pandas!=1.0.0,!=1.0.1,!=1.0.2,!=1.1.0,>=0.25.3->pandas-profiling) (2021.3)\n",
      "Requirement already satisfied: typing-extensions>=3.7.4.3 in c:\\users\\baum\\appdata\\local\\programs\\python\\python39\\lib\\site-packages (from pydantic>=1.8.1->pandas-profiling) (4.0.1)\n",
      "Requirement already satisfied: certifi>=2017.4.17 in c:\\users\\baum\\appdata\\roaming\\python\\python39\\site-packages (from requests>=2.24.0->pandas-profiling) (2021.10.8)\n",
      "Requirement already satisfied: charset-normalizer~=2.0.0 in c:\\users\\baum\\appdata\\roaming\\python\\python39\\site-packages (from requests>=2.24.0->pandas-profiling) (2.0.10)\n",
      "Requirement already satisfied: idna<4,>=2.5 in c:\\users\\baum\\appdata\\roaming\\python\\python39\\site-packages (from requests>=2.24.0->pandas-profiling) (3.3)\n",
      "Requirement already satisfied: urllib3<1.27,>=1.21.1 in c:\\users\\baum\\appdata\\roaming\\python\\python39\\site-packages (from requests>=2.24.0->pandas-profiling) (1.26.8)\n",
      "Requirement already satisfied: colorama in c:\\users\\baum\\appdata\\local\\programs\\python\\python39\\lib\\site-packages (from tqdm>=4.48.2->pandas-profiling) (0.4.4)\n",
      "Requirement already satisfied: six>=1.5 in c:\\users\\baum\\appdata\\local\\programs\\python\\python39\\lib\\site-packages (from python-dateutil>=2.7->matplotlib>=3.2.0->pandas-profiling) (1.16.0)\n",
      "Requirement already satisfied: PyWavelets in c:\\users\\baum\\appdata\\local\\programs\\python\\python39\\lib\\site-packages (from imagehash->visions[type_image_path]==0.7.4->pandas-profiling) (1.2.0)\n"
     ]
    }
   ],
   "source": [
    "pip install -U pandas-profiling"
   ]
  },
  {
   "cell_type": "code",
   "execution_count": 7,
   "id": "bb48be81",
   "metadata": {},
   "outputs": [],
   "source": [
    "import pandas as pd\n",
    "import pandas_profiling\n",
    "data = pd.read_csv('spam.csv', encoding='latin1')"
   ]
  },
  {
   "cell_type": "code",
   "execution_count": 4,
   "id": "66f82989",
   "metadata": {},
   "outputs": [],
   "source": [
    "import pandas_profiling"
   ]
  },
  {
   "cell_type": "code",
   "execution_count": 5,
   "id": "25ccc7d5",
   "metadata": {},
   "outputs": [
    {
     "data": {
      "text/plain": [
       "'3.1.0'"
      ]
     },
     "execution_count": 5,
     "metadata": {},
     "output_type": "execute_result"
    }
   ],
   "source": [
    "pandas_profiling.__version__"
   ]
  },
  {
   "cell_type": "code",
   "execution_count": 8,
   "id": "970eac19",
   "metadata": {},
   "outputs": [
    {
     "data": {
      "text/html": [
       "<div>\n",
       "<style scoped>\n",
       "    .dataframe tbody tr th:only-of-type {\n",
       "        vertical-align: middle;\n",
       "    }\n",
       "\n",
       "    .dataframe tbody tr th {\n",
       "        vertical-align: top;\n",
       "    }\n",
       "\n",
       "    .dataframe thead th {\n",
       "        text-align: right;\n",
       "    }\n",
       "</style>\n",
       "<table border=\"1\" class=\"dataframe\">\n",
       "  <thead>\n",
       "    <tr style=\"text-align: right;\">\n",
       "      <th></th>\n",
       "      <th>v1</th>\n",
       "      <th>v2</th>\n",
       "      <th>Unnamed: 2</th>\n",
       "      <th>Unnamed: 3</th>\n",
       "      <th>Unnamed: 4</th>\n",
       "    </tr>\n",
       "  </thead>\n",
       "  <tbody>\n",
       "    <tr>\n",
       "      <th>0</th>\n",
       "      <td>ham</td>\n",
       "      <td>Go until jurong point, crazy.. Available only ...</td>\n",
       "      <td>NaN</td>\n",
       "      <td>NaN</td>\n",
       "      <td>NaN</td>\n",
       "    </tr>\n",
       "    <tr>\n",
       "      <th>1</th>\n",
       "      <td>ham</td>\n",
       "      <td>Ok lar... Joking wif u oni...</td>\n",
       "      <td>NaN</td>\n",
       "      <td>NaN</td>\n",
       "      <td>NaN</td>\n",
       "    </tr>\n",
       "    <tr>\n",
       "      <th>2</th>\n",
       "      <td>spam</td>\n",
       "      <td>Free entry in 2 a wkly comp to win FA Cup fina...</td>\n",
       "      <td>NaN</td>\n",
       "      <td>NaN</td>\n",
       "      <td>NaN</td>\n",
       "    </tr>\n",
       "    <tr>\n",
       "      <th>3</th>\n",
       "      <td>ham</td>\n",
       "      <td>U dun say so early hor... U c already then say...</td>\n",
       "      <td>NaN</td>\n",
       "      <td>NaN</td>\n",
       "      <td>NaN</td>\n",
       "    </tr>\n",
       "    <tr>\n",
       "      <th>4</th>\n",
       "      <td>ham</td>\n",
       "      <td>Nah I don't think he goes to usf, he lives aro...</td>\n",
       "      <td>NaN</td>\n",
       "      <td>NaN</td>\n",
       "      <td>NaN</td>\n",
       "    </tr>\n",
       "  </tbody>\n",
       "</table>\n",
       "</div>"
      ],
      "text/plain": [
       "     v1                                                 v2 Unnamed: 2  \\\n",
       "0   ham  Go until jurong point, crazy.. Available only ...        NaN   \n",
       "1   ham                      Ok lar... Joking wif u oni...        NaN   \n",
       "2  spam  Free entry in 2 a wkly comp to win FA Cup fina...        NaN   \n",
       "3   ham  U dun say so early hor... U c already then say...        NaN   \n",
       "4   ham  Nah I don't think he goes to usf, he lives aro...        NaN   \n",
       "\n",
       "  Unnamed: 3 Unnamed: 4  \n",
       "0        NaN        NaN  \n",
       "1        NaN        NaN  \n",
       "2        NaN        NaN  \n",
       "3        NaN        NaN  \n",
       "4        NaN        NaN  "
      ]
     },
     "execution_count": 8,
     "metadata": {},
     "output_type": "execute_result"
    }
   ],
   "source": [
    "data.head()"
   ]
  },
  {
   "cell_type": "code",
   "execution_count": null,
   "id": "919b8b24",
   "metadata": {},
   "outputs": [],
   "source": []
  }
 ],
 "metadata": {
  "kernelspec": {
   "display_name": "Python 3 (ipykernel)",
   "language": "python",
   "name": "python3"
  },
  "language_info": {
   "codemirror_mode": {
    "name": "ipython",
    "version": 3
   },
   "file_extension": ".py",
   "mimetype": "text/x-python",
   "name": "python",
   "nbconvert_exporter": "python",
   "pygments_lexer": "ipython3",
   "version": "3.9.4"
  }
 },
 "nbformat": 4,
 "nbformat_minor": 5
}
