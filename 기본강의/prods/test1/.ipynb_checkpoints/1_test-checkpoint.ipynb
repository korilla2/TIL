{
 "cells": [
  {
   "cell_type": "code",
   "execution_count": 1,
   "id": "a4662bfb",
   "metadata": {},
   "outputs": [],
   "source": [
    "# # 문제 01 유형(DataSet_01.csv 이용)\n",
    "#\n",
    "# 구분자 : comma(“,”), 4,572 Rows, 5 Columns, UTF-8 인코딩\n",
    "# \n",
    "# 글로벌 전자제품 제조회사에서 효과적인 마케팅 방법을 찾기\n",
    "# 위해서 채널별 마케팅 예산과 매출금액과의 관계를 분석하고자\n",
    "# 한다.\n",
    "# 컬 럼 / 정 의  /   Type\n",
    "# TV   /     TV 마케팅 예산 (억원)  /   Double\n",
    "# Radio / 라디오 마케팅 예산 (억원)  /   Double\n",
    "# Social_Media / 소셜미디어 마케팅 예산 (억원)  / Double\n",
    "# Influencer / 인플루언서 마케팅\n",
    "# (인플루언서의 영향력 크기에 따라 Mega / Macro / Micro / \n",
    "# Nano) / String\n",
    "\n",
    "# SALES / 매출액 / Double"
   ]
  },
  {
   "cell_type": "code",
   "execution_count": 2,
   "id": "477f6576",
   "metadata": {},
   "outputs": [],
   "source": [
    "import pandas as pd\n",
    "import numpy as np"
   ]
  },
  {
   "cell_type": "code",
   "execution_count": 3,
   "id": "24c7bb9b",
   "metadata": {},
   "outputs": [
    {
     "data": {
      "text/html": [
       "<div>\n",
       "<style scoped>\n",
       "    .dataframe tbody tr th:only-of-type {\n",
       "        vertical-align: middle;\n",
       "    }\n",
       "\n",
       "    .dataframe tbody tr th {\n",
       "        vertical-align: top;\n",
       "    }\n",
       "\n",
       "    .dataframe thead th {\n",
       "        text-align: right;\n",
       "    }\n",
       "</style>\n",
       "<table border=\"1\" class=\"dataframe\">\n",
       "  <thead>\n",
       "    <tr style=\"text-align: right;\">\n",
       "      <th></th>\n",
       "      <th>TV</th>\n",
       "      <th>Radio</th>\n",
       "      <th>Social_Media</th>\n",
       "      <th>Influencer</th>\n",
       "      <th>Sales</th>\n",
       "    </tr>\n",
       "  </thead>\n",
       "  <tbody>\n",
       "    <tr>\n",
       "      <th>0</th>\n",
       "      <td>16.0</td>\n",
       "      <td>6.566231</td>\n",
       "      <td>2.907983</td>\n",
       "      <td>Mega</td>\n",
       "      <td>54.732757</td>\n",
       "    </tr>\n",
       "    <tr>\n",
       "      <th>1</th>\n",
       "      <td>13.0</td>\n",
       "      <td>9.237765</td>\n",
       "      <td>2.409567</td>\n",
       "      <td>Mega</td>\n",
       "      <td>46.677897</td>\n",
       "    </tr>\n",
       "    <tr>\n",
       "      <th>2</th>\n",
       "      <td>41.0</td>\n",
       "      <td>15.886446</td>\n",
       "      <td>2.913410</td>\n",
       "      <td>Mega</td>\n",
       "      <td>150.177829</td>\n",
       "    </tr>\n",
       "    <tr>\n",
       "      <th>3</th>\n",
       "      <td>83.0</td>\n",
       "      <td>30.020028</td>\n",
       "      <td>6.922304</td>\n",
       "      <td>Mega</td>\n",
       "      <td>298.246340</td>\n",
       "    </tr>\n",
       "    <tr>\n",
       "      <th>4</th>\n",
       "      <td>15.0</td>\n",
       "      <td>8.437408</td>\n",
       "      <td>1.405998</td>\n",
       "      <td>Micro</td>\n",
       "      <td>56.594181</td>\n",
       "    </tr>\n",
       "  </tbody>\n",
       "</table>\n",
       "</div>"
      ],
      "text/plain": [
       "     TV      Radio  Social_Media Influencer       Sales\n",
       "0  16.0   6.566231      2.907983       Mega   54.732757\n",
       "1  13.0   9.237765      2.409567       Mega   46.677897\n",
       "2  41.0  15.886446      2.913410       Mega  150.177829\n",
       "3  83.0  30.020028      6.922304       Mega  298.246340\n",
       "4  15.0   8.437408      1.405998      Micro   56.594181"
      ]
     },
     "execution_count": 3,
     "metadata": {},
     "output_type": "execute_result"
    }
   ],
   "source": [
    "data01 = pd.read_csv('../Dataset/Dataset_01.csv')\n",
    "data01.head()"
   ]
  },
  {
   "cell_type": "code",
   "execution_count": 4,
   "id": "57ad742f",
   "metadata": {},
   "outputs": [],
   "source": [
    "# 1. 데이터 세트 내에 총 결측값의 개수는 몇 개인가? (답안 예시) 23"
   ]
  },
  {
   "cell_type": "code",
   "execution_count": 6,
   "id": "76a20737",
   "metadata": {},
   "outputs": [
    {
     "data": {
      "text/plain": [
       "TV              10\n",
       "Radio            4\n",
       "Social_Media     6\n",
       "Influencer       0\n",
       "Sales            6\n",
       "dtype: int64"
      ]
     },
     "execution_count": 6,
     "metadata": {},
     "output_type": "execute_result"
    }
   ],
   "source": [
    "data01.isna().sum()"
   ]
  },
  {
   "cell_type": "code",
   "execution_count": 12,
   "id": "2894db8e",
   "metadata": {},
   "outputs": [
    {
     "data": {
      "text/plain": [
       "26"
      ]
     },
     "execution_count": 12,
     "metadata": {},
     "output_type": "execute_result"
    }
   ],
   "source": [
    "data01.isna().sum().sum()"
   ]
  },
  {
   "cell_type": "code",
   "execution_count": 13,
   "id": "2b242839",
   "metadata": {},
   "outputs": [],
   "source": [
    "# 답 : 26"
   ]
  },
  {
   "cell_type": "code",
   "execution_count": 14,
   "id": "f0569637",
   "metadata": {},
   "outputs": [],
   "source": [
    "# 2. TV, Radio, Social Media 등 세 가지 다른 마케팅 채널의 예산과 매출액과의 \n",
    "# 상관분석을\n",
    "# 통하여 각 채널이 매출에 어느 정도 연관이 있는지 알아보고자 한다. \n",
    "# - 매출액과 가장 강한 상관관계를 가지고 있는 채널의 상관계수를 소수점 5번째\n",
    "# 자리에서 반올림하여 소수점 넷째 자리까지 기술하시오. (답안 예시) 0.1234"
   ]
  },
  {
   "cell_type": "code",
   "execution_count": 15,
   "id": "a698aaeb",
   "metadata": {},
   "outputs": [
    {
     "data": {
      "text/html": [
       "<div>\n",
       "<style scoped>\n",
       "    .dataframe tbody tr th:only-of-type {\n",
       "        vertical-align: middle;\n",
       "    }\n",
       "\n",
       "    .dataframe tbody tr th {\n",
       "        vertical-align: top;\n",
       "    }\n",
       "\n",
       "    .dataframe thead th {\n",
       "        text-align: right;\n",
       "    }\n",
       "</style>\n",
       "<table border=\"1\" class=\"dataframe\">\n",
       "  <thead>\n",
       "    <tr style=\"text-align: right;\">\n",
       "      <th></th>\n",
       "      <th>TV</th>\n",
       "      <th>Radio</th>\n",
       "      <th>Social_Media</th>\n",
       "      <th>Sales</th>\n",
       "    </tr>\n",
       "  </thead>\n",
       "  <tbody>\n",
       "    <tr>\n",
       "      <th>TV</th>\n",
       "      <td>1.000000</td>\n",
       "      <td>0.869460</td>\n",
       "      <td>0.528168</td>\n",
       "      <td>0.999497</td>\n",
       "    </tr>\n",
       "    <tr>\n",
       "      <th>Radio</th>\n",
       "      <td>0.869460</td>\n",
       "      <td>1.000000</td>\n",
       "      <td>0.607452</td>\n",
       "      <td>0.869105</td>\n",
       "    </tr>\n",
       "    <tr>\n",
       "      <th>Social_Media</th>\n",
       "      <td>0.528168</td>\n",
       "      <td>0.607452</td>\n",
       "      <td>1.000000</td>\n",
       "      <td>0.528906</td>\n",
       "    </tr>\n",
       "    <tr>\n",
       "      <th>Sales</th>\n",
       "      <td>0.999497</td>\n",
       "      <td>0.869105</td>\n",
       "      <td>0.528906</td>\n",
       "      <td>1.000000</td>\n",
       "    </tr>\n",
       "  </tbody>\n",
       "</table>\n",
       "</div>"
      ],
      "text/plain": [
       "                    TV     Radio  Social_Media     Sales\n",
       "TV            1.000000  0.869460      0.528168  0.999497\n",
       "Radio         0.869460  1.000000      0.607452  0.869105\n",
       "Social_Media  0.528168  0.607452      1.000000  0.528906\n",
       "Sales         0.999497  0.869105      0.528906  1.000000"
      ]
     },
     "execution_count": 15,
     "metadata": {},
     "output_type": "execute_result"
    }
   ],
   "source": [
    "data01.corr()"
   ]
  },
  {
   "cell_type": "code",
   "execution_count": 19,
   "id": "9a3730c5",
   "metadata": {},
   "outputs": [
    {
     "data": {
      "text/plain": [
       "0.9995"
      ]
     },
     "execution_count": 19,
     "metadata": {},
     "output_type": "execute_result"
    }
   ],
   "source": [
    "round(data01.corr().drop('Sales')['Sales'].abs().max(), 4)"
   ]
  },
  {
   "cell_type": "code",
   "execution_count": 20,
   "id": "c200a72d",
   "metadata": {},
   "outputs": [],
   "source": [
    "# 답 : 0.9995"
   ]
  },
  {
   "cell_type": "code",
   "execution_count": 21,
   "id": "dfc5f14f",
   "metadata": {},
   "outputs": [
    {
     "data": {
      "text/plain": [
       "'TV'"
      ]
     },
     "execution_count": 21,
     "metadata": {},
     "output_type": "execute_result"
    }
   ],
   "source": [
    "data01.corr().drop('Sales')['Sales'].abs().idxmax()"
   ]
  },
  {
   "cell_type": "code",
   "execution_count": 23,
   "id": "67d1896c",
   "metadata": {},
   "outputs": [
    {
     "data": {
      "text/plain": [
       "Index(['TV', 'Radio'], dtype='object')"
      ]
     },
     "execution_count": 23,
     "metadata": {},
     "output_type": "execute_result"
    }
   ],
   "source": [
    "data01.corr().drop('Sales')['Sales'].abs().nlargest(2).index"
   ]
  },
  {
   "cell_type": "code",
   "execution_count": 24,
   "id": "8d490c4d",
   "metadata": {},
   "outputs": [
    {
     "data": {
      "text/plain": [
       "TV              0.999497\n",
       "Radio           0.869105\n",
       "Social_Media    0.528906\n",
       "Name: Sales, dtype: float64"
      ]
     },
     "execution_count": 24,
     "metadata": {},
     "output_type": "execute_result"
    }
   ],
   "source": [
    "cor_data = data01.corr().drop('Sales')['Sales'].abs()\n",
    "cor_data"
   ]
  },
  {
   "cell_type": "code",
   "execution_count": 25,
   "id": "1ee9bbba",
   "metadata": {},
   "outputs": [
    {
     "data": {
      "text/plain": [
       "Index(['TV', 'Radio', 'Social_Media'], dtype='object')"
      ]
     },
     "execution_count": 25,
     "metadata": {},
     "output_type": "execute_result"
    }
   ],
   "source": [
    "cor_data.index"
   ]
  },
  {
   "cell_type": "code",
   "execution_count": 26,
   "id": "dea66867",
   "metadata": {},
   "outputs": [
    {
     "data": {
      "text/plain": [
       "Index(['TV', 'Radio'], dtype='object')"
      ]
     },
     "execution_count": 26,
     "metadata": {},
     "output_type": "execute_result"
    }
   ],
   "source": [
    "cor_data.index[cor_data > 0.6]"
   ]
  },
  {
   "cell_type": "code",
   "execution_count": 27,
   "id": "36d00ccc",
   "metadata": {},
   "outputs": [],
   "source": [
    "# 3. 매출액을 종속변수, TV, Radio, Social Media의 예산을 독립변수로 하여 회귀분석을\n",
    "# 수행하였을 때, 세 개의 독립변수의 회귀계수를 큰 것에서부터 작은 것 순으로\n",
    "# 기술하시오. \n",
    "# - 분석 시 결측치가 포함된 행은 제거한 후 진행하며, 회귀계수는 소수점 넷째 자리\n",
    "# 이하는 버리고 소수점 셋째 자리까지 기술하시오. (답안 예시) 0.123"
   ]
  },
  {
   "cell_type": "code",
   "execution_count": 28,
   "id": "6abc507d",
   "metadata": {},
   "outputs": [],
   "source": [
    "q2 = data01.dropna()"
   ]
  },
  {
   "cell_type": "code",
   "execution_count": 29,
   "id": "cb0e0b9f",
   "metadata": {},
   "outputs": [],
   "source": [
    "from sklearn.linear_model import LinearRegression\n",
    "from statsmodels.formula.api import ols"
   ]
  },
  {
   "cell_type": "code",
   "execution_count": 31,
   "id": "67881fe9",
   "metadata": {},
   "outputs": [
    {
     "data": {
      "text/plain": [
       "LinearRegression()"
      ]
     },
     "execution_count": 31,
     "metadata": {},
     "output_type": "execute_result"
    }
   ],
   "source": [
    "var_list = ['TV', 'Radio', 'Social_Media']\n",
    "model = LinearRegression()\n",
    "model.fit(q2[var_list], q2.Sales)"
   ]
  },
  {
   "cell_type": "code",
   "execution_count": 32,
   "id": "d0a1820c",
   "metadata": {},
   "outputs": [
    {
     "data": {
      "text/plain": [
       "['__abstractmethods__',\n",
       " '__class__',\n",
       " '__delattr__',\n",
       " '__dict__',\n",
       " '__dir__',\n",
       " '__doc__',\n",
       " '__eq__',\n",
       " '__format__',\n",
       " '__ge__',\n",
       " '__getattribute__',\n",
       " '__getstate__',\n",
       " '__gt__',\n",
       " '__hash__',\n",
       " '__init__',\n",
       " '__init_subclass__',\n",
       " '__le__',\n",
       " '__lt__',\n",
       " '__module__',\n",
       " '__ne__',\n",
       " '__new__',\n",
       " '__reduce__',\n",
       " '__reduce_ex__',\n",
       " '__repr__',\n",
       " '__setattr__',\n",
       " '__setstate__',\n",
       " '__sizeof__',\n",
       " '__str__',\n",
       " '__subclasshook__',\n",
       " '__weakref__',\n",
       " '_abc_impl',\n",
       " '_check_feature_names',\n",
       " '_check_n_features',\n",
       " '_decision_function',\n",
       " '_estimator_type',\n",
       " '_get_param_names',\n",
       " '_get_tags',\n",
       " '_more_tags',\n",
       " '_preprocess_data',\n",
       " '_repr_html_',\n",
       " '_repr_html_inner',\n",
       " '_repr_mimebundle_',\n",
       " '_residues',\n",
       " '_set_intercept',\n",
       " '_validate_data',\n",
       " 'coef_',\n",
       " 'copy_X',\n",
       " 'feature_names_in_',\n",
       " 'fit',\n",
       " 'fit_intercept',\n",
       " 'get_params',\n",
       " 'intercept_',\n",
       " 'n_features_in_',\n",
       " 'n_jobs',\n",
       " 'normalize',\n",
       " 'positive',\n",
       " 'predict',\n",
       " 'rank_',\n",
       " 'score',\n",
       " 'set_params',\n",
       " 'singular_']"
      ]
     },
     "execution_count": 32,
     "metadata": {},
     "output_type": "execute_result"
    }
   ],
   "source": [
    "dir(model)"
   ]
  },
  {
   "cell_type": "code",
   "execution_count": 33,
   "id": "6c83d3df",
   "metadata": {},
   "outputs": [
    {
     "data": {
      "text/plain": [
       "array([ 3.56256963, -0.00397039,  0.00496402])"
      ]
     },
     "execution_count": 33,
     "metadata": {},
     "output_type": "execute_result"
    }
   ],
   "source": [
    "model.coef_"
   ]
  },
  {
   "cell_type": "code",
   "execution_count": 34,
   "id": "1e55567f",
   "metadata": {},
   "outputs": [
    {
     "data": {
      "text/plain": [
       "-0.1339630519422883"
      ]
     },
     "execution_count": 34,
     "metadata": {},
     "output_type": "execute_result"
    }
   ],
   "source": [
    "model.intercept_"
   ]
  },
  {
   "cell_type": "code",
   "execution_count": 39,
   "id": "2ab1f3ce",
   "metadata": {},
   "outputs": [],
   "source": [
    "form = 'Sales~' + '+'.join(var_list)"
   ]
  },
  {
   "cell_type": "code",
   "execution_count": 40,
   "id": "47220cea",
   "metadata": {},
   "outputs": [],
   "source": [
    "model2 = ols(form, data=q2).fit()"
   ]
  },
  {
   "cell_type": "code",
   "execution_count": 41,
   "id": "b02bf2c9",
   "metadata": {},
   "outputs": [
    {
     "data": {
      "text/html": [
       "<table class=\"simpletable\">\n",
       "<caption>OLS Regression Results</caption>\n",
       "<tr>\n",
       "  <th>Dep. Variable:</th>          <td>Sales</td>      <th>  R-squared:         </th> <td>   0.999</td> \n",
       "</tr>\n",
       "<tr>\n",
       "  <th>Model:</th>                   <td>OLS</td>       <th>  Adj. R-squared:    </th> <td>   0.999</td> \n",
       "</tr>\n",
       "<tr>\n",
       "  <th>Method:</th>             <td>Least Squares</td>  <th>  F-statistic:       </th> <td>1.505e+06</td>\n",
       "</tr>\n",
       "<tr>\n",
       "  <th>Date:</th>             <td>Mon, 21 Feb 2022</td> <th>  Prob (F-statistic):</th>  <td>  0.00</td>  \n",
       "</tr>\n",
       "<tr>\n",
       "  <th>Time:</th>                 <td>11:48:14</td>     <th>  Log-Likelihood:    </th> <td> -11366.</td> \n",
       "</tr>\n",
       "<tr>\n",
       "  <th>No. Observations:</th>      <td>  4546</td>      <th>  AIC:               </th> <td>2.274e+04</td>\n",
       "</tr>\n",
       "<tr>\n",
       "  <th>Df Residuals:</th>          <td>  4542</td>      <th>  BIC:               </th> <td>2.277e+04</td>\n",
       "</tr>\n",
       "<tr>\n",
       "  <th>Df Model:</th>              <td>     3</td>      <th>                     </th>     <td> </td>    \n",
       "</tr>\n",
       "<tr>\n",
       "  <th>Covariance Type:</th>      <td>nonrobust</td>    <th>                     </th>     <td> </td>    \n",
       "</tr>\n",
       "</table>\n",
       "<table class=\"simpletable\">\n",
       "<tr>\n",
       "        <td></td>          <th>coef</th>     <th>std err</th>      <th>t</th>      <th>P>|t|</th>  <th>[0.025</th>    <th>0.975]</th>  \n",
       "</tr>\n",
       "<tr>\n",
       "  <th>Intercept</th>    <td>   -0.1340</td> <td>    0.103</td> <td>   -1.303</td> <td> 0.193</td> <td>   -0.336</td> <td>    0.068</td>\n",
       "</tr>\n",
       "<tr>\n",
       "  <th>TV</th>           <td>    3.5626</td> <td>    0.003</td> <td> 1051.118</td> <td> 0.000</td> <td>    3.556</td> <td>    3.569</td>\n",
       "</tr>\n",
       "<tr>\n",
       "  <th>Radio</th>        <td>   -0.0040</td> <td>    0.010</td> <td>   -0.406</td> <td> 0.685</td> <td>   -0.023</td> <td>    0.015</td>\n",
       "</tr>\n",
       "<tr>\n",
       "  <th>Social_Media</th> <td>    0.0050</td> <td>    0.025</td> <td>    0.199</td> <td> 0.842</td> <td>   -0.044</td> <td>    0.054</td>\n",
       "</tr>\n",
       "</table>\n",
       "<table class=\"simpletable\">\n",
       "<tr>\n",
       "  <th>Omnibus:</th>       <td> 0.056</td> <th>  Durbin-Watson:     </th> <td>   1.998</td>\n",
       "</tr>\n",
       "<tr>\n",
       "  <th>Prob(Omnibus):</th> <td> 0.972</td> <th>  Jarque-Bera (JB):  </th> <td>   0.034</td>\n",
       "</tr>\n",
       "<tr>\n",
       "  <th>Skew:</th>          <td>-0.001</td> <th>  Prob(JB):          </th> <td>   0.983</td>\n",
       "</tr>\n",
       "<tr>\n",
       "  <th>Kurtosis:</th>      <td> 3.013</td> <th>  Cond. No.          </th> <td>    149.</td>\n",
       "</tr>\n",
       "</table><br/><br/>Notes:<br/>[1] Standard Errors assume that the covariance matrix of the errors is correctly specified."
      ],
      "text/plain": [
       "<class 'statsmodels.iolib.summary.Summary'>\n",
       "\"\"\"\n",
       "                            OLS Regression Results                            \n",
       "==============================================================================\n",
       "Dep. Variable:                  Sales   R-squared:                       0.999\n",
       "Model:                            OLS   Adj. R-squared:                  0.999\n",
       "Method:                 Least Squares   F-statistic:                 1.505e+06\n",
       "Date:                Mon, 21 Feb 2022   Prob (F-statistic):               0.00\n",
       "Time:                        11:48:14   Log-Likelihood:                -11366.\n",
       "No. Observations:                4546   AIC:                         2.274e+04\n",
       "Df Residuals:                    4542   BIC:                         2.277e+04\n",
       "Df Model:                           3                                         \n",
       "Covariance Type:            nonrobust                                         \n",
       "================================================================================\n",
       "                   coef    std err          t      P>|t|      [0.025      0.975]\n",
       "--------------------------------------------------------------------------------\n",
       "Intercept       -0.1340      0.103     -1.303      0.193      -0.336       0.068\n",
       "TV               3.5626      0.003   1051.118      0.000       3.556       3.569\n",
       "Radio           -0.0040      0.010     -0.406      0.685      -0.023       0.015\n",
       "Social_Media     0.0050      0.025      0.199      0.842      -0.044       0.054\n",
       "==============================================================================\n",
       "Omnibus:                        0.056   Durbin-Watson:                   1.998\n",
       "Prob(Omnibus):                  0.972   Jarque-Bera (JB):                0.034\n",
       "Skew:                          -0.001   Prob(JB):                        0.983\n",
       "Kurtosis:                       3.013   Cond. No.                         149.\n",
       "==============================================================================\n",
       "\n",
       "Notes:\n",
       "[1] Standard Errors assume that the covariance matrix of the errors is correctly specified.\n",
       "\"\"\""
      ]
     },
     "execution_count": 41,
     "metadata": {},
     "output_type": "execute_result"
    }
   ],
   "source": [
    "model2.summary()"
   ]
  },
  {
   "cell_type": "code",
   "execution_count": 45,
   "id": "7d0ec1f2",
   "metadata": {},
   "outputs": [
    {
     "data": {
      "text/plain": [
       "TV              3.562570\n",
       "Radio          -0.003970\n",
       "Social_Media    0.004964\n",
       "dtype: float64"
      ]
     },
     "execution_count": 45,
     "metadata": {},
     "output_type": "execute_result"
    }
   ],
   "source": [
    "coef_value = model2.params.drop('Intercept')\n",
    "coef_value"
   ]
  },
  {
   "cell_type": "code",
   "execution_count": 46,
   "id": "5e705a20",
   "metadata": {},
   "outputs": [
    {
     "data": {
      "text/plain": [
       "TV              3.562570\n",
       "Social_Media    0.004964\n",
       "Radio          -0.003970\n",
       "dtype: float64"
      ]
     },
     "execution_count": 46,
     "metadata": {},
     "output_type": "execute_result"
    }
   ],
   "source": [
    "coef_value.sort_values(ascending=False)"
   ]
  },
  {
   "cell_type": "code",
   "execution_count": 47,
   "id": "a75bec2e",
   "metadata": {},
   "outputs": [
    {
     "data": {
      "text/plain": [
       "Index(['TV', 'Social_Media', 'Radio'], dtype='object')"
      ]
     },
     "execution_count": 47,
     "metadata": {},
     "output_type": "execute_result"
    }
   ],
   "source": [
    "coef_value.sort_values(ascending=False).index"
   ]
  },
  {
   "cell_type": "code",
   "execution_count": 52,
   "id": "e75f9ff3",
   "metadata": {},
   "outputs": [
    {
     "data": {
      "text/plain": [
       "array([ 3.56256963,  0.00496402, -0.00397039])"
      ]
     },
     "execution_count": 52,
     "metadata": {},
     "output_type": "execute_result"
    }
   ],
   "source": [
    "result = coef_value.sort_values(ascending=False).values\n",
    "result"
   ]
  },
  {
   "cell_type": "code",
   "execution_count": 53,
   "id": "e42e4d87",
   "metadata": {},
   "outputs": [],
   "source": [
    "# 답 : 3.562, 0.004, -0.003"
   ]
  },
  {
   "cell_type": "code",
   "execution_count": 54,
   "id": "3b77929c",
   "metadata": {},
   "outputs": [
    {
     "data": {
      "text/plain": [
       "(4572,)"
      ]
     },
     "execution_count": 54,
     "metadata": {},
     "output_type": "execute_result"
    }
   ],
   "source": [
    "data01['Sales'].shape"
   ]
  },
  {
   "cell_type": "code",
   "execution_count": 58,
   "id": "3851864d",
   "metadata": {},
   "outputs": [
    {
     "data": {
      "text/plain": [
       "array([[ 54.73275715],\n",
       "       [ 46.67789698],\n",
       "       [150.1778288 ],\n",
       "       ...,\n",
       "       [163.6314574 ],\n",
       "       [253.6104113 ],\n",
       "       [148.2024141 ]])"
      ]
     },
     "execution_count": 58,
     "metadata": {},
     "output_type": "execute_result"
    }
   ],
   "source": [
    "data01['Sales'].values.reshape(-1, 1)"
   ]
  },
  {
   "cell_type": "code",
   "execution_count": 60,
   "id": "2641f9c6",
   "metadata": {},
   "outputs": [
    {
     "data": {
      "text/plain": [
       "(4572, 1)"
      ]
     },
     "execution_count": 60,
     "metadata": {},
     "output_type": "execute_result"
    }
   ],
   "source": [
    "data01[['Sales']].shape"
   ]
  },
  {
   "cell_type": "code",
   "execution_count": 61,
   "id": "77927665",
   "metadata": {},
   "outputs": [
    {
     "data": {
      "text/html": [
       "<div>\n",
       "<style scoped>\n",
       "    .dataframe tbody tr th:only-of-type {\n",
       "        vertical-align: middle;\n",
       "    }\n",
       "\n",
       "    .dataframe tbody tr th {\n",
       "        vertical-align: top;\n",
       "    }\n",
       "\n",
       "    .dataframe thead th {\n",
       "        text-align: right;\n",
       "    }\n",
       "</style>\n",
       "<table border=\"1\" class=\"dataframe\">\n",
       "  <thead>\n",
       "    <tr style=\"text-align: right;\">\n",
       "      <th></th>\n",
       "      <th>Sales</th>\n",
       "    </tr>\n",
       "  </thead>\n",
       "  <tbody>\n",
       "    <tr>\n",
       "      <th>0</th>\n",
       "      <td>54.732757</td>\n",
       "    </tr>\n",
       "    <tr>\n",
       "      <th>1</th>\n",
       "      <td>46.677897</td>\n",
       "    </tr>\n",
       "    <tr>\n",
       "      <th>2</th>\n",
       "      <td>150.177829</td>\n",
       "    </tr>\n",
       "    <tr>\n",
       "      <th>3</th>\n",
       "      <td>298.246340</td>\n",
       "    </tr>\n",
       "    <tr>\n",
       "      <th>4</th>\n",
       "      <td>56.594181</td>\n",
       "    </tr>\n",
       "    <tr>\n",
       "      <th>...</th>\n",
       "      <td>...</td>\n",
       "    </tr>\n",
       "    <tr>\n",
       "      <th>4567</th>\n",
       "      <td>94.685866</td>\n",
       "    </tr>\n",
       "    <tr>\n",
       "      <th>4568</th>\n",
       "      <td>249.101915</td>\n",
       "    </tr>\n",
       "    <tr>\n",
       "      <th>4569</th>\n",
       "      <td>163.631457</td>\n",
       "    </tr>\n",
       "    <tr>\n",
       "      <th>4570</th>\n",
       "      <td>253.610411</td>\n",
       "    </tr>\n",
       "    <tr>\n",
       "      <th>4571</th>\n",
       "      <td>148.202414</td>\n",
       "    </tr>\n",
       "  </tbody>\n",
       "</table>\n",
       "<p>4572 rows × 1 columns</p>\n",
       "</div>"
      ],
      "text/plain": [
       "           Sales\n",
       "0      54.732757\n",
       "1      46.677897\n",
       "2     150.177829\n",
       "3     298.246340\n",
       "4      56.594181\n",
       "...          ...\n",
       "4567   94.685866\n",
       "4568  249.101915\n",
       "4569  163.631457\n",
       "4570  253.610411\n",
       "4571  148.202414\n",
       "\n",
       "[4572 rows x 1 columns]"
      ]
     },
     "execution_count": 61,
     "metadata": {},
     "output_type": "execute_result"
    }
   ],
   "source": [
    "data01[['Sales']]"
   ]
  },
  {
   "cell_type": "code",
   "execution_count": 62,
   "id": "66d8d447",
   "metadata": {},
   "outputs": [
    {
     "data": {
      "text/html": [
       "<div>\n",
       "<style scoped>\n",
       "    .dataframe tbody tr th:only-of-type {\n",
       "        vertical-align: middle;\n",
       "    }\n",
       "\n",
       "    .dataframe tbody tr th {\n",
       "        vertical-align: top;\n",
       "    }\n",
       "\n",
       "    .dataframe thead th {\n",
       "        text-align: right;\n",
       "    }\n",
       "</style>\n",
       "<table border=\"1\" class=\"dataframe\">\n",
       "  <thead>\n",
       "    <tr style=\"text-align: right;\">\n",
       "      <th></th>\n",
       "      <th>TV</th>\n",
       "      <th>Radio</th>\n",
       "      <th>Social_Media</th>\n",
       "      <th>Influencer</th>\n",
       "      <th>Sales</th>\n",
       "    </tr>\n",
       "  </thead>\n",
       "  <tbody>\n",
       "    <tr>\n",
       "      <th>0</th>\n",
       "      <td>16.0</td>\n",
       "      <td>6.566231</td>\n",
       "      <td>2.907983</td>\n",
       "      <td>Mega</td>\n",
       "      <td>54.732757</td>\n",
       "    </tr>\n",
       "    <tr>\n",
       "      <th>1</th>\n",
       "      <td>13.0</td>\n",
       "      <td>9.237765</td>\n",
       "      <td>2.409567</td>\n",
       "      <td>Mega</td>\n",
       "      <td>46.677897</td>\n",
       "    </tr>\n",
       "    <tr>\n",
       "      <th>2</th>\n",
       "      <td>41.0</td>\n",
       "      <td>15.886446</td>\n",
       "      <td>2.913410</td>\n",
       "      <td>Mega</td>\n",
       "      <td>150.177829</td>\n",
       "    </tr>\n",
       "    <tr>\n",
       "      <th>3</th>\n",
       "      <td>83.0</td>\n",
       "      <td>30.020028</td>\n",
       "      <td>6.922304</td>\n",
       "      <td>Mega</td>\n",
       "      <td>298.246340</td>\n",
       "    </tr>\n",
       "    <tr>\n",
       "      <th>4</th>\n",
       "      <td>15.0</td>\n",
       "      <td>8.437408</td>\n",
       "      <td>1.405998</td>\n",
       "      <td>Micro</td>\n",
       "      <td>56.594181</td>\n",
       "    </tr>\n",
       "    <tr>\n",
       "      <th>...</th>\n",
       "      <td>...</td>\n",
       "      <td>...</td>\n",
       "      <td>...</td>\n",
       "      <td>...</td>\n",
       "      <td>...</td>\n",
       "    </tr>\n",
       "    <tr>\n",
       "      <th>4567</th>\n",
       "      <td>26.0</td>\n",
       "      <td>4.472360</td>\n",
       "      <td>0.717090</td>\n",
       "      <td>Micro</td>\n",
       "      <td>94.685866</td>\n",
       "    </tr>\n",
       "    <tr>\n",
       "      <th>4568</th>\n",
       "      <td>71.0</td>\n",
       "      <td>20.610685</td>\n",
       "      <td>6.545573</td>\n",
       "      <td>Nano</td>\n",
       "      <td>249.101915</td>\n",
       "    </tr>\n",
       "    <tr>\n",
       "      <th>4569</th>\n",
       "      <td>44.0</td>\n",
       "      <td>19.800072</td>\n",
       "      <td>5.096192</td>\n",
       "      <td>Micro</td>\n",
       "      <td>163.631457</td>\n",
       "    </tr>\n",
       "    <tr>\n",
       "      <th>4570</th>\n",
       "      <td>71.0</td>\n",
       "      <td>17.534640</td>\n",
       "      <td>1.940873</td>\n",
       "      <td>Macro</td>\n",
       "      <td>253.610411</td>\n",
       "    </tr>\n",
       "    <tr>\n",
       "      <th>4571</th>\n",
       "      <td>42.0</td>\n",
       "      <td>15.966688</td>\n",
       "      <td>5.046548</td>\n",
       "      <td>Micro</td>\n",
       "      <td>148.202414</td>\n",
       "    </tr>\n",
       "  </tbody>\n",
       "</table>\n",
       "<p>4546 rows × 5 columns</p>\n",
       "</div>"
      ],
      "text/plain": [
       "        TV      Radio  Social_Media Influencer       Sales\n",
       "0     16.0   6.566231      2.907983       Mega   54.732757\n",
       "1     13.0   9.237765      2.409567       Mega   46.677897\n",
       "2     41.0  15.886446      2.913410       Mega  150.177829\n",
       "3     83.0  30.020028      6.922304       Mega  298.246340\n",
       "4     15.0   8.437408      1.405998      Micro   56.594181\n",
       "...    ...        ...           ...        ...         ...\n",
       "4567  26.0   4.472360      0.717090      Micro   94.685866\n",
       "4568  71.0  20.610685      6.545573       Nano  249.101915\n",
       "4569  44.0  19.800072      5.096192      Micro  163.631457\n",
       "4570  71.0  17.534640      1.940873      Macro  253.610411\n",
       "4571  42.0  15.966688      5.046548      Micro  148.202414\n",
       "\n",
       "[4546 rows x 5 columns]"
      ]
     },
     "execution_count": 62,
     "metadata": {},
     "output_type": "execute_result"
    }
   ],
   "source": [
    "q2"
   ]
  },
  {
   "cell_type": "code",
   "execution_count": 63,
   "id": "9470f4c8",
   "metadata": {},
   "outputs": [
    {
     "data": {
      "text/plain": [
       "Int64Index([   0,    1,    2,    3,    4,    5,    6,    7,    8,    9,\n",
       "            ...\n",
       "            4562, 4563, 4564, 4565, 4566, 4567, 4568, 4569, 4570, 4571],\n",
       "           dtype='int64', length=4546)"
      ]
     },
     "execution_count": 63,
     "metadata": {},
     "output_type": "execute_result"
    }
   ],
   "source": [
    "q2.index"
   ]
  },
  {
   "cell_type": "code",
   "execution_count": 64,
   "id": "08d1e6de",
   "metadata": {},
   "outputs": [
    {
     "data": {
      "text/plain": [
       "Int64Index([  93,  130,  136,  162,  179,  188,  199,  237,  247,  261,\n",
       "            ...\n",
       "            4405, 4412, 4414, 4419, 4428, 4433, 4448, 4452, 4477, 4569],\n",
       "           dtype='int64', length=219)"
      ]
     },
     "execution_count": 64,
     "metadata": {},
     "output_type": "execute_result"
    }
   ],
   "source": [
    "q2.index[model2.outlier_test()['unadj_p']<0.05]"
   ]
  },
  {
   "cell_type": "code",
   "execution_count": 65,
   "id": "31ff0ab1",
   "metadata": {},
   "outputs": [
    {
     "data": {
      "text/html": [
       "<div>\n",
       "<style scoped>\n",
       "    .dataframe tbody tr th:only-of-type {\n",
       "        vertical-align: middle;\n",
       "    }\n",
       "\n",
       "    .dataframe tbody tr th {\n",
       "        vertical-align: top;\n",
       "    }\n",
       "\n",
       "    .dataframe thead th {\n",
       "        text-align: right;\n",
       "    }\n",
       "</style>\n",
       "<table border=\"1\" class=\"dataframe\">\n",
       "  <thead>\n",
       "    <tr style=\"text-align: right;\">\n",
       "      <th></th>\n",
       "      <th>student_resid</th>\n",
       "      <th>unadj_p</th>\n",
       "      <th>bonf(p)</th>\n",
       "    </tr>\n",
       "  </thead>\n",
       "  <tbody>\n",
       "    <tr>\n",
       "      <th>0</th>\n",
       "      <td>-0.719867</td>\n",
       "      <td>0.471644</td>\n",
       "      <td>1.0</td>\n",
       "    </tr>\n",
       "    <tr>\n",
       "      <th>1</th>\n",
       "      <td>0.177422</td>\n",
       "      <td>0.859185</td>\n",
       "      <td>1.0</td>\n",
       "    </tr>\n",
       "    <tr>\n",
       "      <th>2</th>\n",
       "      <td>1.456438</td>\n",
       "      <td>0.145341</td>\n",
       "      <td>1.0</td>\n",
       "    </tr>\n",
       "    <tr>\n",
       "      <th>3</th>\n",
       "      <td>0.940040</td>\n",
       "      <td>0.347247</td>\n",
       "      <td>1.0</td>\n",
       "    </tr>\n",
       "    <tr>\n",
       "      <th>4</th>\n",
       "      <td>1.124662</td>\n",
       "      <td>0.260792</td>\n",
       "      <td>1.0</td>\n",
       "    </tr>\n",
       "    <tr>\n",
       "      <th>...</th>\n",
       "      <td>...</td>\n",
       "      <td>...</td>\n",
       "      <td>...</td>\n",
       "    </tr>\n",
       "    <tr>\n",
       "      <th>4567</th>\n",
       "      <td>0.748484</td>\n",
       "      <td>0.454207</td>\n",
       "      <td>1.0</td>\n",
       "    </tr>\n",
       "    <tr>\n",
       "      <th>4568</th>\n",
       "      <td>-1.240494</td>\n",
       "      <td>0.214857</td>\n",
       "      <td>1.0</td>\n",
       "    </tr>\n",
       "    <tr>\n",
       "      <th>4569</th>\n",
       "      <td>2.397313</td>\n",
       "      <td>0.016556</td>\n",
       "      <td>1.0</td>\n",
       "    </tr>\n",
       "    <tr>\n",
       "      <th>4570</th>\n",
       "      <td>0.292277</td>\n",
       "      <td>0.770088</td>\n",
       "      <td>1.0</td>\n",
       "    </tr>\n",
       "    <tr>\n",
       "      <th>4571</th>\n",
       "      <td>-0.424926</td>\n",
       "      <td>0.670911</td>\n",
       "      <td>1.0</td>\n",
       "    </tr>\n",
       "  </tbody>\n",
       "</table>\n",
       "<p>4546 rows × 3 columns</p>\n",
       "</div>"
      ],
      "text/plain": [
       "      student_resid   unadj_p  bonf(p)\n",
       "0         -0.719867  0.471644      1.0\n",
       "1          0.177422  0.859185      1.0\n",
       "2          1.456438  0.145341      1.0\n",
       "3          0.940040  0.347247      1.0\n",
       "4          1.124662  0.260792      1.0\n",
       "...             ...       ...      ...\n",
       "4567       0.748484  0.454207      1.0\n",
       "4568      -1.240494  0.214857      1.0\n",
       "4569       2.397313  0.016556      1.0\n",
       "4570       0.292277  0.770088      1.0\n",
       "4571      -0.424926  0.670911      1.0\n",
       "\n",
       "[4546 rows x 3 columns]"
      ]
     },
     "execution_count": 65,
     "metadata": {},
     "output_type": "execute_result"
    }
   ],
   "source": [
    "model2.outlier_test()"
   ]
  },
  {
   "cell_type": "code",
   "execution_count": 66,
   "id": "07f7bef4",
   "metadata": {},
   "outputs": [
    {
     "data": {
      "text/html": [
       "<table class=\"simpletable\">\n",
       "<caption>OLS Regression Results</caption>\n",
       "<tr>\n",
       "  <th>Dep. Variable:</th>          <td>Sales</td>      <th>  R-squared:         </th> <td>   0.999</td> \n",
       "</tr>\n",
       "<tr>\n",
       "  <th>Model:</th>                   <td>OLS</td>       <th>  Adj. R-squared:    </th> <td>   0.999</td> \n",
       "</tr>\n",
       "<tr>\n",
       "  <th>Method:</th>             <td>Least Squares</td>  <th>  F-statistic:       </th> <td>1.505e+06</td>\n",
       "</tr>\n",
       "<tr>\n",
       "  <th>Date:</th>             <td>Mon, 21 Feb 2022</td> <th>  Prob (F-statistic):</th>  <td>  0.00</td>  \n",
       "</tr>\n",
       "<tr>\n",
       "  <th>Time:</th>                 <td>11:57:45</td>     <th>  Log-Likelihood:    </th> <td> -11366.</td> \n",
       "</tr>\n",
       "<tr>\n",
       "  <th>No. Observations:</th>      <td>  4546</td>      <th>  AIC:               </th> <td>2.274e+04</td>\n",
       "</tr>\n",
       "<tr>\n",
       "  <th>Df Residuals:</th>          <td>  4542</td>      <th>  BIC:               </th> <td>2.277e+04</td>\n",
       "</tr>\n",
       "<tr>\n",
       "  <th>Df Model:</th>              <td>     3</td>      <th>                     </th>     <td> </td>    \n",
       "</tr>\n",
       "<tr>\n",
       "  <th>Covariance Type:</th>      <td>nonrobust</td>    <th>                     </th>     <td> </td>    \n",
       "</tr>\n",
       "</table>\n",
       "<table class=\"simpletable\">\n",
       "<tr>\n",
       "        <td></td>          <th>coef</th>     <th>std err</th>      <th>t</th>      <th>P>|t|</th>  <th>[0.025</th>    <th>0.975]</th>  \n",
       "</tr>\n",
       "<tr>\n",
       "  <th>Intercept</th>    <td>   -0.1340</td> <td>    0.103</td> <td>   -1.303</td> <td> 0.193</td> <td>   -0.336</td> <td>    0.068</td>\n",
       "</tr>\n",
       "<tr>\n",
       "  <th>TV</th>           <td>    3.5626</td> <td>    0.003</td> <td> 1051.118</td> <td> 0.000</td> <td>    3.556</td> <td>    3.569</td>\n",
       "</tr>\n",
       "<tr>\n",
       "  <th>Radio</th>        <td>   -0.0040</td> <td>    0.010</td> <td>   -0.406</td> <td> 0.685</td> <td>   -0.023</td> <td>    0.015</td>\n",
       "</tr>\n",
       "<tr>\n",
       "  <th>Social_Media</th> <td>    0.0050</td> <td>    0.025</td> <td>    0.199</td> <td> 0.842</td> <td>   -0.044</td> <td>    0.054</td>\n",
       "</tr>\n",
       "</table>\n",
       "<table class=\"simpletable\">\n",
       "<tr>\n",
       "  <th>Omnibus:</th>       <td> 0.056</td> <th>  Durbin-Watson:     </th> <td>   1.998</td>\n",
       "</tr>\n",
       "<tr>\n",
       "  <th>Prob(Omnibus):</th> <td> 0.972</td> <th>  Jarque-Bera (JB):  </th> <td>   0.034</td>\n",
       "</tr>\n",
       "<tr>\n",
       "  <th>Skew:</th>          <td>-0.001</td> <th>  Prob(JB):          </th> <td>   0.983</td>\n",
       "</tr>\n",
       "<tr>\n",
       "  <th>Kurtosis:</th>      <td> 3.013</td> <th>  Cond. No.          </th> <td>    149.</td>\n",
       "</tr>\n",
       "</table><br/><br/>Notes:<br/>[1] Standard Errors assume that the covariance matrix of the errors is correctly specified."
      ],
      "text/plain": [
       "<class 'statsmodels.iolib.summary.Summary'>\n",
       "\"\"\"\n",
       "                            OLS Regression Results                            \n",
       "==============================================================================\n",
       "Dep. Variable:                  Sales   R-squared:                       0.999\n",
       "Model:                            OLS   Adj. R-squared:                  0.999\n",
       "Method:                 Least Squares   F-statistic:                 1.505e+06\n",
       "Date:                Mon, 21 Feb 2022   Prob (F-statistic):               0.00\n",
       "Time:                        11:57:45   Log-Likelihood:                -11366.\n",
       "No. Observations:                4546   AIC:                         2.274e+04\n",
       "Df Residuals:                    4542   BIC:                         2.277e+04\n",
       "Df Model:                           3                                         \n",
       "Covariance Type:            nonrobust                                         \n",
       "================================================================================\n",
       "                   coef    std err          t      P>|t|      [0.025      0.975]\n",
       "--------------------------------------------------------------------------------\n",
       "Intercept       -0.1340      0.103     -1.303      0.193      -0.336       0.068\n",
       "TV               3.5626      0.003   1051.118      0.000       3.556       3.569\n",
       "Radio           -0.0040      0.010     -0.406      0.685      -0.023       0.015\n",
       "Social_Media     0.0050      0.025      0.199      0.842      -0.044       0.054\n",
       "==============================================================================\n",
       "Omnibus:                        0.056   Durbin-Watson:                   1.998\n",
       "Prob(Omnibus):                  0.972   Jarque-Bera (JB):                0.034\n",
       "Skew:                          -0.001   Prob(JB):                        0.983\n",
       "Kurtosis:                       3.013   Cond. No.                         149.\n",
       "==============================================================================\n",
       "\n",
       "Notes:\n",
       "[1] Standard Errors assume that the covariance matrix of the errors is correctly specified.\n",
       "\"\"\""
      ]
     },
     "execution_count": 66,
     "metadata": {},
     "output_type": "execute_result"
    }
   ],
   "source": [
    "model2.summary()"
   ]
  },
  {
   "cell_type": "code",
   "execution_count": 67,
   "id": "2c7147c0",
   "metadata": {},
   "outputs": [],
   "source": [
    "# # 문제 02 유형(DataSet_02.csv 이용)\n",
    "# 구분자 : comma(“,”), 200 Rows, 6 Columns, UTF-8 인코딩\n",
    "\n",
    "# 환자의 상태와 그에 따라 처방된 약에 대한 정보를 분석하고자한다\n",
    "# \n",
    "# 컬 럼 / 정 의  / Type\n",
    "# Age  / 연령 / Integer\n",
    "# Sex / 성별 / String\n",
    "# BP / 혈압 레벨 / String\n",
    "# Cholesterol / 콜레스테롤 레벨 /  String\n",
    "# Na_to_k / 혈액 내 칼륨에 대비한 나트륨 비율 / Double\n",
    "# Drug / Drug Type / String"
   ]
  },
  {
   "cell_type": "code",
   "execution_count": 68,
   "id": "89bd7dab",
   "metadata": {},
   "outputs": [],
   "source": [
    "import pandas as pd\n",
    "import numpy as np"
   ]
  },
  {
   "cell_type": "code",
   "execution_count": 69,
   "id": "a7b39b87",
   "metadata": {},
   "outputs": [
    {
     "data": {
      "text/html": [
       "<div>\n",
       "<style scoped>\n",
       "    .dataframe tbody tr th:only-of-type {\n",
       "        vertical-align: middle;\n",
       "    }\n",
       "\n",
       "    .dataframe tbody tr th {\n",
       "        vertical-align: top;\n",
       "    }\n",
       "\n",
       "    .dataframe thead th {\n",
       "        text-align: right;\n",
       "    }\n",
       "</style>\n",
       "<table border=\"1\" class=\"dataframe\">\n",
       "  <thead>\n",
       "    <tr style=\"text-align: right;\">\n",
       "      <th></th>\n",
       "      <th>Age</th>\n",
       "      <th>Sex</th>\n",
       "      <th>BP</th>\n",
       "      <th>Cholesterol</th>\n",
       "      <th>Na_to_K</th>\n",
       "      <th>Drug</th>\n",
       "    </tr>\n",
       "  </thead>\n",
       "  <tbody>\n",
       "    <tr>\n",
       "      <th>0</th>\n",
       "      <td>23</td>\n",
       "      <td>F</td>\n",
       "      <td>HIGH</td>\n",
       "      <td>HIGH</td>\n",
       "      <td>25.355</td>\n",
       "      <td>DrugY</td>\n",
       "    </tr>\n",
       "    <tr>\n",
       "      <th>1</th>\n",
       "      <td>47</td>\n",
       "      <td>M</td>\n",
       "      <td>LOW</td>\n",
       "      <td>HIGH</td>\n",
       "      <td>13.093</td>\n",
       "      <td>drugC</td>\n",
       "    </tr>\n",
       "    <tr>\n",
       "      <th>2</th>\n",
       "      <td>47</td>\n",
       "      <td>M</td>\n",
       "      <td>LOW</td>\n",
       "      <td>HIGH</td>\n",
       "      <td>10.114</td>\n",
       "      <td>drugC</td>\n",
       "    </tr>\n",
       "    <tr>\n",
       "      <th>3</th>\n",
       "      <td>28</td>\n",
       "      <td>F</td>\n",
       "      <td>NORMAL</td>\n",
       "      <td>HIGH</td>\n",
       "      <td>7.798</td>\n",
       "      <td>drugX</td>\n",
       "    </tr>\n",
       "    <tr>\n",
       "      <th>4</th>\n",
       "      <td>61</td>\n",
       "      <td>F</td>\n",
       "      <td>LOW</td>\n",
       "      <td>HIGH</td>\n",
       "      <td>18.043</td>\n",
       "      <td>DrugY</td>\n",
       "    </tr>\n",
       "    <tr>\n",
       "      <th>...</th>\n",
       "      <td>...</td>\n",
       "      <td>...</td>\n",
       "      <td>...</td>\n",
       "      <td>...</td>\n",
       "      <td>...</td>\n",
       "      <td>...</td>\n",
       "    </tr>\n",
       "    <tr>\n",
       "      <th>195</th>\n",
       "      <td>56</td>\n",
       "      <td>F</td>\n",
       "      <td>LOW</td>\n",
       "      <td>HIGH</td>\n",
       "      <td>11.567</td>\n",
       "      <td>drugC</td>\n",
       "    </tr>\n",
       "    <tr>\n",
       "      <th>196</th>\n",
       "      <td>16</td>\n",
       "      <td>M</td>\n",
       "      <td>LOW</td>\n",
       "      <td>HIGH</td>\n",
       "      <td>12.006</td>\n",
       "      <td>drugC</td>\n",
       "    </tr>\n",
       "    <tr>\n",
       "      <th>197</th>\n",
       "      <td>52</td>\n",
       "      <td>M</td>\n",
       "      <td>NORMAL</td>\n",
       "      <td>HIGH</td>\n",
       "      <td>9.894</td>\n",
       "      <td>drugX</td>\n",
       "    </tr>\n",
       "    <tr>\n",
       "      <th>198</th>\n",
       "      <td>23</td>\n",
       "      <td>M</td>\n",
       "      <td>NORMAL</td>\n",
       "      <td>NORMAL</td>\n",
       "      <td>14.020</td>\n",
       "      <td>drugX</td>\n",
       "    </tr>\n",
       "    <tr>\n",
       "      <th>199</th>\n",
       "      <td>40</td>\n",
       "      <td>F</td>\n",
       "      <td>LOW</td>\n",
       "      <td>NORMAL</td>\n",
       "      <td>11.349</td>\n",
       "      <td>drugX</td>\n",
       "    </tr>\n",
       "  </tbody>\n",
       "</table>\n",
       "<p>200 rows × 6 columns</p>\n",
       "</div>"
      ],
      "text/plain": [
       "     Age Sex      BP Cholesterol  Na_to_K   Drug\n",
       "0     23   F    HIGH        HIGH   25.355  DrugY\n",
       "1     47   M     LOW        HIGH   13.093  drugC\n",
       "2     47   M     LOW        HIGH   10.114  drugC\n",
       "3     28   F  NORMAL        HIGH    7.798  drugX\n",
       "4     61   F     LOW        HIGH   18.043  DrugY\n",
       "..   ...  ..     ...         ...      ...    ...\n",
       "195   56   F     LOW        HIGH   11.567  drugC\n",
       "196   16   M     LOW        HIGH   12.006  drugC\n",
       "197   52   M  NORMAL        HIGH    9.894  drugX\n",
       "198   23   M  NORMAL      NORMAL   14.020  drugX\n",
       "199   40   F     LOW      NORMAL   11.349  drugX\n",
       "\n",
       "[200 rows x 6 columns]"
      ]
     },
     "execution_count": 69,
     "metadata": {},
     "output_type": "execute_result"
    }
   ],
   "source": [
    "data02 = pd.read_csv('../Dataset/Dataset_02.csv')\n",
    "data02"
   ]
  },
  {
   "cell_type": "code",
   "execution_count": 70,
   "id": "d062ef62",
   "metadata": {},
   "outputs": [],
   "source": [
    "# 1.해당 데이터에 대한 EDA를 수행하고, 여성으로 혈압이 High, Cholesterol이 Normal인\n",
    "# 환자의 전체에 대비한 비율이 얼마인지 소수점 네 번째 자리에서 반올림하여 소수점 셋째\n",
    "# 자리까지 기술하시오. (답안 예시) 0.123"
   ]
  },
  {
   "cell_type": "code",
   "execution_count": 71,
   "id": "6c600680",
   "metadata": {},
   "outputs": [
    {
     "data": {
      "text/plain": [
       "Index(['Age', 'Sex', 'BP', 'Cholesterol', 'Na_to_K', 'Drug'], dtype='object')"
      ]
     },
     "execution_count": 71,
     "metadata": {},
     "output_type": "execute_result"
    }
   ],
   "source": [
    "data02.columns"
   ]
  },
  {
   "cell_type": "code",
   "execution_count": 72,
   "id": "11903ffd",
   "metadata": {},
   "outputs": [
    {
     "data": {
      "text/html": [
       "<div>\n",
       "<style scoped>\n",
       "    .dataframe tbody tr th:only-of-type {\n",
       "        vertical-align: middle;\n",
       "    }\n",
       "\n",
       "    .dataframe tbody tr th {\n",
       "        vertical-align: top;\n",
       "    }\n",
       "\n",
       "    .dataframe thead th {\n",
       "        text-align: right;\n",
       "    }\n",
       "</style>\n",
       "<table border=\"1\" class=\"dataframe\">\n",
       "  <thead>\n",
       "    <tr style=\"text-align: right;\">\n",
       "      <th></th>\n",
       "      <th>Sex</th>\n",
       "      <th>BP</th>\n",
       "      <th>Cholesterol</th>\n",
       "    </tr>\n",
       "  </thead>\n",
       "  <tbody>\n",
       "    <tr>\n",
       "      <th>0</th>\n",
       "      <td>F</td>\n",
       "      <td>HIGH</td>\n",
       "      <td>HIGH</td>\n",
       "    </tr>\n",
       "    <tr>\n",
       "      <th>1</th>\n",
       "      <td>M</td>\n",
       "      <td>LOW</td>\n",
       "      <td>HIGH</td>\n",
       "    </tr>\n",
       "    <tr>\n",
       "      <th>2</th>\n",
       "      <td>M</td>\n",
       "      <td>LOW</td>\n",
       "      <td>HIGH</td>\n",
       "    </tr>\n",
       "    <tr>\n",
       "      <th>3</th>\n",
       "      <td>F</td>\n",
       "      <td>NORMAL</td>\n",
       "      <td>HIGH</td>\n",
       "    </tr>\n",
       "    <tr>\n",
       "      <th>4</th>\n",
       "      <td>F</td>\n",
       "      <td>LOW</td>\n",
       "      <td>HIGH</td>\n",
       "    </tr>\n",
       "    <tr>\n",
       "      <th>...</th>\n",
       "      <td>...</td>\n",
       "      <td>...</td>\n",
       "      <td>...</td>\n",
       "    </tr>\n",
       "    <tr>\n",
       "      <th>195</th>\n",
       "      <td>F</td>\n",
       "      <td>LOW</td>\n",
       "      <td>HIGH</td>\n",
       "    </tr>\n",
       "    <tr>\n",
       "      <th>196</th>\n",
       "      <td>M</td>\n",
       "      <td>LOW</td>\n",
       "      <td>HIGH</td>\n",
       "    </tr>\n",
       "    <tr>\n",
       "      <th>197</th>\n",
       "      <td>M</td>\n",
       "      <td>NORMAL</td>\n",
       "      <td>HIGH</td>\n",
       "    </tr>\n",
       "    <tr>\n",
       "      <th>198</th>\n",
       "      <td>M</td>\n",
       "      <td>NORMAL</td>\n",
       "      <td>NORMAL</td>\n",
       "    </tr>\n",
       "    <tr>\n",
       "      <th>199</th>\n",
       "      <td>F</td>\n",
       "      <td>LOW</td>\n",
       "      <td>NORMAL</td>\n",
       "    </tr>\n",
       "  </tbody>\n",
       "</table>\n",
       "<p>200 rows × 3 columns</p>\n",
       "</div>"
      ],
      "text/plain": [
       "    Sex      BP Cholesterol\n",
       "0     F    HIGH        HIGH\n",
       "1     M     LOW        HIGH\n",
       "2     M     LOW        HIGH\n",
       "3     F  NORMAL        HIGH\n",
       "4     F     LOW        HIGH\n",
       "..   ..     ...         ...\n",
       "195   F     LOW        HIGH\n",
       "196   M     LOW        HIGH\n",
       "197   M  NORMAL        HIGH\n",
       "198   M  NORMAL      NORMAL\n",
       "199   F     LOW      NORMAL\n",
       "\n",
       "[200 rows x 3 columns]"
      ]
     },
     "execution_count": 72,
     "metadata": {},
     "output_type": "execute_result"
    }
   ],
   "source": [
    "q1 = data02[['Sex', 'BP', 'Cholesterol']]\n",
    "q1"
   ]
  },
  {
   "cell_type": "code",
   "execution_count": 73,
   "id": "6ee2e568",
   "metadata": {},
   "outputs": [
    {
     "data": {
      "text/plain": [
       "<bound method DataFrame.value_counts of     Sex      BP Cholesterol\n",
       "0     F    HIGH        HIGH\n",
       "1     M     LOW        HIGH\n",
       "2     M     LOW        HIGH\n",
       "3     F  NORMAL        HIGH\n",
       "4     F     LOW        HIGH\n",
       "..   ..     ...         ...\n",
       "195   F     LOW        HIGH\n",
       "196   M     LOW        HIGH\n",
       "197   M  NORMAL        HIGH\n",
       "198   M  NORMAL      NORMAL\n",
       "199   F     LOW      NORMAL\n",
       "\n",
       "[200 rows x 3 columns]>"
      ]
     },
     "execution_count": 73,
     "metadata": {},
     "output_type": "execute_result"
    }
   ],
   "source": [
    "q1.value_counts"
   ]
  },
  {
   "cell_type": "code",
   "execution_count": 76,
   "id": "8be77a99",
   "metadata": {},
   "outputs": [
    {
     "data": {
      "text/plain": [
       "Sex  BP      Cholesterol\n",
       "F    HIGH    NORMAL         0.105\n",
       "M    HIGH    NORMAL         0.105\n",
       "     LOW     NORMAL         0.095\n",
       "     NORMAL  HIGH           0.095\n",
       "F    NORMAL  HIGH           0.090\n",
       "M    HIGH    HIGH           0.090\n",
       "F    HIGH    HIGH           0.085\n",
       "M    LOW     HIGH           0.085\n",
       "F    LOW     HIGH           0.070\n",
       "             NORMAL         0.070\n",
       "     NORMAL  NORMAL         0.060\n",
       "M    NORMAL  NORMAL         0.050\n",
       "dtype: float64"
      ]
     },
     "execution_count": 76,
     "metadata": {},
     "output_type": "execute_result"
    }
   ],
   "source": [
    "temp = q1.value_counts(normalize=True)\n",
    "temp"
   ]
  },
  {
   "cell_type": "code",
   "execution_count": 78,
   "id": "1351ee7e",
   "metadata": {},
   "outputs": [
    {
     "data": {
      "text/plain": [
       "0.105"
      ]
     },
     "execution_count": 78,
     "metadata": {},
     "output_type": "execute_result"
    }
   ],
   "source": [
    "temp[('F', 'HIGH', 'NORMAL')]"
   ]
  },
  {
   "cell_type": "code",
   "execution_count": 79,
   "id": "aa316670",
   "metadata": {},
   "outputs": [],
   "source": [
    "# 답 : 0.105"
   ]
  },
  {
   "cell_type": "code",
   "execution_count": 85,
   "id": "5823858b",
   "metadata": {},
   "outputs": [
    {
     "data": {
      "text/html": [
       "<div>\n",
       "<style scoped>\n",
       "    .dataframe tbody tr th:only-of-type {\n",
       "        vertical-align: middle;\n",
       "    }\n",
       "\n",
       "    .dataframe tbody tr th {\n",
       "        vertical-align: top;\n",
       "    }\n",
       "\n",
       "    .dataframe thead th {\n",
       "        text-align: right;\n",
       "    }\n",
       "</style>\n",
       "<table border=\"1\" class=\"dataframe\">\n",
       "  <thead>\n",
       "    <tr style=\"text-align: right;\">\n",
       "      <th></th>\n",
       "      <th>Cholesterol</th>\n",
       "      <th>HIGH</th>\n",
       "      <th>NORMAL</th>\n",
       "    </tr>\n",
       "    <tr>\n",
       "      <th>Sex</th>\n",
       "      <th>BP</th>\n",
       "      <th></th>\n",
       "      <th></th>\n",
       "    </tr>\n",
       "  </thead>\n",
       "  <tbody>\n",
       "    <tr>\n",
       "      <th rowspan=\"3\" valign=\"top\">F</th>\n",
       "      <th>HIGH</th>\n",
       "      <td>0.085</td>\n",
       "      <td>0.105</td>\n",
       "    </tr>\n",
       "    <tr>\n",
       "      <th>LOW</th>\n",
       "      <td>0.070</td>\n",
       "      <td>0.070</td>\n",
       "    </tr>\n",
       "    <tr>\n",
       "      <th>NORMAL</th>\n",
       "      <td>0.090</td>\n",
       "      <td>0.060</td>\n",
       "    </tr>\n",
       "    <tr>\n",
       "      <th rowspan=\"3\" valign=\"top\">M</th>\n",
       "      <th>HIGH</th>\n",
       "      <td>0.090</td>\n",
       "      <td>0.105</td>\n",
       "    </tr>\n",
       "    <tr>\n",
       "      <th>LOW</th>\n",
       "      <td>0.085</td>\n",
       "      <td>0.095</td>\n",
       "    </tr>\n",
       "    <tr>\n",
       "      <th>NORMAL</th>\n",
       "      <td>0.095</td>\n",
       "      <td>0.050</td>\n",
       "    </tr>\n",
       "  </tbody>\n",
       "</table>\n",
       "</div>"
      ],
      "text/plain": [
       "Cholesterol   HIGH  NORMAL\n",
       "Sex BP                    \n",
       "F   HIGH     0.085   0.105\n",
       "    LOW      0.070   0.070\n",
       "    NORMAL   0.090   0.060\n",
       "M   HIGH     0.090   0.105\n",
       "    LOW      0.085   0.095\n",
       "    NORMAL   0.095   0.050"
      ]
     },
     "execution_count": 85,
     "metadata": {},
     "output_type": "execute_result"
    }
   ],
   "source": [
    "q1_1 = pd.crosstab(index=[data02['Sex'], data02['BP']],\n",
    "                  columns=data02['Cholesterol'], normalize=True)\n",
    "\n",
    "q1_1"
   ]
  },
  {
   "cell_type": "code",
   "execution_count": 86,
   "id": "c25a9458",
   "metadata": {},
   "outputs": [],
   "source": [
    "# 2. Age, Sex, BP, Cholesterol 및 Na_to_k 값이 Drug 타입에 영향을 미치는지 확인하기\n",
    "# 위하여 아래와 같이 데이터를 변환하고 분석을 수행하시오. \n",
    "# - Age_gr 컬럼을 만들고, Age가 20 미만은 ‘10’, 20부터 30 미만은 ‘20’, 30부터 40 미만은\n",
    "# ‘30’, 40부터 50 미만은 ‘40’, 50부터 60 미만은 ‘50’, 60이상은 ‘60’으로 변환하시오. \n",
    "# - Na_K_gr 컬럼을 만들고 Na_to_k 값이 10이하는 ‘Lv1’, 20이하는 ‘Lv2’, 30이하는 ‘Lv3’, 30 \n",
    "# 초과는 ‘Lv4’로 변환하시오.\n",
    "# - Sex, BP, Cholesterol, Age_gr, Na_K_gr이 Drug 변수와 영향이 있는지 독립성 검정을\n",
    "# 수행하시오.\n",
    "# - 검정 수행 결과, Drug 타입과 연관성이 있는 변수는 몇 개인가? 연관성이 있는 변수\n",
    "# 가운데 가장 큰 p-value를 찾아 소수점 여섯 번째 자리 이하는 버리고 소수점 다섯\n",
    "# 번째 자리까지 기술하시오.\n",
    "# (답안 예시) 3, 1.23456"
   ]
  },
  {
   "cell_type": "code",
   "execution_count": 87,
   "id": "43ba8aa9",
   "metadata": {},
   "outputs": [],
   "source": [
    "q2 = data02.copy()"
   ]
  },
  {
   "cell_type": "code",
   "execution_count": 88,
   "id": "9c360273",
   "metadata": {},
   "outputs": [],
   "source": [
    "q2['Age_gr'] = np.where(q2.Age < 20, 10,\n",
    "                       np.where(q2.Age < 30, 20,\n",
    "                               np.where(q2.Age < 40, 30,\n",
    "                                       np.where(q2.Age < 50, 40,\n",
    "                                               np.where(q2.Age < 60, 50, 60)))))\n",
    "q2['Na_K_gr'] = np.where(q2.Na_to_K <= 10, 'Lv1',\n",
    "                        np.where(q2.Na_to_K <= 20, 'Lv2',\n",
    "                                np.where(q2.Na_to_K <= 30, 'Lv3', 'Lv4')))\n"
   ]
  },
  {
   "cell_type": "code",
   "execution_count": 89,
   "id": "6e64cdf3",
   "metadata": {},
   "outputs": [
    {
     "data": {
      "text/html": [
       "<div>\n",
       "<style scoped>\n",
       "    .dataframe tbody tr th:only-of-type {\n",
       "        vertical-align: middle;\n",
       "    }\n",
       "\n",
       "    .dataframe tbody tr th {\n",
       "        vertical-align: top;\n",
       "    }\n",
       "\n",
       "    .dataframe thead th {\n",
       "        text-align: right;\n",
       "    }\n",
       "</style>\n",
       "<table border=\"1\" class=\"dataframe\">\n",
       "  <thead>\n",
       "    <tr style=\"text-align: right;\">\n",
       "      <th></th>\n",
       "      <th>Age</th>\n",
       "      <th>Sex</th>\n",
       "      <th>BP</th>\n",
       "      <th>Cholesterol</th>\n",
       "      <th>Na_to_K</th>\n",
       "      <th>Drug</th>\n",
       "      <th>Age_gr</th>\n",
       "      <th>Na_K_gr</th>\n",
       "    </tr>\n",
       "  </thead>\n",
       "  <tbody>\n",
       "    <tr>\n",
       "      <th>0</th>\n",
       "      <td>23</td>\n",
       "      <td>F</td>\n",
       "      <td>HIGH</td>\n",
       "      <td>HIGH</td>\n",
       "      <td>25.355</td>\n",
       "      <td>DrugY</td>\n",
       "      <td>20</td>\n",
       "      <td>Lv3</td>\n",
       "    </tr>\n",
       "    <tr>\n",
       "      <th>1</th>\n",
       "      <td>47</td>\n",
       "      <td>M</td>\n",
       "      <td>LOW</td>\n",
       "      <td>HIGH</td>\n",
       "      <td>13.093</td>\n",
       "      <td>drugC</td>\n",
       "      <td>40</td>\n",
       "      <td>Lv2</td>\n",
       "    </tr>\n",
       "    <tr>\n",
       "      <th>2</th>\n",
       "      <td>47</td>\n",
       "      <td>M</td>\n",
       "      <td>LOW</td>\n",
       "      <td>HIGH</td>\n",
       "      <td>10.114</td>\n",
       "      <td>drugC</td>\n",
       "      <td>40</td>\n",
       "      <td>Lv2</td>\n",
       "    </tr>\n",
       "    <tr>\n",
       "      <th>3</th>\n",
       "      <td>28</td>\n",
       "      <td>F</td>\n",
       "      <td>NORMAL</td>\n",
       "      <td>HIGH</td>\n",
       "      <td>7.798</td>\n",
       "      <td>drugX</td>\n",
       "      <td>20</td>\n",
       "      <td>Lv1</td>\n",
       "    </tr>\n",
       "    <tr>\n",
       "      <th>4</th>\n",
       "      <td>61</td>\n",
       "      <td>F</td>\n",
       "      <td>LOW</td>\n",
       "      <td>HIGH</td>\n",
       "      <td>18.043</td>\n",
       "      <td>DrugY</td>\n",
       "      <td>60</td>\n",
       "      <td>Lv2</td>\n",
       "    </tr>\n",
       "    <tr>\n",
       "      <th>...</th>\n",
       "      <td>...</td>\n",
       "      <td>...</td>\n",
       "      <td>...</td>\n",
       "      <td>...</td>\n",
       "      <td>...</td>\n",
       "      <td>...</td>\n",
       "      <td>...</td>\n",
       "      <td>...</td>\n",
       "    </tr>\n",
       "    <tr>\n",
       "      <th>195</th>\n",
       "      <td>56</td>\n",
       "      <td>F</td>\n",
       "      <td>LOW</td>\n",
       "      <td>HIGH</td>\n",
       "      <td>11.567</td>\n",
       "      <td>drugC</td>\n",
       "      <td>50</td>\n",
       "      <td>Lv2</td>\n",
       "    </tr>\n",
       "    <tr>\n",
       "      <th>196</th>\n",
       "      <td>16</td>\n",
       "      <td>M</td>\n",
       "      <td>LOW</td>\n",
       "      <td>HIGH</td>\n",
       "      <td>12.006</td>\n",
       "      <td>drugC</td>\n",
       "      <td>10</td>\n",
       "      <td>Lv2</td>\n",
       "    </tr>\n",
       "    <tr>\n",
       "      <th>197</th>\n",
       "      <td>52</td>\n",
       "      <td>M</td>\n",
       "      <td>NORMAL</td>\n",
       "      <td>HIGH</td>\n",
       "      <td>9.894</td>\n",
       "      <td>drugX</td>\n",
       "      <td>50</td>\n",
       "      <td>Lv1</td>\n",
       "    </tr>\n",
       "    <tr>\n",
       "      <th>198</th>\n",
       "      <td>23</td>\n",
       "      <td>M</td>\n",
       "      <td>NORMAL</td>\n",
       "      <td>NORMAL</td>\n",
       "      <td>14.020</td>\n",
       "      <td>drugX</td>\n",
       "      <td>20</td>\n",
       "      <td>Lv2</td>\n",
       "    </tr>\n",
       "    <tr>\n",
       "      <th>199</th>\n",
       "      <td>40</td>\n",
       "      <td>F</td>\n",
       "      <td>LOW</td>\n",
       "      <td>NORMAL</td>\n",
       "      <td>11.349</td>\n",
       "      <td>drugX</td>\n",
       "      <td>40</td>\n",
       "      <td>Lv2</td>\n",
       "    </tr>\n",
       "  </tbody>\n",
       "</table>\n",
       "<p>200 rows × 8 columns</p>\n",
       "</div>"
      ],
      "text/plain": [
       "     Age Sex      BP Cholesterol  Na_to_K   Drug  Age_gr Na_K_gr\n",
       "0     23   F    HIGH        HIGH   25.355  DrugY      20     Lv3\n",
       "1     47   M     LOW        HIGH   13.093  drugC      40     Lv2\n",
       "2     47   M     LOW        HIGH   10.114  drugC      40     Lv2\n",
       "3     28   F  NORMAL        HIGH    7.798  drugX      20     Lv1\n",
       "4     61   F     LOW        HIGH   18.043  DrugY      60     Lv2\n",
       "..   ...  ..     ...         ...      ...    ...     ...     ...\n",
       "195   56   F     LOW        HIGH   11.567  drugC      50     Lv2\n",
       "196   16   M     LOW        HIGH   12.006  drugC      10     Lv2\n",
       "197   52   M  NORMAL        HIGH    9.894  drugX      50     Lv1\n",
       "198   23   M  NORMAL      NORMAL   14.020  drugX      20     Lv2\n",
       "199   40   F     LOW      NORMAL   11.349  drugX      40     Lv2\n",
       "\n",
       "[200 rows x 8 columns]"
      ]
     },
     "execution_count": 89,
     "metadata": {},
     "output_type": "execute_result"
    }
   ],
   "source": [
    "q2"
   ]
  },
  {
   "cell_type": "code",
   "execution_count": 90,
   "id": "237fb160",
   "metadata": {},
   "outputs": [],
   "source": [
    "from scipy.stats import chi2_contingency"
   ]
  },
  {
   "cell_type": "code",
   "execution_count": 91,
   "id": "84a024f7",
   "metadata": {},
   "outputs": [
    {
     "data": {
      "text/html": [
       "<div>\n",
       "<style scoped>\n",
       "    .dataframe tbody tr th:only-of-type {\n",
       "        vertical-align: middle;\n",
       "    }\n",
       "\n",
       "    .dataframe tbody tr th {\n",
       "        vertical-align: top;\n",
       "    }\n",
       "\n",
       "    .dataframe thead th {\n",
       "        text-align: right;\n",
       "    }\n",
       "</style>\n",
       "<table border=\"1\" class=\"dataframe\">\n",
       "  <thead>\n",
       "    <tr style=\"text-align: right;\">\n",
       "      <th>Drug</th>\n",
       "      <th>DrugY</th>\n",
       "      <th>drugA</th>\n",
       "      <th>drugB</th>\n",
       "      <th>drugC</th>\n",
       "      <th>drugX</th>\n",
       "    </tr>\n",
       "    <tr>\n",
       "      <th>Sex</th>\n",
       "      <th></th>\n",
       "      <th></th>\n",
       "      <th></th>\n",
       "      <th></th>\n",
       "      <th></th>\n",
       "    </tr>\n",
       "  </thead>\n",
       "  <tbody>\n",
       "    <tr>\n",
       "      <th>F</th>\n",
       "      <td>47</td>\n",
       "      <td>9</td>\n",
       "      <td>6</td>\n",
       "      <td>7</td>\n",
       "      <td>27</td>\n",
       "    </tr>\n",
       "    <tr>\n",
       "      <th>M</th>\n",
       "      <td>44</td>\n",
       "      <td>14</td>\n",
       "      <td>10</td>\n",
       "      <td>9</td>\n",
       "      <td>27</td>\n",
       "    </tr>\n",
       "  </tbody>\n",
       "</table>\n",
       "</div>"
      ],
      "text/plain": [
       "Drug  DrugY  drugA  drugB  drugC  drugX\n",
       "Sex                                    \n",
       "F        47      9      6      7     27\n",
       "M        44     14     10      9     27"
      ]
     },
     "execution_count": 91,
     "metadata": {},
     "output_type": "execute_result"
    }
   ],
   "source": [
    "tab = pd.crosstab(index=q2.Sex, columns=q2.Drug)\n",
    "tab"
   ]
  },
  {
   "cell_type": "code",
   "execution_count": 93,
   "id": "6d2a9342",
   "metadata": {},
   "outputs": [
    {
     "data": {
      "text/plain": [
       "(2.119248418109203,\n",
       " 0.7138369773987128,\n",
       " 4,\n",
       " array([[43.68, 11.04,  7.68,  7.68, 25.92],\n",
       "        [47.32, 11.96,  8.32,  8.32, 28.08]]))"
      ]
     },
     "execution_count": 93,
     "metadata": {},
     "output_type": "execute_result"
    }
   ],
   "source": [
    "q2_out = chi2_contingency(tab)\n",
    "q2_out"
   ]
  },
  {
   "cell_type": "code",
   "execution_count": 94,
   "id": "ac2980ac",
   "metadata": {},
   "outputs": [
    {
     "data": {
      "text/plain": [
       "Index(['Age', 'Sex', 'BP', 'Cholesterol', 'Na_to_K', 'Drug', 'Age_gr',\n",
       "       'Na_K_gr'],\n",
       "      dtype='object')"
      ]
     },
     "execution_count": 94,
     "metadata": {},
     "output_type": "execute_result"
    }
   ],
   "source": [
    "q2.columns"
   ]
  },
  {
   "cell_type": "code",
   "execution_count": 97,
   "id": "cb1bed2c",
   "metadata": {},
   "outputs": [
    {
     "data": {
      "text/plain": [
       "[['Sex', 0.7138369773987128],\n",
       " ['BP', 5.0417334144665895e-27],\n",
       " ['Cholesterol', 0.0005962588389856497],\n",
       " ['Age_gr', 0.0007010113024729462],\n",
       " ['Na_K_gr', 1.1254641594413981e-14]]"
      ]
     },
     "execution_count": 97,
     "metadata": {},
     "output_type": "execute_result"
    }
   ],
   "source": [
    "var_list = ['Sex', 'BP', 'Cholesterol', 'Age_gr', 'Na_K_gr']\n",
    "q2_out = []\n",
    "for i in var_list:\n",
    "    tab = pd.crosstab(index=q2[i], columns=q2.Drug)\n",
    "    q2_out0 = chi2_contingency(tab)\n",
    "    pvalue = q2_out0[1]\n",
    "    q2_out.append([i, pvalue])\n",
    "q2_out"
   ]
  },
  {
   "cell_type": "code",
   "execution_count": 98,
   "id": "7d5d9274",
   "metadata": {},
   "outputs": [
    {
     "data": {
      "text/html": [
       "<div>\n",
       "<style scoped>\n",
       "    .dataframe tbody tr th:only-of-type {\n",
       "        vertical-align: middle;\n",
       "    }\n",
       "\n",
       "    .dataframe tbody tr th {\n",
       "        vertical-align: top;\n",
       "    }\n",
       "\n",
       "    .dataframe thead th {\n",
       "        text-align: right;\n",
       "    }\n",
       "</style>\n",
       "<table border=\"1\" class=\"dataframe\">\n",
       "  <thead>\n",
       "    <tr style=\"text-align: right;\">\n",
       "      <th></th>\n",
       "      <th>var</th>\n",
       "      <th>pvalue</th>\n",
       "    </tr>\n",
       "  </thead>\n",
       "  <tbody>\n",
       "    <tr>\n",
       "      <th>0</th>\n",
       "      <td>Sex</td>\n",
       "      <td>7.138370e-01</td>\n",
       "    </tr>\n",
       "    <tr>\n",
       "      <th>1</th>\n",
       "      <td>BP</td>\n",
       "      <td>5.041733e-27</td>\n",
       "    </tr>\n",
       "    <tr>\n",
       "      <th>2</th>\n",
       "      <td>Cholesterol</td>\n",
       "      <td>5.962588e-04</td>\n",
       "    </tr>\n",
       "    <tr>\n",
       "      <th>3</th>\n",
       "      <td>Age_gr</td>\n",
       "      <td>7.010113e-04</td>\n",
       "    </tr>\n",
       "    <tr>\n",
       "      <th>4</th>\n",
       "      <td>Na_K_gr</td>\n",
       "      <td>1.125464e-14</td>\n",
       "    </tr>\n",
       "  </tbody>\n",
       "</table>\n",
       "</div>"
      ],
      "text/plain": [
       "           var        pvalue\n",
       "0          Sex  7.138370e-01\n",
       "1           BP  5.041733e-27\n",
       "2  Cholesterol  5.962588e-04\n",
       "3       Age_gr  7.010113e-04\n",
       "4      Na_K_gr  1.125464e-14"
      ]
     },
     "execution_count": 98,
     "metadata": {},
     "output_type": "execute_result"
    }
   ],
   "source": [
    "q2_out = pd.DataFrame(q2_out, columns=['var', 'pvalue'])\n",
    "q2_out"
   ]
  },
  {
   "cell_type": "code",
   "execution_count": 99,
   "id": "d440094c",
   "metadata": {},
   "outputs": [
    {
     "data": {
      "text/html": [
       "<div>\n",
       "<style scoped>\n",
       "    .dataframe tbody tr th:only-of-type {\n",
       "        vertical-align: middle;\n",
       "    }\n",
       "\n",
       "    .dataframe tbody tr th {\n",
       "        vertical-align: top;\n",
       "    }\n",
       "\n",
       "    .dataframe thead th {\n",
       "        text-align: right;\n",
       "    }\n",
       "</style>\n",
       "<table border=\"1\" class=\"dataframe\">\n",
       "  <thead>\n",
       "    <tr style=\"text-align: right;\">\n",
       "      <th></th>\n",
       "      <th>var</th>\n",
       "      <th>pvalue</th>\n",
       "    </tr>\n",
       "  </thead>\n",
       "  <tbody>\n",
       "    <tr>\n",
       "      <th>1</th>\n",
       "      <td>BP</td>\n",
       "      <td>5.041733e-27</td>\n",
       "    </tr>\n",
       "    <tr>\n",
       "      <th>2</th>\n",
       "      <td>Cholesterol</td>\n",
       "      <td>5.962588e-04</td>\n",
       "    </tr>\n",
       "    <tr>\n",
       "      <th>3</th>\n",
       "      <td>Age_gr</td>\n",
       "      <td>7.010113e-04</td>\n",
       "    </tr>\n",
       "    <tr>\n",
       "      <th>4</th>\n",
       "      <td>Na_K_gr</td>\n",
       "      <td>1.125464e-14</td>\n",
       "    </tr>\n",
       "  </tbody>\n",
       "</table>\n",
       "</div>"
      ],
      "text/plain": [
       "           var        pvalue\n",
       "1           BP  5.041733e-27\n",
       "2  Cholesterol  5.962588e-04\n",
       "3       Age_gr  7.010113e-04\n",
       "4      Na_K_gr  1.125464e-14"
      ]
     },
     "execution_count": 99,
     "metadata": {},
     "output_type": "execute_result"
    }
   ],
   "source": [
    "q2_out2 = q2_out[q2_out.pvalue < 0.05]\n",
    "q2_out2"
   ]
  },
  {
   "cell_type": "code",
   "execution_count": 104,
   "id": "b2be14a1",
   "metadata": {},
   "outputs": [
    {
     "data": {
      "text/plain": [
       "0.0007010113024729462"
      ]
     },
     "execution_count": 104,
     "metadata": {},
     "output_type": "execute_result"
    }
   ],
   "source": [
    "q2_out2.pvalue.max()"
   ]
  },
  {
   "cell_type": "code",
   "execution_count": 106,
   "id": "94825a12",
   "metadata": {},
   "outputs": [
    {
     "data": {
      "text/plain": [
       "3"
      ]
     },
     "execution_count": 106,
     "metadata": {},
     "output_type": "execute_result"
    }
   ],
   "source": [
    "idx = q2_out2.pvalue.idxmax()\n",
    "idx"
   ]
  },
  {
   "cell_type": "code",
   "execution_count": 107,
   "id": "f39fca81",
   "metadata": {},
   "outputs": [
    {
     "data": {
      "text/plain": [
       "var       Na_K_gr\n",
       "pvalue        0.0\n",
       "Name: 4, dtype: object"
      ]
     },
     "execution_count": 107,
     "metadata": {},
     "output_type": "execute_result"
    }
   ],
   "source": [
    "q2_out2.iloc[idx, :]"
   ]
  },
  {
   "cell_type": "code",
   "execution_count": 108,
   "id": "5738ba3b",
   "metadata": {},
   "outputs": [],
   "source": [
    "result = q2_out2.pvalue.max()"
   ]
  },
  {
   "cell_type": "code",
   "execution_count": 115,
   "id": "2dc933c3",
   "metadata": {},
   "outputs": [],
   "source": [
    "# 답 : 0.00070"
   ]
  },
  {
   "cell_type": "code",
   "execution_count": 116,
   "id": "86b7872a",
   "metadata": {},
   "outputs": [],
   "source": [
    "# 3.Sex, BP, Cholesterol 등 세 개의 변수를 다음과 같이 변환하고 의사결정나무를 이용한\n",
    "# 분석을 수행하시오.\n",
    "# - Sex는 M을 0, F를 1로 변환하여 Sex_cd 변수 생성\n",
    "# - BP는 LOW는 0, NORMAL은 1 그리고 HIGH는 2로 변환하여 BP_cd 변수 생성\n",
    "# - Cholesterol은 NORMAL은 0, HIGH는 1로 변환하여 Ch_cd 생성\n",
    "# - Age, Na_to_k, Sex_cd, BP_cd, Ch_cd를 Feature로, Drug을 Label로 하여 의사결정나무를\n",
    "# 수행하고 Root Node의 split feature와 split value를 기술하시오. \n",
    "# 이 때 split value는 소수점 셋째 자리까지 반올림하여 기술하시오. (답안 예시) Age, \n",
    "# 12.345"
   ]
  },
  {
   "cell_type": "code",
   "execution_count": 120,
   "id": "f74ab5cd",
   "metadata": {},
   "outputs": [
    {
     "data": {
      "text/html": [
       "<div>\n",
       "<style scoped>\n",
       "    .dataframe tbody tr th:only-of-type {\n",
       "        vertical-align: middle;\n",
       "    }\n",
       "\n",
       "    .dataframe tbody tr th {\n",
       "        vertical-align: top;\n",
       "    }\n",
       "\n",
       "    .dataframe thead th {\n",
       "        text-align: right;\n",
       "    }\n",
       "</style>\n",
       "<table border=\"1\" class=\"dataframe\">\n",
       "  <thead>\n",
       "    <tr style=\"text-align: right;\">\n",
       "      <th></th>\n",
       "      <th>Age</th>\n",
       "      <th>Sex</th>\n",
       "      <th>BP</th>\n",
       "      <th>Cholesterol</th>\n",
       "      <th>Na_to_K</th>\n",
       "      <th>Drug</th>\n",
       "    </tr>\n",
       "  </thead>\n",
       "  <tbody>\n",
       "    <tr>\n",
       "      <th>0</th>\n",
       "      <td>23</td>\n",
       "      <td>F</td>\n",
       "      <td>HIGH</td>\n",
       "      <td>HIGH</td>\n",
       "      <td>25.355</td>\n",
       "      <td>DrugY</td>\n",
       "    </tr>\n",
       "    <tr>\n",
       "      <th>1</th>\n",
       "      <td>47</td>\n",
       "      <td>M</td>\n",
       "      <td>LOW</td>\n",
       "      <td>HIGH</td>\n",
       "      <td>13.093</td>\n",
       "      <td>drugC</td>\n",
       "    </tr>\n",
       "    <tr>\n",
       "      <th>2</th>\n",
       "      <td>47</td>\n",
       "      <td>M</td>\n",
       "      <td>LOW</td>\n",
       "      <td>HIGH</td>\n",
       "      <td>10.114</td>\n",
       "      <td>drugC</td>\n",
       "    </tr>\n",
       "    <tr>\n",
       "      <th>3</th>\n",
       "      <td>28</td>\n",
       "      <td>F</td>\n",
       "      <td>NORMAL</td>\n",
       "      <td>HIGH</td>\n",
       "      <td>7.798</td>\n",
       "      <td>drugX</td>\n",
       "    </tr>\n",
       "    <tr>\n",
       "      <th>4</th>\n",
       "      <td>61</td>\n",
       "      <td>F</td>\n",
       "      <td>LOW</td>\n",
       "      <td>HIGH</td>\n",
       "      <td>18.043</td>\n",
       "      <td>DrugY</td>\n",
       "    </tr>\n",
       "    <tr>\n",
       "      <th>...</th>\n",
       "      <td>...</td>\n",
       "      <td>...</td>\n",
       "      <td>...</td>\n",
       "      <td>...</td>\n",
       "      <td>...</td>\n",
       "      <td>...</td>\n",
       "    </tr>\n",
       "    <tr>\n",
       "      <th>195</th>\n",
       "      <td>56</td>\n",
       "      <td>F</td>\n",
       "      <td>LOW</td>\n",
       "      <td>HIGH</td>\n",
       "      <td>11.567</td>\n",
       "      <td>drugC</td>\n",
       "    </tr>\n",
       "    <tr>\n",
       "      <th>196</th>\n",
       "      <td>16</td>\n",
       "      <td>M</td>\n",
       "      <td>LOW</td>\n",
       "      <td>HIGH</td>\n",
       "      <td>12.006</td>\n",
       "      <td>drugC</td>\n",
       "    </tr>\n",
       "    <tr>\n",
       "      <th>197</th>\n",
       "      <td>52</td>\n",
       "      <td>M</td>\n",
       "      <td>NORMAL</td>\n",
       "      <td>HIGH</td>\n",
       "      <td>9.894</td>\n",
       "      <td>drugX</td>\n",
       "    </tr>\n",
       "    <tr>\n",
       "      <th>198</th>\n",
       "      <td>23</td>\n",
       "      <td>M</td>\n",
       "      <td>NORMAL</td>\n",
       "      <td>NORMAL</td>\n",
       "      <td>14.020</td>\n",
       "      <td>drugX</td>\n",
       "    </tr>\n",
       "    <tr>\n",
       "      <th>199</th>\n",
       "      <td>40</td>\n",
       "      <td>F</td>\n",
       "      <td>LOW</td>\n",
       "      <td>NORMAL</td>\n",
       "      <td>11.349</td>\n",
       "      <td>drugX</td>\n",
       "    </tr>\n",
       "  </tbody>\n",
       "</table>\n",
       "<p>200 rows × 6 columns</p>\n",
       "</div>"
      ],
      "text/plain": [
       "     Age Sex      BP Cholesterol  Na_to_K   Drug\n",
       "0     23   F    HIGH        HIGH   25.355  DrugY\n",
       "1     47   M     LOW        HIGH   13.093  drugC\n",
       "2     47   M     LOW        HIGH   10.114  drugC\n",
       "3     28   F  NORMAL        HIGH    7.798  drugX\n",
       "4     61   F     LOW        HIGH   18.043  DrugY\n",
       "..   ...  ..     ...         ...      ...    ...\n",
       "195   56   F     LOW        HIGH   11.567  drugC\n",
       "196   16   M     LOW        HIGH   12.006  drugC\n",
       "197   52   M  NORMAL        HIGH    9.894  drugX\n",
       "198   23   M  NORMAL      NORMAL   14.020  drugX\n",
       "199   40   F     LOW      NORMAL   11.349  drugX\n",
       "\n",
       "[200 rows x 6 columns]"
      ]
     },
     "execution_count": 120,
     "metadata": {},
     "output_type": "execute_result"
    }
   ],
   "source": [
    "q3 = data02.copy()\n",
    "q3"
   ]
  },
  {
   "cell_type": "code",
   "execution_count": 121,
   "id": "f2d18e0e",
   "metadata": {},
   "outputs": [
    {
     "data": {
      "text/html": [
       "<div>\n",
       "<style scoped>\n",
       "    .dataframe tbody tr th:only-of-type {\n",
       "        vertical-align: middle;\n",
       "    }\n",
       "\n",
       "    .dataframe tbody tr th {\n",
       "        vertical-align: top;\n",
       "    }\n",
       "\n",
       "    .dataframe thead th {\n",
       "        text-align: right;\n",
       "    }\n",
       "</style>\n",
       "<table border=\"1\" class=\"dataframe\">\n",
       "  <thead>\n",
       "    <tr style=\"text-align: right;\">\n",
       "      <th></th>\n",
       "      <th>Age</th>\n",
       "      <th>Sex</th>\n",
       "      <th>BP</th>\n",
       "      <th>Cholesterol</th>\n",
       "      <th>Na_to_K</th>\n",
       "      <th>Drug</th>\n",
       "      <th>Sex_cd</th>\n",
       "      <th>BP_cd</th>\n",
       "      <th>Ch_cd</th>\n",
       "    </tr>\n",
       "  </thead>\n",
       "  <tbody>\n",
       "    <tr>\n",
       "      <th>0</th>\n",
       "      <td>23</td>\n",
       "      <td>F</td>\n",
       "      <td>HIGH</td>\n",
       "      <td>HIGH</td>\n",
       "      <td>25.355</td>\n",
       "      <td>DrugY</td>\n",
       "      <td>1</td>\n",
       "      <td>2</td>\n",
       "      <td>1</td>\n",
       "    </tr>\n",
       "    <tr>\n",
       "      <th>1</th>\n",
       "      <td>47</td>\n",
       "      <td>M</td>\n",
       "      <td>LOW</td>\n",
       "      <td>HIGH</td>\n",
       "      <td>13.093</td>\n",
       "      <td>drugC</td>\n",
       "      <td>0</td>\n",
       "      <td>0</td>\n",
       "      <td>1</td>\n",
       "    </tr>\n",
       "    <tr>\n",
       "      <th>2</th>\n",
       "      <td>47</td>\n",
       "      <td>M</td>\n",
       "      <td>LOW</td>\n",
       "      <td>HIGH</td>\n",
       "      <td>10.114</td>\n",
       "      <td>drugC</td>\n",
       "      <td>0</td>\n",
       "      <td>0</td>\n",
       "      <td>1</td>\n",
       "    </tr>\n",
       "    <tr>\n",
       "      <th>3</th>\n",
       "      <td>28</td>\n",
       "      <td>F</td>\n",
       "      <td>NORMAL</td>\n",
       "      <td>HIGH</td>\n",
       "      <td>7.798</td>\n",
       "      <td>drugX</td>\n",
       "      <td>1</td>\n",
       "      <td>1</td>\n",
       "      <td>1</td>\n",
       "    </tr>\n",
       "    <tr>\n",
       "      <th>4</th>\n",
       "      <td>61</td>\n",
       "      <td>F</td>\n",
       "      <td>LOW</td>\n",
       "      <td>HIGH</td>\n",
       "      <td>18.043</td>\n",
       "      <td>DrugY</td>\n",
       "      <td>1</td>\n",
       "      <td>0</td>\n",
       "      <td>1</td>\n",
       "    </tr>\n",
       "    <tr>\n",
       "      <th>...</th>\n",
       "      <td>...</td>\n",
       "      <td>...</td>\n",
       "      <td>...</td>\n",
       "      <td>...</td>\n",
       "      <td>...</td>\n",
       "      <td>...</td>\n",
       "      <td>...</td>\n",
       "      <td>...</td>\n",
       "      <td>...</td>\n",
       "    </tr>\n",
       "    <tr>\n",
       "      <th>195</th>\n",
       "      <td>56</td>\n",
       "      <td>F</td>\n",
       "      <td>LOW</td>\n",
       "      <td>HIGH</td>\n",
       "      <td>11.567</td>\n",
       "      <td>drugC</td>\n",
       "      <td>1</td>\n",
       "      <td>0</td>\n",
       "      <td>1</td>\n",
       "    </tr>\n",
       "    <tr>\n",
       "      <th>196</th>\n",
       "      <td>16</td>\n",
       "      <td>M</td>\n",
       "      <td>LOW</td>\n",
       "      <td>HIGH</td>\n",
       "      <td>12.006</td>\n",
       "      <td>drugC</td>\n",
       "      <td>0</td>\n",
       "      <td>0</td>\n",
       "      <td>1</td>\n",
       "    </tr>\n",
       "    <tr>\n",
       "      <th>197</th>\n",
       "      <td>52</td>\n",
       "      <td>M</td>\n",
       "      <td>NORMAL</td>\n",
       "      <td>HIGH</td>\n",
       "      <td>9.894</td>\n",
       "      <td>drugX</td>\n",
       "      <td>0</td>\n",
       "      <td>1</td>\n",
       "      <td>1</td>\n",
       "    </tr>\n",
       "    <tr>\n",
       "      <th>198</th>\n",
       "      <td>23</td>\n",
       "      <td>M</td>\n",
       "      <td>NORMAL</td>\n",
       "      <td>NORMAL</td>\n",
       "      <td>14.020</td>\n",
       "      <td>drugX</td>\n",
       "      <td>0</td>\n",
       "      <td>1</td>\n",
       "      <td>0</td>\n",
       "    </tr>\n",
       "    <tr>\n",
       "      <th>199</th>\n",
       "      <td>40</td>\n",
       "      <td>F</td>\n",
       "      <td>LOW</td>\n",
       "      <td>NORMAL</td>\n",
       "      <td>11.349</td>\n",
       "      <td>drugX</td>\n",
       "      <td>1</td>\n",
       "      <td>0</td>\n",
       "      <td>0</td>\n",
       "    </tr>\n",
       "  </tbody>\n",
       "</table>\n",
       "<p>200 rows × 9 columns</p>\n",
       "</div>"
      ],
      "text/plain": [
       "     Age Sex      BP Cholesterol  Na_to_K   Drug  Sex_cd  BP_cd  Ch_cd\n",
       "0     23   F    HIGH        HIGH   25.355  DrugY       1      2      1\n",
       "1     47   M     LOW        HIGH   13.093  drugC       0      0      1\n",
       "2     47   M     LOW        HIGH   10.114  drugC       0      0      1\n",
       "3     28   F  NORMAL        HIGH    7.798  drugX       1      1      1\n",
       "4     61   F     LOW        HIGH   18.043  DrugY       1      0      1\n",
       "..   ...  ..     ...         ...      ...    ...     ...    ...    ...\n",
       "195   56   F     LOW        HIGH   11.567  drugC       1      0      1\n",
       "196   16   M     LOW        HIGH   12.006  drugC       0      0      1\n",
       "197   52   M  NORMAL        HIGH    9.894  drugX       0      1      1\n",
       "198   23   M  NORMAL      NORMAL   14.020  drugX       0      1      0\n",
       "199   40   F     LOW      NORMAL   11.349  drugX       1      0      0\n",
       "\n",
       "[200 rows x 9 columns]"
      ]
     },
     "execution_count": 121,
     "metadata": {},
     "output_type": "execute_result"
    }
   ],
   "source": [
    "q3['Sex_cd'] = np.where(q3.Sex == 'M', 0, 1)\n",
    "q3['BP_cd'] = np.where(q3.BP == 'LOW', 0,\n",
    "                      np.where(q3.BP == 'NORMAL', 1, 2))\n",
    "q3['Ch_cd'] = np.where(q3.Cholesterol == 'NORMAL', 0, 1)\n",
    "q3"
   ]
  },
  {
   "cell_type": "code",
   "execution_count": 126,
   "id": "cd85bcd6",
   "metadata": {},
   "outputs": [],
   "source": [
    "var_list = ['Age', 'Na_to_K', 'Sex_cd', 'BP_cd', 'Ch_cd']"
   ]
  },
  {
   "cell_type": "code",
   "execution_count": 127,
   "id": "c5c5bc9d",
   "metadata": {},
   "outputs": [],
   "source": [
    "from sklearn.tree import DecisionTreeClassifier, plot_tree, export_text"
   ]
  },
  {
   "cell_type": "code",
   "execution_count": 128,
   "id": "2b496078",
   "metadata": {},
   "outputs": [],
   "source": [
    "dt = DecisionTreeClassifier().fit(q3[var_list], q3.Drug)"
   ]
  },
  {
   "cell_type": "code",
   "execution_count": 130,
   "id": "d59fcd10",
   "metadata": {},
   "outputs": [
    {
     "data": {
      "text/plain": [
       "[Text(0.625, 0.875, 'Na_to_K <= 14.829\\ngini = 0.694\\nsamples = 200\\nvalue = [91, 23, 16, 16, 54]\\nclass = DrugY'),\n",
       " Text(0.5, 0.625, 'BP_cd <= 1.5\\ngini = 0.667\\nsamples = 109\\nvalue = [0, 23, 16, 16, 54]\\nclass = drugB'),\n",
       " Text(0.25, 0.375, 'BP_cd <= 0.5\\ngini = 0.353\\nsamples = 70\\nvalue = [0, 0, 0, 16, 54]\\nclass = drugB'),\n",
       " Text(0.125, 0.125, '\\n  (...)  \\n'),\n",
       " Text(0.375, 0.125, '\\n  (...)  \\n'),\n",
       " Text(0.75, 0.375, 'Age <= 50.5\\ngini = 0.484\\nsamples = 39\\nvalue = [0, 23, 16, 0, 0]\\nclass = drugC'),\n",
       " Text(0.625, 0.125, '\\n  (...)  \\n'),\n",
       " Text(0.875, 0.125, '\\n  (...)  \\n'),\n",
       " Text(0.75, 0.625, 'gini = 0.0\\nsamples = 91\\nvalue = [91, 0, 0, 0, 0]\\nclass = DrugY')]"
      ]
     },
     "execution_count": 130,
     "metadata": {},
     "output_type": "execute_result"
    },
    {
     "data": {
      "image/png": "[encoded data removed]",
      "text/plain": [
       "<Figure size 432x288 with 1 Axes>"
      ]
     },
     "metadata": {
      "needs_background": "light"
     },
     "output_type": "display_data"
    }
   ],
   "source": [
    "plot_tree(dt, max_depth=2,\n",
    "         feature_names=var_list,\n",
    "         class_names=list(q3.Drug.unique()),\n",
    "         precision=3,\n",
    "         fontsize=6)"
   ]
  },
  {
   "cell_type": "code",
   "execution_count": 137,
   "id": "520c27a8",
   "metadata": {},
   "outputs": [
    {
     "data": {
      "text/plain": [
       "'|--- Na_to_K <= 14.829\\n|   |--- BP_cd <= 1.500\\n|   |   |--- BP_cd <= 0.500\\n|   |   |   |--- Ch_cd <= 0.500\\n|   |   |   |   |--- class: drugX\\n|   |   |   |--- Ch_cd >  0.500\\n|   |   |   |   |--- class: drugC\\n|   |   |--- BP_cd >  0.500\\n|   |   |   |--- class: drugX\\n|   |--- BP_cd >  1.500\\n|   |   |--- Age <= 50.500\\n|   |   |   |--- class: drugA\\n|   |   |--- Age >  50.500\\n|   |   |   |--- class: drugB\\n|--- Na_to_K >  14.829\\n|   |--- class: DrugY\\n'"
      ]
     },
     "execution_count": 137,
     "metadata": {},
     "output_type": "execute_result"
    }
   ],
   "source": [
    "export_text(dt, feature_names=var_list, decimals=3)"
   ]
  },
  {
   "cell_type": "code",
   "execution_count": 133,
   "id": "7b1f6e0a",
   "metadata": {},
   "outputs": [],
   "source": [
    "# 답 : Na_to_K, 14.829"
   ]
  },
  {
   "cell_type": "code",
   "execution_count": 138,
   "id": "52619db7",
   "metadata": {},
   "outputs": [],
   "source": [
    "dt2 = DecisionTreeClassifier().fit(q3[var_list], q3.Drug)"
   ]
  },
  {
   "cell_type": "code",
   "execution_count": 139,
   "id": "dbeeb74a",
   "metadata": {},
   "outputs": [
    {
     "data": {
      "text/plain": [
       "'|--- Na_to_K <= 14.829\\n|   |--- BP_cd <= 1.500\\n|   |   |--- BP_cd <= 0.500\\n|   |   |   |--- Ch_cd <= 0.500\\n|   |   |   |   |--- class: drugX\\n|   |   |   |--- Ch_cd >  0.500\\n|   |   |   |   |--- class: drugC\\n|   |   |--- BP_cd >  0.500\\n|   |   |   |--- class: drugX\\n|   |--- BP_cd >  1.500\\n|   |   |--- Age <= 50.500\\n|   |   |   |--- class: drugA\\n|   |   |--- Age >  50.500\\n|   |   |   |--- class: drugB\\n|--- Na_to_K >  14.829\\n|   |--- class: DrugY\\n'"
      ]
     },
     "execution_count": 139,
     "metadata": {},
     "output_type": "execute_result"
    }
   ],
   "source": [
    "export_text(dt2, feature_names=var_list, decimals=3)"
   ]
  },
  {
   "cell_type": "code",
   "execution_count": 140,
   "id": "5af14b8f",
   "metadata": {},
   "outputs": [],
   "source": [
    "# # 문제 03 유형(DataSet_03.csv 이용)\n",
    "# \n",
    "# 구분자 : comma(“,”), 5,001 Rows, 8 Columns, UTF-8 인코딩\n",
    "# 안경 체인을 운영하고 있는 한 회사에서 고객 사진을 바탕으로 안경의 사이즈를\n",
    "# 맞춤 제작하는 비즈니스를 기획하고 있다. 우선 데이터만으로 고객의 성별을\n",
    "# 파악하는 것이 가능할 지를 연구하고자 한다.\n",
    "#\n",
    "# 컬 럼 / 정 의 / Type\n",
    "# long_hair / 머리카락 길이 (0 – 길지 않은 경우 / 1 – 긴\n",
    "# 경우) / Integer\n",
    "# forehead_width_cm / 이마의 폭 (cm) / Double\n",
    "# forehead_height_cm / 이마의 높이 (cm) / Double\n",
    "# nose_wide / 코의 넓이 (0 – 넓지 않은 경우 / 1 – 넓은 경우) / Integer\n",
    "# nose_long / 코의 길이 (0 – 길지 않은 경우 / 1 – 긴 경우) / Integer\n",
    "# lips_thin / 입술이 얇은지 여부 0 – 얇지 않은 경우 / 1 –\n",
    "# 얇은 경우) / Integer\n",
    "# distance_nose_to_lip_long / 인중의 길이(0 – 인중이 짧은 경우 / 1 – 인중이\n",
    "# 긴 경우) / Integer\n",
    "# gender / 성별 (Female / Male) / String"
   ]
  },
  {
   "cell_type": "code",
   "execution_count": 141,
   "id": "0a256e3b",
   "metadata": {},
   "outputs": [],
   "source": [
    "import pandas as pd\n",
    "import numpy as np"
   ]
  },
  {
   "cell_type": "code",
   "execution_count": 142,
   "id": "9f2dfcd0",
   "metadata": {},
   "outputs": [
    {
     "data": {
      "text/html": [
       "<div>\n",
       "<style scoped>\n",
       "    .dataframe tbody tr th:only-of-type {\n",
       "        vertical-align: middle;\n",
       "    }\n",
       "\n",
       "    .dataframe tbody tr th {\n",
       "        vertical-align: top;\n",
       "    }\n",
       "\n",
       "    .dataframe thead th {\n",
       "        text-align: right;\n",
       "    }\n",
       "</style>\n",
       "<table border=\"1\" class=\"dataframe\">\n",
       "  <thead>\n",
       "    <tr style=\"text-align: right;\">\n",
       "      <th></th>\n",
       "      <th>long_hair</th>\n",
       "      <th>forehead_width_cm</th>\n",
       "      <th>forehead_height_cm</th>\n",
       "      <th>nose_wide</th>\n",
       "      <th>nose_long</th>\n",
       "      <th>lips_thin</th>\n",
       "      <th>distance_nose_to_lip_long</th>\n",
       "      <th>gender</th>\n",
       "    </tr>\n",
       "  </thead>\n",
       "  <tbody>\n",
       "    <tr>\n",
       "      <th>0</th>\n",
       "      <td>1</td>\n",
       "      <td>11.8</td>\n",
       "      <td>6.1</td>\n",
       "      <td>1</td>\n",
       "      <td>0</td>\n",
       "      <td>1</td>\n",
       "      <td>1</td>\n",
       "      <td>Male</td>\n",
       "    </tr>\n",
       "    <tr>\n",
       "      <th>1</th>\n",
       "      <td>0</td>\n",
       "      <td>14.0</td>\n",
       "      <td>5.4</td>\n",
       "      <td>0</td>\n",
       "      <td>0</td>\n",
       "      <td>1</td>\n",
       "      <td>0</td>\n",
       "      <td>Female</td>\n",
       "    </tr>\n",
       "    <tr>\n",
       "      <th>2</th>\n",
       "      <td>0</td>\n",
       "      <td>11.8</td>\n",
       "      <td>6.3</td>\n",
       "      <td>1</td>\n",
       "      <td>1</td>\n",
       "      <td>1</td>\n",
       "      <td>1</td>\n",
       "      <td>Male</td>\n",
       "    </tr>\n",
       "    <tr>\n",
       "      <th>3</th>\n",
       "      <td>0</td>\n",
       "      <td>14.4</td>\n",
       "      <td>6.1</td>\n",
       "      <td>0</td>\n",
       "      <td>1</td>\n",
       "      <td>1</td>\n",
       "      <td>1</td>\n",
       "      <td>Male</td>\n",
       "    </tr>\n",
       "    <tr>\n",
       "      <th>4</th>\n",
       "      <td>1</td>\n",
       "      <td>13.5</td>\n",
       "      <td>5.9</td>\n",
       "      <td>0</td>\n",
       "      <td>0</td>\n",
       "      <td>0</td>\n",
       "      <td>0</td>\n",
       "      <td>Female</td>\n",
       "    </tr>\n",
       "    <tr>\n",
       "      <th>...</th>\n",
       "      <td>...</td>\n",
       "      <td>...</td>\n",
       "      <td>...</td>\n",
       "      <td>...</td>\n",
       "      <td>...</td>\n",
       "      <td>...</td>\n",
       "      <td>...</td>\n",
       "      <td>...</td>\n",
       "    </tr>\n",
       "    <tr>\n",
       "      <th>4996</th>\n",
       "      <td>1</td>\n",
       "      <td>13.6</td>\n",
       "      <td>5.1</td>\n",
       "      <td>0</td>\n",
       "      <td>0</td>\n",
       "      <td>0</td>\n",
       "      <td>0</td>\n",
       "      <td>Female</td>\n",
       "    </tr>\n",
       "    <tr>\n",
       "      <th>4997</th>\n",
       "      <td>1</td>\n",
       "      <td>11.9</td>\n",
       "      <td>5.4</td>\n",
       "      <td>0</td>\n",
       "      <td>0</td>\n",
       "      <td>0</td>\n",
       "      <td>0</td>\n",
       "      <td>Female</td>\n",
       "    </tr>\n",
       "    <tr>\n",
       "      <th>4998</th>\n",
       "      <td>1</td>\n",
       "      <td>12.9</td>\n",
       "      <td>5.7</td>\n",
       "      <td>0</td>\n",
       "      <td>0</td>\n",
       "      <td>0</td>\n",
       "      <td>0</td>\n",
       "      <td>Female</td>\n",
       "    </tr>\n",
       "    <tr>\n",
       "      <th>4999</th>\n",
       "      <td>1</td>\n",
       "      <td>13.2</td>\n",
       "      <td>6.2</td>\n",
       "      <td>0</td>\n",
       "      <td>0</td>\n",
       "      <td>0</td>\n",
       "      <td>0</td>\n",
       "      <td>Female</td>\n",
       "    </tr>\n",
       "    <tr>\n",
       "      <th>5000</th>\n",
       "      <td>1</td>\n",
       "      <td>15.4</td>\n",
       "      <td>5.4</td>\n",
       "      <td>1</td>\n",
       "      <td>1</td>\n",
       "      <td>1</td>\n",
       "      <td>1</td>\n",
       "      <td>Male</td>\n",
       "    </tr>\n",
       "  </tbody>\n",
       "</table>\n",
       "<p>5001 rows × 8 columns</p>\n",
       "</div>"
      ],
      "text/plain": [
       "      long_hair  forehead_width_cm  forehead_height_cm  nose_wide  nose_long  \\\n",
       "0             1               11.8                 6.1          1          0   \n",
       "1             0               14.0                 5.4          0          0   \n",
       "2             0               11.8                 6.3          1          1   \n",
       "3             0               14.4                 6.1          0          1   \n",
       "4             1               13.5                 5.9          0          0   \n",
       "...         ...                ...                 ...        ...        ...   \n",
       "4996          1               13.6                 5.1          0          0   \n",
       "4997          1               11.9                 5.4          0          0   \n",
       "4998          1               12.9                 5.7          0          0   \n",
       "4999          1               13.2                 6.2          0          0   \n",
       "5000          1               15.4                 5.4          1          1   \n",
       "\n",
       "      lips_thin  distance_nose_to_lip_long  gender  \n",
       "0             1                          1    Male  \n",
       "1             1                          0  Female  \n",
       "2             1                          1    Male  \n",
       "3             1                          1    Male  \n",
       "4             0                          0  Female  \n",
       "...         ...                        ...     ...  \n",
       "4996          0                          0  Female  \n",
       "4997          0                          0  Female  \n",
       "4998          0                          0  Female  \n",
       "4999          0                          0  Female  \n",
       "5000          1                          1    Male  \n",
       "\n",
       "[5001 rows x 8 columns]"
      ]
     },
     "execution_count": 142,
     "metadata": {},
     "output_type": "execute_result"
    }
   ],
   "source": [
    "data03 = pd.read_csv('../Dataset/Dataset_03.csv')\n",
    "data03"
   ]
  },
  {
   "cell_type": "code",
   "execution_count": 143,
   "id": "0a9891c9",
   "metadata": {},
   "outputs": [],
   "source": [
    "# 1.이마의 폭(forehead_width_cm)과 높이(forehead_height_cm) 사이의\n",
    "# 비율(forehead_ratio)에 대해서 평균으로부터 3 표준편차 밖의 경우를 이상치로\n",
    "# 정의할 때, 이상치에 해당하는 데이터는 몇 개인가? (답안 예시) 10"
   ]
  },
  {
   "cell_type": "code",
   "execution_count": 144,
   "id": "f65a9a52",
   "metadata": {},
   "outputs": [
    {
     "data": {
      "text/html": [
       "<div>\n",
       "<style scoped>\n",
       "    .dataframe tbody tr th:only-of-type {\n",
       "        vertical-align: middle;\n",
       "    }\n",
       "\n",
       "    .dataframe tbody tr th {\n",
       "        vertical-align: top;\n",
       "    }\n",
       "\n",
       "    .dataframe thead th {\n",
       "        text-align: right;\n",
       "    }\n",
       "</style>\n",
       "<table border=\"1\" class=\"dataframe\">\n",
       "  <thead>\n",
       "    <tr style=\"text-align: right;\">\n",
       "      <th></th>\n",
       "      <th>long_hair</th>\n",
       "      <th>forehead_width_cm</th>\n",
       "      <th>forehead_height_cm</th>\n",
       "      <th>nose_wide</th>\n",
       "      <th>nose_long</th>\n",
       "      <th>lips_thin</th>\n",
       "      <th>distance_nose_to_lip_long</th>\n",
       "      <th>gender</th>\n",
       "    </tr>\n",
       "  </thead>\n",
       "  <tbody>\n",
       "    <tr>\n",
       "      <th>0</th>\n",
       "      <td>1</td>\n",
       "      <td>11.8</td>\n",
       "      <td>6.1</td>\n",
       "      <td>1</td>\n",
       "      <td>0</td>\n",
       "      <td>1</td>\n",
       "      <td>1</td>\n",
       "      <td>Male</td>\n",
       "    </tr>\n",
       "    <tr>\n",
       "      <th>1</th>\n",
       "      <td>0</td>\n",
       "      <td>14.0</td>\n",
       "      <td>5.4</td>\n",
       "      <td>0</td>\n",
       "      <td>0</td>\n",
       "      <td>1</td>\n",
       "      <td>0</td>\n",
       "      <td>Female</td>\n",
       "    </tr>\n",
       "    <tr>\n",
       "      <th>2</th>\n",
       "      <td>0</td>\n",
       "      <td>11.8</td>\n",
       "      <td>6.3</td>\n",
       "      <td>1</td>\n",
       "      <td>1</td>\n",
       "      <td>1</td>\n",
       "      <td>1</td>\n",
       "      <td>Male</td>\n",
       "    </tr>\n",
       "    <tr>\n",
       "      <th>3</th>\n",
       "      <td>0</td>\n",
       "      <td>14.4</td>\n",
       "      <td>6.1</td>\n",
       "      <td>0</td>\n",
       "      <td>1</td>\n",
       "      <td>1</td>\n",
       "      <td>1</td>\n",
       "      <td>Male</td>\n",
       "    </tr>\n",
       "    <tr>\n",
       "      <th>4</th>\n",
       "      <td>1</td>\n",
       "      <td>13.5</td>\n",
       "      <td>5.9</td>\n",
       "      <td>0</td>\n",
       "      <td>0</td>\n",
       "      <td>0</td>\n",
       "      <td>0</td>\n",
       "      <td>Female</td>\n",
       "    </tr>\n",
       "    <tr>\n",
       "      <th>...</th>\n",
       "      <td>...</td>\n",
       "      <td>...</td>\n",
       "      <td>...</td>\n",
       "      <td>...</td>\n",
       "      <td>...</td>\n",
       "      <td>...</td>\n",
       "      <td>...</td>\n",
       "      <td>...</td>\n",
       "    </tr>\n",
       "    <tr>\n",
       "      <th>4996</th>\n",
       "      <td>1</td>\n",
       "      <td>13.6</td>\n",
       "      <td>5.1</td>\n",
       "      <td>0</td>\n",
       "      <td>0</td>\n",
       "      <td>0</td>\n",
       "      <td>0</td>\n",
       "      <td>Female</td>\n",
       "    </tr>\n",
       "    <tr>\n",
       "      <th>4997</th>\n",
       "      <td>1</td>\n",
       "      <td>11.9</td>\n",
       "      <td>5.4</td>\n",
       "      <td>0</td>\n",
       "      <td>0</td>\n",
       "      <td>0</td>\n",
       "      <td>0</td>\n",
       "      <td>Female</td>\n",
       "    </tr>\n",
       "    <tr>\n",
       "      <th>4998</th>\n",
       "      <td>1</td>\n",
       "      <td>12.9</td>\n",
       "      <td>5.7</td>\n",
       "      <td>0</td>\n",
       "      <td>0</td>\n",
       "      <td>0</td>\n",
       "      <td>0</td>\n",
       "      <td>Female</td>\n",
       "    </tr>\n",
       "    <tr>\n",
       "      <th>4999</th>\n",
       "      <td>1</td>\n",
       "      <td>13.2</td>\n",
       "      <td>6.2</td>\n",
       "      <td>0</td>\n",
       "      <td>0</td>\n",
       "      <td>0</td>\n",
       "      <td>0</td>\n",
       "      <td>Female</td>\n",
       "    </tr>\n",
       "    <tr>\n",
       "      <th>5000</th>\n",
       "      <td>1</td>\n",
       "      <td>15.4</td>\n",
       "      <td>5.4</td>\n",
       "      <td>1</td>\n",
       "      <td>1</td>\n",
       "      <td>1</td>\n",
       "      <td>1</td>\n",
       "      <td>Male</td>\n",
       "    </tr>\n",
       "  </tbody>\n",
       "</table>\n",
       "<p>5001 rows × 8 columns</p>\n",
       "</div>"
      ],
      "text/plain": [
       "      long_hair  forehead_width_cm  forehead_height_cm  nose_wide  nose_long  \\\n",
       "0             1               11.8                 6.1          1          0   \n",
       "1             0               14.0                 5.4          0          0   \n",
       "2             0               11.8                 6.3          1          1   \n",
       "3             0               14.4                 6.1          0          1   \n",
       "4             1               13.5                 5.9          0          0   \n",
       "...         ...                ...                 ...        ...        ...   \n",
       "4996          1               13.6                 5.1          0          0   \n",
       "4997          1               11.9                 5.4          0          0   \n",
       "4998          1               12.9                 5.7          0          0   \n",
       "4999          1               13.2                 6.2          0          0   \n",
       "5000          1               15.4                 5.4          1          1   \n",
       "\n",
       "      lips_thin  distance_nose_to_lip_long  gender  \n",
       "0             1                          1    Male  \n",
       "1             1                          0  Female  \n",
       "2             1                          1    Male  \n",
       "3             1                          1    Male  \n",
       "4             0                          0  Female  \n",
       "...         ...                        ...     ...  \n",
       "4996          0                          0  Female  \n",
       "4997          0                          0  Female  \n",
       "4998          0                          0  Female  \n",
       "4999          0                          0  Female  \n",
       "5000          1                          1    Male  \n",
       "\n",
       "[5001 rows x 8 columns]"
      ]
     },
     "execution_count": 144,
     "metadata": {},
     "output_type": "execute_result"
    }
   ],
   "source": [
    "q1 = data03.copy()\n",
    "q1"
   ]
  },
  {
   "cell_type": "code",
   "execution_count": 145,
   "id": "d6219b99",
   "metadata": {},
   "outputs": [],
   "source": [
    "q1['forehead_ratio'] = q1['forehead_width_cm'] / q1['forehead_height_cm']\n",
    "x_bar = q1['forehead_ratio'].mean()\n",
    "std = q1['forehead_ratio'].std()"
   ]
  },
  {
   "cell_type": "code",
   "execution_count": 146,
   "id": "bb51a6d9",
   "metadata": {},
   "outputs": [],
   "source": [
    "ub = x_bar + (3*std)\n",
    "lb = x_bar - (3*std)"
   ]
  },
  {
   "cell_type": "code",
   "execution_count": 148,
   "id": "6e8fa4b1",
   "metadata": {},
   "outputs": [
    {
     "data": {
      "text/plain": [
       "3"
      ]
     },
     "execution_count": 148,
     "metadata": {},
     "output_type": "execute_result"
    }
   ],
   "source": [
    "len(q1[(q1['forehead_ratio'] > ub) | (q1['forehead_ratio'] < lb)])"
   ]
  },
  {
   "cell_type": "code",
   "execution_count": 149,
   "id": "b6264858",
   "metadata": {},
   "outputs": [],
   "source": [
    "# 답 : 3"
   ]
  },
  {
   "cell_type": "code",
   "execution_count": 150,
   "id": "514e10c6",
   "metadata": {},
   "outputs": [],
   "source": [
    "# 2.성별에 따라 forehead_ratio 평균에 차이가 있는지 적절한 통계 검정을 수행하시오.\n",
    "# - 검정은 이분산을 가정하고 수행한다.\n",
    "# - 검정통계량의 추정치는 절대값을 취한 후 소수점 셋째 자리까지 반올림하여\n",
    "# 기술하시오.\n",
    "# - 신뢰수준 99%에서 양측 검정을 수행하고 결과는 귀무가설 기각의 경우 Y로, 그렇지\n",
    "# 않을 경우 N으로 답하시오. (답안 예시) 1.234, Y"
   ]
  },
  {
   "cell_type": "code",
   "execution_count": 151,
   "id": "d1485e03",
   "metadata": {},
   "outputs": [],
   "source": [
    "from scipy.stats import ttest_ind, ttest_rel"
   ]
  },
  {
   "cell_type": "code",
   "execution_count": 152,
   "id": "0b9972c0",
   "metadata": {},
   "outputs": [
    {
     "data": {
      "text/plain": [
       "Index(['long_hair', 'forehead_width_cm', 'forehead_height_cm', 'nose_wide',\n",
       "       'nose_long', 'lips_thin', 'distance_nose_to_lip_long', 'gender',\n",
       "       'forehead_ratio'],\n",
       "      dtype='object')"
      ]
     },
     "execution_count": 152,
     "metadata": {},
     "output_type": "execute_result"
    }
   ],
   "source": [
    "q1.columns"
   ]
  },
  {
   "cell_type": "code",
   "execution_count": 153,
   "id": "8b44c1e0",
   "metadata": {},
   "outputs": [
    {
     "data": {
      "text/plain": [
       "array(['Male', 'Female'], dtype=object)"
      ]
     },
     "execution_count": 153,
     "metadata": {},
     "output_type": "execute_result"
    }
   ],
   "source": [
    "q1.gender.unique()"
   ]
  },
  {
   "cell_type": "code",
   "execution_count": 154,
   "id": "152028b7",
   "metadata": {},
   "outputs": [],
   "source": [
    "g_m = q1[q1.gender == 'Male']['forehead_ratio']\n",
    "g_f = q1[q1.gender == 'Female']['forehead_ratio']"
   ]
  },
  {
   "cell_type": "code",
   "execution_count": 156,
   "id": "b9444e85",
   "metadata": {},
   "outputs": [],
   "source": [
    "q2_out = ttest_ind(g_m, g_f, equal_var=False)"
   ]
  },
  {
   "cell_type": "code",
   "execution_count": 157,
   "id": "7c728881",
   "metadata": {},
   "outputs": [
    {
     "data": {
      "text/plain": [
       "Ttest_indResult(statistic=2.9994984197511543, pvalue=0.0027186702390657176)"
      ]
     },
     "execution_count": 157,
     "metadata": {},
     "output_type": "execute_result"
    }
   ],
   "source": [
    "q2_out"
   ]
  },
  {
   "cell_type": "code",
   "execution_count": 159,
   "id": "3b9dbebe",
   "metadata": {},
   "outputs": [
    {
     "data": {
      "text/plain": [
       "2.999"
      ]
     },
     "execution_count": 159,
     "metadata": {},
     "output_type": "execute_result"
    }
   ],
   "source": [
    "round(q2_out.statistic, 3)"
   ]
  },
  {
   "cell_type": "code",
   "execution_count": 161,
   "id": "320c8ffa",
   "metadata": {},
   "outputs": [
    {
     "data": {
      "text/plain": [
       "True"
      ]
     },
     "execution_count": 161,
     "metadata": {},
     "output_type": "execute_result"
    }
   ],
   "source": [
    "q2_out.pvalue < 0.01"
   ]
  },
  {
   "cell_type": "code",
   "execution_count": 162,
   "id": "36decbdc",
   "metadata": {},
   "outputs": [],
   "source": [
    "# 답 : 2.999, Y"
   ]
  },
  {
   "cell_type": "code",
   "execution_count": 163,
   "id": "9b0943fb",
   "metadata": {},
   "outputs": [],
   "source": [
    "# 3.주어진 데이터를 사용하여 성별을 구분할 수 있는지 로지스틱 회귀분석을 적용하여\n",
    "# 알아 보고자 한다. \n",
    "# - 데이터를 7대 3으로 나누어 각각 Train과 Test set로 사용한다. 이 때 seed는 123으로\n",
    "# 한다.\n",
    "# - 원 데이터에 있는 7개의 변수만 Feature로 사용하고 gender를 label로 사용한다.\n",
    "# (forehead_ratio는 사용하지 않음)\n",
    "# - 로지스틱 회귀분석 예측 함수와 Test dataset를 사용하여 예측을 수행하고 정확도를\n",
    "# 평가한다. 이 때 임계값은 0.5를 사용한다. \n",
    "# - Male의 Precision 값을 소수점 둘째 자리까지 반올림하여 기술하시오. (답안 예시) \n",
    "# 0.12\n",
    "# \n",
    "# \n",
    "# (참고) \n",
    "# from sklearn.linear_model import LogisticRegression\n",
    "# from sklearn.model_selection import train_test_split\n",
    "# from sklearn import metrics\n",
    "# train_test_split 의 random_state = 123"
   ]
  },
  {
   "cell_type": "code",
   "execution_count": 164,
   "id": "fd177a5c",
   "metadata": {},
   "outputs": [
    {
     "data": {
      "text/html": [
       "<div>\n",
       "<style scoped>\n",
       "    .dataframe tbody tr th:only-of-type {\n",
       "        vertical-align: middle;\n",
       "    }\n",
       "\n",
       "    .dataframe tbody tr th {\n",
       "        vertical-align: top;\n",
       "    }\n",
       "\n",
       "    .dataframe thead th {\n",
       "        text-align: right;\n",
       "    }\n",
       "</style>\n",
       "<table border=\"1\" class=\"dataframe\">\n",
       "  <thead>\n",
       "    <tr style=\"text-align: right;\">\n",
       "      <th></th>\n",
       "      <th>long_hair</th>\n",
       "      <th>forehead_width_cm</th>\n",
       "      <th>forehead_height_cm</th>\n",
       "      <th>nose_wide</th>\n",
       "      <th>nose_long</th>\n",
       "      <th>lips_thin</th>\n",
       "      <th>distance_nose_to_lip_long</th>\n",
       "      <th>gender</th>\n",
       "    </tr>\n",
       "  </thead>\n",
       "  <tbody>\n",
       "    <tr>\n",
       "      <th>0</th>\n",
       "      <td>1</td>\n",
       "      <td>11.8</td>\n",
       "      <td>6.1</td>\n",
       "      <td>1</td>\n",
       "      <td>0</td>\n",
       "      <td>1</td>\n",
       "      <td>1</td>\n",
       "      <td>Male</td>\n",
       "    </tr>\n",
       "    <tr>\n",
       "      <th>1</th>\n",
       "      <td>0</td>\n",
       "      <td>14.0</td>\n",
       "      <td>5.4</td>\n",
       "      <td>0</td>\n",
       "      <td>0</td>\n",
       "      <td>1</td>\n",
       "      <td>0</td>\n",
       "      <td>Female</td>\n",
       "    </tr>\n",
       "    <tr>\n",
       "      <th>2</th>\n",
       "      <td>0</td>\n",
       "      <td>11.8</td>\n",
       "      <td>6.3</td>\n",
       "      <td>1</td>\n",
       "      <td>1</td>\n",
       "      <td>1</td>\n",
       "      <td>1</td>\n",
       "      <td>Male</td>\n",
       "    </tr>\n",
       "    <tr>\n",
       "      <th>3</th>\n",
       "      <td>0</td>\n",
       "      <td>14.4</td>\n",
       "      <td>6.1</td>\n",
       "      <td>0</td>\n",
       "      <td>1</td>\n",
       "      <td>1</td>\n",
       "      <td>1</td>\n",
       "      <td>Male</td>\n",
       "    </tr>\n",
       "    <tr>\n",
       "      <th>4</th>\n",
       "      <td>1</td>\n",
       "      <td>13.5</td>\n",
       "      <td>5.9</td>\n",
       "      <td>0</td>\n",
       "      <td>0</td>\n",
       "      <td>0</td>\n",
       "      <td>0</td>\n",
       "      <td>Female</td>\n",
       "    </tr>\n",
       "    <tr>\n",
       "      <th>...</th>\n",
       "      <td>...</td>\n",
       "      <td>...</td>\n",
       "      <td>...</td>\n",
       "      <td>...</td>\n",
       "      <td>...</td>\n",
       "      <td>...</td>\n",
       "      <td>...</td>\n",
       "      <td>...</td>\n",
       "    </tr>\n",
       "    <tr>\n",
       "      <th>4996</th>\n",
       "      <td>1</td>\n",
       "      <td>13.6</td>\n",
       "      <td>5.1</td>\n",
       "      <td>0</td>\n",
       "      <td>0</td>\n",
       "      <td>0</td>\n",
       "      <td>0</td>\n",
       "      <td>Female</td>\n",
       "    </tr>\n",
       "    <tr>\n",
       "      <th>4997</th>\n",
       "      <td>1</td>\n",
       "      <td>11.9</td>\n",
       "      <td>5.4</td>\n",
       "      <td>0</td>\n",
       "      <td>0</td>\n",
       "      <td>0</td>\n",
       "      <td>0</td>\n",
       "      <td>Female</td>\n",
       "    </tr>\n",
       "    <tr>\n",
       "      <th>4998</th>\n",
       "      <td>1</td>\n",
       "      <td>12.9</td>\n",
       "      <td>5.7</td>\n",
       "      <td>0</td>\n",
       "      <td>0</td>\n",
       "      <td>0</td>\n",
       "      <td>0</td>\n",
       "      <td>Female</td>\n",
       "    </tr>\n",
       "    <tr>\n",
       "      <th>4999</th>\n",
       "      <td>1</td>\n",
       "      <td>13.2</td>\n",
       "      <td>6.2</td>\n",
       "      <td>0</td>\n",
       "      <td>0</td>\n",
       "      <td>0</td>\n",
       "      <td>0</td>\n",
       "      <td>Female</td>\n",
       "    </tr>\n",
       "    <tr>\n",
       "      <th>5000</th>\n",
       "      <td>1</td>\n",
       "      <td>15.4</td>\n",
       "      <td>5.4</td>\n",
       "      <td>1</td>\n",
       "      <td>1</td>\n",
       "      <td>1</td>\n",
       "      <td>1</td>\n",
       "      <td>Male</td>\n",
       "    </tr>\n",
       "  </tbody>\n",
       "</table>\n",
       "<p>5001 rows × 8 columns</p>\n",
       "</div>"
      ],
      "text/plain": [
       "      long_hair  forehead_width_cm  forehead_height_cm  nose_wide  nose_long  \\\n",
       "0             1               11.8                 6.1          1          0   \n",
       "1             0               14.0                 5.4          0          0   \n",
       "2             0               11.8                 6.3          1          1   \n",
       "3             0               14.4                 6.1          0          1   \n",
       "4             1               13.5                 5.9          0          0   \n",
       "...         ...                ...                 ...        ...        ...   \n",
       "4996          1               13.6                 5.1          0          0   \n",
       "4997          1               11.9                 5.4          0          0   \n",
       "4998          1               12.9                 5.7          0          0   \n",
       "4999          1               13.2                 6.2          0          0   \n",
       "5000          1               15.4                 5.4          1          1   \n",
       "\n",
       "      lips_thin  distance_nose_to_lip_long  gender  \n",
       "0             1                          1    Male  \n",
       "1             1                          0  Female  \n",
       "2             1                          1    Male  \n",
       "3             1                          1    Male  \n",
       "4             0                          0  Female  \n",
       "...         ...                        ...     ...  \n",
       "4996          0                          0  Female  \n",
       "4997          0                          0  Female  \n",
       "4998          0                          0  Female  \n",
       "4999          0                          0  Female  \n",
       "5000          1                          1    Male  \n",
       "\n",
       "[5001 rows x 8 columns]"
      ]
     },
     "execution_count": 164,
     "metadata": {},
     "output_type": "execute_result"
    }
   ],
   "source": [
    "q3 = data03.copy()\n",
    "q3"
   ]
  },
  {
   "cell_type": "code",
   "execution_count": 165,
   "id": "11a773bf",
   "metadata": {},
   "outputs": [],
   "source": [
    "from sklearn.linear_model import LogisticRegression\n",
    "from sklearn.model_selection import train_test_split\n",
    "from sklearn.metrics import precision_score, classification_report"
   ]
  },
  {
   "cell_type": "code",
   "execution_count": 166,
   "id": "31b3ab75",
   "metadata": {},
   "outputs": [],
   "source": [
    "train, test = train_test_split(q3, test_size=0.3, random_state=123)"
   ]
  },
  {
   "cell_type": "code",
   "execution_count": 167,
   "id": "bdd45991",
   "metadata": {},
   "outputs": [],
   "source": [
    "var_list = q3.columns.drop('gender')"
   ]
  },
  {
   "cell_type": "code",
   "execution_count": 168,
   "id": "b2cab5a1",
   "metadata": {},
   "outputs": [],
   "source": [
    "logit = LogisticRegression().fit(train[var_list], train['gender'])"
   ]
  },
  {
   "cell_type": "code",
   "execution_count": 169,
   "id": "efac8ec6",
   "metadata": {},
   "outputs": [
    {
     "data": {
      "text/plain": [
       "array(['Male', 'Male', 'Male', ..., 'Female', 'Male', 'Male'],\n",
       "      dtype=object)"
      ]
     },
     "execution_count": 169,
     "metadata": {},
     "output_type": "execute_result"
    }
   ],
   "source": [
    "q3_pred = logit.predict(test[var_list])\n",
    "q3_pred"
   ]
  },
  {
   "cell_type": "code",
   "execution_count": 170,
   "id": "3330641c",
   "metadata": {},
   "outputs": [
    {
     "data": {
      "text/plain": [
       "0.9596354166666666"
      ]
     },
     "execution_count": 170,
     "metadata": {},
     "output_type": "execute_result"
    }
   ],
   "source": [
    "precision_score(test['gender'], q3_pred, pos_label='Male')"
   ]
  },
  {
   "cell_type": "code",
   "execution_count": 172,
   "id": "0dffc118",
   "metadata": {},
   "outputs": [
    {
     "name": "stdout",
     "output_type": "stream",
     "text": [
      "              precision    recall  f1-score   support\n",
      "\n",
      "      Female       0.97      0.96      0.96       743\n",
      "        Male       0.96      0.97      0.97       758\n",
      "\n",
      "    accuracy                           0.97      1501\n",
      "   macro avg       0.97      0.97      0.97      1501\n",
      "weighted avg       0.97      0.97      0.97      1501\n",
      "\n"
     ]
    }
   ],
   "source": [
    "print(classification_report(test['gender'], q3_pred))"
   ]
  },
  {
   "cell_type": "code",
   "execution_count": 173,
   "id": "60ee8163",
   "metadata": {},
   "outputs": [],
   "source": [
    "# 답 : 0.96"
   ]
  },
  {
   "cell_type": "code",
   "execution_count": 175,
   "id": "7a24d7d1",
   "metadata": {},
   "outputs": [],
   "source": [
    "# =============================================================================\n",
    "# =============================================================================\n",
    "# # 문제 04 유형(DataSet_04.csv 이용)\n",
    "#\n",
    "# 구분자 : comma(“,”), 6,718 Rows, 4 Columns, UTF-8 인코딩\n",
    "\n",
    "# 한국인의 식생활 변화가 건강에 미치는 영향을 분석하기에 앞서 육류\n",
    "# 소비량에 대한 분석을 하려고 한다. 확보한 데이터는 세계 각국의 1인당\n",
    "# 육류 소비량 데이터로 아래와 같은 내용을 담고 있다.\n",
    "\n",
    "# 컬 럼 / 정 의 / Type\n",
    "# LOCATION / 국가명 / String\n",
    "# SUBJECT / 육류 종류 (BEEF / PIG / POULTRY / SHEEP) / String\n",
    "# TIME / 연도 (1990 ~ 2026) / Integer\n",
    "# Value / 1인당 육류 소비량 (KG) / Double\n",
    "# =============================================================================\n",
    "# =============================================================================\n",
    "\n",
    "# (참고)\n",
    "# #1\n",
    "# import pandas as pd\n",
    "# import numpy as np\n",
    "# #2\n",
    "# from scipy.stats import ttest_rel\n",
    "# #3\n",
    "# from sklearn.linear_model import LinearRegression"
   ]
  },
  {
   "cell_type": "code",
   "execution_count": 176,
   "id": "ba3b4402",
   "metadata": {},
   "outputs": [],
   "source": [
    "import pandas as pd\n",
    "import numpy as np"
   ]
  },
  {
   "cell_type": "code",
   "execution_count": 177,
   "id": "cc544295",
   "metadata": {},
   "outputs": [
    {
     "data": {
      "text/html": [
       "<div>\n",
       "<style scoped>\n",
       "    .dataframe tbody tr th:only-of-type {\n",
       "        vertical-align: middle;\n",
       "    }\n",
       "\n",
       "    .dataframe tbody tr th {\n",
       "        vertical-align: top;\n",
       "    }\n",
       "\n",
       "    .dataframe thead th {\n",
       "        text-align: right;\n",
       "    }\n",
       "</style>\n",
       "<table border=\"1\" class=\"dataframe\">\n",
       "  <thead>\n",
       "    <tr style=\"text-align: right;\">\n",
       "      <th></th>\n",
       "      <th>LOCATION</th>\n",
       "      <th>SUBJECT</th>\n",
       "      <th>TIME</th>\n",
       "      <th>Value</th>\n",
       "    </tr>\n",
       "  </thead>\n",
       "  <tbody>\n",
       "    <tr>\n",
       "      <th>0</th>\n",
       "      <td>AUS</td>\n",
       "      <td>BEEF</td>\n",
       "      <td>1991</td>\n",
       "      <td>27.721815</td>\n",
       "    </tr>\n",
       "    <tr>\n",
       "      <th>1</th>\n",
       "      <td>AUS</td>\n",
       "      <td>BEEF</td>\n",
       "      <td>1992</td>\n",
       "      <td>26.199591</td>\n",
       "    </tr>\n",
       "    <tr>\n",
       "      <th>2</th>\n",
       "      <td>AUS</td>\n",
       "      <td>BEEF</td>\n",
       "      <td>1993</td>\n",
       "      <td>26.169094</td>\n",
       "    </tr>\n",
       "    <tr>\n",
       "      <th>3</th>\n",
       "      <td>AUS</td>\n",
       "      <td>BEEF</td>\n",
       "      <td>1994</td>\n",
       "      <td>25.456134</td>\n",
       "    </tr>\n",
       "    <tr>\n",
       "      <th>4</th>\n",
       "      <td>AUS</td>\n",
       "      <td>BEEF</td>\n",
       "      <td>1995</td>\n",
       "      <td>25.340226</td>\n",
       "    </tr>\n",
       "    <tr>\n",
       "      <th>...</th>\n",
       "      <td>...</td>\n",
       "      <td>...</td>\n",
       "      <td>...</td>\n",
       "      <td>...</td>\n",
       "    </tr>\n",
       "    <tr>\n",
       "      <th>6713</th>\n",
       "      <td>EU28</td>\n",
       "      <td>SHEEP</td>\n",
       "      <td>2022</td>\n",
       "      <td>2.012270</td>\n",
       "    </tr>\n",
       "    <tr>\n",
       "      <th>6714</th>\n",
       "      <td>EU28</td>\n",
       "      <td>SHEEP</td>\n",
       "      <td>2023</td>\n",
       "      <td>2.018727</td>\n",
       "    </tr>\n",
       "    <tr>\n",
       "      <th>6715</th>\n",
       "      <td>EU28</td>\n",
       "      <td>SHEEP</td>\n",
       "      <td>2024</td>\n",
       "      <td>2.026332</td>\n",
       "    </tr>\n",
       "    <tr>\n",
       "      <th>6716</th>\n",
       "      <td>EU28</td>\n",
       "      <td>SHEEP</td>\n",
       "      <td>2025</td>\n",
       "      <td>2.034105</td>\n",
       "    </tr>\n",
       "    <tr>\n",
       "      <th>6717</th>\n",
       "      <td>EU28</td>\n",
       "      <td>SHEEP</td>\n",
       "      <td>2026</td>\n",
       "      <td>2.043498</td>\n",
       "    </tr>\n",
       "  </tbody>\n",
       "</table>\n",
       "<p>6718 rows × 4 columns</p>\n",
       "</div>"
      ],
      "text/plain": [
       "     LOCATION SUBJECT  TIME      Value\n",
       "0         AUS    BEEF  1991  27.721815\n",
       "1         AUS    BEEF  1992  26.199591\n",
       "2         AUS    BEEF  1993  26.169094\n",
       "3         AUS    BEEF  1994  25.456134\n",
       "4         AUS    BEEF  1995  25.340226\n",
       "...       ...     ...   ...        ...\n",
       "6713     EU28   SHEEP  2022   2.012270\n",
       "6714     EU28   SHEEP  2023   2.018727\n",
       "6715     EU28   SHEEP  2024   2.026332\n",
       "6716     EU28   SHEEP  2025   2.034105\n",
       "6717     EU28   SHEEP  2026   2.043498\n",
       "\n",
       "[6718 rows x 4 columns]"
      ]
     },
     "execution_count": 177,
     "metadata": {},
     "output_type": "execute_result"
    }
   ],
   "source": [
    "data04 = pd.read_csv('../Dataset/Dataset_04.csv')\n",
    "data04"
   ]
  },
  {
   "cell_type": "code",
   "execution_count": 178,
   "id": "08ec4efb",
   "metadata": {},
   "outputs": [],
   "source": [
    "# 1.한국인의 1인당 육류 소비량이 해가 갈수록 증가하는 것으로 보여 상관분석을 통하여\n",
    "# 확인하려고 한다.\n",
    "# - 데이터 파일로부터 한국 데이터만 추출한다. 한국은 KOR로 표기되어 있다.\n",
    "# - 년도별 육류 소비량 합계를 구하여 TIME과 Value간의 상관분석을 수행하고\n",
    "# 상관계수를 소수점 셋째 자리에서 반올림하여 소수점 둘째 자리까지만 기술하시오.\n",
    "# (답안 예시) 0.55"
   ]
  },
  {
   "cell_type": "code",
   "execution_count": 179,
   "id": "1be3dff4",
   "metadata": {},
   "outputs": [
    {
     "data": {
      "text/plain": [
       "array(['AUS', 'CAN', 'JPN', 'KOR', 'MEX', 'NZL', 'TUR', 'USA', 'DZA',\n",
       "       'ARG', 'BGD', 'BRA', 'CHL', 'CHN', 'COL', 'EGY', 'ETH', 'GHA',\n",
       "       'HTI', 'IND', 'IDN', 'IRN', 'ISR', 'KAZ', 'MYS', 'MOZ', 'NGA',\n",
       "       'PAK', 'PRY', 'PER', 'PHL', 'RUS', 'SAU', 'ZAF', 'SDN', 'TZA',\n",
       "       'THA', 'UKR', 'URY', 'VNM', 'ZMB', 'WLD', 'SSA', 'OECD', 'BRICS',\n",
       "       'EU28'], dtype=object)"
      ]
     },
     "execution_count": 179,
     "metadata": {},
     "output_type": "execute_result"
    }
   ],
   "source": [
    "data04.LOCATION.unique()"
   ]
  },
  {
   "cell_type": "code",
   "execution_count": 180,
   "id": "9b92813c",
   "metadata": {},
   "outputs": [
    {
     "data": {
      "text/plain": [
       "Index(['LOCATION', 'SUBJECT', 'TIME', 'Value'], dtype='object')"
      ]
     },
     "execution_count": 180,
     "metadata": {},
     "output_type": "execute_result"
    }
   ],
   "source": [
    "data04.columns"
   ]
  },
  {
   "cell_type": "code",
   "execution_count": 181,
   "id": "f2ab055d",
   "metadata": {},
   "outputs": [
    {
     "data": {
      "text/html": [
       "<div>\n",
       "<style scoped>\n",
       "    .dataframe tbody tr th:only-of-type {\n",
       "        vertical-align: middle;\n",
       "    }\n",
       "\n",
       "    .dataframe tbody tr th {\n",
       "        vertical-align: top;\n",
       "    }\n",
       "\n",
       "    .dataframe thead th {\n",
       "        text-align: right;\n",
       "    }\n",
       "</style>\n",
       "<table border=\"1\" class=\"dataframe\">\n",
       "  <thead>\n",
       "    <tr style=\"text-align: right;\">\n",
       "      <th></th>\n",
       "      <th>LOCATION</th>\n",
       "      <th>SUBJECT</th>\n",
       "      <th>TIME</th>\n",
       "      <th>Value</th>\n",
       "    </tr>\n",
       "  </thead>\n",
       "  <tbody>\n",
       "    <tr>\n",
       "      <th>442</th>\n",
       "      <td>KOR</td>\n",
       "      <td>BEEF</td>\n",
       "      <td>1991</td>\n",
       "      <td>5.085481</td>\n",
       "    </tr>\n",
       "    <tr>\n",
       "      <th>443</th>\n",
       "      <td>KOR</td>\n",
       "      <td>BEEF</td>\n",
       "      <td>1992</td>\n",
       "      <td>5.685434</td>\n",
       "    </tr>\n",
       "    <tr>\n",
       "      <th>444</th>\n",
       "      <td>KOR</td>\n",
       "      <td>BEEF</td>\n",
       "      <td>1993</td>\n",
       "      <td>5.325765</td>\n",
       "    </tr>\n",
       "    <tr>\n",
       "      <th>445</th>\n",
       "      <td>KOR</td>\n",
       "      <td>BEEF</td>\n",
       "      <td>1994</td>\n",
       "      <td>5.698819</td>\n",
       "    </tr>\n",
       "    <tr>\n",
       "      <th>446</th>\n",
       "      <td>KOR</td>\n",
       "      <td>BEEF</td>\n",
       "      <td>1995</td>\n",
       "      <td>6.568429</td>\n",
       "    </tr>\n",
       "    <tr>\n",
       "      <th>...</th>\n",
       "      <td>...</td>\n",
       "      <td>...</td>\n",
       "      <td>...</td>\n",
       "      <td>...</td>\n",
       "    </tr>\n",
       "    <tr>\n",
       "      <th>583</th>\n",
       "      <td>KOR</td>\n",
       "      <td>SHEEP</td>\n",
       "      <td>2022</td>\n",
       "      <td>0.197951</td>\n",
       "    </tr>\n",
       "    <tr>\n",
       "      <th>584</th>\n",
       "      <td>KOR</td>\n",
       "      <td>SHEEP</td>\n",
       "      <td>2023</td>\n",
       "      <td>0.199098</td>\n",
       "    </tr>\n",
       "    <tr>\n",
       "      <th>585</th>\n",
       "      <td>KOR</td>\n",
       "      <td>SHEEP</td>\n",
       "      <td>2024</td>\n",
       "      <td>0.200266</td>\n",
       "    </tr>\n",
       "    <tr>\n",
       "      <th>586</th>\n",
       "      <td>KOR</td>\n",
       "      <td>SHEEP</td>\n",
       "      <td>2025</td>\n",
       "      <td>0.201451</td>\n",
       "    </tr>\n",
       "    <tr>\n",
       "      <th>587</th>\n",
       "      <td>KOR</td>\n",
       "      <td>SHEEP</td>\n",
       "      <td>2026</td>\n",
       "      <td>0.202656</td>\n",
       "    </tr>\n",
       "  </tbody>\n",
       "</table>\n",
       "<p>146 rows × 4 columns</p>\n",
       "</div>"
      ],
      "text/plain": [
       "    LOCATION SUBJECT  TIME     Value\n",
       "442      KOR    BEEF  1991  5.085481\n",
       "443      KOR    BEEF  1992  5.685434\n",
       "444      KOR    BEEF  1993  5.325765\n",
       "445      KOR    BEEF  1994  5.698819\n",
       "446      KOR    BEEF  1995  6.568429\n",
       "..       ...     ...   ...       ...\n",
       "583      KOR   SHEEP  2022  0.197951\n",
       "584      KOR   SHEEP  2023  0.199098\n",
       "585      KOR   SHEEP  2024  0.200266\n",
       "586      KOR   SHEEP  2025  0.201451\n",
       "587      KOR   SHEEP  2026  0.202656\n",
       "\n",
       "[146 rows x 4 columns]"
      ]
     },
     "execution_count": 181,
     "metadata": {},
     "output_type": "execute_result"
    }
   ],
   "source": [
    "q1 = data04[data04.LOCATION == 'KOR']\n",
    "q1"
   ]
  },
  {
   "cell_type": "code",
   "execution_count": 184,
   "id": "6cfa660c",
   "metadata": {},
   "outputs": [
    {
     "data": {
      "text/html": [
       "<div>\n",
       "<style scoped>\n",
       "    .dataframe tbody tr th:only-of-type {\n",
       "        vertical-align: middle;\n",
       "    }\n",
       "\n",
       "    .dataframe tbody tr th {\n",
       "        vertical-align: top;\n",
       "    }\n",
       "\n",
       "    .dataframe thead th {\n",
       "        text-align: right;\n",
       "    }\n",
       "</style>\n",
       "<table border=\"1\" class=\"dataframe\">\n",
       "  <thead>\n",
       "    <tr style=\"text-align: right;\">\n",
       "      <th></th>\n",
       "      <th>LOCATION</th>\n",
       "      <th>SUBJECT</th>\n",
       "      <th>TIME</th>\n",
       "      <th>Value</th>\n",
       "    </tr>\n",
       "  </thead>\n",
       "  <tbody>\n",
       "    <tr>\n",
       "      <th>442</th>\n",
       "      <td>KOR</td>\n",
       "      <td>BEEF</td>\n",
       "      <td>1991</td>\n",
       "      <td>5.085481</td>\n",
       "    </tr>\n",
       "    <tr>\n",
       "      <th>478</th>\n",
       "      <td>KOR</td>\n",
       "      <td>PIG</td>\n",
       "      <td>1991</td>\n",
       "      <td>9.930182</td>\n",
       "    </tr>\n",
       "    <tr>\n",
       "      <th>515</th>\n",
       "      <td>KOR</td>\n",
       "      <td>POULTRY</td>\n",
       "      <td>1991</td>\n",
       "      <td>6.738203</td>\n",
       "    </tr>\n",
       "    <tr>\n",
       "      <th>552</th>\n",
       "      <td>KOR</td>\n",
       "      <td>SHEEP</td>\n",
       "      <td>1991</td>\n",
       "      <td>0.157341</td>\n",
       "    </tr>\n",
       "  </tbody>\n",
       "</table>\n",
       "</div>"
      ],
      "text/plain": [
       "    LOCATION  SUBJECT  TIME     Value\n",
       "442      KOR     BEEF  1991  5.085481\n",
       "478      KOR      PIG  1991  9.930182\n",
       "515      KOR  POULTRY  1991  6.738203\n",
       "552      KOR    SHEEP  1991  0.157341"
      ]
     },
     "execution_count": 184,
     "metadata": {},
     "output_type": "execute_result"
    }
   ],
   "source": [
    "q1[q1.TIME == 1991]"
   ]
  },
  {
   "cell_type": "code",
   "execution_count": 182,
   "id": "1fd17844",
   "metadata": {
    "scrolled": true
   },
   "outputs": [
    {
     "data": {
      "text/plain": [
       "TIME\n",
       "1990     5.774255\n",
       "1991    21.911207\n",
       "1992    26.901769\n",
       "1993    26.938255\n",
       "1994    27.877341\n",
       "1995    30.042035\n",
       "1996    31.928922\n",
       "1997    32.002991\n",
       "1998    30.009057\n",
       "1999    35.383138\n",
       "2000    34.957160\n",
       "2001    35.336550\n",
       "2002    37.162442\n",
       "2003    39.471677\n",
       "2004    35.171424\n",
       "2005    36.617273\n",
       "2006    41.910995\n",
       "2007    43.690430\n",
       "2008    43.941183\n",
       "2009    43.336372\n",
       "2010    46.412261\n",
       "2011    46.799325\n",
       "2012    46.128025\n",
       "2013    49.496899\n",
       "2014    53.274723\n",
       "2015    55.254123\n",
       "2016    55.665778\n",
       "2017    55.885227\n",
       "2018    56.146592\n",
       "2019    56.394942\n",
       "2020    56.643664\n",
       "2021    56.900853\n",
       "2022    57.194312\n",
       "2023    57.491758\n",
       "2024    57.781372\n",
       "2025    58.083483\n",
       "2026    58.392009\n",
       "Name: Value, dtype: float64"
      ]
     },
     "execution_count": 182,
     "metadata": {},
     "output_type": "execute_result"
    }
   ],
   "source": [
    "q1_tab = q1.groupby('TIME')['Value'].sum()\n",
    "q1_tab"
   ]
  },
  {
   "cell_type": "code",
   "execution_count": 183,
   "id": "f0d6e863",
   "metadata": {},
   "outputs": [
    {
     "data": {
      "text/html": [
       "<div>\n",
       "<style scoped>\n",
       "    .dataframe tbody tr th:only-of-type {\n",
       "        vertical-align: middle;\n",
       "    }\n",
       "\n",
       "    .dataframe tbody tr th {\n",
       "        vertical-align: top;\n",
       "    }\n",
       "\n",
       "    .dataframe thead th {\n",
       "        text-align: right;\n",
       "    }\n",
       "</style>\n",
       "<table border=\"1\" class=\"dataframe\">\n",
       "  <thead>\n",
       "    <tr style=\"text-align: right;\">\n",
       "      <th></th>\n",
       "      <th>TIME</th>\n",
       "      <th>Value</th>\n",
       "    </tr>\n",
       "  </thead>\n",
       "  <tbody>\n",
       "    <tr>\n",
       "      <th>0</th>\n",
       "      <td>1990</td>\n",
       "      <td>5.774255</td>\n",
       "    </tr>\n",
       "    <tr>\n",
       "      <th>1</th>\n",
       "      <td>1991</td>\n",
       "      <td>21.911207</td>\n",
       "    </tr>\n",
       "    <tr>\n",
       "      <th>2</th>\n",
       "      <td>1992</td>\n",
       "      <td>26.901769</td>\n",
       "    </tr>\n",
       "    <tr>\n",
       "      <th>3</th>\n",
       "      <td>1993</td>\n",
       "      <td>26.938255</td>\n",
       "    </tr>\n",
       "    <tr>\n",
       "      <th>4</th>\n",
       "      <td>1994</td>\n",
       "      <td>27.877341</td>\n",
       "    </tr>\n",
       "    <tr>\n",
       "      <th>5</th>\n",
       "      <td>1995</td>\n",
       "      <td>30.042035</td>\n",
       "    </tr>\n",
       "    <tr>\n",
       "      <th>6</th>\n",
       "      <td>1996</td>\n",
       "      <td>31.928922</td>\n",
       "    </tr>\n",
       "    <tr>\n",
       "      <th>7</th>\n",
       "      <td>1997</td>\n",
       "      <td>32.002991</td>\n",
       "    </tr>\n",
       "    <tr>\n",
       "      <th>8</th>\n",
       "      <td>1998</td>\n",
       "      <td>30.009057</td>\n",
       "    </tr>\n",
       "    <tr>\n",
       "      <th>9</th>\n",
       "      <td>1999</td>\n",
       "      <td>35.383138</td>\n",
       "    </tr>\n",
       "    <tr>\n",
       "      <th>10</th>\n",
       "      <td>2000</td>\n",
       "      <td>34.957160</td>\n",
       "    </tr>\n",
       "    <tr>\n",
       "      <th>11</th>\n",
       "      <td>2001</td>\n",
       "      <td>35.336550</td>\n",
       "    </tr>\n",
       "    <tr>\n",
       "      <th>12</th>\n",
       "      <td>2002</td>\n",
       "      <td>37.162442</td>\n",
       "    </tr>\n",
       "    <tr>\n",
       "      <th>13</th>\n",
       "      <td>2003</td>\n",
       "      <td>39.471677</td>\n",
       "    </tr>\n",
       "    <tr>\n",
       "      <th>14</th>\n",
       "      <td>2004</td>\n",
       "      <td>35.171424</td>\n",
       "    </tr>\n",
       "    <tr>\n",
       "      <th>15</th>\n",
       "      <td>2005</td>\n",
       "      <td>36.617273</td>\n",
       "    </tr>\n",
       "    <tr>\n",
       "      <th>16</th>\n",
       "      <td>2006</td>\n",
       "      <td>41.910995</td>\n",
       "    </tr>\n",
       "    <tr>\n",
       "      <th>17</th>\n",
       "      <td>2007</td>\n",
       "      <td>43.690430</td>\n",
       "    </tr>\n",
       "    <tr>\n",
       "      <th>18</th>\n",
       "      <td>2008</td>\n",
       "      <td>43.941183</td>\n",
       "    </tr>\n",
       "    <tr>\n",
       "      <th>19</th>\n",
       "      <td>2009</td>\n",
       "      <td>43.336372</td>\n",
       "    </tr>\n",
       "    <tr>\n",
       "      <th>20</th>\n",
       "      <td>2010</td>\n",
       "      <td>46.412261</td>\n",
       "    </tr>\n",
       "    <tr>\n",
       "      <th>21</th>\n",
       "      <td>2011</td>\n",
       "      <td>46.799325</td>\n",
       "    </tr>\n",
       "    <tr>\n",
       "      <th>22</th>\n",
       "      <td>2012</td>\n",
       "      <td>46.128025</td>\n",
       "    </tr>\n",
       "    <tr>\n",
       "      <th>23</th>\n",
       "      <td>2013</td>\n",
       "      <td>49.496899</td>\n",
       "    </tr>\n",
       "    <tr>\n",
       "      <th>24</th>\n",
       "      <td>2014</td>\n",
       "      <td>53.274723</td>\n",
       "    </tr>\n",
       "    <tr>\n",
       "      <th>25</th>\n",
       "      <td>2015</td>\n",
       "      <td>55.254123</td>\n",
       "    </tr>\n",
       "    <tr>\n",
       "      <th>26</th>\n",
       "      <td>2016</td>\n",
       "      <td>55.665778</td>\n",
       "    </tr>\n",
       "    <tr>\n",
       "      <th>27</th>\n",
       "      <td>2017</td>\n",
       "      <td>55.885227</td>\n",
       "    </tr>\n",
       "    <tr>\n",
       "      <th>28</th>\n",
       "      <td>2018</td>\n",
       "      <td>56.146592</td>\n",
       "    </tr>\n",
       "    <tr>\n",
       "      <th>29</th>\n",
       "      <td>2019</td>\n",
       "      <td>56.394942</td>\n",
       "    </tr>\n",
       "    <tr>\n",
       "      <th>30</th>\n",
       "      <td>2020</td>\n",
       "      <td>56.643664</td>\n",
       "    </tr>\n",
       "    <tr>\n",
       "      <th>31</th>\n",
       "      <td>2021</td>\n",
       "      <td>56.900853</td>\n",
       "    </tr>\n",
       "    <tr>\n",
       "      <th>32</th>\n",
       "      <td>2022</td>\n",
       "      <td>57.194312</td>\n",
       "    </tr>\n",
       "    <tr>\n",
       "      <th>33</th>\n",
       "      <td>2023</td>\n",
       "      <td>57.491758</td>\n",
       "    </tr>\n",
       "    <tr>\n",
       "      <th>34</th>\n",
       "      <td>2024</td>\n",
       "      <td>57.781372</td>\n",
       "    </tr>\n",
       "    <tr>\n",
       "      <th>35</th>\n",
       "      <td>2025</td>\n",
       "      <td>58.083483</td>\n",
       "    </tr>\n",
       "    <tr>\n",
       "      <th>36</th>\n",
       "      <td>2026</td>\n",
       "      <td>58.392009</td>\n",
       "    </tr>\n",
       "  </tbody>\n",
       "</table>\n",
       "</div>"
      ],
      "text/plain": [
       "    TIME      Value\n",
       "0   1990   5.774255\n",
       "1   1991  21.911207\n",
       "2   1992  26.901769\n",
       "3   1993  26.938255\n",
       "4   1994  27.877341\n",
       "5   1995  30.042035\n",
       "6   1996  31.928922\n",
       "7   1997  32.002991\n",
       "8   1998  30.009057\n",
       "9   1999  35.383138\n",
       "10  2000  34.957160\n",
       "11  2001  35.336550\n",
       "12  2002  37.162442\n",
       "13  2003  39.471677\n",
       "14  2004  35.171424\n",
       "15  2005  36.617273\n",
       "16  2006  41.910995\n",
       "17  2007  43.690430\n",
       "18  2008  43.941183\n",
       "19  2009  43.336372\n",
       "20  2010  46.412261\n",
       "21  2011  46.799325\n",
       "22  2012  46.128025\n",
       "23  2013  49.496899\n",
       "24  2014  53.274723\n",
       "25  2015  55.254123\n",
       "26  2016  55.665778\n",
       "27  2017  55.885227\n",
       "28  2018  56.146592\n",
       "29  2019  56.394942\n",
       "30  2020  56.643664\n",
       "31  2021  56.900853\n",
       "32  2022  57.194312\n",
       "33  2023  57.491758\n",
       "34  2024  57.781372\n",
       "35  2025  58.083483\n",
       "36  2026  58.392009"
      ]
     },
     "execution_count": 183,
     "metadata": {},
     "output_type": "execute_result"
    }
   ],
   "source": [
    "q1_tab2 = q1_tab.reset_index()\n",
    "q1_tab2"
   ]
  },
  {
   "cell_type": "code",
   "execution_count": 185,
   "id": "023b06cb",
   "metadata": {},
   "outputs": [
    {
     "data": {
      "text/html": [
       "<div>\n",
       "<style scoped>\n",
       "    .dataframe tbody tr th:only-of-type {\n",
       "        vertical-align: middle;\n",
       "    }\n",
       "\n",
       "    .dataframe tbody tr th {\n",
       "        vertical-align: top;\n",
       "    }\n",
       "\n",
       "    .dataframe thead th {\n",
       "        text-align: right;\n",
       "    }\n",
       "</style>\n",
       "<table border=\"1\" class=\"dataframe\">\n",
       "  <thead>\n",
       "    <tr style=\"text-align: right;\">\n",
       "      <th></th>\n",
       "      <th>TIME</th>\n",
       "      <th>Value</th>\n",
       "    </tr>\n",
       "  </thead>\n",
       "  <tbody>\n",
       "    <tr>\n",
       "      <th>TIME</th>\n",
       "      <td>1.000000</td>\n",
       "      <td>0.960124</td>\n",
       "    </tr>\n",
       "    <tr>\n",
       "      <th>Value</th>\n",
       "      <td>0.960124</td>\n",
       "      <td>1.000000</td>\n",
       "    </tr>\n",
       "  </tbody>\n",
       "</table>\n",
       "</div>"
      ],
      "text/plain": [
       "           TIME     Value\n",
       "TIME   1.000000  0.960124\n",
       "Value  0.960124  1.000000"
      ]
     },
     "execution_count": 185,
     "metadata": {},
     "output_type": "execute_result"
    }
   ],
   "source": [
    "q1_tab2.corr()"
   ]
  },
  {
   "cell_type": "code",
   "execution_count": 186,
   "id": "b1c60283",
   "metadata": {},
   "outputs": [
    {
     "data": {
      "text/plain": [
       "TIME     1.000000\n",
       "Value    0.960124\n",
       "Name: TIME, dtype: float64"
      ]
     },
     "execution_count": 186,
     "metadata": {},
     "output_type": "execute_result"
    }
   ],
   "source": [
    "q1_tab2.corr()['TIME']"
   ]
  },
  {
   "cell_type": "code",
   "execution_count": 187,
   "id": "ac65071b",
   "metadata": {},
   "outputs": [
    {
     "data": {
      "text/plain": [
       "0.9601244896033333"
      ]
     },
     "execution_count": 187,
     "metadata": {},
     "output_type": "execute_result"
    }
   ],
   "source": [
    "q1_tab2.corr()['TIME']['Value']"
   ]
  },
  {
   "cell_type": "code",
   "execution_count": 188,
   "id": "4377324a",
   "metadata": {},
   "outputs": [],
   "source": [
    "# 답 : 0.96"
   ]
  },
  {
   "cell_type": "code",
   "execution_count": 189,
   "id": "4d2f5029",
   "metadata": {},
   "outputs": [],
   "source": [
    "# 2. 한국 인근 국가 가운데 식생의 유사성이 상대적으로 높은 일본(JPN)과 비교하여, 연도별\n",
    "# 소비량에 평균 차이가 있는지 분석하고자 한다.\n",
    "# - 두 국가의 육류별 소비량을 연도기준으로 비교하는 대응표본 t 검정을 수행하시오.\n",
    "# - 두 국가 간의 연도별 소비량 차이가 없는 것으로 판단할 수 있는 육류 종류를 모두\n",
    "# 적으시오. (알파벳 순서) (답안 예시) BEEF, PIG, POULTRY, SHEEP"
   ]
  },
  {
   "cell_type": "code",
   "execution_count": 190,
   "id": "a2f819c7",
   "metadata": {},
   "outputs": [
    {
     "data": {
      "text/html": [
       "<div>\n",
       "<style scoped>\n",
       "    .dataframe tbody tr th:only-of-type {\n",
       "        vertical-align: middle;\n",
       "    }\n",
       "\n",
       "    .dataframe tbody tr th {\n",
       "        vertical-align: top;\n",
       "    }\n",
       "\n",
       "    .dataframe thead th {\n",
       "        text-align: right;\n",
       "    }\n",
       "</style>\n",
       "<table border=\"1\" class=\"dataframe\">\n",
       "  <thead>\n",
       "    <tr style=\"text-align: right;\">\n",
       "      <th></th>\n",
       "      <th>LOCATION</th>\n",
       "      <th>SUBJECT</th>\n",
       "      <th>TIME</th>\n",
       "      <th>Value</th>\n",
       "    </tr>\n",
       "  </thead>\n",
       "  <tbody>\n",
       "    <tr>\n",
       "      <th>294</th>\n",
       "      <td>JPN</td>\n",
       "      <td>BEEF</td>\n",
       "      <td>1990</td>\n",
       "      <td>6.111035</td>\n",
       "    </tr>\n",
       "    <tr>\n",
       "      <th>295</th>\n",
       "      <td>JPN</td>\n",
       "      <td>BEEF</td>\n",
       "      <td>1991</td>\n",
       "      <td>6.517055</td>\n",
       "    </tr>\n",
       "    <tr>\n",
       "      <th>296</th>\n",
       "      <td>JPN</td>\n",
       "      <td>BEEF</td>\n",
       "      <td>1992</td>\n",
       "      <td>6.766244</td>\n",
       "    </tr>\n",
       "    <tr>\n",
       "      <th>297</th>\n",
       "      <td>JPN</td>\n",
       "      <td>BEEF</td>\n",
       "      <td>1993</td>\n",
       "      <td>7.406407</td>\n",
       "    </tr>\n",
       "    <tr>\n",
       "      <th>298</th>\n",
       "      <td>JPN</td>\n",
       "      <td>BEEF</td>\n",
       "      <td>1994</td>\n",
       "      <td>8.129090</td>\n",
       "    </tr>\n",
       "    <tr>\n",
       "      <th>...</th>\n",
       "      <td>...</td>\n",
       "      <td>...</td>\n",
       "      <td>...</td>\n",
       "      <td>...</td>\n",
       "    </tr>\n",
       "    <tr>\n",
       "      <th>583</th>\n",
       "      <td>KOR</td>\n",
       "      <td>SHEEP</td>\n",
       "      <td>2022</td>\n",
       "      <td>0.197951</td>\n",
       "    </tr>\n",
       "    <tr>\n",
       "      <th>584</th>\n",
       "      <td>KOR</td>\n",
       "      <td>SHEEP</td>\n",
       "      <td>2023</td>\n",
       "      <td>0.199098</td>\n",
       "    </tr>\n",
       "    <tr>\n",
       "      <th>585</th>\n",
       "      <td>KOR</td>\n",
       "      <td>SHEEP</td>\n",
       "      <td>2024</td>\n",
       "      <td>0.200266</td>\n",
       "    </tr>\n",
       "    <tr>\n",
       "      <th>586</th>\n",
       "      <td>KOR</td>\n",
       "      <td>SHEEP</td>\n",
       "      <td>2025</td>\n",
       "      <td>0.201451</td>\n",
       "    </tr>\n",
       "    <tr>\n",
       "      <th>587</th>\n",
       "      <td>KOR</td>\n",
       "      <td>SHEEP</td>\n",
       "      <td>2026</td>\n",
       "      <td>0.202656</td>\n",
       "    </tr>\n",
       "  </tbody>\n",
       "</table>\n",
       "<p>294 rows × 4 columns</p>\n",
       "</div>"
      ],
      "text/plain": [
       "    LOCATION SUBJECT  TIME     Value\n",
       "294      JPN    BEEF  1990  6.111035\n",
       "295      JPN    BEEF  1991  6.517055\n",
       "296      JPN    BEEF  1992  6.766244\n",
       "297      JPN    BEEF  1993  7.406407\n",
       "298      JPN    BEEF  1994  8.129090\n",
       "..       ...     ...   ...       ...\n",
       "583      KOR   SHEEP  2022  0.197951\n",
       "584      KOR   SHEEP  2023  0.199098\n",
       "585      KOR   SHEEP  2024  0.200266\n",
       "586      KOR   SHEEP  2025  0.201451\n",
       "587      KOR   SHEEP  2026  0.202656\n",
       "\n",
       "[294 rows x 4 columns]"
      ]
     },
     "execution_count": 190,
     "metadata": {},
     "output_type": "execute_result"
    }
   ],
   "source": [
    "q2 = data04[data04.LOCATION.isin(['KOR', 'JPN'])]\n",
    "q2"
   ]
  },
  {
   "cell_type": "code",
   "execution_count": 191,
   "id": "dea5089a",
   "metadata": {},
   "outputs": [
    {
     "data": {
      "text/plain": [
       "array(['BEEF', 'PIG', 'POULTRY', 'SHEEP'], dtype=object)"
      ]
     },
     "execution_count": 191,
     "metadata": {},
     "output_type": "execute_result"
    }
   ],
   "source": [
    "q2.SUBJECT.unique()"
   ]
  },
  {
   "cell_type": "code",
   "execution_count": 192,
   "id": "fca1d7a5",
   "metadata": {},
   "outputs": [],
   "source": [
    "sub_list = q2.SUBJECT.unique()"
   ]
  },
  {
   "cell_type": "code",
   "execution_count": 193,
   "id": "6b520b9a",
   "metadata": {},
   "outputs": [],
   "source": [
    "from scipy.stats import ttest_rel"
   ]
  },
  {
   "cell_type": "code",
   "execution_count": 195,
   "id": "6bc293fe",
   "metadata": {},
   "outputs": [
    {
     "data": {
      "text/html": [
       "<div>\n",
       "<style scoped>\n",
       "    .dataframe tbody tr th:only-of-type {\n",
       "        vertical-align: middle;\n",
       "    }\n",
       "\n",
       "    .dataframe tbody tr th {\n",
       "        vertical-align: top;\n",
       "    }\n",
       "\n",
       "    .dataframe thead th {\n",
       "        text-align: right;\n",
       "    }\n",
       "</style>\n",
       "<table border=\"1\" class=\"dataframe\">\n",
       "  <thead>\n",
       "    <tr style=\"text-align: right;\">\n",
       "      <th></th>\n",
       "      <th>LOCATION</th>\n",
       "      <th>SUBJECT</th>\n",
       "      <th>TIME</th>\n",
       "      <th>Value</th>\n",
       "    </tr>\n",
       "  </thead>\n",
       "  <tbody>\n",
       "    <tr>\n",
       "      <th>294</th>\n",
       "      <td>JPN</td>\n",
       "      <td>BEEF</td>\n",
       "      <td>1990</td>\n",
       "      <td>6.111035</td>\n",
       "    </tr>\n",
       "    <tr>\n",
       "      <th>295</th>\n",
       "      <td>JPN</td>\n",
       "      <td>BEEF</td>\n",
       "      <td>1991</td>\n",
       "      <td>6.517055</td>\n",
       "    </tr>\n",
       "    <tr>\n",
       "      <th>296</th>\n",
       "      <td>JPN</td>\n",
       "      <td>BEEF</td>\n",
       "      <td>1992</td>\n",
       "      <td>6.766244</td>\n",
       "    </tr>\n",
       "    <tr>\n",
       "      <th>297</th>\n",
       "      <td>JPN</td>\n",
       "      <td>BEEF</td>\n",
       "      <td>1993</td>\n",
       "      <td>7.406407</td>\n",
       "    </tr>\n",
       "    <tr>\n",
       "      <th>298</th>\n",
       "      <td>JPN</td>\n",
       "      <td>BEEF</td>\n",
       "      <td>1994</td>\n",
       "      <td>8.129090</td>\n",
       "    </tr>\n",
       "    <tr>\n",
       "      <th>...</th>\n",
       "      <td>...</td>\n",
       "      <td>...</td>\n",
       "      <td>...</td>\n",
       "      <td>...</td>\n",
       "    </tr>\n",
       "    <tr>\n",
       "      <th>473</th>\n",
       "      <td>KOR</td>\n",
       "      <td>BEEF</td>\n",
       "      <td>2022</td>\n",
       "      <td>10.510670</td>\n",
       "    </tr>\n",
       "    <tr>\n",
       "      <th>474</th>\n",
       "      <td>KOR</td>\n",
       "      <td>BEEF</td>\n",
       "      <td>2023</td>\n",
       "      <td>10.573124</td>\n",
       "    </tr>\n",
       "    <tr>\n",
       "      <th>475</th>\n",
       "      <td>KOR</td>\n",
       "      <td>BEEF</td>\n",
       "      <td>2024</td>\n",
       "      <td>10.615220</td>\n",
       "    </tr>\n",
       "    <tr>\n",
       "      <th>476</th>\n",
       "      <td>KOR</td>\n",
       "      <td>BEEF</td>\n",
       "      <td>2025</td>\n",
       "      <td>10.672393</td>\n",
       "    </tr>\n",
       "    <tr>\n",
       "      <th>477</th>\n",
       "      <td>KOR</td>\n",
       "      <td>BEEF</td>\n",
       "      <td>2026</td>\n",
       "      <td>10.737425</td>\n",
       "    </tr>\n",
       "  </tbody>\n",
       "</table>\n",
       "<p>73 rows × 4 columns</p>\n",
       "</div>"
      ],
      "text/plain": [
       "    LOCATION SUBJECT  TIME      Value\n",
       "294      JPN    BEEF  1990   6.111035\n",
       "295      JPN    BEEF  1991   6.517055\n",
       "296      JPN    BEEF  1992   6.766244\n",
       "297      JPN    BEEF  1993   7.406407\n",
       "298      JPN    BEEF  1994   8.129090\n",
       "..       ...     ...   ...        ...\n",
       "473      KOR    BEEF  2022  10.510670\n",
       "474      KOR    BEEF  2023  10.573124\n",
       "475      KOR    BEEF  2024  10.615220\n",
       "476      KOR    BEEF  2025  10.672393\n",
       "477      KOR    BEEF  2026  10.737425\n",
       "\n",
       "[73 rows x 4 columns]"
      ]
     },
     "execution_count": 195,
     "metadata": {},
     "output_type": "execute_result"
    }
   ],
   "source": [
    "temp = q2[q2.SUBJECT == 'BEEF']\n",
    "temp"
   ]
  },
  {
   "cell_type": "code",
   "execution_count": 196,
   "id": "75f9d6d1",
   "metadata": {},
   "outputs": [
    {
     "data": {
      "text/html": [
       "<div>\n",
       "<style scoped>\n",
       "    .dataframe tbody tr th:only-of-type {\n",
       "        vertical-align: middle;\n",
       "    }\n",
       "\n",
       "    .dataframe tbody tr th {\n",
       "        vertical-align: top;\n",
       "    }\n",
       "\n",
       "    .dataframe thead th {\n",
       "        text-align: right;\n",
       "    }\n",
       "</style>\n",
       "<table border=\"1\" class=\"dataframe\">\n",
       "  <thead>\n",
       "    <tr style=\"text-align: right;\">\n",
       "      <th>LOCATION</th>\n",
       "      <th>JPN</th>\n",
       "      <th>KOR</th>\n",
       "    </tr>\n",
       "    <tr>\n",
       "      <th>TIME</th>\n",
       "      <th></th>\n",
       "      <th></th>\n",
       "    </tr>\n",
       "  </thead>\n",
       "  <tbody>\n",
       "    <tr>\n",
       "      <th>1991</th>\n",
       "      <td>6.517055</td>\n",
       "      <td>5.085481</td>\n",
       "    </tr>\n",
       "    <tr>\n",
       "      <th>1992</th>\n",
       "      <td>6.766244</td>\n",
       "      <td>5.685434</td>\n",
       "    </tr>\n",
       "    <tr>\n",
       "      <th>1993</th>\n",
       "      <td>7.406407</td>\n",
       "      <td>5.325765</td>\n",
       "    </tr>\n",
       "    <tr>\n",
       "      <th>1994</th>\n",
       "      <td>8.129090</td>\n",
       "      <td>5.698819</td>\n",
       "    </tr>\n",
       "    <tr>\n",
       "      <th>1995</th>\n",
       "      <td>8.535522</td>\n",
       "      <td>6.568429</td>\n",
       "    </tr>\n",
       "    <tr>\n",
       "      <th>1996</th>\n",
       "      <td>8.084060</td>\n",
       "      <td>6.829306</td>\n",
       "    </tr>\n",
       "    <tr>\n",
       "      <th>1997</th>\n",
       "      <td>8.191633</td>\n",
       "      <td>7.729010</td>\n",
       "    </tr>\n",
       "    <tr>\n",
       "      <th>1998</th>\n",
       "      <td>8.307415</td>\n",
       "      <td>6.969364</td>\n",
       "    </tr>\n",
       "    <tr>\n",
       "      <th>1999</th>\n",
       "      <td>8.293816</td>\n",
       "      <td>8.279547</td>\n",
       "    </tr>\n",
       "    <tr>\n",
       "      <th>2000</th>\n",
       "      <td>8.742209</td>\n",
       "      <td>8.620042</td>\n",
       "    </tr>\n",
       "    <tr>\n",
       "      <th>2001</th>\n",
       "      <td>7.126962</td>\n",
       "      <td>7.458288</td>\n",
       "    </tr>\n",
       "    <tr>\n",
       "      <th>2002</th>\n",
       "      <td>7.221160</td>\n",
       "      <td>8.466337</td>\n",
       "    </tr>\n",
       "    <tr>\n",
       "      <th>2003</th>\n",
       "      <td>7.064563</td>\n",
       "      <td>8.154708</td>\n",
       "    </tr>\n",
       "    <tr>\n",
       "      <th>2004</th>\n",
       "      <td>7.040785</td>\n",
       "      <td>6.632395</td>\n",
       "    </tr>\n",
       "    <tr>\n",
       "      <th>2005</th>\n",
       "      <td>6.300511</td>\n",
       "      <td>6.112208</td>\n",
       "    </tr>\n",
       "    <tr>\n",
       "      <th>2006</th>\n",
       "      <td>6.250167</td>\n",
       "      <td>6.780561</td>\n",
       "    </tr>\n",
       "    <tr>\n",
       "      <th>2007</th>\n",
       "      <td>6.442418</td>\n",
       "      <td>7.565595</td>\n",
       "    </tr>\n",
       "    <tr>\n",
       "      <th>2008</th>\n",
       "      <td>6.446810</td>\n",
       "      <td>7.792233</td>\n",
       "    </tr>\n",
       "    <tr>\n",
       "      <th>2009</th>\n",
       "      <td>6.553641</td>\n",
       "      <td>7.271493</td>\n",
       "    </tr>\n",
       "    <tr>\n",
       "      <th>2010</th>\n",
       "      <td>6.771115</td>\n",
       "      <td>8.398852</td>\n",
       "    </tr>\n",
       "    <tr>\n",
       "      <th>2011</th>\n",
       "      <td>6.788026</td>\n",
       "      <td>8.778951</td>\n",
       "    </tr>\n",
       "    <tr>\n",
       "      <th>2012</th>\n",
       "      <td>6.798861</td>\n",
       "      <td>8.903725</td>\n",
       "    </tr>\n",
       "    <tr>\n",
       "      <th>2013</th>\n",
       "      <td>6.797341</td>\n",
       "      <td>9.310536</td>\n",
       "    </tr>\n",
       "    <tr>\n",
       "      <th>2014</th>\n",
       "      <td>6.761355</td>\n",
       "      <td>9.743501</td>\n",
       "    </tr>\n",
       "    <tr>\n",
       "      <th>2015</th>\n",
       "      <td>6.564993</td>\n",
       "      <td>10.007270</td>\n",
       "    </tr>\n",
       "    <tr>\n",
       "      <th>2016</th>\n",
       "      <td>6.597658</td>\n",
       "      <td>10.256627</td>\n",
       "    </tr>\n",
       "    <tr>\n",
       "      <th>2017</th>\n",
       "      <td>6.617495</td>\n",
       "      <td>10.324729</td>\n",
       "    </tr>\n",
       "    <tr>\n",
       "      <th>2018</th>\n",
       "      <td>6.656652</td>\n",
       "      <td>10.356358</td>\n",
       "    </tr>\n",
       "    <tr>\n",
       "      <th>2019</th>\n",
       "      <td>6.657268</td>\n",
       "      <td>10.368119</td>\n",
       "    </tr>\n",
       "    <tr>\n",
       "      <th>2020</th>\n",
       "      <td>6.678658</td>\n",
       "      <td>10.404599</td>\n",
       "    </tr>\n",
       "    <tr>\n",
       "      <th>2021</th>\n",
       "      <td>6.701448</td>\n",
       "      <td>10.455635</td>\n",
       "    </tr>\n",
       "    <tr>\n",
       "      <th>2022</th>\n",
       "      <td>6.725468</td>\n",
       "      <td>10.510670</td>\n",
       "    </tr>\n",
       "    <tr>\n",
       "      <th>2023</th>\n",
       "      <td>6.753031</td>\n",
       "      <td>10.573124</td>\n",
       "    </tr>\n",
       "    <tr>\n",
       "      <th>2024</th>\n",
       "      <td>6.778399</td>\n",
       "      <td>10.615220</td>\n",
       "    </tr>\n",
       "    <tr>\n",
       "      <th>2025</th>\n",
       "      <td>6.808254</td>\n",
       "      <td>10.672393</td>\n",
       "    </tr>\n",
       "    <tr>\n",
       "      <th>2026</th>\n",
       "      <td>6.844875</td>\n",
       "      <td>10.737425</td>\n",
       "    </tr>\n",
       "  </tbody>\n",
       "</table>\n",
       "</div>"
      ],
      "text/plain": [
       "LOCATION       JPN        KOR\n",
       "TIME                         \n",
       "1991      6.517055   5.085481\n",
       "1992      6.766244   5.685434\n",
       "1993      7.406407   5.325765\n",
       "1994      8.129090   5.698819\n",
       "1995      8.535522   6.568429\n",
       "1996      8.084060   6.829306\n",
       "1997      8.191633   7.729010\n",
       "1998      8.307415   6.969364\n",
       "1999      8.293816   8.279547\n",
       "2000      8.742209   8.620042\n",
       "2001      7.126962   7.458288\n",
       "2002      7.221160   8.466337\n",
       "2003      7.064563   8.154708\n",
       "2004      7.040785   6.632395\n",
       "2005      6.300511   6.112208\n",
       "2006      6.250167   6.780561\n",
       "2007      6.442418   7.565595\n",
       "2008      6.446810   7.792233\n",
       "2009      6.553641   7.271493\n",
       "2010      6.771115   8.398852\n",
       "2011      6.788026   8.778951\n",
       "2012      6.798861   8.903725\n",
       "2013      6.797341   9.310536\n",
       "2014      6.761355   9.743501\n",
       "2015      6.564993  10.007270\n",
       "2016      6.597658  10.256627\n",
       "2017      6.617495  10.324729\n",
       "2018      6.656652  10.356358\n",
       "2019      6.657268  10.368119\n",
       "2020      6.678658  10.404599\n",
       "2021      6.701448  10.455635\n",
       "2022      6.725468  10.510670\n",
       "2023      6.753031  10.573124\n",
       "2024      6.778399  10.615220\n",
       "2025      6.808254  10.672393\n",
       "2026      6.844875  10.737425"
      ]
     },
     "execution_count": 196,
     "metadata": {},
     "output_type": "execute_result"
    }
   ],
   "source": [
    "q2_tab = pd.pivot_table(temp, index='TIME', columns='LOCATION', values='Value').dropna()\n",
    "q2_tab"
   ]
  },
  {
   "cell_type": "code",
   "execution_count": 197,
   "id": "6fe5d82f",
   "metadata": {},
   "outputs": [
    {
     "data": {
      "text/plain": [
       "Ttest_relResult(statistic=3.956315918475474, pvalue=0.0003541915661863236)"
      ]
     },
     "execution_count": 197,
     "metadata": {},
     "output_type": "execute_result"
    }
   ],
   "source": [
    "q2_out = ttest_rel(q2_tab['KOR'], q2_tab['JPN'])\n",
    "q2_out"
   ]
  },
  {
   "cell_type": "code",
   "execution_count": 198,
   "id": "17ef8861",
   "metadata": {},
   "outputs": [
    {
     "data": {
      "text/plain": [
       "0.0003541915661863236"
      ]
     },
     "execution_count": 198,
     "metadata": {},
     "output_type": "execute_result"
    }
   ],
   "source": [
    "pvalue = q2_out.pvalue\n",
    "pvalue"
   ]
  },
  {
   "cell_type": "code",
   "execution_count": 199,
   "id": "f106e351",
   "metadata": {},
   "outputs": [
    {
     "data": {
      "text/html": [
       "<div>\n",
       "<style scoped>\n",
       "    .dataframe tbody tr th:only-of-type {\n",
       "        vertical-align: middle;\n",
       "    }\n",
       "\n",
       "    .dataframe tbody tr th {\n",
       "        vertical-align: top;\n",
       "    }\n",
       "\n",
       "    .dataframe thead th {\n",
       "        text-align: right;\n",
       "    }\n",
       "</style>\n",
       "<table border=\"1\" class=\"dataframe\">\n",
       "  <thead>\n",
       "    <tr style=\"text-align: right;\">\n",
       "      <th></th>\n",
       "      <th>sub</th>\n",
       "      <th>pvalue</th>\n",
       "    </tr>\n",
       "  </thead>\n",
       "  <tbody>\n",
       "    <tr>\n",
       "      <th>0</th>\n",
       "      <td>BEEF</td>\n",
       "      <td>3.541916e-04</td>\n",
       "    </tr>\n",
       "    <tr>\n",
       "      <th>1</th>\n",
       "      <td>PIG</td>\n",
       "      <td>1.063500e-10</td>\n",
       "    </tr>\n",
       "    <tr>\n",
       "      <th>2</th>\n",
       "      <td>POULTRY</td>\n",
       "      <td>4.690626e-01</td>\n",
       "    </tr>\n",
       "    <tr>\n",
       "      <th>3</th>\n",
       "      <td>SHEEP</td>\n",
       "      <td>4.346643e-05</td>\n",
       "    </tr>\n",
       "  </tbody>\n",
       "</table>\n",
       "</div>"
      ],
      "text/plain": [
       "       sub        pvalue\n",
       "0     BEEF  3.541916e-04\n",
       "1      PIG  1.063500e-10\n",
       "2  POULTRY  4.690626e-01\n",
       "3    SHEEP  4.346643e-05"
      ]
     },
     "execution_count": 199,
     "metadata": {},
     "output_type": "execute_result"
    }
   ],
   "source": [
    "q2_out2 = []\n",
    "for i in sub_list:\n",
    "    temp = q2[q2.SUBJECT == i]\n",
    "    q2_tab = pd.pivot_table(temp, index='TIME', columns='LOCATION', values='Value').dropna()\n",
    "    q2_out = ttest_rel(q2_tab['KOR'], q2_tab['JPN'])\n",
    "    pvalue = q2_out.pvalue\n",
    "    q2_out2.append([i, pvalue])\n",
    "q2_out2 = pd.DataFrame(q2_out2, columns=['sub', 'pvalue'])\n",
    "q2_out2"
   ]
  },
  {
   "cell_type": "code",
   "execution_count": 200,
   "id": "98328982",
   "metadata": {},
   "outputs": [
    {
     "data": {
      "text/html": [
       "<div>\n",
       "<style scoped>\n",
       "    .dataframe tbody tr th:only-of-type {\n",
       "        vertical-align: middle;\n",
       "    }\n",
       "\n",
       "    .dataframe tbody tr th {\n",
       "        vertical-align: top;\n",
       "    }\n",
       "\n",
       "    .dataframe thead th {\n",
       "        text-align: right;\n",
       "    }\n",
       "</style>\n",
       "<table border=\"1\" class=\"dataframe\">\n",
       "  <thead>\n",
       "    <tr style=\"text-align: right;\">\n",
       "      <th></th>\n",
       "      <th>sub</th>\n",
       "      <th>pvalue</th>\n",
       "    </tr>\n",
       "  </thead>\n",
       "  <tbody>\n",
       "    <tr>\n",
       "      <th>2</th>\n",
       "      <td>POULTRY</td>\n",
       "      <td>0.469063</td>\n",
       "    </tr>\n",
       "  </tbody>\n",
       "</table>\n",
       "</div>"
      ],
      "text/plain": [
       "       sub    pvalue\n",
       "2  POULTRY  0.469063"
      ]
     },
     "execution_count": 200,
     "metadata": {},
     "output_type": "execute_result"
    }
   ],
   "source": [
    "q2_out2[q2_out2.pvalue >= 0.05]"
   ]
  },
  {
   "cell_type": "code",
   "execution_count": 201,
   "id": "08da71ca",
   "metadata": {},
   "outputs": [],
   "source": [
    "# 답 : POULTRY"
   ]
  },
  {
   "cell_type": "code",
   "execution_count": 202,
   "id": "9a5f28f2",
   "metadata": {},
   "outputs": [],
   "source": [
    "# 3.(한국만 포함한 데이터에서) Time을 독립변수로, Value를 종속변수로 하여 육류\n",
    "# 종류(SUBJECT) 별로 회귀분석을 수행하였을 때, 가장 높은 결정계수를 가진 모델의\n",
    "# 학습오차 중 MAPE를 반올림하여 소수점 둘째 자리까지 기술하시오. (답안 예시) 21.12\n",
    "# (MAPE : Mean Absolute Percentage Error, 평균 절대 백분율 오차)\n",
    "# (MAPE = Σ ( | y - y ̂ | / y ) * 100/n ))"
   ]
  },
  {
   "cell_type": "code",
   "execution_count": 204,
   "id": "49ac7e9a",
   "metadata": {},
   "outputs": [
    {
     "data": {
      "text/html": [
       "<div>\n",
       "<style scoped>\n",
       "    .dataframe tbody tr th:only-of-type {\n",
       "        vertical-align: middle;\n",
       "    }\n",
       "\n",
       "    .dataframe tbody tr th {\n",
       "        vertical-align: top;\n",
       "    }\n",
       "\n",
       "    .dataframe thead th {\n",
       "        text-align: right;\n",
       "    }\n",
       "</style>\n",
       "<table border=\"1\" class=\"dataframe\">\n",
       "  <thead>\n",
       "    <tr style=\"text-align: right;\">\n",
       "      <th></th>\n",
       "      <th>LOCATION</th>\n",
       "      <th>SUBJECT</th>\n",
       "      <th>TIME</th>\n",
       "      <th>Value</th>\n",
       "    </tr>\n",
       "  </thead>\n",
       "  <tbody>\n",
       "    <tr>\n",
       "      <th>442</th>\n",
       "      <td>KOR</td>\n",
       "      <td>BEEF</td>\n",
       "      <td>1991</td>\n",
       "      <td>5.085481</td>\n",
       "    </tr>\n",
       "    <tr>\n",
       "      <th>443</th>\n",
       "      <td>KOR</td>\n",
       "      <td>BEEF</td>\n",
       "      <td>1992</td>\n",
       "      <td>5.685434</td>\n",
       "    </tr>\n",
       "    <tr>\n",
       "      <th>444</th>\n",
       "      <td>KOR</td>\n",
       "      <td>BEEF</td>\n",
       "      <td>1993</td>\n",
       "      <td>5.325765</td>\n",
       "    </tr>\n",
       "    <tr>\n",
       "      <th>445</th>\n",
       "      <td>KOR</td>\n",
       "      <td>BEEF</td>\n",
       "      <td>1994</td>\n",
       "      <td>5.698819</td>\n",
       "    </tr>\n",
       "    <tr>\n",
       "      <th>446</th>\n",
       "      <td>KOR</td>\n",
       "      <td>BEEF</td>\n",
       "      <td>1995</td>\n",
       "      <td>6.568429</td>\n",
       "    </tr>\n",
       "    <tr>\n",
       "      <th>...</th>\n",
       "      <td>...</td>\n",
       "      <td>...</td>\n",
       "      <td>...</td>\n",
       "      <td>...</td>\n",
       "    </tr>\n",
       "    <tr>\n",
       "      <th>583</th>\n",
       "      <td>KOR</td>\n",
       "      <td>SHEEP</td>\n",
       "      <td>2022</td>\n",
       "      <td>0.197951</td>\n",
       "    </tr>\n",
       "    <tr>\n",
       "      <th>584</th>\n",
       "      <td>KOR</td>\n",
       "      <td>SHEEP</td>\n",
       "      <td>2023</td>\n",
       "      <td>0.199098</td>\n",
       "    </tr>\n",
       "    <tr>\n",
       "      <th>585</th>\n",
       "      <td>KOR</td>\n",
       "      <td>SHEEP</td>\n",
       "      <td>2024</td>\n",
       "      <td>0.200266</td>\n",
       "    </tr>\n",
       "    <tr>\n",
       "      <th>586</th>\n",
       "      <td>KOR</td>\n",
       "      <td>SHEEP</td>\n",
       "      <td>2025</td>\n",
       "      <td>0.201451</td>\n",
       "    </tr>\n",
       "    <tr>\n",
       "      <th>587</th>\n",
       "      <td>KOR</td>\n",
       "      <td>SHEEP</td>\n",
       "      <td>2026</td>\n",
       "      <td>0.202656</td>\n",
       "    </tr>\n",
       "  </tbody>\n",
       "</table>\n",
       "<p>146 rows × 4 columns</p>\n",
       "</div>"
      ],
      "text/plain": [
       "    LOCATION SUBJECT  TIME     Value\n",
       "442      KOR    BEEF  1991  5.085481\n",
       "443      KOR    BEEF  1992  5.685434\n",
       "444      KOR    BEEF  1993  5.325765\n",
       "445      KOR    BEEF  1994  5.698819\n",
       "446      KOR    BEEF  1995  6.568429\n",
       "..       ...     ...   ...       ...\n",
       "583      KOR   SHEEP  2022  0.197951\n",
       "584      KOR   SHEEP  2023  0.199098\n",
       "585      KOR   SHEEP  2024  0.200266\n",
       "586      KOR   SHEEP  2025  0.201451\n",
       "587      KOR   SHEEP  2026  0.202656\n",
       "\n",
       "[146 rows x 4 columns]"
      ]
     },
     "execution_count": 204,
     "metadata": {},
     "output_type": "execute_result"
    }
   ],
   "source": [
    "from sklearn.linear_model import LinearRegression\n",
    "\n",
    "q3 = q1.copy()\n",
    "q3"
   ]
  },
  {
   "cell_type": "code",
   "execution_count": 206,
   "id": "be003211",
   "metadata": {},
   "outputs": [
    {
     "data": {
      "text/plain": [
       "array(['BEEF', 'PIG', 'POULTRY', 'SHEEP'], dtype=object)"
      ]
     },
     "execution_count": 206,
     "metadata": {},
     "output_type": "execute_result"
    }
   ],
   "source": [
    "sub_list = q3.SUBJECT.unique()\n",
    "sub_list"
   ]
  },
  {
   "cell_type": "code",
   "execution_count": null,
   "id": "9141c0b7",
   "metadata": {},
   "outputs": [],
   "source": []
  }
 ],
 "metadata": {
  "kernelspec": {
   "display_name": "Python 3 (ipykernel)",
   "language": "python",
   "name": "python3"
  },
  "language_info": {
   "codemirror_mode": {
    "name": "ipython",
    "version": 3
   },
   "file_extension": ".py",
   "mimetype": "text/x-python",
   "name": "python",
   "nbconvert_exporter": "python",
   "pygments_lexer": "ipython3",
   "version": "3.9.4"
  }
 },
 "nbformat": 4,
 "nbformat_minor": 5
}
