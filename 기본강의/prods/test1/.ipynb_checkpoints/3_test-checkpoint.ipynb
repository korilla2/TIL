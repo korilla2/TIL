{
 "cells": [
  {
   "cell_type": "code",
   "execution_count": 1,
   "id": "0087c28e",
   "metadata": {},
   "outputs": [],
   "source": [
    "# # 문제 11 유형(DataSet_11.csv 이용)\n",
    "\n",
    "# 구분자 : comma(“,”), 470 Rows, 4 Columns, UTF-8 인코딩\n",
    "\n",
    "# 세계 각국의 행복지수를 비롯한 여러 정보를 조사한 DS리서치는\n",
    "# 취합된 자료의 현황 파악 및 간단한 통계분석을 실시하고자 한다.\n",
    "\n",
    "# 컬 럼 / 정 의 / Type\n",
    "# Country / 국가명 / String\n",
    "# Happiness_Rank / 당해 행복점수 순위 / Double\n",
    "# Happiness_Score / 행복점수 / Double\n",
    "# year / 년도 / Double"
   ]
  },
  {
   "cell_type": "code",
   "execution_count": 2,
   "id": "f5f6ca9b",
   "metadata": {},
   "outputs": [],
   "source": [
    "import pandas as pd\n",
    "import numpy as np"
   ]
  },
  {
   "cell_type": "code",
   "execution_count": 27,
   "id": "5e32c29f",
   "metadata": {},
   "outputs": [
    {
     "data": {
      "text/html": [
       "<div>\n",
       "<style scoped>\n",
       "    .dataframe tbody tr th:only-of-type {\n",
       "        vertical-align: middle;\n",
       "    }\n",
       "\n",
       "    .dataframe tbody tr th {\n",
       "        vertical-align: top;\n",
       "    }\n",
       "\n",
       "    .dataframe thead th {\n",
       "        text-align: right;\n",
       "    }\n",
       "</style>\n",
       "<table border=\"1\" class=\"dataframe\">\n",
       "  <thead>\n",
       "    <tr style=\"text-align: right;\">\n",
       "      <th></th>\n",
       "      <th>Country</th>\n",
       "      <th>Happiness_Rank</th>\n",
       "      <th>Happiness_Score</th>\n",
       "      <th>year</th>\n",
       "    </tr>\n",
       "  </thead>\n",
       "  <tbody>\n",
       "    <tr>\n",
       "      <th>0</th>\n",
       "      <td>Switzerland</td>\n",
       "      <td>1</td>\n",
       "      <td>7.587</td>\n",
       "      <td>2015</td>\n",
       "    </tr>\n",
       "    <tr>\n",
       "      <th>1</th>\n",
       "      <td>Iceland</td>\n",
       "      <td>2</td>\n",
       "      <td>7.561</td>\n",
       "      <td>2015</td>\n",
       "    </tr>\n",
       "    <tr>\n",
       "      <th>2</th>\n",
       "      <td>Denmark</td>\n",
       "      <td>3</td>\n",
       "      <td>7.527</td>\n",
       "      <td>2015</td>\n",
       "    </tr>\n",
       "    <tr>\n",
       "      <th>3</th>\n",
       "      <td>Norway</td>\n",
       "      <td>4</td>\n",
       "      <td>7.522</td>\n",
       "      <td>2015</td>\n",
       "    </tr>\n",
       "    <tr>\n",
       "      <th>4</th>\n",
       "      <td>Canada</td>\n",
       "      <td>5</td>\n",
       "      <td>7.427</td>\n",
       "      <td>2015</td>\n",
       "    </tr>\n",
       "  </tbody>\n",
       "</table>\n",
       "</div>"
      ],
      "text/plain": [
       "       Country  Happiness_Rank  Happiness_Score  year\n",
       "0  Switzerland               1            7.587  2015\n",
       "1      Iceland               2            7.561  2015\n",
       "2      Denmark               3            7.527  2015\n",
       "3       Norway               4            7.522  2015\n",
       "4       Canada               5            7.427  2015"
      ]
     },
     "execution_count": 27,
     "metadata": {},
     "output_type": "execute_result"
    }
   ],
   "source": [
    "data11 = pd.read_csv('../Dataset/Dataset_11.csv')\n",
    "data11.head()"
   ]
  },
  {
   "cell_type": "code",
   "execution_count": 4,
   "id": "18beec29",
   "metadata": {},
   "outputs": [],
   "source": [
    "# 1.분석을 위해 3년 연속 행복지수가 기록된 국가의 데이터를 사용하고자 한다. \n",
    "# 3년 연속 데이터가 기록되지 않은 국가의 개수는?\n",
    "# - 국가명 표기가 한 글자라도 다른 경우 다른 국가로 처리하시오.\n",
    "# - 3년 연속 데이터가 기록되지 않은 국가 데이터는 제외하고 이를 향후 분석에서\n",
    "# 활용하시오.(답안 예시) 1"
   ]
  },
  {
   "cell_type": "code",
   "execution_count": 35,
   "id": "44d864e8",
   "metadata": {},
   "outputs": [
    {
     "data": {
      "text/html": [
       "<div>\n",
       "<style scoped>\n",
       "    .dataframe tbody tr th:only-of-type {\n",
       "        vertical-align: middle;\n",
       "    }\n",
       "\n",
       "    .dataframe tbody tr th {\n",
       "        vertical-align: top;\n",
       "    }\n",
       "\n",
       "    .dataframe thead th {\n",
       "        text-align: right;\n",
       "    }\n",
       "</style>\n",
       "<table border=\"1\" class=\"dataframe\">\n",
       "  <thead>\n",
       "    <tr style=\"text-align: right;\">\n",
       "      <th>year</th>\n",
       "      <th>2015</th>\n",
       "      <th>2016</th>\n",
       "      <th>2017</th>\n",
       "    </tr>\n",
       "    <tr>\n",
       "      <th>Country</th>\n",
       "      <th></th>\n",
       "      <th></th>\n",
       "      <th></th>\n",
       "    </tr>\n",
       "  </thead>\n",
       "  <tbody>\n",
       "    <tr>\n",
       "      <th>Afghanistan</th>\n",
       "      <td>3.575</td>\n",
       "      <td>3.360</td>\n",
       "      <td>3.794</td>\n",
       "    </tr>\n",
       "    <tr>\n",
       "      <th>Albania</th>\n",
       "      <td>4.959</td>\n",
       "      <td>4.655</td>\n",
       "      <td>4.644</td>\n",
       "    </tr>\n",
       "    <tr>\n",
       "      <th>Algeria</th>\n",
       "      <td>5.605</td>\n",
       "      <td>6.355</td>\n",
       "      <td>5.872</td>\n",
       "    </tr>\n",
       "    <tr>\n",
       "      <th>Angola</th>\n",
       "      <td>4.033</td>\n",
       "      <td>3.866</td>\n",
       "      <td>3.795</td>\n",
       "    </tr>\n",
       "    <tr>\n",
       "      <th>Argentina</th>\n",
       "      <td>6.574</td>\n",
       "      <td>6.650</td>\n",
       "      <td>6.599</td>\n",
       "    </tr>\n",
       "    <tr>\n",
       "      <th>...</th>\n",
       "      <td>...</td>\n",
       "      <td>...</td>\n",
       "      <td>...</td>\n",
       "    </tr>\n",
       "    <tr>\n",
       "      <th>Venezuela</th>\n",
       "      <td>6.810</td>\n",
       "      <td>6.084</td>\n",
       "      <td>5.250</td>\n",
       "    </tr>\n",
       "    <tr>\n",
       "      <th>Vietnam</th>\n",
       "      <td>5.360</td>\n",
       "      <td>5.061</td>\n",
       "      <td>5.074</td>\n",
       "    </tr>\n",
       "    <tr>\n",
       "      <th>Yemen</th>\n",
       "      <td>4.077</td>\n",
       "      <td>3.724</td>\n",
       "      <td>3.593</td>\n",
       "    </tr>\n",
       "    <tr>\n",
       "      <th>Zambia</th>\n",
       "      <td>5.129</td>\n",
       "      <td>4.795</td>\n",
       "      <td>4.514</td>\n",
       "    </tr>\n",
       "    <tr>\n",
       "      <th>Zimbabwe</th>\n",
       "      <td>4.610</td>\n",
       "      <td>4.193</td>\n",
       "      <td>3.875</td>\n",
       "    </tr>\n",
       "  </tbody>\n",
       "</table>\n",
       "<p>166 rows × 3 columns</p>\n",
       "</div>"
      ],
      "text/plain": [
       "year          2015   2016   2017\n",
       "Country                         \n",
       "Afghanistan  3.575  3.360  3.794\n",
       "Albania      4.959  4.655  4.644\n",
       "Algeria      5.605  6.355  5.872\n",
       "Angola       4.033  3.866  3.795\n",
       "Argentina    6.574  6.650  6.599\n",
       "...            ...    ...    ...\n",
       "Venezuela    6.810  6.084  5.250\n",
       "Vietnam      5.360  5.061  5.074\n",
       "Yemen        4.077  3.724  3.593\n",
       "Zambia       5.129  4.795  4.514\n",
       "Zimbabwe     4.610  4.193  3.875\n",
       "\n",
       "[166 rows x 3 columns]"
      ]
     },
     "execution_count": 35,
     "metadata": {},
     "output_type": "execute_result"
    }
   ],
   "source": [
    "q1 = pd.pivot_table(data11, index='Country', columns='year', values='Happiness_Score')\n",
    "q1"
   ]
  },
  {
   "cell_type": "code",
   "execution_count": 42,
   "id": "938033b0",
   "metadata": {},
   "outputs": [
    {
     "data": {
      "text/plain": [
       "20"
      ]
     },
     "execution_count": 42,
     "metadata": {},
     "output_type": "execute_result"
    }
   ],
   "source": [
    "q1.isna().any(axis=1).sum()"
   ]
  },
  {
   "cell_type": "code",
   "execution_count": 43,
   "id": "80ed8fea",
   "metadata": {},
   "outputs": [],
   "source": [
    "# 답 : 20"
   ]
  },
  {
   "cell_type": "code",
   "execution_count": 44,
   "id": "27e872c7",
   "metadata": {},
   "outputs": [],
   "source": [
    "# 2.(1번 산출물을 활용하여) 2017년 행복지수와 2015년 행복지수를 활용하여 국가별\n",
    "# 행복지수 증감률을 산출하고 행복지수 증감률이 가장 높은 3개 국가를 행복지수가\n",
    "# 높은 순서대로 차례대로 기술하시오.\n",
    "# 증감률 = (2017년행복지수−2015년행복지수)/2\n",
    "# \n",
    "# - 연도는 년월(YEAR_MONTH) 변수로부터 추출하며, 연도별 매출금액합계는 1월부터\n",
    "# 12월까지의 매출 총액을 의미한다. (답안 예시) Korea, Japan, China"
   ]
  },
  {
   "cell_type": "code",
   "execution_count": 45,
   "id": "20040188",
   "metadata": {},
   "outputs": [],
   "source": [
    "q2 = q1.dropna()"
   ]
  },
  {
   "cell_type": "code",
   "execution_count": 46,
   "id": "f9308b74",
   "metadata": {},
   "outputs": [
    {
     "data": {
      "text/html": [
       "<div>\n",
       "<style scoped>\n",
       "    .dataframe tbody tr th:only-of-type {\n",
       "        vertical-align: middle;\n",
       "    }\n",
       "\n",
       "    .dataframe tbody tr th {\n",
       "        vertical-align: top;\n",
       "    }\n",
       "\n",
       "    .dataframe thead th {\n",
       "        text-align: right;\n",
       "    }\n",
       "</style>\n",
       "<table border=\"1\" class=\"dataframe\">\n",
       "  <thead>\n",
       "    <tr style=\"text-align: right;\">\n",
       "      <th>year</th>\n",
       "      <th>2015</th>\n",
       "      <th>2016</th>\n",
       "      <th>2017</th>\n",
       "    </tr>\n",
       "    <tr>\n",
       "      <th>Country</th>\n",
       "      <th></th>\n",
       "      <th></th>\n",
       "      <th></th>\n",
       "    </tr>\n",
       "  </thead>\n",
       "  <tbody>\n",
       "    <tr>\n",
       "      <th>Afghanistan</th>\n",
       "      <td>3.575</td>\n",
       "      <td>3.360</td>\n",
       "      <td>3.794</td>\n",
       "    </tr>\n",
       "    <tr>\n",
       "      <th>Albania</th>\n",
       "      <td>4.959</td>\n",
       "      <td>4.655</td>\n",
       "      <td>4.644</td>\n",
       "    </tr>\n",
       "    <tr>\n",
       "      <th>Algeria</th>\n",
       "      <td>5.605</td>\n",
       "      <td>6.355</td>\n",
       "      <td>5.872</td>\n",
       "    </tr>\n",
       "  </tbody>\n",
       "</table>\n",
       "</div>"
      ],
      "text/plain": [
       "year          2015   2016   2017\n",
       "Country                         \n",
       "Afghanistan  3.575  3.360  3.794\n",
       "Albania      4.959  4.655  4.644\n",
       "Algeria      5.605  6.355  5.872"
      ]
     },
     "execution_count": 46,
     "metadata": {},
     "output_type": "execute_result"
    }
   ],
   "source": [
    "q2.head(3)"
   ]
  },
  {
   "cell_type": "code",
   "execution_count": 47,
   "id": "f6ae08fe",
   "metadata": {},
   "outputs": [
    {
     "name": "stderr",
     "output_type": "stream",
     "text": [
      "C:\\Users\\BAUM\\AppData\\Local\\Temp\\ipykernel_13132\\3204922292.py:1: SettingWithCopyWarning: \n",
      "A value is trying to be set on a copy of a slice from a DataFrame.\n",
      "Try using .loc[row_indexer,col_indexer] = value instead\n",
      "\n",
      "See the caveats in the documentation: https://pandas.pydata.org/pandas-docs/stable/user_guide/indexing.html#returning-a-view-versus-a-copy\n",
      "  q2['ratio'] = (q2[2017] - q2[2015]) / 2\n"
     ]
    },
    {
     "data": {
      "text/plain": [
       "Index(['Latvia', 'Romania', 'Togo'], dtype='object', name='Country')"
      ]
     },
     "execution_count": 47,
     "metadata": {},
     "output_type": "execute_result"
    }
   ],
   "source": [
    "q2['ratio'] = (q2[2017] - q2[2015]) / 2\n",
    "q2['ratio'].nlargest(3).index"
   ]
  },
  {
   "cell_type": "code",
   "execution_count": 48,
   "id": "c6c931de",
   "metadata": {},
   "outputs": [],
   "source": [
    "# 답 : Latvia, Romania, Togo"
   ]
  },
  {
   "cell_type": "code",
   "execution_count": 49,
   "id": "056858eb",
   "metadata": {},
   "outputs": [],
   "source": [
    "# 3.(1번 산출물을 활용하여) 년도별 행복지수 평균이 유의미하게 차이가 나는지\n",
    "# 알아보고자 한다. \n",
    "# 이와 관련하여 적절한 검정을 사용하고 검정통계량을 기술하시오.\n",
    "# - 해당 검정의 검정통계량은 자유도가 2인 F 분포를 따른다.\n",
    "# - 검정통계량은 소수점 넷째 자리까지 기술한다. (답안 예시) 0.1234"
   ]
  },
  {
   "cell_type": "code",
   "execution_count": 50,
   "id": "42705682",
   "metadata": {},
   "outputs": [],
   "source": [
    "from scipy.stats import f_oneway\n",
    "from statsmodels.formula.api import ols\n",
    "from statsmodels.stats.anova import anova_lm"
   ]
  },
  {
   "cell_type": "code",
   "execution_count": 51,
   "id": "0a5cb886",
   "metadata": {},
   "outputs": [
    {
     "data": {
      "text/plain": [
       "F_onewayResult(statistic=0.004276725037689305, pvalue=0.9957324489944479)"
      ]
     },
     "execution_count": 51,
     "metadata": {},
     "output_type": "execute_result"
    }
   ],
   "source": [
    "q3_out = f_oneway(q2[2015], q2[2016], q2[2017])\n",
    "q3_out"
   ]
  },
  {
   "cell_type": "code",
   "execution_count": 52,
   "id": "639b60a8",
   "metadata": {},
   "outputs": [],
   "source": [
    "# 답 : 0.0042"
   ]
  },
  {
   "cell_type": "code",
   "execution_count": 54,
   "id": "a09f0725",
   "metadata": {},
   "outputs": [],
   "source": [
    "# # 문제 12 유형(DataSet_12.csv 이용)\n",
    "\n",
    "# 구분자 : comma(“,”), 5000 Rows, 7 Columns, UTF-8 인코딩\n",
    "\n",
    "# 직장인의 독서 실태를 분석하기 위해서 수도권 거주자 5000명을\n",
    "# 대상으로 간단한 인적 사항과 연간 독서량 정보를 취합하였다.\n",
    "\n",
    "# 컬 럼 / 정 의 / Type\n",
    "# Age / 나이 / String\n",
    "# Gender / 성별(M: 남성) / String\n",
    "# Dependent_Count / 부양가족 수 / Double\n",
    "# Education_Level / 교육 수준 / String\n",
    "# is_Married / 결혼 여부(1: 결혼) / Double\n",
    "# Read_Book_per_Year / 연간 독서량(권) / Double\n",
    "# Income_Range / 소득 수준에 따른 구간(A < B < C < D < E)이며 X는\n",
    "# 정보 누락 / String"
   ]
  },
  {
   "cell_type": "code",
   "execution_count": 55,
   "id": "8f4b461b",
   "metadata": {},
   "outputs": [],
   "source": [
    "import pandas as pd\n",
    "import numpy as np"
   ]
  },
  {
   "cell_type": "code",
   "execution_count": 56,
   "id": "ae3a3cd1",
   "metadata": {},
   "outputs": [
    {
     "data": {
      "text/html": [
       "<div>\n",
       "<style scoped>\n",
       "    .dataframe tbody tr th:only-of-type {\n",
       "        vertical-align: middle;\n",
       "    }\n",
       "\n",
       "    .dataframe tbody tr th {\n",
       "        vertical-align: top;\n",
       "    }\n",
       "\n",
       "    .dataframe thead th {\n",
       "        text-align: right;\n",
       "    }\n",
       "</style>\n",
       "<table border=\"1\" class=\"dataframe\">\n",
       "  <thead>\n",
       "    <tr style=\"text-align: right;\">\n",
       "      <th></th>\n",
       "      <th>Age</th>\n",
       "      <th>Gender</th>\n",
       "      <th>Dependent_Count</th>\n",
       "      <th>Education_Level</th>\n",
       "      <th>is_Married</th>\n",
       "      <th>Read_Book_per_Year</th>\n",
       "      <th>Income_Range</th>\n",
       "    </tr>\n",
       "  </thead>\n",
       "  <tbody>\n",
       "    <tr>\n",
       "      <th>0</th>\n",
       "      <td>52</td>\n",
       "      <td>M</td>\n",
       "      <td>2</td>\n",
       "      <td>석사</td>\n",
       "      <td>1</td>\n",
       "      <td>45</td>\n",
       "      <td>D</td>\n",
       "    </tr>\n",
       "    <tr>\n",
       "      <th>1</th>\n",
       "      <td>46</td>\n",
       "      <td>F</td>\n",
       "      <td>4</td>\n",
       "      <td>박사</td>\n",
       "      <td>1</td>\n",
       "      <td>26</td>\n",
       "      <td>X</td>\n",
       "    </tr>\n",
       "    <tr>\n",
       "      <th>2</th>\n",
       "      <td>53</td>\n",
       "      <td>F</td>\n",
       "      <td>0</td>\n",
       "      <td>석사</td>\n",
       "      <td>0</td>\n",
       "      <td>48</td>\n",
       "      <td>A</td>\n",
       "    </tr>\n",
       "  </tbody>\n",
       "</table>\n",
       "</div>"
      ],
      "text/plain": [
       "   Age Gender  Dependent_Count Education_Level  is_Married  \\\n",
       "0   52      M                2              석사           1   \n",
       "1   46      F                4              박사           1   \n",
       "2   53      F                0              석사           0   \n",
       "\n",
       "   Read_Book_per_Year Income_Range  \n",
       "0                  45            D  \n",
       "1                  26            X  \n",
       "2                  48            A  "
      ]
     },
     "execution_count": 56,
     "metadata": {},
     "output_type": "execute_result"
    }
   ],
   "source": [
    "data12 = pd.read_csv('../Dataset/Dataset_12.csv')\n",
    "data12.head(3)"
   ]
  },
  {
   "cell_type": "code",
   "execution_count": 57,
   "id": "18b38eae",
   "metadata": {},
   "outputs": [],
   "source": [
    "# 1.수치형 변수를 대상으로 피어슨 상관분석을 실시하고 연간 독서량과 가장\n",
    "# 상관관계가 강한 변수의 상관계수를 기술하시오\n",
    "# - 상관계수는 반올림하여 소수점 셋째 자리까지 기술하시오. (답안 예시) 0.123"
   ]
  },
  {
   "cell_type": "code",
   "execution_count": 58,
   "id": "195dab0f",
   "metadata": {},
   "outputs": [
    {
     "name": "stdout",
     "output_type": "stream",
     "text": [
      "<class 'pandas.core.frame.DataFrame'>\n",
      "RangeIndex: 5000 entries, 0 to 4999\n",
      "Data columns (total 7 columns):\n",
      " #   Column              Non-Null Count  Dtype \n",
      "---  ------              --------------  ----- \n",
      " 0   Age                 5000 non-null   int64 \n",
      " 1   Gender              5000 non-null   object\n",
      " 2   Dependent_Count     5000 non-null   int64 \n",
      " 3   Education_Level     5000 non-null   object\n",
      " 4   is_Married          5000 non-null   int64 \n",
      " 5   Read_Book_per_Year  5000 non-null   int64 \n",
      " 6   Income_Range        5000 non-null   object\n",
      "dtypes: int64(4), object(3)\n",
      "memory usage: 273.6+ KB\n"
     ]
    }
   ],
   "source": [
    "data12.info()"
   ]
  },
  {
   "cell_type": "code",
   "execution_count": 59,
   "id": "bfe2617e",
   "metadata": {},
   "outputs": [],
   "source": [
    "var_list = ['Age', 'Dependent_Count', 'is_Married', 'Read_Book_per_Year']"
   ]
  },
  {
   "cell_type": "code",
   "execution_count": 62,
   "id": "2e7be913",
   "metadata": {},
   "outputs": [
    {
     "data": {
      "text/plain": [
       "Age                0.796843\n",
       "Dependent_Count   -0.132591\n",
       "is_Married         0.027221\n",
       "Name: Read_Book_per_Year, dtype: float64"
      ]
     },
     "execution_count": 62,
     "metadata": {},
     "output_type": "execute_result"
    }
   ],
   "source": [
    "q1 = data12[var_list].corr().drop('Read_Book_per_Year')['Read_Book_per_Year']\n",
    "q1"
   ]
  },
  {
   "cell_type": "code",
   "execution_count": 63,
   "id": "63960d7f",
   "metadata": {},
   "outputs": [
    {
     "data": {
      "text/plain": [
       "0.7968432255640444"
      ]
     },
     "execution_count": 63,
     "metadata": {},
     "output_type": "execute_result"
    }
   ],
   "source": [
    "abs(q1).max()"
   ]
  },
  {
   "cell_type": "code",
   "execution_count": 64,
   "id": "32c101b8",
   "metadata": {},
   "outputs": [],
   "source": [
    "# 답 : 0.797"
   ]
  },
  {
   "cell_type": "code",
   "execution_count": 65,
   "id": "035e91ca",
   "metadata": {},
   "outputs": [],
   "source": [
    "# 2.석사 이상(석사 및 박사) 여부에 따라서 연간 독서량 평균이 유의미하게 다른지 가설\n",
    "# 검정을 활용하여 알아보고자 한다. 독립 2표본 t검정을 실시했을 때 \n",
    "# 유의 확률(p\u0002value)의 값을 기술하시오.\n",
    "# - 등분산 가정 하에서 검정을 실시한다.\n",
    "# - 유의 확률은 반올림하여 소수점 셋째 자리까지 기술한다. (답안 예시) 0.123"
   ]
  },
  {
   "cell_type": "code",
   "execution_count": 66,
   "id": "8318b372",
   "metadata": {},
   "outputs": [
    {
     "data": {
      "text/html": [
       "<div>\n",
       "<style scoped>\n",
       "    .dataframe tbody tr th:only-of-type {\n",
       "        vertical-align: middle;\n",
       "    }\n",
       "\n",
       "    .dataframe tbody tr th {\n",
       "        vertical-align: top;\n",
       "    }\n",
       "\n",
       "    .dataframe thead th {\n",
       "        text-align: right;\n",
       "    }\n",
       "</style>\n",
       "<table border=\"1\" class=\"dataframe\">\n",
       "  <thead>\n",
       "    <tr style=\"text-align: right;\">\n",
       "      <th></th>\n",
       "      <th>Age</th>\n",
       "      <th>Gender</th>\n",
       "      <th>Dependent_Count</th>\n",
       "      <th>Education_Level</th>\n",
       "      <th>is_Married</th>\n",
       "      <th>Read_Book_per_Year</th>\n",
       "      <th>Income_Range</th>\n",
       "    </tr>\n",
       "  </thead>\n",
       "  <tbody>\n",
       "    <tr>\n",
       "      <th>0</th>\n",
       "      <td>52</td>\n",
       "      <td>M</td>\n",
       "      <td>2</td>\n",
       "      <td>석사</td>\n",
       "      <td>1</td>\n",
       "      <td>45</td>\n",
       "      <td>D</td>\n",
       "    </tr>\n",
       "    <tr>\n",
       "      <th>1</th>\n",
       "      <td>46</td>\n",
       "      <td>F</td>\n",
       "      <td>4</td>\n",
       "      <td>박사</td>\n",
       "      <td>1</td>\n",
       "      <td>26</td>\n",
       "      <td>X</td>\n",
       "    </tr>\n",
       "    <tr>\n",
       "      <th>2</th>\n",
       "      <td>53</td>\n",
       "      <td>F</td>\n",
       "      <td>0</td>\n",
       "      <td>석사</td>\n",
       "      <td>0</td>\n",
       "      <td>48</td>\n",
       "      <td>A</td>\n",
       "    </tr>\n",
       "  </tbody>\n",
       "</table>\n",
       "</div>"
      ],
      "text/plain": [
       "   Age Gender  Dependent_Count Education_Level  is_Married  \\\n",
       "0   52      M                2              석사           1   \n",
       "1   46      F                4              박사           1   \n",
       "2   53      F                0              석사           0   \n",
       "\n",
       "   Read_Book_per_Year Income_Range  \n",
       "0                  45            D  \n",
       "1                  26            X  \n",
       "2                  48            A  "
      ]
     },
     "execution_count": 66,
     "metadata": {},
     "output_type": "execute_result"
    }
   ],
   "source": [
    "q2 = data12.copy()\n",
    "q2.head(3)"
   ]
  },
  {
   "cell_type": "code",
   "execution_count": 67,
   "id": "bf82e7f1",
   "metadata": {},
   "outputs": [
    {
     "data": {
      "text/plain": [
       "array(['석사', '박사', '학사', '고졸'], dtype=object)"
      ]
     },
     "execution_count": 67,
     "metadata": {},
     "output_type": "execute_result"
    }
   ],
   "source": [
    "q2['Education_Level'].unique()"
   ]
  },
  {
   "cell_type": "code",
   "execution_count": 69,
   "id": "fa225b6c",
   "metadata": {},
   "outputs": [
    {
     "data": {
      "text/plain": [
       "0       1\n",
       "1       1\n",
       "2       1\n",
       "3       0\n",
       "4       1\n",
       "       ..\n",
       "4995    1\n",
       "4996    0\n",
       "4997    0\n",
       "4998    0\n",
       "4999    1\n",
       "Name: is_grad, Length: 5000, dtype: int32"
      ]
     },
     "execution_count": 69,
     "metadata": {},
     "output_type": "execute_result"
    }
   ],
   "source": [
    "q2['is_grad'] = q2['Education_Level'].isin(['석사', '박사'])+0\n",
    "q2['is_grad']"
   ]
  },
  {
   "cell_type": "code",
   "execution_count": 70,
   "id": "6cc4d060",
   "metadata": {},
   "outputs": [],
   "source": [
    "from scipy.stats import ttest_ind"
   ]
  },
  {
   "cell_type": "code",
   "execution_count": 72,
   "id": "0b5c242c",
   "metadata": {},
   "outputs": [
    {
     "data": {
      "text/plain": [
       "Ttest_indResult(statistic=1.106510391765204, pvalue=0.2685589229897138)"
      ]
     },
     "execution_count": 72,
     "metadata": {},
     "output_type": "execute_result"
    }
   ],
   "source": [
    "q2_out = ttest_ind(q2.loc[q2['is_grad']==1, 'Read_Book_per_Year'],\n",
    "                  q2.loc[q2['is_grad']==0, 'Read_Book_per_Year'])\n",
    "q2_out"
   ]
  },
  {
   "cell_type": "code",
   "execution_count": 73,
   "id": "aa4c4ea2",
   "metadata": {},
   "outputs": [],
   "source": [
    "# 답 : 0.269"
   ]
  },
  {
   "cell_type": "code",
   "execution_count": 74,
   "id": "6fc9c37a",
   "metadata": {},
   "outputs": [],
   "source": [
    "# 3.독서량과 다른 수치형 변수의 관계를 다중선형회귀분석을 활용하여 알아보고자 한다. \n",
    "# 연간 독서량을 종속변수, 나머지 수치형 자료를 독립변수로 한다. 이렇게 생성한\n",
    "# 선형회귀 모델을 기준으로 다른 독립변수가 고정이면서 나이만 다를 때, 40살은 30살\n",
    "# 보다 독서량이 얼마나 많은가?\n",
    "# - 학사 이상이면서 소득 구간 정보가 있는 데이터만 사용하여 분석을 실시하시오.\n",
    "# - 결과값은 반올림하여 정수로 표기하시오. (답안 예시) 1"
   ]
  },
  {
   "cell_type": "code",
   "execution_count": 76,
   "id": "9233f90c",
   "metadata": {},
   "outputs": [],
   "source": [
    "# from statsmodels.formula.api import ols"
   ]
  },
  {
   "cell_type": "code",
   "execution_count": 77,
   "id": "5ac789f9",
   "metadata": {},
   "outputs": [
    {
     "data": {
      "text/html": [
       "<div>\n",
       "<style scoped>\n",
       "    .dataframe tbody tr th:only-of-type {\n",
       "        vertical-align: middle;\n",
       "    }\n",
       "\n",
       "    .dataframe tbody tr th {\n",
       "        vertical-align: top;\n",
       "    }\n",
       "\n",
       "    .dataframe thead th {\n",
       "        text-align: right;\n",
       "    }\n",
       "</style>\n",
       "<table border=\"1\" class=\"dataframe\">\n",
       "  <thead>\n",
       "    <tr style=\"text-align: right;\">\n",
       "      <th></th>\n",
       "      <th>Age</th>\n",
       "      <th>Gender</th>\n",
       "      <th>Dependent_Count</th>\n",
       "      <th>Education_Level</th>\n",
       "      <th>is_Married</th>\n",
       "      <th>Read_Book_per_Year</th>\n",
       "      <th>Income_Range</th>\n",
       "    </tr>\n",
       "  </thead>\n",
       "  <tbody>\n",
       "    <tr>\n",
       "      <th>0</th>\n",
       "      <td>52</td>\n",
       "      <td>M</td>\n",
       "      <td>2</td>\n",
       "      <td>석사</td>\n",
       "      <td>1</td>\n",
       "      <td>45</td>\n",
       "      <td>D</td>\n",
       "    </tr>\n",
       "    <tr>\n",
       "      <th>1</th>\n",
       "      <td>46</td>\n",
       "      <td>F</td>\n",
       "      <td>4</td>\n",
       "      <td>박사</td>\n",
       "      <td>1</td>\n",
       "      <td>26</td>\n",
       "      <td>X</td>\n",
       "    </tr>\n",
       "    <tr>\n",
       "      <th>2</th>\n",
       "      <td>53</td>\n",
       "      <td>F</td>\n",
       "      <td>0</td>\n",
       "      <td>석사</td>\n",
       "      <td>0</td>\n",
       "      <td>48</td>\n",
       "      <td>A</td>\n",
       "    </tr>\n",
       "  </tbody>\n",
       "</table>\n",
       "</div>"
      ],
      "text/plain": [
       "   Age Gender  Dependent_Count Education_Level  is_Married  \\\n",
       "0   52      M                2              석사           1   \n",
       "1   46      F                4              박사           1   \n",
       "2   53      F                0              석사           0   \n",
       "\n",
       "   Read_Book_per_Year Income_Range  \n",
       "0                  45            D  \n",
       "1                  26            X  \n",
       "2                  48            A  "
      ]
     },
     "execution_count": 77,
     "metadata": {},
     "output_type": "execute_result"
    }
   ],
   "source": [
    "data12.head(3)"
   ]
  },
  {
   "cell_type": "code",
   "execution_count": 78,
   "id": "287958b9",
   "metadata": {},
   "outputs": [
    {
     "data": {
      "text/html": [
       "<div>\n",
       "<style scoped>\n",
       "    .dataframe tbody tr th:only-of-type {\n",
       "        vertical-align: middle;\n",
       "    }\n",
       "\n",
       "    .dataframe tbody tr th {\n",
       "        vertical-align: top;\n",
       "    }\n",
       "\n",
       "    .dataframe thead th {\n",
       "        text-align: right;\n",
       "    }\n",
       "</style>\n",
       "<table border=\"1\" class=\"dataframe\">\n",
       "  <thead>\n",
       "    <tr style=\"text-align: right;\">\n",
       "      <th></th>\n",
       "      <th>Age</th>\n",
       "      <th>Gender</th>\n",
       "      <th>Dependent_Count</th>\n",
       "      <th>Education_Level</th>\n",
       "      <th>is_Married</th>\n",
       "      <th>Read_Book_per_Year</th>\n",
       "      <th>Income_Range</th>\n",
       "    </tr>\n",
       "  </thead>\n",
       "  <tbody>\n",
       "    <tr>\n",
       "      <th>0</th>\n",
       "      <td>52</td>\n",
       "      <td>M</td>\n",
       "      <td>2</td>\n",
       "      <td>석사</td>\n",
       "      <td>1</td>\n",
       "      <td>45</td>\n",
       "      <td>D</td>\n",
       "    </tr>\n",
       "    <tr>\n",
       "      <th>1</th>\n",
       "      <td>46</td>\n",
       "      <td>F</td>\n",
       "      <td>4</td>\n",
       "      <td>박사</td>\n",
       "      <td>1</td>\n",
       "      <td>26</td>\n",
       "      <td>X</td>\n",
       "    </tr>\n",
       "    <tr>\n",
       "      <th>2</th>\n",
       "      <td>53</td>\n",
       "      <td>F</td>\n",
       "      <td>0</td>\n",
       "      <td>석사</td>\n",
       "      <td>0</td>\n",
       "      <td>48</td>\n",
       "      <td>A</td>\n",
       "    </tr>\n",
       "    <tr>\n",
       "      <th>3</th>\n",
       "      <td>55</td>\n",
       "      <td>M</td>\n",
       "      <td>2</td>\n",
       "      <td>학사</td>\n",
       "      <td>1</td>\n",
       "      <td>45</td>\n",
       "      <td>D</td>\n",
       "    </tr>\n",
       "    <tr>\n",
       "      <th>4</th>\n",
       "      <td>51</td>\n",
       "      <td>F</td>\n",
       "      <td>3</td>\n",
       "      <td>석사</td>\n",
       "      <td>0</td>\n",
       "      <td>46</td>\n",
       "      <td>A</td>\n",
       "    </tr>\n",
       "  </tbody>\n",
       "</table>\n",
       "</div>"
      ],
      "text/plain": [
       "   Age Gender  Dependent_Count Education_Level  is_Married  \\\n",
       "0   52      M                2              석사           1   \n",
       "1   46      F                4              박사           1   \n",
       "2   53      F                0              석사           0   \n",
       "3   55      M                2              학사           1   \n",
       "4   51      F                3              석사           0   \n",
       "\n",
       "   Read_Book_per_Year Income_Range  \n",
       "0                  45            D  \n",
       "1                  26            X  \n",
       "2                  48            A  \n",
       "3                  45            D  \n",
       "4                  46            A  "
      ]
     },
     "execution_count": 78,
     "metadata": {},
     "output_type": "execute_result"
    }
   ],
   "source": [
    "q3 = data12[data12['Education_Level'].isin(['학사', '석사', '박사'])]\n",
    "q3.head()"
   ]
  },
  {
   "cell_type": "code",
   "execution_count": 79,
   "id": "eae22c87",
   "metadata": {},
   "outputs": [
    {
     "data": {
      "text/plain": [
       "array(['D', 'X', 'A', 'B', 'C', 'E'], dtype=object)"
      ]
     },
     "execution_count": 79,
     "metadata": {},
     "output_type": "execute_result"
    }
   ],
   "source": [
    "q3.Income_Range.unique()"
   ]
  },
  {
   "cell_type": "code",
   "execution_count": 80,
   "id": "3f865b84",
   "metadata": {},
   "outputs": [
    {
     "data": {
      "text/plain": [
       "A    1264\n",
       "B     584\n",
       "D     547\n",
       "C     452\n",
       "X     378\n",
       "E     241\n",
       "Name: Income_Range, dtype: int64"
      ]
     },
     "execution_count": 80,
     "metadata": {},
     "output_type": "execute_result"
    }
   ],
   "source": [
    "q3.Income_Range.value_counts()"
   ]
  },
  {
   "cell_type": "code",
   "execution_count": 81,
   "id": "b8f68db2",
   "metadata": {},
   "outputs": [],
   "source": [
    "q3 = q3[~(q3.Income_Range == 'X')]"
   ]
  },
  {
   "cell_type": "code",
   "execution_count": 82,
   "id": "1d8992ab",
   "metadata": {},
   "outputs": [
    {
     "data": {
      "text/plain": [
       "A    1264\n",
       "B     584\n",
       "D     547\n",
       "C     452\n",
       "E     241\n",
       "Name: Income_Range, dtype: int64"
      ]
     },
     "execution_count": 82,
     "metadata": {},
     "output_type": "execute_result"
    }
   ],
   "source": [
    "q3.Income_Range.value_counts()"
   ]
  },
  {
   "cell_type": "code",
   "execution_count": 85,
   "id": "76bddedd",
   "metadata": {},
   "outputs": [
    {
     "name": "stdout",
     "output_type": "stream",
     "text": [
      "<class 'pandas.core.frame.DataFrame'>\n",
      "Int64Index: 3088 entries, 0 to 4999\n",
      "Data columns (total 7 columns):\n",
      " #   Column              Non-Null Count  Dtype \n",
      "---  ------              --------------  ----- \n",
      " 0   Age                 3088 non-null   int64 \n",
      " 1   Gender              3088 non-null   object\n",
      " 2   Dependent_Count     3088 non-null   int64 \n",
      " 3   Education_Level     3088 non-null   object\n",
      " 4   is_Married          3088 non-null   int64 \n",
      " 5   Read_Book_per_Year  3088 non-null   int64 \n",
      " 6   Income_Range        3088 non-null   object\n",
      "dtypes: int64(4), object(3)\n",
      "memory usage: 193.0+ KB\n"
     ]
    }
   ],
   "source": [
    "q3.info()"
   ]
  },
  {
   "cell_type": "code",
   "execution_count": 86,
   "id": "cbb3d167",
   "metadata": {},
   "outputs": [
    {
     "data": {
      "text/plain": [
       "Age                    int64\n",
       "Gender                object\n",
       "Dependent_Count        int64\n",
       "Education_Level       object\n",
       "is_Married             int64\n",
       "Read_Book_per_Year     int64\n",
       "Income_Range          object\n",
       "dtype: object"
      ]
     },
     "execution_count": 86,
     "metadata": {},
     "output_type": "execute_result"
    }
   ],
   "source": [
    "q3.dtypes"
   ]
  },
  {
   "cell_type": "code",
   "execution_count": 88,
   "id": "d93c12b9",
   "metadata": {},
   "outputs": [
    {
     "data": {
      "text/plain": [
       "Index(['Age', 'Dependent_Count', 'is_Married'], dtype='object')"
      ]
     },
     "execution_count": 88,
     "metadata": {},
     "output_type": "execute_result"
    }
   ],
   "source": [
    "var_list = q3.columns[q3.dtypes == 'int64'].drop('Read_Book_per_Year')\n",
    "var_list"
   ]
  },
  {
   "cell_type": "code",
   "execution_count": 89,
   "id": "dc8b256f",
   "metadata": {},
   "outputs": [],
   "source": [
    "from statsmodels.formula.api import ols"
   ]
  },
  {
   "cell_type": "code",
   "execution_count": 90,
   "id": "7200c9c1",
   "metadata": {},
   "outputs": [],
   "source": [
    "form = 'Read_Book_per_Year~'+'+'.join(var_list)"
   ]
  },
  {
   "cell_type": "code",
   "execution_count": 91,
   "id": "4b5284e7",
   "metadata": {},
   "outputs": [],
   "source": [
    "model = ols(form, data=q3).fit()"
   ]
  },
  {
   "cell_type": "code",
   "execution_count": 92,
   "id": "342b2699",
   "metadata": {},
   "outputs": [
    {
     "data": {
      "text/plain": [
       "Intercept         -0.382146\n",
       "Age                0.796440\n",
       "Dependent_Count   -0.250269\n",
       "is_Married         0.049624\n",
       "dtype: float64"
      ]
     },
     "execution_count": 92,
     "metadata": {},
     "output_type": "execute_result"
    }
   ],
   "source": [
    "model.params"
   ]
  },
  {
   "cell_type": "code",
   "execution_count": 93,
   "id": "4ee203a6",
   "metadata": {},
   "outputs": [
    {
     "data": {
      "text/plain": [
       "0.7964402066284841"
      ]
     },
     "execution_count": 93,
     "metadata": {},
     "output_type": "execute_result"
    }
   ],
   "source": [
    "model.params['Age']"
   ]
  },
  {
   "cell_type": "code",
   "execution_count": 94,
   "id": "95ddf4a0",
   "metadata": {},
   "outputs": [
    {
     "data": {
      "text/plain": [
       "7.964402066284841"
      ]
     },
     "execution_count": 94,
     "metadata": {},
     "output_type": "execute_result"
    }
   ],
   "source": [
    "model.params['Age']*(40-30)"
   ]
  },
  {
   "cell_type": "code",
   "execution_count": 95,
   "id": "159edb3e",
   "metadata": {},
   "outputs": [],
   "source": [
    "# 답 : 8"
   ]
  },
  {
   "cell_type": "code",
   "execution_count": 96,
   "id": "db0c33b8",
   "metadata": {},
   "outputs": [],
   "source": [
    "# # 문제 13 유형(DataSet13_train.csv / DataSet13_test.csv  이용)\n",
    "\n",
    "# 구분자 : \n",
    "#     comma(“,”), 1500 Rows, 10 Columns, UTF-8 인코딩 / \n",
    "#     comma(“,”), 500 Rows, 10 Columns, UTF-8 인코딩\n",
    "\n",
    "# 전국의 데이터 분석가 2000명을 대상으로 이직 관련 설문조사를 실시하였다. \n",
    "# 설문 대상자의 특성 및 이직 의사와 관련 인자를 면밀히 살펴보기 위해 다양한\n",
    "# 분석을 실시하고자 한다.\n",
    "\n",
    "# 컬 럼 / 정 의 / Type\n",
    "# city_development_index / 거주 도시 개발 지수 / Double\n",
    "# gender / 성별 / String\n",
    "# relevent_experience / 관련 직무 경험 여부(1 : 유경험) / Integer\n",
    "# enrolled_university / 대학 등록 형태(1 : 풀타임/파트타임) / Integer\n",
    "# education_level / 교육 수준 / String\n",
    "# major_discipline / 전공 / String\n",
    "# experience / 경력 / Double\n",
    "# last_new_job / 현 직장 직전 직무 공백 기간 / Double\n",
    "# training_hours / 관련 직무 교육 이수 시간 / Double\n",
    "# target / 이직 의사 여부(1 : 의사 있음) / Integer"
   ]
  },
  {
   "cell_type": "code",
   "execution_count": 97,
   "id": "9a8f73a9",
   "metadata": {},
   "outputs": [],
   "source": [
    "import pandas as pd\n",
    "import numpy as np"
   ]
  },
  {
   "cell_type": "code",
   "execution_count": 98,
   "id": "308a26e4",
   "metadata": {},
   "outputs": [
    {
     "data": {
      "text/html": [
       "<div>\n",
       "<style scoped>\n",
       "    .dataframe tbody tr th:only-of-type {\n",
       "        vertical-align: middle;\n",
       "    }\n",
       "\n",
       "    .dataframe tbody tr th {\n",
       "        vertical-align: top;\n",
       "    }\n",
       "\n",
       "    .dataframe thead th {\n",
       "        text-align: right;\n",
       "    }\n",
       "</style>\n",
       "<table border=\"1\" class=\"dataframe\">\n",
       "  <thead>\n",
       "    <tr style=\"text-align: right;\">\n",
       "      <th></th>\n",
       "      <th>city_development_index</th>\n",
       "      <th>gender</th>\n",
       "      <th>relevent_experience</th>\n",
       "      <th>enrolled_university</th>\n",
       "      <th>education_level</th>\n",
       "      <th>major_discipline</th>\n",
       "      <th>experience</th>\n",
       "      <th>last_new_job</th>\n",
       "      <th>training_hours</th>\n",
       "      <th>target</th>\n",
       "    </tr>\n",
       "  </thead>\n",
       "  <tbody>\n",
       "    <tr>\n",
       "      <th>0</th>\n",
       "      <td>0.516</td>\n",
       "      <td>Male</td>\n",
       "      <td>1</td>\n",
       "      <td>0</td>\n",
       "      <td>Graduate</td>\n",
       "      <td>STEM</td>\n",
       "      <td>13</td>\n",
       "      <td>5</td>\n",
       "      <td>36</td>\n",
       "      <td>1</td>\n",
       "    </tr>\n",
       "    <tr>\n",
       "      <th>1</th>\n",
       "      <td>0.766</td>\n",
       "      <td>Male</td>\n",
       "      <td>1</td>\n",
       "      <td>0</td>\n",
       "      <td>Graduate</td>\n",
       "      <td>STEM</td>\n",
       "      <td>12</td>\n",
       "      <td>5</td>\n",
       "      <td>264</td>\n",
       "      <td>0</td>\n",
       "    </tr>\n",
       "    <tr>\n",
       "      <th>2</th>\n",
       "      <td>0.920</td>\n",
       "      <td>Male</td>\n",
       "      <td>1</td>\n",
       "      <td>0</td>\n",
       "      <td>Masters</td>\n",
       "      <td>STEM</td>\n",
       "      <td>10</td>\n",
       "      <td>2</td>\n",
       "      <td>99</td>\n",
       "      <td>0</td>\n",
       "    </tr>\n",
       "    <tr>\n",
       "      <th>3</th>\n",
       "      <td>0.899</td>\n",
       "      <td>Male</td>\n",
       "      <td>1</td>\n",
       "      <td>0</td>\n",
       "      <td>Graduate</td>\n",
       "      <td>Business Degree</td>\n",
       "      <td>16</td>\n",
       "      <td>1</td>\n",
       "      <td>20</td>\n",
       "      <td>0</td>\n",
       "    </tr>\n",
       "    <tr>\n",
       "      <th>4</th>\n",
       "      <td>0.884</td>\n",
       "      <td>Male</td>\n",
       "      <td>1</td>\n",
       "      <td>0</td>\n",
       "      <td>Masters</td>\n",
       "      <td>STEM</td>\n",
       "      <td>20</td>\n",
       "      <td>5</td>\n",
       "      <td>39</td>\n",
       "      <td>0</td>\n",
       "    </tr>\n",
       "  </tbody>\n",
       "</table>\n",
       "</div>"
      ],
      "text/plain": [
       "   city_development_index gender  relevent_experience  enrolled_university  \\\n",
       "0                   0.516   Male                    1                    0   \n",
       "1                   0.766   Male                    1                    0   \n",
       "2                   0.920   Male                    1                    0   \n",
       "3                   0.899   Male                    1                    0   \n",
       "4                   0.884   Male                    1                    0   \n",
       "\n",
       "  education_level major_discipline  experience  last_new_job  training_hours  \\\n",
       "0        Graduate             STEM          13             5              36   \n",
       "1        Graduate             STEM          12             5             264   \n",
       "2         Masters             STEM          10             2              99   \n",
       "3        Graduate  Business Degree          16             1              20   \n",
       "4         Masters             STEM          20             5              39   \n",
       "\n",
       "   target  \n",
       "0       1  \n",
       "1       0  \n",
       "2       0  \n",
       "3       0  \n",
       "4       0  "
      ]
     },
     "execution_count": 98,
     "metadata": {},
     "output_type": "execute_result"
    }
   ],
   "source": [
    "data13 = pd.read_csv('../Dataset/Dataset_13_train.csv')\n",
    "data13.head()"
   ]
  },
  {
   "cell_type": "code",
   "execution_count": 99,
   "id": "6f9de4bc",
   "metadata": {},
   "outputs": [],
   "source": [
    "# 1.(Dataset_13_train.csv를 활용하여) 경력과 최근 이직시 공백기간의 상관관계를 보고자\n",
    "# 한다. 남여별 피어슨 상관계수를 각각 산출하고 더 높은 상관계수를 기술하시오.\n",
    "# - 상관계수는 반올림하여 소수점 둘째 자리까지 기술하시오. (답안 예시) 0.12"
   ]
  },
  {
   "cell_type": "code",
   "execution_count": 100,
   "id": "61f50486",
   "metadata": {},
   "outputs": [
    {
     "data": {
      "text/plain": [
       "Index(['city_development_index', 'gender', 'relevent_experience',\n",
       "       'enrolled_university', 'education_level', 'major_discipline',\n",
       "       'experience', 'last_new_job', 'training_hours', 'target'],\n",
       "      dtype='object')"
      ]
     },
     "execution_count": 100,
     "metadata": {},
     "output_type": "execute_result"
    }
   ],
   "source": [
    "data13.columns"
   ]
  },
  {
   "cell_type": "code",
   "execution_count": 101,
   "id": "1ade2139",
   "metadata": {},
   "outputs": [
    {
     "data": {
      "text/html": [
       "<div>\n",
       "<style scoped>\n",
       "    .dataframe tbody tr th:only-of-type {\n",
       "        vertical-align: middle;\n",
       "    }\n",
       "\n",
       "    .dataframe tbody tr th {\n",
       "        vertical-align: top;\n",
       "    }\n",
       "\n",
       "    .dataframe thead th {\n",
       "        text-align: right;\n",
       "    }\n",
       "</style>\n",
       "<table border=\"1\" class=\"dataframe\">\n",
       "  <thead>\n",
       "    <tr style=\"text-align: right;\">\n",
       "      <th></th>\n",
       "      <th></th>\n",
       "      <th>experience</th>\n",
       "      <th>last_new_job</th>\n",
       "    </tr>\n",
       "    <tr>\n",
       "      <th>gender</th>\n",
       "      <th></th>\n",
       "      <th></th>\n",
       "      <th></th>\n",
       "    </tr>\n",
       "  </thead>\n",
       "  <tbody>\n",
       "    <tr>\n",
       "      <th rowspan=\"2\" valign=\"top\">Female</th>\n",
       "      <th>experience</th>\n",
       "      <td>1.000000</td>\n",
       "      <td>0.451898</td>\n",
       "    </tr>\n",
       "    <tr>\n",
       "      <th>last_new_job</th>\n",
       "      <td>0.451898</td>\n",
       "      <td>1.000000</td>\n",
       "    </tr>\n",
       "    <tr>\n",
       "      <th rowspan=\"2\" valign=\"top\">Male</th>\n",
       "      <th>experience</th>\n",
       "      <td>1.000000</td>\n",
       "      <td>0.411155</td>\n",
       "    </tr>\n",
       "    <tr>\n",
       "      <th>last_new_job</th>\n",
       "      <td>0.411155</td>\n",
       "      <td>1.000000</td>\n",
       "    </tr>\n",
       "  </tbody>\n",
       "</table>\n",
       "</div>"
      ],
      "text/plain": [
       "                     experience  last_new_job\n",
       "gender                                       \n",
       "Female experience      1.000000      0.451898\n",
       "       last_new_job    0.451898      1.000000\n",
       "Male   experience      1.000000      0.411155\n",
       "       last_new_job    0.411155      1.000000"
      ]
     },
     "execution_count": 101,
     "metadata": {},
     "output_type": "execute_result"
    }
   ],
   "source": [
    "data13.groupby('gender')[['experience', 'last_new_job']].corr()"
   ]
  },
  {
   "cell_type": "code",
   "execution_count": 102,
   "id": "e69ded21",
   "metadata": {},
   "outputs": [],
   "source": [
    "# 답 : 0.45"
   ]
  },
  {
   "cell_type": "code",
   "execution_count": 103,
   "id": "2ced65ab",
   "metadata": {},
   "outputs": [],
   "source": [
    "# 2.(Dataset_13_train.csv를 활용하여) 기존 데이터 분석 관련 직무 경험과 이직 의사가 서로\n",
    "# 관련이 있는지 알아보고자 한다. 이를 위해 독립성 검정을 실시하고 해당 검정의 p-value를 기술하시오.\n",
    "# - 검정은 STEM 전공자를 대상으로 한다.\n",
    "# - 검정은 충분히 발달된 도시(도시 개발 지수가 제 85 백분위수 초과)에 거주하는 사람을\n",
    "# 대상으로 한다.\n",
    "# - 이직 의사 여부(target)은 문자열로 변경 후 사용한다.\n",
    "# - p-value는 반올림하여 소수점 둘째 자리까지 기술하시오. (답안 예시) 0.12"
   ]
  },
  {
   "cell_type": "code",
   "execution_count": 104,
   "id": "f5065cc4",
   "metadata": {},
   "outputs": [
    {
     "data": {
      "text/html": [
       "<div>\n",
       "<style scoped>\n",
       "    .dataframe tbody tr th:only-of-type {\n",
       "        vertical-align: middle;\n",
       "    }\n",
       "\n",
       "    .dataframe tbody tr th {\n",
       "        vertical-align: top;\n",
       "    }\n",
       "\n",
       "    .dataframe thead th {\n",
       "        text-align: right;\n",
       "    }\n",
       "</style>\n",
       "<table border=\"1\" class=\"dataframe\">\n",
       "  <thead>\n",
       "    <tr style=\"text-align: right;\">\n",
       "      <th></th>\n",
       "      <th>city_development_index</th>\n",
       "      <th>gender</th>\n",
       "      <th>relevent_experience</th>\n",
       "      <th>enrolled_university</th>\n",
       "      <th>education_level</th>\n",
       "      <th>major_discipline</th>\n",
       "      <th>experience</th>\n",
       "      <th>last_new_job</th>\n",
       "      <th>training_hours</th>\n",
       "      <th>target</th>\n",
       "    </tr>\n",
       "  </thead>\n",
       "  <tbody>\n",
       "    <tr>\n",
       "      <th>0</th>\n",
       "      <td>0.516</td>\n",
       "      <td>Male</td>\n",
       "      <td>1</td>\n",
       "      <td>0</td>\n",
       "      <td>Graduate</td>\n",
       "      <td>STEM</td>\n",
       "      <td>13</td>\n",
       "      <td>5</td>\n",
       "      <td>36</td>\n",
       "      <td>1</td>\n",
       "    </tr>\n",
       "    <tr>\n",
       "      <th>1</th>\n",
       "      <td>0.766</td>\n",
       "      <td>Male</td>\n",
       "      <td>1</td>\n",
       "      <td>0</td>\n",
       "      <td>Graduate</td>\n",
       "      <td>STEM</td>\n",
       "      <td>12</td>\n",
       "      <td>5</td>\n",
       "      <td>264</td>\n",
       "      <td>0</td>\n",
       "    </tr>\n",
       "    <tr>\n",
       "      <th>2</th>\n",
       "      <td>0.920</td>\n",
       "      <td>Male</td>\n",
       "      <td>1</td>\n",
       "      <td>0</td>\n",
       "      <td>Masters</td>\n",
       "      <td>STEM</td>\n",
       "      <td>10</td>\n",
       "      <td>2</td>\n",
       "      <td>99</td>\n",
       "      <td>0</td>\n",
       "    </tr>\n",
       "  </tbody>\n",
       "</table>\n",
       "</div>"
      ],
      "text/plain": [
       "   city_development_index gender  relevent_experience  enrolled_university  \\\n",
       "0                   0.516   Male                    1                    0   \n",
       "1                   0.766   Male                    1                    0   \n",
       "2                   0.920   Male                    1                    0   \n",
       "\n",
       "  education_level major_discipline  experience  last_new_job  training_hours  \\\n",
       "0        Graduate             STEM          13             5              36   \n",
       "1        Graduate             STEM          12             5             264   \n",
       "2         Masters             STEM          10             2              99   \n",
       "\n",
       "   target  \n",
       "0       1  \n",
       "1       0  \n",
       "2       0  "
      ]
     },
     "execution_count": 104,
     "metadata": {},
     "output_type": "execute_result"
    }
   ],
   "source": [
    "data13.head(3)"
   ]
  },
  {
   "cell_type": "code",
   "execution_count": 105,
   "id": "a1f74dc5",
   "metadata": {},
   "outputs": [],
   "source": [
    "q2 = data13.copy()"
   ]
  },
  {
   "cell_type": "code",
   "execution_count": 107,
   "id": "74608caf",
   "metadata": {},
   "outputs": [
    {
     "data": {
      "text/plain": [
       "dtype('O')"
      ]
     },
     "execution_count": 107,
     "metadata": {},
     "output_type": "execute_result"
    }
   ],
   "source": [
    "q2['target'] = q2['target'].astype(str)\n",
    "q2['target'].dtype"
   ]
  },
  {
   "cell_type": "code",
   "execution_count": 108,
   "id": "392b4ea0",
   "metadata": {},
   "outputs": [
    {
     "data": {
      "text/plain": [
       "STEM               1290\n",
       "Humanities          110\n",
       "Arts                 38\n",
       "Other                33\n",
       "Business Degree      29\n",
       "Name: major_discipline, dtype: int64"
      ]
     },
     "execution_count": 108,
     "metadata": {},
     "output_type": "execute_result"
    }
   ],
   "source": [
    "q2['major_discipline'].value_counts()"
   ]
  },
  {
   "cell_type": "code",
   "execution_count": 109,
   "id": "efacd8a8",
   "metadata": {},
   "outputs": [],
   "source": [
    "base = q2['city_development_index'].quantile(0.85)"
   ]
  },
  {
   "cell_type": "code",
   "execution_count": 110,
   "id": "3933b5a4",
   "metadata": {},
   "outputs": [],
   "source": [
    "ord1 = (q2['major_discipline'] == 'STEM')\n",
    "ord2 = q2['city_development_index'] > base"
   ]
  },
  {
   "cell_type": "code",
   "execution_count": 111,
   "id": "f98483df",
   "metadata": {},
   "outputs": [],
   "source": [
    "q2_1 = q2[ord1 & ord2]"
   ]
  },
  {
   "cell_type": "code",
   "execution_count": 112,
   "id": "d8364e78",
   "metadata": {},
   "outputs": [
    {
     "data": {
      "text/html": [
       "<div>\n",
       "<style scoped>\n",
       "    .dataframe tbody tr th:only-of-type {\n",
       "        vertical-align: middle;\n",
       "    }\n",
       "\n",
       "    .dataframe tbody tr th {\n",
       "        vertical-align: top;\n",
       "    }\n",
       "\n",
       "    .dataframe thead th {\n",
       "        text-align: right;\n",
       "    }\n",
       "</style>\n",
       "<table border=\"1\" class=\"dataframe\">\n",
       "  <thead>\n",
       "    <tr style=\"text-align: right;\">\n",
       "      <th></th>\n",
       "      <th>city_development_index</th>\n",
       "      <th>gender</th>\n",
       "      <th>relevent_experience</th>\n",
       "      <th>enrolled_university</th>\n",
       "      <th>education_level</th>\n",
       "      <th>major_discipline</th>\n",
       "      <th>experience</th>\n",
       "      <th>last_new_job</th>\n",
       "      <th>training_hours</th>\n",
       "      <th>target</th>\n",
       "    </tr>\n",
       "  </thead>\n",
       "  <tbody>\n",
       "    <tr>\n",
       "      <th>6</th>\n",
       "      <td>0.939</td>\n",
       "      <td>Female</td>\n",
       "      <td>1</td>\n",
       "      <td>0</td>\n",
       "      <td>Graduate</td>\n",
       "      <td>STEM</td>\n",
       "      <td>9</td>\n",
       "      <td>5</td>\n",
       "      <td>148</td>\n",
       "      <td>0</td>\n",
       "    </tr>\n",
       "    <tr>\n",
       "      <th>14</th>\n",
       "      <td>0.939</td>\n",
       "      <td>Male</td>\n",
       "      <td>1</td>\n",
       "      <td>0</td>\n",
       "      <td>Masters</td>\n",
       "      <td>STEM</td>\n",
       "      <td>20</td>\n",
       "      <td>1</td>\n",
       "      <td>73</td>\n",
       "      <td>0</td>\n",
       "    </tr>\n",
       "    <tr>\n",
       "      <th>20</th>\n",
       "      <td>0.925</td>\n",
       "      <td>Male</td>\n",
       "      <td>1</td>\n",
       "      <td>0</td>\n",
       "      <td>Masters</td>\n",
       "      <td>STEM</td>\n",
       "      <td>16</td>\n",
       "      <td>2</td>\n",
       "      <td>8</td>\n",
       "      <td>0</td>\n",
       "    </tr>\n",
       "    <tr>\n",
       "      <th>38</th>\n",
       "      <td>0.925</td>\n",
       "      <td>Male</td>\n",
       "      <td>1</td>\n",
       "      <td>0</td>\n",
       "      <td>Graduate</td>\n",
       "      <td>STEM</td>\n",
       "      <td>15</td>\n",
       "      <td>4</td>\n",
       "      <td>108</td>\n",
       "      <td>0</td>\n",
       "    </tr>\n",
       "    <tr>\n",
       "      <th>56</th>\n",
       "      <td>0.939</td>\n",
       "      <td>Male</td>\n",
       "      <td>0</td>\n",
       "      <td>0</td>\n",
       "      <td>Graduate</td>\n",
       "      <td>STEM</td>\n",
       "      <td>3</td>\n",
       "      <td>2</td>\n",
       "      <td>109</td>\n",
       "      <td>0</td>\n",
       "    </tr>\n",
       "  </tbody>\n",
       "</table>\n",
       "</div>"
      ],
      "text/plain": [
       "    city_development_index  gender  relevent_experience  enrolled_university  \\\n",
       "6                    0.939  Female                    1                    0   \n",
       "14                   0.939    Male                    1                    0   \n",
       "20                   0.925    Male                    1                    0   \n",
       "38                   0.925    Male                    1                    0   \n",
       "56                   0.939    Male                    0                    0   \n",
       "\n",
       "   education_level major_discipline  experience  last_new_job  training_hours  \\\n",
       "6         Graduate             STEM           9             5             148   \n",
       "14         Masters             STEM          20             1              73   \n",
       "20         Masters             STEM          16             2               8   \n",
       "38        Graduate             STEM          15             4             108   \n",
       "56        Graduate             STEM           3             2             109   \n",
       "\n",
       "   target  \n",
       "6       0  \n",
       "14      0  \n",
       "20      0  \n",
       "38      0  \n",
       "56      0  "
      ]
     },
     "execution_count": 112,
     "metadata": {},
     "output_type": "execute_result"
    }
   ],
   "source": [
    "q2_1.head()"
   ]
  },
  {
   "cell_type": "code",
   "execution_count": 113,
   "id": "66666b85",
   "metadata": {},
   "outputs": [],
   "source": [
    "from scipy.stats import chi2_contingency"
   ]
  },
  {
   "cell_type": "code",
   "execution_count": 114,
   "id": "ec530612",
   "metadata": {},
   "outputs": [
    {
     "data": {
      "text/html": [
       "<div>\n",
       "<style scoped>\n",
       "    .dataframe tbody tr th:only-of-type {\n",
       "        vertical-align: middle;\n",
       "    }\n",
       "\n",
       "    .dataframe tbody tr th {\n",
       "        vertical-align: top;\n",
       "    }\n",
       "\n",
       "    .dataframe thead th {\n",
       "        text-align: right;\n",
       "    }\n",
       "</style>\n",
       "<table border=\"1\" class=\"dataframe\">\n",
       "  <thead>\n",
       "    <tr style=\"text-align: right;\">\n",
       "      <th>target</th>\n",
       "      <th>0</th>\n",
       "      <th>1</th>\n",
       "    </tr>\n",
       "    <tr>\n",
       "      <th>relevent_experience</th>\n",
       "      <th></th>\n",
       "      <th></th>\n",
       "    </tr>\n",
       "  </thead>\n",
       "  <tbody>\n",
       "    <tr>\n",
       "      <th>0</th>\n",
       "      <td>30</td>\n",
       "      <td>7</td>\n",
       "    </tr>\n",
       "    <tr>\n",
       "      <th>1</th>\n",
       "      <td>93</td>\n",
       "      <td>15</td>\n",
       "    </tr>\n",
       "  </tbody>\n",
       "</table>\n",
       "</div>"
      ],
      "text/plain": [
       "target                0   1\n",
       "relevent_experience        \n",
       "0                    30   7\n",
       "1                    93  15"
      ]
     },
     "execution_count": 114,
     "metadata": {},
     "output_type": "execute_result"
    }
   ],
   "source": [
    "q2_tab = pd.crosstab(index=q2_1['relevent_experience'], columns=q2_1['target'])\n",
    "q2_tab"
   ]
  },
  {
   "cell_type": "code",
   "execution_count": 115,
   "id": "07ccf8ab",
   "metadata": {},
   "outputs": [],
   "source": [
    "q2_out = chi2_contingency(q2_tab)"
   ]
  },
  {
   "cell_type": "code",
   "execution_count": 116,
   "id": "7739a471",
   "metadata": {},
   "outputs": [
    {
     "data": {
      "text/plain": [
       "(0.22142211039568746,\n",
       " 0.6379584714909265,\n",
       " 1,\n",
       " array([[31.3862069,  5.6137931],\n",
       "        [91.6137931, 16.3862069]]))"
      ]
     },
     "execution_count": 116,
     "metadata": {},
     "output_type": "execute_result"
    }
   ],
   "source": [
    "q2_out"
   ]
  },
  {
   "cell_type": "code",
   "execution_count": 117,
   "id": "3a9e5a10",
   "metadata": {},
   "outputs": [],
   "source": [
    "# 답 : 0.64"
   ]
  },
  {
   "cell_type": "code",
   "execution_count": 120,
   "id": "8e0996e7",
   "metadata": {},
   "outputs": [],
   "source": [
    "# 3.(Dataset_13_train.csv를 활용하여) 인사팀에서는 어떤 직원이 이직 의사를 가지고 있을지\n",
    "# 사전에 파악하고 1:1 면담 등 집중 케어를 하고자 한다. 이를 위해 의사결정 나무를\n",
    "# 활용하여 모델을 생성하고 그 정확도를 확인하시오.\n",
    "# - target을 종속변수로 하고 나머지 변수 중 String이 아닌 변수를 독립변수로 한다.\n",
    "# - 학습은 전부 기본값으로 실시한다.\n",
    "# - 평가는 \"Dataset_13_test.csv\" 데이터로 실시한다.\n",
    "# - 정확도는 반올림하여 소수점 둘째 자리까지 기술하시오. (답안 예시) 0.12"
   ]
  },
  {
   "cell_type": "code",
   "execution_count": 121,
   "id": "ae9eb6fd",
   "metadata": {},
   "outputs": [],
   "source": [
    "# from sklearn.tree import DecisionTreeClassifier\n",
    "# random_state = 123"
   ]
  },
  {
   "cell_type": "code",
   "execution_count": 119,
   "id": "cf6deab4",
   "metadata": {},
   "outputs": [
    {
     "data": {
      "text/html": [
       "<div>\n",
       "<style scoped>\n",
       "    .dataframe tbody tr th:only-of-type {\n",
       "        vertical-align: middle;\n",
       "    }\n",
       "\n",
       "    .dataframe tbody tr th {\n",
       "        vertical-align: top;\n",
       "    }\n",
       "\n",
       "    .dataframe thead th {\n",
       "        text-align: right;\n",
       "    }\n",
       "</style>\n",
       "<table border=\"1\" class=\"dataframe\">\n",
       "  <thead>\n",
       "    <tr style=\"text-align: right;\">\n",
       "      <th></th>\n",
       "      <th>city_development_index</th>\n",
       "      <th>gender</th>\n",
       "      <th>relevent_experience</th>\n",
       "      <th>enrolled_university</th>\n",
       "      <th>education_level</th>\n",
       "      <th>major_discipline</th>\n",
       "      <th>experience</th>\n",
       "      <th>last_new_job</th>\n",
       "      <th>training_hours</th>\n",
       "      <th>target</th>\n",
       "    </tr>\n",
       "  </thead>\n",
       "  <tbody>\n",
       "    <tr>\n",
       "      <th>0</th>\n",
       "      <td>0.516</td>\n",
       "      <td>Male</td>\n",
       "      <td>1</td>\n",
       "      <td>0</td>\n",
       "      <td>Graduate</td>\n",
       "      <td>STEM</td>\n",
       "      <td>13</td>\n",
       "      <td>5</td>\n",
       "      <td>36</td>\n",
       "      <td>1</td>\n",
       "    </tr>\n",
       "    <tr>\n",
       "      <th>1</th>\n",
       "      <td>0.766</td>\n",
       "      <td>Male</td>\n",
       "      <td>1</td>\n",
       "      <td>0</td>\n",
       "      <td>Graduate</td>\n",
       "      <td>STEM</td>\n",
       "      <td>12</td>\n",
       "      <td>5</td>\n",
       "      <td>264</td>\n",
       "      <td>0</td>\n",
       "    </tr>\n",
       "    <tr>\n",
       "      <th>2</th>\n",
       "      <td>0.920</td>\n",
       "      <td>Male</td>\n",
       "      <td>1</td>\n",
       "      <td>0</td>\n",
       "      <td>Masters</td>\n",
       "      <td>STEM</td>\n",
       "      <td>10</td>\n",
       "      <td>2</td>\n",
       "      <td>99</td>\n",
       "      <td>0</td>\n",
       "    </tr>\n",
       "    <tr>\n",
       "      <th>3</th>\n",
       "      <td>0.899</td>\n",
       "      <td>Male</td>\n",
       "      <td>1</td>\n",
       "      <td>0</td>\n",
       "      <td>Graduate</td>\n",
       "      <td>Business Degree</td>\n",
       "      <td>16</td>\n",
       "      <td>1</td>\n",
       "      <td>20</td>\n",
       "      <td>0</td>\n",
       "    </tr>\n",
       "    <tr>\n",
       "      <th>4</th>\n",
       "      <td>0.884</td>\n",
       "      <td>Male</td>\n",
       "      <td>1</td>\n",
       "      <td>0</td>\n",
       "      <td>Masters</td>\n",
       "      <td>STEM</td>\n",
       "      <td>20</td>\n",
       "      <td>5</td>\n",
       "      <td>39</td>\n",
       "      <td>0</td>\n",
       "    </tr>\n",
       "  </tbody>\n",
       "</table>\n",
       "</div>"
      ],
      "text/plain": [
       "   city_development_index gender  relevent_experience  enrolled_university  \\\n",
       "0                   0.516   Male                    1                    0   \n",
       "1                   0.766   Male                    1                    0   \n",
       "2                   0.920   Male                    1                    0   \n",
       "3                   0.899   Male                    1                    0   \n",
       "4                   0.884   Male                    1                    0   \n",
       "\n",
       "  education_level major_discipline  experience  last_new_job  training_hours  \\\n",
       "0        Graduate             STEM          13             5              36   \n",
       "1        Graduate             STEM          12             5             264   \n",
       "2         Masters             STEM          10             2              99   \n",
       "3        Graduate  Business Degree          16             1              20   \n",
       "4         Masters             STEM          20             5              39   \n",
       "\n",
       "   target  \n",
       "0       1  \n",
       "1       0  \n",
       "2       0  \n",
       "3       0  \n",
       "4       0  "
      ]
     },
     "execution_count": 119,
     "metadata": {},
     "output_type": "execute_result"
    }
   ],
   "source": [
    "data13.head()"
   ]
  },
  {
   "cell_type": "code",
   "execution_count": 122,
   "id": "0637b1e7",
   "metadata": {},
   "outputs": [
    {
     "data": {
      "text/plain": [
       "city_development_index    float64\n",
       "gender                     object\n",
       "relevent_experience         int64\n",
       "enrolled_university         int64\n",
       "education_level            object\n",
       "major_discipline           object\n",
       "experience                  int64\n",
       "last_new_job                int64\n",
       "training_hours              int64\n",
       "target                      int64\n",
       "dtype: object"
      ]
     },
     "execution_count": 122,
     "metadata": {},
     "output_type": "execute_result"
    }
   ],
   "source": [
    "data13.dtypes"
   ]
  },
  {
   "cell_type": "code",
   "execution_count": 124,
   "id": "a33da5bf",
   "metadata": {},
   "outputs": [
    {
     "data": {
      "text/plain": [
       "Index(['city_development_index', 'relevent_experience', 'enrolled_university',\n",
       "       'experience', 'last_new_job', 'training_hours'],\n",
       "      dtype='object')"
      ]
     },
     "execution_count": 124,
     "metadata": {},
     "output_type": "execute_result"
    }
   ],
   "source": [
    "var_list = data13.columns[data13.dtypes != 'object'].drop('target')\n",
    "var_list"
   ]
  },
  {
   "cell_type": "code",
   "execution_count": 125,
   "id": "b88c09ce",
   "metadata": {},
   "outputs": [],
   "source": [
    "from sklearn.tree import DecisionTreeClassifier"
   ]
  },
  {
   "cell_type": "code",
   "execution_count": 126,
   "id": "3964074a",
   "metadata": {},
   "outputs": [],
   "source": [
    "model = DecisionTreeClassifier(random_state=123)"
   ]
  },
  {
   "cell_type": "code",
   "execution_count": 127,
   "id": "fab4a604",
   "metadata": {},
   "outputs": [
    {
     "data": {
      "text/plain": [
       "DecisionTreeClassifier(random_state=123)"
      ]
     },
     "execution_count": 127,
     "metadata": {},
     "output_type": "execute_result"
    }
   ],
   "source": [
    "model.fit(data13[var_list], data13['target'])"
   ]
  },
  {
   "cell_type": "code",
   "execution_count": 132,
   "id": "15863491",
   "metadata": {},
   "outputs": [],
   "source": [
    "test = pd.read_csv('../Dataset/Dataset_13_test.csv')"
   ]
  },
  {
   "cell_type": "code",
   "execution_count": 133,
   "id": "2b901756",
   "metadata": {},
   "outputs": [
    {
     "data": {
      "text/plain": [
       "0.672"
      ]
     },
     "execution_count": 133,
     "metadata": {},
     "output_type": "execute_result"
    }
   ],
   "source": [
    "model.score(test[var_list], test['target'])"
   ]
  },
  {
   "cell_type": "code",
   "execution_count": 134,
   "id": "ac45535b",
   "metadata": {},
   "outputs": [],
   "source": [
    "# 답 0.67"
   ]
  },
  {
   "cell_type": "code",
   "execution_count": 135,
   "id": "cb87b3f5",
   "metadata": {},
   "outputs": [],
   "source": [
    "# # 문제 14 유형(DataSet_14.csv 이용)\n",
    "#\n",
    "# 구분자 : comma(“,”), 2000 Rows, 9 Columns, UTF-8 인코딩\n",
    "#\n",
    "# 온라인 교육업체 싱글캠퍼스에서 런칭한 교육 플랫폼을 보다\n",
    "# 체계적으로 운영하기 위해 2014년부터 2016년 동안 개설된 강좌\n",
    "# 2000개를 대상으로 강좌 실적 및 고객의 서비스 분석을 실시하려고\n",
    "# 한다. 관련 데이터는 다음과 같다.\n",
    "#\n",
    "# 컬 럼 / 정 의 / Type\n",
    "# id / 강좌 일련번호 / Double\n",
    "# published / 강과 개설일 / String\n",
    "# subject / 강좌 대주제 / String\n",
    "# level / 난이도 / String\n",
    "# price / 가격(만원) / Double\n",
    "# subscribers / 구독자 수(결제 인원) / Double\n",
    "# reviews / 리뷰 개수 / Double\n",
    "# lectures / 강좌 영상 수 / Double\n",
    "# duration / 강좌 총 길이(시간) / Double"
   ]
  },
  {
   "cell_type": "code",
   "execution_count": 140,
   "id": "03bc473e",
   "metadata": {},
   "outputs": [],
   "source": [
    "import pandas as pd\n",
    "import numpy as np"
   ]
  },
  {
   "cell_type": "code",
   "execution_count": 141,
   "id": "b37465e1",
   "metadata": {},
   "outputs": [
    {
     "data": {
      "text/html": [
       "<div>\n",
       "<style scoped>\n",
       "    .dataframe tbody tr th:only-of-type {\n",
       "        vertical-align: middle;\n",
       "    }\n",
       "\n",
       "    .dataframe tbody tr th {\n",
       "        vertical-align: top;\n",
       "    }\n",
       "\n",
       "    .dataframe thead th {\n",
       "        text-align: right;\n",
       "    }\n",
       "</style>\n",
       "<table border=\"1\" class=\"dataframe\">\n",
       "  <thead>\n",
       "    <tr style=\"text-align: right;\">\n",
       "      <th></th>\n",
       "      <th>id</th>\n",
       "      <th>published</th>\n",
       "      <th>subject</th>\n",
       "      <th>level</th>\n",
       "      <th>price</th>\n",
       "      <th>subscribers</th>\n",
       "      <th>reviews</th>\n",
       "      <th>lectures</th>\n",
       "      <th>duration</th>\n",
       "    </tr>\n",
       "  </thead>\n",
       "  <tbody>\n",
       "    <tr>\n",
       "      <th>0</th>\n",
       "      <td>1</td>\n",
       "      <td>2015-07-10</td>\n",
       "      <td>Business Finance</td>\n",
       "      <td>Beginner Level</td>\n",
       "      <td>1.7</td>\n",
       "      <td>56</td>\n",
       "      <td>8</td>\n",
       "      <td>18</td>\n",
       "      <td>2.000000</td>\n",
       "    </tr>\n",
       "    <tr>\n",
       "      <th>1</th>\n",
       "      <td>2</td>\n",
       "      <td>2016-10-25</td>\n",
       "      <td>Business Finance</td>\n",
       "      <td>All Levels</td>\n",
       "      <td>17.4</td>\n",
       "      <td>336</td>\n",
       "      <td>6</td>\n",
       "      <td>13</td>\n",
       "      <td>0.683333</td>\n",
       "    </tr>\n",
       "    <tr>\n",
       "      <th>2</th>\n",
       "      <td>3</td>\n",
       "      <td>2015-06-16</td>\n",
       "      <td>Business Finance</td>\n",
       "      <td>All Levels</td>\n",
       "      <td>8.3</td>\n",
       "      <td>871</td>\n",
       "      <td>79</td>\n",
       "      <td>59</td>\n",
       "      <td>2.000000</td>\n",
       "    </tr>\n",
       "  </tbody>\n",
       "</table>\n",
       "</div>"
      ],
      "text/plain": [
       "   id   published           subject           level  price  subscribers  \\\n",
       "0   1  2015-07-10  Business Finance  Beginner Level    1.7           56   \n",
       "1   2  2016-10-25  Business Finance      All Levels   17.4          336   \n",
       "2   3  2015-06-16  Business Finance      All Levels    8.3          871   \n",
       "\n",
       "   reviews  lectures  duration  \n",
       "0        8        18  2.000000  \n",
       "1        6        13  0.683333  \n",
       "2       79        59  2.000000  "
      ]
     },
     "execution_count": 141,
     "metadata": {},
     "output_type": "execute_result"
    }
   ],
   "source": [
    "data14 = pd.read_csv('../Dataset/Dataset_14.csv')\n",
    "data14.head(3)"
   ]
  },
  {
   "cell_type": "code",
   "execution_count": 142,
   "id": "1ea79195",
   "metadata": {},
   "outputs": [],
   "source": [
    "# 1.결제 금액이 1억 이상이면서 구독자의 리뷰 작성 비율이 10% 이상인 교육의 수는?\n",
    "# - 결제 금액은 강좌 가격에 구독자 수를 곱한 값이다.\n",
    "# - 리뷰 작성 비율은 리뷰 개수에 구독자 수를 나눈 값이다. (답안 예시) 1"
   ]
  },
  {
   "cell_type": "code",
   "execution_count": 143,
   "id": "7bb0d262",
   "metadata": {},
   "outputs": [],
   "source": [
    "data14['income'] = data14['price'] * data14['subscribers']"
   ]
  },
  {
   "cell_type": "code",
   "execution_count": 144,
   "id": "b526ab9e",
   "metadata": {},
   "outputs": [],
   "source": [
    "data14['review_rate'] = data14['reviews'] / data14['subscribers']"
   ]
  },
  {
   "cell_type": "code",
   "execution_count": 145,
   "id": "d2a033b5",
   "metadata": {},
   "outputs": [],
   "source": [
    "ord1 = (data14['income'] >= 10000)\n",
    "ord2 = (data14['review_rate'] >= 0.1)"
   ]
  },
  {
   "cell_type": "code",
   "execution_count": 151,
   "id": "644ceb19",
   "metadata": {},
   "outputs": [
    {
     "data": {
      "text/plain": [
       "59"
      ]
     },
     "execution_count": 151,
     "metadata": {},
     "output_type": "execute_result"
    }
   ],
   "source": [
    "len(data14[ord1 & ord2])"
   ]
  },
  {
   "cell_type": "code",
   "execution_count": 152,
   "id": "cbcebf1b",
   "metadata": {},
   "outputs": [],
   "source": [
    "# 답 : 59"
   ]
  },
  {
   "cell_type": "code",
   "execution_count": 153,
   "id": "8b26917c",
   "metadata": {},
   "outputs": [],
   "source": [
    "# 2.강좌 가격이 비쌀수록 구독자 숫자는 줄어든다는 가설을 확인하기 위해 상관분석을\n",
    "# 실시하고자 한다. 2016년 개설된 Web Development 강좌를 대상으로 강좌 가격과\n",
    "# 구독자 수의 피어슨 상관관계를 기술하시오.\n",
    "# - 상관계수는 반올림하여 소수점 둘째 자리까지 기술하시오. (답안 예시) 0.12"
   ]
  },
  {
   "cell_type": "code",
   "execution_count": 154,
   "id": "b142ee5c",
   "metadata": {},
   "outputs": [],
   "source": [
    "data14['published'] = pd.to_datetime(data14['published'])"
   ]
  },
  {
   "cell_type": "code",
   "execution_count": 156,
   "id": "54e4f4f5",
   "metadata": {},
   "outputs": [],
   "source": [
    "data14['year'] = data14['published'].dt.year"
   ]
  },
  {
   "cell_type": "code",
   "execution_count": 157,
   "id": "8e5903dc",
   "metadata": {},
   "outputs": [
    {
     "data": {
      "text/html": [
       "<div>\n",
       "<style scoped>\n",
       "    .dataframe tbody tr th:only-of-type {\n",
       "        vertical-align: middle;\n",
       "    }\n",
       "\n",
       "    .dataframe tbody tr th {\n",
       "        vertical-align: top;\n",
       "    }\n",
       "\n",
       "    .dataframe thead th {\n",
       "        text-align: right;\n",
       "    }\n",
       "</style>\n",
       "<table border=\"1\" class=\"dataframe\">\n",
       "  <thead>\n",
       "    <tr style=\"text-align: right;\">\n",
       "      <th></th>\n",
       "      <th>id</th>\n",
       "      <th>published</th>\n",
       "      <th>subject</th>\n",
       "      <th>level</th>\n",
       "      <th>price</th>\n",
       "      <th>subscribers</th>\n",
       "      <th>reviews</th>\n",
       "      <th>lectures</th>\n",
       "      <th>duration</th>\n",
       "      <th>income</th>\n",
       "      <th>review_rate</th>\n",
       "      <th>year</th>\n",
       "    </tr>\n",
       "  </thead>\n",
       "  <tbody>\n",
       "    <tr>\n",
       "      <th>0</th>\n",
       "      <td>1</td>\n",
       "      <td>2015-07-10</td>\n",
       "      <td>Business Finance</td>\n",
       "      <td>Beginner Level</td>\n",
       "      <td>1.7</td>\n",
       "      <td>56</td>\n",
       "      <td>8</td>\n",
       "      <td>18</td>\n",
       "      <td>2.000000</td>\n",
       "      <td>95.2</td>\n",
       "      <td>0.142857</td>\n",
       "      <td>2015</td>\n",
       "    </tr>\n",
       "    <tr>\n",
       "      <th>1</th>\n",
       "      <td>2</td>\n",
       "      <td>2016-10-25</td>\n",
       "      <td>Business Finance</td>\n",
       "      <td>All Levels</td>\n",
       "      <td>17.4</td>\n",
       "      <td>336</td>\n",
       "      <td>6</td>\n",
       "      <td>13</td>\n",
       "      <td>0.683333</td>\n",
       "      <td>5846.4</td>\n",
       "      <td>0.017857</td>\n",
       "      <td>2016</td>\n",
       "    </tr>\n",
       "    <tr>\n",
       "      <th>2</th>\n",
       "      <td>3</td>\n",
       "      <td>2015-06-16</td>\n",
       "      <td>Business Finance</td>\n",
       "      <td>All Levels</td>\n",
       "      <td>8.3</td>\n",
       "      <td>871</td>\n",
       "      <td>79</td>\n",
       "      <td>59</td>\n",
       "      <td>2.000000</td>\n",
       "      <td>7229.3</td>\n",
       "      <td>0.090700</td>\n",
       "      <td>2015</td>\n",
       "    </tr>\n",
       "  </tbody>\n",
       "</table>\n",
       "</div>"
      ],
      "text/plain": [
       "   id  published           subject           level  price  subscribers  \\\n",
       "0   1 2015-07-10  Business Finance  Beginner Level    1.7           56   \n",
       "1   2 2016-10-25  Business Finance      All Levels   17.4          336   \n",
       "2   3 2015-06-16  Business Finance      All Levels    8.3          871   \n",
       "\n",
       "   reviews  lectures  duration  income  review_rate  year  \n",
       "0        8        18  2.000000    95.2     0.142857  2015  \n",
       "1        6        13  0.683333  5846.4     0.017857  2016  \n",
       "2       79        59  2.000000  7229.3     0.090700  2015  "
      ]
     },
     "execution_count": 157,
     "metadata": {},
     "output_type": "execute_result"
    }
   ],
   "source": [
    "data14.head(3)"
   ]
  },
  {
   "cell_type": "code",
   "execution_count": 158,
   "id": "2e98542e",
   "metadata": {},
   "outputs": [],
   "source": [
    "ord1 = (data14['subject'] == 'Web Development')\n",
    "ord2 = (data14['year'] == 2016)"
   ]
  },
  {
   "cell_type": "code",
   "execution_count": 159,
   "id": "d2221f13",
   "metadata": {},
   "outputs": [
    {
     "data": {
      "text/html": [
       "<div>\n",
       "<style scoped>\n",
       "    .dataframe tbody tr th:only-of-type {\n",
       "        vertical-align: middle;\n",
       "    }\n",
       "\n",
       "    .dataframe tbody tr th {\n",
       "        vertical-align: top;\n",
       "    }\n",
       "\n",
       "    .dataframe thead th {\n",
       "        text-align: right;\n",
       "    }\n",
       "</style>\n",
       "<table border=\"1\" class=\"dataframe\">\n",
       "  <thead>\n",
       "    <tr style=\"text-align: right;\">\n",
       "      <th></th>\n",
       "      <th>id</th>\n",
       "      <th>published</th>\n",
       "      <th>subject</th>\n",
       "      <th>level</th>\n",
       "      <th>price</th>\n",
       "      <th>subscribers</th>\n",
       "      <th>reviews</th>\n",
       "      <th>lectures</th>\n",
       "      <th>duration</th>\n",
       "      <th>income</th>\n",
       "      <th>review_rate</th>\n",
       "      <th>year</th>\n",
       "    </tr>\n",
       "  </thead>\n",
       "  <tbody>\n",
       "    <tr>\n",
       "      <th>6</th>\n",
       "      <td>7</td>\n",
       "      <td>2016-10-24</td>\n",
       "      <td>Web Development</td>\n",
       "      <td>Intermediate Level</td>\n",
       "      <td>17.4</td>\n",
       "      <td>9773</td>\n",
       "      <td>117</td>\n",
       "      <td>65</td>\n",
       "      <td>4.5</td>\n",
       "      <td>170050.2</td>\n",
       "      <td>0.011972</td>\n",
       "      <td>2016</td>\n",
       "    </tr>\n",
       "    <tr>\n",
       "      <th>36</th>\n",
       "      <td>37</td>\n",
       "      <td>2016-04-05</td>\n",
       "      <td>Web Development</td>\n",
       "      <td>All Levels</td>\n",
       "      <td>17.0</td>\n",
       "      <td>12068</td>\n",
       "      <td>81</td>\n",
       "      <td>12</td>\n",
       "      <td>1.5</td>\n",
       "      <td>205156.0</td>\n",
       "      <td>0.006712</td>\n",
       "      <td>2016</td>\n",
       "    </tr>\n",
       "    <tr>\n",
       "      <th>43</th>\n",
       "      <td>44</td>\n",
       "      <td>2016-03-28</td>\n",
       "      <td>Web Development</td>\n",
       "      <td>All Levels</td>\n",
       "      <td>2.2</td>\n",
       "      <td>3133</td>\n",
       "      <td>351</td>\n",
       "      <td>63</td>\n",
       "      <td>6.0</td>\n",
       "      <td>6892.6</td>\n",
       "      <td>0.112033</td>\n",
       "      <td>2016</td>\n",
       "    </tr>\n",
       "  </tbody>\n",
       "</table>\n",
       "</div>"
      ],
      "text/plain": [
       "    id  published          subject               level  price  subscribers  \\\n",
       "6    7 2016-10-24  Web Development  Intermediate Level   17.4         9773   \n",
       "36  37 2016-04-05  Web Development          All Levels   17.0        12068   \n",
       "43  44 2016-03-28  Web Development          All Levels    2.2         3133   \n",
       "\n",
       "    reviews  lectures  duration    income  review_rate  year  \n",
       "6       117        65       4.5  170050.2     0.011972  2016  \n",
       "36       81        12       1.5  205156.0     0.006712  2016  \n",
       "43      351        63       6.0    6892.6     0.112033  2016  "
      ]
     },
     "execution_count": 159,
     "metadata": {},
     "output_type": "execute_result"
    }
   ],
   "source": [
    "result = data14[ord1 & ord2]\n",
    "result.head(3)"
   ]
  },
  {
   "cell_type": "code",
   "execution_count": 161,
   "id": "86ebd717",
   "metadata": {},
   "outputs": [
    {
     "data": {
      "text/html": [
       "<div>\n",
       "<style scoped>\n",
       "    .dataframe tbody tr th:only-of-type {\n",
       "        vertical-align: middle;\n",
       "    }\n",
       "\n",
       "    .dataframe tbody tr th {\n",
       "        vertical-align: top;\n",
       "    }\n",
       "\n",
       "    .dataframe thead th {\n",
       "        text-align: right;\n",
       "    }\n",
       "</style>\n",
       "<table border=\"1\" class=\"dataframe\">\n",
       "  <thead>\n",
       "    <tr style=\"text-align: right;\">\n",
       "      <th></th>\n",
       "      <th>price</th>\n",
       "      <th>subscribers</th>\n",
       "    </tr>\n",
       "  </thead>\n",
       "  <tbody>\n",
       "    <tr>\n",
       "      <th>price</th>\n",
       "      <td>1.000000</td>\n",
       "      <td>0.034392</td>\n",
       "    </tr>\n",
       "    <tr>\n",
       "      <th>subscribers</th>\n",
       "      <td>0.034392</td>\n",
       "      <td>1.000000</td>\n",
       "    </tr>\n",
       "  </tbody>\n",
       "</table>\n",
       "</div>"
      ],
      "text/plain": [
       "                price  subscribers\n",
       "price        1.000000     0.034392\n",
       "subscribers  0.034392     1.000000"
      ]
     },
     "execution_count": 161,
     "metadata": {},
     "output_type": "execute_result"
    }
   ],
   "source": [
    "result[['price', 'subscribers']].corr()"
   ]
  },
  {
   "cell_type": "code",
   "execution_count": 162,
   "id": "7fd91a3c",
   "metadata": {},
   "outputs": [],
   "source": [
    "# 답 : 0.03"
   ]
  },
  {
   "cell_type": "code",
   "execution_count": 163,
   "id": "a292b027",
   "metadata": {},
   "outputs": [],
   "source": [
    "# 3.유저가 서비스 사용에 익숙해지고 컨텐츠의 좋은 내용을 서로 공유하려는 경향이\n",
    "# 전반적으로 증가하는 추세라고 한다. 이를 위해 먼저 강좌 개설 년도별 구독자의 리뷰\n",
    "# 작성 비율의 평균이 강좌 개설 년도별로 차이가 있는지 일원 분산 분석을 통해서\n",
    "# 알아보고자 한다. 이 때 검정통계량을 기술하시오.\n",
    "# - 검정통계량은 반올림하여 소수점 첫째 자리까지 기술하시오. (답안 예시) 0.1\n",
    "#\n",
    "# (참고)\n",
    "# from statsmodels.formula.api import ols\n",
    "# from statsmodels.stats.anova import anova_lm"
   ]
  },
  {
   "cell_type": "code",
   "execution_count": 164,
   "id": "b63e9787",
   "metadata": {},
   "outputs": [],
   "source": [
    "from statsmodels.formula.api import ols\n",
    "from statsmodels.stats.anova import anova_lm"
   ]
  },
  {
   "cell_type": "code",
   "execution_count": 165,
   "id": "ddca3c1c",
   "metadata": {},
   "outputs": [],
   "source": [
    "model = ols('review_rate~C(year)', data =data14).fit()"
   ]
  },
  {
   "cell_type": "code",
   "execution_count": 166,
   "id": "daece2c2",
   "metadata": {},
   "outputs": [
    {
     "data": {
      "text/html": [
       "<div>\n",
       "<style scoped>\n",
       "    .dataframe tbody tr th:only-of-type {\n",
       "        vertical-align: middle;\n",
       "    }\n",
       "\n",
       "    .dataframe tbody tr th {\n",
       "        vertical-align: top;\n",
       "    }\n",
       "\n",
       "    .dataframe thead th {\n",
       "        text-align: right;\n",
       "    }\n",
       "</style>\n",
       "<table border=\"1\" class=\"dataframe\">\n",
       "  <thead>\n",
       "    <tr style=\"text-align: right;\">\n",
       "      <th></th>\n",
       "      <th>df</th>\n",
       "      <th>sum_sq</th>\n",
       "      <th>mean_sq</th>\n",
       "      <th>F</th>\n",
       "      <th>PR(&gt;F)</th>\n",
       "    </tr>\n",
       "  </thead>\n",
       "  <tbody>\n",
       "    <tr>\n",
       "      <th>C(year)</th>\n",
       "      <td>2.0</td>\n",
       "      <td>0.365685</td>\n",
       "      <td>0.182842</td>\n",
       "      <td>18.542038</td>\n",
       "      <td>1.049908e-08</td>\n",
       "    </tr>\n",
       "    <tr>\n",
       "      <th>Residual</th>\n",
       "      <td>1997.0</td>\n",
       "      <td>19.692334</td>\n",
       "      <td>0.009861</td>\n",
       "      <td>NaN</td>\n",
       "      <td>NaN</td>\n",
       "    </tr>\n",
       "  </tbody>\n",
       "</table>\n",
       "</div>"
      ],
      "text/plain": [
       "              df     sum_sq   mean_sq          F        PR(>F)\n",
       "C(year)      2.0   0.365685  0.182842  18.542038  1.049908e-08\n",
       "Residual  1997.0  19.692334  0.009861        NaN           NaN"
      ]
     },
     "execution_count": 166,
     "metadata": {},
     "output_type": "execute_result"
    }
   ],
   "source": [
    "anova_lm(model)"
   ]
  },
  {
   "cell_type": "code",
   "execution_count": 167,
   "id": "e237c9ea",
   "metadata": {},
   "outputs": [],
   "source": [
    "# 답 : 18.5"
   ]
  },
  {
   "cell_type": "code",
   "execution_count": 168,
   "id": "2fcb127c",
   "metadata": {},
   "outputs": [],
   "source": [
    "# # 문제 05 유형(Dataset_05_Mart_POS.csv /  이용)\n",
    "#\n",
    "# =============================================================================\n",
    "# Dataset_05_Mart_POS.csv \n",
    "# 구분자 : comma(“,”), 20488 Rows, 3 Columns, UTF-8 인코딩\n",
    "# =============================================================================\n",
    "#\n",
    "# 원룸촌에 위치한 A마트는 데이터 분석을 통해 보다 체계적인 재고관리와\n",
    "# 운영을 하고자 한다. 이를 위해 다음의 두 데이터 세트를 준비하였다.\n",
    "#\n",
    "# 컬 럼 / 정 의 / Type\n",
    "# Member_number / 고객 고유 번호 / Double\n",
    "# Date / 구매일 / String\n",
    "# itemDescription / 상품명 / String\n",
    "\n",
    "# =============================================================================\n",
    "# Dataset_05_item_list.csv \n",
    "# 구분자 : comma(“,”), 167 Rows, 4 Columns, UTF-8 인코\n",
    "# =============================================================================\n",
    "#\n",
    "# 컬 럼 / 정 의 / Type\n",
    "# prod_id / 상품 고유 번호 / Double\n",
    "# prod_nm / 상품명 / String\n",
    "# alcohol / 주류 상품 여부(1 : 주류) / Integer\n",
    "# frozen / 냉동 상품 여부(1 : 냉동) / Integer"
   ]
  },
  {
   "cell_type": "code",
   "execution_count": 169,
   "id": "31845975",
   "metadata": {},
   "outputs": [],
   "source": [
    "import pandas as pd\n",
    "import numpy as np"
   ]
  },
  {
   "cell_type": "code",
   "execution_count": 171,
   "id": "3cf6574e",
   "metadata": {},
   "outputs": [
    {
     "data": {
      "text/html": [
       "<div>\n",
       "<style scoped>\n",
       "    .dataframe tbody tr th:only-of-type {\n",
       "        vertical-align: middle;\n",
       "    }\n",
       "\n",
       "    .dataframe tbody tr th {\n",
       "        vertical-align: top;\n",
       "    }\n",
       "\n",
       "    .dataframe thead th {\n",
       "        text-align: right;\n",
       "    }\n",
       "</style>\n",
       "<table border=\"1\" class=\"dataframe\">\n",
       "  <thead>\n",
       "    <tr style=\"text-align: right;\">\n",
       "      <th></th>\n",
       "      <th>Member_number</th>\n",
       "      <th>Date</th>\n",
       "      <th>itemDescription</th>\n",
       "    </tr>\n",
       "  </thead>\n",
       "  <tbody>\n",
       "    <tr>\n",
       "      <th>0</th>\n",
       "      <td>1220</td>\n",
       "      <td>2015-01-01</td>\n",
       "      <td>canned beer</td>\n",
       "    </tr>\n",
       "    <tr>\n",
       "      <th>1</th>\n",
       "      <td>1220</td>\n",
       "      <td>2015-01-01</td>\n",
       "      <td>margarine</td>\n",
       "    </tr>\n",
       "    <tr>\n",
       "      <th>2</th>\n",
       "      <td>1220</td>\n",
       "      <td>2015-01-01</td>\n",
       "      <td>chocolate</td>\n",
       "    </tr>\n",
       "  </tbody>\n",
       "</table>\n",
       "</div>"
      ],
      "text/plain": [
       "   Member_number        Date itemDescription\n",
       "0           1220  2015-01-01     canned beer\n",
       "1           1220  2015-01-01       margarine\n",
       "2           1220  2015-01-01       chocolate"
      ]
     },
     "execution_count": 171,
     "metadata": {},
     "output_type": "execute_result"
    }
   ],
   "source": [
    "data15 = pd.read_csv('../Dataset/Dataset_05_Mart_POS.csv')\n",
    "data15.head(3)"
   ]
  },
  {
   "cell_type": "code",
   "execution_count": 172,
   "id": "de84386e",
   "metadata": {},
   "outputs": [],
   "source": [
    "# 1.(Dataset_05_Mart_POS.csv를 활용하여) 가장 많은 제품이 팔린 날짜에 가장 많이 팔린\n",
    "# 제품의 판매 개수는? (답안 예시) 1"
   ]
  },
  {
   "cell_type": "code",
   "execution_count": 173,
   "id": "44a4d19a",
   "metadata": {},
   "outputs": [
    {
     "data": {
      "text/html": [
       "<div>\n",
       "<style scoped>\n",
       "    .dataframe tbody tr th:only-of-type {\n",
       "        vertical-align: middle;\n",
       "    }\n",
       "\n",
       "    .dataframe tbody tr th {\n",
       "        vertical-align: top;\n",
       "    }\n",
       "\n",
       "    .dataframe thead th {\n",
       "        text-align: right;\n",
       "    }\n",
       "</style>\n",
       "<table border=\"1\" class=\"dataframe\">\n",
       "  <thead>\n",
       "    <tr style=\"text-align: right;\">\n",
       "      <th></th>\n",
       "      <th>prod_id</th>\n",
       "      <th>prod_nm</th>\n",
       "      <th>alcohol</th>\n",
       "      <th>frozen</th>\n",
       "    </tr>\n",
       "  </thead>\n",
       "  <tbody>\n",
       "    <tr>\n",
       "      <th>0</th>\n",
       "      <td>1</td>\n",
       "      <td>tropical fruit</td>\n",
       "      <td>0</td>\n",
       "      <td>0</td>\n",
       "    </tr>\n",
       "    <tr>\n",
       "      <th>1</th>\n",
       "      <td>2</td>\n",
       "      <td>whole milk</td>\n",
       "      <td>0</td>\n",
       "      <td>0</td>\n",
       "    </tr>\n",
       "    <tr>\n",
       "      <th>2</th>\n",
       "      <td>3</td>\n",
       "      <td>pip fruit</td>\n",
       "      <td>0</td>\n",
       "      <td>0</td>\n",
       "    </tr>\n",
       "  </tbody>\n",
       "</table>\n",
       "</div>"
      ],
      "text/plain": [
       "   prod_id         prod_nm  alcohol  frozen\n",
       "0        1  tropical fruit        0       0\n",
       "1        2      whole milk        0       0\n",
       "2        3       pip fruit        0       0"
      ]
     },
     "execution_count": 173,
     "metadata": {},
     "output_type": "execute_result"
    }
   ],
   "source": [
    "data16 = pd.read_csv('../Dataset/Dataset_05_item_list.csv')\n",
    "data16.head(3)"
   ]
  },
  {
   "cell_type": "code",
   "execution_count": 178,
   "id": "199cfe20",
   "metadata": {},
   "outputs": [
    {
     "data": {
      "text/plain": [
       "'2015-01-21'"
      ]
     },
     "execution_count": 178,
     "metadata": {},
     "output_type": "execute_result"
    }
   ],
   "source": [
    "q1 = data15['Date'].value_counts().idxmax()\n",
    "q1"
   ]
  },
  {
   "cell_type": "code",
   "execution_count": 181,
   "id": "d9bb0439",
   "metadata": {},
   "outputs": [
    {
     "data": {
      "text/plain": [
       "7"
      ]
     },
     "execution_count": 181,
     "metadata": {},
     "output_type": "execute_result"
    }
   ],
   "source": [
    "data15[data15['Date']==q1]['itemDescription'].value_counts().max()"
   ]
  },
  {
   "cell_type": "code",
   "execution_count": 182,
   "id": "7d8ab75f",
   "metadata": {},
   "outputs": [],
   "source": [
    "# 답 : 7"
   ]
  },
  {
   "cell_type": "code",
   "execution_count": 183,
   "id": "36fc5534",
   "metadata": {},
   "outputs": [],
   "source": [
    "# 2. (Dataset_05_Mart_POS.csv, Dataset_05_item_list.csv를 활용하여) \n",
    "# 고객이 주류 제품을\n",
    "# 구매하는 요일이 다른 요일에 비해 금요일과 토요일이 많을 것이라는 가설을 세웠다. \n",
    "# 이를 확인하기 위해 금요일과 토요일의 일별 주류제품 구매 제품 수 평균과 다른\n",
    "# 요일의 일별 주류제품 구매 제품 수 평균이 서로 다른지 비교하기 위해 독립 2표본\n",
    "# t검정을 실시하시오. \n",
    "# 해당 검정의 p-value를 기술하시오.\n",
    "# - 1분기(1월 ~ 3월) 데이터만 사용하여 분석을 실시하시오.\n",
    "# - 등분산 가정을 만족하지 않는다는 조건 하에 분석을 실시하시오.\n",
    "# - p-value는 반올림하여 소수점 둘째 자리까지 기술하시오. (답안 예시) 0.12"
   ]
  },
  {
   "cell_type": "code",
   "execution_count": 184,
   "id": "7549e464",
   "metadata": {},
   "outputs": [
    {
     "data": {
      "text/plain": [
       "pandas.core.series.Series"
      ]
     },
     "execution_count": 184,
     "metadata": {},
     "output_type": "execute_result"
    }
   ],
   "source": [
    "type(data15.Date)"
   ]
  },
  {
   "cell_type": "code",
   "execution_count": 186,
   "id": "f82c94a6",
   "metadata": {},
   "outputs": [
    {
     "data": {
      "text/plain": [
       "0        ca\n",
       "1        ma\n",
       "2        ch\n",
       "3        sa\n",
       "4        sa\n",
       "         ..\n",
       "20483    cr\n",
       "20484    ca\n",
       "20485    ca\n",
       "20486    de\n",
       "20487    cu\n",
       "Name: itemDescription, Length: 20488, dtype: object"
      ]
     },
     "execution_count": 186,
     "metadata": {},
     "output_type": "execute_result"
    }
   ],
   "source": [
    "data15['itemDescription'].str.slice(0,2)"
   ]
  },
  {
   "cell_type": "code",
   "execution_count": 187,
   "id": "0960f8fb",
   "metadata": {},
   "outputs": [
    {
     "data": {
      "text/plain": [
       "0         1\n",
       "1         1\n",
       "2         1\n",
       "3         1\n",
       "4         1\n",
       "         ..\n",
       "20483    12\n",
       "20484    12\n",
       "20485    12\n",
       "20486    12\n",
       "20487    12\n",
       "Name: Date, Length: 20488, dtype: int64"
      ]
     },
     "execution_count": 187,
     "metadata": {},
     "output_type": "execute_result"
    }
   ],
   "source": [
    "pd.to_datetime(data15.Date).dt.month"
   ]
  },
  {
   "cell_type": "code",
   "execution_count": 189,
   "id": "9ba9e8f4",
   "metadata": {},
   "outputs": [
    {
     "data": {
      "text/plain": [
       "0        목요일\n",
       "1        목요일\n",
       "2        목요일\n",
       "3        목요일\n",
       "4        목요일\n",
       "        ... \n",
       "20483    수요일\n",
       "20484    수요일\n",
       "20485    수요일\n",
       "20486    수요일\n",
       "20487    수요일\n",
       "Name: Date, Length: 20488, dtype: object"
      ]
     },
     "execution_count": 189,
     "metadata": {},
     "output_type": "execute_result"
    }
   ],
   "source": [
    "pd.to_datetime(data15.Date).dt.day_name(locale='ko')"
   ]
  },
  {
   "cell_type": "code",
   "execution_count": 190,
   "id": "fcd776d3",
   "metadata": {},
   "outputs": [],
   "source": [
    "pos1 = data15.copy()"
   ]
  },
  {
   "cell_type": "code",
   "execution_count": 191,
   "id": "e4f1e513",
   "metadata": {},
   "outputs": [],
   "source": [
    "pos1['month'] = pd.to_datetime(pos1.Date).dt.month\n",
    "pos1['day'] = pd.to_datetime(pos1.Date).dt.day_name(locale='ko')\n",
    "pos1['week'] = np.where(pos1.day.isin(['금요일', '토요일']), 1, 0)"
   ]
  },
  {
   "cell_type": "code",
   "execution_count": 192,
   "id": "4280cf7b",
   "metadata": {},
   "outputs": [
    {
     "data": {
      "text/html": [
       "<div>\n",
       "<style scoped>\n",
       "    .dataframe tbody tr th:only-of-type {\n",
       "        vertical-align: middle;\n",
       "    }\n",
       "\n",
       "    .dataframe tbody tr th {\n",
       "        vertical-align: top;\n",
       "    }\n",
       "\n",
       "    .dataframe thead th {\n",
       "        text-align: right;\n",
       "    }\n",
       "</style>\n",
       "<table border=\"1\" class=\"dataframe\">\n",
       "  <thead>\n",
       "    <tr style=\"text-align: right;\">\n",
       "      <th></th>\n",
       "      <th>Member_number</th>\n",
       "      <th>Date</th>\n",
       "      <th>itemDescription</th>\n",
       "      <th>month</th>\n",
       "      <th>day</th>\n",
       "      <th>week</th>\n",
       "      <th>prod_id</th>\n",
       "      <th>prod_nm</th>\n",
       "      <th>alcohol</th>\n",
       "      <th>frozen</th>\n",
       "    </tr>\n",
       "  </thead>\n",
       "  <tbody>\n",
       "    <tr>\n",
       "      <th>0</th>\n",
       "      <td>1220</td>\n",
       "      <td>2015-01-01</td>\n",
       "      <td>canned beer</td>\n",
       "      <td>1</td>\n",
       "      <td>목요일</td>\n",
       "      <td>0</td>\n",
       "      <td>25</td>\n",
       "      <td>canned beer</td>\n",
       "      <td>1</td>\n",
       "      <td>0</td>\n",
       "    </tr>\n",
       "    <tr>\n",
       "      <th>1</th>\n",
       "      <td>1220</td>\n",
       "      <td>2015-01-01</td>\n",
       "      <td>margarine</td>\n",
       "      <td>1</td>\n",
       "      <td>목요일</td>\n",
       "      <td>0</td>\n",
       "      <td>70</td>\n",
       "      <td>margarine</td>\n",
       "      <td>0</td>\n",
       "      <td>0</td>\n",
       "    </tr>\n",
       "    <tr>\n",
       "      <th>2</th>\n",
       "      <td>1220</td>\n",
       "      <td>2015-01-01</td>\n",
       "      <td>chocolate</td>\n",
       "      <td>1</td>\n",
       "      <td>목요일</td>\n",
       "      <td>0</td>\n",
       "      <td>14</td>\n",
       "      <td>chocolate</td>\n",
       "      <td>0</td>\n",
       "      <td>0</td>\n",
       "    </tr>\n",
       "    <tr>\n",
       "      <th>3</th>\n",
       "      <td>1235</td>\n",
       "      <td>2015-01-01</td>\n",
       "      <td>sausage</td>\n",
       "      <td>1</td>\n",
       "      <td>목요일</td>\n",
       "      <td>0</td>\n",
       "      <td>19</td>\n",
       "      <td>sausage</td>\n",
       "      <td>0</td>\n",
       "      <td>0</td>\n",
       "    </tr>\n",
       "    <tr>\n",
       "      <th>4</th>\n",
       "      <td>1235</td>\n",
       "      <td>2015-01-01</td>\n",
       "      <td>sausage</td>\n",
       "      <td>1</td>\n",
       "      <td>목요일</td>\n",
       "      <td>0</td>\n",
       "      <td>19</td>\n",
       "      <td>sausage</td>\n",
       "      <td>0</td>\n",
       "      <td>0</td>\n",
       "    </tr>\n",
       "  </tbody>\n",
       "</table>\n",
       "</div>"
      ],
      "text/plain": [
       "   Member_number        Date itemDescription  month  day  week  prod_id  \\\n",
       "0           1220  2015-01-01     canned beer      1  목요일     0       25   \n",
       "1           1220  2015-01-01       margarine      1  목요일     0       70   \n",
       "2           1220  2015-01-01       chocolate      1  목요일     0       14   \n",
       "3           1235  2015-01-01         sausage      1  목요일     0       19   \n",
       "4           1235  2015-01-01         sausage      1  목요일     0       19   \n",
       "\n",
       "       prod_nm  alcohol  frozen  \n",
       "0  canned beer        1       0  \n",
       "1    margarine        0       0  \n",
       "2    chocolate        0       0  \n",
       "3      sausage        0       0  \n",
       "4      sausage        0       0  "
      ]
     },
     "execution_count": 192,
     "metadata": {},
     "output_type": "execute_result"
    }
   ],
   "source": [
    "merge1 = pd.merge(pos1, data16, left_on='itemDescription', right_on='prod_nm', how='left')\n",
    "merge1.head()"
   ]
  },
  {
   "cell_type": "code",
   "execution_count": 193,
   "id": "cdf4e81f",
   "metadata": {},
   "outputs": [],
   "source": [
    "merge2 = merge1[merge1.month.isin([1, 2, 3])]"
   ]
  },
  {
   "cell_type": "code",
   "execution_count": 194,
   "id": "28796e44",
   "metadata": {},
   "outputs": [
    {
     "data": {
      "text/html": [
       "<div>\n",
       "<style scoped>\n",
       "    .dataframe tbody tr th:only-of-type {\n",
       "        vertical-align: middle;\n",
       "    }\n",
       "\n",
       "    .dataframe tbody tr th {\n",
       "        vertical-align: top;\n",
       "    }\n",
       "\n",
       "    .dataframe thead th {\n",
       "        text-align: right;\n",
       "    }\n",
       "</style>\n",
       "<table border=\"1\" class=\"dataframe\">\n",
       "  <thead>\n",
       "    <tr style=\"text-align: right;\">\n",
       "      <th></th>\n",
       "      <th>Member_number</th>\n",
       "      <th>Date</th>\n",
       "      <th>itemDescription</th>\n",
       "      <th>month</th>\n",
       "      <th>day</th>\n",
       "      <th>week</th>\n",
       "      <th>prod_id</th>\n",
       "      <th>prod_nm</th>\n",
       "      <th>alcohol</th>\n",
       "      <th>frozen</th>\n",
       "    </tr>\n",
       "  </thead>\n",
       "  <tbody>\n",
       "    <tr>\n",
       "      <th>0</th>\n",
       "      <td>1220</td>\n",
       "      <td>2015-01-01</td>\n",
       "      <td>canned beer</td>\n",
       "      <td>1</td>\n",
       "      <td>목요일</td>\n",
       "      <td>0</td>\n",
       "      <td>25</td>\n",
       "      <td>canned beer</td>\n",
       "      <td>1</td>\n",
       "      <td>0</td>\n",
       "    </tr>\n",
       "    <tr>\n",
       "      <th>1</th>\n",
       "      <td>1220</td>\n",
       "      <td>2015-01-01</td>\n",
       "      <td>margarine</td>\n",
       "      <td>1</td>\n",
       "      <td>목요일</td>\n",
       "      <td>0</td>\n",
       "      <td>70</td>\n",
       "      <td>margarine</td>\n",
       "      <td>0</td>\n",
       "      <td>0</td>\n",
       "    </tr>\n",
       "    <tr>\n",
       "      <th>2</th>\n",
       "      <td>1220</td>\n",
       "      <td>2015-01-01</td>\n",
       "      <td>chocolate</td>\n",
       "      <td>1</td>\n",
       "      <td>목요일</td>\n",
       "      <td>0</td>\n",
       "      <td>14</td>\n",
       "      <td>chocolate</td>\n",
       "      <td>0</td>\n",
       "      <td>0</td>\n",
       "    </tr>\n",
       "    <tr>\n",
       "      <th>3</th>\n",
       "      <td>1235</td>\n",
       "      <td>2015-01-01</td>\n",
       "      <td>sausage</td>\n",
       "      <td>1</td>\n",
       "      <td>목요일</td>\n",
       "      <td>0</td>\n",
       "      <td>19</td>\n",
       "      <td>sausage</td>\n",
       "      <td>0</td>\n",
       "      <td>0</td>\n",
       "    </tr>\n",
       "    <tr>\n",
       "      <th>4</th>\n",
       "      <td>1235</td>\n",
       "      <td>2015-01-01</td>\n",
       "      <td>sausage</td>\n",
       "      <td>1</td>\n",
       "      <td>목요일</td>\n",
       "      <td>0</td>\n",
       "      <td>19</td>\n",
       "      <td>sausage</td>\n",
       "      <td>0</td>\n",
       "      <td>0</td>\n",
       "    </tr>\n",
       "    <tr>\n",
       "      <th>...</th>\n",
       "      <td>...</td>\n",
       "      <td>...</td>\n",
       "      <td>...</td>\n",
       "      <td>...</td>\n",
       "      <td>...</td>\n",
       "      <td>...</td>\n",
       "      <td>...</td>\n",
       "      <td>...</td>\n",
       "      <td>...</td>\n",
       "      <td>...</td>\n",
       "    </tr>\n",
       "    <tr>\n",
       "      <th>5074</th>\n",
       "      <td>4678</td>\n",
       "      <td>2015-03-31</td>\n",
       "      <td>condensed milk</td>\n",
       "      <td>3</td>\n",
       "      <td>화요일</td>\n",
       "      <td>0</td>\n",
       "      <td>54</td>\n",
       "      <td>condensed milk</td>\n",
       "      <td>0</td>\n",
       "      <td>0</td>\n",
       "    </tr>\n",
       "    <tr>\n",
       "      <th>5075</th>\n",
       "      <td>4678</td>\n",
       "      <td>2015-03-31</td>\n",
       "      <td>pot plants</td>\n",
       "      <td>3</td>\n",
       "      <td>화요일</td>\n",
       "      <td>0</td>\n",
       "      <td>6</td>\n",
       "      <td>pot plants</td>\n",
       "      <td>0</td>\n",
       "      <td>0</td>\n",
       "    </tr>\n",
       "    <tr>\n",
       "      <th>5076</th>\n",
       "      <td>4678</td>\n",
       "      <td>2015-03-31</td>\n",
       "      <td>cling film/bags</td>\n",
       "      <td>3</td>\n",
       "      <td>화요일</td>\n",
       "      <td>0</td>\n",
       "      <td>85</td>\n",
       "      <td>cling film/bags</td>\n",
       "      <td>0</td>\n",
       "      <td>0</td>\n",
       "    </tr>\n",
       "    <tr>\n",
       "      <th>5077</th>\n",
       "      <td>4678</td>\n",
       "      <td>2015-03-31</td>\n",
       "      <td>soda</td>\n",
       "      <td>3</td>\n",
       "      <td>화요일</td>\n",
       "      <td>0</td>\n",
       "      <td>38</td>\n",
       "      <td>soda</td>\n",
       "      <td>0</td>\n",
       "      <td>0</td>\n",
       "    </tr>\n",
       "    <tr>\n",
       "      <th>5078</th>\n",
       "      <td>4678</td>\n",
       "      <td>2015-03-31</td>\n",
       "      <td>shopping bags</td>\n",
       "      <td>3</td>\n",
       "      <td>화요일</td>\n",
       "      <td>0</td>\n",
       "      <td>71</td>\n",
       "      <td>shopping bags</td>\n",
       "      <td>0</td>\n",
       "      <td>0</td>\n",
       "    </tr>\n",
       "  </tbody>\n",
       "</table>\n",
       "<p>5079 rows × 10 columns</p>\n",
       "</div>"
      ],
      "text/plain": [
       "      Member_number        Date  itemDescription  month  day  week  prod_id  \\\n",
       "0              1220  2015-01-01      canned beer      1  목요일     0       25   \n",
       "1              1220  2015-01-01        margarine      1  목요일     0       70   \n",
       "2              1220  2015-01-01        chocolate      1  목요일     0       14   \n",
       "3              1235  2015-01-01          sausage      1  목요일     0       19   \n",
       "4              1235  2015-01-01          sausage      1  목요일     0       19   \n",
       "...             ...         ...              ...    ...  ...   ...      ...   \n",
       "5074           4678  2015-03-31   condensed milk      3  화요일     0       54   \n",
       "5075           4678  2015-03-31       pot plants      3  화요일     0        6   \n",
       "5076           4678  2015-03-31  cling film/bags      3  화요일     0       85   \n",
       "5077           4678  2015-03-31             soda      3  화요일     0       38   \n",
       "5078           4678  2015-03-31    shopping bags      3  화요일     0       71   \n",
       "\n",
       "              prod_nm  alcohol  frozen  \n",
       "0         canned beer        1       0  \n",
       "1           margarine        0       0  \n",
       "2           chocolate        0       0  \n",
       "3             sausage        0       0  \n",
       "4             sausage        0       0  \n",
       "...               ...      ...     ...  \n",
       "5074   condensed milk        0       0  \n",
       "5075       pot plants        0       0  \n",
       "5076  cling film/bags        0       0  \n",
       "5077             soda        0       0  \n",
       "5078    shopping bags        0       0  \n",
       "\n",
       "[5079 rows x 10 columns]"
      ]
     },
     "execution_count": 194,
     "metadata": {},
     "output_type": "execute_result"
    }
   ],
   "source": [
    "merge2"
   ]
  },
  {
   "cell_type": "code",
   "execution_count": 195,
   "id": "260f8c28",
   "metadata": {},
   "outputs": [
    {
     "data": {
      "text/html": [
       "<div>\n",
       "<style scoped>\n",
       "    .dataframe tbody tr th:only-of-type {\n",
       "        vertical-align: middle;\n",
       "    }\n",
       "\n",
       "    .dataframe tbody tr th {\n",
       "        vertical-align: top;\n",
       "    }\n",
       "\n",
       "    .dataframe thead th {\n",
       "        text-align: right;\n",
       "    }\n",
       "</style>\n",
       "<table border=\"1\" class=\"dataframe\">\n",
       "  <thead>\n",
       "    <tr style=\"text-align: right;\">\n",
       "      <th>week</th>\n",
       "      <th>0</th>\n",
       "      <th>1</th>\n",
       "    </tr>\n",
       "    <tr>\n",
       "      <th>Date</th>\n",
       "      <th></th>\n",
       "      <th></th>\n",
       "    </tr>\n",
       "  </thead>\n",
       "  <tbody>\n",
       "    <tr>\n",
       "      <th>2015-01-01</th>\n",
       "      <td>4.0</td>\n",
       "      <td>NaN</td>\n",
       "    </tr>\n",
       "    <tr>\n",
       "      <th>2015-01-02</th>\n",
       "      <td>NaN</td>\n",
       "      <td>3.0</td>\n",
       "    </tr>\n",
       "    <tr>\n",
       "      <th>2015-01-03</th>\n",
       "      <td>NaN</td>\n",
       "      <td>2.0</td>\n",
       "    </tr>\n",
       "    <tr>\n",
       "      <th>2015-01-04</th>\n",
       "      <td>4.0</td>\n",
       "      <td>NaN</td>\n",
       "    </tr>\n",
       "    <tr>\n",
       "      <th>2015-01-05</th>\n",
       "      <td>5.0</td>\n",
       "      <td>NaN</td>\n",
       "    </tr>\n",
       "    <tr>\n",
       "      <th>...</th>\n",
       "      <td>...</td>\n",
       "      <td>...</td>\n",
       "    </tr>\n",
       "    <tr>\n",
       "      <th>2015-03-27</th>\n",
       "      <td>NaN</td>\n",
       "      <td>5.0</td>\n",
       "    </tr>\n",
       "    <tr>\n",
       "      <th>2015-03-28</th>\n",
       "      <td>NaN</td>\n",
       "      <td>2.0</td>\n",
       "    </tr>\n",
       "    <tr>\n",
       "      <th>2015-03-29</th>\n",
       "      <td>5.0</td>\n",
       "      <td>NaN</td>\n",
       "    </tr>\n",
       "    <tr>\n",
       "      <th>2015-03-30</th>\n",
       "      <td>3.0</td>\n",
       "      <td>NaN</td>\n",
       "    </tr>\n",
       "    <tr>\n",
       "      <th>2015-03-31</th>\n",
       "      <td>4.0</td>\n",
       "      <td>NaN</td>\n",
       "    </tr>\n",
       "  </tbody>\n",
       "</table>\n",
       "<p>90 rows × 2 columns</p>\n",
       "</div>"
      ],
      "text/plain": [
       "week          0    1\n",
       "Date                \n",
       "2015-01-01  4.0  NaN\n",
       "2015-01-02  NaN  3.0\n",
       "2015-01-03  NaN  2.0\n",
       "2015-01-04  4.0  NaN\n",
       "2015-01-05  5.0  NaN\n",
       "...         ...  ...\n",
       "2015-03-27  NaN  5.0\n",
       "2015-03-28  NaN  2.0\n",
       "2015-03-29  5.0  NaN\n",
       "2015-03-30  3.0  NaN\n",
       "2015-03-31  4.0  NaN\n",
       "\n",
       "[90 rows x 2 columns]"
      ]
     },
     "execution_count": 195,
     "metadata": {},
     "output_type": "execute_result"
    }
   ],
   "source": [
    "q2_tab = pd.pivot_table(merge2, index='Date', columns='week', values='alcohol', aggfunc='sum')\n",
    "q2_tab"
   ]
  },
  {
   "cell_type": "code",
   "execution_count": 196,
   "id": "582d7444",
   "metadata": {},
   "outputs": [],
   "source": [
    "from scipy.stats import ttest_ind"
   ]
  },
  {
   "cell_type": "code",
   "execution_count": 199,
   "id": "4d48f6d3",
   "metadata": {},
   "outputs": [],
   "source": [
    "q2_out = ttest_ind(q2_tab[0].dropna(), q2_tab[1].dropna(), equal_var=False)"
   ]
  },
  {
   "cell_type": "code",
   "execution_count": 200,
   "id": "dea47dce",
   "metadata": {},
   "outputs": [
    {
     "data": {
      "text/plain": [
       "Ttest_indResult(statistic=2.335264239960428, pvalue=0.023062611047582393)"
      ]
     },
     "execution_count": 200,
     "metadata": {},
     "output_type": "execute_result"
    }
   ],
   "source": [
    "q2_out"
   ]
  },
  {
   "cell_type": "code",
   "execution_count": 201,
   "id": "b772fec1",
   "metadata": {},
   "outputs": [],
   "source": [
    "# 답 : 0.02"
   ]
  },
  {
   "cell_type": "code",
   "execution_count": 202,
   "id": "4ba35168",
   "metadata": {},
   "outputs": [],
   "source": [
    "# 3.(Dataset_05_Mart_POS.csv를 활용하여) 1년 동안 가장 많이 판매된 10개 상품을 주력\n",
    "# 상품으로 설정하고 특정 요일에 프로모션을 진행할지 말지 결정하고자 한다. 먼저\n",
    "# 요일을 선정하기 전에 일원 분산 분석을 통하여 요일별 주력 상품의 판매 개수의\n",
    "# 평균이 유의미하게 차이가 나는지 알아보고자 한다. 이와 관련하여 일원 분산 분석을\n",
    "# 실시하고 p-value를 기술하시오.\n",
    "# - p-value는 반올림하여 소수점 둘째 자리까지 기술하시오. (답안 예시) 0.12\n",
    "# \n",
    "# (참고)\n",
    "# from statsmodels.formula.api import ols\n",
    "# from statsmodels.stats.anova import anova_lm"
   ]
  },
  {
   "cell_type": "code",
   "execution_count": 203,
   "id": "e04a1b7b",
   "metadata": {},
   "outputs": [
    {
     "data": {
      "text/html": [
       "<div>\n",
       "<style scoped>\n",
       "    .dataframe tbody tr th:only-of-type {\n",
       "        vertical-align: middle;\n",
       "    }\n",
       "\n",
       "    .dataframe tbody tr th {\n",
       "        vertical-align: top;\n",
       "    }\n",
       "\n",
       "    .dataframe thead th {\n",
       "        text-align: right;\n",
       "    }\n",
       "</style>\n",
       "<table border=\"1\" class=\"dataframe\">\n",
       "  <thead>\n",
       "    <tr style=\"text-align: right;\">\n",
       "      <th></th>\n",
       "      <th>Member_number</th>\n",
       "      <th>Date</th>\n",
       "      <th>itemDescription</th>\n",
       "      <th>month</th>\n",
       "      <th>day</th>\n",
       "      <th>week</th>\n",
       "    </tr>\n",
       "  </thead>\n",
       "  <tbody>\n",
       "    <tr>\n",
       "      <th>0</th>\n",
       "      <td>1220</td>\n",
       "      <td>2015-01-01</td>\n",
       "      <td>canned beer</td>\n",
       "      <td>1</td>\n",
       "      <td>목요일</td>\n",
       "      <td>0</td>\n",
       "    </tr>\n",
       "    <tr>\n",
       "      <th>1</th>\n",
       "      <td>1220</td>\n",
       "      <td>2015-01-01</td>\n",
       "      <td>margarine</td>\n",
       "      <td>1</td>\n",
       "      <td>목요일</td>\n",
       "      <td>0</td>\n",
       "    </tr>\n",
       "    <tr>\n",
       "      <th>2</th>\n",
       "      <td>1220</td>\n",
       "      <td>2015-01-01</td>\n",
       "      <td>chocolate</td>\n",
       "      <td>1</td>\n",
       "      <td>목요일</td>\n",
       "      <td>0</td>\n",
       "    </tr>\n",
       "    <tr>\n",
       "      <th>3</th>\n",
       "      <td>1235</td>\n",
       "      <td>2015-01-01</td>\n",
       "      <td>sausage</td>\n",
       "      <td>1</td>\n",
       "      <td>목요일</td>\n",
       "      <td>0</td>\n",
       "    </tr>\n",
       "    <tr>\n",
       "      <th>4</th>\n",
       "      <td>1235</td>\n",
       "      <td>2015-01-01</td>\n",
       "      <td>sausage</td>\n",
       "      <td>1</td>\n",
       "      <td>목요일</td>\n",
       "      <td>0</td>\n",
       "    </tr>\n",
       "  </tbody>\n",
       "</table>\n",
       "</div>"
      ],
      "text/plain": [
       "   Member_number        Date itemDescription  month  day  week\n",
       "0           1220  2015-01-01     canned beer      1  목요일     0\n",
       "1           1220  2015-01-01       margarine      1  목요일     0\n",
       "2           1220  2015-01-01       chocolate      1  목요일     0\n",
       "3           1235  2015-01-01         sausage      1  목요일     0\n",
       "4           1235  2015-01-01         sausage      1  목요일     0"
      ]
     },
     "execution_count": 203,
     "metadata": {},
     "output_type": "execute_result"
    }
   ],
   "source": [
    "pos1.head()"
   ]
  },
  {
   "cell_type": "code",
   "execution_count": 205,
   "id": "20213944",
   "metadata": {},
   "outputs": [
    {
     "data": {
      "text/plain": [
       "whole milk          1464\n",
       "other vegetables    1039\n",
       "rolls/buns           879\n",
       "sausage              744\n",
       "soda                 737\n",
       "yogurt               694\n",
       "tropical fruit       668\n",
       "root vegetables      592\n",
       "citrus fruit         544\n",
       "frankfurter          505\n",
       "Name: itemDescription, dtype: int64"
      ]
     },
     "execution_count": 205,
     "metadata": {},
     "output_type": "execute_result"
    }
   ],
   "source": [
    "top10 = pos1.itemDescription.value_counts().nlargest(10)\n",
    "top10"
   ]
  },
  {
   "cell_type": "code",
   "execution_count": 206,
   "id": "3fcd26a9",
   "metadata": {},
   "outputs": [],
   "source": [
    "top10_list = top10.index"
   ]
  },
  {
   "cell_type": "code",
   "execution_count": 209,
   "id": "2bb62e24",
   "metadata": {},
   "outputs": [
    {
     "data": {
      "text/html": [
       "<div>\n",
       "<style scoped>\n",
       "    .dataframe tbody tr th:only-of-type {\n",
       "        vertical-align: middle;\n",
       "    }\n",
       "\n",
       "    .dataframe tbody tr th {\n",
       "        vertical-align: top;\n",
       "    }\n",
       "\n",
       "    .dataframe thead th {\n",
       "        text-align: right;\n",
       "    }\n",
       "</style>\n",
       "<table border=\"1\" class=\"dataframe\">\n",
       "  <thead>\n",
       "    <tr style=\"text-align: right;\">\n",
       "      <th></th>\n",
       "      <th>Member_number</th>\n",
       "      <th>Date</th>\n",
       "      <th>itemDescription</th>\n",
       "      <th>month</th>\n",
       "      <th>day</th>\n",
       "      <th>week</th>\n",
       "    </tr>\n",
       "  </thead>\n",
       "  <tbody>\n",
       "    <tr>\n",
       "      <th>3</th>\n",
       "      <td>1235</td>\n",
       "      <td>2015-01-01</td>\n",
       "      <td>sausage</td>\n",
       "      <td>1</td>\n",
       "      <td>목요일</td>\n",
       "      <td>0</td>\n",
       "    </tr>\n",
       "    <tr>\n",
       "      <th>4</th>\n",
       "      <td>1235</td>\n",
       "      <td>2015-01-01</td>\n",
       "      <td>sausage</td>\n",
       "      <td>1</td>\n",
       "      <td>목요일</td>\n",
       "      <td>0</td>\n",
       "    </tr>\n",
       "    <tr>\n",
       "      <th>7</th>\n",
       "      <td>1422</td>\n",
       "      <td>2015-01-01</td>\n",
       "      <td>tropical fruit</td>\n",
       "      <td>1</td>\n",
       "      <td>목요일</td>\n",
       "      <td>0</td>\n",
       "    </tr>\n",
       "  </tbody>\n",
       "</table>\n",
       "</div>"
      ],
      "text/plain": [
       "   Member_number        Date itemDescription  month  day  week\n",
       "3           1235  2015-01-01         sausage      1  목요일     0\n",
       "4           1235  2015-01-01         sausage      1  목요일     0\n",
       "7           1422  2015-01-01  tropical fruit      1  목요일     0"
      ]
     },
     "execution_count": 209,
     "metadata": {},
     "output_type": "execute_result"
    }
   ],
   "source": [
    "q3 = pos1[pos1.itemDescription.isin(top10_list)]\n",
    "q3.head(3)"
   ]
  },
  {
   "cell_type": "code",
   "execution_count": 214,
   "id": "c4df225f",
   "metadata": {},
   "outputs": [
    {
     "data": {
      "text/html": [
       "<div>\n",
       "<style scoped>\n",
       "    .dataframe tbody tr th:only-of-type {\n",
       "        vertical-align: middle;\n",
       "    }\n",
       "\n",
       "    .dataframe tbody tr th {\n",
       "        vertical-align: top;\n",
       "    }\n",
       "\n",
       "    .dataframe thead th {\n",
       "        text-align: right;\n",
       "    }\n",
       "</style>\n",
       "<table border=\"1\" class=\"dataframe\">\n",
       "  <thead>\n",
       "    <tr style=\"text-align: right;\">\n",
       "      <th></th>\n",
       "      <th>Date</th>\n",
       "      <th>day</th>\n",
       "      <th>itemDescription</th>\n",
       "    </tr>\n",
       "  </thead>\n",
       "  <tbody>\n",
       "    <tr>\n",
       "      <th>0</th>\n",
       "      <td>2015-01-01</td>\n",
       "      <td>목요일</td>\n",
       "      <td>16</td>\n",
       "    </tr>\n",
       "    <tr>\n",
       "      <th>1</th>\n",
       "      <td>2015-01-02</td>\n",
       "      <td>금요일</td>\n",
       "      <td>13</td>\n",
       "    </tr>\n",
       "    <tr>\n",
       "      <th>2</th>\n",
       "      <td>2015-01-03</td>\n",
       "      <td>토요일</td>\n",
       "      <td>28</td>\n",
       "    </tr>\n",
       "    <tr>\n",
       "      <th>3</th>\n",
       "      <td>2015-01-04</td>\n",
       "      <td>일요일</td>\n",
       "      <td>21</td>\n",
       "    </tr>\n",
       "    <tr>\n",
       "      <th>4</th>\n",
       "      <td>2015-01-05</td>\n",
       "      <td>월요일</td>\n",
       "      <td>30</td>\n",
       "    </tr>\n",
       "    <tr>\n",
       "      <th>...</th>\n",
       "      <td>...</td>\n",
       "      <td>...</td>\n",
       "      <td>...</td>\n",
       "    </tr>\n",
       "    <tr>\n",
       "      <th>359</th>\n",
       "      <td>2015-12-26</td>\n",
       "      <td>토요일</td>\n",
       "      <td>11</td>\n",
       "    </tr>\n",
       "    <tr>\n",
       "      <th>360</th>\n",
       "      <td>2015-12-27</td>\n",
       "      <td>일요일</td>\n",
       "      <td>31</td>\n",
       "    </tr>\n",
       "    <tr>\n",
       "      <th>361</th>\n",
       "      <td>2015-12-28</td>\n",
       "      <td>월요일</td>\n",
       "      <td>21</td>\n",
       "    </tr>\n",
       "    <tr>\n",
       "      <th>362</th>\n",
       "      <td>2015-12-29</td>\n",
       "      <td>화요일</td>\n",
       "      <td>27</td>\n",
       "    </tr>\n",
       "    <tr>\n",
       "      <th>363</th>\n",
       "      <td>2015-12-30</td>\n",
       "      <td>수요일</td>\n",
       "      <td>18</td>\n",
       "    </tr>\n",
       "  </tbody>\n",
       "</table>\n",
       "<p>364 rows × 3 columns</p>\n",
       "</div>"
      ],
      "text/plain": [
       "           Date  day  itemDescription\n",
       "0    2015-01-01  목요일               16\n",
       "1    2015-01-02  금요일               13\n",
       "2    2015-01-03  토요일               28\n",
       "3    2015-01-04  일요일               21\n",
       "4    2015-01-05  월요일               30\n",
       "..          ...  ...              ...\n",
       "359  2015-12-26  토요일               11\n",
       "360  2015-12-27  일요일               31\n",
       "361  2015-12-28  월요일               21\n",
       "362  2015-12-29  화요일               27\n",
       "363  2015-12-30  수요일               18\n",
       "\n",
       "[364 rows x 3 columns]"
      ]
     },
     "execution_count": 214,
     "metadata": {},
     "output_type": "execute_result"
    }
   ],
   "source": [
    "q3_agg = q3.groupby(['Date', 'day'])['itemDescription'].apply(len).reset_index()\n",
    "q3_agg"
   ]
  },
  {
   "cell_type": "code",
   "execution_count": 215,
   "id": "727a5e37",
   "metadata": {},
   "outputs": [],
   "source": [
    "from statsmodels.formula.api import ols\n",
    "from statsmodels.stats.anova import anova_lm"
   ]
  },
  {
   "cell_type": "code",
   "execution_count": 216,
   "id": "b49ba906",
   "metadata": {},
   "outputs": [],
   "source": [
    "model = ols('itemDescription~day', data=q3_agg).fit()"
   ]
  },
  {
   "cell_type": "code",
   "execution_count": 218,
   "id": "ba4a9cb6",
   "metadata": {},
   "outputs": [
    {
     "data": {
      "text/html": [
       "<div>\n",
       "<style scoped>\n",
       "    .dataframe tbody tr th:only-of-type {\n",
       "        vertical-align: middle;\n",
       "    }\n",
       "\n",
       "    .dataframe tbody tr th {\n",
       "        vertical-align: top;\n",
       "    }\n",
       "\n",
       "    .dataframe thead th {\n",
       "        text-align: right;\n",
       "    }\n",
       "</style>\n",
       "<table border=\"1\" class=\"dataframe\">\n",
       "  <thead>\n",
       "    <tr style=\"text-align: right;\">\n",
       "      <th></th>\n",
       "      <th>df</th>\n",
       "      <th>sum_sq</th>\n",
       "      <th>mean_sq</th>\n",
       "      <th>F</th>\n",
       "      <th>PR(&gt;F)</th>\n",
       "    </tr>\n",
       "  </thead>\n",
       "  <tbody>\n",
       "    <tr>\n",
       "      <th>day</th>\n",
       "      <td>6.0</td>\n",
       "      <td>219.527473</td>\n",
       "      <td>36.587912</td>\n",
       "      <td>0.86853</td>\n",
       "      <td>0.518128</td>\n",
       "    </tr>\n",
       "    <tr>\n",
       "      <th>Residual</th>\n",
       "      <td>357.0</td>\n",
       "      <td>15039.076923</td>\n",
       "      <td>42.126266</td>\n",
       "      <td>NaN</td>\n",
       "      <td>NaN</td>\n",
       "    </tr>\n",
       "  </tbody>\n",
       "</table>\n",
       "</div>"
      ],
      "text/plain": [
       "             df        sum_sq    mean_sq        F    PR(>F)\n",
       "day         6.0    219.527473  36.587912  0.86853  0.518128\n",
       "Residual  357.0  15039.076923  42.126266      NaN       NaN"
      ]
     },
     "execution_count": 218,
     "metadata": {},
     "output_type": "execute_result"
    }
   ],
   "source": [
    "anova_lm(model)"
   ]
  },
  {
   "cell_type": "code",
   "execution_count": null,
   "id": "dc01627d",
   "metadata": {},
   "outputs": [],
   "source": [
    "# 답 : 0.52"
   ]
  }
 ],
 "metadata": {
  "kernelspec": {
   "display_name": "Python 3 (ipykernel)",
   "language": "python",
   "name": "python3"
  },
  "language_info": {
   "codemirror_mode": {
    "name": "ipython",
    "version": 3
   },
   "file_extension": ".py",
   "mimetype": "text/x-python",
   "name": "python",
   "nbconvert_exporter": "python",
   "pygments_lexer": "ipython3",
   "version": "3.9.4"
  }
 },
 "nbformat": 4,
 "nbformat_minor": 5
}
