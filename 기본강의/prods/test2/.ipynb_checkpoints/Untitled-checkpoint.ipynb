{
 "cells": [
  {
   "cell_type": "code",
   "execution_count": 1,
   "id": "b953aefc",
   "metadata": {},
   "outputs": [],
   "source": [
    "import pandas as pd\n",
    "import numpy as np"
   ]
  },
  {
   "cell_type": "code",
   "execution_count": 2,
   "id": "789510e8",
   "metadata": {},
   "outputs": [
    {
     "data": {
      "text/html": [
       "<div>\n",
       "<style scoped>\n",
       "    .dataframe tbody tr th:only-of-type {\n",
       "        vertical-align: middle;\n",
       "    }\n",
       "\n",
       "    .dataframe tbody tr th {\n",
       "        vertical-align: top;\n",
       "    }\n",
       "\n",
       "    .dataframe thead th {\n",
       "        text-align: right;\n",
       "    }\n",
       "</style>\n",
       "<table border=\"1\" class=\"dataframe\">\n",
       "  <thead>\n",
       "    <tr style=\"text-align: right;\">\n",
       "      <th></th>\n",
       "      <th>YEAR_MONTH</th>\n",
       "      <th>SOCIAL</th>\n",
       "      <th>TV</th>\n",
       "      <th>NEWSPAPER</th>\n",
       "      <th>SALES_AMT</th>\n",
       "    </tr>\n",
       "  </thead>\n",
       "  <tbody>\n",
       "    <tr>\n",
       "      <th>0</th>\n",
       "      <td>2005-Dec</td>\n",
       "      <td>84.72</td>\n",
       "      <td>19.20</td>\n",
       "      <td>48.96</td>\n",
       "      <td>14.28</td>\n",
       "    </tr>\n",
       "    <tr>\n",
       "      <th>1</th>\n",
       "      <td>2006-Jan</td>\n",
       "      <td>351.48</td>\n",
       "      <td>33.96</td>\n",
       "      <td>51.84</td>\n",
       "      <td>11.52</td>\n",
       "    </tr>\n",
       "    <tr>\n",
       "      <th>2</th>\n",
       "      <td>2006-Feb</td>\n",
       "      <td>135.48</td>\n",
       "      <td>20.88</td>\n",
       "      <td>46.32</td>\n",
       "      <td>20.88</td>\n",
       "    </tr>\n",
       "  </tbody>\n",
       "</table>\n",
       "</div>"
      ],
      "text/plain": [
       "  YEAR_MONTH  SOCIAL     TV  NEWSPAPER  SALES_AMT\n",
       "0   2005-Dec   84.72  19.20      48.96      14.28\n",
       "1   2006-Jan  351.48  33.96      51.84      11.52\n",
       "2   2006-Feb  135.48  20.88      46.32      20.88"
      ]
     },
     "execution_count": 2,
     "metadata": {},
     "output_type": "execute_result"
    }
   ],
   "source": [
    "df1 = pd.read_csv('../sample/01_ADS_Sample_1.csv')\n",
    "df1.head(3)"
   ]
  },
  {
   "cell_type": "code",
   "execution_count": 3,
   "id": "58ea9243",
   "metadata": {},
   "outputs": [
    {
     "data": {
      "text/plain": [
       "['YEAR_MONTH', 'SOCIAL', 'TV', 'NEWSPAPER', 'SALES_AMT']"
      ]
     },
     "execution_count": 3,
     "metadata": {},
     "output_type": "execute_result"
    }
   ],
   "source": [
    "df1.columns.to_list()"
   ]
  },
  {
   "cell_type": "code",
   "execution_count": 4,
   "id": "ab2ab84d",
   "metadata": {},
   "outputs": [],
   "source": [
    "feature=['SOCIAL', 'TV', 'NEWSPAPER', 'SALES_AMT']"
   ]
  },
  {
   "cell_type": "code",
   "execution_count": 9,
   "id": "08cef763",
   "metadata": {},
   "outputs": [
    {
     "data": {
      "text/plain": [
       "SOCIAL       0.037020\n",
       "TV          -0.183192\n",
       "NEWSPAPER    0.002282\n",
       "Name: SALES_AMT, dtype: float64"
      ]
     },
     "execution_count": 9,
     "metadata": {},
     "output_type": "execute_result"
    }
   ],
   "source": [
    "result = df1[feature].corr().drop('SALES_AMT')['SALES_AMT']\n",
    "result"
   ]
  },
  {
   "cell_type": "code",
   "execution_count": 10,
   "id": "adaff946",
   "metadata": {},
   "outputs": [
    {
     "data": {
      "text/plain": [
       "'TV'"
      ]
     },
     "execution_count": 10,
     "metadata": {},
     "output_type": "execute_result"
    }
   ],
   "source": [
    "top = result.abs().idxmax()"
   ]
  },
  {
   "cell_type": "code",
   "execution_count": 11,
   "id": "b49c3520",
   "metadata": {},
   "outputs": [
    {
     "data": {
      "text/plain": [
       "-0.1831919052011432"
      ]
     },
     "execution_count": 11,
     "metadata": {},
     "output_type": "execute_result"
    }
   ],
   "source": [
    "result['TV']"
   ]
  },
  {
   "cell_type": "code",
   "execution_count": 13,
   "id": "e2efd985",
   "metadata": {},
   "outputs": [
    {
     "data": {
      "text/plain": [
       "-0.183"
      ]
     },
     "execution_count": 13,
     "metadata": {},
     "output_type": "execute_result"
    }
   ],
   "source": [
    "round(result['TV'], 3)"
   ]
  },
  {
   "cell_type": "code",
   "execution_count": 14,
   "id": "9bb6fb7f",
   "metadata": {},
   "outputs": [],
   "source": [
    "# 답 : -0.183"
   ]
  },
  {
   "cell_type": "code",
   "execution_count": 15,
   "id": "758cef31",
   "metadata": {},
   "outputs": [
    {
     "data": {
      "text/plain": [
       "YEAR_MONTH     object\n",
       "SOCIAL        float64\n",
       "TV            float64\n",
       "NEWSPAPER     float64\n",
       "SALES_AMT     float64\n",
       "dtype: object"
      ]
     },
     "execution_count": 15,
     "metadata": {},
     "output_type": "execute_result"
    }
   ],
   "source": [
    "df1.dtypes"
   ]
  },
  {
   "cell_type": "code",
   "execution_count": 16,
   "id": "0549b6ef",
   "metadata": {},
   "outputs": [],
   "source": [
    "df2 = df1.copy()"
   ]
  },
  {
   "cell_type": "code",
   "execution_count": 22,
   "id": "c523608b",
   "metadata": {
    "scrolled": true
   },
   "outputs": [
    {
     "data": {
      "text/html": [
       "<div>\n",
       "<style scoped>\n",
       "    .dataframe tbody tr th:only-of-type {\n",
       "        vertical-align: middle;\n",
       "    }\n",
       "\n",
       "    .dataframe tbody tr th {\n",
       "        vertical-align: top;\n",
       "    }\n",
       "\n",
       "    .dataframe thead th {\n",
       "        text-align: right;\n",
       "    }\n",
       "</style>\n",
       "<table border=\"1\" class=\"dataframe\">\n",
       "  <thead>\n",
       "    <tr style=\"text-align: right;\">\n",
       "      <th></th>\n",
       "      <th>YEAR_MONTH</th>\n",
       "      <th>SOCIAL</th>\n",
       "      <th>TV</th>\n",
       "      <th>NEWSPAPER</th>\n",
       "      <th>SALES_AMT</th>\n",
       "      <th>year</th>\n",
       "    </tr>\n",
       "  </thead>\n",
       "  <tbody>\n",
       "    <tr>\n",
       "      <th>0</th>\n",
       "      <td>2005-Dec</td>\n",
       "      <td>84.72</td>\n",
       "      <td>19.20</td>\n",
       "      <td>48.96</td>\n",
       "      <td>14.28</td>\n",
       "      <td>2005</td>\n",
       "    </tr>\n",
       "    <tr>\n",
       "      <th>1</th>\n",
       "      <td>2006-Jan</td>\n",
       "      <td>351.48</td>\n",
       "      <td>33.96</td>\n",
       "      <td>51.84</td>\n",
       "      <td>11.52</td>\n",
       "      <td>2006</td>\n",
       "    </tr>\n",
       "    <tr>\n",
       "      <th>2</th>\n",
       "      <td>2006-Feb</td>\n",
       "      <td>135.48</td>\n",
       "      <td>20.88</td>\n",
       "      <td>46.32</td>\n",
       "      <td>20.88</td>\n",
       "      <td>2006</td>\n",
       "    </tr>\n",
       "  </tbody>\n",
       "</table>\n",
       "</div>"
      ],
      "text/plain": [
       "  YEAR_MONTH  SOCIAL     TV  NEWSPAPER  SALES_AMT  year\n",
       "0   2005-Dec   84.72  19.20      48.96      14.28  2005\n",
       "1   2006-Jan  351.48  33.96      51.84      11.52  2006\n",
       "2   2006-Feb  135.48  20.88      46.32      20.88  2006"
      ]
     },
     "execution_count": 22,
     "metadata": {},
     "output_type": "execute_result"
    }
   ],
   "source": [
    "df2['year'] = df2['YEAR_MONTH'].str.split('-').str[0]\n",
    "df2.head(3)"
   ]
  },
  {
   "cell_type": "code",
   "execution_count": 27,
   "id": "6143b888",
   "metadata": {},
   "outputs": [],
   "source": [
    "df_2009 = df2[df2['year'] == '2009']\n",
    "df_2019 = df2[df2['year'] == '2019']"
   ]
  },
  {
   "cell_type": "code",
   "execution_count": 29,
   "id": "c5ac50b9",
   "metadata": {},
   "outputs": [],
   "source": [
    "sale_2009 = df_2009['SALES_AMT'].sum()\n",
    "sale_2019 = df_2019['SALES_AMT'].sum()"
   ]
  },
  {
   "cell_type": "code",
   "execution_count": 31,
   "id": "0d2a89e9",
   "metadata": {},
   "outputs": [
    {
     "data": {
      "text/plain": [
       "0.19379844961241044"
      ]
     },
     "execution_count": 31,
     "metadata": {},
     "output_type": "execute_result"
    }
   ],
   "source": [
    "ratio = ((sale_2019 - sale_2009) / sale_2009) * 100\n",
    "ratio"
   ]
  },
  {
   "cell_type": "code",
   "execution_count": 32,
   "id": "6e757c9b",
   "metadata": {},
   "outputs": [
    {
     "data": {
      "text/plain": [
       "0.194"
      ]
     },
     "execution_count": 32,
     "metadata": {},
     "output_type": "execute_result"
    }
   ],
   "source": [
    "round(ratio, 3)"
   ]
  },
  {
   "cell_type": "code",
   "execution_count": 33,
   "id": "a38a2f0c",
   "metadata": {},
   "outputs": [],
   "source": [
    "# 답 : 0.194"
   ]
  },
  {
   "cell_type": "code",
   "execution_count": 35,
   "id": "01eadb97",
   "metadata": {},
   "outputs": [],
   "source": [
    "mean_2009 = df_2009['SALES_AMT']\n",
    "mean_2019 = df_2019['SALES_AMT']"
   ]
  },
  {
   "cell_type": "code",
   "execution_count": 36,
   "id": "23bd9929",
   "metadata": {},
   "outputs": [],
   "source": [
    "from scipy.stats import ttest_ind"
   ]
  },
  {
   "cell_type": "code",
   "execution_count": 39,
   "id": "455f0638",
   "metadata": {},
   "outputs": [
    {
     "data": {
      "text/plain": [
       "Ttest_indResult(statistic=-0.011021647568416792, pvalue=0.9913055138582367)"
      ]
     },
     "execution_count": 39,
     "metadata": {},
     "output_type": "execute_result"
    }
   ],
   "source": [
    "result = ttest_ind(mean_2009, mean_2019)\n",
    "result"
   ]
  },
  {
   "cell_type": "code",
   "execution_count": 41,
   "id": "151ab323",
   "metadata": {},
   "outputs": [
    {
     "data": {
      "text/plain": [
       "0.991"
      ]
     },
     "execution_count": 41,
     "metadata": {},
     "output_type": "execute_result"
    }
   ],
   "source": [
    "round(result.pvalue, 3)"
   ]
  },
  {
   "cell_type": "code",
   "execution_count": 42,
   "id": "ee96dc4b",
   "metadata": {},
   "outputs": [],
   "source": [
    "# 답 : 0.991"
   ]
  },
  {
   "cell_type": "code",
   "execution_count": null,
   "id": "f665058c",
   "metadata": {},
   "outputs": [],
   "source": []
  }
 ],
 "metadata": {
  "kernelspec": {
   "display_name": "Python 3 (ipykernel)",
   "language": "python",
   "name": "python3"
  },
  "language_info": {
   "codemirror_mode": {
    "name": "ipython",
    "version": 3
   },
   "file_extension": ".py",
   "mimetype": "text/x-python",
   "name": "python",
   "nbconvert_exporter": "python",
   "pygments_lexer": "ipython3",
   "version": "3.9.4"
  }
 },
 "nbformat": 4,
 "nbformat_minor": 5
}
