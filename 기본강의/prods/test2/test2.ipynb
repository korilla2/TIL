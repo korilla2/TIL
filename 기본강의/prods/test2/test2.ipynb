{
 "cells": [
  {
   "cell_type": "code",
   "execution_count": 1,
   "id": "1cad36cb",
   "metadata": {},
   "outputs": [],
   "source": [
    "# # 문제 06 유형(DataSet_06.csv 이용)\n",
    "#\n",
    "# 구분자 : comma(“,”), 4,323 Rows, 19 Columns, UTF-8 인코딩\n",
    "\n",
    "# 주택 관련 정보를 바탕으로 주택 가격을 예측해 보고자 한다. \n",
    "# 다음은 확보한 주택 관련 데이터로 총 19개 컬럼으로 구성되어\n",
    "# 있다.\n",
    "\n",
    "# 컬 럼 / 정 의 / Type\n",
    "# id / 매물 번호 / Double\n",
    "# date / 날짜 / String\n",
    "# price / 거래 가격 / Double\n",
    "# bedrooms / 방 개수 / Double\n",
    "# bathrooms / 화장실 개수 (화장실은 있으나 샤워기 없는 경우 0.5로 처리) / Double\n",
    "# sqft_living / 건축물 면적 / Double\n",
    "# sqft_lot / 대지 면적 / Double\n",
    "# floors / 건축물의 층수 / Double\n",
    "# waterfront / 강변 조망 가능 여부 (0 / 1) / Double\n",
    "# view / 경관 (나쁨에서 좋음으로 0 ~ 4로 표시) / Double\n",
    "# condition / 관리 상태 (나쁨에서 좋음으로 1 ~ 5로 표시) / Double\n",
    "# grade / 등급 (낮음에서 높음으로 1 ~ 13으로 표시) / Double\n",
    "# sqft_above / 지상 면적 / Double\n",
    "# sqft_basement / 지하실 면적 / Double\n",
    "# yr_built / 건축 연도 / Double\n",
    "# yr_renovated / 개축 연도 / Double\n",
    "# zipcode / 우편번호 / Double\n",
    "# sqft_living15 / 15개의 인근 주택의 평균 건물 면적 / Double\n",
    "# sqft_lot15 / 15개의 인근 주택의 평균 대지 면적 / Double"
   ]
  },
  {
   "cell_type": "code",
   "execution_count": 2,
   "id": "24640a9d",
   "metadata": {},
   "outputs": [],
   "source": [
    "import pandas as pd\n",
    "import numpy as np"
   ]
  },
  {
   "cell_type": "code",
   "execution_count": 3,
   "id": "83c2b3ba",
   "metadata": {},
   "outputs": [
    {
     "data": {
      "text/html": [
       "<div>\n",
       "<style scoped>\n",
       "    .dataframe tbody tr th:only-of-type {\n",
       "        vertical-align: middle;\n",
       "    }\n",
       "\n",
       "    .dataframe tbody tr th {\n",
       "        vertical-align: top;\n",
       "    }\n",
       "\n",
       "    .dataframe thead th {\n",
       "        text-align: right;\n",
       "    }\n",
       "</style>\n",
       "<table border=\"1\" class=\"dataframe\">\n",
       "  <thead>\n",
       "    <tr style=\"text-align: right;\">\n",
       "      <th></th>\n",
       "      <th>id</th>\n",
       "      <th>date</th>\n",
       "      <th>price</th>\n",
       "      <th>bedrooms</th>\n",
       "      <th>bathrooms</th>\n",
       "      <th>sqft_living</th>\n",
       "      <th>sqft_lot</th>\n",
       "      <th>floors</th>\n",
       "      <th>waterfront</th>\n",
       "      <th>view</th>\n",
       "      <th>condition</th>\n",
       "      <th>grade</th>\n",
       "      <th>sqft_above</th>\n",
       "      <th>sqft_basement</th>\n",
       "      <th>yr_built</th>\n",
       "      <th>yr_renovated</th>\n",
       "      <th>zipcode</th>\n",
       "      <th>sqft_living15</th>\n",
       "      <th>sqft_lot15</th>\n",
       "    </tr>\n",
       "  </thead>\n",
       "  <tbody>\n",
       "    <tr>\n",
       "      <th>0</th>\n",
       "      <td>2597000006</td>\n",
       "      <td>20150309T000000</td>\n",
       "      <td>347500.0</td>\n",
       "      <td>3</td>\n",
       "      <td>1.50</td>\n",
       "      <td>1180</td>\n",
       "      <td>8353</td>\n",
       "      <td>1.0</td>\n",
       "      <td>0</td>\n",
       "      <td>0</td>\n",
       "      <td>3</td>\n",
       "      <td>7</td>\n",
       "      <td>1180</td>\n",
       "      <td>0</td>\n",
       "      <td>1960</td>\n",
       "      <td>0</td>\n",
       "      <td>98155</td>\n",
       "      <td>1710</td>\n",
       "      <td>8748</td>\n",
       "    </tr>\n",
       "    <tr>\n",
       "      <th>1</th>\n",
       "      <td>8813400345</td>\n",
       "      <td>20150414T000000</td>\n",
       "      <td>575000.0</td>\n",
       "      <td>2</td>\n",
       "      <td>1.00</td>\n",
       "      <td>980</td>\n",
       "      <td>3663</td>\n",
       "      <td>1.0</td>\n",
       "      <td>0</td>\n",
       "      <td>0</td>\n",
       "      <td>5</td>\n",
       "      <td>7</td>\n",
       "      <td>980</td>\n",
       "      <td>0</td>\n",
       "      <td>1909</td>\n",
       "      <td>0</td>\n",
       "      <td>98105</td>\n",
       "      <td>1620</td>\n",
       "      <td>3706</td>\n",
       "    </tr>\n",
       "    <tr>\n",
       "      <th>2</th>\n",
       "      <td>226059106</td>\n",
       "      <td>20150102T000000</td>\n",
       "      <td>489500.0</td>\n",
       "      <td>3</td>\n",
       "      <td>1.75</td>\n",
       "      <td>2090</td>\n",
       "      <td>65558</td>\n",
       "      <td>1.0</td>\n",
       "      <td>0</td>\n",
       "      <td>0</td>\n",
       "      <td>3</td>\n",
       "      <td>8</td>\n",
       "      <td>1330</td>\n",
       "      <td>760</td>\n",
       "      <td>1977</td>\n",
       "      <td>0</td>\n",
       "      <td>98072</td>\n",
       "      <td>2450</td>\n",
       "      <td>47178</td>\n",
       "    </tr>\n",
       "  </tbody>\n",
       "</table>\n",
       "</div>"
      ],
      "text/plain": [
       "           id             date     price  bedrooms  bathrooms  sqft_living  \\\n",
       "0  2597000006  20150309T000000  347500.0         3       1.50         1180   \n",
       "1  8813400345  20150414T000000  575000.0         2       1.00          980   \n",
       "2   226059106  20150102T000000  489500.0         3       1.75         2090   \n",
       "\n",
       "   sqft_lot  floors  waterfront  view  condition  grade  sqft_above  \\\n",
       "0      8353     1.0           0     0          3      7        1180   \n",
       "1      3663     1.0           0     0          5      7         980   \n",
       "2     65558     1.0           0     0          3      8        1330   \n",
       "\n",
       "   sqft_basement  yr_built  yr_renovated  zipcode  sqft_living15  sqft_lot15  \n",
       "0              0      1960             0    98155           1710        8748  \n",
       "1              0      1909             0    98105           1620        3706  \n",
       "2            760      1977             0    98072           2450       47178  "
      ]
     },
     "execution_count": 3,
     "metadata": {},
     "output_type": "execute_result"
    }
   ],
   "source": [
    "df = pd.read_csv('../Dataset/Dataset_06.csv')\n",
    "df.head(3)"
   ]
  },
  {
   "cell_type": "code",
   "execution_count": 4,
   "id": "55834eb5",
   "metadata": {},
   "outputs": [],
   "source": [
    "# 1.강변 조망이 가능한지 여부(waterfront)에 따라 평균 주택 가격을 계산하고 조망이\n",
    "# 가능한 경우와 그렇지 않은 경우의 평균 가격 차이의 절대값을 구하시오. 답은\n",
    "# 소수점 이하는 버리고 정수부만 기술하시오. (답안 예시) 1234567"
   ]
  },
  {
   "cell_type": "code",
   "execution_count": 7,
   "id": "6041e42e",
   "metadata": {},
   "outputs": [],
   "source": [
    "water_1 = df[df.waterfront == 0]['price'].mean()\n",
    "water_2 = df[df.waterfront == 1]['price'].mean()"
   ]
  },
  {
   "cell_type": "code",
   "execution_count": 8,
   "id": "a565f52a",
   "metadata": {},
   "outputs": [
    {
     "data": {
      "text/plain": [
       "1167272.748018648"
      ]
     },
     "execution_count": 8,
     "metadata": {},
     "output_type": "execute_result"
    }
   ],
   "source": [
    "abs(water_1 - water_2)"
   ]
  },
  {
   "cell_type": "code",
   "execution_count": 9,
   "id": "33d6a984",
   "metadata": {},
   "outputs": [],
   "source": [
    "# 답 : 1167272"
   ]
  },
  {
   "cell_type": "code",
   "execution_count": 10,
   "id": "9a0f2be7",
   "metadata": {},
   "outputs": [],
   "source": [
    "# 2.price, bedrooms, bathrooms, sqft_living, sqft_lot, floors, yr_built 등 7개의 변수 간의\n",
    "# 상관분석을 수행하고 price와의 상관계수의 절대값이 가장 큰 변수와 가장 작은\n",
    "# 변수를 차례로 기술하시오. (답안 예시) view, zipcode"
   ]
  },
  {
   "cell_type": "code",
   "execution_count": 11,
   "id": "58cb6420",
   "metadata": {},
   "outputs": [],
   "source": [
    "var_list = ['price', 'bedrooms', 'bathrooms', 'sqft_living', 'sqft_lot', 'floors', 'yr_built']"
   ]
  },
  {
   "cell_type": "code",
   "execution_count": 12,
   "id": "59a465e7",
   "metadata": {},
   "outputs": [],
   "source": [
    "corr_df = df[var_list]"
   ]
  },
  {
   "cell_type": "code",
   "execution_count": 17,
   "id": "ec2eaad1",
   "metadata": {},
   "outputs": [
    {
     "data": {
      "text/plain": [
       "sqft_living    0.709157\n",
       "bathrooms      0.534277\n",
       "bedrooms       0.279824\n",
       "floors         0.270423\n",
       "sqft_lot       0.106341\n",
       "yr_built       0.059895\n",
       "Name: price, dtype: float64"
      ]
     },
     "execution_count": 17,
     "metadata": {},
     "output_type": "execute_result"
    }
   ],
   "source": [
    "corr_df.corr().drop('price')['price'].abs().sort_values(ascending=False)"
   ]
  },
  {
   "cell_type": "code",
   "execution_count": 18,
   "id": "d7e1f979",
   "metadata": {},
   "outputs": [],
   "source": [
    "# 답 : sqft_living, yr_built"
   ]
  },
  {
   "cell_type": "code",
   "execution_count": 19,
   "id": "b2d43070",
   "metadata": {},
   "outputs": [],
   "source": [
    "# 3. id, date, 그리고 zipcode를 제외한 모든 변수를 독립변수로, price를 종속변수로 하여\n",
    "# 회귀분석을 수행하시오. 통계적 유의성을 갖지 못하는 독립변수를 제거하면 회귀\n",
    "# 모형에 남는 변수는 모두\n",
    "# 몇 개인가? 이 때 음의 회귀계수를 가지는 변수는 몇 개인가? (답안 예시) 5, 3"
   ]
  },
  {
   "cell_type": "code",
   "execution_count": 20,
   "id": "670b6eb2",
   "metadata": {},
   "outputs": [],
   "source": [
    "# import pandas as pd\n",
    "# import numpy as np\n",
    "# from sklearn.linear_model import LinearRegression\n",
    "# from statsmodels.formula.api import ols"
   ]
  },
  {
   "cell_type": "code",
   "execution_count": 22,
   "id": "974680b8",
   "metadata": {},
   "outputs": [
    {
     "data": {
      "text/plain": [
       "Index(['bedrooms', 'bathrooms', 'sqft_living', 'sqft_lot', 'floors',\n",
       "       'waterfront', 'view', 'condition', 'grade', 'sqft_above',\n",
       "       'sqft_basement', 'yr_built', 'yr_renovated', 'sqft_living15',\n",
       "       'sqft_lot15'],\n",
       "      dtype='object')"
      ]
     },
     "execution_count": 22,
     "metadata": {},
     "output_type": "execute_result"
    }
   ],
   "source": [
    "feature = df.drop(columns=['id', 'date', 'zipcode', 'price'], axis=1).columns\n",
    "feature"
   ]
  },
  {
   "cell_type": "code",
   "execution_count": 23,
   "id": "9d93a953",
   "metadata": {},
   "outputs": [],
   "source": [
    "from statsmodels.formula.api import ols"
   ]
  },
  {
   "cell_type": "code",
   "execution_count": 25,
   "id": "6b50a2e4",
   "metadata": {},
   "outputs": [],
   "source": [
    "form = 'price~' + '+'.join(feature)"
   ]
  },
  {
   "cell_type": "code",
   "execution_count": 26,
   "id": "f9b80718",
   "metadata": {
    "scrolled": true
   },
   "outputs": [],
   "source": [
    "model = ols(form, data=df)"
   ]
  },
  {
   "cell_type": "code",
   "execution_count": 37,
   "id": "fc8690a1",
   "metadata": {},
   "outputs": [
    {
     "data": {
      "text/plain": [
       "<statsmodels.regression.linear_model.RegressionResultsWrapper at 0x18c0810e670>"
      ]
     },
     "execution_count": 37,
     "metadata": {},
     "output_type": "execute_result"
    }
   ],
   "source": [
    "result = model.fit()\n",
    "result"
   ]
  },
  {
   "cell_type": "code",
   "execution_count": 38,
   "id": "3037f6e4",
   "metadata": {},
   "outputs": [
    {
     "data": {
      "text/html": [
       "<table class=\"simpletable\">\n",
       "<caption>OLS Regression Results</caption>\n",
       "<tr>\n",
       "  <th>Dep. Variable:</th>          <td>price</td>      <th>  R-squared:         </th> <td>   0.681</td> \n",
       "</tr>\n",
       "<tr>\n",
       "  <th>Model:</th>                   <td>OLS</td>       <th>  Adj. R-squared:    </th> <td>   0.680</td> \n",
       "</tr>\n",
       "<tr>\n",
       "  <th>Method:</th>             <td>Least Squares</td>  <th>  F-statistic:       </th> <td>   656.0</td> \n",
       "</tr>\n",
       "<tr>\n",
       "  <th>Date:</th>             <td>Thu, 24 Feb 2022</td> <th>  Prob (F-statistic):</th>  <td>  0.00</td>  \n",
       "</tr>\n",
       "<tr>\n",
       "  <th>Time:</th>                 <td>17:06:32</td>     <th>  Log-Likelihood:    </th> <td> -58960.</td> \n",
       "</tr>\n",
       "<tr>\n",
       "  <th>No. Observations:</th>      <td>  4323</td>      <th>  AIC:               </th> <td>1.180e+05</td>\n",
       "</tr>\n",
       "<tr>\n",
       "  <th>Df Residuals:</th>          <td>  4308</td>      <th>  BIC:               </th> <td>1.180e+05</td>\n",
       "</tr>\n",
       "<tr>\n",
       "  <th>Df Model:</th>              <td>    14</td>      <th>                     </th>     <td> </td>    \n",
       "</tr>\n",
       "<tr>\n",
       "  <th>Covariance Type:</th>      <td>nonrobust</td>    <th>                     </th>     <td> </td>    \n",
       "</tr>\n",
       "</table>\n",
       "<table class=\"simpletable\">\n",
       "<tr>\n",
       "        <td></td>           <th>coef</th>     <th>std err</th>      <th>t</th>      <th>P>|t|</th>  <th>[0.025</th>    <th>0.975]</th>  \n",
       "</tr>\n",
       "<tr>\n",
       "  <th>Intercept</th>     <td> 6.302e+06</td> <td> 2.95e+05</td> <td>   21.401</td> <td> 0.000</td> <td> 5.73e+06</td> <td> 6.88e+06</td>\n",
       "</tr>\n",
       "<tr>\n",
       "  <th>bedrooms</th>      <td>  -2.5e+04</td> <td> 3680.510</td> <td>   -6.791</td> <td> 0.000</td> <td>-3.22e+04</td> <td>-1.78e+04</td>\n",
       "</tr>\n",
       "<tr>\n",
       "  <th>bathrooms</th>     <td> 5.179e+04</td> <td> 7163.408</td> <td>    7.230</td> <td> 0.000</td> <td> 3.77e+04</td> <td> 6.58e+04</td>\n",
       "</tr>\n",
       "<tr>\n",
       "  <th>sqft_living</th>   <td>   92.3080</td> <td>    5.074</td> <td>   18.192</td> <td> 0.000</td> <td>   82.360</td> <td>  102.256</td>\n",
       "</tr>\n",
       "<tr>\n",
       "  <th>sqft_lot</th>      <td>    0.0054</td> <td>    0.093</td> <td>    0.059</td> <td> 0.953</td> <td>   -0.176</td> <td>    0.187</td>\n",
       "</tr>\n",
       "<tr>\n",
       "  <th>floors</th>        <td> 3.748e+04</td> <td> 8141.392</td> <td>    4.604</td> <td> 0.000</td> <td> 2.15e+04</td> <td> 5.34e+04</td>\n",
       "</tr>\n",
       "<tr>\n",
       "  <th>waterfront</th>    <td> 6.277e+05</td> <td> 3.91e+04</td> <td>   16.064</td> <td> 0.000</td> <td> 5.51e+05</td> <td> 7.04e+05</td>\n",
       "</tr>\n",
       "<tr>\n",
       "  <th>view</th>          <td>  4.04e+04</td> <td> 4797.344</td> <td>    8.421</td> <td> 0.000</td> <td>  3.1e+04</td> <td> 4.98e+04</td>\n",
       "</tr>\n",
       "<tr>\n",
       "  <th>condition</th>     <td> 1.571e+04</td> <td> 5317.387</td> <td>    2.954</td> <td> 0.003</td> <td> 5280.918</td> <td> 2.61e+04</td>\n",
       "</tr>\n",
       "<tr>\n",
       "  <th>grade</th>         <td> 1.306e+05</td> <td> 4700.604</td> <td>   27.789</td> <td> 0.000</td> <td> 1.21e+05</td> <td>  1.4e+05</td>\n",
       "</tr>\n",
       "<tr>\n",
       "  <th>sqft_above</th>    <td>   33.7358</td> <td>    4.981</td> <td>    6.773</td> <td> 0.000</td> <td>   23.971</td> <td>   43.501</td>\n",
       "</tr>\n",
       "<tr>\n",
       "  <th>sqft_basement</th> <td>   58.5722</td> <td>    5.840</td> <td>   10.030</td> <td> 0.000</td> <td>   47.123</td> <td>   70.021</td>\n",
       "</tr>\n",
       "<tr>\n",
       "  <th>yr_built</th>      <td>-3666.8957</td> <td>  150.805</td> <td>  -24.316</td> <td> 0.000</td> <td>-3962.551</td> <td>-3371.241</td>\n",
       "</tr>\n",
       "<tr>\n",
       "  <th>yr_renovated</th>  <td>   17.7032</td> <td>    8.265</td> <td>    2.142</td> <td> 0.032</td> <td>    1.499</td> <td>   33.908</td>\n",
       "</tr>\n",
       "<tr>\n",
       "  <th>sqft_living15</th> <td>   23.0114</td> <td>    7.561</td> <td>    3.044</td> <td> 0.002</td> <td>    8.188</td> <td>   37.834</td>\n",
       "</tr>\n",
       "<tr>\n",
       "  <th>sqft_lot15</th>    <td>   -0.2323</td> <td>    0.142</td> <td>   -1.637</td> <td> 0.102</td> <td>   -0.511</td> <td>    0.046</td>\n",
       "</tr>\n",
       "</table>\n",
       "<table class=\"simpletable\">\n",
       "<tr>\n",
       "  <th>Omnibus:</th>       <td>2170.721</td> <th>  Durbin-Watson:     </th> <td>   2.011</td> \n",
       "</tr>\n",
       "<tr>\n",
       "  <th>Prob(Omnibus):</th>  <td> 0.000</td>  <th>  Jarque-Bera (JB):  </th> <td>38362.875</td>\n",
       "</tr>\n",
       "<tr>\n",
       "  <th>Skew:</th>           <td> 1.971</td>  <th>  Prob(JB):          </th> <td>    0.00</td> \n",
       "</tr>\n",
       "<tr>\n",
       "  <th>Kurtosis:</th>       <td>17.051</td>  <th>  Cond. No.          </th> <td>1.38e+17</td> \n",
       "</tr>\n",
       "</table><br/><br/>Notes:<br/>[1] Standard Errors assume that the covariance matrix of the errors is correctly specified.<br/>[2] The smallest eigenvalue is 8.58e-22. This might indicate that there are<br/>strong multicollinearity problems or that the design matrix is singular."
      ],
      "text/plain": [
       "<class 'statsmodels.iolib.summary.Summary'>\n",
       "\"\"\"\n",
       "                            OLS Regression Results                            \n",
       "==============================================================================\n",
       "Dep. Variable:                  price   R-squared:                       0.681\n",
       "Model:                            OLS   Adj. R-squared:                  0.680\n",
       "Method:                 Least Squares   F-statistic:                     656.0\n",
       "Date:                Thu, 24 Feb 2022   Prob (F-statistic):               0.00\n",
       "Time:                        17:06:32   Log-Likelihood:                -58960.\n",
       "No. Observations:                4323   AIC:                         1.180e+05\n",
       "Df Residuals:                    4308   BIC:                         1.180e+05\n",
       "Df Model:                          14                                         \n",
       "Covariance Type:            nonrobust                                         \n",
       "=================================================================================\n",
       "                    coef    std err          t      P>|t|      [0.025      0.975]\n",
       "---------------------------------------------------------------------------------\n",
       "Intercept      6.302e+06   2.95e+05     21.401      0.000    5.73e+06    6.88e+06\n",
       "bedrooms        -2.5e+04   3680.510     -6.791      0.000   -3.22e+04   -1.78e+04\n",
       "bathrooms      5.179e+04   7163.408      7.230      0.000    3.77e+04    6.58e+04\n",
       "sqft_living      92.3080      5.074     18.192      0.000      82.360     102.256\n",
       "sqft_lot          0.0054      0.093      0.059      0.953      -0.176       0.187\n",
       "floors         3.748e+04   8141.392      4.604      0.000    2.15e+04    5.34e+04\n",
       "waterfront     6.277e+05   3.91e+04     16.064      0.000    5.51e+05    7.04e+05\n",
       "view            4.04e+04   4797.344      8.421      0.000     3.1e+04    4.98e+04\n",
       "condition      1.571e+04   5317.387      2.954      0.003    5280.918    2.61e+04\n",
       "grade          1.306e+05   4700.604     27.789      0.000    1.21e+05     1.4e+05\n",
       "sqft_above       33.7358      4.981      6.773      0.000      23.971      43.501\n",
       "sqft_basement    58.5722      5.840     10.030      0.000      47.123      70.021\n",
       "yr_built      -3666.8957    150.805    -24.316      0.000   -3962.551   -3371.241\n",
       "yr_renovated     17.7032      8.265      2.142      0.032       1.499      33.908\n",
       "sqft_living15    23.0114      7.561      3.044      0.002       8.188      37.834\n",
       "sqft_lot15       -0.2323      0.142     -1.637      0.102      -0.511       0.046\n",
       "==============================================================================\n",
       "Omnibus:                     2170.721   Durbin-Watson:                   2.011\n",
       "Prob(Omnibus):                  0.000   Jarque-Bera (JB):            38362.875\n",
       "Skew:                           1.971   Prob(JB):                         0.00\n",
       "Kurtosis:                      17.051   Cond. No.                     1.38e+17\n",
       "==============================================================================\n",
       "\n",
       "Notes:\n",
       "[1] Standard Errors assume that the covariance matrix of the errors is correctly specified.\n",
       "[2] The smallest eigenvalue is 8.58e-22. This might indicate that there are\n",
       "strong multicollinearity problems or that the design matrix is singular.\n",
       "\"\"\""
      ]
     },
     "execution_count": 38,
     "metadata": {},
     "output_type": "execute_result"
    }
   ],
   "source": [
    "result.summary()"
   ]
  },
  {
   "cell_type": "code",
   "execution_count": 41,
   "id": "41e2e6a2",
   "metadata": {},
   "outputs": [
    {
     "data": {
      "text/plain": [
       "16"
      ]
     },
     "execution_count": 41,
     "metadata": {},
     "output_type": "execute_result"
    }
   ],
   "source": [
    "len(result.pvalues < 0.05)"
   ]
  },
  {
   "cell_type": "code",
   "execution_count": 60,
   "id": "6412a2c3",
   "metadata": {},
   "outputs": [
    {
     "data": {
      "text/html": [
       "<div>\n",
       "<style scoped>\n",
       "    .dataframe tbody tr th:only-of-type {\n",
       "        vertical-align: middle;\n",
       "    }\n",
       "\n",
       "    .dataframe tbody tr th {\n",
       "        vertical-align: top;\n",
       "    }\n",
       "\n",
       "    .dataframe thead th {\n",
       "        text-align: right;\n",
       "    }\n",
       "</style>\n",
       "<table border=\"1\" class=\"dataframe\">\n",
       "  <thead>\n",
       "    <tr style=\"text-align: right;\">\n",
       "      <th></th>\n",
       "      <th>level_0</th>\n",
       "      <th>index</th>\n",
       "      <th>0</th>\n",
       "    </tr>\n",
       "  </thead>\n",
       "  <tbody>\n",
       "    <tr>\n",
       "      <th>0</th>\n",
       "      <td>0</td>\n",
       "      <td>Intercept</td>\n",
       "      <td>1.204633e-96</td>\n",
       "    </tr>\n",
       "    <tr>\n",
       "      <th>1</th>\n",
       "      <td>1</td>\n",
       "      <td>bedrooms</td>\n",
       "      <td>1.262643e-11</td>\n",
       "    </tr>\n",
       "    <tr>\n",
       "      <th>2</th>\n",
       "      <td>2</td>\n",
       "      <td>bathrooms</td>\n",
       "      <td>5.681393e-13</td>\n",
       "    </tr>\n",
       "    <tr>\n",
       "      <th>3</th>\n",
       "      <td>3</td>\n",
       "      <td>sqft_living</td>\n",
       "      <td>2.616953e-71</td>\n",
       "    </tr>\n",
       "    <tr>\n",
       "      <th>4</th>\n",
       "      <td>5</td>\n",
       "      <td>floors</td>\n",
       "      <td>4.266372e-06</td>\n",
       "    </tr>\n",
       "    <tr>\n",
       "      <th>5</th>\n",
       "      <td>6</td>\n",
       "      <td>waterfront</td>\n",
       "      <td>1.931929e-56</td>\n",
       "    </tr>\n",
       "    <tr>\n",
       "      <th>6</th>\n",
       "      <td>7</td>\n",
       "      <td>view</td>\n",
       "      <td>5.028272e-17</td>\n",
       "    </tr>\n",
       "    <tr>\n",
       "      <th>7</th>\n",
       "      <td>8</td>\n",
       "      <td>condition</td>\n",
       "      <td>3.157318e-03</td>\n",
       "    </tr>\n",
       "    <tr>\n",
       "      <th>8</th>\n",
       "      <td>9</td>\n",
       "      <td>grade</td>\n",
       "      <td>1.760208e-156</td>\n",
       "    </tr>\n",
       "    <tr>\n",
       "      <th>9</th>\n",
       "      <td>10</td>\n",
       "      <td>sqft_above</td>\n",
       "      <td>1.431345e-11</td>\n",
       "    </tr>\n",
       "    <tr>\n",
       "      <th>10</th>\n",
       "      <td>11</td>\n",
       "      <td>sqft_basement</td>\n",
       "      <td>2.030015e-23</td>\n",
       "    </tr>\n",
       "    <tr>\n",
       "      <th>11</th>\n",
       "      <td>12</td>\n",
       "      <td>yr_built</td>\n",
       "      <td>1.717539e-122</td>\n",
       "    </tr>\n",
       "    <tr>\n",
       "      <th>12</th>\n",
       "      <td>13</td>\n",
       "      <td>yr_renovated</td>\n",
       "      <td>3.226128e-02</td>\n",
       "    </tr>\n",
       "    <tr>\n",
       "      <th>13</th>\n",
       "      <td>14</td>\n",
       "      <td>sqft_living15</td>\n",
       "      <td>2.352216e-03</td>\n",
       "    </tr>\n",
       "  </tbody>\n",
       "</table>\n",
       "</div>"
      ],
      "text/plain": [
       "    level_0          index              0\n",
       "0         0      Intercept   1.204633e-96\n",
       "1         1       bedrooms   1.262643e-11\n",
       "2         2      bathrooms   5.681393e-13\n",
       "3         3    sqft_living   2.616953e-71\n",
       "4         5         floors   4.266372e-06\n",
       "5         6     waterfront   1.931929e-56\n",
       "6         7           view   5.028272e-17\n",
       "7         8      condition   3.157318e-03\n",
       "8         9          grade  1.760208e-156\n",
       "9        10     sqft_above   1.431345e-11\n",
       "10       11  sqft_basement   2.030015e-23\n",
       "11       12       yr_built  1.717539e-122\n",
       "12       13   yr_renovated   3.226128e-02\n",
       "13       14  sqft_living15   2.352216e-03"
      ]
     },
     "execution_count": 60,
     "metadata": {},
     "output_type": "execute_result"
    }
   ],
   "source": [
    "result.pvalues.reset_index()[result.pvalues.reset_index()[0] <0.05].reset_index()"
   ]
  },
  {
   "cell_type": "code",
   "execution_count": 57,
   "id": "6772379c",
   "metadata": {
    "scrolled": true
   },
   "outputs": [
    {
     "data": {
      "text/plain": [
       "Intercept         True\n",
       "bedrooms          True\n",
       "bathrooms         True\n",
       "sqft_living       True\n",
       "sqft_lot         False\n",
       "floors            True\n",
       "waterfront        True\n",
       "view              True\n",
       "condition         True\n",
       "grade             True\n",
       "sqft_above        True\n",
       "sqft_basement     True\n",
       "yr_built          True\n",
       "yr_renovated      True\n",
       "sqft_living15     True\n",
       "sqft_lot15       False\n",
       "dtype: bool"
      ]
     },
     "execution_count": 57,
     "metadata": {},
     "output_type": "execute_result"
    }
   ],
   "source": [
    "result.pvalues < 0.05"
   ]
  },
  {
   "cell_type": "code",
   "execution_count": 71,
   "id": "6b95fc07",
   "metadata": {},
   "outputs": [
    {
     "data": {
      "text/plain": [
       "13"
      ]
     },
     "execution_count": 71,
     "metadata": {},
     "output_type": "execute_result"
    }
   ],
   "source": [
    "result_out = (result.pvalues < 0.05).drop('Intercept')\n",
    "result_out.sum()"
   ]
  },
  {
   "cell_type": "code",
   "execution_count": 73,
   "id": "5ae36fc0",
   "metadata": {},
   "outputs": [
    {
     "data": {
      "text/plain": [
       "bedrooms          True\n",
       "bathrooms         True\n",
       "sqft_living       True\n",
       "sqft_lot         False\n",
       "floors            True\n",
       "waterfront        True\n",
       "view              True\n",
       "condition         True\n",
       "grade             True\n",
       "sqft_above        True\n",
       "sqft_basement     True\n",
       "yr_built          True\n",
       "yr_renovated      True\n",
       "sqft_living15     True\n",
       "sqft_lot15       False\n",
       "dtype: bool"
      ]
     },
     "execution_count": 73,
     "metadata": {},
     "output_type": "execute_result"
    }
   ],
   "source": [
    "result_out"
   ]
  },
  {
   "cell_type": "code",
   "execution_count": 68,
   "id": "5ddd6829",
   "metadata": {
    "scrolled": true
   },
   "outputs": [
    {
     "data": {
      "text/plain": [
       "Intercept        6.302495e+06\n",
       "bedrooms        -2.499553e+04\n",
       "bathrooms        5.179234e+04\n",
       "sqft_living      9.230805e+01\n",
       "sqft_lot         5.444844e-03\n",
       "floors           3.748199e+04\n",
       "waterfront       6.276528e+05\n",
       "view             4.039778e+04\n",
       "condition        1.570573e+04\n",
       "grade            1.306274e+05\n",
       "sqft_above       3.373579e+01\n",
       "sqft_basement    5.857225e+01\n",
       "yr_built        -3.666896e+03\n",
       "yr_renovated     1.770319e+01\n",
       "sqft_living15    2.301144e+01\n",
       "sqft_lot15      -2.322904e-01\n",
       "dtype: float64"
      ]
     },
     "execution_count": 68,
     "metadata": {},
     "output_type": "execute_result"
    }
   ],
   "source": [
    "result.params"
   ]
  },
  {
   "cell_type": "code",
   "execution_count": 76,
   "id": "7d3941ea",
   "metadata": {},
   "outputs": [
    {
     "data": {
      "text/plain": [
       "2"
      ]
     },
     "execution_count": 76,
     "metadata": {},
     "output_type": "execute_result"
    }
   ],
   "source": [
    "(result.params.drop('Intercept')[result_out] < 0).sum()"
   ]
  },
  {
   "cell_type": "code",
   "execution_count": 77,
   "id": "39d28d96",
   "metadata": {},
   "outputs": [],
   "source": [
    "# 답 : 13, 2"
   ]
  },
  {
   "cell_type": "code",
   "execution_count": 82,
   "id": "77ea7bcf",
   "metadata": {},
   "outputs": [
    {
     "data": {
      "text/html": [
       "<div>\n",
       "<style scoped>\n",
       "    .dataframe tbody tr th:only-of-type {\n",
       "        vertical-align: middle;\n",
       "    }\n",
       "\n",
       "    .dataframe tbody tr th {\n",
       "        vertical-align: top;\n",
       "    }\n",
       "\n",
       "    .dataframe thead th {\n",
       "        text-align: right;\n",
       "    }\n",
       "</style>\n",
       "<table border=\"1\" class=\"dataframe\">\n",
       "  <thead>\n",
       "    <tr style=\"text-align: right;\">\n",
       "      <th></th>\n",
       "      <th>index</th>\n",
       "      <th>0</th>\n",
       "    </tr>\n",
       "  </thead>\n",
       "  <tbody>\n",
       "    <tr>\n",
       "      <th>0</th>\n",
       "      <td>bedrooms</td>\n",
       "      <td>-24995.525070</td>\n",
       "    </tr>\n",
       "    <tr>\n",
       "      <th>1</th>\n",
       "      <td>bathrooms</td>\n",
       "      <td>51792.344459</td>\n",
       "    </tr>\n",
       "    <tr>\n",
       "      <th>2</th>\n",
       "      <td>sqft_living</td>\n",
       "      <td>92.308047</td>\n",
       "    </tr>\n",
       "    <tr>\n",
       "      <th>3</th>\n",
       "      <td>sqft_lot</td>\n",
       "      <td>0.005445</td>\n",
       "    </tr>\n",
       "    <tr>\n",
       "      <th>4</th>\n",
       "      <td>floors</td>\n",
       "      <td>37481.990454</td>\n",
       "    </tr>\n",
       "    <tr>\n",
       "      <th>5</th>\n",
       "      <td>waterfront</td>\n",
       "      <td>627652.843940</td>\n",
       "    </tr>\n",
       "    <tr>\n",
       "      <th>6</th>\n",
       "      <td>view</td>\n",
       "      <td>40397.783242</td>\n",
       "    </tr>\n",
       "    <tr>\n",
       "      <th>7</th>\n",
       "      <td>condition</td>\n",
       "      <td>15705.734137</td>\n",
       "    </tr>\n",
       "    <tr>\n",
       "      <th>8</th>\n",
       "      <td>grade</td>\n",
       "      <td>130627.395937</td>\n",
       "    </tr>\n",
       "    <tr>\n",
       "      <th>9</th>\n",
       "      <td>sqft_above</td>\n",
       "      <td>33.735791</td>\n",
       "    </tr>\n",
       "    <tr>\n",
       "      <th>10</th>\n",
       "      <td>sqft_basement</td>\n",
       "      <td>58.572248</td>\n",
       "    </tr>\n",
       "    <tr>\n",
       "      <th>11</th>\n",
       "      <td>yr_built</td>\n",
       "      <td>-3666.895673</td>\n",
       "    </tr>\n",
       "    <tr>\n",
       "      <th>12</th>\n",
       "      <td>yr_renovated</td>\n",
       "      <td>17.703192</td>\n",
       "    </tr>\n",
       "    <tr>\n",
       "      <th>13</th>\n",
       "      <td>sqft_living15</td>\n",
       "      <td>23.011443</td>\n",
       "    </tr>\n",
       "    <tr>\n",
       "      <th>14</th>\n",
       "      <td>sqft_lot15</td>\n",
       "      <td>-0.232290</td>\n",
       "    </tr>\n",
       "  </tbody>\n",
       "</table>\n",
       "</div>"
      ],
      "text/plain": [
       "            index              0\n",
       "0        bedrooms  -24995.525070\n",
       "1       bathrooms   51792.344459\n",
       "2     sqft_living      92.308047\n",
       "3        sqft_lot       0.005445\n",
       "4          floors   37481.990454\n",
       "5      waterfront  627652.843940\n",
       "6            view   40397.783242\n",
       "7       condition   15705.734137\n",
       "8           grade  130627.395937\n",
       "9      sqft_above      33.735791\n",
       "10  sqft_basement      58.572248\n",
       "11       yr_built   -3666.895673\n",
       "12   yr_renovated      17.703192\n",
       "13  sqft_living15      23.011443\n",
       "14     sqft_lot15      -0.232290"
      ]
     },
     "execution_count": 82,
     "metadata": {},
     "output_type": "execute_result"
    }
   ],
   "source": [
    "df = result.params.drop('Intercept').reset_index()\n",
    "df"
   ]
  },
  {
   "cell_type": "code",
   "execution_count": 101,
   "id": "9b316ba4",
   "metadata": {},
   "outputs": [
    {
     "data": {
      "text/plain": [
       "['bedrooms', 'yr_built', 'sqft_lot15']"
      ]
     },
     "execution_count": 101,
     "metadata": {},
     "output_type": "execute_result"
    }
   ],
   "source": [
    "df[df[0] < 0]['index'].tolist()"
   ]
  },
  {
   "cell_type": "code",
   "execution_count": 102,
   "id": "faef1299",
   "metadata": {},
   "outputs": [],
   "source": [
    "# # 문제 07 유형(DataSet_07.csv 이용)\n",
    "#\n",
    "# 구분자 : comma(“,”), 400 Rows, 9 Columns, UTF-8 인코딩\n",
    "#\n",
    "# 대학원 진학을 위하여 어떤 항목이 중요하게 영향을 미치는지\n",
    "# 아래 데이터로 분석하고자 한다.\n",
    "\n",
    "# 컬 럼 / 정 의 / Type\n",
    "# Serial_No / 구분자 번호 / Double\n",
    "# GRE / GRE 시험 성적 / Double\n",
    "# TOEFL / TOEFL 시험 성적 / Double\n",
    "# University_Rating / 대학 평가 그룹 (1 ~ 5) / Double\n",
    "# SOP / 자기 소개서 점수 (1 ~ 5) / Double\n",
    "# LOR / 추천서 점수 (1 ~ 5) / Double\n",
    "# CGPA / 학부 평량 평점 (10점 만점 환산 점수) / Double\n",
    "# Research / 연구 참여 경험 여부 (0 / 1) / Double\n",
    "# Chance_of_Admit / 합격 가능성 / Double"
   ]
  },
  {
   "cell_type": "code",
   "execution_count": 103,
   "id": "197f0f05",
   "metadata": {},
   "outputs": [],
   "source": [
    "import pandas as pd\n",
    "import numpy as np"
   ]
  },
  {
   "cell_type": "code",
   "execution_count": 104,
   "id": "bc645a24",
   "metadata": {},
   "outputs": [
    {
     "data": {
      "text/html": [
       "<div>\n",
       "<style scoped>\n",
       "    .dataframe tbody tr th:only-of-type {\n",
       "        vertical-align: middle;\n",
       "    }\n",
       "\n",
       "    .dataframe tbody tr th {\n",
       "        vertical-align: top;\n",
       "    }\n",
       "\n",
       "    .dataframe thead th {\n",
       "        text-align: right;\n",
       "    }\n",
       "</style>\n",
       "<table border=\"1\" class=\"dataframe\">\n",
       "  <thead>\n",
       "    <tr style=\"text-align: right;\">\n",
       "      <th></th>\n",
       "      <th>Serial_No</th>\n",
       "      <th>GRE</th>\n",
       "      <th>TOEFL</th>\n",
       "      <th>University_Rating</th>\n",
       "      <th>SOP</th>\n",
       "      <th>LOR</th>\n",
       "      <th>CGPA</th>\n",
       "      <th>Research</th>\n",
       "      <th>Chance_of_Admit</th>\n",
       "    </tr>\n",
       "  </thead>\n",
       "  <tbody>\n",
       "    <tr>\n",
       "      <th>0</th>\n",
       "      <td>1</td>\n",
       "      <td>337</td>\n",
       "      <td>118</td>\n",
       "      <td>4</td>\n",
       "      <td>4.5</td>\n",
       "      <td>4.5</td>\n",
       "      <td>9.65</td>\n",
       "      <td>1</td>\n",
       "      <td>0.92</td>\n",
       "    </tr>\n",
       "    <tr>\n",
       "      <th>1</th>\n",
       "      <td>2</td>\n",
       "      <td>324</td>\n",
       "      <td>107</td>\n",
       "      <td>4</td>\n",
       "      <td>4.0</td>\n",
       "      <td>4.5</td>\n",
       "      <td>8.87</td>\n",
       "      <td>1</td>\n",
       "      <td>0.76</td>\n",
       "    </tr>\n",
       "    <tr>\n",
       "      <th>2</th>\n",
       "      <td>3</td>\n",
       "      <td>316</td>\n",
       "      <td>104</td>\n",
       "      <td>3</td>\n",
       "      <td>3.0</td>\n",
       "      <td>3.5</td>\n",
       "      <td>8.00</td>\n",
       "      <td>1</td>\n",
       "      <td>0.72</td>\n",
       "    </tr>\n",
       "    <tr>\n",
       "      <th>3</th>\n",
       "      <td>4</td>\n",
       "      <td>322</td>\n",
       "      <td>110</td>\n",
       "      <td>3</td>\n",
       "      <td>3.5</td>\n",
       "      <td>2.5</td>\n",
       "      <td>8.67</td>\n",
       "      <td>1</td>\n",
       "      <td>0.80</td>\n",
       "    </tr>\n",
       "    <tr>\n",
       "      <th>4</th>\n",
       "      <td>5</td>\n",
       "      <td>314</td>\n",
       "      <td>103</td>\n",
       "      <td>2</td>\n",
       "      <td>2.0</td>\n",
       "      <td>3.0</td>\n",
       "      <td>8.21</td>\n",
       "      <td>0</td>\n",
       "      <td>0.65</td>\n",
       "    </tr>\n",
       "  </tbody>\n",
       "</table>\n",
       "</div>"
      ],
      "text/plain": [
       "   Serial_No  GRE  TOEFL  University_Rating  SOP  LOR  CGPA  Research  \\\n",
       "0          1  337    118                  4  4.5  4.5  9.65         1   \n",
       "1          2  324    107                  4  4.0  4.5  8.87         1   \n",
       "2          3  316    104                  3  3.0  3.5  8.00         1   \n",
       "3          4  322    110                  3  3.5  2.5  8.67         1   \n",
       "4          5  314    103                  2  2.0  3.0  8.21         0   \n",
       "\n",
       "   Chance_of_Admit  \n",
       "0             0.92  \n",
       "1             0.76  \n",
       "2             0.72  \n",
       "3             0.80  \n",
       "4             0.65  "
      ]
     },
     "execution_count": 104,
     "metadata": {},
     "output_type": "execute_result"
    }
   ],
   "source": [
    "df = pd.read_csv('../Dataset/Dataset_07.csv')\n",
    "df.head()"
   ]
  },
  {
   "cell_type": "code",
   "execution_count": 105,
   "id": "f987bbd8",
   "metadata": {},
   "outputs": [],
   "source": [
    "# 1. 합격 가능성에 GRE, TOEFL, CGPA 점수 가운데 가장 영향이 큰 것이 어떤 점수인지\n",
    "# 알아 보기 위해서 상관 분석을 수행한다.\n",
    "# - 피어슨(Pearson) 상관계수 값을 구한다.\n",
    "# - Chance_of_Admit와의 가장 큰 상관계수 값을 가지는 항목의 상관계수를 소수점 넷째\n",
    "# 자리에서 반올림하여 셋째 자리까지 기술하시오. (답안 예시) 0.123\n",
    "\n",
    "# (참고)\n",
    "# #1\n",
    "# import pandas as pd\n",
    "# #2\n",
    "# import scipy.stats as stats\n",
    "# #3\n",
    "# from sklearn.linear_model import LogisticRegression\n",
    "# Solver = ‘liblinear’, random_state = 12"
   ]
  },
  {
   "cell_type": "code",
   "execution_count": 106,
   "id": "9945b845",
   "metadata": {},
   "outputs": [],
   "source": [
    "feature = ['GRE', 'TOEFL', 'CGPA', 'Chance_of_Admit']"
   ]
  },
  {
   "cell_type": "code",
   "execution_count": 107,
   "id": "cb61fcd9",
   "metadata": {},
   "outputs": [
    {
     "data": {
      "text/plain": [
       "0.8732890993553006"
      ]
     },
     "execution_count": 107,
     "metadata": {},
     "output_type": "execute_result"
    }
   ],
   "source": [
    "df[feature].corr().drop('Chance_of_Admit')['Chance_of_Admit'].max()"
   ]
  },
  {
   "cell_type": "code",
   "execution_count": 108,
   "id": "5e5146e5",
   "metadata": {},
   "outputs": [],
   "source": [
    "# 답 : 0.873"
   ]
  },
  {
   "cell_type": "code",
   "execution_count": 109,
   "id": "a788270b",
   "metadata": {},
   "outputs": [],
   "source": [
    "# 2.GRE 점수의 평균 이상을 받은 그룹과 평균 미만을 받은 그룹의 CGPA 평균은 차이가\n",
    "# 있는지\n",
    "# 검정을 하고자 한다.\n",
    "# - 적절한 검정 방법을 선택하고 양측 검정을 수행하시오 (등분산으로 가정)\n",
    "# - 검정 결과, 검정통계량의 추정치를 소수점 셋째 자리에서 반올림하여 소수점 두 자리까지\n",
    "# 기술하시오.\n",
    "# (답안 예시) 1.23"
   ]
  },
  {
   "cell_type": "code",
   "execution_count": 110,
   "id": "6ec0f2fa",
   "metadata": {},
   "outputs": [],
   "source": [
    "cut_line = df['GRE'].mean()\n",
    "up_df = df[df['GRE'] >= cut_line]['CGPA']\n",
    "down_df = df[df['GRE'] < cut_line]['CGPA']"
   ]
  },
  {
   "cell_type": "code",
   "execution_count": 113,
   "id": "e6f0ebcb",
   "metadata": {},
   "outputs": [
    {
     "data": {
      "text/plain": [
       "0      9.65\n",
       "1      8.87\n",
       "3      8.67\n",
       "5      9.34\n",
       "6      8.20\n",
       "       ... \n",
       "394    9.23\n",
       "395    9.04\n",
       "396    9.11\n",
       "397    9.45\n",
       "399    9.66\n",
       "Name: CGPA, Length: 205, dtype: float64"
      ]
     },
     "execution_count": 113,
     "metadata": {},
     "output_type": "execute_result"
    }
   ],
   "source": [
    "up_df"
   ]
  },
  {
   "cell_type": "code",
   "execution_count": 114,
   "id": "224d6908",
   "metadata": {},
   "outputs": [
    {
     "data": {
      "text/plain": [
       "2      8.00\n",
       "4      8.21\n",
       "7      7.90\n",
       "8      8.00\n",
       "13     8.00\n",
       "       ... \n",
       "386    7.96\n",
       "387    8.10\n",
       "388    7.80\n",
       "390    8.24\n",
       "398    8.78\n",
       "Name: CGPA, Length: 195, dtype: float64"
      ]
     },
     "execution_count": 114,
     "metadata": {},
     "output_type": "execute_result"
    }
   ],
   "source": [
    "down_df"
   ]
  },
  {
   "cell_type": "code",
   "execution_count": 111,
   "id": "056fc155",
   "metadata": {},
   "outputs": [],
   "source": [
    "from scipy.stats import ttest_ind"
   ]
  },
  {
   "cell_type": "code",
   "execution_count": 112,
   "id": "8943047e",
   "metadata": {},
   "outputs": [
    {
     "data": {
      "text/plain": [
       "Ttest_indResult(statistic=19.443291692470982, pvalue=1.1127037052806161e-59)"
      ]
     },
     "execution_count": 112,
     "metadata": {},
     "output_type": "execute_result"
    }
   ],
   "source": [
    "ttest_ind(up_df, down_df)"
   ]
  },
  {
   "cell_type": "code",
   "execution_count": 115,
   "id": "af661bf2",
   "metadata": {},
   "outputs": [],
   "source": [
    "# 답 : 19.44"
   ]
  },
  {
   "cell_type": "code",
   "execution_count": 116,
   "id": "56c198ec",
   "metadata": {},
   "outputs": [],
   "source": [
    "# 3.Chance_of_Admit 확률이 0.5를 초과하면 합격으로, 이하이면 불합격으로 구분하고\n",
    "# 로지스틱 회귀분석을 수행하시오.\n",
    "# - 원데이터만 사용하고, 원데이터 가운데 Serial_No와 Label은 모형에서 제외\n",
    "# - 각 설정값은 다음과 같이 지정하고, 언급되지 않은 사항은 기본 설정값을 사용하시오\n",
    "# Seed : 123\n",
    "# - 로지스틱 회귀분석 수행 결과에서 로지스틱 회귀계수의 절대값이 가장 큰 변수와 그 값을\n",
    "# 기술하시오. \n",
    "# (로지스틱 회귀계수는 반올림하여 소수점 둘째 자리까지 / Intercept는 제외)\n",
    "# (답안 예시) abc, 0.12"
   ]
  },
  {
   "cell_type": "code",
   "execution_count": 117,
   "id": "33f9d4f5",
   "metadata": {},
   "outputs": [
    {
     "data": {
      "text/html": [
       "<div>\n",
       "<style scoped>\n",
       "    .dataframe tbody tr th:only-of-type {\n",
       "        vertical-align: middle;\n",
       "    }\n",
       "\n",
       "    .dataframe tbody tr th {\n",
       "        vertical-align: top;\n",
       "    }\n",
       "\n",
       "    .dataframe thead th {\n",
       "        text-align: right;\n",
       "    }\n",
       "</style>\n",
       "<table border=\"1\" class=\"dataframe\">\n",
       "  <thead>\n",
       "    <tr style=\"text-align: right;\">\n",
       "      <th></th>\n",
       "      <th>Serial_No</th>\n",
       "      <th>GRE</th>\n",
       "      <th>TOEFL</th>\n",
       "      <th>University_Rating</th>\n",
       "      <th>SOP</th>\n",
       "      <th>LOR</th>\n",
       "      <th>CGPA</th>\n",
       "      <th>Research</th>\n",
       "      <th>Chance_of_Admit</th>\n",
       "    </tr>\n",
       "  </thead>\n",
       "  <tbody>\n",
       "    <tr>\n",
       "      <th>0</th>\n",
       "      <td>1</td>\n",
       "      <td>337</td>\n",
       "      <td>118</td>\n",
       "      <td>4</td>\n",
       "      <td>4.5</td>\n",
       "      <td>4.5</td>\n",
       "      <td>9.65</td>\n",
       "      <td>1</td>\n",
       "      <td>0.92</td>\n",
       "    </tr>\n",
       "    <tr>\n",
       "      <th>1</th>\n",
       "      <td>2</td>\n",
       "      <td>324</td>\n",
       "      <td>107</td>\n",
       "      <td>4</td>\n",
       "      <td>4.0</td>\n",
       "      <td>4.5</td>\n",
       "      <td>8.87</td>\n",
       "      <td>1</td>\n",
       "      <td>0.76</td>\n",
       "    </tr>\n",
       "    <tr>\n",
       "      <th>2</th>\n",
       "      <td>3</td>\n",
       "      <td>316</td>\n",
       "      <td>104</td>\n",
       "      <td>3</td>\n",
       "      <td>3.0</td>\n",
       "      <td>3.5</td>\n",
       "      <td>8.00</td>\n",
       "      <td>1</td>\n",
       "      <td>0.72</td>\n",
       "    </tr>\n",
       "    <tr>\n",
       "      <th>3</th>\n",
       "      <td>4</td>\n",
       "      <td>322</td>\n",
       "      <td>110</td>\n",
       "      <td>3</td>\n",
       "      <td>3.5</td>\n",
       "      <td>2.5</td>\n",
       "      <td>8.67</td>\n",
       "      <td>1</td>\n",
       "      <td>0.80</td>\n",
       "    </tr>\n",
       "    <tr>\n",
       "      <th>4</th>\n",
       "      <td>5</td>\n",
       "      <td>314</td>\n",
       "      <td>103</td>\n",
       "      <td>2</td>\n",
       "      <td>2.0</td>\n",
       "      <td>3.0</td>\n",
       "      <td>8.21</td>\n",
       "      <td>0</td>\n",
       "      <td>0.65</td>\n",
       "    </tr>\n",
       "  </tbody>\n",
       "</table>\n",
       "</div>"
      ],
      "text/plain": [
       "   Serial_No  GRE  TOEFL  University_Rating  SOP  LOR  CGPA  Research  \\\n",
       "0          1  337    118                  4  4.5  4.5  9.65         1   \n",
       "1          2  324    107                  4  4.0  4.5  8.87         1   \n",
       "2          3  316    104                  3  3.0  3.5  8.00         1   \n",
       "3          4  322    110                  3  3.5  2.5  8.67         1   \n",
       "4          5  314    103                  2  2.0  3.0  8.21         0   \n",
       "\n",
       "   Chance_of_Admit  \n",
       "0             0.92  \n",
       "1             0.76  \n",
       "2             0.72  \n",
       "3             0.80  \n",
       "4             0.65  "
      ]
     },
     "execution_count": 117,
     "metadata": {},
     "output_type": "execute_result"
    }
   ],
   "source": [
    "df = pd.read_csv('../Dataset/Dataset_07.csv')\n",
    "df.head()"
   ]
  },
  {
   "cell_type": "code",
   "execution_count": 119,
   "id": "8059f141",
   "metadata": {},
   "outputs": [
    {
     "data": {
      "text/plain": [
       "Index(['Serial_No', 'GRE', 'TOEFL', 'University_Rating', 'SOP', 'LOR', 'CGPA',\n",
       "       'Research', 'Chance_of_Admit'],\n",
       "      dtype='object')"
      ]
     },
     "execution_count": 119,
     "metadata": {},
     "output_type": "execute_result"
    }
   ],
   "source": [
    "df.columns"
   ]
  },
  {
   "cell_type": "code",
   "execution_count": 120,
   "id": "5d39b13f",
   "metadata": {},
   "outputs": [],
   "source": [
    "feature = ['GRE', 'TOEFL', 'University_Rating', 'SOP', 'LOR', 'CGPA', 'Research']"
   ]
  },
  {
   "cell_type": "code",
   "execution_count": 121,
   "id": "b965bdc7",
   "metadata": {},
   "outputs": [],
   "source": [
    "from sklearn.linear_model import LogisticRegression"
   ]
  },
  {
   "cell_type": "code",
   "execution_count": 172,
   "id": "21931b42",
   "metadata": {},
   "outputs": [],
   "source": [
    "model = LogisticRegression(fit_intercept=False, random_state=123)"
   ]
  },
  {
   "cell_type": "code",
   "execution_count": 173,
   "id": "82c60174",
   "metadata": {},
   "outputs": [],
   "source": [
    "df['ch'] = np.where(df['Chance_of_Admit'] > 0.5, 1, 0)"
   ]
  },
  {
   "cell_type": "code",
   "execution_count": 174,
   "id": "5079b888",
   "metadata": {},
   "outputs": [
    {
     "name": "stderr",
     "output_type": "stream",
     "text": [
      "C:\\Users\\BAUM\\AppData\\Roaming\\Python\\Python39\\site-packages\\sklearn\\linear_model\\_logistic.py:814: ConvergenceWarning: lbfgs failed to converge (status=1):\n",
      "STOP: TOTAL NO. of ITERATIONS REACHED LIMIT.\n",
      "\n",
      "Increase the number of iterations (max_iter) or scale the data as shown in:\n",
      "    https://scikit-learn.org/stable/modules/preprocessing.html\n",
      "Please also refer to the documentation for alternative solver options:\n",
      "    https://scikit-learn.org/stable/modules/linear_model.html#logistic-regression\n",
      "  n_iter_i = _check_optimize_result(\n"
     ]
    }
   ],
   "source": [
    "result = model.fit(df[feature], df['ch'])"
   ]
  },
  {
   "cell_type": "code",
   "execution_count": 175,
   "id": "7b7ab788",
   "metadata": {},
   "outputs": [
    {
     "data": {
      "text/plain": [
       "(1, 7)"
      ]
     },
     "execution_count": 175,
     "metadata": {},
     "output_type": "execute_result"
    }
   ],
   "source": [
    "result.coef_.shape"
   ]
  },
  {
   "cell_type": "code",
   "execution_count": 176,
   "id": "fd83375a",
   "metadata": {},
   "outputs": [
    {
     "data": {
      "text/plain": [
       "0   -0.089978\n",
       "1    0.106333\n",
       "2    0.056308\n",
       "3   -0.245532\n",
       "4    1.015202\n",
       "5    2.010332\n",
       "6    0.688569\n",
       "dtype: float64"
      ]
     },
     "execution_count": 176,
     "metadata": {},
     "output_type": "execute_result"
    }
   ],
   "source": [
    "coef = pd.Series(result.coef_.reshape(-1))\n",
    "coef"
   ]
  },
  {
   "cell_type": "code",
   "execution_count": 177,
   "id": "865e9c80",
   "metadata": {},
   "outputs": [],
   "source": [
    "coef.index = feature"
   ]
  },
  {
   "cell_type": "code",
   "execution_count": 178,
   "id": "d19ce1ff",
   "metadata": {},
   "outputs": [
    {
     "data": {
      "text/plain": [
       "GRE                 -0.089978\n",
       "TOEFL                0.106333\n",
       "University_Rating    0.056308\n",
       "SOP                 -0.245532\n",
       "LOR                  1.015202\n",
       "CGPA                 2.010332\n",
       "Research             0.688569\n",
       "dtype: float64"
      ]
     },
     "execution_count": 178,
     "metadata": {},
     "output_type": "execute_result"
    }
   ],
   "source": [
    "coef"
   ]
  },
  {
   "cell_type": "code",
   "execution_count": 179,
   "id": "d4b5f0c2",
   "metadata": {},
   "outputs": [
    {
     "data": {
      "text/plain": [
       "'CGPA'"
      ]
     },
     "execution_count": 179,
     "metadata": {},
     "output_type": "execute_result"
    }
   ],
   "source": [
    "coef.abs().idxmax()"
   ]
  },
  {
   "cell_type": "code",
   "execution_count": 180,
   "id": "2cabcee1",
   "metadata": {},
   "outputs": [],
   "source": [
    "# 답 : CGPA, 2.01"
   ]
  },
  {
   "cell_type": "code",
   "execution_count": 181,
   "id": "c2e869ca",
   "metadata": {},
   "outputs": [],
   "source": [
    "# # 문제 08 유형(DataSet_08.csv 이용)\n",
    "#\n",
    "# 구분자 : comma(“,”), 50 Rows, 5 Columns, UTF-8 인코딩\n",
    "#\n",
    "# 스타트업 기업들의 수익성에 대한 분석을 하기 위하여\n",
    "# 아래와 같은 데이터를 입수하였다\n",
    "#\n",
    "# \n",
    "# 컬 럼 / 정 의 / Type\n",
    "# RandD_Spend / 연구개발비 지출 / Double\n",
    "# Administration / 운영관리비 지출 / Double\n",
    "# Marketing_Spend / 마케팅비 지출 / Double\n",
    "# State / 본사 위치 / String\n",
    "# Profit / 이익 / Double"
   ]
  },
  {
   "cell_type": "code",
   "execution_count": 182,
   "id": "2b20777b",
   "metadata": {},
   "outputs": [],
   "source": [
    "import pandas as pd\n",
    "import numpy as np"
   ]
  },
  {
   "cell_type": "code",
   "execution_count": 184,
   "id": "db5988d5",
   "metadata": {},
   "outputs": [
    {
     "data": {
      "text/html": [
       "<div>\n",
       "<style scoped>\n",
       "    .dataframe tbody tr th:only-of-type {\n",
       "        vertical-align: middle;\n",
       "    }\n",
       "\n",
       "    .dataframe tbody tr th {\n",
       "        vertical-align: top;\n",
       "    }\n",
       "\n",
       "    .dataframe thead th {\n",
       "        text-align: right;\n",
       "    }\n",
       "</style>\n",
       "<table border=\"1\" class=\"dataframe\">\n",
       "  <thead>\n",
       "    <tr style=\"text-align: right;\">\n",
       "      <th></th>\n",
       "      <th>RandD_Spend</th>\n",
       "      <th>Administration</th>\n",
       "      <th>Marketing_Spend</th>\n",
       "      <th>State</th>\n",
       "      <th>Profit</th>\n",
       "    </tr>\n",
       "  </thead>\n",
       "  <tbody>\n",
       "    <tr>\n",
       "      <th>0</th>\n",
       "      <td>165349.20</td>\n",
       "      <td>136897.80</td>\n",
       "      <td>471784.10</td>\n",
       "      <td>New York</td>\n",
       "      <td>192261.83</td>\n",
       "    </tr>\n",
       "    <tr>\n",
       "      <th>1</th>\n",
       "      <td>162597.70</td>\n",
       "      <td>151377.59</td>\n",
       "      <td>443898.53</td>\n",
       "      <td>California</td>\n",
       "      <td>191792.06</td>\n",
       "    </tr>\n",
       "    <tr>\n",
       "      <th>2</th>\n",
       "      <td>153441.51</td>\n",
       "      <td>101145.55</td>\n",
       "      <td>407934.54</td>\n",
       "      <td>Florida</td>\n",
       "      <td>191050.39</td>\n",
       "    </tr>\n",
       "  </tbody>\n",
       "</table>\n",
       "</div>"
      ],
      "text/plain": [
       "   RandD_Spend  Administration  Marketing_Spend       State     Profit\n",
       "0    165349.20       136897.80        471784.10    New York  192261.83\n",
       "1    162597.70       151377.59        443898.53  California  191792.06\n",
       "2    153441.51       101145.55        407934.54     Florida  191050.39"
      ]
     },
     "execution_count": 184,
     "metadata": {},
     "output_type": "execute_result"
    }
   ],
   "source": [
    "df = pd.read_csv('../Dataset/Dataset_08.csv')\n",
    "df.head(3)"
   ]
  },
  {
   "cell_type": "code",
   "execution_count": 185,
   "id": "a14c81d2",
   "metadata": {},
   "outputs": [],
   "source": [
    "# 1.각 주(State)별 데이터 구성비를 소수점 둘째 자리까지 구하고, 알파벳 순으로\n",
    "# 기술하시오(주 이름 기준).\n",
    "# (답안 예시) 0.12, 0.34, 0.54"
   ]
  },
  {
   "cell_type": "code",
   "execution_count": 191,
   "id": "497d8ddd",
   "metadata": {},
   "outputs": [
    {
     "data": {
      "text/plain": [
       "array([0.34, 0.32, 0.34])"
      ]
     },
     "execution_count": 191,
     "metadata": {},
     "output_type": "execute_result"
    }
   ],
   "source": [
    "df['State'].value_counts(normalize=True).sort_index().values"
   ]
  },
  {
   "cell_type": "code",
   "execution_count": 192,
   "id": "e93b7987",
   "metadata": {},
   "outputs": [],
   "source": [
    "# 답 : 0.34, 0.32, 0.34"
   ]
  },
  {
   "cell_type": "code",
   "execution_count": 193,
   "id": "c4517dbb",
   "metadata": {},
   "outputs": [],
   "source": [
    "# 2.주별 이익의 평균을 구하고, 평균 이익이 가장 큰 주와 작은 주의 차이를 구하시오. \n",
    "# 차이값은 소수점 이하는 버리고 정수부분만 기술하시오. (답안 예시) 1234"
   ]
  },
  {
   "cell_type": "code",
   "execution_count": 197,
   "id": "719d1bd4",
   "metadata": {},
   "outputs": [
    {
     "data": {
      "text/html": [
       "<div>\n",
       "<style scoped>\n",
       "    .dataframe tbody tr th:only-of-type {\n",
       "        vertical-align: middle;\n",
       "    }\n",
       "\n",
       "    .dataframe tbody tr th {\n",
       "        vertical-align: top;\n",
       "    }\n",
       "\n",
       "    .dataframe thead th {\n",
       "        text-align: right;\n",
       "    }\n",
       "</style>\n",
       "<table border=\"1\" class=\"dataframe\">\n",
       "  <thead>\n",
       "    <tr style=\"text-align: right;\">\n",
       "      <th></th>\n",
       "      <th>Profit</th>\n",
       "    </tr>\n",
       "    <tr>\n",
       "      <th>State</th>\n",
       "      <th></th>\n",
       "    </tr>\n",
       "  </thead>\n",
       "  <tbody>\n",
       "    <tr>\n",
       "      <th>California</th>\n",
       "      <td>103905.175294</td>\n",
       "    </tr>\n",
       "    <tr>\n",
       "      <th>Florida</th>\n",
       "      <td>118774.024375</td>\n",
       "    </tr>\n",
       "    <tr>\n",
       "      <th>New York</th>\n",
       "      <td>113756.446471</td>\n",
       "    </tr>\n",
       "  </tbody>\n",
       "</table>\n",
       "</div>"
      ],
      "text/plain": [
       "                   Profit\n",
       "State                    \n",
       "California  103905.175294\n",
       "Florida     118774.024375\n",
       "New York    113756.446471"
      ]
     },
     "execution_count": 197,
     "metadata": {},
     "output_type": "execute_result"
    }
   ],
   "source": [
    "df2 = pd.pivot_table(df, index='State', values='Profit')\n",
    "df2"
   ]
  },
  {
   "cell_type": "code",
   "execution_count": 199,
   "id": "156a582d",
   "metadata": {},
   "outputs": [
    {
     "data": {
      "text/plain": [
       "118774.02437500001"
      ]
     },
     "execution_count": 199,
     "metadata": {},
     "output_type": "execute_result"
    }
   ],
   "source": [
    "df2['Profit'].max()"
   ]
  },
  {
   "cell_type": "code",
   "execution_count": 200,
   "id": "264ce4eb",
   "metadata": {},
   "outputs": [
    {
     "data": {
      "text/plain": [
       "103905.17529411765"
      ]
     },
     "execution_count": 200,
     "metadata": {},
     "output_type": "execute_result"
    }
   ],
   "source": [
    "df2['Profit'].min()"
   ]
  },
  {
   "cell_type": "code",
   "execution_count": 201,
   "id": "27743182",
   "metadata": {},
   "outputs": [
    {
     "data": {
      "text/plain": [
       "14868.849080882355"
      ]
     },
     "execution_count": 201,
     "metadata": {},
     "output_type": "execute_result"
    }
   ],
   "source": [
    "df2['Profit'].max() - df2['Profit'].min()"
   ]
  },
  {
   "cell_type": "code",
   "execution_count": 202,
   "id": "ecaacae0",
   "metadata": {},
   "outputs": [],
   "source": [
    "# 답 : 14868"
   ]
  },
  {
   "cell_type": "code",
   "execution_count": 203,
   "id": "f56388a7",
   "metadata": {},
   "outputs": [],
   "source": [
    "# 3.독립변수로 RandD_Spend, Administration, Marketing_Spend를 사용하여 Profit을 주별로\n",
    "# 예측하는 회귀 모형을 만들고, 이 회귀모형을 사용하여 학습오차를 산출하시오.\n",
    "# - 주별로 계산된 학습오차 중 MAPE 기준으로 가장 낮은 오차를 보이는 주는 어느\n",
    "# 주이고 그 값은 무엇인가? (반올림하여 소수점 둘째 자리까지 기술하시오)\n",
    "# - (MAPE = Σ ( | y - y ̂ | / y ) * 100/n )\n",
    "# (답안 예시) ABC, 1.56"
   ]
  },
  {
   "cell_type": "code",
   "execution_count": 210,
   "id": "3ed44f5f",
   "metadata": {},
   "outputs": [],
   "source": [
    "feature = ['RandD_Spend', 'Administration', 'Marketing_Spend']"
   ]
  },
  {
   "cell_type": "code",
   "execution_count": 211,
   "id": "755ec1b7",
   "metadata": {},
   "outputs": [],
   "source": [
    "var_list = ['California', 'Florida', 'New York']"
   ]
  },
  {
   "cell_type": "code",
   "execution_count": 212,
   "id": "6b43dcd6",
   "metadata": {},
   "outputs": [],
   "source": [
    "from sklearn.linear_model import LinearRegression"
   ]
  },
  {
   "cell_type": "code",
   "execution_count": 220,
   "id": "0195adf0",
   "metadata": {},
   "outputs": [
    {
     "data": {
      "text/html": [
       "<div>\n",
       "<style scoped>\n",
       "    .dataframe tbody tr th:only-of-type {\n",
       "        vertical-align: middle;\n",
       "    }\n",
       "\n",
       "    .dataframe tbody tr th {\n",
       "        vertical-align: top;\n",
       "    }\n",
       "\n",
       "    .dataframe thead th {\n",
       "        text-align: right;\n",
       "    }\n",
       "</style>\n",
       "<table border=\"1\" class=\"dataframe\">\n",
       "  <thead>\n",
       "    <tr style=\"text-align: right;\">\n",
       "      <th></th>\n",
       "      <th>var</th>\n",
       "      <th>mape</th>\n",
       "    </tr>\n",
       "  </thead>\n",
       "  <tbody>\n",
       "    <tr>\n",
       "      <th>0</th>\n",
       "      <td>California</td>\n",
       "      <td>15.227582</td>\n",
       "    </tr>\n",
       "    <tr>\n",
       "      <th>1</th>\n",
       "      <td>Florida</td>\n",
       "      <td>5.706713</td>\n",
       "    </tr>\n",
       "    <tr>\n",
       "      <th>2</th>\n",
       "      <td>New York</td>\n",
       "      <td>8.524248</td>\n",
       "    </tr>\n",
       "  </tbody>\n",
       "</table>\n",
       "</div>"
      ],
      "text/plain": [
       "          var       mape\n",
       "0  California  15.227582\n",
       "1     Florida   5.706713\n",
       "2    New York   8.524248"
      ]
     },
     "execution_count": 220,
     "metadata": {},
     "output_type": "execute_result"
    }
   ],
   "source": [
    "result = []\n",
    "for i in var_list:\n",
    "    temp = df[df['State'] == i]\n",
    "    model = LinearRegression()\n",
    "    model.fit(temp[feature], temp['Profit'])\n",
    "    pred = model.predict(temp[feature])\n",
    "    mape = (abs(temp['Profit'] - pred) / temp['Profit']).sum() * 100 / len(temp)\n",
    "    result.append([i, mape])\n",
    "result = pd.DataFrame(result, columns = ['var', 'mape'])\n",
    "result"
   ]
  },
  {
   "cell_type": "code",
   "execution_count": 221,
   "id": "99d83aec",
   "metadata": {},
   "outputs": [
    {
     "data": {
      "text/plain": [
       "1"
      ]
     },
     "execution_count": 221,
     "metadata": {},
     "output_type": "execute_result"
    }
   ],
   "source": [
    "result['mape'].idxmin()"
   ]
  },
  {
   "cell_type": "code",
   "execution_count": 223,
   "id": "9d121827",
   "metadata": {},
   "outputs": [],
   "source": [
    "# 답 : Florida, 5.71"
   ]
  },
  {
   "cell_type": "code",
   "execution_count": 224,
   "id": "5120361b",
   "metadata": {},
   "outputs": [],
   "source": [
    "# # 문제 09 유형(DataSet_09.csv 이용)\n",
    "#\n",
    "# 구분자 : comma(“,”), 2000 Rows, 16 Columns, UTF-8 인코딩\n",
    "#\n",
    "# 항공사에서 고객만족도 조사를 하고 서비스 개선에 활용하고자\n",
    "# 아래와 같은 데이터를 준비하였다.\n",
    "#\n",
    "# 컬 럼 / 정 의 / Type\n",
    "# satisfaction / 서비스 만족 여부 / String\n",
    "# Gender / 성별 / String\n",
    "# Age / 나이 / Double\n",
    "# Customer_Type / 고객 타입 / String\n",
    "# Class / 탑승 좌석 등급 / String\n",
    "# Flight_Distance / 비행 거리 / Double\n",
    "# Seat_comfort / 좌석 안락도 점수 / Double\n",
    "# Food_and_Drink / 식사와 음료 점수 / Double\n",
    "# Inflight_wifi_service / 기내 와이파이 서비스 점수 / Double\n",
    "# Inflight_entertainment / 기내 엔터테인먼트 서비스 점수 / Double\n",
    "# Onboard_service / 탑승 서비스 점수 / Double\n",
    "# Leg_room_service / 다리 공간 점수 / Double\n",
    "# Baggage_handling / 수하물 취급 점수 / Double\n",
    "# Cleanliness / 청결도 점수 / Double\n",
    "# Departure_Daly_in_Minutes / 출발 지연 (분) / Double\n",
    "# Arrival_Delay_in_Minutes / 도착 지연 (분) / Double"
   ]
  },
  {
   "cell_type": "code",
   "execution_count": 225,
   "id": "26549f94",
   "metadata": {},
   "outputs": [],
   "source": [
    "import pandas as pd\n",
    "import numpy as np"
   ]
  },
  {
   "cell_type": "code",
   "execution_count": 226,
   "id": "cb9757de",
   "metadata": {},
   "outputs": [
    {
     "data": {
      "text/html": [
       "<div>\n",
       "<style scoped>\n",
       "    .dataframe tbody tr th:only-of-type {\n",
       "        vertical-align: middle;\n",
       "    }\n",
       "\n",
       "    .dataframe tbody tr th {\n",
       "        vertical-align: top;\n",
       "    }\n",
       "\n",
       "    .dataframe thead th {\n",
       "        text-align: right;\n",
       "    }\n",
       "</style>\n",
       "<table border=\"1\" class=\"dataframe\">\n",
       "  <thead>\n",
       "    <tr style=\"text-align: right;\">\n",
       "      <th></th>\n",
       "      <th>satisfaction</th>\n",
       "      <th>Gender</th>\n",
       "      <th>Age</th>\n",
       "      <th>Customer_Type</th>\n",
       "      <th>Class</th>\n",
       "      <th>Flight_Distance</th>\n",
       "      <th>Seat_comfort</th>\n",
       "      <th>Food_and_drink</th>\n",
       "      <th>Inflight_wifi_service</th>\n",
       "      <th>Inflight_entertainment</th>\n",
       "      <th>Onboard_service</th>\n",
       "      <th>Leg_room_service</th>\n",
       "      <th>Baggage_handling</th>\n",
       "      <th>Cleanliness</th>\n",
       "      <th>Departure_Delay_in_Minutes</th>\n",
       "      <th>Arrival_Delay_in_Minutes</th>\n",
       "    </tr>\n",
       "  </thead>\n",
       "  <tbody>\n",
       "    <tr>\n",
       "      <th>0</th>\n",
       "      <td>satisfied</td>\n",
       "      <td>Female</td>\n",
       "      <td>19.0</td>\n",
       "      <td>Loyal Customer</td>\n",
       "      <td>Eco</td>\n",
       "      <td>1981.0</td>\n",
       "      <td>4.0</td>\n",
       "      <td>4.0</td>\n",
       "      <td>1.0</td>\n",
       "      <td>4.0</td>\n",
       "      <td>4.0</td>\n",
       "      <td>4.0</td>\n",
       "      <td>4.0</td>\n",
       "      <td>4.0</td>\n",
       "      <td>3.0</td>\n",
       "      <td>28.0</td>\n",
       "    </tr>\n",
       "    <tr>\n",
       "      <th>1</th>\n",
       "      <td>dissatisfied</td>\n",
       "      <td>Female</td>\n",
       "      <td>64.0</td>\n",
       "      <td>Loyal Customer</td>\n",
       "      <td>Eco</td>\n",
       "      <td>2847.0</td>\n",
       "      <td>1.0</td>\n",
       "      <td>1.0</td>\n",
       "      <td>1.0</td>\n",
       "      <td>2.0</td>\n",
       "      <td>5.0</td>\n",
       "      <td>3.0</td>\n",
       "      <td>4.0</td>\n",
       "      <td>4.0</td>\n",
       "      <td>111.0</td>\n",
       "      <td>133.0</td>\n",
       "    </tr>\n",
       "    <tr>\n",
       "      <th>2</th>\n",
       "      <td>dissatisfied</td>\n",
       "      <td>Male</td>\n",
       "      <td>55.0</td>\n",
       "      <td>Loyal Customer</td>\n",
       "      <td>Eco</td>\n",
       "      <td>3790.0</td>\n",
       "      <td>1.0</td>\n",
       "      <td>1.0</td>\n",
       "      <td>2.0</td>\n",
       "      <td>1.0</td>\n",
       "      <td>4.0</td>\n",
       "      <td>4.0</td>\n",
       "      <td>4.0</td>\n",
       "      <td>4.0</td>\n",
       "      <td>2.0</td>\n",
       "      <td>15.0</td>\n",
       "    </tr>\n",
       "    <tr>\n",
       "      <th>3</th>\n",
       "      <td>satisfied</td>\n",
       "      <td>Female</td>\n",
       "      <td>39.0</td>\n",
       "      <td>Loyal Customer</td>\n",
       "      <td>Eco</td>\n",
       "      <td>1741.0</td>\n",
       "      <td>4.0</td>\n",
       "      <td>4.0</td>\n",
       "      <td>5.0</td>\n",
       "      <td>4.0</td>\n",
       "      <td>1.0</td>\n",
       "      <td>1.0</td>\n",
       "      <td>5.0</td>\n",
       "      <td>5.0</td>\n",
       "      <td>2.0</td>\n",
       "      <td>0.0</td>\n",
       "    </tr>\n",
       "    <tr>\n",
       "      <th>4</th>\n",
       "      <td>dissatisfied</td>\n",
       "      <td>Female</td>\n",
       "      <td>29.0</td>\n",
       "      <td>Loyal Customer</td>\n",
       "      <td>Eco</td>\n",
       "      <td>3829.0</td>\n",
       "      <td>2.0</td>\n",
       "      <td>1.0</td>\n",
       "      <td>1.0</td>\n",
       "      <td>4.0</td>\n",
       "      <td>2.0</td>\n",
       "      <td>4.0</td>\n",
       "      <td>3.0</td>\n",
       "      <td>1.0</td>\n",
       "      <td>365.0</td>\n",
       "      <td>383.0</td>\n",
       "    </tr>\n",
       "  </tbody>\n",
       "</table>\n",
       "</div>"
      ],
      "text/plain": [
       "   satisfaction  Gender   Age   Customer_Type Class  Flight_Distance  \\\n",
       "0     satisfied  Female  19.0  Loyal Customer   Eco           1981.0   \n",
       "1  dissatisfied  Female  64.0  Loyal Customer   Eco           2847.0   \n",
       "2  dissatisfied    Male  55.0  Loyal Customer   Eco           3790.0   \n",
       "3     satisfied  Female  39.0  Loyal Customer   Eco           1741.0   \n",
       "4  dissatisfied  Female  29.0  Loyal Customer   Eco           3829.0   \n",
       "\n",
       "   Seat_comfort  Food_and_drink  Inflight_wifi_service  \\\n",
       "0           4.0             4.0                    1.0   \n",
       "1           1.0             1.0                    1.0   \n",
       "2           1.0             1.0                    2.0   \n",
       "3           4.0             4.0                    5.0   \n",
       "4           2.0             1.0                    1.0   \n",
       "\n",
       "   Inflight_entertainment  Onboard_service  Leg_room_service  \\\n",
       "0                     4.0              4.0               4.0   \n",
       "1                     2.0              5.0               3.0   \n",
       "2                     1.0              4.0               4.0   \n",
       "3                     4.0              1.0               1.0   \n",
       "4                     4.0              2.0               4.0   \n",
       "\n",
       "   Baggage_handling  Cleanliness  Departure_Delay_in_Minutes  \\\n",
       "0               4.0          4.0                         3.0   \n",
       "1               4.0          4.0                       111.0   \n",
       "2               4.0          4.0                         2.0   \n",
       "3               5.0          5.0                         2.0   \n",
       "4               3.0          1.0                       365.0   \n",
       "\n",
       "   Arrival_Delay_in_Minutes  \n",
       "0                      28.0  \n",
       "1                     133.0  \n",
       "2                      15.0  \n",
       "3                       0.0  \n",
       "4                     383.0  "
      ]
     },
     "execution_count": 226,
     "metadata": {},
     "output_type": "execute_result"
    }
   ],
   "source": [
    "df = pd.read_csv('../Dataset/Dataset_09.csv')\n",
    "df.head()"
   ]
  },
  {
   "cell_type": "code",
   "execution_count": 227,
   "id": "3929c6dd",
   "metadata": {},
   "outputs": [],
   "source": [
    "# (참고)\n",
    "# #1\n",
    "# import pandas as pd\n",
    "# import numpy as np\n",
    "# #2\n",
    "# import scipy.stats as stats\n",
    "# #3\n",
    "# from sklearn.linear_model import LogisticRegression\n",
    "# from sklearn.model_selection import train_test_split\n",
    "# from sklearn import metrics"
   ]
  },
  {
   "cell_type": "code",
   "execution_count": 228,
   "id": "ff78276c",
   "metadata": {},
   "outputs": [],
   "source": [
    "# 1.데이터 타입을 위 표에 정의된 타입으로 전처리를 한 후, 데이터 파일 내에 결측값은\n",
    "# 총 몇 개인가? (답안 예시) 1"
   ]
  },
  {
   "cell_type": "code",
   "execution_count": 229,
   "id": "faa427c2",
   "metadata": {},
   "outputs": [
    {
     "data": {
      "text/plain": [
       "5"
      ]
     },
     "execution_count": 229,
     "metadata": {},
     "output_type": "execute_result"
    }
   ],
   "source": [
    "df.isnull().sum().sum()"
   ]
  },
  {
   "cell_type": "code",
   "execution_count": 230,
   "id": "6aa92c65",
   "metadata": {},
   "outputs": [],
   "source": [
    "# 답 : 5"
   ]
  },
  {
   "cell_type": "code",
   "execution_count": 231,
   "id": "7b7ba94a",
   "metadata": {},
   "outputs": [],
   "source": [
    "# 2.다음에 제시된 데이터 처리를 하고 카이제곱 독립성 검정을 수행하시오.\n",
    "# - 결측값이 있다면 해당 행을 제거하시오.\n",
    "# - 나이는 20 이하이면 10, 30 이하이면 20, 40 이하이면 30, 50 이하이면 40, 60 이하이면 50, \n",
    "# 60 초과는 60으로 변환하여 Age_gr으로 파생변수를 생성하시오.\n",
    "# - Age_gr, Gender, Customer_Type, Class 변수가 satisfaction에 영향이 있는지 카이제곱\n",
    "# 독립성 검정을 수행하시오. \n",
    "# - 연관성이 있는 것으로 파악된 변수의 검정통계량 추정치를 정수 부분만 기술하시오. \n",
    "# (답안 예시) 123"
   ]
  },
  {
   "cell_type": "code",
   "execution_count": 256,
   "id": "ad526a1a",
   "metadata": {},
   "outputs": [],
   "source": [
    "df2 = df.copy()"
   ]
  },
  {
   "cell_type": "code",
   "execution_count": 257,
   "id": "9cdb365d",
   "metadata": {},
   "outputs": [],
   "source": [
    "df2 = df2.dropna()"
   ]
  },
  {
   "cell_type": "code",
   "execution_count": 259,
   "id": "c32bddaf",
   "metadata": {},
   "outputs": [],
   "source": [
    "df2['Age_gr'] = np.where(df2.Age <= 20, 10,\n",
    "                np.where(df2.Age <= 30, 20,\n",
    "                   np.where(df2.Age <= 40, 30,\n",
    "                     np.where(df2.Age <= 50, 40,\n",
    "                        np.where(df2.Age <= 60, 50,  60)))))\n",
    "\n"
   ]
  },
  {
   "cell_type": "code",
   "execution_count": 260,
   "id": "d0293941",
   "metadata": {},
   "outputs": [],
   "source": [
    "feature=['Age_gr', 'Gender', 'Customer_Type', 'Class']"
   ]
  },
  {
   "cell_type": "code",
   "execution_count": 261,
   "id": "27762c68",
   "metadata": {},
   "outputs": [],
   "source": [
    "from scipy.stats import chi2_contingency"
   ]
  },
  {
   "cell_type": "code",
   "execution_count": 263,
   "id": "f7186872",
   "metadata": {},
   "outputs": [
    {
     "data": {
      "text/html": [
       "<div>\n",
       "<style scoped>\n",
       "    .dataframe tbody tr th:only-of-type {\n",
       "        vertical-align: middle;\n",
       "    }\n",
       "\n",
       "    .dataframe tbody tr th {\n",
       "        vertical-align: top;\n",
       "    }\n",
       "\n",
       "    .dataframe thead th {\n",
       "        text-align: right;\n",
       "    }\n",
       "</style>\n",
       "<table border=\"1\" class=\"dataframe\">\n",
       "  <thead>\n",
       "    <tr style=\"text-align: right;\">\n",
       "      <th></th>\n",
       "      <th>var</th>\n",
       "      <th>chi</th>\n",
       "      <th>pvalue</th>\n",
       "    </tr>\n",
       "  </thead>\n",
       "  <tbody>\n",
       "    <tr>\n",
       "      <th>0</th>\n",
       "      <td>Age_gr</td>\n",
       "      <td>2.287008</td>\n",
       "      <td>8.081731e-01</td>\n",
       "    </tr>\n",
       "    <tr>\n",
       "      <th>1</th>\n",
       "      <td>Gender</td>\n",
       "      <td>1066.782426</td>\n",
       "      <td>5.478170e-234</td>\n",
       "    </tr>\n",
       "    <tr>\n",
       "      <th>2</th>\n",
       "      <td>Customer_Type</td>\n",
       "      <td>0.469192</td>\n",
       "      <td>4.933591e-01</td>\n",
       "    </tr>\n",
       "    <tr>\n",
       "      <th>3</th>\n",
       "      <td>Class</td>\n",
       "      <td>0.311549</td>\n",
       "      <td>8.557520e-01</td>\n",
       "    </tr>\n",
       "  </tbody>\n",
       "</table>\n",
       "</div>"
      ],
      "text/plain": [
       "             var          chi         pvalue\n",
       "0         Age_gr     2.287008   8.081731e-01\n",
       "1         Gender  1066.782426  5.478170e-234\n",
       "2  Customer_Type     0.469192   4.933591e-01\n",
       "3          Class     0.311549   8.557520e-01"
      ]
     },
     "execution_count": 263,
     "metadata": {},
     "output_type": "execute_result"
    }
   ],
   "source": [
    "q2_out=[]\n",
    "for i in var_list:\n",
    "    q2_tab=pd.crosstab(index=df2[i], columns=df2['satisfaction'])\n",
    "    chi, pvalue, *_=chi2_contingency(q2_tab)\n",
    "    q2_out.append([i, chi, pvalue])\n",
    "\n",
    "q2_out=pd.DataFrame(q2_out, columns=['var', 'chi', 'pvalue'])\n",
    "\n",
    "q2_out"
   ]
  },
  {
   "cell_type": "code",
   "execution_count": 255,
   "id": "6fdefe7a",
   "metadata": {},
   "outputs": [
    {
     "data": {
      "text/html": [
       "<div>\n",
       "<style scoped>\n",
       "    .dataframe tbody tr th:only-of-type {\n",
       "        vertical-align: middle;\n",
       "    }\n",
       "\n",
       "    .dataframe tbody tr th {\n",
       "        vertical-align: top;\n",
       "    }\n",
       "\n",
       "    .dataframe thead th {\n",
       "        text-align: right;\n",
       "    }\n",
       "</style>\n",
       "<table border=\"1\" class=\"dataframe\">\n",
       "  <thead>\n",
       "    <tr style=\"text-align: right;\">\n",
       "      <th></th>\n",
       "      <th>var</th>\n",
       "      <th>chi</th>\n",
       "      <th>p</th>\n",
       "    </tr>\n",
       "  </thead>\n",
       "  <tbody>\n",
       "    <tr>\n",
       "      <th>1</th>\n",
       "      <td>Gender</td>\n",
       "      <td>1066.782426</td>\n",
       "      <td>5.478170e-234</td>\n",
       "    </tr>\n",
       "  </tbody>\n",
       "</table>\n",
       "</div>"
      ],
      "text/plain": [
       "      var          chi              p\n",
       "1  Gender  1066.782426  5.478170e-234"
      ]
     },
     "execution_count": 255,
     "metadata": {},
     "output_type": "execute_result"
    }
   ],
   "source": [
    "result[result['p'] < 0.05]"
   ]
  },
  {
   "cell_type": "code",
   "execution_count": 242,
   "id": "a6de1904",
   "metadata": {},
   "outputs": [],
   "source": [
    "# 답 : 1066"
   ]
  },
  {
   "cell_type": "code",
   "execution_count": 251,
   "id": "37929f09",
   "metadata": {},
   "outputs": [
    {
     "data": {
      "text/html": [
       "<div>\n",
       "<style scoped>\n",
       "    .dataframe tbody tr th:only-of-type {\n",
       "        vertical-align: middle;\n",
       "    }\n",
       "\n",
       "    .dataframe tbody tr th {\n",
       "        vertical-align: top;\n",
       "    }\n",
       "\n",
       "    .dataframe thead th {\n",
       "        text-align: right;\n",
       "    }\n",
       "</style>\n",
       "<table border=\"1\" class=\"dataframe\">\n",
       "  <thead>\n",
       "    <tr style=\"text-align: right;\">\n",
       "      <th></th>\n",
       "      <th>var</th>\n",
       "      <th>chi</th>\n",
       "      <th>pvalue</th>\n",
       "    </tr>\n",
       "  </thead>\n",
       "  <tbody>\n",
       "    <tr>\n",
       "      <th>0</th>\n",
       "      <td>Age_gr</td>\n",
       "      <td>2.270309</td>\n",
       "      <td>8.106176e-01</td>\n",
       "    </tr>\n",
       "    <tr>\n",
       "      <th>1</th>\n",
       "      <td>Gender</td>\n",
       "      <td>1068.632582</td>\n",
       "      <td>2.170219e-234</td>\n",
       "    </tr>\n",
       "    <tr>\n",
       "      <th>2</th>\n",
       "      <td>Customer_Type</td>\n",
       "      <td>0.463691</td>\n",
       "      <td>4.959041e-01</td>\n",
       "    </tr>\n",
       "    <tr>\n",
       "      <th>3</th>\n",
       "      <td>Class</td>\n",
       "      <td>0.303303</td>\n",
       "      <td>8.592877e-01</td>\n",
       "    </tr>\n",
       "  </tbody>\n",
       "</table>\n",
       "</div>"
      ],
      "text/plain": [
       "             var          chi         pvalue\n",
       "0         Age_gr     2.270309   8.106176e-01\n",
       "1         Gender  1068.632582  2.170219e-234\n",
       "2  Customer_Type     0.463691   4.959041e-01\n",
       "3          Class     0.303303   8.592877e-01"
      ]
     },
     "execution_count": 251,
     "metadata": {},
     "output_type": "execute_result"
    }
   ],
   "source": [
    "import pandas as pd\n",
    "\n",
    "data9=pd.read_csv('../Dataset/Dataset_09.csv')\n",
    "q2=data9.copy()\n",
    "q2.columns\n",
    "\n",
    "import numpy as np\n",
    "q2['Age_gr']=np.where(q2.Age <= 20, 10,\n",
    "                np.where(q2.Age <= 30, 20,\n",
    "                   np.where(q2.Age <= 40, 30,\n",
    "                     np.where(q2.Age <= 50, 40,\n",
    "                        np.where(q2.Age <= 60, 50,  60)))))\n",
    "\n",
    "\n",
    "from scipy.stats import chi2_contingency\n",
    "\n",
    "\n",
    "# - Age_gr, Gender, Customer_Type, Class 변수가 satisfaction에 영향이 있는지\n",
    "var_list=['Age_gr', 'Gender', 'Customer_Type', 'Class']\n",
    "\n",
    "q2_out=[]\n",
    "for i in var_list:\n",
    "    q2_tab=pd.crosstab(index=q2[i], columns=q2['satisfaction'])\n",
    "    chi, pvalue, *_=chi2_contingency(q2_tab)\n",
    "    q2_out.append([i, chi, pvalue])\n",
    "\n",
    "q2_out=pd.DataFrame(q2_out, columns=['var', 'chi', 'pvalue'])\n",
    "\n",
    "q2_out"
   ]
  },
  {
   "cell_type": "code",
   "execution_count": null,
   "id": "76df2b18",
   "metadata": {},
   "outputs": [],
   "source": []
  }
 ],
 "metadata": {
  "kernelspec": {
   "display_name": "Python 3 (ipykernel)",
   "language": "python",
   "name": "python3"
  },
  "language_info": {
   "codemirror_mode": {
    "name": "ipython",
    "version": 3
   },
   "file_extension": ".py",
   "mimetype": "text/x-python",
   "name": "python",
   "nbconvert_exporter": "python",
   "pygments_lexer": "ipython3",
   "version": "3.9.4"
  }
 },
 "nbformat": 4,
 "nbformat_minor": 5
}
