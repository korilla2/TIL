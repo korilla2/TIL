{
 "cells": [
  {
   "cell_type": "code",
   "execution_count": 17,
   "metadata": {},
   "outputs": [],
   "source": [
    "import pandas as pd\n",
    "import numpy as np\n",
    "import matplotlib.pyplot as plt\n",
    "import matplotlib\n",
    "matplotlib.rcParams['font.family'] = 'Malgun Gothic'\n",
    "matplotlib.rcParams['font.size'] = 15\n",
    "matplotlib.rcParams['axes.unicode_minus'] = False\n"
   ]
  },
  {
   "cell_type": "code",
   "execution_count": 18,
   "metadata": {},
   "outputs": [],
   "source": [
    "df = pd.read_csv('C:/Users/BAUM/Desktop/multicampus/TIL/기본강의/시각화/data/상가업소정보_201912_01.csv', sep='|')"
   ]
  },
  {
   "cell_type": "code",
   "execution_count": 19,
   "metadata": {},
   "outputs": [
    {
     "data": {
      "text/plain": [
       "Index(['상가업소번호', '상호명', '지점명', '상권업종대분류코드', '상권업종대분류명', '상권업종중분류코드',\n",
       "       '상권업종중분류명', '상권업종소분류코드', '상권업종소분류명', '표준산업분류코드', '표준산업분류명', '시도코드',\n",
       "       '시도명', '시군구코드', '시군구명', '행정동코드', '행정동명', '법정동코드', '법정동명', '지번코드',\n",
       "       '대지구분코드', '대지구분명', '지번본번지', '지번부번지', '지번주소', '도로명코드', '도로명', '건물본번지',\n",
       "       '건물부번지', '건물관리번호', '건물명', '도로명주소', '구우편번호', '신우편번호', '동정보', '층정보',\n",
       "       '호정보', '경도', '위도'],\n",
       "      dtype='object')"
      ]
     },
     "execution_count": 19,
     "metadata": {},
     "output_type": "execute_result"
    }
   ],
   "source": [
    "df.columns"
   ]
  },
  {
   "cell_type": "code",
   "execution_count": 30,
   "metadata": {},
   "outputs": [],
   "source": [
    "filt = (df['상호명'].isin(['스타벅스'])) | (df['시도명'].isin(['서울특별시']))"
   ]
  },
  {
   "cell_type": "code",
   "execution_count": 31,
   "metadata": {},
   "outputs": [],
   "source": [
    "df = df[filt]"
   ]
  },
  {
   "cell_type": "code",
   "execution_count": 32,
   "metadata": {},
   "outputs": [
    {
     "name": "stdout",
     "output_type": "stream",
     "text": [
      "<class 'pandas.core.frame.DataFrame'>\n",
      "Int64Index: 302 entries, 1104 to 571052\n",
      "Data columns (total 39 columns):\n",
      " #   Column     Non-Null Count  Dtype  \n",
      "---  ------     --------------  -----  \n",
      " 0   상가업소번호     302 non-null    int64  \n",
      " 1   상호명        302 non-null    object \n",
      " 2   지점명        296 non-null    object \n",
      " 3   상권업종대분류코드  302 non-null    object \n",
      " 4   상권업종대분류명   302 non-null    object \n",
      " 5   상권업종중분류코드  302 non-null    object \n",
      " 6   상권업종중분류명   302 non-null    object \n",
      " 7   상권업종소분류코드  302 non-null    object \n",
      " 8   상권업종소분류명   302 non-null    object \n",
      " 9   표준산업분류코드   302 non-null    object \n",
      " 10  표준산업분류명    302 non-null    object \n",
      " 11  시도코드       302 non-null    int64  \n",
      " 12  시도명        302 non-null    object \n",
      " 13  시군구코드      302 non-null    int64  \n",
      " 14  시군구명       302 non-null    object \n",
      " 15  행정동코드      302 non-null    int64  \n",
      " 16  행정동명       302 non-null    object \n",
      " 17  법정동코드      302 non-null    int64  \n",
      " 18  법정동명       302 non-null    object \n",
      " 19  지번코드       302 non-null    int64  \n",
      " 20  대지구분코드     302 non-null    int64  \n",
      " 21  대지구분명      302 non-null    object \n",
      " 22  지번본번지      302 non-null    int64  \n",
      " 23  지번부번지      236 non-null    float64\n",
      " 24  지번주소       302 non-null    object \n",
      " 25  도로명코드      302 non-null    int64  \n",
      " 26  도로명        302 non-null    object \n",
      " 27  건물본번지      302 non-null    int64  \n",
      " 28  건물부번지      10 non-null     float64\n",
      " 29  건물관리번호     302 non-null    object \n",
      " 30  건물명        233 non-null    object \n",
      " 31  도로명주소      302 non-null    object \n",
      " 32  구우편번호      302 non-null    int64  \n",
      " 33  신우편번호      302 non-null    float64\n",
      " 34  동정보        11 non-null     object \n",
      " 35  층정보        239 non-null    object \n",
      " 36  호정보        42 non-null     object \n",
      " 37  경도         302 non-null    float64\n",
      " 38  위도         302 non-null    float64\n",
      "dtypes: float64(5), int64(11), object(23)\n",
      "memory usage: 94.4+ KB\n"
     ]
    }
   ],
   "source": [
    "df.info()"
   ]
  }
 ],
 "metadata": {
  "interpreter": {
   "hash": "646a77bc03f63a31e854881db733c8b8ef41ed62361b97bc930f4a5d5cb3c195"
  },
  "kernelspec": {
   "display_name": "Python 3.9.4 64-bit",
   "language": "python",
   "name": "python3"
  },
  "language_info": {
   "codemirror_mode": {
    "name": "ipython",
    "version": 3
   },
   "file_extension": ".py",
   "mimetype": "text/x-python",
   "name": "python",
   "nbconvert_exporter": "python",
   "pygments_lexer": "ipython3",
   "version": "3.9.4"
  },
  "orig_nbformat": 4
 },
 "nbformat": 4,
 "nbformat_minor": 2
}
