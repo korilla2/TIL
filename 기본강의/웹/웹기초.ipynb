{
 "cells": [
  {
   "cell_type": "markdown",
   "metadata": {},
   "source": [
    "# 웹이란?\n",
    "- World Wide Web\n",
    "- CERN\n",
    "  - 유명한 물리 연구소\n",
    "  - 최초의 웹이 개발된 곳 (팀 버너스리)"
   ]
  },
  {
   "cell_type": "markdown",
   "metadata": {},
   "source": [
    "## 웹의 원래 목적은?\n",
    "- 문서를 쉽게 공유하기 위한 목적으로 개발\n",
    "- 최초의 웹을 'Web 1.0' 이라고 표현하기도 함\n",
    "- 웹의 발전사에 따라서 2.0 3.0 ...\n",
    "- 사람마다 구분짓는게 다름\n",
    "- 1.0 은 문서를 표현하는 정적인 사이트\n",
    "- 2.0 은 자바스크립트의 출현으로 동적인 페이지가 나오기 시작\n",
    "- 3.0 은 cgi 기술이 나오기 시작 cgi 기술이 발전해서 지금의 백엔드가 되었음\n",
    "- 지금은 4.0 시대 html5 표준이 나온 시대\n",
    "- 자바스크립트가 표준 언어로 지정\n",
    "  - react, node, vue 등등...\n",
    "- 문서만 표현할 수 있었던 html이 비디오를 포함한 이미지, 음악 등도 같이 표현 가능\n",
    "- 문서를 표현하던 웹 페이지가 현재는 어플리케이션을 대신하고 있음"
   ]
  },
  {
   "cell_type": "markdown",
   "metadata": {},
   "source": [
    "## 웹의 동작 방식\n",
    "1. HTTP\n",
    "   - html로 이루어진 텍스트를 네트워크를 통해서 송/수신 하는 방법\n",
    "   - html로 이루어진 소스파일은 서버에 존재\n",
    "   - 브라우저는 서버로부터 html 소스파일을 전송받아서 화면에 출력\n",
    "\n",
    "2. HTML\n",
    "   - 하이퍼 텍스트로 이루어진 소스코드\n",
    "   - 마크업은 <> 로 이루어진 텍스트\n",
    "\n",
    "3. 프론트엔드 vs 백엔드\n",
    "   - 프론트 엔드\n",
    "     - 소스코드를 모두 다운로드해서 브라우저가 실행\n",
    "     - 소스코드가 모두 공개\n",
    "\n",
    "   - 백엔드\n",
    "     - 서버에서 실행\n",
    "     - 코드가 공개되어있지 않음\n",
    "     - 우리가 브라우저에서 보는 화면은 서버에서 실행된 뒤 반환된 값"
   ]
  },
  {
   "cell_type": "markdown",
   "metadata": {},
   "source": [
    "## http\n",
    "- 네크워크 전송 규약\n",
    "- 문자 프로토콜\n",
    "- 하이퍼 텍스트를 주고 받기 위한 네트워크 표준"
   ]
  },
  {
   "cell_type": "markdown",
   "metadata": {},
   "source": [
    "### 소켓 프로그래밍\n",
    "- 네트워크를 통한 입/출력(통신)을 하기 위한 프로그래밍\n",
    "- 수업시간에는 tcp socket 을 이용한 간단한 http 통신을 실습"
   ]
  },
  {
   "cell_type": "markdown",
   "metadata": {},
   "source": [
    "## Request Header\n",
    "\n",
    "- request_header = 'GET /index.html HTTP/1.1\\r\\n'\n",
    "- request_header += 'Host: info.cern.ch\\r\\n'\n",
    "- request_header += '\\r\\n'"
   ]
  },
  {
   "cell_type": "markdown",
   "metadata": {},
   "source": [
    "- 헤더 필드는 서버와의 통신에 필요한 여러가지 정보를 표현"
   ]
  },
  {
   "cell_type": "markdown",
   "metadata": {},
   "source": [
    "#### request-line\n",
    "\n",
    "- GET(method) /index.html(url) HTTP/1.1(protocol version)\\r\\n'(sep)\n",
    "- 공백으로 구분"
   ]
  }
 ],
 "metadata": {
  "interpreter": {
   "hash": "646a77bc03f63a31e854881db733c8b8ef41ed62361b97bc930f4a5d5cb3c195"
  },
  "kernelspec": {
   "display_name": "Python 3.9.4 64-bit",
   "language": "python",
   "name": "python3"
  },
  "language_info": {
   "name": "python",
   "version": "3.9.4"
  },
  "orig_nbformat": 4
 },
 "nbformat": 4,
 "nbformat_minor": 2
}
