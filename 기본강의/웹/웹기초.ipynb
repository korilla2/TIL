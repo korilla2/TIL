{
 "cells": [
  {
   "cell_type": "markdown",
   "metadata": {},
   "source": [
    "# 웹이란?\n",
    "- World Wide Web\n",
    "- CERN\n",
    "  - 유명한 물리 연구소\n",
    "  - 최초의 웹이 개발된 곳 (팀 버너스리)"
   ]
  },
  {
   "cell_type": "markdown",
   "metadata": {},
   "source": [
    "## 웹의 원래 목적은?\n",
    "- 문서를 쉽게 공유하기 위한 목적으로 개발\n",
    "- 최초의 웹을 'Web 1.0' 이라고 표현하기도 함\n",
    "- 웹의 발전사에 따라서 2.0 3.0 ...\n",
    "- 사람마다 구분짓는게 다름\n",
    "- 1.0 은 문서를 표현하는 정적인 사이트\n",
    "- 2.0 은 자바스크립트의 출현으로 동적인 페이지가 나오기 시작\n",
    "- 3.0 은 cgi 기술이 나오기 시작 cgi 기술이 발전해서 지금의 백엔드가 되었음\n",
    "- 지금은 4.0 시대 html5 표준이 나온 시대\n",
    "- 자바스크립트가 표준 언어로 지정\n",
    "  - react, node, vue 등등...\n",
    "- 문서만 표현할 수 있었던 html이 비디오를 포함한 이미지, 음악 등도 같이 표현 가능\n",
    "- 문서를 표현하던 웹 페이지가 현재는 어플리케이션을 대신하고 있음"
   ]
  },
  {
   "cell_type": "markdown",
   "metadata": {},
   "source": [
    "## 웹의 동작 방식\n",
    "1. HTTP\n",
    "   - html로 이루어진 텍스트를 네트워크를 통해서 송/수신 하는 방법\n",
    "   - html로 이루어진 소스파일은 서버에 존재\n",
    "   - 브라우저는 서버로부터 html 소스파일을 전송받아서 화면에 출력\n",
    "\n",
    "2. HTML\n",
    "   - 하이퍼 텍스트로 이루어진 소스코드\n",
    "   - 마크업은 <> 로 이루어진 텍스트\n",
    "\n",
    "3. 프론트엔드 vs 백엔드\n",
    "   - 프론트 엔드\n",
    "     - 소스코드를 모두 다운로드해서 브라우저가 실행\n",
    "     - 소스코드가 모두 공개\n",
    "\n",
    "   - 백엔드\n",
    "     - 서버에서 실행\n",
    "     - 코드가 공개되어있지 않음\n",
    "     - 우리가 브라우저에서 보는 화면은 서버에서 실행된 뒤 반환된 값"
   ]
  },
  {
   "cell_type": "markdown",
   "metadata": {},
   "source": [
    "## http\n",
    "- 네크워크 전송 규약\n",
    "- 문자 프로토콜\n",
    "- 하이퍼 텍스트를 주고 받기 위한 네트워크 표준"
   ]
  },
  {
   "cell_type": "markdown",
   "metadata": {},
   "source": [
    "### 소켓 프로그래밍\n",
    "- 네트워크를 통한 입/출력(통신)을 하기 위한 프로그래밍\n",
    "- 수업시간에는 tcp socket 을 이용한 간단한 http 통신을 실습"
   ]
  },
  {
   "cell_type": "markdown",
   "metadata": {},
   "source": [
    "## Request Header\n",
    "\n",
    "- request_header = 'GET /index.html HTTP/1.1\\r\\n'\n",
    "- request_header += 'Host: info.cern.ch\\r\\n'\n",
    "- request_header += '\\r\\n'"
   ]
  },
  {
   "cell_type": "markdown",
   "metadata": {},
   "source": [
    "- 헤더 필드는 서버와의 통신에 필요한 여러가지 정보를 표현"
   ]
  },
  {
   "cell_type": "markdown",
   "metadata": {},
   "source": [
    "#### request-line\n",
    "\n",
    "- GET(method) /index.html(url) HTTP/1.1(protocol version)\\r\\n'(sep)\n",
    "- 공백으로 구분"
   ]
  },
  {
   "cell_type": "markdown",
   "metadata": {},
   "source": [
    "## HTML\n",
    "- 제어문이 없음 (분기, 반복)\n",
    "- 문서의 구조를 표현\n",
    "- 자바스크립트가 html의 부족한 부분을 대신"
   ]
  },
  {
   "cell_type": "markdown",
   "metadata": {},
   "source": [
    "## TAG\n",
    "- < > 를 이용해 표현\n",
    "- 최상위 태그는 항상 HTML\n",
    "- head 와 body 는 HTML의 하위 태그\n",
    "- 들여쓰기로 계층적인 구조를 표현"
   ]
  },
  {
   "cell_type": "markdown",
   "metadata": {},
   "source": [
    "### heading\n",
    "- 제목을 푷현하는 태그\n",
    "- h1 ~ h6 까지 6단계로 구분"
   ]
  },
  {
   "cell_type": "markdown",
   "metadata": {},
   "source": [
    "### paragraph\n",
    "- 문단, 본문, 단락 등을 표현하는 용도\n",
    "- 일반적으로는 문자를 표현할 때 주로 사용\n",
    "- p 태그"
   ]
  },
  {
   "cell_type": "markdown",
   "metadata": {},
   "source": [
    "- br 태그로 엔터 효과를 낼 수 있습니다\n",
    "- '&nbsp ; &ensp ; &emsp ;' 얘네들로 공백, 띄어쓰기를 할 수 있습니다"
   ]
  },
  {
   "cell_type": "markdown",
   "metadata": {},
   "source": [
    "### 리스트\n",
    "- 목차, 목록 등을 표현할 때 사용\n",
    "- 정렬된 리스트 : Ordered List   ol 태그\n",
    "- 비정렬 리스트 : Unordered List    ul 태그"
   ]
  },
  {
   "cell_type": "markdown",
   "metadata": {},
   "source": [
    "### 이미지\n",
    "- img 태그는 내용이 없는 태그 중 하나\n",
    "- img scr='url/path'\n",
    "- height, width 속성으로 크기 조절"
   ]
  },
  {
   "cell_type": "markdown",
   "metadata": {},
   "source": [
    "### 테이블\n",
    "- 일반적인 문서에서 표에 해당하는 내용\n",
    "- 테이블을 이용해서 웹 페이지 레이아웃을 표현 하기도 함\n",
    "- html5 표준 부터는 div를 더 적극적으로 많이 사용\n",
    "- 테이블의 기본 구조"
   ]
  },
  {
   "cell_type": "code",
   "execution_count": null,
   "metadata": {},
   "outputs": [],
   "source": [
    "'''\n",
    "  <table>\n",
    "   <thead>\n",
    "     <tr>\n",
    "       <th></th>\n",
    "     <tr>\n",
    "   </thead>\n",
    "\n",
    "   <tbody>\n",
    "     <tr>\n",
    "       <td></td>\n",
    "     <tr>\n",
    "   </tbody>\n",
    "  </table>\n",
    "  '''\n"
   ]
  },
  {
   "cell_type": "markdown",
   "metadata": {},
   "source": [
    "### 하이퍼 링크\n",
    "- 지금의 웹이 만들어지는데 가장 중요한 기능\n",
    "- 봇 : 자동화된 프로그램\n",
    "- 웹 페이지도 봇에 의해서 자동으로 수집\n",
    "- 시드 페이지를 통해서 하이퍼 링크를 통해서 연결되어 있는 다른 웹 페이지를 찾는 방식\n",
    "- 전 세계에 흩어져 있는 웹 페이지를 전부 수집\n",
    "- 이렇게 수집된 페이지에서 사용자가 원하는 페이지를 가장 빠르게 검색해서 제공 해주던 사이트가 구글\n",
    "- a /a"
   ]
  },
  {
   "cell_type": "markdown",
   "metadata": {},
   "source": [
    "#### 속성\n",
    "- href : 연걸된 페이지의 주소\n",
    "- target : 연결된 페이지로 이돌되는 방식\n",
    "- _self : 현재 창에서 해당 페이지로 바로 이동\n",
    "- _blank : 새창에서 해당 페이지로 이동\n",
    "- _parent : 현재 창보다 상위 창에서 해당 페이지로 이동\n",
    "- _top : 최상위 창에서 해당 페이지로 이동"
   ]
  },
  {
   "cell_type": "markdown",
   "metadata": {},
   "source": [
    "### HTML Box Model\n",
    "- 태그들은 배치되는 형태에 따라서 크게 2가지로 분류\n",
    "- 어떤 태그를 사용하느냐에 따라서 레이아웃이 결정\n",
    "- Block 기반의 태그\n",
    "- Inline 기반의 태그"
   ]
  },
  {
   "cell_type": "markdown",
   "metadata": {},
   "source": [
    "#### Block 기반의 태그\n",
    "- DIV\n",
    "  - 익명태그\n",
    "  - 용도가 정해져 있지 않은 태그로, 활용성이 굉장히 높아서, 많이 사용"
   ]
  },
  {
   "cell_type": "markdown",
   "metadata": {},
   "source": [
    "#### Inlile 기반의 태그\n",
    "- span\n",
    "  - 익명태그\n",
    "  - 인라인 기반의 대표적인 태그"
   ]
  },
  {
   "cell_type": "markdown",
   "metadata": {},
   "source": [
    "### 입력 태그\n",
    "- 사용자로부터 웹 페이지를 입력을 받아서 서버에 전달하기 위한 용도"
   ]
  },
  {
   "cell_type": "markdown",
   "metadata": {},
   "source": [
    "#### form\n",
    "- post 방식으로 서버에 데이터를 전달\n",
    "- 가장 많이 사용되는 경우가 로그인 처리\n",
    "- 주요 속성\n",
    "- action : 입력 데이터를 처리할 서버의 url\n",
    "- method : 데이터를 전달하는 방법 (get/post)\n",
    "- get 방식 : url/uri를 통해서 전달, 데이터가 노출되므로 보안에 취약\n",
    "- post 방식 : 데이터를 별도의 방식으로 전달, 데이터가 쉽게 노출되지 않음, 암호화된 통신(https)을 사용하면 더욱 확인하기 어려움"
   ]
  },
  {
   "cell_type": "markdown",
   "metadata": {},
   "source": [
    "#### input\n",
    "- 입력받고자 하는 형태를 정의\n",
    "- text, radio button, checkbox, select, button, submit ...\n",
    "- 속성\n",
    "- name : 각 입력요소를 구분하는 중요한 속성, 데이터를 서버에 전달할 때 변수의 이름으로 사용, 반드시 정의해주는게 좋음"
   ]
  },
  {
   "cell_type": "markdown",
   "metadata": {},
   "source": [
    "## CSS\n",
    "- html 페이지에 추가적으로 디자인 서식을 적용하고 싶은 경우에 사용\n",
    "- 적용방법 3가지\n",
    "  1. inline style\n",
    "   - html 태그에 style 속성을 이용하는 방법\n",
    "   - 우선 순위가 가장 높음\n",
    "   - 왠만하면 사용하지 않는 것이 좋음\n",
    "  2. internal style\n",
    "   - html 코드 내에 style 태그를 이용해서 표현\n",
    "  3. external style\n",
    "   - 대부분 외부 스타일 시트를 이용해서(3번) 적용"
   ]
  },
  {
   "cell_type": "markdown",
   "metadata": {},
   "source": [
    "### 외부 스타일 시트\n",
    "- 스타일 시트 파일을 html 페이지에서 가져오는 방법\n",
    "- `<link rel=\"stylesheet\" , href=\"./css/style.css\" type=\"text/css\" />`"
   ]
  },
  {
   "cell_type": "markdown",
   "metadata": {},
   "source": [
    "### CSS 구조\n",
    "- 선택자(Selector) {속성이름1, 속성값1 속성값2 ... ;} {속성이름2, 속성값1 ...;}\n",
    "- 선택자 : 스타일을 적용할 태그가 됩니다\n",
    "- 속성과 속성값은 `:` 으로 구분\n",
    "- 속성과 속성은 `;` 으로 구분\n",
    "- 속성값이 여러개인 경우는 공백으로 구분"
   ]
  },
  {
   "cell_type": "markdown",
   "metadata": {},
   "source": [
    "#### 글자와 관련된 속성들\n",
    "- 폰트, 글자 크기, 글자 색 등등\n",
    "- 스타일도 상속이 가능한 속성이 있음\n",
    "- 부모 태그에서 자식 태그로 상속이 가능\n",
    "- 부모 태그에 속성을 지정한 경우 자식 태그들도 동일한 스타일이 적용\n",
    "- 무조건 상속이 되지는 않음\n",
    "- 글자와 관련된 속성들은 상속이 가능한 대표적 속성\n",
    "- `html {\n",
    "  font-size: 16px;\n",
    "}`\n",
    "- 글꼴은 font-family 로 지정가능\n",
    "- 로컬에 해당 글꼴이 설치되어 있어야 사용 가능\n",
    "- 없는 글꼴을 사용하는 경우에 화면이 깨질 수 있음\n",
    "- 여러개의 글꼴을 지정(기본글꼴)\n",
    "- 글꼴들이 전부 없는 경우에는 기본글꼴이 사용될 수 있도록 세팅\n",
    "- serif, sand-serif, monospace ..."
   ]
  },
  {
   "cell_type": "markdown",
   "metadata": {},
   "source": [
    "### Selector\n",
    "- CSS-Selector\n",
    "- 스타일을 원하는 태그에 정확하게 적용하기 위한 여러가지 방법\n",
    "- CSS에서만 사용하지 않고, 다른 곳에서도 동일한 셀렉터를 지원\n",
    "- 태그셀렉터, id셀렉터, class셀렉터 등이 많이 사용"
   ]
  },
  {
   "cell_type": "markdown",
   "metadata": {},
   "source": [
    "#### 전체 선택자\n",
    "- 와일드카드 `*`\n",
    "- 모든 태그를 선택\n",
    "- `*{}`"
   ]
  },
  {
   "cell_type": "markdown",
   "metadata": {},
   "source": [
    "#### 태그 선택자\n",
    "- `태그이름{}`"
   ]
  },
  {
   "cell_type": "markdown",
   "metadata": {},
   "source": [
    "#### id 선택자\n",
    "- id 속성에 따라서 선택\n",
    "- `#id{}`\n",
    "- id 속성은 html 페이지 전체에서 단 하나의 값을 가져야 함"
   ]
  },
  {
   "cell_type": "markdown",
   "metadata": {},
   "source": [
    "#### class 선택자\n",
    "- class 속성에 따라서 선택\n",
    "- `.class{}`\n",
    "- class 속성은 중복 가능한 값을 가질 수 있음"
   ]
  },
  {
   "cell_type": "markdown",
   "metadata": {},
   "source": [
    "#### 그룹 선택자\n",
    "- 여러개의 선택자를 동시에 사용\n",
    "- `,`로 구분\n",
    "- `p, div, span`"
   ]
  },
  {
   "cell_type": "markdown",
   "metadata": {},
   "source": [
    "#### 하위 선택자\n",
    "- 태그들의 계층 구조를 이용해서 선택\n",
    "- 공백으로 표현\n",
    "- `상위선택자 하위선택자{}`"
   ]
  },
  {
   "cell_type": "markdown",
   "metadata": {},
   "source": [
    "#### 자식 선택자\n",
    "- 계층구조를 이용한 선택자\n",
    "- `>`로 표현\n",
    "- 바로 밑의 태그만 인정"
   ]
  },
  {
   "cell_type": "markdown",
   "metadata": {},
   "source": [
    "### box-model\n",
    "- html에서 태그는 영역에 따라서 상자로 표현할 수 있는데 이를 박스모델이라 함\n",
    "- mrgin\n",
    "  - margin-left\n",
    "  - margin-right\n",
    "  - margin-top\n",
    "  - margin-bottom\n",
    "- border\n",
    "- padding\n",
    "  - padding-left\n",
    "  - padding-right\n",
    "  - padding-top\n",
    "  - padding-bottom\n",
    "- border를 기준으로 바깥쪽 여백을 margin, 안쪽여백을 padding\n"
   ]
  },
  {
   "cell_type": "markdown",
   "metadata": {},
   "source": [
    "### navigation bar\n",
    "- ul 을 이용해서 표현\n",
    "- li 태그들은 블록기반이 아닌 인라인기반으로 표현\n",
    "- display 속성을 이용해서 변경가능"
   ]
  },
  {
   "cell_type": "markdown",
   "metadata": {},
   "source": [
    "### position\n",
    "- 태그의 위치를 지정\n",
    "- static (default)\n",
    "- relative\n",
    "- absolute\n",
    "- fixed"
   ]
  }
 ],
 "metadata": {
  "interpreter": {
   "hash": "646a77bc03f63a31e854881db733c8b8ef41ed62361b97bc930f4a5d5cb3c195"
  },
  "kernelspec": {
   "display_name": "Python 3.9.4 64-bit",
   "language": "python",
   "name": "python3"
  },
  "language_info": {
   "codemirror_mode": {
    "name": "ipython",
    "version": 3
   },
   "file_extension": ".py",
   "mimetype": "text/x-python",
   "name": "python",
   "nbconvert_exporter": "python",
   "pygments_lexer": "ipython3",
   "version": "3.9.4"
  },
  "orig_nbformat": 4
 },
 "nbformat": 4,
 "nbformat_minor": 2
}
