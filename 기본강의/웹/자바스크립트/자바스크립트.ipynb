{
 "cells": [
  {
   "cell_type": "markdown",
   "metadata": {},
   "source": [
    "# 자바스트립트"
   ]
  },
  {
   "cell_type": "markdown",
   "metadata": {},
   "source": [
    "## 실행환경\n",
    "1. 웹 브라우저에서 실행\n",
    "- 웹 브라우저의 개발자 도구에서 console을 이용해 실행가능\n",
    "- 웹 브라우저가 인터프리터의 역할을 수행\n",
    "- url에 javascript:alert('hello javascript') 통해 실행\n",
    "- html `<script></script>` 코드 내에서 실행\n",
    "- html 파일이 브라우저에서 로드될 때 자동으로 실행\n",
    "\n",
    "2. node.js를 이용한 실행\n",
    "- 브라우저 없이도 자바스크립트 코드를 실행\n",
    "- node.js는 자바스크립트를 실행할 수 있는 인터프리터의 역할을 수행"
   ]
  },
  {
   "cell_type": "markdown",
   "metadata": {},
   "source": [
    "### 기초문법\n",
    "- 파이썬과 자바스크립트의 차이점을 기준으로 자바스크립트의 특징을 살펴보자"
   ]
  }
 ],
 "metadata": {
  "interpreter": {
   "hash": "646a77bc03f63a31e854881db733c8b8ef41ed62361b97bc930f4a5d5cb3c195"
  },
  "kernelspec": {
   "display_name": "Python 3.9.4 64-bit",
   "language": "python",
   "name": "python3"
  },
  "language_info": {
   "name": "python",
   "version": "3.9.4"
  },
  "orig_nbformat": 4
 },
 "nbformat": 4,
 "nbformat_minor": 2
}
