{
 "cells": [
  {
   "cell_type": "code",
   "execution_count": 1,
   "metadata": {},
   "outputs": [],
   "source": [
    "import pandas as pd"
   ]
  },
  {
   "cell_type": "code",
   "execution_count": 39,
   "metadata": {},
   "outputs": [],
   "source": [
    "name = 'skhynix'\n",
    "code = '018670'\n",
    "kospi = 'KS'\n",
    "kosdaq = 'KQ'\n",
    "file_name = f'{name}.csv'\n"
   ]
  },
  {
   "cell_type": "code",
   "execution_count": 40,
   "metadata": {},
   "outputs": [],
   "source": [
    "df = pd.read_csv(f'./{file_name}')\n",
    "df.rename(columns={'Unnamed: 0': 'Date'}, inplace=True)\n",
    "df.set_index('Date', inplace=True)"
   ]
  },
  {
   "cell_type": "code",
   "execution_count": 41,
   "metadata": {},
   "outputs": [],
   "source": [
    "import pandas as pd\n",
    "import pandas_datareader.data as web\n",
    "import datetime\n",
    "start = datetime.datetime(2011, 1, 1)\n",
    "end = datetime.datetime(2020, 12, 1)\n",
    "\n",
    "price = web.DataReader(f\"{code}.KS\", \"yahoo\", start=start, end=end)\n"
   ]
  },
  {
   "cell_type": "code",
   "execution_count": 42,
   "metadata": {},
   "outputs": [],
   "source": [
    "temp = pd.DataFrame(columns=['ROIC'], index=df.index)\n",
    "for i in range(len(df.index)):\n",
    "    temp.loc[df.index[i], 'ROIC'] = (\n",
    "        (df.loc[df.index[i], '영업이익(손실)'] -\n",
    "          df.loc[df.index[i], '법인세비용']) / df.loc[df.index[i], '자산총계']) * 100\n",
    "temp.drop(temp.index[0], inplace=True)"
   ]
  },
  {
   "cell_type": "code",
   "execution_count": 43,
   "metadata": {},
   "outputs": [
    {
     "name": "stderr",
     "output_type": "stream",
     "text": [
      "C:\\Users\\BAUM\\AppData\\Local\\Temp\\ipykernel_15236\\2731422660.py:3: FutureWarning: Indexing a DataFrame with a datetimelike index using a single string to slice the rows, like `frame[string]`, is deprecated and will be removed in a future version. Use `frame.loc[string]` instead.\n",
      "  k = price[f'{i}']['Close'].mean()\n"
     ]
    }
   ],
   "source": [
    "temp2 = []\n",
    "for i in range(2011, 2020):\n",
    "    k = price[f'{i}']['Close'].mean()\n",
    "    temp2.append(round(k))\n"
   ]
  },
  {
   "cell_type": "code",
   "execution_count": 44,
   "metadata": {},
   "outputs": [],
   "source": [
    "temp['year_price']= temp2\n"
   ]
  },
  {
   "cell_type": "code",
   "execution_count": 45,
   "metadata": {},
   "outputs": [
    {
     "data": {
      "text/html": [
       "<div>\n",
       "<style scoped>\n",
       "    .dataframe tbody tr th:only-of-type {\n",
       "        vertical-align: middle;\n",
       "    }\n",
       "\n",
       "    .dataframe tbody tr th {\n",
       "        vertical-align: top;\n",
       "    }\n",
       "\n",
       "    .dataframe thead th {\n",
       "        text-align: right;\n",
       "    }\n",
       "</style>\n",
       "<table border=\"1\" class=\"dataframe\">\n",
       "  <thead>\n",
       "    <tr style=\"text-align: right;\">\n",
       "      <th></th>\n",
       "      <th>ROIC</th>\n",
       "      <th>year_price</th>\n",
       "    </tr>\n",
       "    <tr>\n",
       "      <th>Date</th>\n",
       "      <th></th>\n",
       "      <th></th>\n",
       "    </tr>\n",
       "  </thead>\n",
       "  <tbody>\n",
       "    <tr>\n",
       "      <th>20111231</th>\n",
       "      <td>1.554558</td>\n",
       "      <td>54443</td>\n",
       "    </tr>\n",
       "    <tr>\n",
       "      <th>20121231</th>\n",
       "      <td>-1.001909</td>\n",
       "      <td>68923</td>\n",
       "    </tr>\n",
       "    <tr>\n",
       "      <th>20131231</th>\n",
       "      <td>15.27947</td>\n",
       "      <td>72067</td>\n",
       "    </tr>\n",
       "    <tr>\n",
       "      <th>20141231</th>\n",
       "      <td>15.834992</td>\n",
       "      <td>95358</td>\n",
       "    </tr>\n",
       "    <tr>\n",
       "      <th>20151231</th>\n",
       "      <td>14.794083</td>\n",
       "      <td>83450</td>\n",
       "    </tr>\n",
       "    <tr>\n",
       "      <th>20161231</th>\n",
       "      <td>9.376622</td>\n",
       "      <td>86100</td>\n",
       "    </tr>\n",
       "    <tr>\n",
       "      <th>20171231</th>\n",
       "      <td>24.051846</td>\n",
       "      <td>107218</td>\n",
       "    </tr>\n",
       "    <tr>\n",
       "      <th>20181231</th>\n",
       "      <td>23.630376</td>\n",
       "      <td>86715</td>\n",
       "    </tr>\n",
       "    <tr>\n",
       "      <th>20191231</th>\n",
       "      <td>3.528941</td>\n",
       "      <td>80654</td>\n",
       "    </tr>\n",
       "  </tbody>\n",
       "</table>\n",
       "</div>"
      ],
      "text/plain": [
       "               ROIC  year_price\n",
       "Date                           \n",
       "20111231   1.554558       54443\n",
       "20121231  -1.001909       68923\n",
       "20131231   15.27947       72067\n",
       "20141231  15.834992       95358\n",
       "20151231  14.794083       83450\n",
       "20161231   9.376622       86100\n",
       "20171231  24.051846      107218\n",
       "20181231  23.630376       86715\n",
       "20191231   3.528941       80654"
      ]
     },
     "execution_count": 45,
     "metadata": {},
     "output_type": "execute_result"
    }
   ],
   "source": [
    "temp"
   ]
  },
  {
   "cell_type": "code",
   "execution_count": 46,
   "metadata": {},
   "outputs": [],
   "source": [
    "temp.to_csv(f'./{name}_base.csv')"
   ]
  },
  {
   "cell_type": "code",
   "execution_count": null,
   "metadata": {},
   "outputs": [],
   "source": []
  }
 ],
 "metadata": {
  "interpreter": {
   "hash": "646a77bc03f63a31e854881db733c8b8ef41ed62361b97bc930f4a5d5cb3c195"
  },
  "kernelspec": {
   "display_name": "Python 3.9.4 64-bit",
   "language": "python",
   "name": "python3"
  },
  "language_info": {
   "codemirror_mode": {
    "name": "ipython",
    "version": 3
   },
   "file_extension": ".py",
   "mimetype": "text/x-python",
   "name": "python",
   "nbconvert_exporter": "python",
   "pygments_lexer": "ipython3",
   "version": "3.9.4"
  },
  "orig_nbformat": 4
 },
 "nbformat": 4,
 "nbformat_minor": 2
}
