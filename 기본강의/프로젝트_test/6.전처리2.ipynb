{
 "cells": [
  {
   "cell_type": "code",
   "execution_count": 110,
   "metadata": {},
   "outputs": [],
   "source": [
    "import pandas as pd"
   ]
  },
  {
   "cell_type": "code",
   "execution_count": 197,
   "metadata": {},
   "outputs": [],
   "source": [
    "name = 'nexongt'\n",
    "code = '041140'\n",
    "kospi = 'KS'\n",
    "kosdaq = 'KQ'\n",
    "file_name = f'{name}.csv'\n"
   ]
  },
  {
   "cell_type": "code",
   "execution_count": 198,
   "metadata": {},
   "outputs": [],
   "source": [
    "df = pd.read_csv(f'./{file_name}')\n",
    "df.rename(columns={'Unnamed: 0': 'Date'}, inplace=True)\n",
    "df.set_index('Date', inplace=True)"
   ]
  },
  {
   "cell_type": "code",
   "execution_count": 199,
   "metadata": {},
   "outputs": [],
   "source": [
    "import pandas as pd\n",
    "import pandas_datareader.data as web\n",
    "import datetime\n",
    "start = datetime.datetime(2011, 1, 1)\n",
    "end = datetime.datetime(2020, 12, 1)\n",
    "\n",
    "price = web.DataReader(f\"{code}.KQ\", \"yahoo\", start=start, end=end)\n"
   ]
  },
  {
   "cell_type": "code",
   "execution_count": 205,
   "metadata": {},
   "outputs": [],
   "source": [
    "temp = pd.DataFrame(columns=['ROIC'], index=df.index)\n",
    "for i in range(len(df.index)-1):\n",
    "    temp.loc[df.index[i+1], 'ROIC'] = (\n",
    "        ((df.loc[df.index[i+1], '영업이익(손실)'] -\n",
    "          df.loc[df.index[i+1], '법인세비용']) / ((df.loc[df.index[i], '자산총계'] + df.loc[df.index[i+1], '자산총계'])/3.5)) * 100)\n",
    "temp.drop(temp.index[0], inplace=True)"
   ]
  },
  {
   "cell_type": "code",
   "execution_count": 217,
   "metadata": {},
   "outputs": [
    {
     "name": "stderr",
     "output_type": "stream",
     "text": [
      "C:\\Users\\BAUM\\AppData\\Local\\Temp\\ipykernel_13032\\741156703.py:3: FutureWarning: Indexing a DataFrame with a datetimelike index using a single string to slice the rows, like `frame[string]`, is deprecated and will be removed in a future version. Use `frame.loc[string]` instead.\n",
      "  k = price[f'{i}']['Close'].mean()\n"
     ]
    }
   ],
   "source": [
    "temp2 = []\n",
    "for i in range(2011, 2019):\n",
    "    k = price[f'{i}']['Close'].mean()\n",
    "    temp2.append(round(k))\n"
   ]
  },
  {
   "cell_type": "code",
   "execution_count": 221,
   "metadata": {},
   "outputs": [
    {
     "name": "stderr",
     "output_type": "stream",
     "text": [
      "C:\\Users\\BAUM\\AppData\\Local\\Temp\\ipykernel_13032\\2251762599.py:1: SettingWithCopyWarning: \n",
      "A value is trying to be set on a copy of a slice from a DataFrame\n",
      "\n",
      "See the caveats in the documentation: https://pandas.pydata.org/pandas-docs/stable/user_guide/indexing.html#returning-a-view-versus-a-copy\n",
      "  temp['year_price'][:-1] = temp2\n"
     ]
    }
   ],
   "source": [
    "temp['year_price'][:-1] = temp2\n"
   ]
  },
  {
   "cell_type": "code",
   "execution_count": 222,
   "metadata": {},
   "outputs": [
    {
     "data": {
      "text/html": [
       "<div>\n",
       "<style scoped>\n",
       "    .dataframe tbody tr th:only-of-type {\n",
       "        vertical-align: middle;\n",
       "    }\n",
       "\n",
       "    .dataframe tbody tr th {\n",
       "        vertical-align: top;\n",
       "    }\n",
       "\n",
       "    .dataframe thead th {\n",
       "        text-align: right;\n",
       "    }\n",
       "</style>\n",
       "<table border=\"1\" class=\"dataframe\">\n",
       "  <thead>\n",
       "    <tr style=\"text-align: right;\">\n",
       "      <th></th>\n",
       "      <th>ROIC</th>\n",
       "      <th>year_price</th>\n",
       "    </tr>\n",
       "    <tr>\n",
       "      <th>Date</th>\n",
       "      <th></th>\n",
       "      <th></th>\n",
       "    </tr>\n",
       "  </thead>\n",
       "  <tbody>\n",
       "    <tr>\n",
       "      <th>20111231</th>\n",
       "      <td>39.291889</td>\n",
       "      <td>11971.0</td>\n",
       "    </tr>\n",
       "    <tr>\n",
       "      <th>20121231</th>\n",
       "      <td>40.35278</td>\n",
       "      <td>9004.0</td>\n",
       "    </tr>\n",
       "    <tr>\n",
       "      <th>20131231</th>\n",
       "      <td>31.192065</td>\n",
       "      <td>7400.0</td>\n",
       "    </tr>\n",
       "    <tr>\n",
       "      <th>20141231</th>\n",
       "      <td>10.518712</td>\n",
       "      <td>10502.0</td>\n",
       "    </tr>\n",
       "    <tr>\n",
       "      <th>20151231</th>\n",
       "      <td>17.750897</td>\n",
       "      <td>13992.0</td>\n",
       "    </tr>\n",
       "    <tr>\n",
       "      <th>20161231</th>\n",
       "      <td>14.630708</td>\n",
       "      <td>10172.0</td>\n",
       "    </tr>\n",
       "    <tr>\n",
       "      <th>20171231</th>\n",
       "      <td>-1.185485</td>\n",
       "      <td>9852.0</td>\n",
       "    </tr>\n",
       "    <tr>\n",
       "      <th>20181231</th>\n",
       "      <td>-25.955222</td>\n",
       "      <td>13427.0</td>\n",
       "    </tr>\n",
       "    <tr>\n",
       "      <th>20191231</th>\n",
       "      <td>-31.501551</td>\n",
       "      <td>NaN</td>\n",
       "    </tr>\n",
       "  </tbody>\n",
       "</table>\n",
       "</div>"
      ],
      "text/plain": [
       "               ROIC  year_price\n",
       "Date                           \n",
       "20111231  39.291889     11971.0\n",
       "20121231   40.35278      9004.0\n",
       "20131231  31.192065      7400.0\n",
       "20141231  10.518712     10502.0\n",
       "20151231  17.750897     13992.0\n",
       "20161231  14.630708     10172.0\n",
       "20171231  -1.185485      9852.0\n",
       "20181231 -25.955222     13427.0\n",
       "20191231 -31.501551         NaN"
      ]
     },
     "execution_count": 222,
     "metadata": {},
     "output_type": "execute_result"
    }
   ],
   "source": [
    "temp"
   ]
  },
  {
   "cell_type": "code",
   "execution_count": 223,
   "metadata": {},
   "outputs": [],
   "source": [
    "temp.to_csv(f'./{name}_base.csv')"
   ]
  },
  {
   "cell_type": "code",
   "execution_count": null,
   "metadata": {},
   "outputs": [],
   "source": []
  }
 ],
 "metadata": {
  "interpreter": {
   "hash": "646a77bc03f63a31e854881db733c8b8ef41ed62361b97bc930f4a5d5cb3c195"
  },
  "kernelspec": {
   "display_name": "Python 3.9.4 64-bit",
   "language": "python",
   "name": "python3"
  },
  "language_info": {
   "codemirror_mode": {
    "name": "ipython",
    "version": 3
   },
   "file_extension": ".py",
   "mimetype": "text/x-python",
   "name": "python",
   "nbconvert_exporter": "python",
   "pygments_lexer": "ipython3",
   "version": "3.9.4"
  },
  "orig_nbformat": 4
 },
 "nbformat": 4,
 "nbformat_minor": 2
}
