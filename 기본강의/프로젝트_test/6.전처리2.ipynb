{
 "cells": [
  {
   "cell_type": "code",
   "execution_count": 97,
   "metadata": {},
   "outputs": [],
   "source": [
    "import pandas as pd"
   ]
  },
  {
   "cell_type": "code",
   "execution_count": 98,
   "metadata": {},
   "outputs": [],
   "source": [
    "name = 'nexongt'\n",
    "code = '041140'\n",
    "kospi = 'KS'\n",
    "kosdaq = 'KQ'\n",
    "file_name = f'{name}.csv'\n"
   ]
  },
  {
   "cell_type": "code",
   "execution_count": 99,
   "metadata": {},
   "outputs": [],
   "source": [
    "df = pd.read_csv(f'./{file_name}')\n",
    "df.rename(columns={'Unnamed: 0': 'Date'}, inplace=True)\n",
    "df.set_index('Date', inplace=True)"
   ]
  },
  {
   "cell_type": "code",
   "execution_count": 100,
   "metadata": {},
   "outputs": [],
   "source": [
    "import pandas as pd\n",
    "import pandas_datareader.data as web\n",
    "import datetime\n",
    "start = datetime.datetime(2011, 1, 1)\n",
    "end = datetime.datetime(2020, 12, 1)\n",
    "try:\n",
    "    price = web.DataReader(f\"{code}.KS\", \"yahoo\", start=start, end=end)\n",
    "except:\n",
    "    price = web.DataReader(f\"{code}.KQ\", \"yahoo\", start=start, end=end)\n"
   ]
  },
  {
   "cell_type": "code",
   "execution_count": 101,
   "metadata": {},
   "outputs": [],
   "source": [
    "temp = pd.DataFrame(columns=['유동비율', '부채비율', 'ROE',\n",
    "                    'ROIC', '영업이익률', '매출액증가율', '자기자본증가율'], index=df.index)\n",
    "for i in range(1, len(df.index)):\n",
    "    temp.loc[df.index[i], 'ROIC'] = (\n",
    "        (df.loc[df.index[i], '영업이익(손실)'] -\n",
    "          df.loc[df.index[i], '법인세비용']) / df.loc[df.index[i], '자산총계']) * 100\n",
    "    temp.loc[df.index[i], '유동비율'] = (\n",
    "        (df.loc[df.index[i], '유동자산'] / df.loc[df.index[i], '유동부채']) * 100)\n",
    "    temp.loc[df.index[i], '부채비율'] = (df.loc[df.index[i], '부채총계'] / df.loc[df.index[i], '자본총계']) * 100\n",
    "    temp.loc[df.index[i], '영업이익률'] = (\n",
    "        (df.loc[df.index[i], '영업이익(손실)'] / df.loc[df.index[i], '영업수익']) * 100)\n",
    "    temp.loc[df.index[i], 'ROE'] = (df.loc[df.index[i], '당기순이익(손실)'] /\n",
    "                                      df.loc[df.index[i], '자본총계'] * 100)\n",
    "    temp.loc[df.index[i], '매출액증가율'] = (\n",
    "        ((df.loc[df.index[i], '영업수익'] - df.loc[df.index[i-1], '영업수익']) / df.loc[df.index[i-1], '영업수익']) * 100)\n",
    "    temp.loc[df.index[i], '자기자본증가율'] = (\n",
    "        ((df.loc[df.index[i], '자본총계'] - df.loc[df.index[i-1], '자본총계']) / df.loc[df.index[i-1], '자본총계']) * 100)\n",
    "temp.drop(temp.index[0], inplace=True)"
   ]
  },
  {
   "cell_type": "code",
   "execution_count": 102,
   "metadata": {},
   "outputs": [
    {
     "name": "stderr",
     "output_type": "stream",
     "text": [
      "C:\\Users\\BAUM\\AppData\\Local\\Temp\\ipykernel_23332\\3037944185.py:4: FutureWarning: Indexing a DataFrame with a datetimelike index using a single string to slice the rows, like `frame[string]`, is deprecated and will be removed in a future version. Use `frame.loc[string]` instead.\n",
      "  k = price[f'{i}']['Close'].mean()\n",
      "C:\\Users\\BAUM\\AppData\\Local\\Temp\\ipykernel_23332\\3037944185.py:9: FutureWarning: Indexing a DataFrame with a datetimelike index using a single string to slice the rows, like `frame[string]`, is deprecated and will be removed in a future version. Use `frame.loc[string]` instead.\n",
      "  k = price[f'{i}']['Close'].mean()\n"
     ]
    }
   ],
   "source": [
    "try:\n",
    "    temp2 = []\n",
    "    for i in range(2011, 2020):\n",
    "        k = price[f'{i}']['Close'].mean()\n",
    "        temp2.append(round(k))\n",
    "except:\n",
    "    temp2 = []\n",
    "    for i in range(2011, 2019):\n",
    "        k = price[f'{i}']['Close'].mean()\n",
    "        temp2.append(round(k))\n"
   ]
  },
  {
   "cell_type": "code",
   "execution_count": 104,
   "metadata": {},
   "outputs": [],
   "source": [
    "try:\n",
    "    temp['year_price']= temp2\n",
    "except:\n",
    "    temp.drop(temp.index[-1], inplace=True)\n",
    "    temp['year_price'] = temp2"
   ]
  },
  {
   "cell_type": "code",
   "execution_count": 105,
   "metadata": {},
   "outputs": [
    {
     "data": {
      "text/html": [
       "<div>\n",
       "<style scoped>\n",
       "    .dataframe tbody tr th:only-of-type {\n",
       "        vertical-align: middle;\n",
       "    }\n",
       "\n",
       "    .dataframe tbody tr th {\n",
       "        vertical-align: top;\n",
       "    }\n",
       "\n",
       "    .dataframe thead th {\n",
       "        text-align: right;\n",
       "    }\n",
       "</style>\n",
       "<table border=\"1\" class=\"dataframe\">\n",
       "  <thead>\n",
       "    <tr style=\"text-align: right;\">\n",
       "      <th></th>\n",
       "      <th>유동비율</th>\n",
       "      <th>부채비율</th>\n",
       "      <th>ROE</th>\n",
       "      <th>ROIC</th>\n",
       "      <th>영업이익률</th>\n",
       "      <th>매출액증가율</th>\n",
       "      <th>자기자본증가율</th>\n",
       "      <th>year_price</th>\n",
       "    </tr>\n",
       "    <tr>\n",
       "      <th>Date</th>\n",
       "      <th></th>\n",
       "      <th></th>\n",
       "      <th></th>\n",
       "      <th></th>\n",
       "      <th></th>\n",
       "      <th></th>\n",
       "      <th></th>\n",
       "      <th></th>\n",
       "    </tr>\n",
       "  </thead>\n",
       "  <tbody>\n",
       "    <tr>\n",
       "      <th>20111231</th>\n",
       "      <td>436.160465</td>\n",
       "      <td>39.754083</td>\n",
       "      <td>3.770237</td>\n",
       "      <td>23.864468</td>\n",
       "      <td>48.339074</td>\n",
       "      <td>2.085861</td>\n",
       "      <td>17.710862</td>\n",
       "      <td>11971</td>\n",
       "    </tr>\n",
       "    <tr>\n",
       "      <th>20121231</th>\n",
       "      <td>545.954936</td>\n",
       "      <td>24.045279</td>\n",
       "      <td>21.11579</td>\n",
       "      <td>21.724837</td>\n",
       "      <td>54.223484</td>\n",
       "      <td>28.646773</td>\n",
       "      <td>27.40379</td>\n",
       "      <td>9004</td>\n",
       "    </tr>\n",
       "    <tr>\n",
       "      <th>20131231</th>\n",
       "      <td>693.1007</td>\n",
       "      <td>16.541452</td>\n",
       "      <td>21.041821</td>\n",
       "      <td>16.266967</td>\n",
       "      <td>41.239684</td>\n",
       "      <td>4.161248</td>\n",
       "      <td>28.972241</td>\n",
       "      <td>7400</td>\n",
       "    </tr>\n",
       "    <tr>\n",
       "      <th>20141231</th>\n",
       "      <td>614.485688</td>\n",
       "      <td>18.869191</td>\n",
       "      <td>8.693009</td>\n",
       "      <td>5.49255</td>\n",
       "      <td>32.502902</td>\n",
       "      <td>14.496961</td>\n",
       "      <td>18.466137</td>\n",
       "      <td>10502</td>\n",
       "    </tr>\n",
       "    <tr>\n",
       "      <th>20151231</th>\n",
       "      <td>744.583446</td>\n",
       "      <td>15.028758</td>\n",
       "      <td>13.717883</td>\n",
       "      <td>9.557785</td>\n",
       "      <td>33.507965</td>\n",
       "      <td>-5.010268</td>\n",
       "      <td>16.827793</td>\n",
       "      <td>13992</td>\n",
       "    </tr>\n",
       "    <tr>\n",
       "      <th>20161231</th>\n",
       "      <td>1068.90403</td>\n",
       "      <td>9.005583</td>\n",
       "      <td>11.385379</td>\n",
       "      <td>8.310894</td>\n",
       "      <td>29.076205</td>\n",
       "      <td>1.74882</td>\n",
       "      <td>6.790402</td>\n",
       "      <td>10172</td>\n",
       "    </tr>\n",
       "    <tr>\n",
       "      <th>20171231</th>\n",
       "      <td>226.716697</td>\n",
       "      <td>40.160103</td>\n",
       "      <td>-10.676193</td>\n",
       "      <td>-0.634301</td>\n",
       "      <td>-4.70619</td>\n",
       "      <td>-19.457286</td>\n",
       "      <td>-10.882907</td>\n",
       "      <td>9852</td>\n",
       "    </tr>\n",
       "    <tr>\n",
       "      <th>20181231</th>\n",
       "      <td>166.41933</td>\n",
       "      <td>65.231724</td>\n",
       "      <td>-24.455131</td>\n",
       "      <td>-15.006762</td>\n",
       "      <td>-77.614256</td>\n",
       "      <td>-34.122742</td>\n",
       "      <td>-17.131475</td>\n",
       "      <td>13427</td>\n",
       "    </tr>\n",
       "  </tbody>\n",
       "</table>\n",
       "</div>"
      ],
      "text/plain": [
       "                유동비율       부채비율        ROE       ROIC      영업이익률     매출액증가율  \\\n",
       "Date                                                                          \n",
       "20111231  436.160465  39.754083   3.770237  23.864468  48.339074   2.085861   \n",
       "20121231  545.954936  24.045279   21.11579  21.724837  54.223484  28.646773   \n",
       "20131231    693.1007  16.541452  21.041821  16.266967  41.239684   4.161248   \n",
       "20141231  614.485688  18.869191   8.693009    5.49255  32.502902  14.496961   \n",
       "20151231  744.583446  15.028758  13.717883   9.557785  33.507965  -5.010268   \n",
       "20161231  1068.90403   9.005583  11.385379   8.310894  29.076205    1.74882   \n",
       "20171231  226.716697  40.160103 -10.676193  -0.634301   -4.70619 -19.457286   \n",
       "20181231   166.41933  65.231724 -24.455131 -15.006762 -77.614256 -34.122742   \n",
       "\n",
       "            자기자본증가율  year_price  \n",
       "Date                             \n",
       "20111231  17.710862       11971  \n",
       "20121231   27.40379        9004  \n",
       "20131231  28.972241        7400  \n",
       "20141231  18.466137       10502  \n",
       "20151231  16.827793       13992  \n",
       "20161231   6.790402       10172  \n",
       "20171231 -10.882907        9852  \n",
       "20181231 -17.131475       13427  "
      ]
     },
     "execution_count": 105,
     "metadata": {},
     "output_type": "execute_result"
    }
   ],
   "source": [
    "temp"
   ]
  },
  {
   "cell_type": "code",
   "execution_count": 106,
   "metadata": {},
   "outputs": [],
   "source": [
    "temp.to_csv(f'./{name}_base.csv')"
   ]
  },
  {
   "cell_type": "code",
   "execution_count": null,
   "metadata": {},
   "outputs": [],
   "source": []
  }
 ],
 "metadata": {
  "interpreter": {
   "hash": "646a77bc03f63a31e854881db733c8b8ef41ed62361b97bc930f4a5d5cb3c195"
  },
  "kernelspec": {
   "display_name": "Python 3.9.4 64-bit",
   "language": "python",
   "name": "python3"
  },
  "language_info": {
   "codemirror_mode": {
    "name": "ipython",
    "version": 3
   },
   "file_extension": ".py",
   "mimetype": "text/x-python",
   "name": "python",
   "nbconvert_exporter": "python",
   "pygments_lexer": "ipython3",
   "version": "3.9.4"
  },
  "orig_nbformat": 4
 },
 "nbformat": 4,
 "nbformat_minor": 2
}
